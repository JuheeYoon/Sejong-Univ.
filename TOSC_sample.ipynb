{
  "nbformat": 4,
  "nbformat_minor": 0,
  "metadata": {
    "colab": {
      "provenance": []
    },
    "kernelspec": {
      "name": "python3",
      "display_name": "Python 3"
    },
    "language_info": {
      "name": "python"
    }
  },
  "cells": [
    {
      "cell_type": "markdown",
      "source": [
        "# **문제 1-1**"
      ],
      "metadata": {
        "id": "2kKcRJq8JCLr"
      }
    },
    {
      "cell_type": "code",
      "execution_count": null,
      "metadata": {
        "colab": {
          "base_uri": "https://localhost:8080/"
        },
        "id": "DyaAHIQbI9c9",
        "outputId": "32f5ec10-215f-4b3d-cff3-65e71b27067b"
      },
      "outputs": [
        {
          "output_type": "stream",
          "name": "stdout",
          "text": [
            "4\n",
            "10\n",
            "24500\n"
          ]
        }
      ],
      "source": [
        "numberlist = [1,2,3,4,5,6] # 원두번호 목록\n",
        "pricelist = [200,100,150,300,250,400] # 원가 목록\n",
        "deliverylist = [100,50,150,250,300,350] # 배송비 목록\n",
        "\n",
        "a = int(input()) # 원두번호 입력\n",
        "b = int(input()) # 개수 입력\n",
        "\n",
        "for i in range(len(numberlist)):\n",
        "    if a == numberlist[i]:\n",
        "        price = pricelist[i]\n",
        "        delivery = deliverylist[i]\n",
        "\n",
        "sell = (price*b)*10\n",
        "pure = sell - (price*b) - (delivery*b)\n",
        "\n",
        "print(pure)"
      ]
    },
    {
      "cell_type": "markdown",
      "source": [
        "# **문제 1-2**"
      ],
      "metadata": {
        "id": "qyIWPOLeJiVv"
      }
    },
    {
      "cell_type": "code",
      "source": [
        "numberlist = [1,2,3,4,5,6] # 원두번호 목록\n",
        "pricelist = [200,100,150,300,250,400] # 원가 목록\n",
        "deliverylist = [100,50,150,250,300,350] # 배송비 목록\n",
        "\n",
        "a = int(input()) # 원두 총 개수\n",
        "b = 0\n",
        "sell = 0\n",
        "cost = 0\n",
        "delivery = 0\n",
        "\n",
        "while b < a:\n",
        "    n1 = int(input()) # 원두 번호\n",
        "    n2 = int(input()) # 개수\n",
        "    b += n2\n",
        "    if b > a:\n",
        "      break\n",
        "\n",
        "    for i in range(len(numberlist)):\n",
        "        if n1 == numberlist[i]:\n",
        "            oneprice = pricelist[i]\n",
        "            onedelivery = deliverylist[i]\n",
        "\n",
        "    sell += (oneprice * n2 * 10)\n",
        "    cost += (oneprice * n2)\n",
        "    delivery += (onedelivery * n2)\n",
        "\n",
        "pure = sell - cost - delivery\n",
        "print(pure)"
      ],
      "metadata": {
        "colab": {
          "base_uri": "https://localhost:8080/"
        },
        "id": "gbBZlWtQJl3P",
        "outputId": "5df208cc-d6a3-41d8-a5ac-b7a340046f89"
      },
      "execution_count": null,
      "outputs": [
        {
          "output_type": "stream",
          "name": "stdout",
          "text": [
            "20\n",
            "4\n",
            "10\n",
            "2\n",
            "4\n",
            "2\n",
            "1\n",
            "6\n",
            "3\n",
            "1\n",
            "3\n",
            "38500\n"
          ]
        }
      ]
    },
    {
      "cell_type": "markdown",
      "source": [
        "# **문제 1-3**"
      ],
      "metadata": {
        "id": "9dDMF008O-tI"
      }
    },
    {
      "cell_type": "code",
      "source": [
        "numberlist = [1,2,3,4,5,6] # 원두번호 목록\n",
        "pricelist = [200,100,150,300,250,400] # 원가 목록\n",
        "deliverylist = [100,50,150,250,300,350] # 배송비 목록\n",
        "\n",
        "sell = [0 for i in range(len(numberlist))] # 아메리카노 판매금액\n",
        "cost = [0 for i in range(len(numberlist))] # 원두 원가\n",
        "delivery = [0 for i in range(len(numberlist))] # 배송비\n",
        "order_number = [0 for i in range(len(numberlist))] # 원두별 주문 개수\n",
        "sequence = []\n",
        "\n",
        "# 원두 번호 입력\n",
        "a = int(input()) # 원두 번호\n",
        "while a != 0:\n",
        "  if a not in sequence:\n",
        "    sequence.append(a)\n",
        "  for i in range(len(numberlist)):\n",
        "    if a == numberlist[i]:\n",
        "      order_number[i] += 1\n",
        "  a = int(input()) # 원두 번호\n",
        "  if a == 0:\n",
        "    break\n",
        "\n",
        "# 원두별 판매금액, 원가, 배송비의 총합 계산\n",
        "for i in range(len(order_number)):\n",
        "  sell[i] = pricelist[i] * order_number[i] * 10\n",
        "  cost[i] = pricelist[i] * order_number[i]\n",
        "  delivery[i] = deliverylist[i] * order_number[i]\n",
        "\n",
        "# 원두 할인\n",
        "for i in range(len(order_number)):\n",
        "  if order_number[i] == 2:\n",
        "    cost[i] *= 0.9\n",
        "  elif order_number[i] >= 3:\n",
        "    cost[i] *= 0.8\n",
        "\n",
        "# 원두 배송비\n",
        "if sum(order_number) >= 5:\n",
        "  max = 0\n",
        "  max_num = 0 # max인 원두 번호(index 아님)\n",
        "  for i in range(len(delivery)):\n",
        "    if max < delivery[i]:\n",
        "      max = delivery[i]\n",
        "      max_num = numberlist[i]\n",
        "    elif max == delivery[i]:\n",
        "      m1 = sequence.index(max_num)\n",
        "      m2 = sequence.index(numberlist[i])\n",
        "      if m2 < m1:\n",
        "        max = delivery[i]\n",
        "        max_num = numberlist[i]\n",
        "\n",
        "  delivery[max_num-1] = 0\n",
        "\n",
        "for i in range(len(sequence)):\n",
        "  num = sequence[i]-1\n",
        "  print(int(sell[num]-cost[num]-delivery[num]))\n",
        "\n"
      ],
      "metadata": {
        "colab": {
          "base_uri": "https://localhost:8080/"
        },
        "id": "eokq8FqSPBig",
        "outputId": "3a151233-cbd6-48b6-c7b1-4f59cc5b0fd0"
      },
      "execution_count": null,
      "outputs": [
        {
          "output_type": "stream",
          "name": "stdout",
          "text": [
            "1\n",
            "5\n",
            "1\n",
            "3\n",
            "4\n",
            "3\n",
            "1\n",
            "0\n",
            "5520\n",
            "1950\n",
            "2430\n",
            "2450\n"
          ]
        }
      ]
    },
    {
      "cell_type": "markdown",
      "source": [
        "**==> 시발 ~ 존나 빡치네 50점짜리임..**"
      ],
      "metadata": {
        "id": "ZfAepZ3DZK7t"
      }
    },
    {
      "cell_type": "markdown",
      "source": [
        "#문제 1-3 $\\rightarrow$ 문제에서 원할 것 같은 풀이"
      ],
      "metadata": {
        "id": "oQtP3pvcZOyY"
      }
    },
    {
      "cell_type": "code",
      "source": [
        "numberlist = [1,2,3,4,5,6] # 원두번호 목록\n",
        "pricelist = [200,100,150,300,250,400] # 원가 목록\n",
        "deliverylist = [100,50,150,250,300,350] # 배송비 목록\n",
        "\n",
        "### step 1. 원두 번호가 0이 입력될 때까지 원두 번호를 입력받는다.\n",
        "inputlist = [] # 입력받은 원두 번호\n",
        "sequence = [] # 입력된 원두 번호 순서\n",
        "a = int(input())\n",
        "while a != 0:\n",
        "  inputlist.append(a)\n",
        "  if a not in sequence:\n",
        "    sequence.append(a)\n",
        "  a = int(input())\n",
        "\n",
        "### step 2. 원가를 통한 판매금액을 계산한다.\n",
        "sell = [0 for i in range(len(sequence))] # 입력된 원두 번호 순서의 판매 금액\n",
        "for i in range(len(inputlist)):\n",
        "  price = (pricelist[numberlist.index(inputlist[i])])*10\n",
        "  sell[sequence.index(inputlist[i])] += price\n",
        "\n",
        "### step 3. 순수익을 계산한다.\n",
        "## 원두 번호별 개수 계산\n",
        "seqN = [0 for i in range(len(sequence))]\n",
        "for i in range(len(inputlist)):\n",
        "  seqN[sequence.index(inputlist[i])] += 1\n",
        "## 원두 원가 계산\n",
        "cost = [0 for i in range(len(sequence))] # 입력된 원두 번호 순서의 원가\n",
        "for i in range(len(seqN)):\n",
        "  if seqN[i] == 2:\n",
        "    cost[i] = pricelist[numberlist.index(sequence[i])] * 0.9 * seqN[i]\n",
        "  elif seqN[i] >= 3:\n",
        "    cost[i] = pricelist[numberlist.index(sequence[i])] * 0.8 * seqN[i]\n",
        "  else:\n",
        "    cost[i] = pricelist[numberlist.index(sequence[i])] * seqN[i]\n",
        "## 원두 배송비 계산\n",
        "delivery = [0 for i in range(len(sequence))] # 입력된 원두 번호 순서의 배송비\n",
        "if sum(seqN) > 5:\n",
        "  for i in range(len(seqN)):\n",
        "    delivery[i] = deliverylist[numberlist.index(sequence[i])] * seqN[i]\n",
        "  max = 0\n",
        "  max_index = 0\n",
        "  for i in range(len(seqN)):\n",
        "    if max < delivery[i]:\n",
        "      max = delivery[i]\n",
        "      max_index = i\n",
        "  delivery[max_index] = 0\n",
        "\n",
        "### step 4. 입력된 원두 번호 순서대로 각 원두별 아메리카노 판매 순수익 출력\n",
        "for i in range(len(seqN)):\n",
        "  total = int(sell[i]-cost[i]-delivery[i])\n",
        "  print(total)"
      ],
      "metadata": {
        "colab": {
          "base_uri": "https://localhost:8080/"
        },
        "id": "g8JkvRKkXi6n",
        "outputId": "0b7fa694-9c5e-4563-91ef-408f827c45bb"
      },
      "execution_count": null,
      "outputs": [
        {
          "output_type": "stream",
          "name": "stdout",
          "text": [
            "1\n",
            "5\n",
            "1\n",
            "3\n",
            "4\n",
            "3\n",
            "1\n",
            "0\n",
            "5520\n",
            "1950\n",
            "2430\n",
            "2450\n"
          ]
        }
      ]
    },
    {
      "cell_type": "markdown",
      "source": [
        "#문제 1-3 $\\rightarrow$ 다른 사람 풀이"
      ],
      "metadata": {
        "id": "Dq64EZ-_y1W8"
      }
    },
    {
      "cell_type": "code",
      "source": [
        "\n",
        "price = [0, 200, 100, 150, 300, 250, 400]\n",
        "deliver = [0, 100, 50, 150, 250, 300, 350]\n",
        "result = [0, 0, 0, 0, 0, 0, 0]\n",
        "count = 0\n",
        "\n",
        "li = []\n",
        "\n",
        "while(True):\n",
        "    a = int(input())\n",
        "    if a != 0:\n",
        "        li.append(a)\n",
        "    else:\n",
        "        break\n",
        "\n",
        "\n",
        "n = len(li)\n",
        "result = []\n",
        "\n",
        "while len(li) > 0:\n",
        "    b = li[0]\n",
        "    q = li.count(b)\n",
        "\n",
        "    if q <= 1 :\n",
        "        s = q*(10*price[b] - price[b] - deliver[b])\n",
        "    elif q == 2:\n",
        "        s = q*(10*price[b] - price[b]*0.9 - deliver[b])\n",
        "    else:\n",
        "        s = q*(10*price[b] - price[b]*0.8 - deliver[b])\n",
        "\n",
        "    shipping = deliver[b]*q\n",
        "    result.append([s, shipping])\n",
        "\n",
        "    for i in range(q):\n",
        "        li.remove(b)\n",
        "\n",
        "\n",
        "len_re = len(result)\n",
        "if n > 5:\n",
        "    max = 0\n",
        "    max_index = 0\n",
        "    for j in range(0, len_re):\n",
        "        if max < result[j][1]:\n",
        "            max = result[j][1]\n",
        "            max_index = j\n",
        "        else:\n",
        "            continue\n",
        "    result[max_index][0] = result[max_index][0] + result[max_index][1]\n",
        "else:\n",
        "    pass\n",
        "\n",
        "for i in range(len_re):\n",
        "    print(\"%d\" %(result[i][0]))"
      ],
      "metadata": {
        "colab": {
          "base_uri": "https://localhost:8080/"
        },
        "id": "SmrG20gfse3o",
        "outputId": "cab11be6-5ab3-41dd-ef9d-0e56ebce2aed"
      },
      "execution_count": null,
      "outputs": [
        {
          "output_type": "stream",
          "name": "stdout",
          "text": [
            "1\n",
            "5\n",
            "1\n",
            "3\n",
            "4\n",
            "3\n",
            "1\n",
            "0\n",
            "5520\n",
            "1950\n",
            "2430\n",
            "2450\n"
          ]
        }
      ]
    }
  ]
}