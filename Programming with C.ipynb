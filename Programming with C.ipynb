{
  "cells": [
    {
      "cell_type": "markdown",
      "metadata": {
        "id": "7O1-ixyvIXqm"
      },
      "source": [
        "# **1주차.** 강의 소개\n",
        "\n"
      ]
    },
    {
      "cell_type": "markdown",
      "metadata": {
        "id": "8NDNQUtNMFoq"
      },
      "source": [
        "**2. 프로그래밍 개요**\n",
        "\n",
        "- 프로그램과 프로그래밍\n",
        "  - 프로그램 : 운동회의 순서나 음악회의 연주 곡목 순서 등 미리 짜 놓은 것\n",
        "  - 컴퓨터 프로그램 : 컴퓨터가 수행해야 하는 일의 순서와 방법을 나타냄 ⇒ 순서에 따라 한 번에 하나씩 실행되는 명령어로 구성\n",
        "  - 프로그래밍 : 프로그래밍 언어를 이용하여 프로그램을 개발하는 행위\n",
        "\n",
        "- 프로그래밍 언어 ( 저급언어 → 고급언어 순으로 )\n",
        "  - 기계어 : 컴퓨터가 이해할 수 있는 언어로 0과 1의 이진 코드로 구성\n",
        "  - 어셈블리어 : 기계어의 명령어를 사람이 이해할 수 있는 단어로 일대일로 대응시킨 언어\n",
        "  - 고급언어 : 사람의 사고 체계에 적합하게 만들어진 언어 ( C언어, C++, C#, Java, Python 등 )\n",
        "\n",
        "- 절차형 vs 객체 지향\n",
        "  - 절차형(C, Basic, Fortran, Pascal 등) : 실행할 일련의 처리를 묶어 절차 정의 → 절차를 호출하며 처리 진행\n",
        "  - 객체지향(C++, Python, Java, JavaScript, Scratch 등) : 데이터와 조작을 하나로 묶은 것을 객체(오브젝트)라고 함 → 사전에 정의한 방법을 통해 객체 내부에 있는 데이터 액세스 가능\n",
        "\n",
        "- C언어의 장, 단점\n",
        "  - C언어의 장점\n",
        "    - 이식성이 높음(highly portable language)\n",
        "    - 구조화된 프로그래밍 언어\n",
        "    - 하드웨어의 미세한 조정까지 가능\n",
        "    - 고급 및 저급 수준의 특징을 동시에 포함\n",
        "  - C언어의 단점\n",
        "    - 저급 수준의 특징을 가지다 보니 타 고급 언어에 비해서 프로그램 이해가 어려움\n",
        "    - 자유도가 높음 ⇒ 장점이자 단점\n",
        "\n",
        "- 비트와 바이트\n",
        "  - 컴퓨터에서 처리되는 정보는 기본적으로 0과 1로 구성된 이진수로 표현\n",
        "  - 비트(bit) : 한 자리 이진수로 표현되는 정보 단위\n",
        "  - 바이트(byte) : 8개의 비트를 묶은 정보 단위 (1바이트 = 8비트)\n",
        "\n",
        "- 소프트웨어 개발 과정 : 분석 → 설계 → 구현 → 테스트 → 관리 및 개선"
      ]
    },
    {
      "cell_type": "markdown",
      "metadata": {
        "id": "ETD27wTOO7CG"
      },
      "source": [
        "\n",
        "\n",
        "---\n",
        "\n"
      ]
    },
    {
      "cell_type": "markdown",
      "metadata": {
        "id": "GDpTWO-8L_EE"
      },
      "source": [
        "**3. C 프로그램 작성하기**\n",
        "\n",
        "- C프로그램이 만들어 지는 과정 : 소스 파일 →[컴파일러]→ 오브젝트 파일 →[라이브러리 파일(링커)]→ 실행 파일\n",
        "  - 소스 파일 : 컴퓨터가 수행해야할 일을 명세한 텍스트 파일\n",
        "  - 오브젝트 파일 : 소스 파일을 기계어로 번역된 것\n",
        "  - 라이브러리 파일 : 널리 사용되는 기능을 미리 구현해 놓은 파일\n",
        "  - 실행 파일 : 오브젝트, 라이브러리, 시동 코드를 결합한 것\n",
        "  - 컴파일 : 소스 파일을 기계어로 변환하는 것\n",
        "\n",
        "- VS를 이용한 C프로그램 개발 단계\n",
        "  1. 프로젝트 생성\n",
        "  2. 소스 코드 작성\n",
        "  3. 프로그램 빌드 (실행 파일 생성)\n",
        "  4. 프로그램 실행"
      ]
    },
    {
      "cell_type": "code",
      "execution_count": null,
      "metadata": {
        "colab": {
          "base_uri": "https://localhost:8080/"
        },
        "id": "sa2jlU-dIS1T",
        "outputId": "94fb19ec-75b0-46cd-acfb-6928d2a1b8a0"
      },
      "outputs": [
        {
          "name": "stdout",
          "output_type": "stream",
          "text": [
            "Overwriting week1_3.c\n"
          ]
        }
      ],
      "source": [
        "# 파일 작성\n",
        "%%writefile week1_3.c\n",
        "\n",
        "#include <stdio.h>\n",
        "\n",
        "int main()\n",
        "{\n",
        "  printf(\"Hello, World!\");\n",
        "  return 0;\n",
        "}"
      ]
    },
    {
      "cell_type": "code",
      "execution_count": null,
      "metadata": {
        "colab": {
          "base_uri": "https://localhost:8080/"
        },
        "id": "nIde831BLAfU",
        "outputId": "7d46a04f-011f-4c44-b3b3-cba83ff48c00"
      },
      "outputs": [
        {
          "name": "stdout",
          "output_type": "stream",
          "text": [
            "Hello, World!"
          ]
        },
        {
          "data": {
            "text/plain": []
          },
          "execution_count": 5,
          "metadata": {},
          "output_type": "execute_result"
        }
      ],
      "source": [
        "# 파일 실행(불러오기)\n",
        "%%shell\n",
        "gcc week1_3.c -o bout\n",
        "./bout"
      ]
    },
    {
      "cell_type": "markdown",
      "metadata": {
        "id": "kheOMVRQLQQe"
      },
      "source": [
        "# **2주차.** 변수와 자료형"
      ]
    },
    {
      "cell_type": "markdown",
      "metadata": {
        "id": "BWEnlAC_TOBd"
      },
      "source": [
        "**1. C 프로그램 시작 (2)**"
      ]
    },
    {
      "cell_type": "markdown",
      "metadata": {
        "id": "tYpTCRSlP_rp"
      },
      "source": [
        "- 나의 첫 C 프로그램\n",
        "  - `#include <stdio.h>` : 표준 입출력(standard input output)을 포함(include)하라\n",
        "\n",
        "- 들여쓰기와 주석 : 가독성을 위한 수단으로 문법적 의미는 없음\n",
        "  - 들여쓰기 : [Tab] 키나 [Space] 키 사용\n",
        "  - 주석 : `/*   */` 사이의 내용이나 `//` 이후부터 해당 라인 끝까지의 내용을 주석 처리\n",
        "\n",
        "- 오류의 종류와 디버깅\n",
        "  - 버그(bug) : 프로그램에 존재하는 오류\n",
        "  - 디버깅(debugging) : 오류를 고치는 행위\n",
        "  - 컴파일 오류 : 문법적 오류, 컴파일러가 문법을 검사하여 오류가 있으면 알려줌\n",
        "  - 컴파일 경고 : 오류는 아니지만, 오류의 가능성이 있는 부분\n",
        "  - 런타임 오류(runtime error) 또는 실행 오류 : 프로그램의 결과가 의도와 다르거나 비정상적으로 종료되는 경우"
      ]
    },
    {
      "cell_type": "markdown",
      "metadata": {
        "id": "BycOMtCzTFzT"
      },
      "source": [
        "- 화면에 내용 출력하기\n",
        "  - `printf()` 함수 : 큰 따옴표(\"\")의 시작과 끝 사이에 있는 내용 출력 ⇒ 큰 따옴표 밖의 공백은 출력에 전혀 영향 없고, 내부 공백만 출력에 영향을 줌\n",
        "  - 각 줄마다 따로 출력하려면 개행 문자 (`\\n`) 사용\n",
        "\n",
        "- 정수 값 출력 : `%d` ⇒ 출력할 값은 두 번째 큰 따옴표(\")와 콤마(,) 뒤에 명시"
      ]
    },
    {
      "cell_type": "code",
      "execution_count": null,
      "metadata": {
        "colab": {
          "base_uri": "https://localhost:8080/"
        },
        "id": "lsYec_mNSVPR",
        "outputId": "d78fe6f1-14b4-4fc8-9d87-107c356760b7"
      },
      "outputs": [
        {
          "name": "stdout",
          "output_type": "stream",
          "text": [
            "Overwriting week2_1-1.c\n"
          ]
        }
      ],
      "source": [
        "# 파일 작성\n",
        "%%writefile week2_1-1.c\n",
        "\n",
        "#include <stdio.h>\n",
        "\n",
        "int main()\n",
        "{\n",
        "  printf(\"100\");\n",
        "  printf(\"\\n\");\n",
        "  printf(\"%d\", 100);\n",
        "  printf(\"\\n\");\n",
        "\n",
        "  printf(\"\\n\");\n",
        "  printf(\"100+200\");\n",
        "  printf(\"\\n\");\n",
        "  printf(\"%d\", 100+200);\n",
        "  printf(\"\\n\");\n",
        "\n",
        "  return 0;\n",
        "}"
      ]
    },
    {
      "cell_type": "code",
      "execution_count": null,
      "metadata": {
        "colab": {
          "base_uri": "https://localhost:8080/"
        },
        "id": "B8emIAoNS4yh",
        "outputId": "aaa5ec96-81fe-4031-f30b-36ec168aa29c"
      },
      "outputs": [
        {
          "name": "stdout",
          "output_type": "stream",
          "text": [
            "100\n",
            "100\n",
            "\n",
            "100+200\n",
            "300\n"
          ]
        },
        {
          "data": {
            "text/plain": []
          },
          "execution_count": 9,
          "metadata": {},
          "output_type": "execute_result"
        }
      ],
      "source": [
        "# 파일 실행(불러오기)\n",
        "%%shell\n",
        "gcc week2_1-1.c -o bout\n",
        "./bout"
      ]
    },
    {
      "cell_type": "markdown",
      "metadata": {
        "id": "W0N85A1BTSdU"
      },
      "source": [
        "- 변수에 저장된 값 출력 : 변수에 저장된 값도 동일한 방식으로 화면에 출력\n",
        "\n",
        "- 키보드를 이용하여 값 입력 받기 : `scanf()` 함수는 큰 따옴표 안에 있는 서식 지정자에 따라 값을 입력 받음\n",
        "\n",
        "- `scanf()` 함수 사용법\n",
        "  - 예 : `scanf(\"%d\", &a);`\n",
        "  - printf 함수와 달리, 변수 a **앞에 & 기호**를 붙여야 함"
      ]
    },
    {
      "cell_type": "code",
      "execution_count": null,
      "metadata": {
        "colab": {
          "base_uri": "https://localhost:8080/"
        },
        "id": "opMydvPgUFl9",
        "outputId": "fa65106d-7dfd-4cd2-bdc8-3940211b227a"
      },
      "outputs": [
        {
          "name": "stdout",
          "output_type": "stream",
          "text": [
            "Writing week2_1-2.c\n"
          ]
        }
      ],
      "source": [
        "# 파일 작성\n",
        "%%writefile week2_1-2.c\n",
        "\n",
        "#include <stdio.h>\n",
        "\n",
        "int main()\n",
        "{\n",
        "  /* 변수 선언 */\n",
        "  int id;\n",
        "  int age;\n",
        "\n",
        "  printf(\"학번 입력 : \");\n",
        "  scanf(\"%d\", &id);\n",
        "  printf(\"입력 학번 : %d \\n\", id);\n",
        "\n",
        "  printf(\"나이 입력 : \");\n",
        "  scanf(\"%d\", &age);\n",
        "  printf(\"입력 나이 : %d \\n\", age);\n",
        "\n",
        "  return 0;\n",
        "}"
      ]
    },
    {
      "cell_type": "code",
      "execution_count": null,
      "metadata": {
        "colab": {
          "base_uri": "https://localhost:8080/"
        },
        "id": "sI6Ciy9vU-Gc",
        "outputId": "14c8a981-58a3-412d-b2f8-a0c0fe436ba1"
      },
      "outputs": [
        {
          "name": "stdout",
          "output_type": "stream",
          "text": [
            "학번 입력 : 18010434\n",
            "입력 학번 : 18010434 \n",
            "나이 입력 : 23\n",
            "입력 나이 : 23 \n"
          ]
        },
        {
          "data": {
            "text/plain": []
          },
          "execution_count": 11,
          "metadata": {},
          "output_type": "execute_result"
        }
      ],
      "source": [
        "# 파일 실행(불러오기)\n",
        "%%shell\n",
        "gcc week2_1-2.c -o bout\n",
        "./bout"
      ]
    },
    {
      "cell_type": "code",
      "execution_count": null,
      "metadata": {
        "colab": {
          "base_uri": "https://localhost:8080/"
        },
        "id": "PNdlKAoWVHfG",
        "outputId": "f25ce937-f574-427d-ce94-0f4640ae2cfc"
      },
      "outputs": [
        {
          "name": "stdout",
          "output_type": "stream",
          "text": [
            "Writing week2_1-3.c\n"
          ]
        }
      ],
      "source": [
        "# 파일 작성\n",
        "%%writefile week2_1-3.c\n",
        "\n",
        "#include <stdio.h>\n",
        "\n",
        "int main()\n",
        "{\n",
        "  /* 변수 선언 */\n",
        "  int id;\n",
        "  int age;\n",
        "\n",
        "  printf(\"학번과 나이 입력 : \");\n",
        "  scanf(\"%d %d\", &id, &age);\n",
        "  printf(\"입력한 학번과 나이 : %d %d \\n\", id, age);\n",
        "\n",
        "  return 0;\n",
        "}"
      ]
    },
    {
      "cell_type": "code",
      "execution_count": null,
      "metadata": {
        "colab": {
          "base_uri": "https://localhost:8080/"
        },
        "id": "HD6nedGHVffK",
        "outputId": "c075ebae-9c04-41d1-99ab-ba61e3e4fad9"
      },
      "outputs": [
        {
          "name": "stdout",
          "output_type": "stream",
          "text": [
            "학번과 나이 입력 : 18010434 23\n",
            "입력한 학번과 나이 : 18010434 23 \n"
          ]
        },
        {
          "data": {
            "text/plain": []
          },
          "execution_count": 13,
          "metadata": {},
          "output_type": "execute_result"
        }
      ],
      "source": [
        "# 파일 실행(불러오기)\n",
        "%%shell\n",
        "gcc week2_1-3.c -o bout\n",
        "./bout"
      ]
    },
    {
      "cell_type": "markdown",
      "metadata": {
        "id": "iyffFUtuVe-n"
      },
      "source": [
        "\n",
        "\n",
        "---\n",
        "\n"
      ]
    },
    {
      "cell_type": "markdown",
      "metadata": {
        "id": "MQzcKzEQQY_X"
      },
      "source": [
        "**2. 변수**"
      ]
    },
    {
      "cell_type": "markdown",
      "metadata": {
        "id": "UKA3p2pNVtHh"
      },
      "source": [
        "- 변수와 자료형\n",
        "  - 변수 : 값을 담을 그릇\n",
        "  - 자료형 : 그릇의 모양\n",
        "\n",
        "- 변수, 자료형, 상수\n",
        "  - 변수 : 값을 저장하기 위한 기억 장소 ⇒ 사용하기 전에 반드시 선언 !\n",
        "  - 자료형 : 자료 값의 형태 ⇒ 컴퓨터 내부에서 값이 저장되고 처리되는 방식을 결정짓는 매우 중요한 요소\n",
        "  - 상수 : 변하지 않는 수로 변수와 대비되는 개념"
      ]
    },
    {
      "cell_type": "markdown",
      "metadata": {
        "id": "xi3oUx3XWUgg"
      },
      "source": [
        "- 변수 선언 : 자료형을 앞에 명시한 후 사용할 변수 이름을 적음\n",
        "\n",
        "- 변수 값 저장 : 선언된 변수에 값을 저장하기 위해서는 대입연산자 '=' 사용\n",
        "\n",
        "- 변수의 위치에 따라 의미 다름\n",
        "  - 대입 연산자(=) 왼쪽 : 저장 공간 자체\n",
        "  - 대입 연산자(=) 오른쪽 : 저장된 값"
      ]
    },
    {
      "cell_type": "code",
      "execution_count": null,
      "metadata": {
        "colab": {
          "base_uri": "https://localhost:8080/"
        },
        "id": "OJXUB4o1Xm84",
        "outputId": "5298bd73-3db8-4e31-be42-29f150f98a96"
      },
      "outputs": [
        {
          "name": "stdout",
          "output_type": "stream",
          "text": [
            "Writing week2_2-1.c\n"
          ]
        }
      ],
      "source": [
        "# 파일 작성\n",
        "%%writefile week2_2-1.c\n",
        "\n",
        "#include <stdio.h>\n",
        "\n",
        "int main()\n",
        "{\n",
        "  /* 변수 선언 */\n",
        "  int id;\n",
        "  int credits;\n",
        "\n",
        "  id = 18010434;\n",
        "  credits = 9;\n",
        "\n",
        "  printf(\"학번 : %d\\n\", id);\n",
        "  printf(\"신청학점 : %d\\n\", credits);\n",
        "\n",
        "  return 0;\n",
        "}"
      ]
    },
    {
      "cell_type": "code",
      "execution_count": null,
      "metadata": {
        "colab": {
          "base_uri": "https://localhost:8080/"
        },
        "id": "Am-e110bX9Az",
        "outputId": "a341b398-6395-465f-d6c8-5a31e3ca7857"
      },
      "outputs": [
        {
          "name": "stdout",
          "output_type": "stream",
          "text": [
            "학번 : 18010434\n",
            "신청학점 : 9\n"
          ]
        },
        {
          "data": {
            "text/plain": []
          },
          "execution_count": 15,
          "metadata": {},
          "output_type": "execute_result"
        }
      ],
      "source": [
        "# 파일 실행(불러오기)\n",
        "%%shell\n",
        "gcc week2_2-1.c -o bout\n",
        "./bout"
      ]
    },
    {
      "cell_type": "markdown",
      "metadata": {
        "id": "UpbK94_HYDkw"
      },
      "source": [
        "- 변수 초기화\n",
        "  - 변수를 선언만 하고 값을 대입하지 않으면 쓰레기 값(garbage value)이 저장되어 있음\n",
        "  - 선언과 동시에 변수 값 지정(변수 초기화)\n",
        "    - 예 > `int num = 123;`\n",
        "  - 여러 변수 동시 초기화 가능, 일부 변수만 초기화 가능\n",
        "    - 예 > `int a = 123, b = 456, c;`"
      ]
    },
    {
      "cell_type": "code",
      "execution_count": null,
      "metadata": {
        "colab": {
          "base_uri": "https://localhost:8080/"
        },
        "id": "XJdKijJLYeak",
        "outputId": "ce351444-b848-4e63-b479-2ddc31522eee"
      },
      "outputs": [
        {
          "name": "stdout",
          "output_type": "stream",
          "text": [
            "Overwriting week2_2-2.c\n"
          ]
        }
      ],
      "source": [
        "# 파일 작성\n",
        "%%writefile week2_2-2.c\n",
        "\n",
        "#include <stdio.h>\n",
        "\n",
        "int main()\n",
        "{\n",
        "  int math = 99;\n",
        "  int korean = 90;\n",
        "  int science = 94;\n",
        "\n",
        "  int total = math + korean + science;\n",
        "\n",
        "  printf(\"수학 : %d\\n\", math);\n",
        "  printf(\"국어 : %d\\n\", korean);\n",
        "  printf(\"과학 : %d\\n\", science);\n",
        "  printf(\"총점 : %d\\n\", total);\n",
        "\n",
        "  return 0;\n",
        "}"
      ]
    },
    {
      "cell_type": "code",
      "execution_count": null,
      "metadata": {
        "colab": {
          "base_uri": "https://localhost:8080/"
        },
        "id": "EnIA-hJbZBBe",
        "outputId": "3f4298b4-0803-4cde-ee34-6d176b5e8621"
      },
      "outputs": [
        {
          "name": "stdout",
          "output_type": "stream",
          "text": [
            "수학 : 99\n",
            "국어 : 90\n",
            "과학 : 94\n",
            "총점 : 283\n"
          ]
        },
        {
          "data": {
            "text/plain": []
          },
          "execution_count": 19,
          "metadata": {},
          "output_type": "execute_result"
        }
      ],
      "source": [
        "# 파일 실행(불러오기)\n",
        "%%shell\n",
        "gcc week2_2-2.c -o bout\n",
        "./bout"
      ]
    },
    {
      "cell_type": "markdown",
      "metadata": {
        "id": "qlD-cNN5ZNvz"
      },
      "source": [
        "- 예약어와 식별자\n",
        "  - 예약어(reserved word) : C 언어에서 특별한 의미를 가지도록 미리 정해 놓은 단어(char, int, double 등 기본 자료형, etc)\n",
        "  - 식별자(identifier) : 프로그래머가 필요에 따라 선언하는 변수 이름 또는 사용자 정의 함수 이름\n",
        "    - 식별자로 사용할 수 없는 이름 : 밑줄이 아닌 특수 문자 X, 첫 문자에 숫자 X, 키워드(int, char 등) X"
      ]
    },
    {
      "cell_type": "markdown",
      "metadata": {
        "id": "oeyAyN-ZZuNd"
      },
      "source": [
        "\n",
        "\n",
        "---\n",
        "\n"
      ]
    },
    {
      "cell_type": "markdown",
      "metadata": {
        "id": "U8_v912QZu64"
      },
      "source": [
        "**3. 자료형**"
      ]
    },
    {
      "cell_type": "markdown",
      "metadata": {
        "id": "buWT28XCZxWw"
      },
      "source": [
        "- 정수 자료형 종류\n",
        "  - int : 정수를 나타내는 가장 기본적인 자료형\n",
        "  - short, long, long long : 정수를 나타내지만 자료형의 크기가 다름\n",
        "  - `short` ≤ `int` ≤ `long` ≤ `long long`\n",
        "  - 같은 자료형이라도 시스템마다 크기가 다를 수 있음\n",
        "  - 자료형의 크기는 sizeof 연산자를 이용하여 확인\n",
        "  - 자료형의 크기는 표현할 수 있는 수의 범위 결정\n",
        "\n",
        "- signed 와 unsigned\n",
        "  - `signed` : 음수와 양수 모두 표현\n",
        "  - `unsigned` : 0과 양수만 표현(음수 표현 불가)\n",
        "  - int, short 등의 앞에 부호 여부 명시해주면 됨\n",
        "\n",
        "- 정수 자료형의 크기 및 표현할 수 있는 값의 범위\n",
        "\n",
        "|부호|자료형|메모리 크기|값의 범위|\n",
        "|:-:|:-:|:-:|:-:|\n",
        "|O|short|2 bytes|$-2^{15}$ ~ $2^{15}-1$|\n",
        "|O|int|4 bytes|$-2^{31}$ ~ $2^{31}-1$|\n",
        "|O|long|4 bytes|$-2^{31}$ ~ $2^{31}-1$|\n",
        "|O|long long|8 bytes|$-2^{63}$ ~ $2^{63}-1$|\n",
        "|X|unsigned short|2 bytes|$0$ ~ $65,535$|\n",
        "|X|unsigned int|4 bytes|$0$ ~ $4,294,967,295$|\n",
        "|X|unsigned long|4 bytes|$0$ ~ $4,294,967,295$|\n",
        "|X|unsigned long long|8 bytes|$0$ ~ $18,446,744,073,309,551,615$|\n"
      ]
    },
    {
      "cell_type": "code",
      "execution_count": null,
      "metadata": {
        "colab": {
          "base_uri": "https://localhost:8080/"
        },
        "id": "bvtwNWtCI4dx",
        "outputId": "4f954884-4426-42dc-d482-5a49e9571d40"
      },
      "outputs": [
        {
          "name": "stdout",
          "output_type": "stream",
          "text": [
            "Writing week2_3-1.c\n"
          ]
        }
      ],
      "source": [
        "# 파일 작성\n",
        "%%writefile week2_3-1.c\n",
        "\n",
        "#include <stdio.h>\n",
        "\n",
        "int main()\n",
        "{\n",
        "  short sVar = 32000;\n",
        "  int iVar = -2140000000;\n",
        "\n",
        "  unsigned short usVar = 65000;\n",
        "  unsigned int uiVar = 4280000000;\n",
        "\n",
        "  printf(\"저장값 : %d %d \\n\", sVar, iVar);\n",
        "  printf(\"저장값 : %u %u \\n\", usVar,uiVar);\n",
        "\n",
        "  return 0;\n",
        "}"
      ]
    },
    {
      "cell_type": "code",
      "execution_count": null,
      "metadata": {
        "colab": {
          "base_uri": "https://localhost:8080/"
        },
        "id": "wex4abjvJekc",
        "outputId": "62dc73ef-e7d7-42a3-d5c9-491a2a5b3b19"
      },
      "outputs": [
        {
          "name": "stdout",
          "output_type": "stream",
          "text": [
            "저장값 : 32000 -2140000000 \n",
            "저장값 : 65000 4280000000 \n"
          ]
        },
        {
          "data": {
            "text/plain": []
          },
          "execution_count": 2,
          "metadata": {},
          "output_type": "execute_result"
        }
      ],
      "source": [
        "# 파일 실행(불러오기)\n",
        "%%shell\n",
        "gcc week2_3-1.c -o bout\n",
        "./bout"
      ]
    },
    {
      "cell_type": "markdown",
      "metadata": {
        "id": "NT62z98Xho-G"
      },
      "source": [
        "Q. 이전 프로그램에서 다음과 같이 각 자료형이 나타낼 수 있는 최댓값 또는 최솟값으로 초기화하여 출력해보자."
      ]
    },
    {
      "cell_type": "code",
      "execution_count": null,
      "metadata": {
        "colab": {
          "base_uri": "https://localhost:8080/"
        },
        "id": "hSYnuu6DhoXP",
        "outputId": "e34060d8-1fc1-4184-bcfd-14a9ee3afe0d"
      },
      "outputs": [
        {
          "name": "stdout",
          "output_type": "stream",
          "text": [
            "Writing week2_3-2.c\n"
          ]
        }
      ],
      "source": [
        "# 파일 작성\n",
        "%%writefile week2_3-2.c\n",
        "\n",
        "#include <stdio.h>\n",
        "\n",
        "int main()\n",
        "{\n",
        "  short sVar = -32768;\n",
        "  int iVar = 2147483647;\n",
        "\n",
        "  unsigned short usVar = 65535;\n",
        "  unsigned int uiVar = 4294967295;\n",
        "\n",
        "  printf(\"저장값 : %d %d \\n\", sVar, iVar);\n",
        "  printf(\"저장값 : %u %u \\n\", usVar,uiVar);\n",
        "\n",
        "  return 0;\n",
        "}"
      ]
    },
    {
      "cell_type": "code",
      "execution_count": null,
      "metadata": {
        "colab": {
          "base_uri": "https://localhost:8080/"
        },
        "id": "97ZWiuQlh99r",
        "outputId": "7151f275-86f2-41b3-88c9-aa3cecfe93ed"
      },
      "outputs": [
        {
          "name": "stdout",
          "output_type": "stream",
          "text": [
            "저장값 : -32768 2147483647 \n",
            "저장값 : 65535 4294967295 \n"
          ]
        },
        {
          "data": {
            "text/plain": []
          },
          "execution_count": 4,
          "metadata": {},
          "output_type": "execute_result"
        }
      ],
      "source": [
        "# 파일 실행(불러오기)\n",
        "%%shell\n",
        "gcc week2_3-2.c -o bout\n",
        "./bout"
      ]
    },
    {
      "cell_type": "markdown",
      "metadata": {
        "id": "6E1hA7rRJmgb"
      },
      "source": [
        "Q. 이전 프로그램에서 다음과 같이 각 자료형이 나타낼 수 있는 최댓값 보다 1 큰 수 또는 최솟값보다 1 작은 수로 초기화하여 출력해보자."
      ]
    },
    {
      "cell_type": "code",
      "execution_count": null,
      "metadata": {
        "colab": {
          "base_uri": "https://localhost:8080/"
        },
        "id": "s62y4Lf4rOcZ",
        "outputId": "61661518-3b4c-4543-f938-067e954e0bf4"
      },
      "outputs": [
        {
          "name": "stdout",
          "output_type": "stream",
          "text": [
            "Writing week2_3-3.c\n"
          ]
        }
      ],
      "source": [
        "# 파일 작성\n",
        "%%writefile week2_3-3.c\n",
        "\n",
        "#include <stdio.h>\n",
        "\n",
        "int main()\n",
        "{\n",
        "  short sVar = -32768-1;\n",
        "  int iVar = 2147483647+1;\n",
        "\n",
        "  unsigned short usVar = 0-1;\n",
        "  unsigned int uiVar = 4294967295+1;\n",
        "\n",
        "  printf(\"저장값 : %d %d \\n\", sVar, iVar);\n",
        "  printf(\"저장값 : %u %u \\n\", usVar,uiVar);\n",
        "\n",
        "  return 0;\n",
        "}"
      ]
    },
    {
      "cell_type": "code",
      "execution_count": null,
      "metadata": {
        "colab": {
          "base_uri": "https://localhost:8080/"
        },
        "id": "q8gYHB79rmLi",
        "outputId": "b6e9e2ac-0641-4db5-ce6a-0121cf4dd958"
      },
      "outputs": [
        {
          "name": "stdout",
          "output_type": "stream",
          "text": [
            "\u001b[01m\u001b[Kweek2_3-3.c:\u001b[m\u001b[K In function ‘\u001b[01m\u001b[Kmain\u001b[m\u001b[K’:\n",
            "\u001b[01m\u001b[Kweek2_3-3.c:6:16:\u001b[m\u001b[K \u001b[01;35m\u001b[Kwarning: \u001b[m\u001b[Koverflow in implicit constant conversion [\u001b[01;35m\u001b[K-Woverflow\u001b[m\u001b[K]\n",
            "   short sVar = \u001b[01;35m\u001b[K-\u001b[m\u001b[K32768-1;\n",
            "                \u001b[01;35m\u001b[K^\u001b[m\u001b[K\n",
            "\u001b[01m\u001b[Kweek2_3-3.c:7:24:\u001b[m\u001b[K \u001b[01;35m\u001b[Kwarning: \u001b[m\u001b[Kinteger overflow in expression [\u001b[01;35m\u001b[K-Woverflow\u001b[m\u001b[K]\n",
            "   int iVar = 2147483647\u001b[01;35m\u001b[K+\u001b[m\u001b[K1;\n",
            "                        \u001b[01;35m\u001b[K^\u001b[m\u001b[K\n",
            "\u001b[01m\u001b[Kweek2_3-3.c:10:24:\u001b[m\u001b[K \u001b[01;35m\u001b[Kwarning: \u001b[m\u001b[Klarge integer implicitly truncated to unsigned type [\u001b[01;35m\u001b[K-Woverflow\u001b[m\u001b[K]\n",
            "   unsigned int uiVar = \u001b[01;35m\u001b[K4294967295\u001b[m\u001b[K+1;\n",
            "                        \u001b[01;35m\u001b[K^~~~~~~~~~\u001b[m\u001b[K\n",
            "저장값 : 32767 -2147483648 \n",
            "저장값 : 65535 0 \n"
          ]
        },
        {
          "data": {
            "text/plain": []
          },
          "execution_count": 40,
          "metadata": {},
          "output_type": "execute_result"
        }
      ],
      "source": [
        "# 파일 실행(불러오기)\n",
        "%%shell\n",
        "gcc week2_3-3.c -o bout\n",
        "./bout"
      ]
    },
    {
      "cell_type": "markdown",
      "metadata": {
        "id": "eMZy0HDDr3II"
      },
      "source": [
        "- 부동소수(floating point)형 종류\n",
        "  - 3.14, 3.26567과 같이 실수를 표현하는 자료형\n",
        "  - 자료형 키워드 : float, double, long double\n",
        "  - 부동소수형 출력 : printf의 서식 지정자 '`%f`' 사용\n",
        "\n",
        "- 부동소수형 표현 방식 : $0.000023 → 2.3 × 10^{-5}$\n",
        "\n",
        "- 부동소수형의 크기 : `float` ≤ `double` ≤ `long double`\n",
        "\n",
        "|자료형|메모리 크기|값의 범위|\n",
        "|:-:|:-:|:-:|\n",
        "|float|4 bytes|유효 자릿수 약 7개, 최대 지수 약 $10^{38}$|\n",
        "|double|8 bytes|유효 자릿수 약 16개, 최대 지수 약 $10^{308}$|\n",
        "|long double|8 bytes|유효 자릿수 약 16개, 최대 지수 약 $10^{308}$|"
      ]
    },
    {
      "cell_type": "code",
      "execution_count": null,
      "metadata": {
        "colab": {
          "base_uri": "https://localhost:8080/"
        },
        "id": "cE3t040juLnh",
        "outputId": "5c452e89-b112-4238-8f6e-68032ec56838"
      },
      "outputs": [
        {
          "name": "stdout",
          "output_type": "stream",
          "text": [
            "Overwriting week2_3-4.c\n"
          ]
        }
      ],
      "source": [
        "# 파일 작성\n",
        "%%writefile week2_3-4.c\n",
        "\n",
        "#include <stdio.h>\n",
        "\n",
        "int main()\n",
        "{\n",
        "  float x = 12345678901234567890.0;\n",
        "  double y = 12345678901234567890.0;\n",
        "\n",
        "  printf(\"float 형 변수 출력 : %f \\n\", x);\n",
        "  printf(\"double 형 변수 출력 : %f \\n\", y);\n",
        "\n",
        "  return 0;\n",
        "}"
      ]
    },
    {
      "cell_type": "code",
      "execution_count": null,
      "metadata": {
        "colab": {
          "base_uri": "https://localhost:8080/"
        },
        "id": "pY2Ec73cu3BF",
        "outputId": "d2145a2c-736e-4d92-feb5-e906d41add6e"
      },
      "outputs": [
        {
          "name": "stdout",
          "output_type": "stream",
          "text": [
            "float 형 변수 출력 : 12345679395506094080.000000 \n",
            "double 형 변수 출력 : 12345678901234567168.000000 \n"
          ]
        },
        {
          "data": {
            "text/plain": []
          },
          "execution_count": 44,
          "metadata": {},
          "output_type": "execute_result"
        }
      ],
      "source": [
        "# 파일 실행(불러오기)\n",
        "%%shell\n",
        "gcc week2_3-4.c -o bout\n",
        "./bout"
      ]
    },
    {
      "cell_type": "markdown",
      "metadata": {
        "id": "D-EQ68o3VT-o"
      },
      "source": [
        "\n",
        "\n",
        "---\n",
        "\n"
      ]
    },
    {
      "cell_type": "markdown",
      "metadata": {
        "id": "1hT91IFLVU8t"
      },
      "source": [
        "**프활C 실습문제03-01**\n",
        "\n",
        "수정 팔 보호구는 루비 수정과 회복의 구슬과 100골드를 조합하여 만든다.\n",
        "루비 수정이 400골드, 회복의 구슬이 150골드 일 때, 수정 팔 보호구의 값을 예시에 맞게 출력하세요.\n",
        "int로 정수 자료형 만드세요."
      ]
    },
    {
      "cell_type": "code",
      "execution_count": null,
      "metadata": {
        "colab": {
          "base_uri": "https://localhost:8080/"
        },
        "id": "PjXzVSpeVccr",
        "outputId": "2933def4-2e7c-4d20-ca9d-3d8b6ad235ab"
      },
      "outputs": [
        {
          "name": "stdout",
          "output_type": "stream",
          "text": [
            "Writing week3_ex1.c\n"
          ]
        }
      ],
      "source": [
        "# 파일 작성\n",
        "%%writefile week3_ex1.c\n",
        "\n",
        "#include<stdio.h>\n",
        "\n",
        "int main(){\n",
        "\n",
        "\tint luby = 400;\n",
        "    int marble = 150;\n",
        "    int bracer = luby+marble+100;\n",
        "\n",
        "    printf(\"Crystalline Bracer is %d gold.\",bracer);\n",
        "\n",
        "\treturn 0;\n",
        "}"
      ]
    },
    {
      "cell_type": "code",
      "execution_count": null,
      "metadata": {
        "colab": {
          "base_uri": "https://localhost:8080/"
        },
        "id": "QKm4uHNHV2_y",
        "outputId": "4c13775c-f8d5-4c46-ba6b-51247f8b8a0c"
      },
      "outputs": [
        {
          "name": "stdout",
          "output_type": "stream",
          "text": [
            "Crystalline Bracer is 650 gold."
          ]
        },
        {
          "data": {
            "text/plain": []
          },
          "execution_count": 4,
          "metadata": {},
          "output_type": "execute_result"
        }
      ],
      "source": [
        "# 파일 실행(불러오기)\n",
        "%%shell\n",
        "gcc week3_ex1.c -o bout\n",
        "./bout"
      ]
    },
    {
      "cell_type": "markdown",
      "metadata": {
        "id": "m47_YDSwV9UC"
      },
      "source": [
        "**프활C 실습문제03-02**\n",
        "\n",
        "반지름이 5, 높이가 10인 원기둥의 부피를 출력하세요.\n",
        "(원기둥의 부피 = r * r * pi * h, r=반지름, h=높이)\n",
        "단, pi는 3.1415로 계산한다. (double로 부동소수형 자료형 만드세요.)"
      ]
    },
    {
      "cell_type": "code",
      "execution_count": null,
      "metadata": {
        "colab": {
          "base_uri": "https://localhost:8080/"
        },
        "id": "5UM0kWWRWCj7",
        "outputId": "fdcc558b-1171-49ad-8c15-96d3b4fa4e46"
      },
      "outputs": [
        {
          "name": "stdout",
          "output_type": "stream",
          "text": [
            "Writing week3_ex2.c\n"
          ]
        }
      ],
      "source": [
        "# 파일 작성\n",
        "%%writefile week3_ex2.c\n",
        "\n",
        "#include<stdio.h>\n",
        "\n",
        "int main(){\n",
        "\n",
        "\tint r = 5;\n",
        "    int h = 10;\n",
        "    double pi = 3.1415;\n",
        "    double volume = r*r*pi*h;\n",
        "\n",
        "    printf(\"The volume of the cylinder is %f.\",volume);\n",
        "\n",
        "\treturn 0;\n",
        "}"
      ]
    },
    {
      "cell_type": "code",
      "execution_count": null,
      "metadata": {
        "colab": {
          "base_uri": "https://localhost:8080/"
        },
        "id": "Nfj36L7QWKaI",
        "outputId": "e0fd6ff8-d7e1-4dcd-a3c3-1860d180d334"
      },
      "outputs": [
        {
          "name": "stdout",
          "output_type": "stream",
          "text": [
            "The volume of the cylinder is 785.375000."
          ]
        },
        {
          "data": {
            "text/plain": []
          },
          "execution_count": 6,
          "metadata": {},
          "output_type": "execute_result"
        }
      ],
      "source": [
        "# 파일 실행(불러오기)\n",
        "%%shell\n",
        "gcc week3_ex2.c -o bout\n",
        "./bout"
      ]
    },
    {
      "cell_type": "markdown",
      "metadata": {
        "id": "1vnCcK77WZm5"
      },
      "source": [
        "**프활C 실습퀴즈03-01**\n",
        "\n"
      ]
    },
    {
      "cell_type": "code",
      "execution_count": null,
      "metadata": {
        "colab": {
          "base_uri": "https://localhost:8080/"
        },
        "id": "NC0hCD2GWjQy",
        "outputId": "86bfd3ac-b0df-4609-e366-3b39ddf5cf06"
      },
      "outputs": [
        {
          "name": "stdout",
          "output_type": "stream",
          "text": [
            "Writing week3_q1.c\n"
          ]
        }
      ],
      "source": [
        "# 파일 작성\n",
        "%%writefile week3_q1.c\n",
        "\n",
        "#include<stdio.h>\n",
        "\n",
        "int main(){\n",
        "\n",
        "    int luby = 400;\n",
        "    int marble = 150;\n",
        "    int belt = luby+500;\n",
        "    int stone = luby*2;\n",
        "    int bracer = luby+marble+100;\n",
        "    int armor = belt+stone+bracer+500;\n",
        "\n",
        "    printf(\"Warmog's Armor is %d gold.\", armor);\n",
        "\n",
        "\treturn 0;\n",
        "}"
      ]
    },
    {
      "cell_type": "code",
      "execution_count": null,
      "metadata": {
        "colab": {
          "base_uri": "https://localhost:8080/"
        },
        "id": "Rbrc8lWqWptX",
        "outputId": "81bbece4-858d-4049-d22a-6ff603e17486"
      },
      "outputs": [
        {
          "name": "stdout",
          "output_type": "stream",
          "text": [
            "Warmog's Armor is 2850 gold."
          ]
        },
        {
          "data": {
            "text/plain": []
          },
          "execution_count": 8,
          "metadata": {},
          "output_type": "execute_result"
        }
      ],
      "source": [
        "# 파일 실행(불러오기)\n",
        "%%shell\n",
        "gcc week3_q1.c -o bout\n",
        "./bout"
      ]
    },
    {
      "cell_type": "markdown",
      "metadata": {
        "id": "6mJwGt9dWuCw"
      },
      "source": [
        "**프활C 실습퀴즈03-02**\n",
        "\n"
      ]
    },
    {
      "cell_type": "code",
      "execution_count": null,
      "metadata": {
        "colab": {
          "base_uri": "https://localhost:8080/"
        },
        "id": "pfQb6mjTWyvM",
        "outputId": "1bc0494b-b5b2-4296-f8d4-d42b232cecff"
      },
      "outputs": [
        {
          "name": "stdout",
          "output_type": "stream",
          "text": [
            "Writing week3_q2.c\n"
          ]
        }
      ],
      "source": [
        "# 파일 작성\n",
        "%%writefile week3_q2.c\n",
        "\n",
        "#include<stdio.h>\n",
        "\n",
        "int main(){\n",
        "\n",
        "    int r = 5;\n",
        "    int h = 10;\n",
        "    double pi = 3.1415;\n",
        "    double area = pi*2*r*r + 2*pi*r*h;\n",
        "\n",
        "    printf(\"The surface area of the cylinder is %f.\", area);\n",
        "\n",
        "\treturn 0;\n",
        "}"
      ]
    },
    {
      "cell_type": "code",
      "execution_count": null,
      "metadata": {
        "colab": {
          "base_uri": "https://localhost:8080/"
        },
        "id": "a9Mc9d-jW1_d",
        "outputId": "d55511ca-7675-494b-bdab-bc569e11c99c"
      },
      "outputs": [
        {
          "name": "stdout",
          "output_type": "stream",
          "text": [
            "The surface area of the cylinder is 471.225000."
          ]
        },
        {
          "data": {
            "text/plain": []
          },
          "execution_count": 10,
          "metadata": {},
          "output_type": "execute_result"
        }
      ],
      "source": [
        "# 파일 실행(불러오기)\n",
        "%%shell\n",
        "gcc week3_q2.c -o bout\n",
        "./bout"
      ]
    },
    {
      "cell_type": "markdown",
      "metadata": {
        "id": "FqHib1PnLT5x"
      },
      "source": [
        "# **3주차.** 입출력 / 수식과 연산자"
      ]
    },
    {
      "cell_type": "markdown",
      "metadata": {
        "id": "ORWH-dL7iUMS"
      },
      "source": [
        "**1. 문자 자료형과 자료형 변환**"
      ]
    },
    {
      "cell_type": "markdown",
      "metadata": {
        "id": "iCfBLYHaw4j1"
      },
      "source": [
        "- 문자형 : `char`, `signed char`, `unsigned char`\n",
        "- 문자형 자료형의 크기는 모두 1바이트\n",
        "- 문자는 작은 따옴표 ''를 사용하여 표현\n",
        "- 출력 : printf의 서식 지정자는 %c\n",
        "\n",
        "- 문자형의 실체\n",
        "  - 특정 문자에 해당하는 정수값을 지정 : 아스키(ASCII)코드\n",
        "  - 문자형은 본질적으로 정수형과 동일\n",
        "\n",
        "- 문자형은 본질적으로 정수 (1 바이트)\n",
        "  - 정수 연산 가능\n",
        "  - 부호 없는 자료형 가능\n",
        "\n",
        "\n",
        "  |자료형|메모리 크기|값의 범위|\n",
        "  |:-:|:-:|:-:|\n",
        "  |char|1 bytes (8 bits)|-128 ~ 127|\n",
        "  |unsigned char|1 bytes (8 bits)|0 ~ 255|\n",
        "\n",
        "- 문자 '0'과 숫자 0은 다르다\n",
        "  - 문자 '0'의 아스키 코드 값은 48 ⇒ 문자 '0' == 정수 48\n",
        "\n",
        "- 특수 문자 (이스케이프 시퀀스)\n",
        "\n",
        "\n",
        "  |문자|역할|비고|\n",
        "  |:-:|:-:|:-:|\n",
        "  |\\n|새로운 줄로 이동|[Enter] 키 효과와 동일|\n",
        "  |\\t|다음 탭으로 이동|[Tab] 키 효과와 동일\n",
        "  |\\b|앞으로 한 칸 이동|[Back Space] 키 효과와 동일\n",
        "  |\\r|줄의 맨 앞으로 이동|[Home] 키 효과와 동일\n",
        "  |\\a|'삑' 소리를 냄||\n",
        "  |\\\\|역슬래쉬 \\||\n",
        "  |\\'|작은 따옴표 '||\n",
        "  |\\\"|큰 따옴표 \"||"
      ]
    },
    {
      "cell_type": "markdown",
      "metadata": {
        "id": "WtqZF8w1zEAt"
      },
      "source": [
        "- 명시적 형변환 : printf의 **서식 지정자에 따라 형 변환이 자동으로 발생하지 않음**! ⇒ 명시적 형변환 필요 !"
      ]
    },
    {
      "cell_type": "code",
      "execution_count": null,
      "metadata": {
        "colab": {
          "base_uri": "https://localhost:8080/"
        },
        "id": "F7DxehXOzXXG",
        "outputId": "01df1190-662f-492f-947e-c51f1547204b"
      },
      "outputs": [
        {
          "name": "stdout",
          "output_type": "stream",
          "text": [
            "Writing week3_1-1.c\n"
          ]
        }
      ],
      "source": [
        "# 파일 작성\n",
        "%%writefile week3_1-1.c\n",
        "\n",
        "#include <stdio.h>\n",
        "\n",
        "int main()\n",
        "{\n",
        "  printf(\"12.3 : %d \\n\", (int) 12.3);\n",
        "  printf(\"123 : %f \\n\", (double) 123);\n",
        "\n",
        "  return 0;\n",
        "}"
      ]
    },
    {
      "cell_type": "code",
      "execution_count": null,
      "metadata": {
        "colab": {
          "base_uri": "https://localhost:8080/"
        },
        "id": "NRWCulgpiUky",
        "outputId": "7557148c-d904-4cc7-cf6d-aa2cb08324c6"
      },
      "outputs": [
        {
          "name": "stdout",
          "output_type": "stream",
          "text": [
            "12.3 : 12 \n",
            "123 : 123.000000 \n"
          ]
        },
        {
          "data": {
            "text/plain": []
          },
          "execution_count": 46,
          "metadata": {},
          "output_type": "execute_result"
        }
      ],
      "source": [
        "# 파일 실행(불러오기)\n",
        "%%shell\n",
        "gcc week3_1-1.c -o bout\n",
        "./bout"
      ]
    },
    {
      "cell_type": "markdown",
      "metadata": {
        "id": "whYBFx3Az461"
      },
      "source": [
        "\n",
        "\n",
        "---\n",
        "\n"
      ]
    },
    {
      "cell_type": "markdown",
      "metadata": {
        "id": "a8J_xO7Yz5s2"
      },
      "source": [
        "**2. printf() 출력**"
      ]
    },
    {
      "cell_type": "markdown",
      "metadata": {
        "id": "CPPQZBdcz9_X"
      },
      "source": [
        "- 출력할 내용 :\n",
        "```\n",
        "printf(\"출력하고 싶은 내용\");\n",
        "printf(\"%d + %d\", 10, num);\n",
        "```\n",
        "\n",
        "- 서식지정자와 출력할 값 개수 불일치\n",
        "  - 서식 지정자가 더 많은 경우 : 남은 서식 지정자는 쓰레기 값\n",
        "  - 출력할 값이 더 많은 경우 : 남는 값 사용 X\n",
        "\n",
        "- 서식 지정자 종류  \n",
        "\n",
        "|분류|서식 지정자|대상 자료형|출력 형태|\n",
        "|:-:|:-:|:-:|:-:|\n",
        "|정수형|%d|int|10진수|\n",
        "|정수형|%u|unsigned int|10진수|\n",
        "|정수형|%o|unsigned int|8진수|\n",
        "|정수형|%x, %X|unsigned int|16진수|\n",
        "|부동소수형|%f|float, double|고정 소수점 표기|\n",
        "|부동소수형|%e, %E|float, double|지수 표기|\n",
        "|문자형|%c|char|문자 하나|\n",
        "\n",
        "- 출력 형태를 결정하는 것은 자료형이 아니라 서식 지정자\n",
        "\n",
        "- 서식 지정자 확장\n",
        "  - 출력 폭 지정 : `printf(\"%5d, 25);` → □□□25 ⇒ 5칸 안에 출력 ! 맨 뒤에 넣기\n",
        "  - 정밀도 지정(부동소수) : `printf(\"%.1f\",2.56);` → 2.6 ⇒ 소수점 아래 1번째 자리까지 출력 !\n",
        "  - 플래그 : 정렬방식, 부호 출력 방식, 진법 표시 방식 등을 조정하기 위해 사용\n",
        "  - 0 플래그 : `printf(\"%05d\",25);` → 00025 ⇒ 5칸 안에 출력 ! 남은 자리에 0을 채우기\n",
        "  - 등...\n",
        "\n"
      ]
    },
    {
      "cell_type": "code",
      "execution_count": null,
      "metadata": {
        "colab": {
          "base_uri": "https://localhost:8080/"
        },
        "id": "xKQe9ZWtz_UK",
        "outputId": "56570e09-b85b-4fad-e9ab-92c28047d260"
      },
      "outputs": [
        {
          "name": "stdout",
          "output_type": "stream",
          "text": [
            "Overwriting week3_2-1.c\n"
          ]
        }
      ],
      "source": [
        "# 파일 작성\n",
        "%%writefile week3_2-1.c\n",
        "\n",
        "#include <stdio.h>\n",
        "\n",
        "int main()\n",
        "{\n",
        "  printf(\"%d \\n\", 125);\n",
        "  printf(\"%6d \\n\", 125);\n",
        "  printf(\"%05d \\n\", 125);\n",
        "\n",
        "  printf(\"%f \\n\", 12.56);\n",
        "  printf(\"%6.1f \\n\", 12.56);\n",
        "  printf(\"%7.3f \\n\", 12.56);\n",
        "  printf(\"%07.2f \\n\", 12.56);\n",
        "\n",
        "  return 0;\n",
        "}"
      ]
    },
    {
      "cell_type": "code",
      "execution_count": null,
      "metadata": {
        "colab": {
          "base_uri": "https://localhost:8080/"
        },
        "id": "VA5f5UHTKSaX",
        "outputId": "5a2fb97d-64a8-4cad-bafa-10b5a40b7a07"
      },
      "outputs": [
        {
          "name": "stdout",
          "output_type": "stream",
          "text": [
            "125 \n",
            "   125 \n",
            "00125 \n",
            "12.560000 \n",
            "  12.6 \n",
            " 12.560 \n",
            "0012.56 \n"
          ]
        },
        {
          "data": {
            "text/plain": []
          },
          "execution_count": 3,
          "metadata": {},
          "output_type": "execute_result"
        }
      ],
      "source": [
        "# 파일 실행(불러오기)\n",
        "%%shell\n",
        "gcc week3_2-1.c -o bout\n",
        "./bout"
      ]
    },
    {
      "cell_type": "markdown",
      "metadata": {
        "id": "j1_Re4TziTN1"
      },
      "source": [
        "\n",
        "\n",
        "---\n",
        "\n"
      ]
    },
    {
      "cell_type": "markdown",
      "metadata": {
        "id": "UTFUy5TGYV30"
      },
      "source": [
        "**3. scanf() 입력**"
      ]
    },
    {
      "cell_type": "markdown",
      "metadata": {
        "id": "WBNbe9mzYY6U"
      },
      "source": [
        "- 기본 사용법 :\n",
        "```\n",
        "scanf(\"%d\",&a);\n",
        "```\n",
        "\n",
        "- 자료형에 따라 사용되는 서식 지정자가 다름 ⇒ 서식 지정자와 자료형이 일치하지 않으면, 오류 발생\n",
        "\n",
        "- 주요 서식 지정자\n",
        "\n",
        "|분류|서식 지정자|대상 자료형|\n",
        "|:-:|:-:|:-:|\n",
        "|정수형|%d|int|\n",
        "|부동소수형|%f|float|\n",
        "|부동소수형|%lf|double|\n",
        "|문자형|%c|char|\n",
        "\n",
        "- 정수 : 기본적으로 **int**형으로 선언 ⇒ `%d`로 출력 및 입력\n",
        "- 부동소수 : 기본적으로 double형으로 선언 ⇒ `%f`로 **출력**(%lf도 가능), `%lf`로 **입력**\n",
        "\n",
        "- 입력 형태를 결정하는 것은 자료형이 아니라 서식 지정자\n",
        "\n",
        "- 여러 **값** 입력 받기 : 값 구분 위해 보통 **공백** 사용"
      ]
    },
    {
      "cell_type": "markdown",
      "metadata": {
        "id": "UZ1hewaLPB2p"
      },
      "source": [
        "- 여러 **문자** 입력 시 주의할 점 : 공백, 탭, 개행 문자도 하나의 문자로 간주되어 입력 값으로 처리되므로 공백 없이 입력  \n",
        "  ⇒ 원하는 형태로 입력 받기 위한 해결책(트릭)\n",
        "    > 예 : [Enter] 키로 입력되는 개행 문자를 임시 변수에 저장해 없애기"
      ]
    },
    {
      "cell_type": "code",
      "execution_count": null,
      "metadata": {
        "colab": {
          "base_uri": "https://localhost:8080/"
        },
        "id": "NX3BRFU2YYb7",
        "outputId": "a2970573-d499-4491-fa55-b5b220fe0acd"
      },
      "outputs": [
        {
          "name": "stdout",
          "output_type": "stream",
          "text": [
            "Writing week3_3-1.c\n"
          ]
        }
      ],
      "source": [
        "# 파일 작성\n",
        "%%writefile week3_3-1.c\n",
        "\n",
        "#include <stdio.h>\n",
        "\n",
        "int main()\n",
        "{\n",
        "  char c1, c2, tmp;\n",
        "\n",
        "  printf(\"c1 입력 : \");\n",
        "  scanf(\"%c%c\", &c1, &tmp);\n",
        "  printf(\"c2 입력 : \");\n",
        "  scanf(\"%c%c\",&c2, &tmp);\n",
        "\n",
        "  printf(\"문자 출력 : [%c][%c]\\n\", c1, c2);\n",
        "\n",
        "  return 0;\n",
        "}"
      ]
    },
    {
      "cell_type": "code",
      "execution_count": null,
      "metadata": {
        "colab": {
          "base_uri": "https://localhost:8080/"
        },
        "id": "Vx5zvYrnO0Ah",
        "outputId": "36e5134f-eb4d-408c-dbd9-6e956f5bf14e"
      },
      "outputs": [
        {
          "name": "stdout",
          "output_type": "stream",
          "text": [
            "c1 입력 : A\n",
            "c2 입력 : B\n",
            "문자 출력 : [A][B]\n"
          ]
        },
        {
          "data": {
            "text/plain": []
          },
          "execution_count": 6,
          "metadata": {},
          "output_type": "execute_result"
        }
      ],
      "source": [
        "# 파일 실행(불러오기)\n",
        "%%shell\n",
        "gcc week3_3-1.c -o bout\n",
        "./bout"
      ]
    },
    {
      "cell_type": "markdown",
      "metadata": {
        "id": "mRPo_eRxPF23"
      },
      "source": [
        "- 문자와 정수(또는 부동소수)가 혼합되어 입력 받는 경우\n",
        "  - 정수 입력에서는 공백, 탭, 개행 문자 무시됨\n",
        "  - 문자 입력에서는 공백, 탭, 개행 문자가 하나의 문자로 처리됨"
      ]
    },
    {
      "cell_type": "code",
      "execution_count": null,
      "metadata": {
        "colab": {
          "base_uri": "https://localhost:8080/"
        },
        "id": "G7NtCkcTPQ0A",
        "outputId": "d2a4b876-af93-4c7e-a6ea-b8460f72a0cd"
      },
      "outputs": [
        {
          "name": "stdout",
          "output_type": "stream",
          "text": [
            "Writing week3_3-2.c\n"
          ]
        }
      ],
      "source": [
        "# 파일 작성\n",
        "%%writefile week3_3-2.c\n",
        "\n",
        "#include <stdio.h>\n",
        "\n",
        "int main()\n",
        "{\n",
        "  int n;\n",
        "  char c1, c2;\n",
        "\n",
        "  printf(\"문자 입력 : \");\n",
        "  scanf(\"%c\", &c1);\n",
        "  printf(\"정수 입력 : \");\n",
        "  scanf(\"%d\",&n);\n",
        "  printf(\"문자 입력 : \");\n",
        "  scanf(\"%c\", &c2);\n",
        "\n",
        "  printf(\"출력 : [%c][%d][%c]\\n\", c1,n, c2);\n",
        "\n",
        "  return 0;\n",
        "}"
      ]
    },
    {
      "cell_type": "code",
      "execution_count": null,
      "metadata": {
        "colab": {
          "base_uri": "https://localhost:8080/"
        },
        "id": "aBieOpDtPzNT",
        "outputId": "d61ba094-57d7-4913-81ea-f887775ac85c"
      },
      "outputs": [
        {
          "name": "stdout",
          "output_type": "stream",
          "text": [
            "문자 입력 : A\n",
            "정수 입력 : 25\n",
            "문자 입력 : 출력 : [A][25][\n",
            "]\n"
          ]
        },
        {
          "data": {
            "text/plain": []
          },
          "execution_count": 8,
          "metadata": {},
          "output_type": "execute_result"
        }
      ],
      "source": [
        "# 파일 실행(불러오기)\n",
        "%%shell\n",
        "gcc week3_3-2.c -o bout\n",
        "./bout"
      ]
    },
    {
      "cell_type": "markdown",
      "metadata": {
        "id": "NpDsoPpCP6At"
      },
      "source": [
        "- 입력 구분자 지정하기\n",
        "  > 예 : 입력 구분자로 하이픈(-)을 사용"
      ]
    },
    {
      "cell_type": "code",
      "execution_count": null,
      "metadata": {
        "colab": {
          "base_uri": "https://localhost:8080/"
        },
        "id": "sl64yW97QFxf",
        "outputId": "fe899cff-1eb1-4331-9103-acf66f4512d9"
      },
      "outputs": [
        {
          "name": "stdout",
          "output_type": "stream",
          "text": [
            "Writing week3_3-3.c\n"
          ]
        }
      ],
      "source": [
        "# 파일 작성\n",
        "%%writefile week3_3-3.c\n",
        "\n",
        "#include <stdio.h>\n",
        "\n",
        "int main()\n",
        "{\n",
        "  int a=0, b=0, c=0;\n",
        "\n",
        "  printf(\"정수 입력 : \");\n",
        "  scanf(\"%d-%d-%d\", &a, &b, &c);\n",
        "  printf(\"%d %d %d\\n\",a,b,c);\n",
        "\n",
        "  return 0;\n",
        "}"
      ]
    },
    {
      "cell_type": "code",
      "execution_count": null,
      "metadata": {
        "colab": {
          "base_uri": "https://localhost:8080/"
        },
        "id": "3CKsTkzVQaCh",
        "outputId": "0d15d2a6-e6b6-4199-f2e0-dbae9671a0af"
      },
      "outputs": [
        {
          "name": "stdout",
          "output_type": "stream",
          "text": [
            "정수 입력 : 20-10-30\n",
            "20 10 30\n"
          ]
        },
        {
          "data": {
            "text/plain": []
          },
          "execution_count": 10,
          "metadata": {},
          "output_type": "execute_result"
        }
      ],
      "source": [
        "# 파일 실행(불러오기)\n",
        "%%shell\n",
        "gcc week3_3-3.c -o bout\n",
        "./bout"
      ]
    },
    {
      "cell_type": "markdown",
      "metadata": {
        "id": "HGGgWIEBQgQm"
      },
      "source": [
        "**예제**  \n",
        "두 개의 문자 'A'와 'B'를 공백을 구분하여 입력 받고, 정상적으로 입력되었는 지를 값을 출력하여 확인해보자."
      ]
    },
    {
      "cell_type": "code",
      "execution_count": null,
      "metadata": {
        "colab": {
          "base_uri": "https://localhost:8080/"
        },
        "id": "iiW_mTfiQqbf",
        "outputId": "87a64b82-80c7-4db5-db14-7542eb3145c3"
      },
      "outputs": [
        {
          "name": "stdout",
          "output_type": "stream",
          "text": [
            "Writing week3_3-4.c\n"
          ]
        }
      ],
      "source": [
        "# 파일 작성\n",
        "%%writefile week3_3-4.c\n",
        "\n",
        "#include <stdio.h>\n",
        "\n",
        "int main()\n",
        "{\n",
        "  char c1, c2;\n",
        "\n",
        "  printf(\"문자 입력 : \");\n",
        "  scanf(\"%c %c\", &c1, &c2);\n",
        "  printf(\"문자 출력 : [%c][%c]\\n\",c1,c2);\n",
        "\n",
        "  return 0;\n",
        "}"
      ]
    },
    {
      "cell_type": "code",
      "execution_count": null,
      "metadata": {
        "colab": {
          "base_uri": "https://localhost:8080/"
        },
        "id": "qpJrMZgNRa_t",
        "outputId": "5118cacf-a58d-4945-f21e-be1bb8ee7fd1"
      },
      "outputs": [
        {
          "name": "stdout",
          "output_type": "stream",
          "text": [
            "문자 입력 : A B\n",
            "문자 출력 : [A][B]\n"
          ]
        },
        {
          "data": {
            "text/plain": []
          },
          "execution_count": 12,
          "metadata": {},
          "output_type": "execute_result"
        }
      ],
      "source": [
        "# 파일 실행(불러오기)\n",
        "%%shell\n",
        "gcc week3_3-4.c -o bout\n",
        "./bout"
      ]
    },
    {
      "cell_type": "markdown",
      "metadata": {
        "id": "y_DIOmv2RgV7"
      },
      "source": [
        "- scanf 사용 시 주의 사항 : 특별한 목적이 없는 한 \" \" 안에 서식 지정자 이외의 내용은 넣지 말자 ! (개행 문자, 안내 문구 등)"
      ]
    },
    {
      "cell_type": "markdown",
      "metadata": {
        "id": "zL_0j8EzYZaS"
      },
      "source": [
        "\n",
        "\n",
        "---\n",
        "\n"
      ]
    },
    {
      "cell_type": "markdown",
      "metadata": {
        "id": "9I99DwrAiWA_"
      },
      "source": [
        "**프활C 실습문제04-01**\n",
        "\n",
        "게임에서 킬은 K, 데스는 D, 어시스트는 A로 저장된다.\n",
        "게임의 평점은 (K+A)/D로 저장된다.\n",
        "킬, 데스, 어시스트를 순서대로 입력 받고 게임의 평점을 소수점 셋째 자리까지 출력하세요. (단 데스가 0인 경우는 없습니다.)"
      ]
    },
    {
      "cell_type": "code",
      "execution_count": null,
      "metadata": {
        "colab": {
          "base_uri": "https://localhost:8080/"
        },
        "id": "Btj2L6MHiSty",
        "outputId": "5a3447b0-0001-4038-e224-7d78c0f25eda"
      },
      "outputs": [
        {
          "name": "stdout",
          "output_type": "stream",
          "text": [
            "Overwriting week4_ex1.c\n"
          ]
        }
      ],
      "source": [
        "# 파일 작성\n",
        "%%writefile week4_ex1.c\n",
        "\n",
        "#include <stdio.h>\n",
        "\n",
        "int main()\n",
        "{\n",
        "  int K,D,A;\n",
        "\n",
        "  scanf(\"%d %d %d\",&K,&D,&A);\n",
        "\n",
        "  double score = (double)(K+A)/D;\n",
        "  // K, D, A가 int형 변수이기 때문에, 계산 과정에서 자동으로 int로 바꿔줌 !\n",
        "  // 앞에 double을 적어서 변환해줘야함 !!\n",
        "\n",
        "  printf(\"%.3f\",score);\n",
        "\n",
        "  return 0;\n",
        "}"
      ]
    },
    {
      "cell_type": "code",
      "execution_count": null,
      "metadata": {
        "colab": {
          "base_uri": "https://localhost:8080/"
        },
        "id": "H4TYJNcQjtfm",
        "outputId": "14628150-ec06-465a-8d8c-0f48ef21b1d3"
      },
      "outputs": [
        {
          "name": "stdout",
          "output_type": "stream",
          "text": [
            "5 3 24\n",
            "9.667"
          ]
        },
        {
          "data": {
            "text/plain": []
          },
          "execution_count": 24,
          "metadata": {},
          "output_type": "execute_result"
        }
      ],
      "source": [
        "# 파일 실행(불러오기)\n",
        "%%shell\n",
        "gcc week4_ex1.c -o bout\n",
        "./bout"
      ]
    },
    {
      "cell_type": "markdown",
      "metadata": {
        "id": "D8NhTXiAnaBe"
      },
      "source": [
        "**프활C 실습문제04-02**\n",
        "\n",
        "자연수 n과 알파벳 소문자를 순서대로 입력 받고 영어사전 순으로 계산하여 알파벳 소문자에서 n번째 뒤에 있는 알파벳을 출력하세요.\n",
        "예를 들어 5 a일 경우 a에서 5번째 뒤에 있는 알파벳 f를 출력합니다."
      ]
    },
    {
      "cell_type": "code",
      "execution_count": null,
      "metadata": {
        "colab": {
          "base_uri": "https://localhost:8080/"
        },
        "id": "27nnsMXRnfAT",
        "outputId": "c6e8bfb5-cb88-4a86-b0c8-2dad8892cec5"
      },
      "outputs": [
        {
          "name": "stdout",
          "output_type": "stream",
          "text": [
            "Writing week4_ex2.c\n"
          ]
        }
      ],
      "source": [
        "# 파일 작성\n",
        "%%writefile week4_ex2.c\n",
        "\n",
        "#include <stdio.h>\n",
        "\n",
        "int main()\n",
        "{\n",
        "  int n;\n",
        "  char alpha;\n",
        "\n",
        "  scanf(\"%d %c\",&n,&alpha);\n",
        "\n",
        "  char result = alpha + n;   // ASCII(아스키) 코드\n",
        "\n",
        "  printf(\"%c\",result);\n",
        "\n",
        "  return 0;\n",
        "}"
      ]
    },
    {
      "cell_type": "code",
      "execution_count": null,
      "metadata": {
        "colab": {
          "base_uri": "https://localhost:8080/"
        },
        "id": "fDYjWvmRoOq5",
        "outputId": "5040c9ac-6c2e-47d9-cc35-26df7cf80295"
      },
      "outputs": [
        {
          "name": "stdout",
          "output_type": "stream",
          "text": [
            "15 c\n",
            "r"
          ]
        },
        {
          "data": {
            "text/plain": []
          },
          "execution_count": 27,
          "metadata": {},
          "output_type": "execute_result"
        }
      ],
      "source": [
        "# 파일 실행(불러오기)\n",
        "%%shell\n",
        "gcc week4_ex2.c -o bout\n",
        "./bout"
      ]
    },
    {
      "cell_type": "markdown",
      "metadata": {
        "id": "bKME6NP0ojlX"
      },
      "source": [
        "**프활C 실습문제04-03**\n",
        "\n",
        "실수 a를 입력 받고 소수점 첫째 자리 숫자를 출력하세요."
      ]
    },
    {
      "cell_type": "code",
      "execution_count": null,
      "metadata": {
        "colab": {
          "base_uri": "https://localhost:8080/"
        },
        "id": "3kBE1d3VopUN",
        "outputId": "acf10202-5836-46b3-9cb6-2ce4f1996256"
      },
      "outputs": [
        {
          "name": "stdout",
          "output_type": "stream",
          "text": [
            "Overwriting week4_ex3.c\n"
          ]
        }
      ],
      "source": [
        "# 파일 작성\n",
        "%%writefile week4_ex3.c\n",
        "\n",
        "#include <stdio.h>\n",
        "\n",
        "int main()\n",
        "{\n",
        "  double a;\n",
        "\n",
        "  scanf(\"%lf\",&a);\n",
        "\n",
        "  int result = (a - (int)a) * 10;\n",
        "\n",
        "  printf(\"%d\",result);\n",
        "\n",
        "  return 0;\n",
        "}"
      ]
    },
    {
      "cell_type": "code",
      "execution_count": null,
      "metadata": {
        "colab": {
          "base_uri": "https://localhost:8080/"
        },
        "id": "mnPK5TU-p1hd",
        "outputId": "8760ebe3-9669-4b76-bb88-23d1e17bfe53"
      },
      "outputs": [
        {
          "name": "stdout",
          "output_type": "stream",
          "text": [
            "12.12\n",
            "1"
          ]
        },
        {
          "data": {
            "text/plain": []
          },
          "execution_count": 38,
          "metadata": {},
          "output_type": "execute_result"
        }
      ],
      "source": [
        "# 파일 실행(불러오기)\n",
        "%%shell\n",
        "gcc week4_ex3.c -o bout\n",
        "./bout"
      ]
    },
    {
      "cell_type": "markdown",
      "metadata": {
        "id": "ujrViNSmX4uH"
      },
      "source": [
        "\n",
        "\n",
        "---\n",
        "\n"
      ]
    },
    {
      "cell_type": "markdown",
      "metadata": {
        "id": "g3GK24dlXEp4"
      },
      "source": [
        "**프활C 실습퀴즈04-01**\n",
        "\n"
      ]
    },
    {
      "cell_type": "code",
      "execution_count": null,
      "metadata": {
        "colab": {
          "base_uri": "https://localhost:8080/"
        },
        "id": "uA1pB3Q1XV05",
        "outputId": "beb58766-1f6a-4d10-e9ce-884a207b0fd2"
      },
      "outputs": [
        {
          "name": "stdout",
          "output_type": "stream",
          "text": [
            "Writing week4_q1.c\n"
          ]
        }
      ],
      "source": [
        "# 파일 작성\n",
        "%%writefile week4_q1.c\n",
        "\n",
        "#include<stdio.h>\n",
        "\n",
        "int main(){\n",
        "   int r;\n",
        "   double pi = 3.14;\n",
        "\n",
        "   scanf(\"%d\",&r);\n",
        "\n",
        "   printf(\"%.2f\",r*r*pi);\n",
        "\n",
        "\treturn 0;\n",
        "}"
      ]
    },
    {
      "cell_type": "code",
      "execution_count": null,
      "metadata": {
        "colab": {
          "base_uri": "https://localhost:8080/"
        },
        "id": "kA0pJa7PXbIy",
        "outputId": "4a466492-894c-4544-a817-670a8fcbd243"
      },
      "outputs": [
        {
          "name": "stdout",
          "output_type": "stream",
          "text": [
            "2\n",
            "12.56"
          ]
        },
        {
          "data": {
            "text/plain": []
          },
          "execution_count": 12,
          "metadata": {},
          "output_type": "execute_result"
        }
      ],
      "source": [
        "# 파일 실행(불러오기)\n",
        "%%shell\n",
        "gcc week4_q1.c -o bout\n",
        "./bout"
      ]
    },
    {
      "cell_type": "markdown",
      "metadata": {
        "id": "orL1uuHwXkPf"
      },
      "source": [
        "**프활C 실습퀴즈04-02**"
      ]
    },
    {
      "cell_type": "code",
      "execution_count": null,
      "metadata": {
        "colab": {
          "base_uri": "https://localhost:8080/"
        },
        "id": "Uun2hqO3XpEt",
        "outputId": "2a425ff8-9f48-489b-c727-7920130c819a"
      },
      "outputs": [
        {
          "name": "stdout",
          "output_type": "stream",
          "text": [
            "Writing week4_q2.c\n"
          ]
        }
      ],
      "source": [
        "# 파일 작성\n",
        "%%writefile week4_q2.c\n",
        "\n",
        "#include<stdio.h>\n",
        "\n",
        "int main(){\n",
        "\n",
        "   char C;\n",
        "\n",
        "   scanf(\"%c\",&C);\n",
        "\n",
        "   printf(\"%d\",C-'A'+1);\n",
        "\n",
        "\treturn 0;\n",
        "}"
      ]
    },
    {
      "cell_type": "code",
      "execution_count": null,
      "metadata": {
        "colab": {
          "base_uri": "https://localhost:8080/"
        },
        "id": "PPu7MrpbXt7u",
        "outputId": "c3d14036-d225-4edb-cde7-cd49875e66e9"
      },
      "outputs": [
        {
          "name": "stdout",
          "output_type": "stream",
          "text": [
            "V\n",
            "22"
          ]
        },
        {
          "data": {
            "text/plain": []
          },
          "execution_count": 14,
          "metadata": {},
          "output_type": "execute_result"
        }
      ],
      "source": [
        "# 파일 실행(불러오기)\n",
        "%%shell\n",
        "gcc week4_q2.c -o bout\n",
        "./bout"
      ]
    },
    {
      "cell_type": "markdown",
      "metadata": {
        "id": "L1MUsc8OX2gU"
      },
      "source": [
        "**프활C 실습퀴즈04-03**\n"
      ]
    },
    {
      "cell_type": "code",
      "execution_count": null,
      "metadata": {
        "colab": {
          "base_uri": "https://localhost:8080/"
        },
        "id": "kzE2f2QwX_2S",
        "outputId": "624b1847-e61d-4e57-ee4a-21706771965b"
      },
      "outputs": [
        {
          "name": "stdout",
          "output_type": "stream",
          "text": [
            "Writing week4_q3.c\n"
          ]
        }
      ],
      "source": [
        "# 파일 작성\n",
        "%%writefile week4_q3.c\n",
        "\n",
        "#include<stdio.h>\n",
        "\n",
        "int main(){\n",
        "\n",
        "   double a,b;\n",
        "\n",
        "   scanf(\"%lf %lf\",&a,&b);\n",
        "\n",
        "   printf(\"%d\", (int)a + (int)b);\n",
        "\n",
        "\treturn 0;\n",
        "}"
      ]
    },
    {
      "cell_type": "code",
      "execution_count": null,
      "metadata": {
        "colab": {
          "base_uri": "https://localhost:8080/"
        },
        "id": "xokBF64rYE5C",
        "outputId": "fb893f21-a20e-41a6-8095-83565690e763"
      },
      "outputs": [
        {
          "name": "stdout",
          "output_type": "stream",
          "text": [
            "1.4 2.3\n",
            "3"
          ]
        },
        {
          "data": {
            "text/plain": []
          },
          "execution_count": 16,
          "metadata": {},
          "output_type": "execute_result"
        }
      ],
      "source": [
        "# 파일 실행(불러오기)\n",
        "%%shell\n",
        "gcc week4_q3.c -o bout\n",
        "./bout"
      ]
    },
    {
      "cell_type": "markdown",
      "metadata": {
        "id": "TblxklmJkzg3"
      },
      "source": [
        "# **1차 과제**"
      ]
    },
    {
      "cell_type": "markdown",
      "metadata": {
        "id": "yy6x5bH9k3ZX"
      },
      "source": [
        "**1.** 0이상 100이하의 정수인 수학, 국어, 과학, 코딩 점수를 입력 받고 네 과목의 평균을 소수점 둘째 자리까지 출력하세요."
      ]
    },
    {
      "cell_type": "code",
      "execution_count": null,
      "metadata": {
        "colab": {
          "base_uri": "https://localhost:8080/"
        },
        "id": "rlTJdGxvlDJw",
        "outputId": "9c468ab2-9ad9-4d48-867a-035ca38c9978"
      },
      "outputs": [
        {
          "name": "stdout",
          "output_type": "stream",
          "text": [
            "Overwriting hw1_1.c\n"
          ]
        }
      ],
      "source": [
        "# 파일 작성\n",
        "%%writefile hw1_1.c\n",
        "\n",
        "#include <stdio.h>\n",
        "\n",
        "int main()\n",
        "{\n",
        "  int math, kor, sci, cod;\n",
        "\n",
        "  scanf(\"%d %d %d %d\",&math, &kor, &sci, &cod);\n",
        "\n",
        "  int sum = math+kor+sci+cod;\n",
        "  double ave = (float)sum/4;\n",
        "\n",
        "  printf(\"%.2f\",ave);\n",
        "\n",
        "  return 0;\n",
        "}"
      ]
    },
    {
      "cell_type": "code",
      "execution_count": null,
      "metadata": {
        "colab": {
          "base_uri": "https://localhost:8080/"
        },
        "id": "EuIssHkqlZM_",
        "outputId": "2f140eb2-e3a6-409b-aeaa-4b99e58c689d"
      },
      "outputs": [
        {
          "name": "stdout",
          "output_type": "stream",
          "text": [
            "99 90 94 92\n",
            "93.75"
          ]
        },
        {
          "data": {
            "text/plain": []
          },
          "execution_count": 11,
          "metadata": {},
          "output_type": "execute_result"
        }
      ],
      "source": [
        "# 파일 실행(불러오기)\n",
        "%%shell\n",
        "gcc hw1_1.c -o bout\n",
        "./bout"
      ]
    },
    {
      "cell_type": "markdown",
      "metadata": {
        "id": "xHden40qmLa2"
      },
      "source": [
        "**2.** 소문자 알파벳 하나를 입력 받고 대문자로 바꿔 출력하세요."
      ]
    },
    {
      "cell_type": "code",
      "execution_count": null,
      "metadata": {
        "colab": {
          "base_uri": "https://localhost:8080/"
        },
        "id": "Kpgwev03mVW1",
        "outputId": "1e953729-0292-4bcd-a51b-09157808ac2c"
      },
      "outputs": [
        {
          "name": "stdout",
          "output_type": "stream",
          "text": [
            "Overwriting hw1_2.c\n"
          ]
        }
      ],
      "source": [
        "# 파일 작성\n",
        "%%writefile hw1_2.c\n",
        "\n",
        "#include <stdio.h>\n",
        "\n",
        "int main()\n",
        "{\n",
        "  char alpha;\n",
        "  scanf(\"%c\",&alpha);\n",
        "\n",
        "  printf(\"%c\",alpha-32);\n",
        "\n",
        "  return 0;\n",
        "}"
      ]
    },
    {
      "cell_type": "code",
      "execution_count": null,
      "metadata": {
        "colab": {
          "base_uri": "https://localhost:8080/"
        },
        "id": "FeeGqxhymwAN",
        "outputId": "68de5402-f2ce-470a-bfbd-5ed80fd31cbb"
      },
      "outputs": [
        {
          "name": "stdout",
          "output_type": "stream",
          "text": [
            "n\n",
            "N"
          ]
        },
        {
          "data": {
            "text/plain": []
          },
          "execution_count": 17,
          "metadata": {},
          "output_type": "execute_result"
        }
      ],
      "source": [
        "# 파일 실행(불러오기)\n",
        "%%shell\n",
        "gcc hw1_2.c -o bout\n",
        "./bout"
      ]
    },
    {
      "cell_type": "markdown",
      "metadata": {
        "id": "X9BH9bVInBRF"
      },
      "source": [
        "**3.** AKMU-\"100%\" 를 출력하세요."
      ]
    },
    {
      "cell_type": "code",
      "execution_count": null,
      "metadata": {
        "colab": {
          "base_uri": "https://localhost:8080/"
        },
        "id": "9KfM_qcynFSV",
        "outputId": "1a63d731-f1c4-4b9c-904f-417f2c442f11"
      },
      "outputs": [
        {
          "name": "stdout",
          "output_type": "stream",
          "text": [
            "Overwriting hw1_3.c\n"
          ]
        }
      ],
      "source": [
        "# 파일 작성\n",
        "%%writefile hw1_3.c\n",
        "\n",
        "#include <stdio.h>\n",
        "\n",
        "int main()\n",
        "{\n",
        "  printf(\"AKMU-\\\"100%%\\\"\");\n",
        "\n",
        "  return 0;\n",
        "}"
      ]
    },
    {
      "cell_type": "code",
      "execution_count": null,
      "metadata": {
        "colab": {
          "base_uri": "https://localhost:8080/"
        },
        "id": "kq5uBNAEnYHV",
        "outputId": "0e434c6a-d294-4a29-c44b-25e35026b3fe"
      },
      "outputs": [
        {
          "name": "stdout",
          "output_type": "stream",
          "text": [
            "AKMU-\"100%\""
          ]
        },
        {
          "data": {
            "text/plain": []
          },
          "execution_count": 21,
          "metadata": {},
          "output_type": "execute_result"
        }
      ],
      "source": [
        "# 파일 실행(불러오기)\n",
        "%%shell\n",
        "gcc hw1_3.c -o bout\n",
        "./bout"
      ]
    },
    {
      "cell_type": "markdown",
      "metadata": {
        "id": "9Hx5gLXuLXZB"
      },
      "source": [
        "# **4주차.** 수식과 연산자"
      ]
    },
    {
      "cell_type": "markdown",
      "metadata": {
        "id": "569Cxcgtpo-6"
      },
      "source": [
        "**1. 산술 연산자**"
      ]
    },
    {
      "cell_type": "markdown",
      "metadata": {
        "id": "bYOaCe9BShRG"
      },
      "source": [
        "- 연산자 : 데이터를 가공하고 처리하기 위한 가장 기본 도구\n",
        "  - 연산 종류에 따른 분류 : 산술 연산자, 관계 연산자, 논리 연산자, 증감 연산자, 비트 연산자, 대입 연산자, 조건 연산자 등\n",
        "  - 피연산자 개수에 따른 분류 : 단항 연산자, 이항 연산자, 삼항 연산자\n",
        "\n",
        "- 수식 : 피연산자들과 연산자의 조합으로 어떠한 값을 갖는 요소"
      ]
    },
    {
      "cell_type": "markdown",
      "metadata": {
        "id": "FKq25PiES4JL"
      },
      "source": [
        "- 산술 연산자 종류 : 사칙 연산자(+, -, *, /)와 나머지 연산자(%)가 있음\n",
        "\n",
        "- 나누기와 나머지 연산자 : 피연산자의 자료형에 따라 계산 결과 다름  \n",
        "\n",
        "|연산자|정수 연산|부동소수 연산|\n",
        "|:-:|:-:|:-:|\n",
        "|/|몫|실수 나눗셈|\n",
        "|%|나머지|X|\n",
        "\n",
        "- 연산 순서\n",
        "  - 연산자 우선순위 : *, /, % 연산자 → +, - 연산자\n",
        "  ⇒ 적용 순서를 변경하고자 하는 경우 소괄호 사용\n",
        "  - 결합 수칙 : 왼쪽에서 오른쪽 방향으로 적용\n",
        "\n",
        "- 피연산자가 모두 정수형인데, 부동소수 연산을 하고 싶으면? : 명시적 형 변환 이용\n",
        "  ⇒ 형 변환이 적용되는 범위에 주의 !!"
      ]
    },
    {
      "cell_type": "markdown",
      "metadata": {
        "id": "XS-ZF_DTZSNV"
      },
      "source": [
        "\n",
        "\n",
        "---\n",
        "\n"
      ]
    },
    {
      "cell_type": "markdown",
      "metadata": {
        "id": "uC5sedDAZTSN"
      },
      "source": [
        "**2. 대입 연산자, 관계 연산자**"
      ]
    },
    {
      "cell_type": "markdown",
      "metadata": {
        "id": "TomSFIKwZULh"
      },
      "source": [
        "- 대입 연산자 `=`\n",
        "  - 연산자 오른쪽 수식의 값을 왼쪽 변수에 **대입** (수학의 등호와 완전히 다른 의미)\n",
        "\n",
        "- 연속 대입 : 대입 연산의 결과는 왼쪽 변수에 저장되는 값\n",
        "  > 예 : `a = b = c = 2;`\n",
        "\n",
        "- 복합 대입 연산자 : 대입 연산자와 산술 연산자의 결합\n",
        "\n",
        "|복합 대입 연산|동일 대입문|\n",
        "|:-:|:-:|\n",
        "|a **+=** x|a = a **+** (x)|\n",
        "|a **-=** x|a = a **-** (x)|\n",
        "|a ***=** x|a = a **\\*** (x)|\n",
        "|a **/=** x|a = a **/** (x)|\n",
        "|a **%=** x|a = a **%** (x)|\n",
        "\n",
        "- 증감 연산자 : 변수의 값을 1씩 증가(++) 혹은 감소(--) 시키는 단항 연산자  \n",
        "⇒ 변수의 **앞에 오느냐 뒤에 오느냐**에 따라 수식의 해석이 달라짐\n",
        "\n",
        "|증감 연산|의미|\n",
        "|:-:|:-:|\n",
        "|**++**a|a의 값 1 **증가** → a의 값 **사용**|\n",
        "|**--**a|a의 값 1 **감소** → a의 값 **사용**|\n",
        "|a**++**|a의 값 **사용** → a의 값 1 **증가**|\n",
        "|a**--**|a의 값 **사용** → a의 값 1 **감소**|\n"
      ]
    },
    {
      "cell_type": "markdown",
      "metadata": {
        "id": "kGeD7y9SWdqq"
      },
      "source": [
        "**예제**  \n",
        "다음 각각에 해당하는 C언어 수식을 작성하시오.\n",
        "\n",
        "1. 변수 sum에 1부터 5까지 더한 값을 대입\n",
        "2. 변수 x의 값에 2를 곱한 후 변수 y를 더한 값을 변수 x에 대입\n",
        "3. 변수 x에는 x+2의 값을, 변수 y에는 변수 x의 값을, 변수 z에는 변수 y의 값을 차례로 대입 (연속 대입 사용할 것)\n",
        "4. 변수 x의 값을 3만큼 감소 (복합대입연산자 사용할 것)"
      ]
    },
    {
      "cell_type": "code",
      "execution_count": null,
      "metadata": {
        "colab": {
          "base_uri": "https://localhost:8080/"
        },
        "id": "zaoN9kt4ZUfu",
        "outputId": "c2f2bbe4-8338-453d-d712-6ab38aba9134"
      },
      "outputs": [
        {
          "name": "stdout",
          "output_type": "stream",
          "text": [
            "Writing week4_2-1.c\n"
          ]
        }
      ],
      "source": [
        "# 파일 작성\n",
        "%%writefile week4_2-1.c\n",
        "\n",
        "#include <stdio.h>\n",
        "\n",
        "int main()\n",
        "{\n",
        "  int sum, x, y, z;\n",
        "\n",
        "  sum = 1 + 2 + 3 + 4 + 5;\n",
        "  printf(\"sum = %d\\n\", sum);\n",
        "\n",
        "  x = 1;\n",
        "  y = 1;\n",
        "  x = x*2+y;\n",
        "  printf(\"x = %d\\n\",x);\n",
        "\n",
        "  z = y = x = x+2; // 연속 대입\n",
        "  printf(\"x = %d, y = %d, z = %d\\n\", x,y,z);\n",
        "\n",
        "  x -= 3; // 복합대입연산자\n",
        "  printf(\"x = %d\\n\", x);\n",
        "\n",
        "  return 0;\n",
        "}"
      ]
    },
    {
      "cell_type": "code",
      "execution_count": null,
      "metadata": {
        "colab": {
          "base_uri": "https://localhost:8080/"
        },
        "id": "1t1BaTkYXMnA",
        "outputId": "afd453a2-8197-4020-ddd0-d6262f55d608"
      },
      "outputs": [
        {
          "name": "stdout",
          "output_type": "stream",
          "text": [
            "sum = 15\n",
            "x = 3\n",
            "x = 5, y = 5, z = 5\n",
            "x = 2\n"
          ]
        },
        {
          "data": {
            "text/plain": []
          },
          "execution_count": 14,
          "metadata": {},
          "output_type": "execute_result"
        }
      ],
      "source": [
        "# 파일 실행(불러오기)\n",
        "%%shell\n",
        "gcc week4_2-1.c -o bout\n",
        "./bout"
      ]
    },
    {
      "cell_type": "markdown",
      "metadata": {
        "id": "AmNPhorYYMdx"
      },
      "source": [
        "**예제**  \n",
        "다음 각각에 해당하는 C언어 수식을 작성하시오.\n",
        "\n",
        "5. 변수 x의 값을 3으로 나눈 나머지를 x에 대입 (복합대입연산자 사용할 것)\n",
        "6. 변수 x의 값을 1만큼 감소 (증감 연산자 사용할 것)\n",
        "7. 변수 x의 값을 1만큼 감소시키고, 그 결과에 변수 y와 z의 합을 곱한 결과를 변수 z에 대입\n",
        "8. 변수 x의 값을 y배 시키고, y는 1만큼 증가"
      ]
    },
    {
      "cell_type": "code",
      "execution_count": null,
      "metadata": {
        "colab": {
          "base_uri": "https://localhost:8080/"
        },
        "id": "dd4OMezrYLrh",
        "outputId": "9a73b605-34db-44c3-de2c-55150650bc44"
      },
      "outputs": [
        {
          "name": "stdout",
          "output_type": "stream",
          "text": [
            "Overwriting week4_2-2.c\n"
          ]
        }
      ],
      "source": [
        "# 파일 작성\n",
        "%%writefile week4_2-2.c\n",
        "\n",
        "#include <stdio.h>\n",
        "\n",
        "int main()\n",
        "{\n",
        "  int x, y, z;\n",
        "\n",
        "  x = 10;\n",
        "  x = x%3;\n",
        "  printf(\"x = %d\\n\",x);\n",
        "\n",
        "  x = 5;\n",
        "  --x;\n",
        "  printf(\"x = %d\\n\",x);\n",
        "\n",
        "  y = 1;\n",
        "  z = 2;\n",
        "  z = (--x)*(y+z);\n",
        "  printf(\"x = %d, z = %d\\n\", x,z);\n",
        "\n",
        "  x = x*(y++);\n",
        "  printf(\"x = %d, y = %d\\n\", x,y);\n",
        "\n",
        "  return 0;\n",
        "}"
      ]
    },
    {
      "cell_type": "code",
      "execution_count": null,
      "metadata": {
        "colab": {
          "base_uri": "https://localhost:8080/"
        },
        "id": "Ey_0KhMaZZOI",
        "outputId": "fcedc16e-9b6e-4710-9bff-e5063057aef7"
      },
      "outputs": [
        {
          "name": "stdout",
          "output_type": "stream",
          "text": [
            "x = 1\n",
            "x = 4\n",
            "x = 3, z = 9\n",
            "x = 3, y = 2\n"
          ]
        },
        {
          "data": {
            "text/plain": []
          },
          "execution_count": 18,
          "metadata": {},
          "output_type": "execute_result"
        }
      ],
      "source": [
        "# 파일 실행(불러오기)\n",
        "%%shell\n",
        "gcc week4_2-2.c -o bout\n",
        "./bout"
      ]
    },
    {
      "cell_type": "markdown",
      "metadata": {
        "id": "l2Wt8Z-PZoMt"
      },
      "source": [
        "- 관계 연산자 : 왼쪽과 오른쪽의 대소 관계를 비교하는 연산자\n",
        "  ⇒ 연산의 결과는 참 아니면 거짓으로, 참이면 1이고 거짓이면 0\n",
        "\n",
        "  ※ C언어에서는 0이 아닌 값은 모두 참으로 간주 !\n",
        "\n",
        "\n",
        "  |관계연산|의미|\n",
        "  |:-:|:-:|\n",
        "  |x **==** y|x의 값과 y의 값이 **같다**|\n",
        "  |x **!=** y|x와 y가 **같지 않다**|\n",
        "  |x **<** y|x가 y보다 **작다**|\n",
        "  |x **<=** y|x가 y보다 **작거나 같다**|\n",
        "  |x **>** y|x가 y보다 **크다**|\n",
        "  |x **>=** y|x가 y보다 **크거나 같다**|"
      ]
    },
    {
      "cell_type": "markdown",
      "metadata": {
        "id": "8WQi29pvacpA"
      },
      "source": [
        "**예제**"
      ]
    },
    {
      "cell_type": "code",
      "execution_count": null,
      "metadata": {
        "colab": {
          "base_uri": "https://localhost:8080/"
        },
        "id": "9W3L_3bHaeo-",
        "outputId": "c22c634d-8f08-463e-baef-c6571b91e119"
      },
      "outputs": [
        {
          "name": "stdout",
          "output_type": "stream",
          "text": [
            "Writing week4_2-3.c\n"
          ]
        }
      ],
      "source": [
        "# 파일 작성\n",
        "%%writefile week4_2-3.c\n",
        "\n",
        "#include <stdio.h>\n",
        "\n",
        "int main()\n",
        "{\n",
        "  int a = 3;\n",
        "\n",
        "  printf(\"%d\\n\",a > 4);\n",
        "  printf(\"%d\\n\",a < 4);\n",
        "  printf(\"%d\\n\",a == 5);\n",
        "  printf(\"%d\\n\",a != 3);\n",
        "  printf(\"%d\\n\",2 >= a);\n",
        "  printf(\"%d\\n\",a <= a+1);\n",
        "\n",
        "  return 0;\n",
        "}"
      ]
    },
    {
      "cell_type": "code",
      "execution_count": null,
      "metadata": {
        "colab": {
          "base_uri": "https://localhost:8080/"
        },
        "id": "qNRqtZTpa0IK",
        "outputId": "328a50cf-649f-40af-e2cc-ac8c0158d5c5"
      },
      "outputs": [
        {
          "name": "stdout",
          "output_type": "stream",
          "text": [
            "0\n",
            "1\n",
            "0\n",
            "0\n",
            "0\n",
            "1\n"
          ]
        },
        {
          "data": {
            "text/plain": []
          },
          "execution_count": 20,
          "metadata": {},
          "output_type": "execute_result"
        }
      ],
      "source": [
        "# 파일 실행(불러오기)\n",
        "%%shell\n",
        "gcc week4_2-3.c -o bout\n",
        "./bout"
      ]
    },
    {
      "cell_type": "markdown",
      "metadata": {
        "id": "JSivoProa3Hc"
      },
      "source": [
        "- 관계 연산자와 산술 연산자의 우선순위 : 관계 연산자의 우선순위는 산술 연산보다 낮음\n",
        "  ⇒ 산술 계산 먼저 → 계산된 값 비교"
      ]
    },
    {
      "cell_type": "markdown",
      "metadata": {
        "id": "60WKBs8NbHck"
      },
      "source": [
        "**예제**  \n",
        "다음 각각에 해당하는 C언어 수식을 작성하시오.\n",
        "\n",
        "1. 변수 x는 7과 같다.\n",
        "2. 변수 x와 y의 합은 3보다 크다.\n",
        "3. 변수 y는 x+1보다 작거나 같다.\n",
        "4. 변수 x는 3과 같지 않다."
      ]
    },
    {
      "cell_type": "code",
      "execution_count": null,
      "metadata": {
        "colab": {
          "base_uri": "https://localhost:8080/"
        },
        "id": "NdAco4B6baq3",
        "outputId": "9973ae3c-fb65-4183-f894-12144bcab9eb"
      },
      "outputs": [
        {
          "name": "stdout",
          "output_type": "stream",
          "text": [
            "Overwriting week4_2-4.c\n"
          ]
        }
      ],
      "source": [
        "# 파일 작성\n",
        "%%writefile week4_2-4.c\n",
        "\n",
        "#include <stdio.h>\n",
        "\n",
        "int main()\n",
        "{\n",
        "  int x = 7, y = 3;\n",
        "\n",
        "  printf(\"%d\\n\",x == 7);\n",
        "  printf(\"%d\\n\", x + y > 3);\n",
        "  printf(\"%d\\n\",y <= x + 1);\n",
        "  printf(\"%d\\n\",x != 3);\n",
        "\n",
        "  return 0;\n",
        "}"
      ]
    },
    {
      "cell_type": "code",
      "execution_count": null,
      "metadata": {
        "colab": {
          "base_uri": "https://localhost:8080/"
        },
        "id": "_nQI9hiwbtTj",
        "outputId": "04d0dfa8-d9af-4159-86d3-e58ad604c8cd"
      },
      "outputs": [
        {
          "name": "stdout",
          "output_type": "stream",
          "text": [
            "1\n",
            "1\n",
            "1\n",
            "1\n"
          ]
        },
        {
          "data": {
            "text/plain": []
          },
          "execution_count": 24,
          "metadata": {},
          "output_type": "execute_result"
        }
      ],
      "source": [
        "# 파일 실행(불러오기)\n",
        "%%shell\n",
        "gcc week4_2-4.c -o bout\n",
        "./bout"
      ]
    },
    {
      "cell_type": "markdown",
      "metadata": {
        "id": "PtPsl4Pqb3Hv"
      },
      "source": [
        "**예제**  \n",
        "다음 각각에 해당하는 C언어 수식을 작성하시오.\n",
        "\n",
        "5. 변수 x는 y보다 크거나 같다.\n",
        "6. 12를 5로 나눈 나머지는 x를 5로 나눈 나머지보다 작거나 같다.\n",
        "7. 변수 x에서 y를 뺀 값은 음수이다.\n",
        "8. x를 1만큼 증가시키고, 그 값은 y와 같지 않고, y를 1만큼 감소시킨다."
      ]
    },
    {
      "cell_type": "code",
      "execution_count": null,
      "metadata": {
        "colab": {
          "base_uri": "https://localhost:8080/"
        },
        "id": "NZrkMcd1cJen",
        "outputId": "ad1730b3-1027-4ece-d32d-3ddbeca38338"
      },
      "outputs": [
        {
          "name": "stdout",
          "output_type": "stream",
          "text": [
            "Writing week4_2-5.c\n"
          ]
        }
      ],
      "source": [
        "# 파일 작성\n",
        "%%writefile week4_2-5.c\n",
        "\n",
        "#include <stdio.h>\n",
        "\n",
        "int main()\n",
        "{\n",
        "  int x = 6, y = 7;\n",
        "\n",
        "  printf(\"x >= y : %d\\n\",x >= y);\n",
        "  printf(\"12 %% 5 <= x %% 5 : %d\\n\", 12 % 5 <= x % 5);\n",
        "  printf(\"x-y < 0 : %d\\n\", x-y <0);\n",
        "  printf(\"++x != y-- : %d\\n\",++x != y--);\n",
        "\n",
        "  return 0;\n",
        "}"
      ]
    },
    {
      "cell_type": "code",
      "execution_count": null,
      "metadata": {
        "colab": {
          "base_uri": "https://localhost:8080/"
        },
        "id": "MEt7b-PxczF4",
        "outputId": "eb940d49-d686-4b2e-acdb-8f8becf2bdc5"
      },
      "outputs": [
        {
          "name": "stdout",
          "output_type": "stream",
          "text": [
            "x >= y : 0\n",
            "12 % 5 <= x % 5 : 0\n",
            "x-y < 0 : 1\n",
            "++x != y-- : 0\n"
          ]
        },
        {
          "data": {
            "text/plain": []
          },
          "execution_count": 26,
          "metadata": {},
          "output_type": "execute_result"
        }
      ],
      "source": [
        "# 파일 실행(불러오기)\n",
        "%%shell\n",
        "gcc week4_2-5.c -o bout\n",
        "./bout"
      ]
    },
    {
      "cell_type": "markdown",
      "metadata": {
        "id": "41iu8RU3c-Uv"
      },
      "source": [
        "- 주의 : 수식 4 < 5 < 2의 결과는?  \n",
        "  ⇒ (4 < 5) < 2 → 1(참) < 2 → 1(참)"
      ]
    },
    {
      "cell_type": "markdown",
      "metadata": {
        "id": "mRg7P48kZU43"
      },
      "source": [
        "\n",
        "\n",
        "---\n",
        "\n"
      ]
    },
    {
      "cell_type": "markdown",
      "metadata": {
        "id": "Z86lP1e7ZXjF"
      },
      "source": [
        "**3. 논리 연산자**"
      ]
    },
    {
      "cell_type": "markdown",
      "metadata": {
        "id": "aXFuI2BOZY7J"
      },
      "source": [
        "- 논리 연산자 : 논리 연산 값으로 참이면 1이고 거짓이면 0\n",
        "  \n",
        "\n",
        "  |논리연산|의미|연산 결과|\n",
        "  |:-:|:-:|:-:|\n",
        "  |**!**x|논리부정 (**NOT**)|x가 참이면 거짓, 거짓이면 참|\n",
        "  |x **&&** y|논리곱 (**AND**)|x, y가 둘 다 참이면 참이고, 그렇지 않으면 거짓|\n",
        "  |x **\\|\\|**  y|논리합 (**OR**)|x, y 중 하나라도 참이면 참이고, 그렇지 않으면 거짓|\n"
      ]
    },
    {
      "cell_type": "markdown",
      "metadata": {
        "id": "SfSLBLGieXgP"
      },
      "source": [
        "**예제**"
      ]
    },
    {
      "cell_type": "code",
      "execution_count": null,
      "metadata": {
        "colab": {
          "base_uri": "https://localhost:8080/"
        },
        "id": "A1Z1Ek2pZZQe",
        "outputId": "a584e7a0-a5d5-4e23-cc59-724db4446d60"
      },
      "outputs": [
        {
          "name": "stdout",
          "output_type": "stream",
          "text": [
            "Writing week4_3-1.c\n"
          ]
        }
      ],
      "source": [
        "# 파일 작성\n",
        "%%writefile week4_3-1.c\n",
        "\n",
        "#include <stdio.h>\n",
        "\n",
        "int main()\n",
        "{\n",
        "  int a = 3;\n",
        "  int b = 5;\n",
        "\n",
        "  printf(\"%d\\n\", (a >= 3) && (b < 6));\n",
        "  printf(\"%d\\n\", (a != 3) && (b > 2));\n",
        "  printf(\"%d\\n\", (b != 5) || (a == 1));\n",
        "  printf(\"%d\\n\", (a != !b) || (b == 2));\n",
        "\n",
        "  return 0;\n",
        "}"
      ]
    },
    {
      "cell_type": "code",
      "execution_count": null,
      "metadata": {
        "colab": {
          "base_uri": "https://localhost:8080/"
        },
        "id": "H-L5zEuce5PZ",
        "outputId": "c9310697-3ce1-41a4-da3b-3efceafa0937"
      },
      "outputs": [
        {
          "name": "stdout",
          "output_type": "stream",
          "text": [
            "1\n",
            "0\n",
            "0\n",
            "1\n"
          ]
        },
        {
          "data": {
            "text/plain": []
          },
          "execution_count": 28,
          "metadata": {},
          "output_type": "execute_result"
        }
      ],
      "source": [
        "# 파일 실행(불러오기)\n",
        "%%shell\n",
        "gcc week4_3-1.c -o bout\n",
        "./bout"
      ]
    },
    {
      "cell_type": "markdown",
      "metadata": {
        "id": "kecPsBpVe_Ar"
      },
      "source": [
        "- 논리 연산자의 연산 순서\n",
        "  - 우선순위 : ! > && > || (논리부정이 가장 높음)\n",
        "  - 우선순위가 같은 경우, 왼쪽부터 계산\n",
        "  - 우선 순위를 무시하려면 괄호 사용\n",
        "\n",
        "- 논리 연산자와 관계/산술 연산자의 우선순위\n",
        "  - &&와 ||의 우선순위는 관계/산술 연산자보다 낮음\n",
        "  - But, !의 우선순위는 관계/산술 연산자보다 높음"
      ]
    },
    {
      "cell_type": "markdown",
      "metadata": {
        "id": "BittI-o0ffFi"
      },
      "source": [
        "**예제**"
      ]
    },
    {
      "cell_type": "code",
      "execution_count": null,
      "metadata": {
        "colab": {
          "base_uri": "https://localhost:8080/"
        },
        "id": "q9E8CbNVfhKc",
        "outputId": "b9762769-e016-4348-9f07-f26f2a6b3cc7"
      },
      "outputs": [
        {
          "name": "stdout",
          "output_type": "stream",
          "text": [
            "Writing week4_3-2.c\n"
          ]
        }
      ],
      "source": [
        "# 파일 작성\n",
        "%%writefile week4_3-2.c\n",
        "\n",
        "#include <stdio.h>\n",
        "\n",
        "int main()\n",
        "{\n",
        "  int a = 3, b = 5;\n",
        "\n",
        "  printf(\"%d\\n\", a >= 3 && b < 6);\n",
        "  printf(\"%d\\n\", a != 3 && a > 2);\n",
        "  printf(\"%d\\n\", b != 5 || a == 1);\n",
        "  printf(\"%d\\n\", a != b || b == 2);\n",
        "  printf(\"%d\\n\", !(a != b) || b == 2);\n",
        "\n",
        "  return 0;\n",
        "}"
      ]
    },
    {
      "cell_type": "code",
      "execution_count": null,
      "metadata": {
        "colab": {
          "base_uri": "https://localhost:8080/"
        },
        "id": "PVR4Cv_of6Sg",
        "outputId": "bce3716b-3d70-4430-882c-eafd0fb2db7c"
      },
      "outputs": [
        {
          "name": "stdout",
          "output_type": "stream",
          "text": [
            "1\n",
            "0\n",
            "0\n",
            "1\n",
            "0\n"
          ]
        },
        {
          "data": {
            "text/plain": []
          },
          "execution_count": 30,
          "metadata": {},
          "output_type": "execute_result"
        }
      ],
      "source": [
        "# 파일 실행(불러오기)\n",
        "%%shell\n",
        "gcc week4_3-2.c -o bout\n",
        "./bout"
      ]
    },
    {
      "cell_type": "markdown",
      "metadata": {
        "id": "3APDdEQif9pW"
      },
      "source": [
        "**예제**  \n",
        "다음 각각에 해당하는 C언어 수식을 작성하시오.\n",
        "\n",
        "1. x가 참이거나 y가 참이다.\n",
        "2. x는 참이 아니다. (즉, x는 거짓이다.)\n",
        "3. x가 3보다 크거나 y가 4보다 작다."
      ]
    },
    {
      "cell_type": "code",
      "execution_count": null,
      "metadata": {
        "colab": {
          "base_uri": "https://localhost:8080/"
        },
        "id": "QmDLBBr2gI7l",
        "outputId": "567cd1e9-3912-43c7-9d7d-4ab07920c328"
      },
      "outputs": [
        {
          "name": "stdout",
          "output_type": "stream",
          "text": [
            "Writing week4_3-3.c\n"
          ]
        }
      ],
      "source": [
        "# 파일 작성\n",
        "%%writefile week4_3-3.c\n",
        "\n",
        "#include <stdio.h>\n",
        "\n",
        "int main()\n",
        "{\n",
        "  int x = 3, y = 5;\n",
        "\n",
        "  printf(\"%d\\n\", x || y);\n",
        "  printf(\"%d\\n\", !x);\n",
        "  printf(\"%d\\n\", x > 3 || y < 4);\n",
        "\n",
        "  return 0;\n",
        "}"
      ]
    },
    {
      "cell_type": "code",
      "execution_count": null,
      "metadata": {
        "colab": {
          "base_uri": "https://localhost:8080/"
        },
        "id": "SdmdTM-zgWAV",
        "outputId": "7ccb455a-a856-441f-abc8-57181f287b5d"
      },
      "outputs": [
        {
          "name": "stdout",
          "output_type": "stream",
          "text": [
            "1\n",
            "0\n",
            "0\n"
          ]
        },
        {
          "data": {
            "text/plain": []
          },
          "execution_count": 32,
          "metadata": {},
          "output_type": "execute_result"
        }
      ],
      "source": [
        "# 파일 실행(불러오기)\n",
        "%%shell\n",
        "gcc week4_3-3.c -o bout\n",
        "./bout"
      ]
    },
    {
      "cell_type": "markdown",
      "metadata": {
        "id": "_HS7inr6gaW-"
      },
      "source": [
        "**예제**  \n",
        "다음 각각에 해당하는 C언어 수식을 작성하시오.\n",
        "\n",
        "4. y는 3이 아니면서 x보다는 크거나 같다.\n",
        "5. 2 < x < 9\n",
        "6. x는 0보다 크고, 2로 나누어 떨어지고, 5로는 나누어 떨어지지 않는다."
      ]
    },
    {
      "cell_type": "code",
      "execution_count": null,
      "metadata": {
        "colab": {
          "base_uri": "https://localhost:8080/"
        },
        "id": "3GottjV2gqUM",
        "outputId": "c11dc763-d6da-4ae7-e08c-f7878eb4356c"
      },
      "outputs": [
        {
          "name": "stdout",
          "output_type": "stream",
          "text": [
            "Writing week4_3-4.c\n"
          ]
        }
      ],
      "source": [
        "# 파일 작성\n",
        "%%writefile week4_3-4.c\n",
        "\n",
        "#include <stdio.h>\n",
        "\n",
        "int main()\n",
        "{\n",
        "  int x = 3, y = 5;\n",
        "\n",
        "  printf(\"%d\\n\", (y != 3) || (y >= x));\n",
        "  printf(\"%d\\n\", (2 < x) && (x < 9));\n",
        "  printf(\"%d\\n\", (x > 0) && (x % 2 == 0) && (x % 5 != 0));\n",
        "\n",
        "  return 0;\n",
        "}"
      ]
    },
    {
      "cell_type": "code",
      "execution_count": null,
      "metadata": {
        "colab": {
          "base_uri": "https://localhost:8080/"
        },
        "id": "NelQKaAQg_To",
        "outputId": "0343fdbc-8a2a-4f6e-dffd-17eea429e84d"
      },
      "outputs": [
        {
          "name": "stdout",
          "output_type": "stream",
          "text": [
            "1\n",
            "1\n",
            "0\n"
          ]
        },
        {
          "data": {
            "text/plain": []
          },
          "execution_count": 34,
          "metadata": {},
          "output_type": "execute_result"
        }
      ],
      "source": [
        "# 파일 실행(불러오기)\n",
        "%%shell\n",
        "gcc week4_3-4.c -o bout\n",
        "./bout"
      ]
    },
    {
      "cell_type": "markdown",
      "metadata": {
        "id": "ereQ45ZShCYi"
      },
      "source": [
        "- 조건 연산자 : if ~ else 문을 대신하여 사용할 수 있는 연산자  \n",
        "⇒ 피연산자 수가 3개인 삼항 연산자\n",
        "\n",
        "  `조건 ? A : B`\n",
        "  - 조건이 True : 결과 값은 A\n",
        "  - 조건이 False : 결과 값은 B\n",
        "\n"
      ]
    },
    {
      "cell_type": "markdown",
      "metadata": {
        "id": "jQaRiBDchmcg"
      },
      "source": [
        "**예제**  \n",
        "조건 연산자를 이용하여 부호를 판별하고, 절댓값을 구하는 프로그램을 작성해보자."
      ]
    },
    {
      "cell_type": "code",
      "execution_count": null,
      "metadata": {
        "colab": {
          "base_uri": "https://localhost:8080/"
        },
        "id": "i_jfMEwDhlR5",
        "outputId": "dc687861-380d-4c26-a0ab-4559cb3e82bb"
      },
      "outputs": [
        {
          "name": "stdout",
          "output_type": "stream",
          "text": [
            "Writing week4_3-5.c\n"
          ]
        }
      ],
      "source": [
        "# 파일 작성\n",
        "%%writefile week4_3-5.c\n",
        "\n",
        "#include <stdio.h>\n",
        "\n",
        "int main()\n",
        "{\n",
        "  int  a = -10, b;\n",
        "\n",
        "  b = a<0 ? -1 : 1; // 부호 판별\n",
        "  printf(\"%d\\n\", b);\n",
        "\n",
        "  b = a<0 ? -a : a; // 절댓값 구하기\n",
        "  printf(\"%d\\n\", b);\n",
        "\n",
        "  return 0;\n",
        "}"
      ]
    },
    {
      "cell_type": "code",
      "execution_count": null,
      "metadata": {
        "colab": {
          "base_uri": "https://localhost:8080/"
        },
        "id": "8T5OSU8MiF_K",
        "outputId": "de3e8938-a741-490a-9c62-5841c206892a"
      },
      "outputs": [
        {
          "name": "stdout",
          "output_type": "stream",
          "text": [
            "-1\n",
            "10\n"
          ]
        },
        {
          "data": {
            "text/plain": []
          },
          "execution_count": 36,
          "metadata": {},
          "output_type": "execute_result"
        }
      ],
      "source": [
        "# 파일 실행(불러오기)\n",
        "%%shell\n",
        "gcc week4_3-5.c -o bout\n",
        "./bout"
      ]
    },
    {
      "cell_type": "markdown",
      "metadata": {
        "id": "OmgmDchiiNLP"
      },
      "source": [
        "**예제**  \n",
        "다음 각각에 해당하는 C언어 수식을 작성하시오.\n",
        "\n",
        "1. x가 y보다 크면 z에 3 대입하고, 작거나 같으면 z에 2 대입\n",
        "2. x와 y 중 큰 값을 z에 대입\n",
        "3. x와 y가 같지 않고 y가 7보다 작으면, x값 1 증가, 그렇지 않으면 y값 1 감소"
      ]
    },
    {
      "cell_type": "code",
      "execution_count": null,
      "metadata": {
        "colab": {
          "base_uri": "https://localhost:8080/"
        },
        "id": "VQ5xalskidjL",
        "outputId": "35132083-cd72-4933-e068-7a005a6b74a5"
      },
      "outputs": [
        {
          "name": "stdout",
          "output_type": "stream",
          "text": [
            "Writing week4_3-6.c\n"
          ]
        }
      ],
      "source": [
        "# 파일 작성\n",
        "%%writefile week4_3-6.c\n",
        "\n",
        "#include <stdio.h>\n",
        "\n",
        "int main()\n",
        "{\n",
        "  int x = -3, y = 5, z;\n",
        "\n",
        "  printf(\"x = %d, y = %d\\n\", x, y);\n",
        "  z = x > y ? 3 : 2;\n",
        "  printf(\"%d\\n\",z);\n",
        "\n",
        "  z = x > y ? x : y;\n",
        "  printf(\"%d\\n\", z);\n",
        "\n",
        "  (x != y && y < 7) ? x++ : y--;\n",
        "  printf(\"x = %d, y = %d\\n\", x, y);\n",
        "\n",
        "  return 0;\n",
        "}"
      ]
    },
    {
      "cell_type": "code",
      "execution_count": null,
      "metadata": {
        "colab": {
          "base_uri": "https://localhost:8080/"
        },
        "id": "hen3B9-KjJB4",
        "outputId": "b063a744-53cd-4b93-b1fc-e435f2202ed5"
      },
      "outputs": [
        {
          "name": "stdout",
          "output_type": "stream",
          "text": [
            "x = -3, y = 5\n",
            "2\n",
            "5\n",
            "x = -2, y = 5\n"
          ]
        },
        {
          "data": {
            "text/plain": []
          },
          "execution_count": 38,
          "metadata": {},
          "output_type": "execute_result"
        }
      ],
      "source": [
        "# 파일 실행(불러오기)\n",
        "%%shell\n",
        "gcc week4_3-6.c -o bout\n",
        "./bout"
      ]
    },
    {
      "cell_type": "markdown",
      "metadata": {
        "id": "DAjvQLVgjMED"
      },
      "source": [
        "- 콤마 연산자 : 여러 수식을 하나의 문장으로 표현할 때 사용\n",
        "- sizeof 연산자 : 저장 공간의 크기를 바이트 단위로 계산\n",
        "- 형 변환 연산자 : 명시적 형변환을 위해 사용"
      ]
    },
    {
      "cell_type": "markdown",
      "metadata": {
        "id": "xrmy3Wj3ZZ8h"
      },
      "source": [
        "\n",
        "\n",
        "---\n",
        "\n"
      ]
    },
    {
      "cell_type": "markdown",
      "metadata": {
        "id": "jzMude9qS623"
      },
      "source": [
        "**4주차 온라인 강의 퀴즈 - 2**"
      ]
    },
    {
      "cell_type": "code",
      "execution_count": null,
      "metadata": {
        "colab": {
          "base_uri": "https://localhost:8080/"
        },
        "id": "EtwICALYS7Ta",
        "outputId": "f9aeb24f-e939-4d0d-f21d-eedfa716cdcb"
      },
      "outputs": [
        {
          "name": "stdout",
          "output_type": "stream",
          "text": [
            "Writing week4_2.c\n"
          ]
        }
      ],
      "source": [
        "# 파일 작성\n",
        "%%writefile week4_2.c\n",
        "\n",
        "#include <stdio.h>\n",
        "\n",
        "int main() {\n",
        "    int a = 5, b = 3, c;\n",
        "    c = a % b--;\n",
        "    printf(\"%d%d%d\", ++a, b, c);\n",
        "    return 0;\n",
        "}"
      ]
    },
    {
      "cell_type": "code",
      "execution_count": null,
      "metadata": {
        "colab": {
          "base_uri": "https://localhost:8080/"
        },
        "id": "2tN00BMDTM99",
        "outputId": "6049bc1d-6fbd-4c07-f6fd-1fce70310646"
      },
      "outputs": [
        {
          "name": "stdout",
          "output_type": "stream",
          "text": [
            "622"
          ]
        },
        {
          "data": {
            "text/plain": []
          },
          "execution_count": 2,
          "metadata": {},
          "output_type": "execute_result"
        }
      ],
      "source": [
        "# 파일 실행(불러오기)\n",
        "%%shell\n",
        "gcc week4_2.c -o bout\n",
        "./bout"
      ]
    },
    {
      "cell_type": "markdown",
      "metadata": {
        "id": "Oncr61a8ppxC"
      },
      "source": [
        "\n",
        "\n",
        "---\n",
        "\n"
      ]
    },
    {
      "cell_type": "markdown",
      "metadata": {
        "id": "PGTF6KCvnty_"
      },
      "source": [
        "**프활C 실습문제05-01**\n",
        "\n",
        "양의 정수 n을 입력 받고\n",
        "\n",
        "printf(\"%d \", ++n);\n",
        "\n",
        "printf(\"%d \", n++);\n",
        "\n",
        "printf(\"%d \", n--);\n",
        "\n",
        "printf(\"%d \", --n);를 순서대로 출력해보자.\n",
        "\n",
        "그리고 왜 이렇게 출력 되었는지 생각해보자!"
      ]
    },
    {
      "cell_type": "code",
      "execution_count": null,
      "metadata": {
        "colab": {
          "base_uri": "https://localhost:8080/"
        },
        "id": "8MX81lYZn1ZV",
        "outputId": "c9cad0de-6b3d-443d-9a30-0eec4b51d1bd"
      },
      "outputs": [
        {
          "name": "stdout",
          "output_type": "stream",
          "text": [
            "Writing week5_ex1.c\n"
          ]
        }
      ],
      "source": [
        "# 파일 작성\n",
        "%%writefile week5_ex1.c\n",
        "\n",
        "#include <stdio.h>\n",
        "\n",
        "int main()\n",
        "{\n",
        "  int n;\n",
        "\n",
        "  scanf(\"%d\",&n);   // n = 5 라면\n",
        "\n",
        "  printf(\"%d \", ++n);   // n = n+1 = 6 출력\n",
        "  printf(\"%d \", n++);   // n = 6 출력 -> n = n+1 = 7\n",
        "  printf(\"%d \", n--);   // n = 7 출력 -> n = n-1 = 6\n",
        "  printf(\"%d \", --n);   // n = n-1 = 5 출력\n",
        "\n",
        "  return 0;\n",
        "}"
      ]
    },
    {
      "cell_type": "code",
      "execution_count": null,
      "metadata": {
        "colab": {
          "base_uri": "https://localhost:8080/"
        },
        "id": "OxgCTgOhoPnE",
        "outputId": "5526448c-12e4-4164-e4e9-7fb2d7b9b29c"
      },
      "outputs": [
        {
          "name": "stdout",
          "output_type": "stream",
          "text": [
            "5\n",
            "6 6 7 5 "
          ]
        },
        {
          "data": {
            "text/plain": []
          },
          "execution_count": 23,
          "metadata": {},
          "output_type": "execute_result"
        }
      ],
      "source": [
        "# 파일 실행(불러오기)\n",
        "%%shell\n",
        "gcc week5_ex1.c -o bout\n",
        "./bout"
      ]
    },
    {
      "cell_type": "markdown",
      "metadata": {
        "id": "kLOdKojqpfKD"
      },
      "source": [
        "**프활C 실습문제05-02**\n",
        "\n",
        "정수 2개를 입력 받고 정수 2개가 같다면 0을 다르면 1을 출력하세요."
      ]
    },
    {
      "cell_type": "code",
      "execution_count": null,
      "metadata": {
        "colab": {
          "base_uri": "https://localhost:8080/"
        },
        "id": "wiutW3rvpmV6",
        "outputId": "1d8c7685-a4d6-4741-ca38-dd3073af99e1"
      },
      "outputs": [
        {
          "name": "stdout",
          "output_type": "stream",
          "text": [
            "Overwriting week5_ex2.c\n"
          ]
        }
      ],
      "source": [
        "# 파일 작성\n",
        "%%writefile week5_ex2.c\n",
        "\n",
        "#include <stdio.h>\n",
        "\n",
        "int main()\n",
        "{\n",
        "  int n1, n2;\n",
        "\n",
        "  scanf(\"%d %d\",&n1,&n2);\n",
        "\n",
        "  printf(\"%d\", n1 != n2);\n",
        "\n",
        "  return 0;\n",
        "}"
      ]
    },
    {
      "cell_type": "code",
      "execution_count": null,
      "metadata": {
        "colab": {
          "base_uri": "https://localhost:8080/"
        },
        "id": "0CasDi53qHKR",
        "outputId": "5eef43ae-fc7c-4d70-fb4f-af7ff3a04545"
      },
      "outputs": [
        {
          "name": "stdout",
          "output_type": "stream",
          "text": [
            "5 5\n",
            "0"
          ]
        },
        {
          "data": {
            "text/plain": []
          },
          "execution_count": 27,
          "metadata": {},
          "output_type": "execute_result"
        }
      ],
      "source": [
        "# 파일 실행(불러오기)\n",
        "%%shell\n",
        "gcc week5_ex2.c -o bout\n",
        "./bout"
      ]
    },
    {
      "cell_type": "markdown",
      "metadata": {
        "id": "z-8_lMPDqV8J"
      },
      "source": [
        "**프활C 실습문제05-03**\n",
        "\n",
        "삼항 연산자를 이용하여 알파벳 소문자 c1과 c2를 입력 받고 알파벳 순서대로 c1이 먼저이면 C1을 c2가 먼저이면 C2를 출력하세요.\n",
        "단 c1과 c2가 같은 경우는 없습니다."
      ]
    },
    {
      "cell_type": "code",
      "execution_count": null,
      "metadata": {
        "colab": {
          "base_uri": "https://localhost:8080/"
        },
        "id": "rrvj6fXDqbea",
        "outputId": "fe9665b8-93e1-4780-a0d5-5624c5897dfe"
      },
      "outputs": [
        {
          "name": "stdout",
          "output_type": "stream",
          "text": [
            "Overwriting week5_ex3.c\n"
          ]
        }
      ],
      "source": [
        "# 파일 작성\n",
        "%%writefile week5_ex3.c\n",
        "\n",
        "#include <stdio.h>\n",
        "\n",
        "int main()\n",
        "{\n",
        "  char c1, c2;\n",
        "\n",
        "  scanf(\"%c %c\",&c1,&c2);\n",
        "\n",
        "  ((int)c1 < (int)c2) ? printf(\"C1\") : printf(\"C2\");\n",
        "\n",
        "  return 0;\n",
        "}"
      ]
    },
    {
      "cell_type": "code",
      "execution_count": null,
      "metadata": {
        "colab": {
          "base_uri": "https://localhost:8080/"
        },
        "id": "IZrwZ1rTrN5R",
        "outputId": "76946925-7bff-4916-c5b2-95c53fbf930e"
      },
      "outputs": [
        {
          "name": "stdout",
          "output_type": "stream",
          "text": [
            "n c\n",
            "C2"
          ]
        },
        {
          "data": {
            "text/plain": []
          },
          "execution_count": 70,
          "metadata": {},
          "output_type": "execute_result"
        }
      ],
      "source": [
        "# 파일 실행(불러오기)\n",
        "%%shell\n",
        "gcc week5_ex3.c -o bout\n",
        "./bout"
      ]
    },
    {
      "cell_type": "markdown",
      "metadata": {
        "id": "t0DBCc2TYg5T"
      },
      "source": [
        "\n",
        "\n",
        "---\n",
        "\n"
      ]
    },
    {
      "cell_type": "markdown",
      "metadata": {
        "id": "gnutpya9Yhon"
      },
      "source": [
        "**프활C 실습퀴즈05-01**\n",
        "\n",
        "양의 정수 n과 m을 입력 받고 k를 입력 받습니다.\n",
        "k가 1이면 n과 m중 큰 수를 출력하고, k가 2이면 n과 m중 작은 수를 출력하세요."
      ]
    },
    {
      "cell_type": "code",
      "execution_count": null,
      "metadata": {
        "colab": {
          "base_uri": "https://localhost:8080/"
        },
        "id": "w2f8rlNSYnxr",
        "outputId": "c0509b9c-96b5-432b-d76d-e2d5aee4a489"
      },
      "outputs": [
        {
          "name": "stdout",
          "output_type": "stream",
          "text": [
            "Writing week5_q1.c\n"
          ]
        }
      ],
      "source": [
        "# 파일 작성\n",
        "%%writefile week5_q1.c\n",
        "\n",
        "#include<stdio.h>\n",
        "\n",
        "int main(){\n",
        "\n",
        "int n,m,k ;\n",
        "scanf(\"%d %d %d\", &n,&m,&k);\n",
        "\n",
        "k == 1 ? (n > m ? printf(\"%d\",n) : printf(\"%d\",m)) : (n > m ? printf(\"%d\",m) : printf(\"%d\",n));\n",
        "\n",
        "\treturn 0;\n",
        "}"
      ]
    },
    {
      "cell_type": "code",
      "execution_count": null,
      "metadata": {
        "colab": {
          "base_uri": "https://localhost:8080/"
        },
        "id": "g52z9c9FYuv9",
        "outputId": "d0c6f960-a61d-43c5-fa14-96d0f3b4084c"
      },
      "outputs": [
        {
          "name": "stdout",
          "output_type": "stream",
          "text": [
            "5 3 1\n",
            "5"
          ]
        },
        {
          "data": {
            "text/plain": []
          },
          "execution_count": 18,
          "metadata": {},
          "output_type": "execute_result"
        }
      ],
      "source": [
        "# 파일 실행(불러오기)\n",
        "%%shell\n",
        "gcc week5_q1.c -o bout\n",
        "./bout"
      ]
    },
    {
      "cell_type": "markdown",
      "metadata": {
        "id": "XD6V_TPcY3aA"
      },
      "source": [
        "**프활C 실습퀴즈05-02**\n",
        "\n",
        "정수 n, m을 입력 받고 두 수가 같으면 Same을 출력하고,\n",
        "n이 m보다 크면 N을,\n",
        "m이 n보다 크면 M을 출력하세요."
      ]
    },
    {
      "cell_type": "code",
      "execution_count": null,
      "metadata": {
        "colab": {
          "base_uri": "https://localhost:8080/"
        },
        "id": "ojgrz-7gY8eV",
        "outputId": "026d4005-3ad8-488e-98ae-3e843345822d"
      },
      "outputs": [
        {
          "name": "stdout",
          "output_type": "stream",
          "text": [
            "Writing week5_q2.c\n"
          ]
        }
      ],
      "source": [
        "# 파일 작성\n",
        "%%writefile week5_q2.c\n",
        "\n",
        "#include<stdio.h>\n",
        "\n",
        "int main(){\n",
        "\n",
        "int n,m ;\n",
        "scanf(\"%d %d\", &n,&m);\n",
        "\n",
        "n == m ? printf(\"Same\") : (n > m ? printf(\"N\") : printf(\"M\"));\n",
        "\n",
        "\treturn 0;\n",
        "}"
      ]
    },
    {
      "cell_type": "code",
      "execution_count": null,
      "metadata": {
        "colab": {
          "base_uri": "https://localhost:8080/"
        },
        "id": "NGGU4Yp9ZD9W",
        "outputId": "42d017f8-e6d7-4c08-c1c5-5f6e4c3e3b5d"
      },
      "outputs": [
        {
          "name": "stdout",
          "output_type": "stream",
          "text": [
            "5 10\n",
            "M"
          ]
        },
        {
          "data": {
            "text/plain": []
          },
          "execution_count": 20,
          "metadata": {},
          "output_type": "execute_result"
        }
      ],
      "source": [
        "# 파일 실행(불러오기)\n",
        "%%shell\n",
        "gcc week5_q2.c -o bout\n",
        "./bout"
      ]
    },
    {
      "cell_type": "markdown",
      "metadata": {
        "id": "FdRB8ehaLcfA"
      },
      "source": [
        "# **5주차.** 조건문"
      ]
    },
    {
      "cell_type": "markdown",
      "metadata": {
        "id": "ZSEJ2084jdKt"
      },
      "source": [
        "**1. 연산자 우선순위**"
      ]
    },
    {
      "cell_type": "markdown",
      "metadata": {
        "id": "V4q5Pjksjgdt"
      },
      "source": [
        "- 연산자 우선순위\n",
        "  - 여러 연산자가 함께 사용된 경우 우선순위에 의존\n",
        "  - 다른 순서로 연산을 하고 싶은 경우 괄호를 사용\n",
        "- 결합 수칙\n",
        "  - 연산의 순서를 나타냄\n",
        "  - 연산자 우선순위가 같은 경우 결합 수칙에 의존\n",
        "\n",
        "|순위|연산자|종류|결합 수칙|\n",
        "|:-:|:-:|:-:|:-:|\n",
        "|1|**()** 함수호출 **[]** **.** **->**|멤버|왼쪽 우선|\n",
        "|2|**+** 부호 **-** 부호 **++** **--** **!** **~** **\\*** 간접참조 **&** 주소 **sizeof** **(자료형)**|단항|오른쪽 우선|\n",
        "|3|**\\*** 곱하기 **%** **/**|산술|왼쪽 우선|\n",
        "|4|**+** 더하기 **-** 빼기|산술|왼쪽 우선|\n",
        "|5|**<<** **>>**|비트(이동)|왼쪽 우선|\n",
        "|6|**<** **>** **<=** **>=**|관계|왼쪽 우선|\n",
        "|7|**==** **!=**|관계|왼쪽 우선|\n",
        "|8|**&** 비트곱|비트(논리)|왼쪽 우선|\n",
        "|9|**^**|비트(논리)|왼쪽 우선|\n",
        "|10|**|**|비트(논리)|왼쪽 우선|\n",
        "|11|**&&**|논리|왼쪽 우선|\n",
        "|12|**\\|\\|**|논리|왼쪽 우선|\n",
        "|13|**?:**|조건|오른쪽 우선|\n",
        "|14|**=** **+=** **-=** **\\*=** **%=** **/=** **^=** **<<=** **>>=**|대입|오른쪽 우선|\n",
        "|15|**,**|콤마|왼쪽 우선|\n",
        "\n",
        "- 요령\n",
        "  - 규칙이 혼동되면 괄호를 이용하여 명확히 표시\n",
        "  - 그러나, 괄호를 남용하면 수식이 불필요하게 길어지니 주요 연산자에 대한 규칙은 기억할 필요가 있음\n",
        "  - 다만, 무작정 암기보다는 자주 사용하는 수식을 통해 익숙해지는 것이 좋음\n",
        "  - 기억하기 쉬운 연산자\n",
        "    - 멤버와 관련된 연산자는 최우선 순위임\n",
        "    - 단항 연산자는 이항 연산자보다 우선순위가 높음 (멤버 관련 연산자 제외)\n",
        "    - 콤마 연산자는 우선순위가 가장 낮음\n",
        "\n",
        "- 주요 연산자 우선순위 : 산술 → 관계 → 논리 → 대입"
      ]
    },
    {
      "cell_type": "markdown",
      "metadata": {
        "id": "1lJa1WDa54G5"
      },
      "source": [
        "**예제**\n",
        "\n",
        "다음 각각에 해당하는 C언어 수식을 작성하시오.\n",
        "\n",
        "1. x의 값에 2를 더한 결과 값에 y를 곱한 값을 z에 대입\n",
        "2. x와 y를 각각 2로 나눈 나머지의 합을 z에 대입\n",
        "3. x를 3으로 나눈 나머지를 y에 대입하고 x를 1 증가시킴"
      ]
    },
    {
      "cell_type": "code",
      "execution_count": null,
      "metadata": {
        "colab": {
          "base_uri": "https://localhost:8080/"
        },
        "id": "5MJOC9_6jdpE",
        "outputId": "505baaa3-6ec0-40da-c385-2f671e4f1f31"
      },
      "outputs": [
        {
          "name": "stdout",
          "output_type": "stream",
          "text": [
            "Writing week5_1-1.c\n"
          ]
        }
      ],
      "source": [
        "# 파일 작성\n",
        "%%writefile week5_1-1.c\n",
        "\n",
        "#include <stdio.h>\n",
        "\n",
        "int main()\n",
        "{\n",
        "  int x=1, y=2, z;\n",
        "\n",
        "  z = (x+2)*y;\n",
        "  printf(\"x = %d, y = %d, z = %d\\n\", x,y,z);\n",
        "\n",
        "  z = (x%2) + (y%2);\n",
        "  printf(\"x = %d, y = %d, z = %d\\n\", x,y,z);\n",
        "\n",
        "  y = x++ % 3;\n",
        "  printf(\"x = %d, y = %d, z = %d\\n\", x,y,z);\n",
        "\n",
        "  return 0;\n",
        "}"
      ]
    },
    {
      "cell_type": "code",
      "execution_count": null,
      "metadata": {
        "colab": {
          "base_uri": "https://localhost:8080/"
        },
        "id": "sHi8Dblp6Vu9",
        "outputId": "e669070d-f17a-4d06-f437-4c9c697a540e"
      },
      "outputs": [
        {
          "name": "stdout",
          "output_type": "stream",
          "text": [
            "x = 1, y = 2, z = 6\n",
            "x = 1, y = 2, z = 1\n",
            "x = 2, y = 1, z = 1\n"
          ]
        },
        {
          "data": {
            "text/plain": []
          },
          "execution_count": 2,
          "metadata": {},
          "output_type": "execute_result"
        }
      ],
      "source": [
        "# 파일 실행(불러오기)\n",
        "%%shell\n",
        "gcc week5_1-1.c -o bout\n",
        "./bout"
      ]
    },
    {
      "cell_type": "markdown",
      "metadata": {
        "id": "R9ge5XUB7wTL"
      },
      "source": [
        "**예제**\n",
        "\n",
        "다음 각각에 해당하는 C언어 수식을 작성하시오.\n",
        "\n",
        "4. x는 0보다 작거나, 5 < x < 9 임\n",
        "5. x는 양수이면서, 2로 나누어 떨어지거나 5로 나누어 떨어짐\n",
        "6. 5번의 명제는 거짓임"
      ]
    },
    {
      "cell_type": "code",
      "execution_count": null,
      "metadata": {
        "colab": {
          "base_uri": "https://localhost:8080/"
        },
        "id": "ss2OwGPZ7vtb",
        "outputId": "3a177ab6-0a93-4036-9734-5b7174b3e681"
      },
      "outputs": [
        {
          "name": "stdout",
          "output_type": "stream",
          "text": [
            "Writing week5_1-2.c\n"
          ]
        }
      ],
      "source": [
        "# 파일 작성\n",
        "%%writefile week5_1-2.c\n",
        "\n",
        "#include <stdio.h>\n",
        "\n",
        "int main()\n",
        "{\n",
        "  int x=7, z;\n",
        "\n",
        "  z = x < 0 || 5 < x && x < 9;\n",
        "  printf(\"x = %d, z = %d\\n\", x,z);\n",
        "\n",
        "  z = x > 0 && x % 2 == 0 & x % 5 == 0;\n",
        "  printf(\"x = %d, z = %d\\n\", x,z);\n",
        "\n",
        "  z = !z;\n",
        "  printf(\"z = %d\\n\", z);\n",
        "\n",
        "  return 0;\n",
        "}"
      ]
    },
    {
      "cell_type": "code",
      "execution_count": null,
      "metadata": {
        "colab": {
          "base_uri": "https://localhost:8080/"
        },
        "id": "yOUPTFv08Fn_",
        "outputId": "6c07bcc2-7ef9-4597-fa30-2a18433d98cf"
      },
      "outputs": [
        {
          "name": "stdout",
          "output_type": "stream",
          "text": [
            "x = 7, z = 1\n",
            "x = 7, z = 0\n",
            "z = 1\n"
          ]
        },
        {
          "data": {
            "text/plain": []
          },
          "execution_count": 4,
          "metadata": {},
          "output_type": "execute_result"
        }
      ],
      "source": [
        "# 파일 실행(불러오기)\n",
        "%%shell\n",
        "gcc week5_1-2.c -o bout\n",
        "./bout"
      ]
    },
    {
      "cell_type": "markdown",
      "metadata": {
        "id": "z1jLUFQTs4hL"
      },
      "source": [
        "\n",
        "\n",
        "---\n",
        "\n"
      ]
    },
    {
      "cell_type": "markdown",
      "metadata": {
        "id": "XiePuVIHsu1s"
      },
      "source": [
        "**2. IF, IF ~ ELSE (1)**"
      ]
    },
    {
      "cell_type": "markdown",
      "metadata": {
        "id": "c4qR24_QswLD"
      },
      "source": [
        "- 제어문\n",
        "  - C언어는 순차처리 언어 ⇒ 특별한 지정이 없으면, 소스 코드 첫 줄부터 차례대로 처리\n",
        "  - 그러나, 문제해결을 위해 처리 흐름 제어 필요 ⇒ 제어문\n",
        "  - C언어에서는 조건문, 반복문과 같은 제어문 제공\n",
        "    - 조건문 : if 문, if ~ else 문, switch 문\n",
        "    - 반복문 : for 문, while 문, do ~ while 문\n",
        "    - 기타 : break 문, continue 문, goto 문, return 문\n",
        "\n",
        "- 조건문\n",
        "  - 조건에 따라 실행되는 코드가 달라지게 할 때 사용하는 제어문\n",
        "  - if 문, if ~ else 문, switch 문"
      ]
    },
    {
      "cell_type": "markdown",
      "metadata": {
        "id": "UWhObTtR_Ydi"
      },
      "source": [
        "- if 문\n",
        "  - 조건식이 참이면 중괄호로 둘러 쌓인 블록 안의 문장들이 실행됨\n",
        "  - 구문 : 조건식이 참일 때만 실행 & 블록 안의 문장이 하나인 경우 중괄호 생략 가능\n",
        "  ```C\n",
        "  if ( 조건식 )\n",
        "  {\n",
        "      문장;\n",
        "    }\n",
        "    ```"
      ]
    },
    {
      "cell_type": "markdown",
      "metadata": {
        "id": "M1nNSNgnAc2Z"
      },
      "source": [
        "**예제**\n",
        "\n",
        "다음 각 문장에 해당하는 if 문을 작성하시오\n",
        "\n",
        "1. 변수 x가 0보다 작거나 같으면, x의 값 1 증가\n",
        "2. 변수 a가 -10보다 크고 10보다 작으면, x에 0 대입\n",
        "3. 변수 num이 0이면, \"0 입니다.\"를 화면에 출력"
      ]
    },
    {
      "cell_type": "code",
      "execution_count": null,
      "metadata": {
        "colab": {
          "base_uri": "https://localhost:8080/"
        },
        "id": "LQiVjkoXswfA",
        "outputId": "133ae87a-98a6-4ec6-a749-c616c40b31ec"
      },
      "outputs": [
        {
          "name": "stdout",
          "output_type": "stream",
          "text": [
            "Writing week5_2-1.c\n"
          ]
        }
      ],
      "source": [
        "# 파일 작성\n",
        "%%writefile week5_2-1.c\n",
        "\n",
        "#include <stdio.h>\n",
        "\n",
        "int main()\n",
        "{\n",
        "  int x = 7, a = 0, num = 0;\n",
        "\n",
        "  if (x <= 0)\n",
        "    x++;\n",
        "  printf(\"x = %d\\n\", x);\n",
        "\n",
        "  if (a > -10 && a < 10)\n",
        "    x = 0;\n",
        "  printf(\"x = %d\\n\", x);\n",
        "\n",
        "  if (num == 0)\n",
        "    printf(\"0 입니다.\\n\");\n",
        "\n",
        "  return 0;\n",
        "}"
      ]
    },
    {
      "cell_type": "code",
      "execution_count": null,
      "metadata": {
        "colab": {
          "base_uri": "https://localhost:8080/"
        },
        "id": "43Ne9ja5A2a7",
        "outputId": "61555bdb-4735-40fa-ddf4-34fe9f4c004f"
      },
      "outputs": [
        {
          "name": "stdout",
          "output_type": "stream",
          "text": [
            "x = 7\n",
            "x = 0\n",
            "0 입니다.\n"
          ]
        },
        {
          "data": {
            "text/plain": []
          },
          "execution_count": 6,
          "metadata": {},
          "output_type": "execute_result"
        }
      ],
      "source": [
        "# 파일 실행(불러오기)\n",
        "%%shell\n",
        "gcc week5_2-1.c -o bout\n",
        "./bout"
      ]
    },
    {
      "cell_type": "markdown",
      "metadata": {
        "id": "gC1jMSLCBaoT"
      },
      "source": [
        "- if 문의 조건식이 참일 경우 실행할 문장이 하나라면 중괄호 { }는 생략 가능"
      ]
    },
    {
      "cell_type": "markdown",
      "metadata": {
        "id": "oh_yfqdnB8oJ"
      },
      "source": [
        "**기본 예제**\n",
        "\n",
        "정수 한 개를 입력 받고 절대값을 출력하는 프로그램을 작성하시오."
      ]
    },
    {
      "cell_type": "code",
      "execution_count": null,
      "metadata": {
        "colab": {
          "base_uri": "https://localhost:8080/"
        },
        "id": "B_63irwFCCa6",
        "outputId": "1729ef4d-80e8-44d6-bbdc-a12142618bc2"
      },
      "outputs": [
        {
          "name": "stdout",
          "output_type": "stream",
          "text": [
            "Overwriting week5_2-2.c\n"
          ]
        }
      ],
      "source": [
        "# 파일 작성\n",
        "%%writefile week5_2-2.c\n",
        "\n",
        "#include <stdio.h>\n",
        "\n",
        "int main()\n",
        "{\n",
        "  int a;\n",
        "  printf(\"정수를 입력하세요 : \");\n",
        "  scanf(\"%d\", &a);\n",
        "\n",
        "  if (a < 0)\n",
        "    a = -a;\n",
        "  printf(\"절대값 = %d\\n\", a);\n",
        "\n",
        "  return 0;\n",
        "}"
      ]
    },
    {
      "cell_type": "code",
      "execution_count": null,
      "metadata": {
        "colab": {
          "base_uri": "https://localhost:8080/"
        },
        "id": "g-h7wF3hCken",
        "outputId": "2f510cbc-eb42-4cee-a889-e6f9be7dea30"
      },
      "outputs": [
        {
          "name": "stdout",
          "output_type": "stream",
          "text": [
            "정수를 입력하세요 : -20\n",
            "절대값 = 20\n"
          ]
        },
        {
          "data": {
            "text/plain": []
          },
          "execution_count": 13,
          "metadata": {},
          "output_type": "execute_result"
        }
      ],
      "source": [
        "# 파일 실행(불러오기)\n",
        "%%shell\n",
        "gcc week5_2-2.c -o bout\n",
        "./bout"
      ]
    },
    {
      "cell_type": "markdown",
      "metadata": {
        "id": "qH19piYEC2KI"
      },
      "source": [
        "**예제**\n",
        "\n",
        "하나의 양의 정수를 입력 받아서, 2의 배수, 3의 배수, 5의 배수인지 조사하는 프로그램을 작성하시오."
      ]
    },
    {
      "cell_type": "code",
      "execution_count": null,
      "metadata": {
        "colab": {
          "base_uri": "https://localhost:8080/"
        },
        "id": "twQCQOhhDAf3",
        "outputId": "933a6712-fe1b-4ab4-fe40-bfc33be98135"
      },
      "outputs": [
        {
          "name": "stdout",
          "output_type": "stream",
          "text": [
            "Overwriting week5_2-3.c\n"
          ]
        }
      ],
      "source": [
        "# 파일 작성\n",
        "%%writefile week5_2-3.c\n",
        "\n",
        "#include <stdio.h>\n",
        "\n",
        "int main()\n",
        "{\n",
        "  int a;\n",
        "  printf(\"정수를 입력하세요 : \");\n",
        "  scanf(\"%d\", &a);\n",
        "\n",
        "  if ((a % 2) == 0)\n",
        "    printf(\"%d는 2의 배수입니다.\\n\", a);\n",
        "  if ((a % 3) == 0)\n",
        "    printf(\"%d는 3의 배수입니다.\\n\", a);\n",
        "  if ((a % 5) == 0)\n",
        "    printf(\"%d는 5의 배수입니다.\\n\", a);\n",
        "\n",
        "  return 0;\n",
        "}"
      ]
    },
    {
      "cell_type": "code",
      "execution_count": null,
      "metadata": {
        "colab": {
          "base_uri": "https://localhost:8080/"
        },
        "id": "xtZioTNYDml6",
        "outputId": "2c647be9-968f-47b0-e37d-d5b967e7c9d9"
      },
      "outputs": [
        {
          "name": "stdout",
          "output_type": "stream",
          "text": [
            "정수를 입력하세요 : 10\n",
            "10는 2의 배수입니다.\n",
            "10는 5의 배수입니다.\n"
          ]
        },
        {
          "data": {
            "text/plain": []
          },
          "execution_count": 17,
          "metadata": {},
          "output_type": "execute_result"
        }
      ],
      "source": [
        "# 파일 실행(불러오기)\n",
        "%%shell\n",
        "gcc week5_2-3.c -o bout\n",
        "./bout"
      ]
    },
    {
      "cell_type": "markdown",
      "metadata": {
        "id": "7mlUPXh9DvrS"
      },
      "source": [
        "**예제**\n",
        "\n",
        "두 개의 정수를 입력 받아서, 큰 수를 출력하는 프로그램을 작성하시오"
      ]
    },
    {
      "cell_type": "code",
      "execution_count": null,
      "metadata": {
        "colab": {
          "base_uri": "https://localhost:8080/"
        },
        "id": "t0rSGvTHD6ek",
        "outputId": "4c4b7fda-d030-4437-aebd-92afead39dd0"
      },
      "outputs": [
        {
          "name": "stdout",
          "output_type": "stream",
          "text": [
            "Writing week5_2-4.c\n"
          ]
        }
      ],
      "source": [
        "# 파일 작성\n",
        "%%writefile week5_2-4.c\n",
        "\n",
        "#include <stdio.h>\n",
        "\n",
        "int main()\n",
        "{\n",
        "  int a,b;\n",
        "  printf(\"정수를 입력하세요 : \");\n",
        "  scanf(\"%d %d\", &a,&b);\n",
        "\n",
        "  if (a > b)\n",
        "    printf(\"큰 수는 %d 입니다.\\n\", a);\n",
        "  if (a <= b)\n",
        "    printf(\"큰 수는 %d 입니다.\\n\", b);\n",
        "\n",
        "  return 0;\n",
        "}"
      ]
    },
    {
      "cell_type": "code",
      "execution_count": null,
      "metadata": {
        "colab": {
          "base_uri": "https://localhost:8080/"
        },
        "id": "as9vfC9xEneR",
        "outputId": "f2a891f8-beaa-4c3b-868d-4bce15451740"
      },
      "outputs": [
        {
          "name": "stdout",
          "output_type": "stream",
          "text": [
            "정수를 입력하세요 : 7 5\n",
            "큰 수는 7 입니다.\n"
          ]
        },
        {
          "data": {
            "text/plain": []
          },
          "execution_count": 19,
          "metadata": {},
          "output_type": "execute_result"
        }
      ],
      "source": [
        "# 파일 실행(불러오기)\n",
        "%%shell\n",
        "gcc week5_2-4.c -o bout\n",
        "./bout"
      ]
    },
    {
      "cell_type": "markdown",
      "metadata": {
        "id": "VjPY1i2oErRS"
      },
      "source": [
        "**예제**\n",
        "\n",
        "영어 소문자가 입력되면 \"소문자\"를 출력하고, 대문자가 입력되면 \"대문자\"라고 출력하는 코드를 작성하시오."
      ]
    },
    {
      "cell_type": "code",
      "execution_count": null,
      "metadata": {
        "colab": {
          "base_uri": "https://localhost:8080/"
        },
        "id": "gvQtjpZaE15f",
        "outputId": "b8312411-000d-477b-83cb-f9c3cb381314"
      },
      "outputs": [
        {
          "name": "stdout",
          "output_type": "stream",
          "text": [
            "Writing week5_2-5.c\n"
          ]
        }
      ],
      "source": [
        "# 파일 작성\n",
        "%%writefile week5_2-5.c\n",
        "\n",
        "#include <stdio.h>\n",
        "\n",
        "int main()\n",
        "{\n",
        "  char a;\n",
        "  printf(\"영어 문자 하나를 입력해 주세요 : \");\n",
        "  scanf(\"%c\", &a);\n",
        "\n",
        "  if (a >= 65 && a <= 90)\n",
        "    printf(\"입력된 문자는 대문자입니다.\");\n",
        "  if (a >= 97 && a <= 122)\n",
        "    printf(\"입력된 문자는 소문자입니다.\");\n",
        "\n",
        "  return 0;\n",
        "}"
      ]
    },
    {
      "cell_type": "code",
      "execution_count": null,
      "metadata": {
        "colab": {
          "base_uri": "https://localhost:8080/"
        },
        "id": "bcAA2eIDE5WG",
        "outputId": "5ef82217-911a-411a-8f9f-cc75760e1932"
      },
      "outputs": [
        {
          "name": "stdout",
          "output_type": "stream",
          "text": [
            "영어 문자 하나를 입력해 주세요 : b\n",
            "입력된 문자는 소문자입니다."
          ]
        },
        {
          "data": {
            "text/plain": []
          },
          "execution_count": 21,
          "metadata": {},
          "output_type": "execute_result"
        }
      ],
      "source": [
        "# 파일 실행(불러오기)\n",
        "%%shell\n",
        "gcc week5_2-5.c -o bout\n",
        "./bout"
      ]
    },
    {
      "cell_type": "markdown",
      "metadata": {
        "id": "_i5R2RbAs5d2"
      },
      "source": [
        "\n",
        "\n",
        "---\n",
        "\n"
      ]
    },
    {
      "cell_type": "markdown",
      "metadata": {
        "id": "DVpztN2bsw3I"
      },
      "source": [
        "**3. IF, IF ~ ELSE (2)**"
      ]
    },
    {
      "cell_type": "markdown",
      "metadata": {
        "id": "MdWS1or5sx1a"
      },
      "source": [
        "- 들여쓰기\n",
        "  - 일반적으로 if 문의 조건에 의해 영향을 받는 문장들은 쉽게 구별하기 위해 if 보다 더 들여 씀 ( 보통 tab 키 사용 )\n",
        "  - 들여쓰기는 가독성을 위한 것일 뿐, 구문에는 전혀 영향 없음"
      ]
    },
    {
      "cell_type": "markdown",
      "metadata": {
        "id": "rYPdfW02Hpig"
      },
      "source": [
        "- if 문 사용 시 주의 사항\n",
        "  - if의 조건식 뒤에 바로 세미콜론 ; 은 쓰지 않음\n",
        "\n",
        "- if 문 사용 시 자주하는 실수\n",
        "  - 조건식엥서 비교연산자 == 가 아닌 대입 연산자 = 를 쓰는 경우"
      ]
    },
    {
      "cell_type": "markdown",
      "metadata": {
        "id": "nPEWVkWMHv6I"
      },
      "source": [
        "- if-else 문\n",
        "  - if의 조건식이 참이면 조건식 바로 다음의 블록이 실행되고, 조건식이 거짓이면 else 문 다음의 블록이 실행됨\n",
        "  - 구문\n",
        "    ```C\n",
        "  if ( 조건식 ){\n",
        "      문장1;\n",
        "    }\n",
        "  else {\n",
        "      문장2;\n",
        "  }\n",
        "    ```\n",
        "  - 각 블록 안의 문장이 하나인 경우, 해당 블록의 중괄호 생략 가능"
      ]
    },
    {
      "cell_type": "markdown",
      "metadata": {
        "id": "bOv0G42jIbDM"
      },
      "source": [
        "**예제**\n",
        "\n",
        "다음 각 문장에 해당하는 if-else 문을 작성하시오\n",
        "\n",
        "1. 변수 x가 0보다 작거나 같으면, x의 값 1 증가  \n",
        "    그렇지 않으면, x의 값 1 감소\n",
        "2. 변수 a가 -10보다 크고 10보다 작으면, x에 0 대입  \n",
        "    그렇지 않으면, x의 값 1 감소\n",
        "3. 변수 num이 0이면, \"0 입니다.\"를 화면에 출력  \n",
        "    그렇지 않으면, \"0이 아니다.\"를 화면에 출력"
      ]
    },
    {
      "cell_type": "code",
      "execution_count": null,
      "metadata": {
        "colab": {
          "base_uri": "https://localhost:8080/"
        },
        "id": "mpIbXTMAsymD",
        "outputId": "b871ffd1-254b-4f97-82bd-6476c865bb96"
      },
      "outputs": [
        {
          "name": "stdout",
          "output_type": "stream",
          "text": [
            "Writing week5_3-1.c\n"
          ]
        }
      ],
      "source": [
        "# 파일 작성\n",
        "%%writefile week5_3-1.c\n",
        "\n",
        "#include <stdio.h>\n",
        "\n",
        "int main()\n",
        "{\n",
        "  int x, a, num;\n",
        "\n",
        "  printf(\"정수 입력 : \");\n",
        "  scanf(\"%d\", &x);\n",
        "  if (x <= 0)\n",
        "    x++;\n",
        "  else\n",
        "    x--;\n",
        "  printf(\"x = %d\\n\",x);\n",
        "\n",
        "  printf(\"정수 입력 : \");\n",
        "  scanf(\"%d\", &a);\n",
        "  if (a > -10 && a < 10)\n",
        "    x = 0;\n",
        "  else\n",
        "    x = 1;\n",
        "  printf(\"x = %d\\n\",x);\n",
        "\n",
        "  printf(\"정수 입력 : \");\n",
        "  scanf(\"%d\", &num);\n",
        "  if (num == 0)\n",
        "    printf(\"0 입니다.\\n\");\n",
        "  else\n",
        "    printf(\"0이 아니다.\\n\");\n",
        "\n",
        "  return 0;\n",
        "}"
      ]
    },
    {
      "cell_type": "code",
      "execution_count": null,
      "metadata": {
        "colab": {
          "base_uri": "https://localhost:8080/"
        },
        "id": "0Dx5ZZIuKDu2",
        "outputId": "9e0790f7-5de9-40fe-cb65-dae1f5318b87"
      },
      "outputs": [
        {
          "name": "stdout",
          "output_type": "stream",
          "text": [
            "정수 입력 : 7\n",
            "x = 6\n",
            "정수 입력 : 1\n",
            "x = 0\n",
            "정수 입력 : 0\n",
            "0 입니다.\n"
          ]
        },
        {
          "data": {
            "text/plain": []
          },
          "execution_count": 23,
          "metadata": {},
          "output_type": "execute_result"
        }
      ],
      "source": [
        "# 파일 실행(불러오기)\n",
        "%%shell\n",
        "gcc week5_3-1.c -o bout\n",
        "./bout"
      ]
    },
    {
      "cell_type": "markdown",
      "metadata": {
        "id": "hG_7NgS4KRNE"
      },
      "source": [
        "**예제**\n",
        "\n",
        "정수 두 개를 입력 받아 큰 수를 출력하는 프로그램을 작성해보자"
      ]
    },
    {
      "cell_type": "code",
      "execution_count": null,
      "metadata": {
        "colab": {
          "base_uri": "https://localhost:8080/"
        },
        "id": "YR5e1xNHKYfE",
        "outputId": "00171bd9-18da-42c1-d31e-17f7fbe4f79b"
      },
      "outputs": [
        {
          "name": "stdout",
          "output_type": "stream",
          "text": [
            "Writing week5_3-2.c\n"
          ]
        }
      ],
      "source": [
        "# 파일 작성\n",
        "%%writefile week5_3-2.c\n",
        "\n",
        "#include <stdio.h>\n",
        "\n",
        "int main()\n",
        "{\n",
        "  int a, b;\n",
        "\n",
        "  printf(\"정수 2개를 입력하세요 : \");\n",
        "  scanf(\"%d %d\", &a, &b);\n",
        "  if (a > b)\n",
        "    printf(\"큰 수는 %d입니다\\n\", a);\n",
        "  else\n",
        "    printf(\"큰 수는 %d입니다\\n\", b);\n",
        "\n",
        "  return 0;\n",
        "}"
      ]
    },
    {
      "cell_type": "code",
      "execution_count": null,
      "metadata": {
        "colab": {
          "base_uri": "https://localhost:8080/"
        },
        "id": "RUA2d9W5Kykv",
        "outputId": "a362dfb1-5078-46c6-aecf-2bbedc41c9c4"
      },
      "outputs": [
        {
          "name": "stdout",
          "output_type": "stream",
          "text": [
            "정수 2개를 입력하세요 : 2 3\n",
            "큰 수는 3입니다\n"
          ]
        },
        {
          "data": {
            "text/plain": []
          },
          "execution_count": 25,
          "metadata": {},
          "output_type": "execute_result"
        }
      ],
      "source": [
        "# 파일 실행(불러오기)\n",
        "%%shell\n",
        "gcc week5_3-2.c -o bout\n",
        "./bout"
      ]
    },
    {
      "cell_type": "markdown",
      "metadata": {
        "id": "k3rfPrC3pm4g"
      },
      "source": [
        "\n",
        "\n",
        "---\n",
        "\n"
      ]
    },
    {
      "cell_type": "markdown",
      "metadata": {
        "id": "VM5iFtropnvZ"
      },
      "source": [
        "**프활C 실습문제06-01**\n",
        "\n",
        "정수 n을 입력 받고 절대값을 출력하세요."
      ]
    },
    {
      "cell_type": "code",
      "execution_count": null,
      "metadata": {
        "colab": {
          "base_uri": "https://localhost:8080/"
        },
        "id": "TpwSY1wOpvHS",
        "outputId": "6259525b-d8ff-4e92-a049-1164f065dc4a"
      },
      "outputs": [
        {
          "name": "stdout",
          "output_type": "stream",
          "text": [
            "Writing week6_ex1.c\n"
          ]
        }
      ],
      "source": [
        "# 파일 작성\n",
        "%%writefile week6_ex1.c\n",
        "\n",
        "#include<stdio.h>\n",
        "\n",
        "int main(){\n",
        "\n",
        "\tint n;\n",
        "\tscanf(\"%d\",&n);\n",
        "\n",
        "\tn < 0 ? printf(\"%d\",-n) : printf(\"%d\",n); // 절댓값 구하기\n",
        "\n",
        "\treturn 0;\n",
        "}"
      ]
    },
    {
      "cell_type": "code",
      "execution_count": null,
      "metadata": {
        "colab": {
          "base_uri": "https://localhost:8080/"
        },
        "id": "4u7KJrQCp6DI",
        "outputId": "2140e506-4c3b-4b8c-add9-3398e4776b26"
      },
      "outputs": [
        {
          "name": "stdout",
          "output_type": "stream",
          "text": [
            "-17\n",
            "17"
          ]
        },
        {
          "data": {
            "text/plain": []
          },
          "execution_count": 40,
          "metadata": {},
          "output_type": "execute_result"
        }
      ],
      "source": [
        "# 파일 실행(불러오기)\n",
        "%%shell\n",
        "gcc week6_ex1.c -o bout\n",
        "./bout"
      ]
    },
    {
      "cell_type": "markdown",
      "metadata": {
        "id": "H4F94lofqCGt"
      },
      "source": [
        "**프활C 실습문제06-02**\n",
        "\n",
        "알파벳 문자 하나를 입력 받고 입력 받은 알파벳이 대문자이면 소문자로, 소문자이면 대문자로 출력하세요.\n",
        "(단, 알파벳 이외의 문자는 입력 받지 않습니다.)"
      ]
    },
    {
      "cell_type": "markdown",
      "metadata": {
        "id": "GlrtHUEhrsRJ"
      },
      "source": [
        "※ **ASCII**\n",
        "  > A = 65  \n",
        "  > a = 97  \n",
        "  > a - A = 32  "
      ]
    },
    {
      "cell_type": "code",
      "execution_count": null,
      "metadata": {
        "colab": {
          "base_uri": "https://localhost:8080/"
        },
        "id": "Of_JBXpRqLRt",
        "outputId": "c2e306c4-b720-46b7-8eb3-ac9cdb7a29f5"
      },
      "outputs": [
        {
          "name": "stdout",
          "output_type": "stream",
          "text": [
            "Writing week6_ex2.c\n"
          ]
        }
      ],
      "source": [
        "# 파일 작성\n",
        "%%writefile week6_ex2.c\n",
        "\n",
        "#include<stdio.h>\n",
        "\n",
        "int main(){\n",
        "\n",
        "\tchar alpha;\n",
        "\tscanf(\"%c\",&alpha);\n",
        "\n",
        "  if (alpha >=  97)   // ASCII : A = 65, a = 97, a-A = 32\n",
        "    printf(\"%c\",alpha-32);\n",
        "  else\n",
        "    printf(\"%c\",alpha+32);\n",
        "\n",
        "\treturn 0;\n",
        "}"
      ]
    },
    {
      "cell_type": "code",
      "execution_count": null,
      "metadata": {
        "colab": {
          "base_uri": "https://localhost:8080/"
        },
        "id": "wZMevQmArVoS",
        "outputId": "236890ce-828a-4d45-eed3-0ee41fe4f801"
      },
      "outputs": [
        {
          "name": "stdout",
          "output_type": "stream",
          "text": [
            "K\n",
            "k"
          ]
        },
        {
          "data": {
            "text/plain": []
          },
          "execution_count": 43,
          "metadata": {},
          "output_type": "execute_result"
        }
      ],
      "source": [
        "# 파일 실행(불러오기)\n",
        "%%shell\n",
        "gcc week6_ex2.c -o bout\n",
        "./bout"
      ]
    },
    {
      "cell_type": "markdown",
      "metadata": {
        "id": "gsff7IQ8qG1b"
      },
      "source": [
        "**프활C 실습문제06-03**\n",
        "\n",
        "정수 n, m을 입력 받고 두 수가 같으면 Same을 출력하고,\n",
        "n이 m보다 크면 N을,\n",
        "m이 n보다 크면 M을 출력하세요."
      ]
    },
    {
      "cell_type": "code",
      "execution_count": null,
      "metadata": {
        "colab": {
          "base_uri": "https://localhost:8080/"
        },
        "id": "yGcQYHkRr-15",
        "outputId": "e4a434cb-90a7-4e4d-8a40-dfcb2ce155f2"
      },
      "outputs": [
        {
          "name": "stdout",
          "output_type": "stream",
          "text": [
            "Writing week6_ex3.c\n"
          ]
        }
      ],
      "source": [
        "# 파일 작성\n",
        "%%writefile week6_ex3.c\n",
        "\n",
        "#include<stdio.h>\n",
        "\n",
        "int main(){\n",
        "\n",
        "\tint n, m;\n",
        "\tscanf(\"%d %d\",&n,&m);\n",
        "\n",
        "  if (n == m)\n",
        "    printf(\"Same\");\n",
        "  else\n",
        "    n > m ? printf(\"N\") : printf(\"M\");\n",
        "\n",
        "\treturn 0;\n",
        "}"
      ]
    },
    {
      "cell_type": "code",
      "execution_count": null,
      "metadata": {
        "colab": {
          "base_uri": "https://localhost:8080/"
        },
        "id": "6CiuNnl2scFU",
        "outputId": "2cefe2fd-94cf-464a-96d3-5c1da952dbf8"
      },
      "outputs": [
        {
          "name": "stdout",
          "output_type": "stream",
          "text": [
            "5 10\n",
            "M"
          ]
        },
        {
          "data": {
            "text/plain": []
          },
          "execution_count": 45,
          "metadata": {},
          "output_type": "execute_result"
        }
      ],
      "source": [
        "# 파일 실행(불러오기)\n",
        "%%shell\n",
        "gcc week6_ex3.c -o bout\n",
        "./bout"
      ]
    },
    {
      "cell_type": "markdown",
      "metadata": {
        "id": "IQdGgFwUtDGf"
      },
      "source": [
        "\n",
        "\n",
        "---\n",
        "\n"
      ]
    },
    {
      "cell_type": "markdown",
      "metadata": {
        "id": "mCmmw3Hds8YI"
      },
      "source": [
        "**프활C 실습퀴즈06-01**\n",
        "\n",
        "양의 정수 n과 m을 입력 받고 k를 입력 받습니다.\n",
        "k가 1이면 n과 m중 큰 수를 출력하고, k가 2이면 n과 m중 작은 수를 출력하세요."
      ]
    },
    {
      "cell_type": "code",
      "execution_count": null,
      "metadata": {
        "colab": {
          "base_uri": "https://localhost:8080/"
        },
        "id": "5b1WtvcStGr5",
        "outputId": "a5a28cf4-c533-4114-e986-a68fb1a39d5f"
      },
      "outputs": [
        {
          "name": "stdout",
          "output_type": "stream",
          "text": [
            "Writing week6_q1.c\n"
          ]
        }
      ],
      "source": [
        "# 파일 작성\n",
        "%%writefile week6_q1.c\n",
        "\n",
        "#include<stdio.h>\n",
        "\n",
        "int main(){\n",
        "\n",
        "  int n,m,k;\n",
        "  scanf(\"%d %d %d\",&n,&m,&k);\n",
        "\n",
        "  if (k == 1)\n",
        "    n > m ? printf(\"%d\",n) : printf(\"%d\", m);\n",
        "  else\n",
        "    n > m ? printf(\"%d\",m) : printf(\"%d\", n);\n",
        "\n",
        "\treturn 0;\n",
        "}"
      ]
    },
    {
      "cell_type": "code",
      "execution_count": null,
      "metadata": {
        "colab": {
          "base_uri": "https://localhost:8080/"
        },
        "id": "bmzJWBCCtHCh",
        "outputId": "a72740f9-3806-4dcb-d7e1-d74adafdef9d"
      },
      "outputs": [
        {
          "name": "stdout",
          "output_type": "stream",
          "text": [
            "5 3 1\n",
            "5"
          ]
        },
        {
          "data": {
            "text/plain": []
          },
          "execution_count": 2,
          "metadata": {},
          "output_type": "execute_result"
        }
      ],
      "source": [
        "# 파일 실행(불러오기)\n",
        "%%shell\n",
        "gcc week6_q1.c -o bout\n",
        "./bout"
      ]
    },
    {
      "cell_type": "markdown",
      "metadata": {
        "id": "iJBXAqOotR5Z"
      },
      "source": [
        "**프활C 실습퀴즈06-02**\n",
        "\n",
        "세자리 숫자를 입력 받고 세자리 숫자의 각 자리 숫자 합이 3의 배수이면 \"Triple!\"을 출력하고 아닐경우 \"None\"을 출력하세요."
      ]
    },
    {
      "cell_type": "code",
      "execution_count": null,
      "metadata": {
        "colab": {
          "base_uri": "https://localhost:8080/"
        },
        "id": "IBTScvQntV6G",
        "outputId": "fc4de5fa-884d-4bf5-e720-63c845678d61"
      },
      "outputs": [
        {
          "name": "stdout",
          "output_type": "stream",
          "text": [
            "Overwriting week6_q2.c\n"
          ]
        }
      ],
      "source": [
        "# 파일 작성\n",
        "%%writefile week6_q2.c\n",
        "\n",
        "#include<stdio.h>\n",
        "\n",
        "int main(){\n",
        "\n",
        "  int n;\n",
        "  scanf(\"%d\",&n);\n",
        "\n",
        "  int n1 = n/100;\n",
        "  int n2 = n%100/10;\n",
        "  int n3 = n%100%10;\n",
        "\n",
        "  if (((n1+n2+n3) % 3) == 0)\n",
        "    printf(\"Triple!\");\n",
        "  else\n",
        "    printf(\"None\");\n",
        "\n",
        "\treturn 0;\n",
        "}"
      ]
    },
    {
      "cell_type": "code",
      "execution_count": null,
      "metadata": {
        "colab": {
          "base_uri": "https://localhost:8080/"
        },
        "id": "9FyRRRk2tXXn",
        "outputId": "a39e44a7-5809-4c60-e8e2-7f64d1bc84fc"
      },
      "outputs": [
        {
          "name": "stdout",
          "output_type": "stream",
          "text": [
            "510\n",
            "Triple!"
          ]
        },
        {
          "data": {
            "text/plain": []
          },
          "execution_count": 6,
          "metadata": {},
          "output_type": "execute_result"
        }
      ],
      "source": [
        "# 파일 실행(불러오기)\n",
        "%%shell\n",
        "gcc week6_q2.c -o bout\n",
        "./bout"
      ]
    },
    {
      "cell_type": "markdown",
      "metadata": {
        "id": "Lfxh6M1RtaRO"
      },
      "source": [
        "**프활C 실습퀴즈06-03**\n",
        "\n",
        "숫자 a, b, c, d를 입력 받고 a를 b로 나눈 나머지 값과 c를 d로 나눈 나머지 값이 같으면 \"Same\"을 다르면 \"Different\"를 출력하세요.\n"
      ]
    },
    {
      "cell_type": "code",
      "execution_count": null,
      "metadata": {
        "colab": {
          "base_uri": "https://localhost:8080/"
        },
        "id": "qsK2uVLctc_Z",
        "outputId": "2764d707-49eb-4d1d-9e1d-8bb30ee7f144"
      },
      "outputs": [
        {
          "name": "stdout",
          "output_type": "stream",
          "text": [
            "Writing week6_q3.c\n"
          ]
        }
      ],
      "source": [
        "# 파일 작성\n",
        "%%writefile week6_q3.c\n",
        "\n",
        "#include<stdio.h>\n",
        "\n",
        "int main(){\n",
        "\n",
        "  int a,b,c,d;\n",
        "  scanf(\"%d %d %d %d\",&a,&b,&c,&d);\n",
        "\n",
        "  if ((a%b) == (c%d))\n",
        "    printf(\"Same\");\n",
        "  else\n",
        "    printf(\"Different\");\n",
        "\n",
        "\treturn 0;\n",
        "}"
      ]
    },
    {
      "cell_type": "code",
      "execution_count": null,
      "metadata": {
        "colab": {
          "base_uri": "https://localhost:8080/"
        },
        "id": "y5S_ayBSteL2",
        "outputId": "3eb3dcdd-f3d1-4ba2-ec2c-676287a9f602"
      },
      "outputs": [
        {
          "name": "stdout",
          "output_type": "stream",
          "text": [
            "5 3 2 4\n",
            "Same"
          ]
        },
        {
          "data": {
            "text/plain": []
          },
          "execution_count": 8,
          "metadata": {},
          "output_type": "execute_result"
        }
      ],
      "source": [
        "# 파일 실행(불러오기)\n",
        "%%shell\n",
        "gcc week6_q3.c -o bout\n",
        "./bout"
      ]
    },
    {
      "cell_type": "markdown",
      "metadata": {
        "id": "hlQ19Yu_SSwq"
      },
      "source": [
        "# **중간고사 대비**"
      ]
    },
    {
      "cell_type": "markdown",
      "metadata": {
        "id": "UE-FlqCiSdQs"
      },
      "source": [
        "**5주차 예습문제 - 1**\n",
        "\n",
        "정수 n을 입력 받고 일의 자리수를 출력하세요."
      ]
    },
    {
      "cell_type": "code",
      "execution_count": null,
      "metadata": {
        "colab": {
          "base_uri": "https://localhost:8080/"
        },
        "id": "wA9YjLUxtuaC",
        "outputId": "1216c086-3b64-41af-e320-4db163aa4553"
      },
      "outputs": [
        {
          "name": "stdout",
          "output_type": "stream",
          "text": [
            "Writing pre5_q1.c\n"
          ]
        }
      ],
      "source": [
        "# 파일 작성\n",
        "%%writefile pre5_q1.c\n",
        "\n",
        "#include<stdio.h>\n",
        "\n",
        "int main(){\n",
        "\n",
        "  int n;\n",
        "  scanf(\"%d\",&n);\n",
        "  printf(\"%d\",n%10);\n",
        "\n",
        "\treturn 0;\n",
        "}"
      ]
    },
    {
      "cell_type": "code",
      "execution_count": null,
      "metadata": {
        "colab": {
          "base_uri": "https://localhost:8080/"
        },
        "id": "KJhtXw4ututX",
        "outputId": "d8c15b9b-ed69-46c3-9669-fadbb0f9b3c9"
      },
      "outputs": [
        {
          "name": "stdout",
          "output_type": "stream",
          "text": [
            "543\n",
            "3"
          ]
        },
        {
          "data": {
            "text/plain": []
          },
          "execution_count": 47,
          "metadata": {},
          "output_type": "execute_result"
        }
      ],
      "source": [
        "# 파일 실행(불러오기)\n",
        "%%shell\n",
        "gcc pre5_q1.c -o bout\n",
        "./bout"
      ]
    },
    {
      "cell_type": "markdown",
      "metadata": {
        "id": "4OYVfkSvrXSo"
      },
      "source": [
        "\n",
        "\n",
        "---\n",
        "\n"
      ]
    },
    {
      "cell_type": "markdown",
      "metadata": {
        "id": "nZ3ghp7Lt-Hu"
      },
      "source": [
        "**5주차 예습문제 - 2**\n",
        "\n",
        "정수 a, b를 입력 받고\n",
        "a에서 b를 나눈 값을 소수점 셋째자리까지 출력하세요.\n",
        "(단 b는 0이 아닙니다.)"
      ]
    },
    {
      "cell_type": "code",
      "execution_count": null,
      "metadata": {
        "colab": {
          "base_uri": "https://localhost:8080/"
        },
        "id": "rN_zmWIGuKZ0",
        "outputId": "d7baac5a-f930-4c33-b377-dcf29decb06c"
      },
      "outputs": [
        {
          "name": "stdout",
          "output_type": "stream",
          "text": [
            "Writing pre5_q2.c\n"
          ]
        }
      ],
      "source": [
        "# 파일 작성\n",
        "%%writefile pre5_q2.c\n",
        "\n",
        "#include<stdio.h>\n",
        "\n",
        "int main(){\n",
        "\n",
        "  int a,b;\n",
        "  scanf(\"%d %d\",&a,&b);\n",
        "\n",
        "  double result = (double)a / (double)b;\n",
        "  printf(\"%.3f\",result);\n",
        "\n",
        "\treturn 0;\n",
        "}"
      ]
    },
    {
      "cell_type": "code",
      "execution_count": null,
      "metadata": {
        "colab": {
          "base_uri": "https://localhost:8080/"
        },
        "id": "JW-ID2fduKw_",
        "outputId": "2e317675-b6cd-4051-dd9a-f104fadce6d1"
      },
      "outputs": [
        {
          "name": "stdout",
          "output_type": "stream",
          "text": [
            "5 2\n",
            "2.500"
          ]
        },
        {
          "data": {
            "text/plain": []
          },
          "execution_count": 49,
          "metadata": {},
          "output_type": "execute_result"
        }
      ],
      "source": [
        "# 파일 실행(불러오기)\n",
        "%%shell\n",
        "gcc pre5_q2.c -o bout\n",
        "./bout"
      ]
    },
    {
      "cell_type": "markdown",
      "metadata": {
        "id": "Oi_EhqmHrdLV"
      },
      "source": [
        "\n",
        "\n",
        "---\n",
        "\n"
      ]
    },
    {
      "cell_type": "markdown",
      "metadata": {
        "id": "UdLfK7yPuLG_"
      },
      "source": [
        "**5주차 예습문제 - 3**\n",
        "\n",
        "정수 a를 입력 받고\n",
        "a가 10보다 크면 big을 작다면 small을 출력하세요.\n",
        "(단, a이 10인 경우는 없습니다.)"
      ]
    },
    {
      "cell_type": "code",
      "execution_count": null,
      "metadata": {
        "colab": {
          "base_uri": "https://localhost:8080/"
        },
        "id": "jUiNIQq4uddz",
        "outputId": "9a9bcccd-304c-4db3-99ca-3ad1b501b5e0"
      },
      "outputs": [
        {
          "name": "stdout",
          "output_type": "stream",
          "text": [
            "Writing pre5_q3.c\n"
          ]
        }
      ],
      "source": [
        "# 파일 작성\n",
        "%%writefile pre5_q3.c\n",
        "\n",
        "#include<stdio.h>\n",
        "\n",
        "int main(){\n",
        "\n",
        "  int a;\n",
        "\n",
        "  scanf(\"%d\",&a);\n",
        "\n",
        "  a > 10 ? printf(\"big\") : printf(\"small\");\n",
        "\n",
        "\treturn 0;\n",
        "}"
      ]
    },
    {
      "cell_type": "code",
      "execution_count": null,
      "metadata": {
        "colab": {
          "base_uri": "https://localhost:8080/"
        },
        "id": "05sBgosMud7U",
        "outputId": "bfa214b2-7522-46af-f550-53afdf31cd9b"
      },
      "outputs": [
        {
          "name": "stdout",
          "output_type": "stream",
          "text": [
            "8\n",
            "small"
          ]
        },
        {
          "data": {
            "text/plain": []
          },
          "execution_count": 51,
          "metadata": {},
          "output_type": "execute_result"
        }
      ],
      "source": [
        "# 파일 실행(불러오기)\n",
        "%%shell\n",
        "gcc pre5_q3.c -o bout\n",
        "./bout"
      ]
    },
    {
      "cell_type": "markdown",
      "metadata": {
        "id": "NeuvLfAkrhYg"
      },
      "source": [
        "\n",
        "\n",
        "---\n",
        "\n"
      ]
    },
    {
      "cell_type": "markdown",
      "metadata": {
        "id": "rS7Yb4klu-eA"
      },
      "source": [
        "**6주차 예습문제 - 1**\n",
        "\n",
        "입력 받은 정수형 변수 x가 0보다 작거나 같으면, x의 값 1을 증가시키세요.\n",
        "그리고 x의 값을 출력하세요."
      ]
    },
    {
      "cell_type": "code",
      "execution_count": null,
      "metadata": {
        "colab": {
          "base_uri": "https://localhost:8080/"
        },
        "id": "rWUXGg0vvCqb",
        "outputId": "98a69d04-71d4-467a-9c34-74ea8004e7bf"
      },
      "outputs": [
        {
          "name": "stdout",
          "output_type": "stream",
          "text": [
            "Writing pre6_q1.c\n"
          ]
        }
      ],
      "source": [
        "# 파일 작성\n",
        "%%writefile pre6_q1.c\n",
        "\n",
        "#include<stdio.h>\n",
        "\n",
        "int main(){\n",
        "\n",
        "  int x;\n",
        "  scanf(\"%d\",&x);\n",
        "\n",
        "  if (x <= 0)\n",
        "    printf(\"%d\",++x);\n",
        "  else\n",
        "    printf(\"%d\",x);\n",
        "\n",
        "\treturn 0;\n",
        "}"
      ]
    },
    {
      "cell_type": "code",
      "execution_count": null,
      "metadata": {
        "colab": {
          "base_uri": "https://localhost:8080/"
        },
        "id": "pPNPTWLQvC5d",
        "outputId": "fd383428-1d5c-488d-c097-4f30e35642c0"
      },
      "outputs": [
        {
          "name": "stdout",
          "output_type": "stream",
          "text": [
            "-2\n",
            "-1"
          ]
        },
        {
          "data": {
            "text/plain": []
          },
          "execution_count": 54,
          "metadata": {},
          "output_type": "execute_result"
        }
      ],
      "source": [
        "# 파일 실행(불러오기)\n",
        "%%shell\n",
        "gcc pre6_q1.c -o bout\n",
        "./bout"
      ]
    },
    {
      "cell_type": "markdown",
      "metadata": {
        "id": "LJTYvqvxriPg"
      },
      "source": [
        "\n",
        "\n",
        "---\n",
        "\n"
      ]
    },
    {
      "cell_type": "markdown",
      "metadata": {
        "id": "C2YOkUZ8vDQV"
      },
      "source": [
        "**6주차 예습문제 - 2**\n",
        "\n",
        "정수 a를 입력 받고 a의 절대값을 출력하세요."
      ]
    },
    {
      "cell_type": "code",
      "execution_count": null,
      "metadata": {
        "colab": {
          "base_uri": "https://localhost:8080/"
        },
        "id": "yJK_wcX4vFmz",
        "outputId": "1908e5cc-8237-443f-e2df-1befba4230ee"
      },
      "outputs": [
        {
          "name": "stdout",
          "output_type": "stream",
          "text": [
            "Writing pre6_q2.c\n"
          ]
        }
      ],
      "source": [
        "# 파일 작성\n",
        "%%writefile pre6_q2.c\n",
        "\n",
        "#include<stdio.h>\n",
        "\n",
        "int main(){\n",
        "\n",
        "  int a;\n",
        "  scanf(\"%d\",&a);\n",
        "\n",
        "  a < 0 ? printf(\"%d\",-a) : printf(\"%d\",a);\n",
        "\n",
        "\treturn 0;\n",
        "}"
      ]
    },
    {
      "cell_type": "code",
      "execution_count": null,
      "metadata": {
        "colab": {
          "base_uri": "https://localhost:8080/"
        },
        "id": "YUWo229evGUr",
        "outputId": "632ac6d2-fe83-46ff-b177-8af491ad3255"
      },
      "outputs": [
        {
          "name": "stdout",
          "output_type": "stream",
          "text": [
            "-172\n",
            "172"
          ]
        },
        {
          "data": {
            "text/plain": []
          },
          "execution_count": 56,
          "metadata": {},
          "output_type": "execute_result"
        }
      ],
      "source": [
        "# 파일 실행(불러오기)\n",
        "%%shell\n",
        "gcc pre6_q2.c -o bout\n",
        "./bout"
      ]
    },
    {
      "cell_type": "markdown",
      "metadata": {
        "id": "tKUFsZMFri1n"
      },
      "source": [
        "\n",
        "\n",
        "---\n",
        "\n"
      ]
    },
    {
      "cell_type": "markdown",
      "metadata": {
        "id": "WJGHxv_avGwz"
      },
      "source": [
        "**6주차 예습문제 - 3**\n",
        "\n",
        "정수 a를 입력 받고 2, 3, 5의 배수를 확인하여 예시에 맞게  출력하세요."
      ]
    },
    {
      "cell_type": "code",
      "execution_count": null,
      "metadata": {
        "colab": {
          "base_uri": "https://localhost:8080/"
        },
        "id": "cD0p-S0SvI7M",
        "outputId": "3054f031-dc44-4067-b082-1ec8a4bd2625"
      },
      "outputs": [
        {
          "name": "stdout",
          "output_type": "stream",
          "text": [
            "Overwriting pre6_q3.c\n"
          ]
        }
      ],
      "source": [
        "# 파일 작성\n",
        "%%writefile pre6_q3.c\n",
        "\n",
        "#include<stdio.h>\n",
        "\n",
        "int main(){\n",
        "\n",
        "  int a;\n",
        "  scanf(\"%d\",&a);\n",
        "\n",
        "  if ((a % 2) == 0)\n",
        "    printf(\"multiple of 2\\n\");\n",
        "\n",
        "  if ((a % 3) == 0)\n",
        "    printf(\"multiple of 3\\n\");\n",
        "\n",
        "  if ((a % 5) == 0)\n",
        "    printf(\"multiple of 5\\n\");\n",
        "\n",
        "\treturn 0;\n",
        "}"
      ]
    },
    {
      "cell_type": "code",
      "execution_count": null,
      "metadata": {
        "colab": {
          "base_uri": "https://localhost:8080/"
        },
        "id": "OL8oxEcgvJL4",
        "outputId": "ad7f98f6-6772-4515-a456-041f6750c49b"
      },
      "outputs": [
        {
          "name": "stdout",
          "output_type": "stream",
          "text": [
            "12\n",
            "multiple of 2\n",
            "multiple of 3\n"
          ]
        },
        {
          "data": {
            "text/plain": []
          },
          "execution_count": 66,
          "metadata": {},
          "output_type": "execute_result"
        }
      ],
      "source": [
        "# 파일 실행(불러오기)\n",
        "%%shell\n",
        "gcc pre6_q3.c -o bout\n",
        "./bout"
      ]
    },
    {
      "cell_type": "markdown",
      "metadata": {
        "id": "d0ylK4lcrjgk"
      },
      "source": [
        "\n",
        "\n",
        "---\n",
        "\n"
      ]
    },
    {
      "cell_type": "markdown",
      "metadata": {
        "id": "q7-7BSErvLuu"
      },
      "source": [
        "**6주차 예습문제 - 4**\n",
        "\n",
        "정수 a, b를 입력 받고 a와 b중 큰 수를 출력하세요.\n",
        "(두 수가 같은 경우는 없습니다.)"
      ]
    },
    {
      "cell_type": "code",
      "execution_count": null,
      "metadata": {
        "colab": {
          "base_uri": "https://localhost:8080/"
        },
        "id": "E-zeEuBTvN3B",
        "outputId": "4cdcc7a3-61e4-4d93-c3b1-407c0efa81ec"
      },
      "outputs": [
        {
          "name": "stdout",
          "output_type": "stream",
          "text": [
            "Writing pre6_q4.c\n"
          ]
        }
      ],
      "source": [
        "# 파일 작성\n",
        "%%writefile pre6_q4.c\n",
        "\n",
        "#include<stdio.h>\n",
        "\n",
        "int main(){\n",
        "\n",
        "  int a, b;\n",
        "  scanf(\"%d %d\",&a,&b);\n",
        "\n",
        "  a > b ? printf(\"%d\",a) : printf(\"%d\",b);\n",
        "\n",
        "\treturn 0;\n",
        "}"
      ]
    },
    {
      "cell_type": "code",
      "execution_count": null,
      "metadata": {
        "colab": {
          "base_uri": "https://localhost:8080/"
        },
        "id": "WvWwnyl2vOQh",
        "outputId": "cfc3ff21-d60a-43c2-c6b4-c462e5c3fd7e"
      },
      "outputs": [
        {
          "name": "stdout",
          "output_type": "stream",
          "text": [
            "-14 -9\n",
            "-9"
          ]
        },
        {
          "data": {
            "text/plain": []
          },
          "execution_count": 68,
          "metadata": {},
          "output_type": "execute_result"
        }
      ],
      "source": [
        "# 파일 실행(불러오기)\n",
        "%%shell\n",
        "gcc pre6_q4.c -o bout\n",
        "./bout"
      ]
    },
    {
      "cell_type": "markdown",
      "metadata": {
        "id": "IT6RNLZCrkGo"
      },
      "source": [
        "\n",
        "\n",
        "---\n",
        "\n"
      ]
    },
    {
      "cell_type": "markdown",
      "metadata": {
        "id": "Kr2TcELVyvWu"
      },
      "source": [
        "**6주차 문제은행 - 1**\n",
        "\n",
        "양의 정수인 3과목 점수를 입력받아 평균 점수가 60점 이상이면 Pass를 60점 미만이면 Fail을 출력하세요."
      ]
    },
    {
      "cell_type": "code",
      "execution_count": null,
      "metadata": {
        "colab": {
          "base_uri": "https://localhost:8080/"
        },
        "id": "iieTlWVHy0Df",
        "outputId": "a4bcacfd-abef-48db-c1df-5eef86ccc4e2"
      },
      "outputs": [
        {
          "name": "stdout",
          "output_type": "stream",
          "text": [
            "Writing qbank6_1.c\n"
          ]
        }
      ],
      "source": [
        "# 파일 작성\n",
        "%%writefile qbank6_1.c\n",
        "\n",
        "#include<stdio.h>\n",
        "\n",
        "int main(){\n",
        "\n",
        "  int a,b,c;\n",
        "  scanf(\"%d %d %d\",&a,&b,&c);\n",
        "\n",
        "  if (((a+b+c)/3) >= 60)\n",
        "    printf(\"Pass\");\n",
        "  else\n",
        "    printf(\"Fail\");\n",
        "\n",
        "\treturn 0;\n",
        "}"
      ]
    },
    {
      "cell_type": "code",
      "execution_count": null,
      "metadata": {
        "colab": {
          "base_uri": "https://localhost:8080/"
        },
        "id": "GfLd-R1dy0Ue",
        "outputId": "eda4fcf0-66ca-48bd-ce17-3c53347c89c6"
      },
      "outputs": [
        {
          "name": "stdout",
          "output_type": "stream",
          "text": [
            "62 93 64\n",
            "Pass"
          ]
        },
        {
          "data": {
            "text/plain": []
          },
          "execution_count": 10,
          "metadata": {},
          "output_type": "execute_result"
        }
      ],
      "source": [
        "# 파일 실행(불러오기)\n",
        "%%shell\n",
        "gcc qbank6_1.c -o bout\n",
        "./bout"
      ]
    },
    {
      "cell_type": "markdown",
      "metadata": {
        "id": "y0SRQsSErk_J"
      },
      "source": [
        "\n",
        "\n",
        "---\n",
        "\n"
      ]
    },
    {
      "cell_type": "markdown",
      "metadata": {
        "id": "iX6Yuiemy0pw"
      },
      "source": [
        "**6주차 문제은행 - 2**\n",
        "\n",
        "양의 정수 n과 m을 입력 받고 두 숫자가 모두 홀수이면 Odd를 모두 짝수이면 Even을, 두 숫자 중 한 숫자만 홀수이면 Diff를 출력하세요."
      ]
    },
    {
      "cell_type": "code",
      "execution_count": null,
      "metadata": {
        "colab": {
          "base_uri": "https://localhost:8080/"
        },
        "id": "CTA4f633y2X8",
        "outputId": "d166e324-3990-4895-ef18-eb2478dda42e"
      },
      "outputs": [
        {
          "name": "stdout",
          "output_type": "stream",
          "text": [
            "Overwriting qbank6_2.c\n"
          ]
        }
      ],
      "source": [
        "# 파일 작성\n",
        "%%writefile qbank6_2.c\n",
        "\n",
        "#include<stdio.h>\n",
        "\n",
        "int main(){\n",
        "\n",
        "  int n,m;\n",
        "  scanf(\"%d %d\",&n,&m);\n",
        "\n",
        "  if (((n%2) == 1) && ((m%2) == 1))\n",
        "    printf(\"Odd\");\n",
        "  else if (((n%2) == 0) && ((m%2) == 0))\n",
        "    printf(\"Even\");\n",
        "  else\n",
        "    printf(\"Diff\");\n",
        "\n",
        "\treturn 0;\n",
        "}"
      ]
    },
    {
      "cell_type": "code",
      "execution_count": null,
      "metadata": {
        "colab": {
          "base_uri": "https://localhost:8080/"
        },
        "id": "jtF5mBBay2wz",
        "outputId": "1dce9b74-4302-48ed-8013-03f2061ec0f0"
      },
      "outputs": [
        {
          "name": "stdout",
          "output_type": "stream",
          "text": [
            "8 10\n",
            "Even"
          ]
        },
        {
          "data": {
            "text/plain": []
          },
          "execution_count": 14,
          "metadata": {},
          "output_type": "execute_result"
        }
      ],
      "source": [
        "# 파일 실행(불러오기)\n",
        "%%shell\n",
        "gcc qbank6_2.c -o bout\n",
        "./bout"
      ]
    },
    {
      "cell_type": "markdown",
      "metadata": {
        "id": "Nx7p6KF8rlme"
      },
      "source": [
        "\n",
        "\n",
        "---\n",
        "\n"
      ]
    },
    {
      "cell_type": "markdown",
      "metadata": {
        "id": "4pEu813ey3Lq"
      },
      "source": [
        "**6주차 문제은행 - 3**\n",
        "\n",
        "총 구매액에 따라 다음과 같은 할인율을 적용한다.\n",
        "\n",
        "10000원 미만 - 할인 없음\n",
        "10000원 이상 20000원 미만 - 5%\n",
        "20000원 이상 50000원 미만 - 10%\n",
        "50000원 이상 100000원 미만 - 20%\n",
        "100000원 이상 - 30%\n",
        "\n",
        "총 구매액을 입력 받고 할인율을 적용한 금액을 출력하세요.\n",
        "(단, 소수점 이하는 버림한다.)"
      ]
    },
    {
      "cell_type": "code",
      "execution_count": null,
      "metadata": {
        "colab": {
          "base_uri": "https://localhost:8080/"
        },
        "id": "OMoxpduEy4HO",
        "outputId": "a62218ca-3aa7-46df-d0b0-59e9c58ad69a"
      },
      "outputs": [
        {
          "name": "stdout",
          "output_type": "stream",
          "text": [
            "Overwriting qbank6_3.c\n"
          ]
        }
      ],
      "source": [
        "# 파일 작성\n",
        "%%writefile qbank6_3.c\n",
        "\n",
        "#include<stdio.h>\n",
        "\n",
        "int main(){\n",
        "\n",
        "  int price;\n",
        "  double dis;\n",
        "  scanf(\"%d\", &price);\n",
        "\n",
        "  if (price < 10000)\n",
        "    dis = 1;\n",
        "  else if (price < 20000)\n",
        "    dis = 0.95;\n",
        "  else if (price < 50000)\n",
        "    dis = 0.90;\n",
        "  else if (price < 100000)\n",
        "    dis = 0.80;\n",
        "  else\n",
        "    dis = 0.70;\n",
        "\n",
        "  printf(\"%d\",(int)(price*dis));\n",
        "\n",
        "\treturn 0;\n",
        "}"
      ]
    },
    {
      "cell_type": "code",
      "execution_count": null,
      "metadata": {
        "colab": {
          "base_uri": "https://localhost:8080/"
        },
        "id": "Bt0kQ70ky4Yq",
        "outputId": "2cb51180-cedc-450c-c279-7764ef78cf22"
      },
      "outputs": [
        {
          "name": "stdout",
          "output_type": "stream",
          "text": [
            "37000\n",
            "33300"
          ]
        },
        {
          "data": {
            "text/plain": []
          },
          "execution_count": 12,
          "metadata": {},
          "output_type": "execute_result"
        }
      ],
      "source": [
        "# 파일 실행(불러오기)\n",
        "%%shell\n",
        "gcc qbank6_3.c -o bout\n",
        "./bout"
      ]
    },
    {
      "cell_type": "markdown",
      "metadata": {
        "id": "e78hUV9drmKr"
      },
      "source": [
        "\n",
        "\n",
        "---\n",
        "\n"
      ]
    },
    {
      "cell_type": "markdown",
      "metadata": {
        "id": "E184sxA2y5JK"
      },
      "source": [
        "**6주차 문제은행 - 4**\n",
        "\n",
        "문자를 입력 받고 입력 받은 문자가 대문자이면 소문자로 바꿔서 출력하고, 소문자이면 대문자로 바꿔서 출력하고, 숫자이면 숫자 그대로 출력하세요.\n",
        "\n",
        "**※ ASCII : A = 65, a = 97, a-A = 32**"
      ]
    },
    {
      "cell_type": "code",
      "execution_count": null,
      "metadata": {
        "colab": {
          "base_uri": "https://localhost:8080/"
        },
        "id": "2LSt-74Dy6WK",
        "outputId": "7fe4be00-e59e-4049-97f8-d84d1ebbb6e6"
      },
      "outputs": [
        {
          "name": "stdout",
          "output_type": "stream",
          "text": [
            "Overwriting qbank6_4.c\n"
          ]
        }
      ],
      "source": [
        "# 파일 작성\n",
        "%%writefile qbank6_4.c\n",
        "\n",
        "#include<stdio.h>\n",
        "\n",
        "int main(){\n",
        "\n",
        "\tchar c;\n",
        "\tscanf(\"%c\",&c);\n",
        "\n",
        "\tif (c >= 97)\n",
        "\t\tc = c - 32;\n",
        "\telse if (c >= 65)\n",
        "\t\tc = c + 32;\n",
        "\telse\n",
        "\t\tc = c;\n",
        "\n",
        "\tprintf(\"%c\",c);\n",
        "\n",
        "\n",
        "\treturn 0;\n",
        "}"
      ]
    },
    {
      "cell_type": "code",
      "execution_count": null,
      "metadata": {
        "colab": {
          "base_uri": "https://localhost:8080/"
        },
        "id": "52wnLMMVy6o2",
        "outputId": "1d245f3f-810d-490e-c078-791f459aa4ca"
      },
      "outputs": [
        {
          "name": "stdout",
          "output_type": "stream",
          "text": [
            "9\n",
            "9"
          ]
        },
        {
          "data": {
            "text/plain": []
          },
          "execution_count": 18,
          "metadata": {},
          "output_type": "execute_result"
        }
      ],
      "source": [
        "# 파일 실행(불러오기)\n",
        "%%shell\n",
        "gcc qbank6_4.c -o bout\n",
        "./bout"
      ]
    },
    {
      "cell_type": "markdown",
      "metadata": {
        "id": "m7cSBMTCrmsT"
      },
      "source": [
        "\n",
        "\n",
        "---\n",
        "\n"
      ]
    },
    {
      "cell_type": "markdown",
      "metadata": {
        "id": "0yOj7_vdy7DK"
      },
      "source": [
        "**6주차 문제은행 - 5**\n",
        "\n",
        "출석 점수와 중간고사 점수, 기말고사 점수를 입력 받고\n",
        "중간고사와 기말고사의 점수의 평균이 90점 이상이면 A를\n",
        "80점 이상이면 B를\n",
        "70점 이상이면 C를\n",
        "60점 이상이면 D를\n",
        "60점 미만이면 F를 출력하세요.\n",
        "단 출석 점수가 60점을 넘지 않는 학생은 FA를 출력하세요."
      ]
    },
    {
      "cell_type": "code",
      "execution_count": null,
      "metadata": {
        "colab": {
          "base_uri": "https://localhost:8080/"
        },
        "id": "UuLNJ82sy8Ve",
        "outputId": "096bf7b1-1d3a-4f2f-8c4a-c4a5a22d817a"
      },
      "outputs": [
        {
          "name": "stdout",
          "output_type": "stream",
          "text": [
            "Overwriting qbank6_5.c\n"
          ]
        }
      ],
      "source": [
        "# 파일 작성\n",
        "%%writefile qbank6_5.c\n",
        "\n",
        "#include<stdio.h>\n",
        "\n",
        "int main(){\n",
        "\n",
        "\tint a,m,f;\n",
        "\tscanf(\"%d %d %d\",&a,&m,&f);\n",
        "\n",
        "\tdouble avg = (m+f)/2;\n",
        "\tif (a < 60)\n",
        "\t\tprintf(\"FA\");\n",
        "\telse if (avg >= 90)\n",
        "\t\tprintf(\"A\");\n",
        "\telse if (avg >= 80)\n",
        "\t\tprintf(\"B\");\n",
        "\telse if (avg >= 70)\n",
        "\t\tprintf(\"C\");\n",
        "\telse if (avg >= 60)\n",
        "\t\tprintf(\"D\");\n",
        "\telse\n",
        "\t\tprintf(\"F\");\n",
        "\n",
        "\n",
        "\treturn 0;\n",
        "}"
      ]
    },
    {
      "cell_type": "code",
      "execution_count": null,
      "metadata": {
        "colab": {
          "base_uri": "https://localhost:8080/"
        },
        "id": "AXmGfTY5y8nZ",
        "outputId": "b40ad54d-4fc5-4c2a-ff36-b06b869cb799"
      },
      "outputs": [
        {
          "name": "stdout",
          "output_type": "stream",
          "text": [
            "56 92 98\n",
            "FA"
          ]
        },
        {
          "data": {
            "text/plain": []
          },
          "execution_count": 27,
          "metadata": {},
          "output_type": "execute_result"
        }
      ],
      "source": [
        "# 파일 실행(불러오기)\n",
        "%%shell\n",
        "gcc qbank6_5.c -o bout\n",
        "./bout"
      ]
    },
    {
      "cell_type": "markdown",
      "metadata": {
        "id": "jHR0HHMtrnOQ"
      },
      "source": [
        "\n",
        "\n",
        "---\n",
        "\n"
      ]
    },
    {
      "cell_type": "markdown",
      "metadata": {
        "id": "vG2Fnuq_eA9g"
      },
      "source": [
        "**2021-2학기 중간고사 - 1**\n",
        "\n",
        "삼각형의 밑변과 높이를 입력받고 넓이를 소수점 첫째자리까지 출력하시오. [20점]  \n",
        "(삼각형의 넓이 = 밑변 x 높이 x (1/2) )"
      ]
    },
    {
      "cell_type": "code",
      "execution_count": null,
      "metadata": {
        "colab": {
          "base_uri": "https://localhost:8080/"
        },
        "id": "KurLwgUo4Qsb",
        "outputId": "21172aa2-9136-4f5a-b66a-b1e4f56f9dbb"
      },
      "outputs": [
        {
          "name": "stdout",
          "output_type": "stream",
          "text": [
            "Overwriting 21-2_mid_1.c\n"
          ]
        }
      ],
      "source": [
        "# 파일 작성\n",
        "%%writefile 21-2_mid_1.c\n",
        "\n",
        "#include<stdio.h>\n",
        "\n",
        "int main(){\n",
        "\n",
        "\tint l, h;\n",
        "\n",
        "\tscanf(\"%d %d\",&l,&h);\n",
        "\n",
        "\tdouble area = (double)l * (double)h /2;\n",
        "\tprintf(\"%.1f\",area);\n",
        "\n",
        "\treturn 0;\n",
        "}"
      ]
    },
    {
      "cell_type": "code",
      "execution_count": null,
      "metadata": {
        "colab": {
          "base_uri": "https://localhost:8080/"
        },
        "id": "KVyrsFov4RDo",
        "outputId": "b858c763-e776-4c78-962e-ca2db3b106f7"
      },
      "outputs": [
        {
          "name": "stdout",
          "output_type": "stream",
          "text": [
            "19 3\n",
            "28.5"
          ]
        },
        {
          "data": {
            "text/plain": []
          },
          "execution_count": 32,
          "metadata": {},
          "output_type": "execute_result"
        }
      ],
      "source": [
        "# 파일 실행(불러오기)\n",
        "%%shell\n",
        "gcc 21-2_mid_1.c -o bout\n",
        "./bout"
      ]
    },
    {
      "cell_type": "markdown",
      "metadata": {
        "id": "bDGGWCy5roBG"
      },
      "source": [
        "\n",
        "\n",
        "---\n",
        "\n"
      ]
    },
    {
      "cell_type": "markdown",
      "metadata": {
        "id": "Oy7kvaGb7Y6K"
      },
      "source": [
        "**☆★☆ 2021-2학기 중간고사 - 2 ☆★☆**\n",
        "\n",
        "실수 a, b를 입력받고 a와 b를 소수점 첫째자리에서 반올림한다. 반올림한 a와 b의 합을 출력하시오. [15점]"
      ]
    },
    {
      "cell_type": "code",
      "execution_count": null,
      "metadata": {
        "colab": {
          "base_uri": "https://localhost:8080/"
        },
        "id": "prdKsLuu7eGy",
        "outputId": "daee8f41-325d-436c-bfa7-4f5d4bb28196"
      },
      "outputs": [
        {
          "name": "stdout",
          "output_type": "stream",
          "text": [
            "Writing 21-2_mid_2.c\n"
          ]
        }
      ],
      "source": [
        "# 파일 작성\n",
        "%%writefile 21-2_mid_2.c\n",
        "\n",
        "#include<stdio.h>\n",
        "\n",
        "int main(){\n",
        "\n",
        "\tdouble a,b;\n",
        "\n",
        "\tscanf(\"%lf %lf\",&a,&b);\n",
        "\n",
        "\ta = a + 0.5;\n",
        "\tb = b + 0.5;\n",
        "\n",
        "\tint sum = (int)a + (int)b;\n",
        "\n",
        "\tprintf(\"%d\",sum);\n",
        "\n",
        "\treturn 0;\n",
        "}"
      ]
    },
    {
      "cell_type": "code",
      "execution_count": null,
      "metadata": {
        "colab": {
          "base_uri": "https://localhost:8080/"
        },
        "id": "deU-d1fr7ecq",
        "outputId": "c9c1a05b-7e43-4d5a-db27-73eee2a4a7ac"
      },
      "outputs": [
        {
          "name": "stdout",
          "output_type": "stream",
          "text": [
            "2.5 3.94\n",
            "7"
          ]
        },
        {
          "data": {
            "text/plain": []
          },
          "execution_count": 2,
          "metadata": {},
          "output_type": "execute_result"
        }
      ],
      "source": [
        "# 파일 실행(불러오기)\n",
        "%%shell\n",
        "gcc 21-2_mid_2.c -o bout\n",
        "./bout"
      ]
    },
    {
      "cell_type": "markdown",
      "metadata": {
        "id": "qgHCgSfVros8"
      },
      "source": [
        "\n",
        "\n",
        "---\n",
        "\n"
      ]
    },
    {
      "cell_type": "markdown",
      "metadata": {
        "id": "PbqIBO8s7e0r"
      },
      "source": [
        "**2021-2학기 중간고사 - 3**\n",
        "\n",
        "3자리인 양의 정수를 입력받고 백의 자리, 십의 자리, 일의 자리 숫자를 모두 더한 값이 21이상이면 A를 12이상이면 B 12미만이면 C를 출력하시오. [15점]\n"
      ]
    },
    {
      "cell_type": "code",
      "execution_count": null,
      "metadata": {
        "colab": {
          "base_uri": "https://localhost:8080/"
        },
        "id": "q-KYowJy7iGq",
        "outputId": "ef8344c4-ae39-4317-b514-d63f543a351e"
      },
      "outputs": [
        {
          "name": "stdout",
          "output_type": "stream",
          "text": [
            "Overwriting 21-2_mid_3.c\n"
          ]
        }
      ],
      "source": [
        "# 파일 작성\n",
        "%%writefile 21-2_mid_3.c\n",
        "\n",
        "#include<stdio.h>\n",
        "\n",
        "int main(){\n",
        "\n",
        "\tint a;\n",
        "\tscanf(\"%d\",&a);\n",
        "\n",
        "\tint n1 = a/100;\n",
        "\tint n2 = a%100/10;\n",
        "\tint n3 = a%100%10;\n",
        "\n",
        "\tint sum = n1+n2+n3;\n",
        "\tif (sum >= 21)\n",
        "\t\tprintf(\"A\");\n",
        "\telse if (sum >= 12)\n",
        "\t\tprintf(\"B\");\n",
        "\telse\n",
        "\t\tprintf(\"C\");\n",
        "\n",
        "\treturn 0;\n",
        "}"
      ]
    },
    {
      "cell_type": "code",
      "execution_count": null,
      "metadata": {
        "colab": {
          "base_uri": "https://localhost:8080/"
        },
        "id": "fqKpmHKr7ie9",
        "outputId": "0ec92f43-e62b-4efe-e4ee-2b2e9e275059"
      },
      "outputs": [
        {
          "name": "stdout",
          "output_type": "stream",
          "text": [
            "536\n",
            "B"
          ]
        },
        {
          "data": {
            "text/plain": []
          },
          "execution_count": 6,
          "metadata": {},
          "output_type": "execute_result"
        }
      ],
      "source": [
        "# 파일 실행(불러오기)\n",
        "%%shell\n",
        "gcc 21-2_mid_3.c -o bout\n",
        "./bout"
      ]
    },
    {
      "cell_type": "markdown",
      "metadata": {
        "id": "ym0Sym-XrpTB"
      },
      "source": [
        "\n",
        "\n",
        "---\n",
        "\n"
      ]
    },
    {
      "cell_type": "markdown",
      "metadata": {
        "id": "l0ruRMHF-L-s"
      },
      "source": [
        "**2022-1학기 예비대학 중간고사 - 1**\n",
        "\n",
        "양의 정수인 원의 반지름 r을 입력받고 원의 둘레를 소수점 첫째 자리까지 출력하세요. [20점]  \n",
        "(단 PI는 3.14로 계산합니다.)  \n",
        "(원의 둘레 = 2 x PI x r)"
      ]
    },
    {
      "cell_type": "code",
      "execution_count": null,
      "metadata": {
        "colab": {
          "base_uri": "https://localhost:8080/"
        },
        "id": "bOJYfJfM-Ty0",
        "outputId": "eb458951-cd0d-45c9-f1f3-d131e636d82b"
      },
      "outputs": [
        {
          "name": "stdout",
          "output_type": "stream",
          "text": [
            "Writing 22-1_pre_mid_1.c\n"
          ]
        }
      ],
      "source": [
        "# 파일 작성\n",
        "%%writefile 22-1_pre_mid_1.c\n",
        "\n",
        "#include<stdio.h>\n",
        "\n",
        "int main(){\n",
        "\n",
        "\tint r;\n",
        "\tscanf(\"%d\",&r);\n",
        "\n",
        "  double PI = 3.14;\n",
        "  double result = 2*PI*r;\n",
        "\n",
        "  printf(\"%.1f\",result);\n",
        "\n",
        "\treturn 0;\n",
        "}"
      ]
    },
    {
      "cell_type": "code",
      "execution_count": null,
      "metadata": {
        "colab": {
          "base_uri": "https://localhost:8080/"
        },
        "id": "CJEQCeEX-UG5",
        "outputId": "e0632ee7-6e1f-4b45-8e73-5ae66bef53ba"
      },
      "outputs": [
        {
          "name": "stdout",
          "output_type": "stream",
          "text": [
            "3\n",
            "18.8"
          ]
        },
        {
          "data": {
            "text/plain": []
          },
          "execution_count": 8,
          "metadata": {},
          "output_type": "execute_result"
        }
      ],
      "source": [
        "# 파일 실행(불러오기)\n",
        "%%shell\n",
        "gcc 22-1_pre_mid_1.c -o bout\n",
        "./bout"
      ]
    },
    {
      "cell_type": "markdown",
      "metadata": {
        "id": "czGOVReWrp7R"
      },
      "source": [
        "\n",
        "\n",
        "---\n",
        "\n"
      ]
    },
    {
      "cell_type": "markdown",
      "metadata": {
        "id": "cqK8bfKZ-Vzi"
      },
      "source": [
        "**2022-1학기 예비대학 중간고사 - 2**\n",
        "\n",
        "세자리인 양의 정수를 입력 받고 자리수를 모두 곱한 결과를 예시에 맞게 출력하세요.  [15점]  \n",
        "(단, 입력하는 세자리 양의 정수는 100이상 999이하 입니다.)"
      ]
    },
    {
      "cell_type": "code",
      "execution_count": null,
      "metadata": {
        "colab": {
          "base_uri": "https://localhost:8080/"
        },
        "id": "hvpA6Diq-XJ6",
        "outputId": "7c003145-5454-4d0f-ea8a-e298fea8071a"
      },
      "outputs": [
        {
          "name": "stdout",
          "output_type": "stream",
          "text": [
            "Writing 22-1_pre_mid_2.c\n"
          ]
        }
      ],
      "source": [
        "# 파일 작성\n",
        "%%writefile 22-1_pre_mid_2.c\n",
        "\n",
        "#include<stdio.h>\n",
        "\n",
        "int main(){\n",
        "\n",
        "\tint a;\n",
        "\tscanf(\"%d\",&a);\n",
        "\n",
        "\tint n1 = a/100;\n",
        "\tint n2 = (a%100)/10;\n",
        "\tint n3 = (a%100)%10;\n",
        "\n",
        "\tprintf(\"%d\",n1*n2*n3);\n",
        "\n",
        "\treturn 0;\n",
        "}"
      ]
    },
    {
      "cell_type": "code",
      "execution_count": null,
      "metadata": {
        "colab": {
          "base_uri": "https://localhost:8080/"
        },
        "id": "sI6CNggs-XfV",
        "outputId": "c8cc6ee4-fa67-42b2-b2b4-40eaffa083db"
      },
      "outputs": [
        {
          "name": "stdout",
          "output_type": "stream",
          "text": [
            "119\n",
            "9"
          ]
        },
        {
          "data": {
            "text/plain": []
          },
          "execution_count": 10,
          "metadata": {},
          "output_type": "execute_result"
        }
      ],
      "source": [
        "# 파일 실행(불러오기)\n",
        "%%shell\n",
        "gcc 22-1_pre_mid_2.c -o bout\n",
        "./bout"
      ]
    },
    {
      "cell_type": "markdown",
      "metadata": {
        "id": "2mAjudnxrqfR"
      },
      "source": [
        "\n",
        "\n",
        "---\n",
        "\n"
      ]
    },
    {
      "cell_type": "markdown",
      "metadata": {
        "id": "zXslyfLl-X6t"
      },
      "source": [
        "**2022-1학기 예비대학 중간고사 - 3**\n",
        "\n",
        "출석 점수와 중간고사 점수, 기말고사 점수를 입력 받고\n",
        "중간고사와 기말고사의 점수의 평균이 90점 이상이면 A를  \n",
        "80점 이상이면 B를  \n",
        "70점 이상이면 C를  \n",
        "60점 이상이면 D를  \n",
        "60점 미만이면 F를 출력하세요.  \n",
        "출석 점수가 60점을 넘지 않는 학생은 FA를 출력하세요. [20점]  \n",
        "(단, 모든 점수는 100이하의 양의 정수입니다.)"
      ]
    },
    {
      "cell_type": "code",
      "execution_count": null,
      "metadata": {
        "colab": {
          "base_uri": "https://localhost:8080/"
        },
        "id": "fFSP-gCd-ZTk",
        "outputId": "ed64083e-db91-493f-f944-3ddb80678bed"
      },
      "outputs": [
        {
          "name": "stdout",
          "output_type": "stream",
          "text": [
            "Writing 22-1_pre_mid_3.c\n"
          ]
        }
      ],
      "source": [
        "# 파일 작성\n",
        "%%writefile 22-1_pre_mid_3.c\n",
        "\n",
        "#include<stdio.h>\n",
        "\n",
        "int main(){\n",
        "\n",
        "\tint a,m,f;\n",
        "\tscanf(\"%d %d %d\", &a,&m,&f);\n",
        "\n",
        "\tdouble avg = ((m+f)/2);\n",
        "\tif (a < 60)\n",
        "\t\tprintf(\"FA\");\n",
        "\telse if (avg >= 90)\n",
        "\t\tprintf(\"A\");\n",
        "\telse if (avg >= 80)\n",
        "\t\tprintf(\"B\");\n",
        "\telse if (avg >= 70)\n",
        "\t\tprintf(\"C\");\n",
        "\telse if (avg >= 60)\n",
        "\t\tprintf(\"D\");\n",
        "\telse\n",
        "\t\tprintf(\"F\");\n",
        "\n",
        "\treturn 0;\n",
        "}"
      ]
    },
    {
      "cell_type": "code",
      "execution_count": null,
      "metadata": {
        "colab": {
          "base_uri": "https://localhost:8080/"
        },
        "id": "ckfcJkK2-Zv8",
        "outputId": "9dab8fa5-1c77-4481-c380-d018048f6064"
      },
      "outputs": [
        {
          "name": "stdout",
          "output_type": "stream",
          "text": [
            "80 90 86\n",
            "B"
          ]
        },
        {
          "data": {
            "text/plain": []
          },
          "execution_count": 12,
          "metadata": {},
          "output_type": "execute_result"
        }
      ],
      "source": [
        "# 파일 실행(불러오기)\n",
        "%%shell\n",
        "gcc 22-1_pre_mid_3.c -o bout\n",
        "./bout"
      ]
    },
    {
      "cell_type": "markdown",
      "metadata": {
        "id": "-B4YloZrrrEZ"
      },
      "source": [
        "\n",
        "\n",
        "---\n",
        "\n"
      ]
    },
    {
      "cell_type": "markdown",
      "metadata": {
        "id": "M-gUW2kW-aMW"
      },
      "source": [
        "**2022-1학기 예비대학 중간고사 - 5**\n",
        "\n",
        "알파벳 대문자 두개를 입력받고 영어사전 순으로 앞에있는 알파벳을 소문자로 출력하세요. [15점]  \n",
        "(단, 입력 받는 알파벳 두개는 같지 않습니다.)"
      ]
    },
    {
      "cell_type": "code",
      "execution_count": null,
      "metadata": {
        "colab": {
          "base_uri": "https://localhost:8080/"
        },
        "id": "Jj4eO8pK-bw7",
        "outputId": "02bc5ceb-de2d-467d-aeae-8f9b8d3e70a1"
      },
      "outputs": [
        {
          "name": "stdout",
          "output_type": "stream",
          "text": [
            "Overwriting 22-1_pre_mid_5.c\n"
          ]
        }
      ],
      "source": [
        "# 파일 작성\n",
        "%%writefile 22-1_pre_mid_5.c\n",
        "\n",
        "#include<stdio.h>\n",
        "\n",
        "int main(){\n",
        "\n",
        "\tchar a,b;\n",
        "\tscanf(\"%c %c\",&a,&b);\n",
        "\n",
        "\tif (a < b)\n",
        "\t\tprintf(\"%c\",a+32);\n",
        "\telse\n",
        "\t\tprintf(\"%c\",b+32);\n",
        "\n",
        "\treturn 0;\n",
        "}"
      ]
    },
    {
      "cell_type": "code",
      "execution_count": null,
      "metadata": {
        "colab": {
          "base_uri": "https://localhost:8080/"
        },
        "id": "aC9g8265-cII",
        "outputId": "71f28f68-6c12-4268-dfc5-2a266fa360ee"
      },
      "outputs": [
        {
          "name": "stdout",
          "output_type": "stream",
          "text": [
            "N C\n",
            "c"
          ]
        },
        {
          "data": {
            "text/plain": []
          },
          "execution_count": 18,
          "metadata": {},
          "output_type": "execute_result"
        }
      ],
      "source": [
        "# 파일 실행(불러오기)\n",
        "%%shell\n",
        "gcc 22-1_pre_mid_5.c -o bout\n",
        "./bout"
      ]
    },
    {
      "cell_type": "markdown",
      "metadata": {
        "id": "bQgW3J26rrjw"
      },
      "source": [
        "\n",
        "\n",
        "---\n",
        "\n"
      ]
    },
    {
      "cell_type": "markdown",
      "metadata": {
        "id": "riSHtfo---Cr"
      },
      "source": [
        "**2022-1학기 중간고사 - 1**\n",
        "\n",
        "반지름을 2개 입력받아 반지름이 큰 원과 반지름이 작은 원의 넓이의 차를 출력하시오. [20점]  \n",
        "(PI는 3.14로 계산, 원의 넓이 = πr²)"
      ]
    },
    {
      "cell_type": "code",
      "execution_count": null,
      "metadata": {
        "colab": {
          "base_uri": "https://localhost:8080/"
        },
        "id": "7CFoS7aJ_Bn9",
        "outputId": "62c4510d-c0c6-4ad9-fc0e-204d16fc5824"
      },
      "outputs": [
        {
          "name": "stdout",
          "output_type": "stream",
          "text": [
            "Overwriting 22-1_mid_1.c\n"
          ]
        }
      ],
      "source": [
        "# 파일 작성\n",
        "%%writefile 22-1_mid_1.c\n",
        "\n",
        "#include<stdio.h>\n",
        "\n",
        "int main(){\n",
        "\n",
        "\tint a, b;\n",
        "\tscanf(\"%d %d\",&a,&b);\n",
        "\tdouble PI = 3.14;\n",
        "\n",
        "\tdouble areaa = a * a * PI;\n",
        "\tdouble areab = b * b * PI;\n",
        "\n",
        "\tif (a > b)\n",
        "\t\tprintf(\"%.2f\",areaa-areab);\n",
        "\telse\n",
        "\t\tprintf(\"%.2f\",areab-areaa);\n",
        "\n",
        "\treturn 0;\n",
        "}"
      ]
    },
    {
      "cell_type": "code",
      "execution_count": null,
      "metadata": {
        "colab": {
          "base_uri": "https://localhost:8080/"
        },
        "id": "ghVAhMD0_B9P",
        "outputId": "b36f2b86-b8c7-41aa-cd51-4df20743adc5"
      },
      "outputs": [
        {
          "name": "stdout",
          "output_type": "stream",
          "text": [
            "19 3\n",
            "1105.28"
          ]
        },
        {
          "data": {
            "text/plain": []
          },
          "execution_count": 31,
          "metadata": {},
          "output_type": "execute_result"
        }
      ],
      "source": [
        "# 파일 실행(불러오기)\n",
        "%%shell\n",
        "gcc 22-1_mid_1.c -o bout\n",
        "./bout"
      ]
    },
    {
      "cell_type": "markdown",
      "metadata": {
        "id": "C7voZtHNrsJS"
      },
      "source": [
        "\n",
        "\n",
        "---\n",
        "\n"
      ]
    },
    {
      "cell_type": "markdown",
      "metadata": {
        "id": "LdbMdHmT_DVo"
      },
      "source": [
        "**2022-1학기 중간고사 - 2**\n",
        "\n",
        "양의 정수 n과 m을 입력받고 두 숫자가  \n",
        "모두 5와 7의 배수이면 A multiple of 5&7를 출력하고  \n",
        "모두 7의 배수이면 A multiple of 7를 출력하고  \n",
        "모두 5의 배수이면 A multiple of 5를 출력하고  \n",
        "세 가지에 해당하지 않는 경우 None을 출력하세요. [15점]"
      ]
    },
    {
      "cell_type": "code",
      "execution_count": null,
      "metadata": {
        "colab": {
          "base_uri": "https://localhost:8080/"
        },
        "id": "o5JmUuEM_ETs",
        "outputId": "e18712f4-b732-4e73-c26e-ed18aaba50a8"
      },
      "outputs": [
        {
          "name": "stdout",
          "output_type": "stream",
          "text": [
            "Writing 22-1_mid_2.c\n"
          ]
        }
      ],
      "source": [
        "# 파일 작성\n",
        "%%writefile 22-1_mid_2.c\n",
        "\n",
        "#include<stdio.h>\n",
        "\n",
        "int main(){\n",
        "\n",
        "\tint n,m;\n",
        "\tscanf(\"%d %d\",&n,&m);\n",
        "\n",
        "\tif ((n%5 == 0) && (n%7 == 0) && (m%5 == 0) && (m%7 == 0))\n",
        "\t\tprintf(\"A multiple of 5&7\");\n",
        "\telse if ((n%7 == 0) && (m%7 == 0))\n",
        "\t\tprintf(\"A multiple of 7\");\n",
        "\telse if ((n%5 == 0) && (m%5 == 0))\n",
        "\t\tprintf(\"A multiple of 5\");\n",
        "\telse\n",
        "\t\tprintf(\"None\");\n",
        "\n",
        "\treturn 0;\n",
        "}"
      ]
    },
    {
      "cell_type": "code",
      "execution_count": null,
      "metadata": {
        "colab": {
          "base_uri": "https://localhost:8080/"
        },
        "id": "rcvsgIKP_Emu",
        "outputId": "5a2b9f9a-f178-41b6-da57-2361b4fac19b"
      },
      "outputs": [
        {
          "name": "stdout",
          "output_type": "stream",
          "text": [
            "70 105\n",
            "A multiple of 5&7"
          ]
        },
        {
          "data": {
            "text/plain": []
          },
          "execution_count": 34,
          "metadata": {},
          "output_type": "execute_result"
        }
      ],
      "source": [
        "# 파일 실행(불러오기)\n",
        "%%shell\n",
        "gcc 22-1_mid_2.c -o bout\n",
        "./bout"
      ]
    },
    {
      "cell_type": "markdown",
      "metadata": {
        "id": "S28ZyfhHrszS"
      },
      "source": [
        "\n",
        "\n",
        "---\n",
        "\n"
      ]
    },
    {
      "cell_type": "markdown",
      "metadata": {
        "id": "kV3TqOKU_E-e"
      },
      "source": [
        "**2022-1학기 중간고사 - 3**\n",
        "\n",
        "알파벳 대문자 1개와 소문자 1개를 순서대로 입력받고 알파벳 순서대로 앞에 있는 알파벳을 출력하세요.  \n",
        "(단, 두 알파벳은 서로 다릅니다.) [15점]"
      ]
    },
    {
      "cell_type": "code",
      "execution_count": null,
      "metadata": {
        "colab": {
          "base_uri": "https://localhost:8080/"
        },
        "id": "4E-34cuQ_GLF",
        "outputId": "586b81e3-813f-4682-8223-120d2eacffb0"
      },
      "outputs": [
        {
          "name": "stdout",
          "output_type": "stream",
          "text": [
            "Writing 22-1_mid_3.c\n"
          ]
        }
      ],
      "source": [
        "# 파일 작성\n",
        "%%writefile 22-1_mid_3.c\n",
        "\n",
        "#include<stdio.h>\n",
        "\n",
        "int main(){\n",
        "\n",
        "\tchar a,b;\n",
        "\tscanf(\"%c %c\",&a,&b);\n",
        "\n",
        "\tif ((b - 32) > a)\n",
        "\t\tprintf(\"%c\",a);\n",
        "\telse\n",
        "\t\tprintf(\"%c\",b);\n",
        "\n",
        "\treturn 0;\n",
        "}"
      ]
    },
    {
      "cell_type": "code",
      "execution_count": null,
      "metadata": {
        "colab": {
          "base_uri": "https://localhost:8080/"
        },
        "id": "ACzSPa-U_Gfg",
        "outputId": "f4b4ddea-62e1-4709-b91b-20a27d264dc8"
      },
      "outputs": [
        {
          "name": "stdout",
          "output_type": "stream",
          "text": [
            "A b\n",
            "A"
          ]
        },
        {
          "data": {
            "text/plain": []
          },
          "execution_count": 36,
          "metadata": {},
          "output_type": "execute_result"
        }
      ],
      "source": [
        "# 파일 실행(불러오기)\n",
        "%%shell\n",
        "gcc 22-1_mid_3.c -o bout\n",
        "./bout"
      ]
    },
    {
      "cell_type": "markdown",
      "metadata": {
        "id": "dW92G6MqrtX1"
      },
      "source": [
        "\n",
        "\n",
        "---\n",
        "\n"
      ]
    },
    {
      "cell_type": "markdown",
      "metadata": {
        "id": "ZARWT1hs_G3j"
      },
      "source": [
        "**2022-1학기 중간고사 - 4**\n",
        "\n",
        "양의 실수 A와 B를 입력받고  \n",
        "A와 B를 소수점 첫째 자리에서 반올림하여 정수로 만든 후,  \n",
        "두 수의 크기를 비교하여  \n",
        "A가 더 크면 A를,  \n",
        "B가 더 크면 B를,  \n",
        "A와 B가 같다면 Same을 출력하세요. [15점]"
      ]
    },
    {
      "cell_type": "code",
      "execution_count": null,
      "metadata": {
        "colab": {
          "base_uri": "https://localhost:8080/"
        },
        "id": "QPX6zgA-_II1",
        "outputId": "a177c068-4264-4bc0-fc59-09245a1c6525"
      },
      "outputs": [
        {
          "name": "stdout",
          "output_type": "stream",
          "text": [
            "Overwriting 22-1_mid_4.c\n"
          ]
        }
      ],
      "source": [
        "# 파일 작성\n",
        "%%writefile 22-1_mid_4.c\n",
        "\n",
        "#include<stdio.h>\n",
        "\n",
        "int main(){\n",
        "\n",
        "\tdouble A,B;\n",
        "\tscanf(\"%lf %lf\",&A,&B);\n",
        "\n",
        "\tA = A + 0.5;\n",
        "\tB = B + 0.5;\n",
        "\n",
        "\tif ((int)A > (int)B)\n",
        "\t\tprintf(\"A\");\n",
        "\telse if ((int)A < (int)B)\n",
        "\t\tprintf(\"B\");\n",
        "\telse\n",
        "\t\tprintf(\"Same\");\n",
        "\n",
        "\treturn 0;\n",
        "}"
      ]
    },
    {
      "cell_type": "code",
      "execution_count": null,
      "metadata": {
        "colab": {
          "base_uri": "https://localhost:8080/"
        },
        "id": "T78XIlQy_Ipr",
        "outputId": "3027cd82-4f72-4909-a08c-daba39ad1acf"
      },
      "outputs": [
        {
          "name": "stdout",
          "output_type": "stream",
          "text": [
            "14.00 14.499\n",
            "Same"
          ]
        },
        {
          "data": {
            "text/plain": []
          },
          "execution_count": 42,
          "metadata": {},
          "output_type": "execute_result"
        }
      ],
      "source": [
        "# 파일 실행(불러오기)\n",
        "%%shell\n",
        "gcc 22-1_mid_4.c -o bout\n",
        "./bout"
      ]
    },
    {
      "cell_type": "markdown",
      "metadata": {
        "id": "YwuBUkcDrt9K"
      },
      "source": [
        "\n",
        "\n",
        "---\n",
        "\n"
      ]
    },
    {
      "cell_type": "markdown",
      "metadata": {
        "id": "D-FJMpta_JF0"
      },
      "source": [
        "**2022-1학기 중간고사 - 5**\n",
        "\n",
        "재홍이가 중간고사를 봤습니다.  \n",
        "중간고사 과목은 프로그래밍, 영어, 수학, 국어, 과학으로 총 5과목입니다.  \n",
        "각 과목의 점수를 입력받고 재홍이의 평균을 예시에 맞게 소수점 첫째 자리까지 출력하세요.  \n",
        "(단, 점수는 0이상 100이하의 정수입니다.) [20점]"
      ]
    },
    {
      "cell_type": "code",
      "execution_count": null,
      "metadata": {
        "colab": {
          "base_uri": "https://localhost:8080/"
        },
        "id": "CeYdOA5B_KeM",
        "outputId": "9adb7afd-43b0-48d7-c19c-0ff94c2fa1a2"
      },
      "outputs": [
        {
          "name": "stdout",
          "output_type": "stream",
          "text": [
            "Overwriting 22-1_mid_5.c\n"
          ]
        }
      ],
      "source": [
        "# 파일 작성\n",
        "%%writefile 22-1_mid_5.c\n",
        "\n",
        "#include<stdio.h>\n",
        "\n",
        "int main(){\n",
        "\n",
        "  int p,e,m,k,s;\n",
        "\tscanf(\"%d %d %d %d %d\", &p,&e,&m,&k,&s);\n",
        "\n",
        "\tdouble sum = p+e+m+k+s;\n",
        "\tdouble avg = (sum/5);\n",
        "\tprintf(\"avg=%.1f\",avg);\n",
        "\n",
        "\treturn 0;\n",
        "}"
      ]
    },
    {
      "cell_type": "code",
      "execution_count": null,
      "metadata": {
        "colab": {
          "base_uri": "https://localhost:8080/"
        },
        "id": "xF_cg9jI_KyJ",
        "outputId": "f614b7ea-ed84-4607-e95d-e90c77e5dc4b"
      },
      "outputs": [
        {
          "name": "stdout",
          "output_type": "stream",
          "text": [
            "98 92 87 64 88\n",
            "avg=85.8"
          ]
        },
        {
          "data": {
            "text/plain": []
          },
          "execution_count": 46,
          "metadata": {},
          "output_type": "execute_result"
        }
      ],
      "source": [
        "# 파일 실행(불러오기)\n",
        "%%shell\n",
        "gcc 22-1_mid_5.c -o bout\n",
        "./bout"
      ]
    },
    {
      "cell_type": "markdown",
      "metadata": {
        "id": "g9tsgJxArugO"
      },
      "source": [
        "\n",
        "\n",
        "---\n",
        "\n"
      ]
    },
    {
      "cell_type": "markdown",
      "metadata": {
        "id": "yX-gTP8r_LQJ"
      },
      "source": [
        "**☆★☆ 2022-1학기 중간고사 - 6 ☆★☆**\n",
        "\n",
        "강섭이가 야구게임을 합니다.  \n",
        "정답인 세 자릿수인 양의 정수를 입력받고 강섭이가 생각하는 숫자 세 자리 숫자를 입력받습니다.  \n",
        "자리와 숫자가 모두 일치하면 S,  \n",
        "자리가 다르지만 같은 숫자가 있다면 B를 개수에 맞춰 출력하세요.  \n",
        "숫자들이 하나도 겹치는 것이 없다면 Out을 출력하세요. [15점]  \n",
        "(입력으로 593 943을 입력받았다고 하면, 자리와 숫자가 일치하는 3이 있으므로 1S, 자리는 다르지만 같은 숫자인 9가 있으므로 1B이다. 따라서 1S1B을 출력하면 됩니다.\n",
        "단, 입력받는 세자리 숫자 중에 같은 숫자는 없습니다.)"
      ]
    },
    {
      "cell_type": "code",
      "execution_count": null,
      "metadata": {
        "colab": {
          "base_uri": "https://localhost:8080/"
        },
        "id": "wFZ5RxGG_MXv",
        "outputId": "e3705ff3-7e2f-4ae0-ff9a-d0dae160da4b"
      },
      "outputs": [
        {
          "name": "stdout",
          "output_type": "stream",
          "text": [
            "Writing 22-1_mid_6.c\n"
          ]
        }
      ],
      "source": [
        "# 파일 작성\n",
        "%%writefile 22-1_mid_6.c\n",
        "\n",
        "#include<stdio.h>\n",
        "\n",
        "int main(){\n",
        "\n",
        "\tint ans, kang;\n",
        "\tscanf(\"%d %d\",&ans,&kang);\n",
        "\n",
        "\tint a1 = ans/100;\n",
        "\tint a2 = ans%100/10;\n",
        "\tint a3 = ans%100%10;\n",
        "\n",
        "\tint k1 = kang/100;\n",
        "\tint k2 = kang%100/10;\n",
        "\tint k3 = kang%100%10;\n",
        "\n",
        "\tint S = 0;\n",
        "\tif (a1 == k1) S++;\n",
        "\tif (a2 == k2) S++;\n",
        "\tif (a3 == k3) S++;\n",
        "\n",
        "\tint B = 0;\n",
        "\tif ((a1 == k2) || (a1 == k3)) B++;\n",
        "\tif ((a2 == k1) || (a2 == k3)) B++;\n",
        "\tif ((a3 == k1) || (a3 == k2)) B++;\n",
        "\n",
        "\tif ((S == 0) && (B == 0)) printf(\"Out\");\n",
        "\telse printf(\"%dS%dB\",S,B);\n",
        "\n",
        "\treturn 0;\n",
        "}"
      ]
    },
    {
      "cell_type": "code",
      "execution_count": null,
      "metadata": {
        "colab": {
          "base_uri": "https://localhost:8080/"
        },
        "id": "5bibceIi_M32",
        "outputId": "60f9011a-2b54-44c5-a680-fbe51f11191c"
      },
      "outputs": [
        {
          "name": "stdout",
          "output_type": "stream",
          "text": [
            "593 943\n",
            "1S1B"
          ]
        },
        {
          "data": {
            "text/plain": []
          },
          "execution_count": 48,
          "metadata": {},
          "output_type": "execute_result"
        }
      ],
      "source": [
        "# 파일 실행(불러오기)\n",
        "%%shell\n",
        "gcc 22-1_mid_6.c -o bout\n",
        "./bout"
      ]
    },
    {
      "cell_type": "markdown",
      "metadata": {
        "id": "tMIp5my4rvN4"
      },
      "source": [
        "\n",
        "\n",
        "---\n",
        "\n"
      ]
    },
    {
      "cell_type": "markdown",
      "metadata": {
        "id": "3mchHEI0WANY"
      },
      "source": [
        "**예습문제 3-1**\n",
        "\n",
        "학번과 나이를 입력 받고 출력하세요."
      ]
    },
    {
      "cell_type": "code",
      "execution_count": null,
      "metadata": {
        "colab": {
          "base_uri": "https://localhost:8080/"
        },
        "id": "VU6o-LgfWD0o",
        "outputId": "274a7600-b354-45b9-b109-84f5610a567b"
      },
      "outputs": [
        {
          "name": "stdout",
          "output_type": "stream",
          "text": [
            "Overwriting pre_q3-1.c\n"
          ]
        }
      ],
      "source": [
        "# 파일 작성\n",
        "%%writefile pre_q3-1.c\n",
        "\n",
        "#include<stdio.h>\n",
        "\n",
        "int main(){\n",
        "\n",
        "  int id, age;\n",
        "  scanf(\"%d\",&id);\n",
        "  scanf(\"%d\",&age);\n",
        "\n",
        "  printf(\"id: %d\\n\",id);\n",
        "  printf(\"age: %d\\n\",age);\n",
        "\n",
        "\treturn 0;\n",
        "}"
      ]
    },
    {
      "cell_type": "code",
      "execution_count": null,
      "metadata": {
        "colab": {
          "base_uri": "https://localhost:8080/"
        },
        "id": "i-f2zvXVWEOZ",
        "outputId": "3e3c0268-3593-4e95-e791-ea5ae6abaf6b"
      },
      "outputs": [
        {
          "name": "stdout",
          "output_type": "stream",
          "text": [
            "22150121\n",
            "27\n",
            "id: 22150121\n",
            "age: 27\n"
          ]
        },
        {
          "data": {
            "text/plain": []
          },
          "execution_count": 54,
          "metadata": {},
          "output_type": "execute_result"
        }
      ],
      "source": [
        "# 파일 실행(불러오기)\n",
        "%%shell\n",
        "gcc pre_q3-1.c -o bout\n",
        "./bout"
      ]
    },
    {
      "cell_type": "markdown",
      "metadata": {
        "id": "vRSEyetqrvu_"
      },
      "source": [
        "\n",
        "\n",
        "---\n",
        "\n"
      ]
    },
    {
      "cell_type": "markdown",
      "metadata": {
        "id": "vCUPFfwYWEi-"
      },
      "source": [
        "**예습문제 3-2**\n",
        "\n",
        "수학 국어 과학 점수를 입력 받고 각 점수들과 총점을 예시에 맞게 출력하세요."
      ]
    },
    {
      "cell_type": "code",
      "execution_count": null,
      "metadata": {
        "colab": {
          "base_uri": "https://localhost:8080/"
        },
        "id": "CD5jb10SWH_m",
        "outputId": "9056786c-9e8d-4b7c-ce67-5c0ad36811a5"
      },
      "outputs": [
        {
          "name": "stdout",
          "output_type": "stream",
          "text": [
            "Writing pre_q3-2.c\n"
          ]
        }
      ],
      "source": [
        "# 파일 작성\n",
        "%%writefile pre_q3-2.c\n",
        "\n",
        "#include<stdio.h>\n",
        "\n",
        "int main(){\n",
        "\n",
        "  int m,k,s;\n",
        "  scanf(\"%d %d %d\",&m,&k,&s);\n",
        "\n",
        "  printf(\"math: %d\\n\",m);\n",
        "  printf(\"korean: %d\\n\",k);\n",
        "  printf(\"science: %d\\n\",s);\n",
        "  printf(\"sum: %d\\n\",m+k+s);\n",
        "\n",
        "\treturn 0;\n",
        "}"
      ]
    },
    {
      "cell_type": "code",
      "execution_count": null,
      "metadata": {
        "colab": {
          "base_uri": "https://localhost:8080/"
        },
        "id": "CiOuF2PSWIP4",
        "outputId": "0380cd67-7973-407f-daf7-e1edfb660c48"
      },
      "outputs": [
        {
          "name": "stdout",
          "output_type": "stream",
          "text": [
            "88 86 96\n",
            "math: 88\n",
            "korean: 86\n",
            "science: 96\n",
            "sum: 270\n"
          ]
        },
        {
          "data": {
            "text/plain": []
          },
          "execution_count": 56,
          "metadata": {},
          "output_type": "execute_result"
        }
      ],
      "source": [
        "# 파일 실행(불러오기)\n",
        "%%shell\n",
        "gcc pre_q3-2.c -o bout\n",
        "./bout"
      ]
    },
    {
      "cell_type": "markdown",
      "metadata": {
        "id": "8K9mZStwrx_c"
      },
      "source": [
        "\n",
        "\n",
        "---\n",
        "\n"
      ]
    },
    {
      "cell_type": "markdown",
      "metadata": {
        "id": "wDnmemJAWIoC"
      },
      "source": [
        "**예습문제 3-3**\n",
        "\n",
        "실수 x, y를 입력 받고 예시에 맞게 출력하세요."
      ]
    },
    {
      "cell_type": "code",
      "execution_count": null,
      "metadata": {
        "colab": {
          "base_uri": "https://localhost:8080/"
        },
        "id": "0fL5dxJSWKvf",
        "outputId": "5c5b917a-c50d-43bc-ad8e-bc94f42739c3"
      },
      "outputs": [
        {
          "name": "stdout",
          "output_type": "stream",
          "text": [
            "Writing pre_q3-3.c\n"
          ]
        }
      ],
      "source": [
        "# 파일 작성\n",
        "%%writefile pre_q3-3.c\n",
        "\n",
        "#include<stdio.h>\n",
        "\n",
        "int main(){\n",
        "\n",
        "  double x,y;\n",
        "  scanf(\"%lf %lf\",&x,&y);\n",
        "\n",
        "  printf(\"x: %f\\n\",x);\n",
        "  printf(\"y: %f\\n\",y);\n",
        "\n",
        "\treturn 0;\n",
        "}"
      ]
    },
    {
      "cell_type": "code",
      "execution_count": null,
      "metadata": {
        "colab": {
          "base_uri": "https://localhost:8080/"
        },
        "id": "NBGbvU8mWK_g",
        "outputId": "64db06a6-b128-48bd-d6a8-0001fd5c2494"
      },
      "outputs": [
        {
          "name": "stdout",
          "output_type": "stream",
          "text": [
            "0.341 0.854\n",
            "x: 0.341000\n",
            "y: 0.854000\n"
          ]
        },
        {
          "data": {
            "text/plain": []
          },
          "execution_count": 58,
          "metadata": {},
          "output_type": "execute_result"
        }
      ],
      "source": [
        "# 파일 실행(불러오기)\n",
        "%%shell\n",
        "gcc pre_q3-3.c -o bout\n",
        "./bout"
      ]
    },
    {
      "cell_type": "markdown",
      "metadata": {
        "id": "OVeY9q_ZryeZ"
      },
      "source": [
        "\n",
        "\n",
        "---\n",
        "\n"
      ]
    },
    {
      "cell_type": "markdown",
      "metadata": {
        "id": "cKi6Hsm4WLuE"
      },
      "source": [
        "**예습문제 5-1**\n",
        "\n",
        "정수 n을 입력 받고 일의 자리수를 출력하세요."
      ]
    },
    {
      "cell_type": "code",
      "execution_count": null,
      "metadata": {
        "colab": {
          "base_uri": "https://localhost:8080/"
        },
        "id": "Q10WQDnSWOF8",
        "outputId": "3e7e9974-4a9f-4629-d6b1-5c03e32af80e"
      },
      "outputs": [
        {
          "name": "stdout",
          "output_type": "stream",
          "text": [
            "Writing pre_q5-1.c\n"
          ]
        }
      ],
      "source": [
        "# 파일 작성\n",
        "%%writefile pre_q5-1.c\n",
        "\n",
        "#include<stdio.h>\n",
        "\n",
        "int main(){\n",
        "\n",
        "  int n;\n",
        "  scanf(\"%d\",&n);\n",
        "\n",
        "  printf(\"%d\",n%10);\n",
        "\n",
        "\treturn 0;\n",
        "}"
      ]
    },
    {
      "cell_type": "code",
      "execution_count": null,
      "metadata": {
        "colab": {
          "base_uri": "https://localhost:8080/"
        },
        "id": "6uR8KxrxWOTa",
        "outputId": "50875b0c-a677-424e-8d21-ed901482b685"
      },
      "outputs": [
        {
          "name": "stdout",
          "output_type": "stream",
          "text": [
            "543\n",
            "3"
          ]
        },
        {
          "data": {
            "text/plain": []
          },
          "execution_count": 60,
          "metadata": {},
          "output_type": "execute_result"
        }
      ],
      "source": [
        "# 파일 실행(불러오기)\n",
        "%%shell\n",
        "gcc pre_q5-1.c -o bout\n",
        "./bout"
      ]
    },
    {
      "cell_type": "markdown",
      "metadata": {
        "id": "nfL3auNRrzA6"
      },
      "source": [
        "\n",
        "\n",
        "---\n",
        "\n"
      ]
    },
    {
      "cell_type": "markdown",
      "metadata": {
        "id": "I0GhPRcwWO3K"
      },
      "source": [
        "**예습문제 5-2**\n",
        "\n",
        "정수 a, b를 입력 받고\n",
        "a에서 b를 나눈 값을 소수점 셋째자리까지 출력하세요.\n",
        "(단 b는 0이 아닙니다.)"
      ]
    },
    {
      "cell_type": "code",
      "execution_count": null,
      "metadata": {
        "colab": {
          "base_uri": "https://localhost:8080/"
        },
        "id": "-BNBLADcWScZ",
        "outputId": "11a82b35-7ba8-455d-ec38-0f98345a3179"
      },
      "outputs": [
        {
          "name": "stdout",
          "output_type": "stream",
          "text": [
            "Writing pre_q5-2.c\n"
          ]
        }
      ],
      "source": [
        "# 파일 작성\n",
        "%%writefile pre_q5-2.c\n",
        "\n",
        "#include<stdio.h>\n",
        "\n",
        "int main(){\n",
        "\n",
        "  int a,b;\n",
        "  scanf(\"%d %d\",&a,&b);\n",
        "\n",
        "  printf(\"%.3f\",(double)a/(double)b);\n",
        "\n",
        "\treturn 0;\n",
        "}"
      ]
    },
    {
      "cell_type": "code",
      "execution_count": null,
      "metadata": {
        "colab": {
          "base_uri": "https://localhost:8080/"
        },
        "id": "rQNWhpjFWSxq",
        "outputId": "b795a648-e110-4570-9b1c-ad176a808f6c"
      },
      "outputs": [
        {
          "name": "stdout",
          "output_type": "stream",
          "text": [
            "5 2\n",
            "2.500"
          ]
        },
        {
          "data": {
            "text/plain": []
          },
          "execution_count": 62,
          "metadata": {},
          "output_type": "execute_result"
        }
      ],
      "source": [
        "# 파일 실행(불러오기)\n",
        "%%shell\n",
        "gcc pre_q5-2.c -o bout\n",
        "./bout"
      ]
    },
    {
      "cell_type": "markdown",
      "metadata": {
        "id": "ItxgIJPBrzcq"
      },
      "source": [
        "\n",
        "\n",
        "---\n",
        "\n"
      ]
    },
    {
      "cell_type": "markdown",
      "metadata": {
        "id": "RwPMp4jBWQ8n"
      },
      "source": [
        "**예습문제 5-3**\n",
        "\n",
        "정수 a를 입력 받고\n",
        "a가 10보다 크면 big을 작다면 small을 출력하세요.\n",
        "(단, a이 10인 경우는 없습니다.)"
      ]
    },
    {
      "cell_type": "code",
      "execution_count": null,
      "metadata": {
        "colab": {
          "base_uri": "https://localhost:8080/"
        },
        "id": "rWL-yo_1WX6k",
        "outputId": "099c7f62-cf71-4d89-e035-6d0337ec41b5"
      },
      "outputs": [
        {
          "name": "stdout",
          "output_type": "stream",
          "text": [
            "Writing pre_q5-3.c\n"
          ]
        }
      ],
      "source": [
        "# 파일 작성\n",
        "%%writefile pre_q5-3.c\n",
        "\n",
        "#include<stdio.h>\n",
        "\n",
        "int main(){\n",
        "\n",
        "  int a;\n",
        "  scanf(\"%d\",&a);\n",
        "\n",
        "  a > 10 ? printf(\"big\") : printf(\"small\");\n",
        "\n",
        "\treturn 0;\n",
        "}"
      ]
    },
    {
      "cell_type": "code",
      "execution_count": null,
      "metadata": {
        "colab": {
          "base_uri": "https://localhost:8080/"
        },
        "id": "2F_HQA0zWYNC",
        "outputId": "c078f06e-e835-423b-fd12-6cbe67a5b5bc"
      },
      "outputs": [
        {
          "name": "stdout",
          "output_type": "stream",
          "text": [
            "8\n",
            "small"
          ]
        },
        {
          "data": {
            "text/plain": []
          },
          "execution_count": 64,
          "metadata": {},
          "output_type": "execute_result"
        }
      ],
      "source": [
        "# 파일 실행(불러오기)\n",
        "%%shell\n",
        "gcc pre_q5-3.c -o bout\n",
        "./bout"
      ]
    },
    {
      "cell_type": "markdown",
      "metadata": {
        "id": "cZC7JLZqr0La"
      },
      "source": [
        "\n",
        "\n",
        "---\n",
        "\n"
      ]
    },
    {
      "cell_type": "markdown",
      "metadata": {
        "id": "UPaOq3k0WRhX"
      },
      "source": [
        "**예습문제 6-1**\n",
        "\n",
        "입력 받은 정수형 변수 x가 0보다 작거나 같으면, x의 값 1을 증가시키세요.\n",
        "그리고 x의 값을 출력하세요."
      ]
    },
    {
      "cell_type": "code",
      "execution_count": null,
      "metadata": {
        "colab": {
          "base_uri": "https://localhost:8080/"
        },
        "id": "oKOrYhpeWc16",
        "outputId": "0340aef2-39af-468f-b1b2-301ae336b128"
      },
      "outputs": [
        {
          "name": "stdout",
          "output_type": "stream",
          "text": [
            "Writing pre_q6-1.c\n"
          ]
        }
      ],
      "source": [
        "# 파일 작성\n",
        "%%writefile pre_q6-1.c\n",
        "\n",
        "#include<stdio.h>\n",
        "\n",
        "int main(){\n",
        "\n",
        "  int x;\n",
        "  scanf(\"%d\",&x);\n",
        "\n",
        "  x <= 0 ? printf(\"%d\",++x) : printf(\"%d\",x);\n",
        "\n",
        "\treturn 0;\n",
        "}"
      ]
    },
    {
      "cell_type": "code",
      "execution_count": null,
      "metadata": {
        "colab": {
          "base_uri": "https://localhost:8080/"
        },
        "id": "eCTmjlppWdJR",
        "outputId": "1e85ba6c-0d4c-47b5-946b-feefb3756549"
      },
      "outputs": [
        {
          "name": "stdout",
          "output_type": "stream",
          "text": [
            "-2\n",
            "-1"
          ]
        },
        {
          "data": {
            "text/plain": []
          },
          "execution_count": 66,
          "metadata": {},
          "output_type": "execute_result"
        }
      ],
      "source": [
        "# 파일 실행(불러오기)\n",
        "%%shell\n",
        "gcc pre_q6-1.c -o bout\n",
        "./bout"
      ]
    },
    {
      "cell_type": "markdown",
      "metadata": {
        "id": "WGsX58QUr0l9"
      },
      "source": [
        "\n",
        "\n",
        "---\n",
        "\n"
      ]
    },
    {
      "cell_type": "markdown",
      "metadata": {
        "id": "iyIuLgARWdc7"
      },
      "source": [
        "**예습문제 6-2**\n",
        "\n",
        "정수 a를 입력 받고 a의 절대값을 출력하세요."
      ]
    },
    {
      "cell_type": "code",
      "execution_count": null,
      "metadata": {
        "colab": {
          "base_uri": "https://localhost:8080/"
        },
        "id": "hXLQgrOJWfH0",
        "outputId": "f475d6d7-28b8-43eb-8e9e-b3f433ef7d51"
      },
      "outputs": [
        {
          "name": "stdout",
          "output_type": "stream",
          "text": [
            "Writing pre_q6-2.c\n"
          ]
        }
      ],
      "source": [
        "# 파일 작성\n",
        "%%writefile pre_q6-2.c\n",
        "\n",
        "#include<stdio.h>\n",
        "\n",
        "int main(){\n",
        "\n",
        "  int a;\n",
        "  scanf(\"%d\",&a);\n",
        "\n",
        "  if (a < 0)\n",
        "    a = -a;\n",
        "  printf(\"%d\",a);\n",
        "\n",
        "\treturn 0;\n",
        "}"
      ]
    },
    {
      "cell_type": "code",
      "execution_count": null,
      "metadata": {
        "colab": {
          "base_uri": "https://localhost:8080/"
        },
        "id": "bBGjBtY_WfWk",
        "outputId": "e5695975-fa99-4cd4-c7f2-0671d8ff4b40"
      },
      "outputs": [
        {
          "name": "stdout",
          "output_type": "stream",
          "text": [
            "-172\n",
            "172"
          ]
        },
        {
          "data": {
            "text/plain": []
          },
          "execution_count": 68,
          "metadata": {},
          "output_type": "execute_result"
        }
      ],
      "source": [
        "# 파일 실행(불러오기)\n",
        "%%shell\n",
        "gcc pre_q6-2.c -o bout\n",
        "./bout"
      ]
    },
    {
      "cell_type": "markdown",
      "metadata": {
        "id": "2fLQxyjzr1Hb"
      },
      "source": [
        "\n",
        "\n",
        "---\n",
        "\n"
      ]
    },
    {
      "cell_type": "markdown",
      "metadata": {
        "id": "KE7UKFyrWftF"
      },
      "source": [
        "**예습문제 6-3**\n",
        "\n",
        "정수 a를 입력 받고 2, 3, 5의 배수를 확인하여 예시에 맞게  출력하세요."
      ]
    },
    {
      "cell_type": "code",
      "execution_count": null,
      "metadata": {
        "colab": {
          "base_uri": "https://localhost:8080/"
        },
        "id": "AKg5jsoWWiam",
        "outputId": "36f9f15f-2ae8-4daa-8e76-491c194409b3"
      },
      "outputs": [
        {
          "name": "stdout",
          "output_type": "stream",
          "text": [
            "Overwriting pre_q6-3.c\n"
          ]
        }
      ],
      "source": [
        "# 파일 작성\n",
        "%%writefile pre_q6-3.c\n",
        "\n",
        "#include<stdio.h>\n",
        "\n",
        "int main(){\n",
        "\n",
        "  int a;\n",
        "  scanf(\"%d\",&a);\n",
        "\n",
        "  if (a%2 == 0)\n",
        "    printf(\"multiple of 2\\n\");\n",
        "  if (a%3 == 0)\n",
        "    printf(\"multiple of 3\\n\");\n",
        "  if (a%5 == 0)\n",
        "    printf(\"multiple of 5\\n\");\n",
        "\n",
        "\treturn 0;\n",
        "}"
      ]
    },
    {
      "cell_type": "code",
      "execution_count": null,
      "metadata": {
        "colab": {
          "base_uri": "https://localhost:8080/"
        },
        "id": "3WF11wRdWiwN",
        "outputId": "6d4db678-ffca-4d94-bdca-d98791bc2af4"
      },
      "outputs": [
        {
          "name": "stdout",
          "output_type": "stream",
          "text": [
            "12\n",
            "multiple of 2\n",
            "multiple of 3\n"
          ]
        },
        {
          "data": {
            "text/plain": []
          },
          "execution_count": 72,
          "metadata": {},
          "output_type": "execute_result"
        }
      ],
      "source": [
        "# 파일 실행(불러오기)\n",
        "%%shell\n",
        "gcc pre_q6-3.c -o bout\n",
        "./bout"
      ]
    },
    {
      "cell_type": "markdown",
      "metadata": {
        "id": "3q7Xt81tr1um"
      },
      "source": [
        "\n",
        "\n",
        "---\n",
        "\n"
      ]
    },
    {
      "cell_type": "markdown",
      "metadata": {
        "id": "chpxvAXJWjC0"
      },
      "source": [
        "**예습문제 6-4**\n",
        "\n",
        "정수 a, b를 입력 받고 a와 b중 큰 수를 출력하세요.\n",
        "(두 수가 같은 경우는 없습니다.)"
      ]
    },
    {
      "cell_type": "code",
      "execution_count": null,
      "metadata": {
        "colab": {
          "base_uri": "https://localhost:8080/"
        },
        "id": "UJthtkMbWk4F",
        "outputId": "178a256f-e664-4332-c542-f8eb298bf28b"
      },
      "outputs": [
        {
          "name": "stdout",
          "output_type": "stream",
          "text": [
            "Overwriting pre_q6-4.c\n"
          ]
        }
      ],
      "source": [
        "# 파일 작성\n",
        "%%writefile pre_q6-4.c\n",
        "\n",
        "#include<stdio.h>\n",
        "\n",
        "int main(){\n",
        "\n",
        "  int a,b;\n",
        "  scanf(\"%d %d\",&a,&b);\n",
        "\n",
        "  a > b ? printf(\"%d\",a) : printf(\"%d\",b);\n",
        "\n",
        "\treturn 0;\n",
        "}"
      ]
    },
    {
      "cell_type": "code",
      "execution_count": null,
      "metadata": {
        "colab": {
          "base_uri": "https://localhost:8080/"
        },
        "id": "APzMVUNEWlTg",
        "outputId": "a3e1459c-762a-4882-e6c1-180d7868ec9f"
      },
      "outputs": [
        {
          "name": "stdout",
          "output_type": "stream",
          "text": [
            "12 6\n",
            "12"
          ]
        },
        {
          "data": {
            "text/plain": []
          },
          "execution_count": 76,
          "metadata": {},
          "output_type": "execute_result"
        }
      ],
      "source": [
        "# 파일 실행(불러오기)\n",
        "%%shell\n",
        "gcc pre_q6-4.c -o bout\n",
        "./bout"
      ]
    },
    {
      "cell_type": "markdown",
      "metadata": {
        "id": "p3zDUvmUr2ZM"
      },
      "source": [
        "\n",
        "\n",
        "---\n",
        "\n"
      ]
    },
    {
      "cell_type": "markdown",
      "metadata": {
        "id": "Z44T4Og5Woxn"
      },
      "source": [
        "**고급C 실습 1주차 문제1**\n",
        "\n",
        "Sejong University를 출력하세요"
      ]
    },
    {
      "cell_type": "code",
      "execution_count": null,
      "metadata": {
        "colab": {
          "base_uri": "https://localhost:8080/"
        },
        "id": "8EhqArDkWrnJ",
        "outputId": "422d4239-ef2c-4731-e66f-1e5b124e012a"
      },
      "outputs": [
        {
          "name": "stdout",
          "output_type": "stream",
          "text": [
            "Overwriting highC_q1-1.c\n"
          ]
        }
      ],
      "source": [
        "# 파일 작성\n",
        "%%writefile highC_q1-1.c\n",
        "\n",
        "#include<stdio.h>\n",
        "\n",
        "int main(){\n",
        "\n",
        "  printf(\"Sejong University\");\n",
        "\n",
        "\treturn 0;\n",
        "}"
      ]
    },
    {
      "cell_type": "code",
      "execution_count": null,
      "metadata": {
        "colab": {
          "base_uri": "https://localhost:8080/"
        },
        "id": "n4qhUz70Wr1g",
        "outputId": "505a3013-145e-44c3-9b80-77be6a4c153f"
      },
      "outputs": [
        {
          "name": "stdout",
          "output_type": "stream",
          "text": [
            "Sejong University"
          ]
        },
        {
          "data": {
            "text/plain": []
          },
          "execution_count": 82,
          "metadata": {},
          "output_type": "execute_result"
        }
      ],
      "source": [
        "# 파일 실행(불러오기)\n",
        "%%shell\n",
        "gcc highC_q1-1.c -o bout\n",
        "./bout"
      ]
    },
    {
      "cell_type": "markdown",
      "metadata": {
        "id": "PQTmma4Tr2_L"
      },
      "source": [
        "\n",
        "\n",
        "---\n",
        "\n"
      ]
    },
    {
      "cell_type": "markdown",
      "metadata": {
        "id": "AzQWApglWsdU"
      },
      "source": [
        "**고급C 실습 1주차 문제3**\n",
        "\n",
        "변수 x, y, z를 선언하고 각각 초기화 하고 x에 1, y에 2를 대입하고 z에는 x와 y의 합을 대입하여 출력하세요."
      ]
    },
    {
      "cell_type": "code",
      "execution_count": null,
      "metadata": {
        "colab": {
          "base_uri": "https://localhost:8080/"
        },
        "id": "RfQbeif5WvJx",
        "outputId": "6d8b9411-37b4-4b6b-f296-af584eed70c4"
      },
      "outputs": [
        {
          "name": "stdout",
          "output_type": "stream",
          "text": [
            "Writing highC_q1-3.c\n"
          ]
        }
      ],
      "source": [
        "# 파일 작성\n",
        "%%writefile highC_q1-3.c\n",
        "\n",
        "#include<stdio.h>\n",
        "\n",
        "int main(){\n",
        "\n",
        "  int x=1, y=2;\n",
        "  int z=x+y;\n",
        "\n",
        "  printf(\"x = %d y = %d z = %d\",x,y,z);\n",
        "\n",
        "\treturn 0;\n",
        "}"
      ]
    },
    {
      "cell_type": "code",
      "execution_count": null,
      "metadata": {
        "colab": {
          "base_uri": "https://localhost:8080/"
        },
        "id": "NeEdo8EVWvX8",
        "outputId": "1fa764be-c077-4a2d-8d47-333b015dbdce"
      },
      "outputs": [
        {
          "name": "stdout",
          "output_type": "stream",
          "text": [
            "x = 1 y = 2 z = 3"
          ]
        },
        {
          "data": {
            "text/plain": []
          },
          "execution_count": 84,
          "metadata": {},
          "output_type": "execute_result"
        }
      ],
      "source": [
        "# 파일 실행(불러오기)\n",
        "%%shell\n",
        "gcc highC_q1-3.c -o bout\n",
        "./bout"
      ]
    },
    {
      "cell_type": "markdown",
      "metadata": {
        "id": "h9NMW-7vr3ou"
      },
      "source": [
        "\n",
        "\n",
        "---\n",
        "\n"
      ]
    },
    {
      "cell_type": "markdown",
      "metadata": {
        "id": "uRjeoUoCWv37"
      },
      "source": [
        "**고급C 실습 1주차 문제4**\n",
        "\n",
        "변수 a와 b를 만들어 각각 8과 2를 대입하세요. 그리고 각각의 사칙연산을 출력하세요."
      ]
    },
    {
      "cell_type": "code",
      "execution_count": null,
      "metadata": {
        "colab": {
          "base_uri": "https://localhost:8080/"
        },
        "id": "PLdh54AiWyVm",
        "outputId": "f5b6a834-1053-4195-a438-13695fe866ab"
      },
      "outputs": [
        {
          "name": "stdout",
          "output_type": "stream",
          "text": [
            "Writing highC_q1-4.c\n"
          ]
        }
      ],
      "source": [
        "# 파일 작성\n",
        "%%writefile highC_q1-4.c\n",
        "\n",
        "#include<stdio.h>\n",
        "\n",
        "int main(){\n",
        "\n",
        "  int a = 8, b = 2;\n",
        "  printf(\"a + b = %d\\n\",a+b);\n",
        "  printf(\"a - b = %d\\n\",a-b);\n",
        "  printf(\"a * b = %d\\n\",a*b);\n",
        "  printf(\"a / b = %d\\n\",a/b);\n",
        "\n",
        "\treturn 0;\n",
        "}"
      ]
    },
    {
      "cell_type": "code",
      "execution_count": null,
      "metadata": {
        "colab": {
          "base_uri": "https://localhost:8080/"
        },
        "id": "sJ-eZEvMWyjU",
        "outputId": "ef067ed8-6f26-4edb-c195-11585cc7d706"
      },
      "outputs": [
        {
          "name": "stdout",
          "output_type": "stream",
          "text": [
            "a + b = 10\n",
            "a - b = 6\n",
            "a * b = 16\n",
            "a / b = 4\n"
          ]
        },
        {
          "data": {
            "text/plain": []
          },
          "execution_count": 86,
          "metadata": {},
          "output_type": "execute_result"
        }
      ],
      "source": [
        "# 파일 실행(불러오기)\n",
        "%%shell\n",
        "gcc highC_q1-4.c -o bout\n",
        "./bout"
      ]
    },
    {
      "cell_type": "markdown",
      "metadata": {
        "id": "g12U8eX5r4RG"
      },
      "source": [
        "\n",
        "\n",
        "---\n",
        "\n"
      ]
    },
    {
      "cell_type": "markdown",
      "metadata": {
        "id": "azSTyC8EWzGS"
      },
      "source": [
        "**☆★☆ 고급C 실습 2주차 문제1 ☆★☆**\n",
        "\n",
        "사용자로부터 24이하의 정수를 입력받고,\n",
        "해당 번째 알파벳을 대문자로 출력하세요."
      ]
    },
    {
      "cell_type": "code",
      "execution_count": null,
      "metadata": {
        "colab": {
          "base_uri": "https://localhost:8080/"
        },
        "id": "rajLZD7TW2lL",
        "outputId": "6f11b399-519d-4e78-a423-89d0e6eeee09"
      },
      "outputs": [
        {
          "name": "stdout",
          "output_type": "stream",
          "text": [
            "Overwriting highC_q2-1.c\n"
          ]
        }
      ],
      "source": [
        "# 파일 작성\n",
        "%%writefile highC_q2-1.c\n",
        "\n",
        "#include<stdio.h>\n",
        "\n",
        "int main(){\n",
        "\n",
        "  int n;\n",
        "  scanf(\"%d\",&n);\n",
        "\n",
        "  char A = 'A';\n",
        "  printf(\"%c\",A+n-1);\n",
        "\n",
        "\treturn 0;\n",
        "}"
      ]
    },
    {
      "cell_type": "code",
      "execution_count": null,
      "metadata": {
        "colab": {
          "base_uri": "https://localhost:8080/"
        },
        "id": "_B4VYLJhW20H",
        "outputId": "37e443f0-129e-4662-fb00-473c4ae0b6ae"
      },
      "outputs": [
        {
          "name": "stdout",
          "output_type": "stream",
          "text": [
            "1\n",
            "A"
          ]
        },
        {
          "data": {
            "text/plain": []
          },
          "execution_count": 92,
          "metadata": {},
          "output_type": "execute_result"
        }
      ],
      "source": [
        "# 파일 실행(불러오기)\n",
        "%%shell\n",
        "gcc highC_q2-1.c -o bout\n",
        "./bout"
      ]
    },
    {
      "cell_type": "markdown",
      "metadata": {
        "id": "D2DP03Cxr4_8"
      },
      "source": [
        "\n",
        "\n",
        "---\n",
        "\n"
      ]
    },
    {
      "cell_type": "markdown",
      "metadata": {
        "id": "XHIkLTmfW3WO"
      },
      "source": [
        "**고급C 실습 2주차 문제2**\n",
        "\n",
        "사용자로부터 원의 반지름을 입력받고,\n",
        "원의 둘레와 원의 면적을 소수점 둘째 자리까지 출력하세요.\n",
        "(단, PI는 3.1415로 계산합니다.)"
      ]
    },
    {
      "cell_type": "code",
      "execution_count": null,
      "metadata": {
        "colab": {
          "base_uri": "https://localhost:8080/"
        },
        "id": "dg-BXBh_W7HG",
        "outputId": "0adf301d-a5a5-434a-a049-c099865bf102"
      },
      "outputs": [
        {
          "name": "stdout",
          "output_type": "stream",
          "text": [
            "Writing highC_q2-2.c\n"
          ]
        }
      ],
      "source": [
        "# 파일 작성\n",
        "%%writefile highC_q2-2.c\n",
        "\n",
        "#include<stdio.h>\n",
        "\n",
        "int main(){\n",
        "\n",
        "  int r;\n",
        "  scanf(\"%d\",&r);\n",
        "\n",
        "  double PI = 3.1415;\n",
        "\n",
        "  double d = 2*PI*r;\n",
        "  double a = PI*r*r;\n",
        "\n",
        "  printf(\"%.2f %.2f\",d,a);\n",
        "\n",
        "\treturn 0;\n",
        "}"
      ]
    },
    {
      "cell_type": "code",
      "execution_count": null,
      "metadata": {
        "colab": {
          "base_uri": "https://localhost:8080/"
        },
        "id": "63ZqtQVQW7V1",
        "outputId": "0dc72d09-2cd6-43ff-ea47-f7f29f39e10f"
      },
      "outputs": [
        {
          "name": "stdout",
          "output_type": "stream",
          "text": [
            "10\n",
            "62.83 314.15"
          ]
        },
        {
          "data": {
            "text/plain": []
          },
          "execution_count": 94,
          "metadata": {},
          "output_type": "execute_result"
        }
      ],
      "source": [
        "# 파일 실행(불러오기)\n",
        "%%shell\n",
        "gcc highC_q2-2.c -o bout\n",
        "./bout"
      ]
    },
    {
      "cell_type": "markdown",
      "metadata": {
        "id": "-zR_t1rAr5h4"
      },
      "source": [
        "\n",
        "\n",
        "---\n",
        "\n"
      ]
    },
    {
      "cell_type": "markdown",
      "metadata": {
        "id": "WX1i6kQkW7qD"
      },
      "source": [
        "**고급C 실습 2주차 문제3**\n",
        "\n",
        "두 정수와 사칙연산 기호를 입력 받으세요.\n",
        "두 정수의 사칙연산 결과를 출력하세요.\n",
        "(단, 나눗셈의 경우 소수점 3째 자리까지 출력하세요.)"
      ]
    },
    {
      "cell_type": "code",
      "execution_count": null,
      "metadata": {
        "colab": {
          "base_uri": "https://localhost:8080/"
        },
        "id": "0e3mVGQ_W9Ks",
        "outputId": "15af3aa6-5b04-4d47-826e-a13ef0631995"
      },
      "outputs": [
        {
          "name": "stdout",
          "output_type": "stream",
          "text": [
            "Writing highC_q2-3.c\n"
          ]
        }
      ],
      "source": [
        "# 파일 작성\n",
        "%%writefile highC_q2-3.c\n",
        "\n",
        "#include<stdio.h>\n",
        "\n",
        "int main(){\n",
        "\n",
        "  int a,b;\n",
        "  char c;\n",
        "  scanf(\"%d %d %c\",&a,&b,&c);\n",
        "\n",
        "  if (c == '+')\n",
        "    printf(\"%d %c %d = %d\", a,c,b,a+b);\n",
        "  if (c == '-')\n",
        "    printf(\"%d %c %d = %d\", a,c,b,a-b);\n",
        "  if (c == '*')\n",
        "    printf(\"%d %c %d = %d\", a,c,b,a*b);\n",
        "  if (c == '/')\n",
        "    printf(\"%d %c %d = %.3f\", a,c,b,(double)a / (double)b);\n",
        "\n",
        "\treturn 0;\n",
        "}"
      ]
    },
    {
      "cell_type": "code",
      "execution_count": null,
      "metadata": {
        "colab": {
          "base_uri": "https://localhost:8080/"
        },
        "id": "OlgxSuZmW9i9",
        "outputId": "81483b75-1dc6-4238-a77b-d0eb99864b01"
      },
      "outputs": [
        {
          "name": "stdout",
          "output_type": "stream",
          "text": [
            "6 8 /\n",
            "6 / 8 = 0.750"
          ]
        },
        {
          "data": {
            "text/plain": []
          },
          "execution_count": 96,
          "metadata": {},
          "output_type": "execute_result"
        }
      ],
      "source": [
        "# 파일 실행(불러오기)\n",
        "%%shell\n",
        "gcc highC_q2-3.c -o bout\n",
        "./bout"
      ]
    },
    {
      "cell_type": "markdown",
      "metadata": {
        "id": "36Erz90yr6A-"
      },
      "source": [
        "\n",
        "\n",
        "---\n",
        "\n"
      ]
    },
    {
      "cell_type": "markdown",
      "metadata": {
        "id": "_eNiCyudW96t"
      },
      "source": [
        "**고급C 실습 2주차 문제4**\n",
        "\n",
        "중간고사, 기말고사 점수를 입력받고 두 점수의 평균을 계산한다.  \n",
        "만약 평균이 90점 이상이면 A를 출력한다.  \n",
        "만약 평균이 80점 이상이면 B를 출력한다.  \n",
        "만약 평균이 70점 이상이면 C를 출력한다.  \n",
        "만약 평균이 70점 미만이면 D를 출력한다.  \n",
        "단, 두 시험 중에 하나라도 50점 미만이라면 F를 출력한다.  \n",
        "(시험 점수는 정수이다.)"
      ]
    },
    {
      "cell_type": "code",
      "execution_count": null,
      "metadata": {
        "colab": {
          "base_uri": "https://localhost:8080/"
        },
        "id": "bnwnrC6jW_Z9",
        "outputId": "a34a0b95-d729-4428-e1c4-a189cdfd2703"
      },
      "outputs": [
        {
          "name": "stdout",
          "output_type": "stream",
          "text": [
            "Writing highC_q2-4.c\n"
          ]
        }
      ],
      "source": [
        "# 파일 작성\n",
        "%%writefile highC_q2-4.c\n",
        "\n",
        "#include<stdio.h>\n",
        "\n",
        "int main(){\n",
        "\n",
        "  int m,f;\n",
        "  scanf(\"%d %d\",&m,&f);\n",
        "\n",
        "  double avg = ((m+f)/2);\n",
        "\n",
        "  if ((m<50) || (f<50)) printf(\"F\");\n",
        "  else if (avg >= 90) printf(\"A\");\n",
        "  else if (avg >= 80) printf(\"B\");\n",
        "  else if (avg >= 70) printf(\"C\");\n",
        "  else printf(\"D\");\n",
        "\n",
        "\treturn 0;\n",
        "}"
      ]
    },
    {
      "cell_type": "code",
      "execution_count": null,
      "metadata": {
        "colab": {
          "base_uri": "https://localhost:8080/"
        },
        "id": "6kEX6VsvW_pz",
        "outputId": "26fb1fa2-2338-48cd-f967-eb81b2b67f20"
      },
      "outputs": [
        {
          "name": "stdout",
          "output_type": "stream",
          "text": [
            "100 49\n",
            "F"
          ]
        },
        {
          "data": {
            "text/plain": []
          },
          "execution_count": 99,
          "metadata": {},
          "output_type": "execute_result"
        }
      ],
      "source": [
        "# 파일 실행(불러오기)\n",
        "%%shell\n",
        "gcc highC_q2-4.c -o bout\n",
        "./bout"
      ]
    },
    {
      "cell_type": "markdown",
      "metadata": {
        "id": "dkVIKxn-r6kr"
      },
      "source": [
        "\n",
        "\n",
        "---\n",
        "\n"
      ]
    },
    {
      "cell_type": "markdown",
      "metadata": {
        "id": "Ajo0wnKhXABv"
      },
      "source": [
        "**중간고사 문제 1-1**\n",
        "\n",
        "원의 반지름 r과 r2를 입력 받고 원의 넓이의 차이를 소수점 둘째 자리까지 출력하세요.  \n",
        "(단, 파이는 3.14로 계산합니다. 원의 넓이는 반지름x반지름x파이 입니다.)\n"
      ]
    },
    {
      "cell_type": "code",
      "execution_count": null,
      "metadata": {
        "colab": {
          "base_uri": "https://localhost:8080/"
        },
        "id": "FvYhK2ROXHJA",
        "outputId": "d2029c95-b26e-4d60-8f25-10204c5b6627"
      },
      "outputs": [
        {
          "name": "stdout",
          "output_type": "stream",
          "text": [
            "Writing mid_q1-1.c\n"
          ]
        }
      ],
      "source": [
        "# 파일 작성\n",
        "%%writefile mid_q1-1.c\n",
        "\n",
        "#include<stdio.h>\n",
        "\n",
        "int main(){\n",
        "\n",
        "  int r1, r2;\n",
        "  scanf(\"%d %d\",&r1,&r2);\n",
        "\n",
        "  double PI = 3.14;\n",
        "\n",
        "  double a1 = r1*r1*PI;\n",
        "  double a2 = r2*r2*PI;\n",
        "\n",
        "  if (a1 > a2) printf(\"%.2f\",a1-a2);\n",
        "  else printf(\"%.2f\",a2-a1);\n",
        "\n",
        "\treturn 0;\n",
        "}"
      ]
    },
    {
      "cell_type": "code",
      "execution_count": null,
      "metadata": {
        "colab": {
          "base_uri": "https://localhost:8080/"
        },
        "id": "7JCQPwqbXHZf",
        "outputId": "460a332a-57e0-4e73-e663-7cf0b0ae3c73"
      },
      "outputs": [
        {
          "name": "stdout",
          "output_type": "stream",
          "text": [
            "3 6\n",
            "84.78"
          ]
        },
        {
          "data": {
            "text/plain": []
          },
          "execution_count": 101,
          "metadata": {},
          "output_type": "execute_result"
        }
      ],
      "source": [
        "# 파일 실행(불러오기)\n",
        "%%shell\n",
        "gcc mid_q1-1.c -o bout\n",
        "./bout"
      ]
    },
    {
      "cell_type": "markdown",
      "metadata": {
        "id": "ONk4AJMQr7GY"
      },
      "source": [
        "\n",
        "\n",
        "---\n",
        "\n"
      ]
    },
    {
      "cell_type": "markdown",
      "metadata": {
        "id": "uWzwpPNGXHuR"
      },
      "source": [
        "**☆★☆ 중간고사 문제 1-2 ☆★☆**\n",
        "\n",
        "소문자 알파벳 1개를 입력받고 숫자 n을 입력받고 또 소문자 알파벳 1개를 입력받습니다. n의 값에 따라 다음을 수행합니다.  \n",
        "- n이 1일 경우 사전 순서를 기준으로 앞에 있는 알파벳의 다음 알파벳을 출력합니다.\n",
        "- n이 2일 경우 사전 순서를 기준으로 뒤에 있는 알파벳을 출력합니다.\n",
        "- n이 3일 경우 사전 순서를 기준으로 두 알파벳 사이 중앙에 있는 알파벳을 출력합니다.\n",
        "\n",
        "(단, 입력받은 두 알파벳은 같지 않고, n은 1~3의 정수입니다. n이 3일 경우 두 알파벳의 순서 차이는 짝수입니다.)\n"
      ]
    },
    {
      "cell_type": "code",
      "execution_count": null,
      "metadata": {
        "colab": {
          "base_uri": "https://localhost:8080/"
        },
        "id": "UdOdn6J9XLAm",
        "outputId": "4201c0e7-de32-4469-fefe-f66d8a548011"
      },
      "outputs": [
        {
          "name": "stdout",
          "output_type": "stream",
          "text": [
            "Overwriting mid_q1-2.c\n"
          ]
        }
      ],
      "source": [
        "# 파일 작성\n",
        "%%writefile mid_q1-2.c\n",
        "\n",
        "#include<stdio.h>\n",
        "\n",
        "int main(){\n",
        "\n",
        "  char alpha1,alpha2;\n",
        "  int n;\n",
        "  scanf(\"%c %d %c\",&alpha1,&n,&alpha2);\n",
        "\n",
        "  if (n == 1)\n",
        "    alpha1 < alpha2 ? printf(\"%c\",alpha1+1) : printf(\"%c\",alpha2+1);\n",
        "  else if (n == 2)\n",
        "    alpha1 < alpha2 ? printf(\"%c\",alpha2) : printf(\"%c\",alpha1);\n",
        "  else\n",
        "    alpha1 < alpha2 ? printf(\"%c\",alpha1+(alpha2-alpha1)/2) : printf(\"%c\",printf(\"%c\",alpha2+(alpha1-alpha2)/2));\n",
        "\n",
        "\treturn 0;\n",
        "}"
      ]
    },
    {
      "cell_type": "code",
      "execution_count": null,
      "metadata": {
        "colab": {
          "base_uri": "https://localhost:8080/"
        },
        "id": "EtgqfUS9XLSQ",
        "outputId": "f4882abe-bee9-465c-dbf3-b029f663e6cd"
      },
      "outputs": [
        {
          "name": "stdout",
          "output_type": "stream",
          "text": [
            "a 1 e\n",
            "b"
          ]
        },
        {
          "data": {
            "text/plain": []
          },
          "execution_count": 108,
          "metadata": {},
          "output_type": "execute_result"
        }
      ],
      "source": [
        "# 파일 실행(불러오기)\n",
        "%%shell\n",
        "gcc mid_q1-2.c -o bout\n",
        "./bout"
      ]
    },
    {
      "cell_type": "markdown",
      "metadata": {
        "id": "0KKuAL4Lr7s5"
      },
      "source": [
        "\n",
        "\n",
        "---\n",
        "\n"
      ]
    },
    {
      "cell_type": "markdown",
      "metadata": {
        "id": "gO2YDMhYXLk3"
      },
      "source": [
        "**☆★☆ 실습퀴즈 3-1 ☆★☆**\n",
        "\n",
        "입출력 예시에 맞게 출력하세요."
      ]
    },
    {
      "cell_type": "code",
      "execution_count": null,
      "metadata": {
        "colab": {
          "base_uri": "https://localhost:8080/"
        },
        "id": "KQfff5KuXNmD",
        "outputId": "ccb72a2c-838c-425d-8318-bce3e27c75f1"
      },
      "outputs": [
        {
          "name": "stdout",
          "output_type": "stream",
          "text": [
            "Writing ex_q3-1.c\n"
          ]
        }
      ],
      "source": [
        "# 파일 작성\n",
        "%%writefile ex_q3-1.c\n",
        "\n",
        "#include<stdio.h>\n",
        "\n",
        "int main(){\n",
        "\n",
        "  printf(\"\\\"BTS\\\"\\t-Dynamite\\n\");\n",
        "  printf(\"\\\"BLACKPINK\\\"\\t-Ice Cream\\n\");\n",
        "\n",
        "\treturn 0;\n",
        "}"
      ]
    },
    {
      "cell_type": "code",
      "execution_count": null,
      "metadata": {
        "colab": {
          "base_uri": "https://localhost:8080/"
        },
        "id": "51zayxmxXN2O",
        "outputId": "5b820e58-493e-4de9-a7f3-4863aebc8a7e"
      },
      "outputs": [
        {
          "name": "stdout",
          "output_type": "stream",
          "text": [
            "\"BTS\"\t-Dynamite\n",
            "\"BLACKPINK\"\t-Ice Cream\n"
          ]
        },
        {
          "data": {
            "text/plain": []
          },
          "execution_count": 110,
          "metadata": {},
          "output_type": "execute_result"
        }
      ],
      "source": [
        "# 파일 실행(불러오기)\n",
        "%%shell\n",
        "gcc ex_q3-1.c -o bout\n",
        "./bout"
      ]
    },
    {
      "cell_type": "markdown",
      "metadata": {
        "id": "3xTUcMLHr8-G"
      },
      "source": [
        "\n",
        "\n",
        "---\n",
        "\n"
      ]
    },
    {
      "cell_type": "markdown",
      "metadata": {
        "id": "TsyF2wVCXOLP"
      },
      "source": [
        "**실습퀴즈 3-2**\n",
        "\n",
        "정수형 변수 a와 b를 선언하고 각각 100과 500으로 초기화 하세요.\n",
        "a와 b와 b/a를 입출력 예시에 맞게 출력하세요."
      ]
    },
    {
      "cell_type": "code",
      "execution_count": null,
      "metadata": {
        "colab": {
          "base_uri": "https://localhost:8080/"
        },
        "id": "7IDLwIGXXRAx",
        "outputId": "9931c2ea-9520-48c1-e55b-98ad70ca4d20"
      },
      "outputs": [
        {
          "name": "stdout",
          "output_type": "stream",
          "text": [
            "Writing ex_q3-2.c\n"
          ]
        }
      ],
      "source": [
        "# 파일 작성\n",
        "%%writefile ex_q3-2.c\n",
        "\n",
        "#include<stdio.h>\n",
        "\n",
        "int main(){\n",
        "\n",
        "  int a = 100, b = 500;\n",
        "  printf(\"a=%d\\n\",a);\n",
        "  printf(\"b=%d\\n\",b);\n",
        "  printf(\"b/a=%d/%d=%d\",b,a,b/a);\n",
        "\n",
        "\treturn 0;\n",
        "}"
      ]
    },
    {
      "cell_type": "code",
      "execution_count": null,
      "metadata": {
        "colab": {
          "base_uri": "https://localhost:8080/"
        },
        "id": "AJ6Agf5-XRPh",
        "outputId": "7c60f16b-804d-4a54-b1a4-39d2578fc72c"
      },
      "outputs": [
        {
          "name": "stdout",
          "output_type": "stream",
          "text": [
            "a=100\n",
            "b=500\n",
            "b/a=500/100=5"
          ]
        },
        {
          "data": {
            "text/plain": []
          },
          "execution_count": 112,
          "metadata": {},
          "output_type": "execute_result"
        }
      ],
      "source": [
        "# 파일 실행(불러오기)\n",
        "%%shell\n",
        "gcc ex_q3-2.c -o bout\n",
        "./bout"
      ]
    },
    {
      "cell_type": "markdown",
      "metadata": {
        "id": "Ss0m4PAMr9k5"
      },
      "source": [
        "\n",
        "\n",
        "---\n",
        "\n"
      ]
    },
    {
      "cell_type": "markdown",
      "metadata": {
        "id": "pniCkWE2XRrg"
      },
      "source": [
        "**실습퀴즈 3-3**\n",
        "\n",
        "정수형 변수 x,y,z를 선언하고 각각 1,2,3으로 초기화 하세요.\n",
        "출력 예시에 맞게 x+y+z의 값과 x-y-z의 값을 출력하세요."
      ]
    },
    {
      "cell_type": "code",
      "execution_count": null,
      "metadata": {
        "colab": {
          "base_uri": "https://localhost:8080/"
        },
        "id": "SKl8toFfXTBP",
        "outputId": "a3ae1178-dda1-47b5-bfdc-c0e5149f7a95"
      },
      "outputs": [
        {
          "name": "stdout",
          "output_type": "stream",
          "text": [
            "Overwriting ex_q3-3.c\n"
          ]
        }
      ],
      "source": [
        "# 파일 작성\n",
        "%%writefile ex_q3-3.c\n",
        "\n",
        "#include<stdio.h>\n",
        "\n",
        "int main(){\n",
        "\n",
        "  int x=1,y=2,z=3;\n",
        "  printf(\"x+y+z\\t=%d\\n\",x+y+z);\n",
        "  printf(\"x-y-z\\t=%d\\n\",x-y-z);\n",
        "\n",
        "\treturn 0;\n",
        "}"
      ]
    },
    {
      "cell_type": "code",
      "execution_count": null,
      "metadata": {
        "colab": {
          "base_uri": "https://localhost:8080/"
        },
        "id": "TnHDqGvnXTPI",
        "outputId": "fee4f0f4-fdd8-497d-90d6-7800a3335e80"
      },
      "outputs": [
        {
          "name": "stdout",
          "output_type": "stream",
          "text": [
            "x+y+z\t=6\n",
            "x-y-z\t=-4\n"
          ]
        },
        {
          "data": {
            "text/plain": []
          },
          "execution_count": 116,
          "metadata": {},
          "output_type": "execute_result"
        }
      ],
      "source": [
        "# 파일 실행(불러오기)\n",
        "%%shell\n",
        "gcc ex_q3-3.c -o bout\n",
        "./bout"
      ]
    },
    {
      "cell_type": "markdown",
      "metadata": {
        "id": "YDjpuB8yr-oH"
      },
      "source": [
        "\n",
        "\n",
        "---\n",
        "\n"
      ]
    },
    {
      "cell_type": "markdown",
      "metadata": {
        "id": "5EWLRjU0XTjs"
      },
      "source": [
        "**연습문제 4-1**\n",
        "\n",
        "정수 두 개를 입력 받고 두 수의 합과 곱을 출력하세요."
      ]
    },
    {
      "cell_type": "code",
      "execution_count": null,
      "metadata": {
        "colab": {
          "base_uri": "https://localhost:8080/"
        },
        "id": "2L6j42b5XWxX",
        "outputId": "1a2337d0-980b-4594-fc5e-dc09b6b2ce5d"
      },
      "outputs": [
        {
          "name": "stdout",
          "output_type": "stream",
          "text": [
            "Writing prac_q4-1.c\n"
          ]
        }
      ],
      "source": [
        "# 파일 작성\n",
        "%%writefile prac_q4-1.c\n",
        "\n",
        "#include<stdio.h>\n",
        "\n",
        "int main(){\n",
        "\n",
        "  int x,y;\n",
        "  scanf(\"%d %d\",&x,&y);\n",
        "\n",
        "  printf(\"sum=%d\\n\",x+y);\n",
        "  printf(\"mul=%d\\n\",x*y);\n",
        "\n",
        "\treturn 0;\n",
        "}"
      ]
    },
    {
      "cell_type": "code",
      "execution_count": null,
      "metadata": {
        "colab": {
          "base_uri": "https://localhost:8080/"
        },
        "id": "YrnIWbS2XXAe",
        "outputId": "dc6022ea-9c10-44cc-8207-9d58ecbb0b7d"
      },
      "outputs": [
        {
          "name": "stdout",
          "output_type": "stream",
          "text": [
            "3 5\n",
            "sum=8\n",
            "mul=15\n"
          ]
        },
        {
          "data": {
            "text/plain": []
          },
          "execution_count": 118,
          "metadata": {},
          "output_type": "execute_result"
        }
      ],
      "source": [
        "# 파일 실행(불러오기)\n",
        "%%shell\n",
        "gcc prac_q4-1.c -o bout\n",
        "./bout"
      ]
    },
    {
      "cell_type": "markdown",
      "metadata": {
        "id": "HYHqATV3r_Ls"
      },
      "source": [
        "\n",
        "\n",
        "---\n",
        "\n"
      ]
    },
    {
      "cell_type": "markdown",
      "metadata": {
        "id": "3aA2GJdRXXde"
      },
      "source": [
        "**연습문제 4-2**\n",
        "\n",
        "문자 c와 양수의 정수 n을 입력 받으세요.\n",
        "알파벳 순서로 c에서 n만큼 떨어진 알파벳을 출력하세요.  \n",
        "(단, Z를 넘어가지 않습니다.)"
      ]
    },
    {
      "cell_type": "code",
      "execution_count": null,
      "metadata": {
        "colab": {
          "base_uri": "https://localhost:8080/"
        },
        "id": "Kxw_-Nz3Xa2n",
        "outputId": "1adfa446-ef81-4b05-fe33-ee91b410b8bd"
      },
      "outputs": [
        {
          "name": "stdout",
          "output_type": "stream",
          "text": [
            "Writing prac_q4-2.c\n"
          ]
        }
      ],
      "source": [
        "# 파일 작성\n",
        "%%writefile prac_q4-2.c\n",
        "\n",
        "#include<stdio.h>\n",
        "\n",
        "int main(){\n",
        "\n",
        "  char c;\n",
        "  int n;\n",
        "  scanf(\"%c %d\",&c,&n);\n",
        "\n",
        "  printf(\"%c\",c+n);\n",
        "\n",
        "\treturn 0;\n",
        "}"
      ]
    },
    {
      "cell_type": "code",
      "execution_count": null,
      "metadata": {
        "colab": {
          "base_uri": "https://localhost:8080/"
        },
        "id": "MRXf-ev9XbM5",
        "outputId": "8b245729-fd64-4ae5-85aa-0f813f027eab"
      },
      "outputs": [
        {
          "name": "stdout",
          "output_type": "stream",
          "text": [
            "A 3\n",
            "D"
          ]
        },
        {
          "data": {
            "text/plain": []
          },
          "execution_count": 120,
          "metadata": {},
          "output_type": "execute_result"
        }
      ],
      "source": [
        "# 파일 실행(불러오기)\n",
        "%%shell\n",
        "gcc prac_q4-2.c -o bout\n",
        "./bout"
      ]
    },
    {
      "cell_type": "markdown",
      "metadata": {
        "id": "ErKX-Xkar_xq"
      },
      "source": [
        "\n",
        "\n",
        "---\n",
        "\n"
      ]
    },
    {
      "cell_type": "markdown",
      "metadata": {
        "id": "b6sPZLtSXbew"
      },
      "source": [
        "**연습문제 4-3**\n",
        "\n",
        "반지름 r을 입력 받고 원의 넓이를 소수점 둘째 자리까지 출력하세요.\n",
        "(단, PI는 3.14로 계산한다.)"
      ]
    },
    {
      "cell_type": "code",
      "execution_count": null,
      "metadata": {
        "colab": {
          "base_uri": "https://localhost:8080/"
        },
        "id": "5tEjSp3MXdDB",
        "outputId": "fa50ce5d-d72d-4f7f-efc7-75d800d725b1"
      },
      "outputs": [
        {
          "name": "stdout",
          "output_type": "stream",
          "text": [
            "Writing prac_q4-3.c\n"
          ]
        }
      ],
      "source": [
        "# 파일 작성\n",
        "%%writefile prac_q4-3.c\n",
        "\n",
        "#include<stdio.h>\n",
        "\n",
        "int main(){\n",
        "\n",
        "  int r;\n",
        "  scanf(\"%d\",&r);\n",
        "\n",
        "  double PI = 3.14;\n",
        "  printf(\"%.2f\",r*r*PI);\n",
        "\n",
        "\treturn 0;\n",
        "}"
      ]
    },
    {
      "cell_type": "code",
      "execution_count": null,
      "metadata": {
        "colab": {
          "base_uri": "https://localhost:8080/"
        },
        "id": "EHicKBorXdQ5",
        "outputId": "1dc1bef1-3d74-425c-c7ca-d1a8848c7d83"
      },
      "outputs": [
        {
          "name": "stdout",
          "output_type": "stream",
          "text": [
            "3\n",
            "28.26"
          ]
        },
        {
          "data": {
            "text/plain": []
          },
          "execution_count": 122,
          "metadata": {},
          "output_type": "execute_result"
        }
      ],
      "source": [
        "# 파일 실행(불러오기)\n",
        "%%shell\n",
        "gcc prac_q4-3.c -o bout\n",
        "./bout"
      ]
    },
    {
      "cell_type": "markdown",
      "metadata": {
        "id": "3n_v4GZAsAV-"
      },
      "source": [
        "\n",
        "\n",
        "---\n",
        "\n"
      ]
    },
    {
      "cell_type": "markdown",
      "metadata": {
        "id": "aQk8RfKgXdvp"
      },
      "source": [
        "**실습퀴즈 4-1**\n",
        "\n",
        "1~26인 정수 n을 입력 받고 n번쨰 알파벳을 출력하세요."
      ]
    },
    {
      "cell_type": "code",
      "execution_count": null,
      "metadata": {
        "colab": {
          "base_uri": "https://localhost:8080/"
        },
        "id": "hmiT1k9qXg9W",
        "outputId": "9ebbd635-896d-4858-cac3-507aa8353c80"
      },
      "outputs": [
        {
          "name": "stdout",
          "output_type": "stream",
          "text": [
            "Overwriting ex_q4-1.c\n"
          ]
        }
      ],
      "source": [
        "# 파일 작성\n",
        "%%writefile ex_q4-1.c\n",
        "\n",
        "#include<stdio.h>\n",
        "\n",
        "int main(){\n",
        "\n",
        "  int n;\n",
        "  scanf(\"%d\",&n);\n",
        "\n",
        "  printf(\"%c\",'A'+n-1);\n",
        "\n",
        "\treturn 0;\n",
        "}"
      ]
    },
    {
      "cell_type": "code",
      "execution_count": null,
      "metadata": {
        "colab": {
          "base_uri": "https://localhost:8080/"
        },
        "id": "gsHx2rD4XhQg",
        "outputId": "b2bc6a52-f3a0-469e-b178-03b2dfef841e"
      },
      "outputs": [
        {
          "name": "stdout",
          "output_type": "stream",
          "text": [
            "1\n",
            "A"
          ]
        },
        {
          "data": {
            "text/plain": []
          },
          "execution_count": 126,
          "metadata": {},
          "output_type": "execute_result"
        }
      ],
      "source": [
        "# 파일 실행(불러오기)\n",
        "%%shell\n",
        "gcc ex_q4-1.c -o bout\n",
        "./bout"
      ]
    },
    {
      "cell_type": "markdown",
      "metadata": {
        "id": "teoAqkBjsAyM"
      },
      "source": [
        "\n",
        "\n",
        "---\n",
        "\n"
      ]
    },
    {
      "cell_type": "markdown",
      "metadata": {
        "id": "Suj0nLB_XigW"
      },
      "source": [
        "**실습퀴즈 4-2**\n",
        "\n",
        "BMI를 산출하는 공식은 몸무게 / (키*키) 이다.\n",
        "키와 몸무게를 입력 받고 BMI를 소수점 둘째 자리까지 출력하세요."
      ]
    },
    {
      "cell_type": "code",
      "execution_count": null,
      "metadata": {
        "colab": {
          "base_uri": "https://localhost:8080/"
        },
        "id": "Ube72GVHXjo6",
        "outputId": "f4e1672b-107b-4974-bdca-a2f2a5469698"
      },
      "outputs": [
        {
          "name": "stdout",
          "output_type": "stream",
          "text": [
            "Writing ex_q4-2.c\n"
          ]
        }
      ],
      "source": [
        "# 파일 작성\n",
        "%%writefile ex_q4-2.c\n",
        "\n",
        "#include<stdio.h>\n",
        "\n",
        "int main(){\n",
        "\n",
        "  double h;\n",
        "  int w;\n",
        "  scanf(\"%lf %d\",&h,&w);\n",
        "\n",
        "  printf(\"%.2f\",(double)w/(h*h));\n",
        "\n",
        "\treturn 0;\n",
        "}"
      ]
    },
    {
      "cell_type": "code",
      "execution_count": null,
      "metadata": {
        "colab": {
          "base_uri": "https://localhost:8080/"
        },
        "id": "QtbKgY4QXj3V",
        "outputId": "e9d8670c-3737-45cc-d4a5-b04c25437274"
      },
      "outputs": [
        {
          "name": "stdout",
          "output_type": "stream",
          "text": [
            "1.8 70\n",
            "21.60"
          ]
        },
        {
          "data": {
            "text/plain": []
          },
          "execution_count": 128,
          "metadata": {},
          "output_type": "execute_result"
        }
      ],
      "source": [
        "# 파일 실행(불러오기)\n",
        "%%shell\n",
        "gcc ex_q4-2.c -o bout\n",
        "./bout"
      ]
    },
    {
      "cell_type": "markdown",
      "metadata": {
        "id": "MjuVnYE4sBZ3"
      },
      "source": [
        "\n",
        "\n",
        "---\n",
        "\n"
      ]
    },
    {
      "cell_type": "markdown",
      "metadata": {
        "id": "sHT1Y0Z0XkJl"
      },
      "source": [
        "**실습퀴즈 4-3**\n",
        "\n",
        "양의 정수인 점수 3개를 입력 받아 합과 평균을 출력하세요.\n",
        "평균은 소수점 3째 자리까지 출력합니다."
      ]
    },
    {
      "cell_type": "code",
      "execution_count": null,
      "metadata": {
        "colab": {
          "base_uri": "https://localhost:8080/"
        },
        "id": "YE1PHly5XlY0",
        "outputId": "07031486-d027-4b30-997b-ff6bc07b85a1"
      },
      "outputs": [
        {
          "name": "stdout",
          "output_type": "stream",
          "text": [
            "Writing ex_q4-3.c\n"
          ]
        }
      ],
      "source": [
        "# 파일 작성\n",
        "%%writefile ex_q4-3.c\n",
        "\n",
        "#include<stdio.h>\n",
        "\n",
        "int main(){\n",
        "\n",
        "  int n1,n2,n3;\n",
        "  scanf(\"%d %d %d\",&n1,&n2,&n3);\n",
        "\n",
        "  printf(\"sum=%d\\n\",n1+n2+n3);\n",
        "  printf(\"avg=%.3f\\n\",((double)(n1+n2+n3))/3);\n",
        "\n",
        "\treturn 0;\n",
        "}"
      ]
    },
    {
      "cell_type": "code",
      "execution_count": null,
      "metadata": {
        "colab": {
          "base_uri": "https://localhost:8080/"
        },
        "id": "3MujXo9cXlpE",
        "outputId": "59180082-34d8-4f30-88e0-9b2afbee1ac1"
      },
      "outputs": [
        {
          "name": "stdout",
          "output_type": "stream",
          "text": [
            "87 86 93\n",
            "sum=266\n",
            "avg=88.667\n"
          ]
        },
        {
          "data": {
            "text/plain": []
          },
          "execution_count": 130,
          "metadata": {},
          "output_type": "execute_result"
        }
      ],
      "source": [
        "# 파일 실행(불러오기)\n",
        "%%shell\n",
        "gcc ex_q4-3.c -o bout\n",
        "./bout"
      ]
    },
    {
      "cell_type": "markdown",
      "metadata": {
        "id": "JpKAEDdWsCM4"
      },
      "source": [
        "\n",
        "\n",
        "---\n",
        "\n"
      ]
    },
    {
      "cell_type": "markdown",
      "metadata": {
        "id": "QQO5bDtXXl_l"
      },
      "source": [
        "**중간고사 A-1**\n",
        "\n",
        "반지름을 2개를 입력받아 반지름이 큰 원과 반지름이 작은 원의 넓이의 차를 소수점 둘째 자리까지 출력하시오.  \n",
        "(PI는 3.14로 계산, 원의 넓이 = πr²) [20점]"
      ]
    },
    {
      "cell_type": "code",
      "execution_count": null,
      "metadata": {
        "colab": {
          "base_uri": "https://localhost:8080/"
        },
        "id": "HRe5phtqXnzz",
        "outputId": "6b7b25d9-6df7-4a2a-b382-46931c74aef4"
      },
      "outputs": [
        {
          "name": "stdout",
          "output_type": "stream",
          "text": [
            "Writing mid_A-1.c\n"
          ]
        }
      ],
      "source": [
        "# 파일 작성\n",
        "%%writefile mid_A-1.c\n",
        "\n",
        "#include<stdio.h>\n",
        "\n",
        "int main(){\n",
        "\n",
        "  int r1,r2;\n",
        "  scanf(\"%d %d\",&r1,&r2);\n",
        "\n",
        "  double PI=3.14;\n",
        "  double a1 = PI*r1*r1;\n",
        "  double a2 = PI*r2*r2;\n",
        "\n",
        "  a1 > a2 ? printf(\"%.2f\",a1-a2) : printf(\"%.2f\",a2-a1);\n",
        "\n",
        "\treturn 0;\n",
        "}"
      ]
    },
    {
      "cell_type": "code",
      "execution_count": null,
      "metadata": {
        "colab": {
          "base_uri": "https://localhost:8080/"
        },
        "id": "B7e9IvHtXoLJ",
        "outputId": "9868cf38-5305-4393-836b-d44d199c394d"
      },
      "outputs": [
        {
          "name": "stdout",
          "output_type": "stream",
          "text": [
            "19 3\n",
            "1105.28"
          ]
        },
        {
          "data": {
            "text/plain": []
          },
          "execution_count": 132,
          "metadata": {},
          "output_type": "execute_result"
        }
      ],
      "source": [
        "# 파일 실행(불러오기)\n",
        "%%shell\n",
        "gcc mid_A-1.c -o bout\n",
        "./bout"
      ]
    },
    {
      "cell_type": "markdown",
      "metadata": {
        "id": "RMahm_92AKFz"
      },
      "source": [
        "# **중간고사**"
      ]
    },
    {
      "cell_type": "markdown",
      "metadata": {
        "id": "y8ndnPDdAN9N"
      },
      "source": [
        "**1.**  \n",
        "양의 정수인 두 원의 반지름 n과 m을 입력받고 두 원의 넓이의 차를 소수점 둘째 자리까지 출력하세요. [20점]  \n",
        "(단, n은 m보다 크거나 같고 PI는 3.14로 계산합니다. 원의 넓이 = 반지름 x 반지름 x pi)"
      ]
    },
    {
      "cell_type": "code",
      "execution_count": null,
      "metadata": {
        "colab": {
          "base_uri": "https://localhost:8080/"
        },
        "id": "m65UC603Aif5",
        "outputId": "8b91ad56-bd7f-428d-ad1f-b338f2cd18fc"
      },
      "outputs": [
        {
          "name": "stdout",
          "output_type": "stream",
          "text": [
            "Writing MiddleExam-1.c\n"
          ]
        }
      ],
      "source": [
        "# 파일 작성\n",
        "%%writefile MiddleExam-1.c\n",
        "\n",
        "#include<stdio.h>\n",
        "\n",
        "int main(){\n",
        "\n",
        "\tint n, m;\n",
        "\tscanf(\"%d %d\", &n, &m);\n",
        "\n",
        "\tdouble PI = 3.14;\n",
        "\tdouble arn = n*n*PI;\n",
        "\tdouble arm = m * m*PI;\n",
        "\n",
        "\tprintf(\"%.2f\", arn - arm);\n",
        "\n",
        "\treturn 0;\n",
        "}"
      ]
    },
    {
      "cell_type": "code",
      "execution_count": null,
      "metadata": {
        "colab": {
          "base_uri": "https://localhost:8080/"
        },
        "id": "KYEiqiEJArjV",
        "outputId": "f154f97c-061d-4aea-9aeb-f1827792595e"
      },
      "outputs": [
        {
          "name": "stdout",
          "output_type": "stream",
          "text": [
            "3 2\n",
            "15.70"
          ]
        },
        {
          "data": {
            "text/plain": []
          },
          "execution_count": 8,
          "metadata": {},
          "output_type": "execute_result"
        }
      ],
      "source": [
        "# 파일 실행(불러오기)\n",
        "%%shell\n",
        "gcc MiddleExam-1.c -o bout\n",
        "./bout"
      ]
    },
    {
      "cell_type": "markdown",
      "metadata": {
        "id": "Te8WQ2SPA1L_"
      },
      "source": [
        "**2.**\n",
        "\n",
        "부동 소수 하나를 입력받고 입력받은 소수의 소수점 둘째 자리 숫자를 출력하세요. [15점]"
      ]
    },
    {
      "cell_type": "code",
      "execution_count": null,
      "metadata": {
        "colab": {
          "base_uri": "https://localhost:8080/"
        },
        "id": "gDP06JmSA9Mf",
        "outputId": "dc1219fe-ab7e-4e00-db06-410d89bcbd15"
      },
      "outputs": [
        {
          "name": "stdout",
          "output_type": "stream",
          "text": [
            "Writing MiddleExam-2.c\n"
          ]
        }
      ],
      "source": [
        "# 파일 작성\n",
        "%%writefile MiddleExam-2.c\n",
        "\n",
        "#include<stdio.h>\n",
        "\n",
        "int main(){\n",
        "\n",
        "\tdouble n;\n",
        "\tscanf(\"%lf\", &n);\n",
        "\n",
        "\tprintf(\"%d\", (int)(n * 100) % 10);\n",
        "\n",
        "\treturn 0;\n",
        "}"
      ]
    },
    {
      "cell_type": "code",
      "execution_count": null,
      "metadata": {
        "colab": {
          "base_uri": "https://localhost:8080/"
        },
        "id": "rWTY3EazBCca",
        "outputId": "33b4cf3c-f420-4202-fa43-267c1e69de24"
      },
      "outputs": [
        {
          "name": "stdout",
          "output_type": "stream",
          "text": [
            "2.345\n",
            "4"
          ]
        },
        {
          "data": {
            "text/plain": []
          },
          "execution_count": 10,
          "metadata": {},
          "output_type": "execute_result"
        }
      ],
      "source": [
        "# 파일 실행(불러오기)\n",
        "%%shell\n",
        "gcc MiddleExam-2.c -o bout\n",
        "./bout"
      ]
    },
    {
      "cell_type": "markdown",
      "metadata": {
        "id": "omdlmZHfBK6z"
      },
      "source": [
        "**3.**\n",
        "\n",
        "대문자 알파벳 3개를 입력받고 영어 사전 순서대로 중간에 있는 알파벳을 소문자로 출력하세요. [15점]  \n",
        "(단, 알파벳 3개는 모두 다릅니다.)\n"
      ]
    },
    {
      "cell_type": "code",
      "execution_count": null,
      "metadata": {
        "colab": {
          "base_uri": "https://localhost:8080/"
        },
        "id": "cmqlXqubBSQF",
        "outputId": "c734193e-d3da-42bf-8499-8d7a08177d8e"
      },
      "outputs": [
        {
          "name": "stdout",
          "output_type": "stream",
          "text": [
            "Writing MiddleExam-3.c\n"
          ]
        }
      ],
      "source": [
        "# 파일 작성\n",
        "%%writefile MiddleExam-3.c\n",
        "\n",
        "#include<stdio.h>\n",
        "\n",
        "int main(){\n",
        "\n",
        "\tchar c1, c2, c3;\n",
        "\tscanf(\"%c %c %c\", &c1, &c2, &c3);\n",
        "\n",
        "\tif (c1 < c2)\n",
        "\t{\n",
        "\t\tif (c2 < c3) // c1 < c2 < c3\n",
        "\t\t\tprintf(\"%c\", c2 + 32);\n",
        "\t\telse\n",
        "\t\t{\n",
        "\t\t\tif (c1 < c3) // c1 < c3 < c2\n",
        "\t\t\t\tprintf(\"%c\", c3 + 32);\n",
        "\t\t\telse // c3 < c1 < c2\n",
        "\t\t\t\tprintf(\"%c\", c1 + 32);\n",
        "\t\t}\n",
        "\t}\n",
        "\telse // c2 < c1\n",
        "\t{\n",
        "\t\tif (c1 < c3) // c2 < c1 < c3\n",
        "\t\t\tprintf(\"%c\", c1 + 32);\n",
        "\t\telse // c3 < c1\n",
        "\t\t{\n",
        "\t\t\tif (c2 < c3) // c2 < c3 < c1\n",
        "\t\t\t\tprintf(\"%c\", c3 + 32);\n",
        "\t\t\telse // c3 < c2 < c1\n",
        "\t\t\t\tprintf(\"%c\", c2 + 32);\n",
        "\t\t}\n",
        "\t}\n",
        "\n",
        "\treturn 0;\n",
        "}"
      ]
    },
    {
      "cell_type": "code",
      "execution_count": null,
      "metadata": {
        "colab": {
          "base_uri": "https://localhost:8080/"
        },
        "id": "Lqn3qbEZBdwP",
        "outputId": "f0b3d09a-bcb1-4664-accd-3eb9dbc0a27b"
      },
      "outputs": [
        {
          "name": "stdout",
          "output_type": "stream",
          "text": [
            "C G A\n",
            "c"
          ]
        },
        {
          "data": {
            "text/plain": []
          },
          "execution_count": 12,
          "metadata": {},
          "output_type": "execute_result"
        }
      ],
      "source": [
        "# 파일 실행(불러오기)\n",
        "%%shell\n",
        "gcc MiddleExam-3.c -o bout\n",
        "./bout"
      ]
    },
    {
      "cell_type": "markdown",
      "metadata": {
        "id": "zhzLw2eaBmFM"
      },
      "source": [
        "**4.**\n",
        "\n",
        "홍홍랜드의 입장료는 다음과 같다.  \n",
        "\n",
        "====================== 홍홍랜드 입장료 ======================  \n",
        "어린이: 5000원  \n",
        "청소년: 8000원  \n",
        "성인: 10000원  \n",
        "단체고객 15인 이상일 경우 전체금액의 10% 할인!  \n",
        "\\==========================================================  \n",
        "\n",
        "어린이, 청소년, 성인의 수를 입력받고 홍홍랜드 입장료의 총 금액을 예시에 맞게 출력하세요. [20점]  "
      ]
    },
    {
      "cell_type": "code",
      "execution_count": null,
      "metadata": {
        "colab": {
          "base_uri": "https://localhost:8080/"
        },
        "id": "DYx_8hZNB4Qf",
        "outputId": "1822d265-bc3f-49d1-cdb3-ce78e4a61821"
      },
      "outputs": [
        {
          "name": "stdout",
          "output_type": "stream",
          "text": [
            "Writing MiddleExam-4.c\n"
          ]
        }
      ],
      "source": [
        "# 파일 작성\n",
        "%%writefile MiddleExam-4.c\n",
        "\n",
        "#include<stdio.h>\n",
        "\n",
        "int main(){\n",
        "\n",
        "\tint child, stud, adult;\n",
        "\tscanf(\"%d %d %d\", &child, &stud, &adult);\n",
        "\n",
        "\tint total = 5000 * child + 8000 * stud + 10000 * adult;\n",
        "\tif ((child + stud + adult) >= 15)\n",
        "\t\ttotal = total / 100 * 90;\n",
        "\n",
        "\tprintf(\"Total=%d\", total);\n",
        "\n",
        "\treturn 0;\n",
        "}"
      ]
    },
    {
      "cell_type": "code",
      "execution_count": null,
      "metadata": {
        "colab": {
          "base_uri": "https://localhost:8080/"
        },
        "id": "P9DgNczzB-O3",
        "outputId": "2736cdd5-f9e9-451c-829f-eb85fd5e3bc8"
      },
      "outputs": [
        {
          "name": "stdout",
          "output_type": "stream",
          "text": [
            "2 3 7\n",
            "Total=104000"
          ]
        },
        {
          "data": {
            "text/plain": []
          },
          "execution_count": 14,
          "metadata": {},
          "output_type": "execute_result"
        }
      ],
      "source": [
        "# 파일 실행(불러오기)\n",
        "%%shell\n",
        "gcc MiddleExam-4.c -o bout\n",
        "./bout"
      ]
    },
    {
      "cell_type": "markdown",
      "metadata": {
        "id": "72Ajr_LCCEZO"
      },
      "source": [
        "**5.**\n",
        "\n",
        "강섭이는 2022-2학기에 프로그래밍활용-C 과목을 수강했다.\n",
        "\n",
        "프로그래밍활용-C 과목의 성적은 출결 10%, 중간고사 40%, 기말고사 50%로 총 100%로 구성되어 있다.  \n",
        "출결, 중간고사, 기말고사의 총점은 모두 100점이며 앞에 설명한 비율로 최종성적이 구해진다.  \n",
        "최종성적이 20점 미만이거나, 출결이 50점 미만일 경우 F이며 F를 출력한다.  \n",
        "F가 아닌 경우에는 점수를 소수점 첫째 자리까지 출력한다.  \n",
        "강섭이가 2022-2학기 프로그래밍활용-C의 과목에서 받은 점수를 입력받고 최종성적을 출력하세요. [15점]  \n",
        "(단, 출결, 중간고사, 기말고사의 성적은 0이상 100이하의 정수입니다.)"
      ]
    },
    {
      "cell_type": "code",
      "execution_count": null,
      "metadata": {
        "colab": {
          "base_uri": "https://localhost:8080/"
        },
        "id": "klGoQL9TCO9Y",
        "outputId": "c3756d4f-06c2-47a2-eae7-d5bdb57f58c9"
      },
      "outputs": [
        {
          "name": "stdout",
          "output_type": "stream",
          "text": [
            "Writing MiddleExam-5.c\n"
          ]
        }
      ],
      "source": [
        "# 파일 작성\n",
        "%%writefile MiddleExam-5.c\n",
        "\n",
        "#include<stdio.h>\n",
        "\n",
        "int main(){\n",
        "\n",
        "\tint a, m, f;\n",
        "\tscanf(\"%d %d %d\", &a, &m, &f);\n",
        "\n",
        "\tdouble total = a * 0.1 + m * 0.4 + f * 0.5;\n",
        "\n",
        "\tif ((total < 20) || (a < 50))\n",
        "\t\tprintf(\"F\");\n",
        "\telse\n",
        "\t\tprintf(\"%.1f\", total);\n",
        "\n",
        "\treturn 0;\n",
        "}"
      ]
    },
    {
      "cell_type": "code",
      "execution_count": null,
      "metadata": {
        "colab": {
          "base_uri": "https://localhost:8080/"
        },
        "id": "_95TQRdjCTTH",
        "outputId": "d9e1aa21-3493-4141-cf43-d1dab1949ebc"
      },
      "outputs": [
        {
          "name": "stdout",
          "output_type": "stream",
          "text": [
            "70 90 85\n",
            "85.5"
          ]
        },
        {
          "data": {
            "text/plain": []
          },
          "execution_count": 16,
          "metadata": {},
          "output_type": "execute_result"
        }
      ],
      "source": [
        "# 파일 실행(불러오기)\n",
        "%%shell\n",
        "gcc MiddleExam-5.c -o bout\n",
        "./bout"
      ]
    },
    {
      "cell_type": "markdown",
      "metadata": {
        "id": "GDBpRBN4CeGZ"
      },
      "source": [
        "**6.**\n",
        "\n",
        "민근이와 재홍이는 숫자 게임을 한다.  \n",
        "숫자게임은 민근이와 재홍이가 3자리 숫자를 부르면 각 자리 숫자의 합이 n에 가까운 사람이 이기는 게임이다.  \n",
        "양의 정수인 n을 입력받고 민근이가 부른 세 자리 숫자와 재홍이가 부른 세 자리 숫자를 차례로 입력받는다.  \n",
        "이후 숫자게임의 결과에 따라 민근이가 이겼을 경우 “M Win!”을 출력하고,\n",
        "재홍이가 이겼을 경우 “J Win!”을 출력하고, 비겼을 경우 “Draw!”를 출력하세요. [15점]  \n",
        "(예를 들어, n이 5이고 민근이의 숫자는 123, 재홍이의 숫자는 456일 경우 민근이의 숫자의 합이 6, 재홍이의 숫자의 합이 15이며 6과 15중 n(5)에 가까운 숫자는 6이므로 민근이가 승리합니다.)"
      ]
    },
    {
      "cell_type": "code",
      "execution_count": null,
      "metadata": {
        "colab": {
          "base_uri": "https://localhost:8080/"
        },
        "id": "EWZm7Qj6CnJ2",
        "outputId": "1ae34413-0925-4b1e-9cd5-2640e1518d89"
      },
      "outputs": [
        {
          "name": "stdout",
          "output_type": "stream",
          "text": [
            "Writing MiddleExam-6.c\n"
          ]
        }
      ],
      "source": [
        "# 파일 작성\n",
        "%%writefile MiddleExam-6.c\n",
        "\n",
        "#include<stdio.h>\n",
        "\n",
        "int main(){\n",
        "\n",
        "\tint n, min, jae;\n",
        "\tscanf(\"%d\", &n);\n",
        "\tscanf(\"%d\", &min);\n",
        "\tscanf(\"%d\", &jae);\n",
        "\n",
        "\tint mintotal = ((min / 100) + (min % 100 / 10) + (min % 10));\n",
        "\tint jaetotal = ((jae / 100) + (jae % 100 / 10) + (jae % 10));\n",
        "\n",
        "\tint mindiff = mintotal - n;\n",
        "\tmindiff = mindiff < 0 ? -mindiff : mindiff;\n",
        "\tint jaediff = jaetotal - n;\n",
        "\tjaediff = jaediff < 0 ? -jaediff : jaediff;\n",
        "\n",
        "\tif (mindiff < jaediff)\n",
        "\t\tprintf(\"M Win!\");\n",
        "\telse if (mindiff > jaediff)\n",
        "\t\tprintf(\"J Win!\");\n",
        "\telse\n",
        "\t\tprintf(\"Draw!\");\n",
        "\n",
        "\treturn 0;\n",
        "}"
      ]
    },
    {
      "cell_type": "code",
      "execution_count": null,
      "metadata": {
        "colab": {
          "base_uri": "https://localhost:8080/"
        },
        "id": "S7J_gJSdCr-t",
        "outputId": "cdedb5d6-cf98-4a5b-afc3-6225d6c2ed2f"
      },
      "outputs": [
        {
          "name": "stdout",
          "output_type": "stream",
          "text": [
            "5\n",
            "123\n",
            "456\n",
            "M Win!"
          ]
        },
        {
          "data": {
            "text/plain": []
          },
          "execution_count": 18,
          "metadata": {},
          "output_type": "execute_result"
        }
      ],
      "source": [
        "# 파일 실행(불러오기)\n",
        "%%shell\n",
        "gcc MiddleExam-6.c -o bout\n",
        "./bout"
      ]
    },
    {
      "cell_type": "markdown",
      "metadata": {
        "id": "q1apKkraLev5"
      },
      "source": [
        "# **6주차.** 반복문"
      ]
    },
    {
      "cell_type": "markdown",
      "metadata": {
        "id": "uSc31X55DDKS"
      },
      "source": [
        "**1. 다중 IF**"
      ]
    },
    {
      "cell_type": "markdown",
      "metadata": {
        "id": "M9jiK6BBgQAE"
      },
      "source": [
        "- 다중 if문 or 중첩 if문 : if문 안의 문장이 또 다른 if문인 경우\n",
        "- else를 멀리 있는 if와 짝을 지으려면? : 중괄호 `{}`를 사용하여 if문의 적용 범위를 강제로 바꿔주면 됨"
      ]
    },
    {
      "cell_type": "markdown",
      "metadata": {
        "id": "1zmi61Yihtgv"
      },
      "source": [
        "**예제**\n",
        "\n",
        "초등 1, 2학년을 위한 퀴즈 프로그램을 작성하시오."
      ]
    },
    {
      "cell_type": "code",
      "execution_count": null,
      "metadata": {
        "colab": {
          "base_uri": "https://localhost:8080/"
        },
        "id": "nXXocykMgOQ2",
        "outputId": "4d123af3-ef50-40e8-cfa3-dd5d4445771f"
      },
      "outputs": [
        {
          "name": "stdout",
          "output_type": "stream",
          "text": [
            "Overwriting week6_1-1.c\n"
          ]
        }
      ],
      "source": [
        "# 파일 작성\n",
        "%%writefile week6_1-1.c\n",
        "\n",
        "#include<stdio.h>\n",
        "\n",
        "int main(void){\n",
        "\n",
        "  int year;\n",
        "  printf(\"몇 학년 입니까(1, 2)? \");\n",
        "  scanf(\"%d\",&year);\n",
        "\n",
        "  int ans;\n",
        "  if (year == 1){\n",
        "    printf(\"세종대왕이 만드신 배는 거북선이다.\\n맞으면 1, 틀리면 0: \");\n",
        "    scanf(\"%d\", &ans);\n",
        "    if (ans == 1)\n",
        "      printf(\"틀렸습니다\\n\");\n",
        "    else\n",
        "      printf(\"맞았습니다\\n\");\n",
        "  }\n",
        "  else{\n",
        "    printf(\"35 * 70 = \");\n",
        "    scanf(\"%d\",&ans);\n",
        "    if (ans == (35*70))\n",
        "      printf(\"맞았습니다\\n\");\n",
        "    else\n",
        "      printf(\"틀렸습니다\\n\");\n",
        "  }\n",
        "\n",
        "\n",
        "    return 0;\n",
        "}"
      ]
    },
    {
      "cell_type": "code",
      "execution_count": null,
      "metadata": {
        "colab": {
          "base_uri": "https://localhost:8080/"
        },
        "id": "yvo57tkPiZfA",
        "outputId": "312e9ad9-14eb-497c-dcbb-2f0cf8480920"
      },
      "outputs": [
        {
          "name": "stdout",
          "output_type": "stream",
          "text": [
            "몇 학년 입니까(1, 2)? 2\n",
            "35 * 70 = 123\n",
            "틀렸습니다\n"
          ]
        },
        {
          "data": {
            "text/plain": []
          },
          "execution_count": 8,
          "metadata": {},
          "output_type": "execute_result"
        }
      ],
      "source": [
        "# 파일 실행(불러오기)\n",
        "%%shell\n",
        "gcc week6_1-1.c -o bout\n",
        "./bout"
      ]
    },
    {
      "cell_type": "markdown",
      "metadata": {
        "id": "-kx0ZpeAiF1Z"
      },
      "source": [
        "**예제**\n",
        "\n",
        "점수에 따라 학점을 출력하는 프로그램을 다중 if문을 사용하여 작성할 수 있음\n",
        "1. 이번 학기 점수를 입력하라고 함(점수는 0 ~ 100점 사이)\n",
        "2. 만약 점수가 90점 이상이면 A학점을 출력함\n",
        "3. 만약 점수가 80점 이상 ~ 90점 미만이면 B학점을 출력함\n",
        "4. 만약 점수가 70점 이상 ~ 80점 미만이면 C학점을 출력함\n",
        "5. 만약 점수가 60점 이상 ~ 70점 미만이면 D학점을 출력함\n",
        "6. 만약 점수가 60점 미만이면 F학점을 출력함"
      ]
    },
    {
      "cell_type": "code",
      "execution_count": null,
      "metadata": {
        "colab": {
          "base_uri": "https://localhost:8080/"
        },
        "id": "jnDHJLiOgN5a",
        "outputId": "a2d87e00-3650-4d60-c808-5d4b64a114e8"
      },
      "outputs": [
        {
          "name": "stdout",
          "output_type": "stream",
          "text": [
            "Writing week6_1-2.c\n"
          ]
        }
      ],
      "source": [
        "# 파일 작성\n",
        "%%writefile week6_1-2.c\n",
        "\n",
        "#include<stdio.h>\n",
        "\n",
        "int main(void){\n",
        "\n",
        "    int score;\n",
        "    scanf(\"%d\",&score);\n",
        "\n",
        "    if (score >= 90)\n",
        "      printf(\"A\");\n",
        "    else if (score >= 80)\n",
        "      printf(\"B\");\n",
        "    else if (score >= 70)\n",
        "      printf(\"C\");\n",
        "    else if (score >= 60)\n",
        "      printf(\"D\");\n",
        "    else\n",
        "      printf(\"F\");\n",
        "\n",
        "\n",
        "    return 0;\n",
        "}"
      ]
    },
    {
      "cell_type": "code",
      "execution_count": null,
      "metadata": {
        "colab": {
          "base_uri": "https://localhost:8080/"
        },
        "id": "eRxuqNYbik8B",
        "outputId": "d3ae5b77-b8c8-41b4-b15b-4b000cdeef15"
      },
      "outputs": [
        {
          "name": "stdout",
          "output_type": "stream",
          "text": [
            "85\n",
            "B"
          ]
        },
        {
          "data": {
            "text/plain": []
          },
          "execution_count": 10,
          "metadata": {},
          "output_type": "execute_result"
        }
      ],
      "source": [
        "# 파일 실행(불러오기)\n",
        "%%shell\n",
        "gcc week6_1-2.c -o bout\n",
        "./bout"
      ]
    },
    {
      "cell_type": "markdown",
      "metadata": {
        "id": "fi94fZmuuzhn"
      },
      "source": [
        "**예제**\n",
        "\n",
        "다중 if문을 이용하여 다음 프로그램을 작성하시오.\n",
        "1. 사용자로부터 문자 하나를 입력 받는다.\n",
        "2. 문자가 대문자일 경우 \"대문자\"를 출력한다.\n",
        "3. 문자가 소문자일 경우 \"소문자\"를 출력한다.\n",
        "4. 문자가 숫자일 경우 \"숫자\"를 출력한다.\n",
        "5. 그 밖의 경우 \"기타\"를 출력한다."
      ]
    },
    {
      "cell_type": "code",
      "execution_count": null,
      "metadata": {
        "colab": {
          "base_uri": "https://localhost:8080/"
        },
        "id": "C-nj0mscgOAs",
        "outputId": "c8a056fe-d5b8-4eaa-a46d-5c8bf2f23a07"
      },
      "outputs": [
        {
          "name": "stdout",
          "output_type": "stream",
          "text": [
            "Overwriting week6_1-3.c\n"
          ]
        }
      ],
      "source": [
        "# 파일 작성\n",
        "%%writefile week6_1-3.c\n",
        "\n",
        "#include<stdio.h>\n",
        "\n",
        "int main(void){\n",
        "\n",
        "    char c;\n",
        "    printf(\"문자 하나를 입력하시오.: \");\n",
        "    scanf(\"%c\", &c);\n",
        "\n",
        "    if (c >= 'A' && c <= 'Z')\n",
        "      printf(\"대문자 입니다.\");\n",
        "    else if (c >= 'a' && c <= 'z')\n",
        "      printf(\"소문자 입니다.\");\n",
        "    else if (c >= '0' && c <= '9')\n",
        "      printf(\"숫자 %c입니다.\",c);\n",
        "    else\n",
        "      printf(\"기타\");\n",
        "\n",
        "    return 0;\n",
        "}"
      ]
    },
    {
      "cell_type": "code",
      "execution_count": null,
      "metadata": {
        "colab": {
          "base_uri": "https://localhost:8080/"
        },
        "id": "TcG_ds7VioAV",
        "outputId": "985f83fc-1bef-431f-ccbf-322fc5ff4706"
      },
      "outputs": [
        {
          "name": "stdout",
          "output_type": "stream",
          "text": [
            "문자 하나를 입력하시오.: 9\n",
            "숫자 9입니다."
          ]
        },
        {
          "data": {
            "text/plain": []
          },
          "execution_count": 16,
          "metadata": {},
          "output_type": "execute_result"
        }
      ],
      "source": [
        "# 파일 실행(불러오기)\n",
        "%%shell\n",
        "gcc week6_1-3.c -o bout\n",
        "./bout"
      ]
    },
    {
      "cell_type": "markdown",
      "metadata": {
        "id": "33l2Iu5Dizw3"
      },
      "source": [
        "P.S ) 다중 if문의 들여쓰기는 논리적인 흐름에 맞추어 적절히 선택 !"
      ]
    },
    {
      "cell_type": "markdown",
      "metadata": {
        "id": "9d6fpRyDi-Vp"
      },
      "source": [
        "\n",
        "\n",
        "---\n",
        "\n"
      ]
    },
    {
      "cell_type": "markdown",
      "metadata": {
        "id": "bLj-WRgoDEHz"
      },
      "source": [
        "**2. SWITCH**"
      ]
    },
    {
      "cell_type": "markdown",
      "metadata": {
        "id": "ywE1-_JCjEXL"
      },
      "source": [
        "- 주로 다중 선택에 사용하는데, 다중 if문보다 간결\n",
        "- 사용 영역이 if ~ else에 비해 제한적\n",
        "\n",
        "- switch문 동작 방식\n",
        "  - switch문 수식의 결과 값과 `case`의 상수 값을 차례로 비교하여 일치하는 `case`의 문장들부터 차례로 시행\n",
        "  - `case` 비교 시 `default:`의 의미는? : 그 외의 경우\n",
        "  - 해당 `case`도 없고, `default:`도 없으면? : 아무 문장도 실행하지 않고, switch 문 끝으로 이동\n",
        "\n",
        "- break문\n",
        "  - switch 문을 중간에 벗어나는 역할\n",
        "  - swich 문 수행도중 break 문을 만나면 switch 문 끝으로 이동\n",
        "\n",
        "- switch 문 구문 및 동작 방식 (정리)\n",
        "```\n",
        "swich( 수식 ) {\n",
        "    case 상수1:\n",
        "      문장1 ;\n",
        "      break;    ⇒ 필요시\n",
        "    case 상수2:\n",
        "      문장2 ;\n",
        "      break;    ⇒ 필요시\n",
        "    ...\n",
        "    default:    ⇒ 필요시\n",
        "      문장N;\n",
        "  }\n",
        "```"
      ]
    },
    {
      "cell_type": "markdown",
      "metadata": {
        "id": "aUxH42YInxbv"
      },
      "source": [
        "**예제**\n",
        "\n",
        "사칙 연산자 하나를 입력 받아 연산 결과를 출력하는 프로그램을 switch 문을 이용하여 작성하시오.\n",
        "\n",
        "- 사칙 연산자 :+, -, *, /, %\n",
        "- 첫 번째 피연산자는 20, 두 번째 피연산자는 6으로 고정"
      ]
    },
    {
      "cell_type": "code",
      "execution_count": null,
      "metadata": {
        "colab": {
          "base_uri": "https://localhost:8080/"
        },
        "id": "k50rqVmhoG6y",
        "outputId": "c7a473b1-6ce3-4bf5-e6fd-f7d61f7540ec"
      },
      "outputs": [
        {
          "name": "stdout",
          "output_type": "stream",
          "text": [
            "Overwriting week6_2-1.c\n"
          ]
        }
      ],
      "source": [
        "# 파일 작성\n",
        "%%writefile week6_2-1.c\n",
        "\n",
        "#include<stdio.h>\n",
        "\n",
        "int main(void){\n",
        "\n",
        "  char c;\n",
        "  int res;\n",
        "\n",
        "  printf(\"사칙 연산자 하나를 입력하시오. \\(+, -, *, /, %\\) : \");\n",
        "  scanf(\"%c\",&c);\n",
        "  switch(c)\n",
        "  {\n",
        "    case '+' :\n",
        "      res = 20 + 6;\n",
        "      break;\n",
        "    case '-' :\n",
        "      res = 20 - 6;\n",
        "      break;\n",
        "    case '*' :\n",
        "      res = 20 * 6;\n",
        "      break;\n",
        "    case '/' :\n",
        "      res = 20 / 6;\n",
        "      break;\n",
        "    case '%' :\n",
        "      res = 20 % 6;\n",
        "      break;\n",
        "  }\n",
        "\n",
        "  printf(\"20 %c 6 = %d\",c,res);\n",
        "\n",
        "  return 0;\n",
        "}"
      ]
    },
    {
      "cell_type": "code",
      "execution_count": null,
      "metadata": {
        "colab": {
          "base_uri": "https://localhost:8080/"
        },
        "id": "5_RDx-PQnv_S",
        "outputId": "a40ba6a6-df11-4eaf-cb37-5417563061e2"
      },
      "outputs": [
        {
          "name": "stdout",
          "output_type": "stream",
          "text": [
            "\u001b[01m\u001b[Kweek6_2-1.c:\u001b[m\u001b[K In function ‘\u001b[01m\u001b[Kmain\u001b[m\u001b[K’:\n",
            "\u001b[01m\u001b[Kweek6_2-1.c:9:10:\u001b[m\u001b[K \u001b[01;35m\u001b[Kwarning: \u001b[m\u001b[Kunknown escape sequence: '\\)'\n",
            "   printf(\u001b[01;35m\u001b[K\"사칙 연산자 하나를 입력하시오. \\(+, -, *, /, %\\) : \"\u001b[m\u001b[K);\n",
            "          \u001b[01;35m\u001b[K^~~~~~~~~~~~~~~~~~~~~~~~~~~~~~~~~~~~~~~~~~~~~~~~~~~~~~~~~~~~~~~~~~\u001b[m\u001b[K\n",
            "\u001b[01m\u001b[Kweek6_2-1.c:9:70:\u001b[m\u001b[K \u001b[01;35m\u001b[Kwarning: \u001b[m\u001b[Kunknown conversion type character ‘\u001b[01m\u001b[K)\u001b[m\u001b[K’ in format [\u001b[01;35m\u001b[K-Wformat=\u001b[m\u001b[K]\n",
            "   printf(\"사칙 연산자 하나를 입력하시오. \\(+, -, *, /, %\u001b[01;35m\u001b[K\\)\u001b[m\u001b[K : \");\n",
            "                                                                      \u001b[01;35m\u001b[K^~\u001b[m\u001b[K\n",
            "사칙 연산자 하나를 입력하시오. (+, -, *, /, %) : -\n",
            "20 - 6 = 14"
          ]
        },
        {
          "data": {
            "text/plain": []
          },
          "execution_count": 44,
          "metadata": {},
          "output_type": "execute_result"
        }
      ],
      "source": [
        "# 파일 실행(불러오기)\n",
        "%%shell\n",
        "gcc week6_2-1.c -o bout\n",
        "./bout"
      ]
    },
    {
      "cell_type": "markdown",
      "metadata": {
        "id": "DV0mypf8oRle"
      },
      "source": [
        "- case에 정수 1, 2, 3이 순서대로 나와야 하나? : NO !!!\n",
        "  - 순서 상관 X\n",
        "  - 문자도 가능 !\n",
        "  - 정수형 상수(문자 포함)만 가능"
      ]
    },
    {
      "cell_type": "markdown",
      "metadata": {
        "id": "Mzmo9ZeRjbkf"
      },
      "source": [
        "**☆★ 예제 ★☆**\n",
        "\n",
        "학점 출력 문제를 switch문을 사용하여 구현하시오.\n",
        "\n",
        "1. 이번 학기 점수를 입력하라고 함(점수는 0 ~ 100점 사이)\n",
        "2. 만약 점수가 90점 이상이면 A학점을 출력함\n",
        "3. 만약 점수가 80점 이상 ~ 90점 미만이면 B학점을 출력함\n",
        "4. 만약 점수가 70점 이상 ~ 80점 미만이면 C학점을 출력함\n",
        "5. 만약 점수가 60점 이상 ~ 70점 미만이면 D학점을 출력함\n",
        "6. 만약 점수가 60점 미만이면 F학점을 출력함"
      ]
    },
    {
      "cell_type": "code",
      "execution_count": null,
      "metadata": {
        "colab": {
          "base_uri": "https://localhost:8080/"
        },
        "id": "4YX7WbIWpPgy",
        "outputId": "7128f2b6-0120-47d1-f5a9-36510410b8ef"
      },
      "outputs": [
        {
          "name": "stdout",
          "output_type": "stream",
          "text": [
            "Overwriting week6_2-2.c\n"
          ]
        }
      ],
      "source": [
        "# 파일 작성\n",
        "%%writefile week6_2-2.c\n",
        "\n",
        "#include<stdio.h>\n",
        "\n",
        "int main(void){\n",
        "\n",
        "  int score;\n",
        "  scanf(\"%d\", &score);\n",
        "\n",
        "  switch(score/10)\n",
        "  {\n",
        "    case 10 :\n",
        "      case 9 :\n",
        "        printf(\"A\");\n",
        "        break;\n",
        "    case 8 :\n",
        "      printf(\"B\");\n",
        "      break;\n",
        "    case 7 :\n",
        "      printf(\"C\");\n",
        "      break;\n",
        "    case 6 :\n",
        "      printf(\"D\");\n",
        "      break;\n",
        "    default :\n",
        "      printf(\"F\");\n",
        "  }\n",
        "\n",
        "    return 0;\n",
        "}"
      ]
    },
    {
      "cell_type": "code",
      "execution_count": null,
      "metadata": {
        "colab": {
          "base_uri": "https://localhost:8080/"
        },
        "id": "J_mIpjWFpPUv",
        "outputId": "75a759eb-035c-4d41-9f30-8d132d09de13"
      },
      "outputs": [
        {
          "name": "stdout",
          "output_type": "stream",
          "text": [
            "95\n",
            "A"
          ]
        },
        {
          "data": {
            "text/plain": []
          },
          "execution_count": 48,
          "metadata": {},
          "output_type": "execute_result"
        }
      ],
      "source": [
        "# 파일 실행(불러오기)\n",
        "%%shell\n",
        "gcc week6_2-2.c -o bout\n",
        "./bout"
      ]
    },
    {
      "cell_type": "markdown",
      "metadata": {
        "id": "8ZPCX4nypOt5"
      },
      "source": [
        "**예제**\n",
        "\n",
        "양의 정수를 입력 받아, 짝수인지 홀수인지 판별하는 프로그램을 switch문을 이용하여 작성하시오."
      ]
    },
    {
      "cell_type": "code",
      "execution_count": null,
      "metadata": {
        "colab": {
          "base_uri": "https://localhost:8080/"
        },
        "id": "xATpdvM9pibJ",
        "outputId": "072262cb-0aae-4207-fa21-42c69dd4643f"
      },
      "outputs": [
        {
          "name": "stdout",
          "output_type": "stream",
          "text": [
            "Overwriting week6_2-3.c\n"
          ]
        }
      ],
      "source": [
        "# 파일 작성\n",
        "%%writefile week6_2-3.c\n",
        "\n",
        "#include<stdio.h>\n",
        "\n",
        "int main(void){\n",
        "\n",
        "  int n;\n",
        "  scanf(\"%d\",&n);\n",
        "\n",
        "  switch(n%2)\n",
        "  {\n",
        "    case 0 :\n",
        "      printf(\"even\");\n",
        "      break;\n",
        "    case 1 : printf(\"odd\");\n",
        "  }\n",
        "\n",
        "    return 0;\n",
        "}"
      ]
    },
    {
      "cell_type": "code",
      "execution_count": null,
      "metadata": {
        "colab": {
          "base_uri": "https://localhost:8080/"
        },
        "id": "biMc39IepiQF",
        "outputId": "1c1967d1-9877-488e-c8a4-88e3f58eeeef"
      },
      "outputs": [
        {
          "name": "stdout",
          "output_type": "stream",
          "text": [
            "10\n",
            "even"
          ]
        },
        {
          "data": {
            "text/plain": []
          },
          "execution_count": 53,
          "metadata": {},
          "output_type": "execute_result"
        }
      ],
      "source": [
        "# 파일 실행(불러오기)\n",
        "%%shell\n",
        "gcc week6_2-3.c -o bout\n",
        "./bout"
      ]
    },
    {
      "cell_type": "markdown",
      "metadata": {
        "id": "-OAqsvslpe1R"
      },
      "source": [
        "**☆★ 예제 ★☆**\n",
        "\n",
        "영어 소문자 하나를 입력 받아, 자음(consonant)인지 모음(vowel)인지 판별하는 프로그램을 switch문을 이용하여 작성하시오."
      ]
    },
    {
      "cell_type": "code",
      "execution_count": null,
      "metadata": {
        "colab": {
          "base_uri": "https://localhost:8080/"
        },
        "id": "cId8Qz8lpvbU",
        "outputId": "56fe1206-1704-4574-9ff6-3f12ec4546c3"
      },
      "outputs": [
        {
          "name": "stdout",
          "output_type": "stream",
          "text": [
            "Writing week6_2-4.c\n"
          ]
        }
      ],
      "source": [
        "# 파일 작성\n",
        "%%writefile week6_2-4.c\n",
        "\n",
        "#include<stdio.h>\n",
        "\n",
        "int main(void){\n",
        "\n",
        "    char c;\n",
        "    scanf(\"%c\", &c);\n",
        "\n",
        "    switch(c)\n",
        "    {\n",
        "      case 'a':\n",
        "      case 'e':\n",
        "      case 'i':\n",
        "      case 'o':\n",
        "      case 'u':\n",
        "        printf(\"vowel\");\n",
        "        break;\n",
        "      default:\n",
        "        printf(\"consonant\");\n",
        "    }\n",
        "\n",
        "\n",
        "    return 0;\n",
        "}"
      ]
    },
    {
      "cell_type": "code",
      "execution_count": null,
      "metadata": {
        "colab": {
          "base_uri": "https://localhost:8080/"
        },
        "id": "zakRiZbXpd0z",
        "outputId": "a204efa2-55c9-4e04-89d7-c05944c71f17"
      },
      "outputs": [
        {
          "name": "stdout",
          "output_type": "stream",
          "text": [
            "y\n",
            "consonant"
          ]
        },
        {
          "data": {
            "text/plain": []
          },
          "execution_count": 56,
          "metadata": {},
          "output_type": "execute_result"
        }
      ],
      "source": [
        "# 파일 실행(불러오기)\n",
        "%%shell\n",
        "gcc week6_2-4.c -o bout\n",
        "./bout"
      ]
    },
    {
      "cell_type": "markdown",
      "metadata": {
        "id": "Vvg_-gg8p19F"
      },
      "source": [
        "\n",
        "\n",
        "---\n",
        "\n"
      ]
    },
    {
      "cell_type": "markdown",
      "metadata": {
        "id": "-ZbT66xGp27E"
      },
      "source": [
        "**3. WHILE**"
      ]
    },
    {
      "cell_type": "markdown",
      "metadata": {
        "id": "CUR1VxBqp-OL"
      },
      "source": [
        "- 제어문\n",
        "  - C언어는 순차처리언어로, 특별한 지정이 없으면, 소스 코드 첫 줄부터 차례대로 처리\n",
        "  - 그러나 문제 해결 위해 처리 흐름 제어 필요 ⇒ 제어문\n",
        "\n",
        "- 제어문 종류\n",
        "  - 조건문 : if문, if~else문, switch문\n",
        "  - 반복문 : for문, while문, do~while문\n",
        "  - 기타 : break문, continue문, goto문, return문\n",
        "\n",
        "- 반복문\n",
        "  - 특정 조건을 만족하는 동안 계속 반복하여 실행하는 문장\n",
        "  - 루프(loop)라고도 불림\n",
        "  - while문, do~while문, for문\n",
        "\n",
        "- while 문의 대략적인 형태\n",
        "```\n",
        "  while ( 조건식 )\n",
        "  {\n",
        "    반복할 문장;\n",
        "  }\n",
        "```"
      ]
    },
    {
      "cell_type": "markdown",
      "metadata": {
        "id": "DvmjiaxWr7TD"
      },
      "source": [
        "**예제**\n",
        "\n",
        "while 문을 이용하여 1부터 5까지의 합 구하기"
      ]
    },
    {
      "cell_type": "code",
      "execution_count": null,
      "metadata": {
        "colab": {
          "base_uri": "https://localhost:8080/"
        },
        "id": "M5pEP5u9sJoM",
        "outputId": "7fb69a64-c4e1-45da-a1a3-41914e44915b"
      },
      "outputs": [
        {
          "name": "stdout",
          "output_type": "stream",
          "text": [
            "Writing week6_3-1.c\n"
          ]
        }
      ],
      "source": [
        "# 파일 작성\n",
        "%%writefile week6_3-1.c\n",
        "\n",
        "#include<stdio.h>\n",
        "\n",
        "int main(void){\n",
        "\n",
        "  int i=1, sum=0;\n",
        "  while (i <= 5){\n",
        "    sum += i;\n",
        "    i++;\n",
        "  }\n",
        "\n",
        "  printf(\"%d\", sum);\n",
        "\n",
        "  return 0;\n",
        "}"
      ]
    },
    {
      "cell_type": "code",
      "execution_count": null,
      "metadata": {
        "colab": {
          "base_uri": "https://localhost:8080/"
        },
        "id": "r8ZqEbcVov_b",
        "outputId": "b6970cc6-341e-4b5c-94ea-1cf81a81fed2"
      },
      "outputs": [
        {
          "name": "stdout",
          "output_type": "stream",
          "text": [
            "15"
          ]
        },
        {
          "data": {
            "text/plain": []
          },
          "execution_count": 58,
          "metadata": {},
          "output_type": "execute_result"
        }
      ],
      "source": [
        "# 파일 실행(불러오기)\n",
        "%%shell\n",
        "gcc week6_3-1.c -o bout\n",
        "./bout"
      ]
    },
    {
      "cell_type": "markdown",
      "metadata": {
        "id": "WITyxr0xsXhJ"
      },
      "source": [
        "**예제**\n",
        "\n",
        "변수 i가 10보다 작은 동안, \"Hello World!\"를 출력하고 i를 1만큼 증가"
      ]
    },
    {
      "cell_type": "code",
      "execution_count": null,
      "metadata": {
        "colab": {
          "base_uri": "https://localhost:8080/"
        },
        "id": "IZl3m_t1ohq-",
        "outputId": "89ab08c2-9cee-471c-a06b-95a370d3b536"
      },
      "outputs": [
        {
          "name": "stdout",
          "output_type": "stream",
          "text": [
            "Writing week6_3-2.c\n"
          ]
        }
      ],
      "source": [
        "# 파일 작성\n",
        "%%writefile week6_3-2.c\n",
        "\n",
        "#include<stdio.h>\n",
        "\n",
        "int main(void){\n",
        "    int i = 0;\n",
        "    while (i < 10){\n",
        "      printf(\"Hello World!\\n\");\n",
        "      i++;\n",
        "    }\n",
        "\n",
        "    return 0;\n",
        "}"
      ]
    },
    {
      "cell_type": "code",
      "execution_count": null,
      "metadata": {
        "colab": {
          "base_uri": "https://localhost:8080/"
        },
        "id": "SX02pVMcDEuS",
        "outputId": "543c7472-75b8-4d94-a5d2-740faacef1e8"
      },
      "outputs": [
        {
          "name": "stdout",
          "output_type": "stream",
          "text": [
            "Hello World!\n",
            "Hello World!\n",
            "Hello World!\n",
            "Hello World!\n",
            "Hello World!\n",
            "Hello World!\n",
            "Hello World!\n",
            "Hello World!\n",
            "Hello World!\n",
            "Hello World!\n"
          ]
        },
        {
          "data": {
            "text/plain": []
          },
          "execution_count": 2,
          "metadata": {},
          "output_type": "execute_result"
        }
      ],
      "source": [
        "# 파일 실행(불러오기)\n",
        "%%shell\n",
        "gcc week6_3-2.c -o bout\n",
        "./bout"
      ]
    },
    {
      "cell_type": "markdown",
      "metadata": {
        "id": "RCAtlBnHDFMM"
      },
      "source": [
        "**예제**\n",
        "\n",
        "0 또는 음수가 입력되기 전까지 정수를 입력 받아, 입력 받은 정수의 합 (종료 조건 0 또는 음수는 합에서 제외) 구하기"
      ]
    },
    {
      "cell_type": "code",
      "execution_count": null,
      "metadata": {
        "colab": {
          "base_uri": "https://localhost:8080/"
        },
        "id": "MwwPK0TDDFg8",
        "outputId": "8611eaa3-1be7-49f0-ca16-87ba6fa9c6c6"
      },
      "outputs": [
        {
          "name": "stdout",
          "output_type": "stream",
          "text": [
            "Writing week6_3-3.c\n"
          ]
        }
      ],
      "source": [
        "# 파일 작성\n",
        "%%writefile week6_3-3.c\n",
        "\n",
        "#include<stdio.h>\n",
        "\n",
        "int main(void){\n",
        "\n",
        "  int x, sum = 0;\n",
        "  scanf(\"%d\",&x);\n",
        "\n",
        "  while (x > 0){\n",
        "    sum += x;\n",
        "    scanf(\"%d\", &x);\n",
        "  }\n",
        "\n",
        "  printf(\"입력 받은 정수의 합 = %d\",sum);\n",
        "  return 0;\n",
        "}"
      ]
    },
    {
      "cell_type": "code",
      "execution_count": null,
      "metadata": {
        "colab": {
          "base_uri": "https://localhost:8080/"
        },
        "id": "Y16Yq5ERs9K6",
        "outputId": "22a9fa05-a3b1-4e21-876c-f38c0a5ab68c"
      },
      "outputs": [
        {
          "name": "stdout",
          "output_type": "stream",
          "text": [
            "2\n",
            "3\n",
            "0\n",
            "입력 받은 정수의 합 = 5"
          ]
        },
        {
          "data": {
            "text/plain": []
          },
          "execution_count": 4,
          "metadata": {},
          "output_type": "execute_result"
        }
      ],
      "source": [
        "# 파일 실행(불러오기)\n",
        "%%shell\n",
        "gcc week6_3-3.c -o bout\n",
        "./bout"
      ]
    },
    {
      "cell_type": "markdown",
      "metadata": {
        "id": "SvKScjsVs_JK"
      },
      "source": [
        "**예제**\n",
        "\n",
        "변수 num이 50보다 크기 전까지, 정수를 읽어 들여 num에 저장"
      ]
    },
    {
      "cell_type": "code",
      "execution_count": null,
      "metadata": {
        "colab": {
          "base_uri": "https://localhost:8080/"
        },
        "id": "cCy4_OYYtFIR",
        "outputId": "cee202d5-4fce-4782-dc68-ceb40dc40fb1"
      },
      "outputs": [
        {
          "name": "stdout",
          "output_type": "stream",
          "text": [
            "Writing week6_3-4.c\n"
          ]
        }
      ],
      "source": [
        "# 파일 작성\n",
        "%%writefile week6_3-4.c\n",
        "\n",
        "#include<stdio.h>\n",
        "\n",
        "int main(void){\n",
        "\n",
        "    int num = 0;\n",
        "\n",
        "    while (num <= 50){\n",
        "      scanf(\"%d\", &num);\n",
        "      printf(\"%d\\n\",num);\n",
        "    }\n",
        "\n",
        "    return 0;\n",
        "}"
      ]
    },
    {
      "cell_type": "code",
      "execution_count": null,
      "metadata": {
        "colab": {
          "base_uri": "https://localhost:8080/"
        },
        "id": "VVPNOA7ftFd7",
        "outputId": "816eff56-9900-4068-d329-e904db1790ce"
      },
      "outputs": [
        {
          "name": "stdout",
          "output_type": "stream",
          "text": [
            "31\n",
            "31\n",
            "50\n",
            "50\n",
            "4\n",
            "4\n",
            "51\n",
            "51\n"
          ]
        },
        {
          "data": {
            "text/plain": []
          },
          "execution_count": 6,
          "metadata": {},
          "output_type": "execute_result"
        }
      ],
      "source": [
        "# 파일 실행(불러오기)\n",
        "%%shell\n",
        "gcc week6_3-4.c -o bout\n",
        "./bout"
      ]
    },
    {
      "cell_type": "markdown",
      "metadata": {
        "id": "KT1XfTfqtKN8"
      },
      "source": [
        "**예제**\n",
        "\n",
        "정수를 입력 받아, 그 정수에 해당하는 구구단 출력하기"
      ]
    },
    {
      "cell_type": "code",
      "execution_count": null,
      "metadata": {
        "colab": {
          "base_uri": "https://localhost:8080/"
        },
        "id": "taMKvSW5tOrb",
        "outputId": "5a5def70-81ed-4f7b-ab92-63fd7c9f01d6"
      },
      "outputs": [
        {
          "name": "stdout",
          "output_type": "stream",
          "text": [
            "Overwriting week6_3-5.c\n"
          ]
        }
      ],
      "source": [
        "# 파일 작성\n",
        "%%writefile week6_3-5.c\n",
        "\n",
        "#include<stdio.h>\n",
        "\n",
        "int main(void){\n",
        "\n",
        "  int n, i = 1;\n",
        "  scanf(\"%d\", &n);\n",
        "\n",
        "  while (i < 10){\n",
        "    printf(\"%d * %d = %d\\n\", n, i, n*i);\n",
        "    i++;\n",
        "  }\n",
        "\n",
        "    return 0;\n",
        "}"
      ]
    },
    {
      "cell_type": "code",
      "execution_count": null,
      "metadata": {
        "colab": {
          "base_uri": "https://localhost:8080/"
        },
        "id": "qhWqHSy4tRVe",
        "outputId": "024e3124-68e0-4383-d8f1-56ce6f322bc7"
      },
      "outputs": [
        {
          "name": "stdout",
          "output_type": "stream",
          "text": [
            "5\n",
            "5 * 1 = 5\n",
            "5 * 2 = 10\n",
            "5 * 3 = 15\n",
            "5 * 4 = 20\n",
            "5 * 5 = 25\n",
            "5 * 6 = 30\n",
            "5 * 7 = 35\n",
            "5 * 8 = 40\n",
            "5 * 9 = 45\n"
          ]
        },
        {
          "data": {
            "text/plain": []
          },
          "execution_count": 10,
          "metadata": {},
          "output_type": "execute_result"
        }
      ],
      "source": [
        "# 파일 실행(불러오기)\n",
        "%%shell\n",
        "gcc week6_3-5.c -o bout\n",
        "./bout"
      ]
    },
    {
      "cell_type": "markdown",
      "metadata": {
        "id": "hAJ14oQctVg6"
      },
      "source": [
        "**예제**\n",
        "\n",
        "영어 소문자 순서대로 출력하기\n",
        "- hint) 영어 소문자의 아스키 코드 값이 연속한다는 성질 이용\n",
        "- 영문자의 아스키 코드 값을 알 필요는 없음 (2장 문자 자료형)"
      ]
    },
    {
      "cell_type": "code",
      "execution_count": null,
      "metadata": {
        "colab": {
          "base_uri": "https://localhost:8080/"
        },
        "id": "Y2HnnIi4tZEI",
        "outputId": "9282c6bf-5ae0-4c5d-973f-e470b37bc9c7"
      },
      "outputs": [
        {
          "name": "stdout",
          "output_type": "stream",
          "text": [
            "Overwriting week6_3-6.c\n"
          ]
        }
      ],
      "source": [
        "# 파일 작성\n",
        "%%writefile week6_3-6.c\n",
        "\n",
        "#include<stdio.h>\n",
        "\n",
        "int main(void){\n",
        "\n",
        "    char c = 'a';\n",
        "    while (c <= 'z'){\n",
        "      printf(\"%c \", c);\n",
        "      c++;\n",
        "    }\n",
        "\n",
        "    return 0;\n",
        "}"
      ]
    },
    {
      "cell_type": "code",
      "execution_count": null,
      "metadata": {
        "colab": {
          "base_uri": "https://localhost:8080/"
        },
        "id": "79K5ayb4tZbp",
        "outputId": "bc1358a4-cc17-4d18-d9d9-78168c2a15ad"
      },
      "outputs": [
        {
          "name": "stdout",
          "output_type": "stream",
          "text": [
            "a b c d e f g h i j k l m n o p q r s t u v w x y z "
          ]
        },
        {
          "data": {
            "text/plain": []
          },
          "execution_count": 16,
          "metadata": {},
          "output_type": "execute_result"
        }
      ],
      "source": [
        "# 파일 실행(불러오기)\n",
        "%%shell\n",
        "gcc week6_3-6.c -o bout\n",
        "./bout"
      ]
    },
    {
      "cell_type": "markdown",
      "metadata": {
        "id": "4cTO-1wRtnAe"
      },
      "source": [
        "**예제**\n",
        "\n",
        "1부터 시작하여 값을 1씩 증가시키면서 차례로 더한 합이 최초로 100 이상이 되는 때, 마지막에 더한 값 구하기"
      ]
    },
    {
      "cell_type": "code",
      "execution_count": null,
      "metadata": {
        "colab": {
          "base_uri": "https://localhost:8080/"
        },
        "id": "T7j71sKpttkn",
        "outputId": "fdcdff64-10e8-42eb-96a5-6029fe91cfb2"
      },
      "outputs": [
        {
          "name": "stdout",
          "output_type": "stream",
          "text": [
            "Overwriting week6_3-7.c\n"
          ]
        }
      ],
      "source": [
        "# 파일 작성\n",
        "%%writefile week6_3-7.c\n",
        "\n",
        "#include<stdio.h>\n",
        "\n",
        "int main(void){\n",
        "\n",
        "    int i = 1, sum = 0;\n",
        "\n",
        "    while (sum < 100){\n",
        "      sum += i;\n",
        "      i++;\n",
        "    }\n",
        "\n",
        "    printf(\"%d\",i-1);\n",
        "\n",
        "    return 0;\n",
        "}"
      ]
    },
    {
      "cell_type": "code",
      "execution_count": null,
      "metadata": {
        "colab": {
          "base_uri": "https://localhost:8080/"
        },
        "id": "7Qx8cAwXtuGY",
        "outputId": "d609cc71-6182-4265-b2ef-2e5b32b597aa"
      },
      "outputs": [
        {
          "name": "stdout",
          "output_type": "stream",
          "text": [
            "14"
          ]
        },
        {
          "data": {
            "text/plain": []
          },
          "execution_count": 20,
          "metadata": {},
          "output_type": "execute_result"
        }
      ],
      "source": [
        "# 파일 실행(불러오기)\n",
        "%%shell\n",
        "gcc week6_3-7.c -o bout\n",
        "./bout"
      ]
    },
    {
      "cell_type": "markdown",
      "metadata": {
        "id": "HMZW3eDet1kg"
      },
      "source": [
        "**예제**\n",
        "\n",
        "0이 입력되기 전까지 정수를 입력 받아 (즉, 종료 조건은 정수 0 입력), 이 중에서 가장 작은 값 구하기\n",
        "- 처음 입력 정수는 0이 아니라고 가정하고, 정수 0은 비교 대상에서 제외\n",
        "- hint) 반복문 안에서 조건문 사용"
      ]
    },
    {
      "cell_type": "code",
      "execution_count": null,
      "metadata": {
        "colab": {
          "base_uri": "https://localhost:8080/"
        },
        "id": "POvXMx72t_7-",
        "outputId": "2e5964e4-2d7e-4d31-b21c-889a7397d129"
      },
      "outputs": [
        {
          "name": "stdout",
          "output_type": "stream",
          "text": [
            "Writing week6_3-8.c\n"
          ]
        }
      ],
      "source": [
        "# 파일 작성\n",
        "%%writefile week6_3-8.c\n",
        "\n",
        "#include<stdio.h>\n",
        "\n",
        "int main(void){\n",
        "\n",
        "    int a, m;\n",
        "    scanf(\"%d\", &a);\n",
        "\n",
        "    m = a;\n",
        "    while (a != 0){\n",
        "      scanf(\"%d\", &a);\n",
        "      if (a != 0 && m > a)\n",
        "        m = a;\n",
        "    }\n",
        "\n",
        "    printf(\"입력된 가장 작은 값 : %d\\n\",m);\n",
        "\n",
        "    return 0;\n",
        "}"
      ]
    },
    {
      "cell_type": "code",
      "execution_count": null,
      "metadata": {
        "colab": {
          "base_uri": "https://localhost:8080/"
        },
        "id": "4wc5CEe4uAVv",
        "outputId": "49c80c20-dbb2-4c29-99c2-fc26314fd30f"
      },
      "outputs": [
        {
          "name": "stdout",
          "output_type": "stream",
          "text": [
            "9\n",
            "3\n",
            "87\n",
            "42\n",
            "11\n",
            "0\n",
            "입력된 가장 작은 값 : 3\n"
          ]
        },
        {
          "data": {
            "text/plain": []
          },
          "execution_count": 22,
          "metadata": {},
          "output_type": "execute_result"
        }
      ],
      "source": [
        "# 파일 실행(불러오기)\n",
        "%%shell\n",
        "gcc week6_3-8.c -o bout\n",
        "./bout"
      ]
    },
    {
      "cell_type": "markdown",
      "metadata": {
        "id": "KpXE69x3DF7T"
      },
      "source": [
        "\n",
        "\n",
        "---\n",
        "\n"
      ]
    },
    {
      "cell_type": "markdown",
      "metadata": {
        "id": "-isGvmIS-A5M"
      },
      "source": [
        "**6주차 온라인 강의 퀴즈 - 1**"
      ]
    },
    {
      "cell_type": "code",
      "execution_count": null,
      "metadata": {
        "colab": {
          "base_uri": "https://localhost:8080/"
        },
        "id": "rDcMZ5Up-F7Y",
        "outputId": "4d16a3fd-a459-4f34-aa44-5b4df166a5be"
      },
      "outputs": [
        {
          "name": "stdout",
          "output_type": "stream",
          "text": [
            "Overwriting week6_1.c\n"
          ]
        }
      ],
      "source": [
        "# 파일 작성\n",
        "%%writefile week6_1.c\n",
        "\n",
        "#include<stdio.h>\n",
        "\n",
        "int main(void){\n",
        "    int a=5, b=3;\n",
        "    if(a>3){\n",
        "        if(b>4){\n",
        "            printf(\"A\");\n",
        "        }\n",
        "        else if(b>2){\n",
        "            printf(\"B\");\n",
        "        }\n",
        "        else{\n",
        "            printf(\"C\");\n",
        "        }\n",
        "    }\n",
        "    if(b>0){\n",
        "        if(b==4){\n",
        "            printf(\"D\");\n",
        "        }\n",
        "        else if(a!=5){\n",
        "            printf(\"E\");\n",
        "        }\n",
        "        else{\n",
        "            printf(\"F\");\n",
        "        }\n",
        "    }\n",
        "    return 0;\n",
        "}"
      ]
    },
    {
      "cell_type": "code",
      "execution_count": null,
      "metadata": {
        "colab": {
          "base_uri": "https://localhost:8080/"
        },
        "id": "qxYH38Da-d33",
        "outputId": "31f4a6c8-8d39-412a-f630-fc52fcf6528b"
      },
      "outputs": [
        {
          "name": "stdout",
          "output_type": "stream",
          "text": [
            "BF"
          ]
        },
        {
          "data": {
            "text/plain": []
          },
          "execution_count": 4,
          "metadata": {},
          "output_type": "execute_result"
        }
      ],
      "source": [
        "# 파일 실행(불러오기)\n",
        "%%shell\n",
        "gcc week6_1.c -o bout\n",
        "./bout"
      ]
    },
    {
      "cell_type": "markdown",
      "metadata": {
        "id": "RqF2gdQy_wUs"
      },
      "source": [
        "**6주차 온라인 강의 퀴즈 - 3**"
      ]
    },
    {
      "cell_type": "code",
      "execution_count": null,
      "metadata": {
        "colab": {
          "base_uri": "https://localhost:8080/"
        },
        "id": "eXvSq6zZ_zK0",
        "outputId": "8049e1a4-ea77-4073-b9e2-8b155891bbc1"
      },
      "outputs": [
        {
          "name": "stdout",
          "output_type": "stream",
          "text": [
            "Writing week6_3.c\n"
          ]
        }
      ],
      "source": [
        "# 파일 작성\n",
        "%%writefile week6_3.c\n",
        "\n",
        "#include<stdio.h>\n",
        "\n",
        "int main(void){\n",
        "   int x=3;\n",
        "   switch(x){\n",
        "      case 1: printf(\"A\"); break;\n",
        "      case 2: printf(\"B\");\n",
        "      case 3: printf(\"C\");\n",
        "      case 4: printf(\"D\");\n",
        "      case 5: printf(\"E\"); break;\n",
        "      default: printf(\"!\");\n",
        "   }\n",
        "}"
      ]
    },
    {
      "cell_type": "code",
      "execution_count": null,
      "metadata": {
        "colab": {
          "base_uri": "https://localhost:8080/"
        },
        "id": "hzjMoULM_6Cb",
        "outputId": "ca758bcd-a57b-4e3f-d779-b3df6fb11d53"
      },
      "outputs": [
        {
          "name": "stdout",
          "output_type": "stream",
          "text": [
            "CDE"
          ]
        },
        {
          "data": {
            "text/plain": []
          },
          "execution_count": 6,
          "metadata": {},
          "output_type": "execute_result"
        }
      ],
      "source": [
        "# 파일 실행(불러오기)\n",
        "%%shell\n",
        "gcc week6_3.c -o bout\n",
        "./bout"
      ]
    },
    {
      "cell_type": "markdown",
      "metadata": {
        "id": "sUkrmO3YDH_M"
      },
      "source": [
        "\n",
        "\n",
        "---\n",
        "\n"
      ]
    },
    {
      "cell_type": "markdown",
      "metadata": {
        "id": "oqy7tKxfDIz3"
      },
      "source": [
        "**프활C 실습문제07-01**\n",
        "\n",
        "국어, 수학, 영어 점수를 입력 받고\n",
        "평균이 90점 이상이면 A를,\n",
        "80점 이상이면 B를,\n",
        "70점 이상이면 C를,\n",
        "70점 미만이면 D를 출력하세요."
      ]
    },
    {
      "cell_type": "code",
      "execution_count": null,
      "metadata": {
        "colab": {
          "base_uri": "https://localhost:8080/"
        },
        "id": "HmtMKUDuDJYE",
        "outputId": "8f5004a1-a68b-4fd7-df63-25a78f382d49"
      },
      "outputs": [
        {
          "name": "stdout",
          "output_type": "stream",
          "text": [
            "Writing week7_ex1.c\n"
          ]
        }
      ],
      "source": [
        "# 파일 작성\n",
        "%%writefile week7_ex1.c\n",
        "\n",
        "#include<stdio.h>\n",
        "\n",
        "int main(){\n",
        "  int k,m,e;\n",
        "  scanf(\"%d %d %d\",&k,&m,&e);\n",
        "\n",
        "  if (((k+m+e)/3) >= 90)\n",
        "    printf(\"A\");\n",
        "  else if (((k+m+e)/3) >= 80)\n",
        "    printf(\"B\");\n",
        "  else if (((k+m+e)/3) >= 70)\n",
        "    printf(\"C\");\n",
        "  else\n",
        "    printf(\"D\");\n",
        "\n",
        "  return 0;\n",
        "}"
      ]
    },
    {
      "cell_type": "code",
      "execution_count": null,
      "metadata": {
        "colab": {
          "base_uri": "https://localhost:8080/"
        },
        "id": "hYGLPyfMwtTF",
        "outputId": "926a3013-32a5-4008-ec50-2c270a12cf37"
      },
      "outputs": [
        {
          "name": "stdout",
          "output_type": "stream",
          "text": [
            "85 95 92\n",
            "A"
          ]
        },
        {
          "data": {
            "text/plain": []
          },
          "execution_count": 2,
          "metadata": {},
          "output_type": "execute_result"
        }
      ],
      "source": [
        "# 파일 실행(불러오기)\n",
        "%%shell\n",
        "gcc week7_ex1.c -o bout\n",
        "./bout"
      ]
    },
    {
      "cell_type": "markdown",
      "metadata": {
        "id": "JS7oDA5txn_U"
      },
      "source": [
        "**프활C 실습문제07-02**\n",
        "\n",
        "양의 정수 n을 입력 받고 1부터 n까지의 합을 출력하세요."
      ]
    },
    {
      "cell_type": "code",
      "execution_count": null,
      "metadata": {
        "colab": {
          "base_uri": "https://localhost:8080/"
        },
        "id": "qa4OGfjgw88R",
        "outputId": "bb3a4225-6a0e-4bf9-a587-25791203a928"
      },
      "outputs": [
        {
          "name": "stdout",
          "output_type": "stream",
          "text": [
            "Writing week7_ex2.c\n"
          ]
        }
      ],
      "source": [
        "# 파일 작성\n",
        "%%writefile week7_ex2.c\n",
        "\n",
        "#include<stdio.h>\n",
        "\n",
        "int main(){\n",
        "  int n;\n",
        "  scanf(\"%d\",&n);\n",
        "\n",
        "  int sum = 0;\n",
        "  int i = 0;\n",
        "  while (i <= n){\n",
        "    sum += i;\n",
        "    i++;\n",
        "  }\n",
        "\n",
        "  printf(\"%d\",sum);\n",
        "\n",
        "  return 0;\n",
        "}"
      ]
    },
    {
      "cell_type": "code",
      "execution_count": null,
      "metadata": {
        "colab": {
          "base_uri": "https://localhost:8080/"
        },
        "id": "RGxFHsJzykH1",
        "outputId": "6f7568e0-02af-42fb-837d-4721658235a9"
      },
      "outputs": [
        {
          "name": "stdout",
          "output_type": "stream",
          "text": [
            "3\n",
            "6"
          ]
        },
        {
          "data": {
            "text/plain": []
          },
          "execution_count": 4,
          "metadata": {},
          "output_type": "execute_result"
        }
      ],
      "source": [
        "# 파일 실행(불러오기)\n",
        "%%shell\n",
        "gcc week7_ex2.c -o bout\n",
        "./bout"
      ]
    },
    {
      "cell_type": "markdown",
      "metadata": {
        "id": "JXNrkGqny_QI"
      },
      "source": [
        "**프활C 실습문제07-03**\n",
        "\n",
        "양의 정수 n을 입력 받고 합이 n이 같거나 넘을 때까지 주사위를 던지세요(입력 받으세요). 이후 주사위를 던진 횟수를 출력하세요."
      ]
    },
    {
      "cell_type": "code",
      "execution_count": null,
      "metadata": {
        "colab": {
          "base_uri": "https://localhost:8080/"
        },
        "id": "xjfXPG6ZyqNQ",
        "outputId": "037c2e4d-8861-442b-d17f-c5c7c64ae11d"
      },
      "outputs": [
        {
          "name": "stdout",
          "output_type": "stream",
          "text": [
            "Writing week7_ex3.c\n"
          ]
        }
      ],
      "source": [
        "# 파일 작성\n",
        "%%writefile week7_ex3.c\n",
        "\n",
        "#include<stdio.h>\n",
        "\n",
        "int main(){\n",
        "  int n;\n",
        "  scanf(\"%d\",&n);\n",
        "\n",
        "  int sum = 0;\n",
        "  int i = 0;\n",
        "  while (sum < n){\n",
        "    int dice;\n",
        "    scanf(\"%d\",&dice);\n",
        "    sum += dice;\n",
        "    i++;\n",
        "  }\n",
        "\n",
        "  printf(\"%d\",i);\n",
        "  return 0;\n",
        "}"
      ]
    },
    {
      "cell_type": "code",
      "execution_count": null,
      "metadata": {
        "colab": {
          "base_uri": "https://localhost:8080/"
        },
        "id": "1GIEwEw9098l",
        "outputId": "fd29c3c0-53c1-4e45-a906-2104671d329b"
      },
      "outputs": [
        {
          "name": "stdout",
          "output_type": "stream",
          "text": [
            "4\n",
            "2\n",
            "3\n",
            "2"
          ]
        },
        {
          "data": {
            "text/plain": []
          },
          "execution_count": 6,
          "metadata": {},
          "output_type": "execute_result"
        }
      ],
      "source": [
        "# 파일 실행(불러오기)\n",
        "%%shell\n",
        "gcc week7_ex3.c -o bout\n",
        "./bout"
      ]
    },
    {
      "cell_type": "markdown",
      "metadata": {
        "id": "5HorbGfB09bN"
      },
      "source": [
        "**프활C 실습퀴즈07-01**\n",
        "\n",
        "친구 n명과 함께 피시방을 갔습니다.  \n",
        "친구 0명과 같이 갔다면 Lost Ark를,  \n",
        "친구 1명과 같이 갔다면 FIFA를,  \n",
        "친구 2~3명과 같이 갔다면 Battle Ground를,  \n",
        "친구 4명과 같이 갔다면 League of Legend를,  \n",
        "친구 5명과 같이 갔다면 OverWatch2를 합니다.  \n",
        "\n",
        "친구 n명을 입력 받고, 할 게임을 출력하세요.  \n",
        "(친구는 최대 5명입니다.)"
      ]
    },
    {
      "cell_type": "code",
      "execution_count": null,
      "metadata": {
        "colab": {
          "base_uri": "https://localhost:8080/"
        },
        "id": "Pov7yShYQGjW",
        "outputId": "1f0a64ae-7fa3-4f1a-cb5a-7e4ea4cb863a"
      },
      "outputs": [
        {
          "name": "stdout",
          "output_type": "stream",
          "text": [
            "Writing week7_q1.c\n"
          ]
        }
      ],
      "source": [
        "# 파일 작성\n",
        "%%writefile week7_q1.c\n",
        "\n",
        "#include<stdio.h>\n",
        "\n",
        "int main(){\n",
        "  int n;\n",
        "  scanf(\"%d\",&n);\n",
        "\n",
        "  if (n == 0)\n",
        "    printf(\"Lost Ark\");\n",
        "  else if (n == 1)\n",
        "    printf(\"FIFA\");\n",
        "  else if ((n == 2) || (n == 3))\n",
        "    printf(\"Battle Ground\");\n",
        "  else if (n == 4)\n",
        "    printf(\"League of Legend\");\n",
        "  else\n",
        "    printf(\"OverWatch2\");\n",
        "\n",
        "  return 0;\n",
        "}"
      ]
    },
    {
      "cell_type": "code",
      "execution_count": null,
      "metadata": {
        "colab": {
          "base_uri": "https://localhost:8080/"
        },
        "id": "OC5P0A01RAPh",
        "outputId": "41823342-8246-4fb7-9257-f4cd981bf68a"
      },
      "outputs": [
        {
          "name": "stdout",
          "output_type": "stream",
          "text": [
            "3\n",
            "Battle Ground"
          ]
        },
        {
          "data": {
            "text/plain": []
          },
          "execution_count": 10,
          "metadata": {},
          "output_type": "execute_result"
        }
      ],
      "source": [
        "# 파일 실행(불러오기)\n",
        "%%shell\n",
        "gcc week7_q1.c -o bout\n",
        "./bout"
      ]
    },
    {
      "cell_type": "markdown",
      "metadata": {
        "id": "QR5oRFgIRQLm"
      },
      "source": [
        "**프활C 실습퀴즈07-02**\n",
        "\n",
        "양의 정수 n과 m을 입력 받고,  \n",
        "1000보다 크면서 n과 m의 공배수인 숫자 중 가장 작은 수를 출력하세요."
      ]
    },
    {
      "cell_type": "code",
      "execution_count": null,
      "metadata": {
        "colab": {
          "base_uri": "https://localhost:8080/"
        },
        "id": "OGudlKTaRYBd",
        "outputId": "3c0760cf-5908-48c0-9985-c866ac8f1c0c"
      },
      "outputs": [
        {
          "name": "stdout",
          "output_type": "stream",
          "text": [
            "Overwriting week7_q2.c\n"
          ]
        }
      ],
      "source": [
        "# 파일 작성\n",
        "%%writefile week7_q2.c\n",
        "\n",
        "#include<stdio.h>\n",
        "\n",
        "int main(){\n",
        "  int n,m;\n",
        "  scanf(\"%d %d\",&n,&m);\n",
        "\n",
        "  int g = 1001;\n",
        "\n",
        "  while (1){\n",
        "    if (((g % n) == 0) && ((g % m) == 0)){\n",
        "      printf(\"%d\",g);\n",
        "      break;\n",
        "    }\n",
        "    else\n",
        "      g++;\n",
        "  }\n",
        "\n",
        "  return 0;\n",
        "}"
      ]
    },
    {
      "cell_type": "code",
      "execution_count": null,
      "metadata": {
        "colab": {
          "base_uri": "https://localhost:8080/"
        },
        "id": "n4SrzsfCS0i1",
        "outputId": "4d4a2704-fa0f-42f2-b8b4-b5e2714fcf85"
      },
      "outputs": [
        {
          "name": "stdout",
          "output_type": "stream",
          "text": [
            "37 96\n",
            "3552"
          ]
        },
        {
          "data": {
            "text/plain": []
          },
          "execution_count": 49,
          "metadata": {},
          "output_type": "execute_result"
        }
      ],
      "source": [
        "# 파일 실행(불러오기)\n",
        "%%shell\n",
        "gcc week7_q2.c -o bout\n",
        "./bout"
      ]
    },
    {
      "cell_type": "markdown",
      "metadata": {
        "id": "wI-v01dlXwpf"
      },
      "source": [
        "**☆★ 프활C 실습퀴즈07-03 ★☆**\n",
        "\n",
        "양의 정수 n을 입력 받고 n을 거꾸로 출력하세요."
      ]
    },
    {
      "cell_type": "code",
      "execution_count": null,
      "metadata": {
        "colab": {
          "base_uri": "https://localhost:8080/"
        },
        "id": "6j0cionDX8VG",
        "outputId": "8b7d46d8-0d4f-41a1-a75b-6423ee15826f"
      },
      "outputs": [
        {
          "name": "stdout",
          "output_type": "stream",
          "text": [
            "Overwriting week7_q3.c\n"
          ]
        }
      ],
      "source": [
        "# 파일 작성\n",
        "%%writefile week7_q3.c\n",
        "\n",
        "#include<stdio.h>\n",
        "\n",
        "int main(){\n",
        "  int n;\n",
        "  scanf(\"%d\",&n);\n",
        "\n",
        "  while (n){\n",
        "    printf(\"%d\",n%10);\n",
        "    n = n/10;\n",
        "  }\n",
        "\n",
        "\n",
        "  return 0;\n",
        "}"
      ]
    },
    {
      "cell_type": "code",
      "execution_count": null,
      "metadata": {
        "colab": {
          "base_uri": "https://localhost:8080/"
        },
        "id": "1Zv5zJggcQxb",
        "outputId": "9a3c3b81-2de0-4c3b-8565-ac175324a6a5"
      },
      "outputs": [
        {
          "name": "stdout",
          "output_type": "stream",
          "text": [
            "5324\n",
            "4235"
          ]
        },
        {
          "data": {
            "text/plain": []
          },
          "execution_count": 60,
          "metadata": {},
          "output_type": "execute_result"
        }
      ],
      "source": [
        "# 파일 실행(불러오기)\n",
        "%%shell\n",
        "gcc week7_q3.c -o bout\n",
        "./bout"
      ]
    },
    {
      "cell_type": "markdown",
      "metadata": {
        "id": "lPGLYPPnZk5N"
      },
      "source": [
        "# **2차 과제**"
      ]
    },
    {
      "cell_type": "markdown",
      "metadata": {
        "id": "O2F92C0xZtu2"
      },
      "source": [
        "**☆★1.☆★** 대문자 알파벳 c1, c2를 입력 받고 c1부터 c2까지 알파벳 순서대로 출력할때, 모음을 제외하고 출력하세요.  \n",
        "(단, c1이 c2보다 알파벳 순서 앞에 있고, 모음은 A, E, I, O, U입니다.)"
      ]
    },
    {
      "cell_type": "code",
      "execution_count": null,
      "metadata": {
        "colab": {
          "base_uri": "https://localhost:8080/"
        },
        "id": "WQLTf7dwZ6RA",
        "outputId": "992b54e6-2ac7-437d-ade7-51395a515ae2"
      },
      "outputs": [
        {
          "name": "stdout",
          "output_type": "stream",
          "text": [
            "Overwriting hw2_1.c\n"
          ]
        }
      ],
      "source": [
        "# 파일 작성\n",
        "%%writefile hw2_1.c\n",
        "\n",
        "#include<stdio.h>\n",
        "\n",
        "int main(){\n",
        "\n",
        "  char c1,c2;\n",
        "  scanf(\"%c %c\",&c1,&c2);\n",
        "\n",
        "  char c = c1+1;\n",
        "\n",
        "  if ((c1 != 'A') && (c1 != 'E') && (c1 != 'I') && (c1 != 'O') && (c1 != 'U'))\n",
        "    printf(\"%c \",c1);\n",
        "\n",
        "  while (c < c2)\n",
        "  {\n",
        "    if ((c != 'A') && (c != 'E') && (c != 'I') && (c != 'O') && (c != 'U'))\n",
        "    {\n",
        "      printf(\"%c\",c);\n",
        "      if (c != c2 - 1)\n",
        "        printf(\" \");\n",
        "    }\n",
        "\n",
        "    c++;\n",
        "  }\n",
        "\n",
        "  if ((c2 != 'A') && (c2 != 'E') && (c2 != 'I') && (c2 != 'O') && (c2 != 'U'))\n",
        "    printf(\" %c\",c2);\n",
        "\n",
        "  return 0;\n",
        "}"
      ]
    },
    {
      "cell_type": "code",
      "execution_count": null,
      "metadata": {
        "colab": {
          "base_uri": "https://localhost:8080/"
        },
        "id": "qy3vUntCZ6l5",
        "outputId": "63f04737-868d-408a-8bab-ebee64ad4154"
      },
      "outputs": [
        {
          "name": "stdout",
          "output_type": "stream",
          "text": [
            "B Z\n",
            "B C D F G H J K L M N P Q R S T V W X Y Z"
          ]
        },
        {
          "data": {
            "text/plain": []
          },
          "execution_count": 6,
          "metadata": {},
          "output_type": "execute_result"
        }
      ],
      "source": [
        "# 파일 실행(불러오기)\n",
        "%%shell\n",
        "gcc hw2_1.c -o bout\n",
        "./bout"
      ]
    },
    {
      "cell_type": "markdown",
      "metadata": {
        "id": "CgZxLDi-aLcN"
      },
      "source": [
        "**3.** 경기는 5판 3선승제로 이루어져 있습니다.  \n",
        "T1팀과 JGD간의 경기로, T1팀이 이겼을 경우 1을 JGD팀이 이겼을 경우 2를 입력 받습니다.  \n",
        "T1팀이 먼저 3승을 했을 경우 T1 Win!을, JGD팀이 먼저 3승을 했을 경우 JGD Win!을 출력하세요.  \n",
        "(단, 먼저 3승팀이 나왔을 경우 더이상 입력을 받지 않습니다.)"
      ]
    },
    {
      "cell_type": "code",
      "execution_count": null,
      "metadata": {
        "colab": {
          "base_uri": "https://localhost:8080/"
        },
        "id": "b6L41WtpaZVi",
        "outputId": "284cd117-1d79-4cab-9907-20b85b87909b"
      },
      "outputs": [
        {
          "name": "stdout",
          "output_type": "stream",
          "text": [
            "Overwriting hw2_3.c\n"
          ]
        }
      ],
      "source": [
        "# 파일 작성\n",
        "%%writefile hw2_3.c\n",
        "\n",
        "#include<stdio.h>\n",
        "\n",
        "int main(){\n",
        "\n",
        "  int i = 1;\n",
        "  int T = 0, J = 0;\n",
        "  int winner;\n",
        "\n",
        "  while (i <= 5)\n",
        "  {\n",
        "    scanf(\"%d\",&winner);\n",
        "\n",
        "    if (winner == 1)\n",
        "      T++;\n",
        "    else\n",
        "      J++;\n",
        "\n",
        "    if (T == 3)\n",
        "      printf(\"T1 Win!\");\n",
        "    if (J == 3)\n",
        "      printf(\"JGD Win!\");\n",
        "    if ((T == 3) || (J == 3))\n",
        "      break;\n",
        "  }\n",
        "\n",
        "  return 0;\n",
        "}"
      ]
    },
    {
      "cell_type": "code",
      "execution_count": null,
      "metadata": {
        "colab": {
          "base_uri": "https://localhost:8080/"
        },
        "id": "Jw2AfYHnaZwV",
        "outputId": "b485e34c-6805-4313-fbfe-11b4a7068f73"
      },
      "outputs": [
        {
          "name": "stdout",
          "output_type": "stream",
          "text": [
            "1\n",
            "2\n",
            "1\n",
            "2\n",
            "2\n",
            "JGD Win!"
          ]
        },
        {
          "data": {
            "text/plain": []
          },
          "execution_count": 61,
          "metadata": {},
          "output_type": "execute_result"
        }
      ],
      "source": [
        "# 파일 실행(불러오기)\n",
        "%%shell\n",
        "gcc hw2_3.c -o bout\n",
        "./bout"
      ]
    },
    {
      "cell_type": "markdown",
      "metadata": {
        "id": "xCf3vnFiLhH8"
      },
      "source": [
        "# **7주차.** 반복문"
      ]
    },
    {
      "cell_type": "markdown",
      "metadata": {
        "id": "2JDHI6ccuSFB"
      },
      "source": [
        "**1. do ~ while**"
      ]
    },
    {
      "cell_type": "markdown",
      "metadata": {
        "id": "MCpETuRmuUxN"
      },
      "source": [
        "- do ~ while 문\n",
        "  - 반복할 문장을 실행한 후 조건식 검사\n",
        "  - 반복문 내에 있는 문장을 최소한 한 번 실행하고자 할 때 유용\n",
        "  - 주의) 마지막에 세미콜론(;)을 반드시 써야 함\n",
        "  - 구문\n",
        "    ```\n",
        "    do {\n",
        "        반복할 문장;\n",
        "    } while ( 조건식 );\n",
        "    ```"
      ]
    },
    {
      "cell_type": "markdown",
      "metadata": {
        "id": "6l526cKpuvnz"
      },
      "source": [
        "**예제**\n",
        "\n",
        "do ~ while 문을 이용하여 1부터 5까지의 합 구하기"
      ]
    },
    {
      "cell_type": "code",
      "execution_count": null,
      "metadata": {
        "colab": {
          "base_uri": "https://localhost:8080/"
        },
        "id": "7I8GLMNRuvNF",
        "outputId": "45edee5b-9223-4e1a-ff4b-b943ed0a5ada"
      },
      "outputs": [
        {
          "name": "stdout",
          "output_type": "stream",
          "text": [
            "Writing week7_1-1.c\n"
          ]
        }
      ],
      "source": [
        "# 파일 작성\n",
        "%%writefile week7_1-1.c\n",
        "\n",
        "#include<stdio.h>\n",
        "\n",
        "int main(){\n",
        "\n",
        "  int i = 1, sum = 0;\n",
        "  do{\n",
        "    sum += i;\n",
        "    i++;\n",
        "  } while(i <= 5);\n",
        "\n",
        "  printf(\"%d\",sum);\n",
        "\n",
        "  return 0;\n",
        "}"
      ]
    },
    {
      "cell_type": "code",
      "execution_count": null,
      "metadata": {
        "colab": {
          "base_uri": "https://localhost:8080/"
        },
        "id": "mgvD_E8VyM32",
        "outputId": "cd59a13d-5db9-49e6-d954-89e6c95b6b0c"
      },
      "outputs": [
        {
          "name": "stdout",
          "output_type": "stream",
          "text": [
            "15"
          ]
        },
        {
          "data": {
            "text/plain": []
          },
          "execution_count": 24,
          "metadata": {},
          "output_type": "execute_result"
        }
      ],
      "source": [
        "# 파일 실행(불러오기)\n",
        "%%shell\n",
        "gcc week7_1-1.c -o bout\n",
        "./bout"
      ]
    },
    {
      "cell_type": "markdown",
      "metadata": {
        "id": "WhQVclXdrjdW"
      },
      "source": [
        "**예제**\n",
        "\n",
        "정수를 입력 받아, do~while 문을 이용하여 그 정수에 해당하는 구구단 출력하기"
      ]
    },
    {
      "cell_type": "code",
      "execution_count": null,
      "metadata": {
        "colab": {
          "base_uri": "https://localhost:8080/"
        },
        "id": "eV_fs-drrp5O",
        "outputId": "ae2c3d66-cd89-4a37-ef2b-2cb5080ed903"
      },
      "outputs": [
        {
          "name": "stdout",
          "output_type": "stream",
          "text": [
            "Overwriting week7_1-2.c\n"
          ]
        }
      ],
      "source": [
        "# 파일 작성\n",
        "%%writefile week7_1-2.c\n",
        "\n",
        "#include<stdio.h>\n",
        "\n",
        "int main(){\n",
        "\n",
        "  int n, i=1;\n",
        "  scanf(\"%d\",&n);\n",
        "\n",
        "  do {\n",
        "    printf(\"%d * %d = %d\\n\", n,i,n*i);\n",
        "    i++;\n",
        "  } while(i < 10);\n",
        "\n",
        "  return 0;\n",
        "}"
      ]
    },
    {
      "cell_type": "code",
      "execution_count": null,
      "metadata": {
        "colab": {
          "base_uri": "https://localhost:8080/"
        },
        "id": "CGxLnlVtrsW1",
        "outputId": "0a1ad0f7-4782-4221-816d-d3ca8051f40f"
      },
      "outputs": [
        {
          "name": "stdout",
          "output_type": "stream",
          "text": [
            "5\n",
            "5 * 1 = 5\n",
            "5 * 2 = 10\n",
            "5 * 3 = 15\n",
            "5 * 4 = 20\n",
            "5 * 5 = 25\n",
            "5 * 6 = 30\n",
            "5 * 7 = 35\n",
            "5 * 8 = 40\n",
            "5 * 9 = 45\n"
          ]
        },
        {
          "data": {
            "text/plain": []
          },
          "execution_count": 28,
          "metadata": {},
          "output_type": "execute_result"
        }
      ],
      "source": [
        "# 파일 실행(불러오기)\n",
        "%%shell\n",
        "gcc week7_1-2.c -o bout\n",
        "./bout"
      ]
    },
    {
      "cell_type": "markdown",
      "metadata": {
        "id": "drC2doHJrvjn"
      },
      "source": [
        "**예제**\n",
        "\n",
        "do~while 문을 이용하여 영어 소문자 순서대로 출력하기"
      ]
    },
    {
      "cell_type": "code",
      "execution_count": null,
      "metadata": {
        "colab": {
          "base_uri": "https://localhost:8080/"
        },
        "id": "dqLGe_Abrz25",
        "outputId": "08dd4322-d965-4e21-b7b0-7788f7de887f"
      },
      "outputs": [
        {
          "name": "stdout",
          "output_type": "stream",
          "text": [
            "Writing week7_1-3.c\n"
          ]
        }
      ],
      "source": [
        "# 파일 작성\n",
        "%%writefile week7_1-3.c\n",
        "\n",
        "#include<stdio.h>\n",
        "\n",
        "int main(){\n",
        "\n",
        "  char c = 'a';\n",
        "  do {\n",
        "    printf(\"%c\",c);\n",
        "    c++;\n",
        "  } while(c <= 'z');\n",
        "\n",
        "  return 0;\n",
        "}"
      ]
    },
    {
      "cell_type": "code",
      "execution_count": null,
      "metadata": {
        "colab": {
          "base_uri": "https://localhost:8080/"
        },
        "id": "a0zso_HRr19x",
        "outputId": "5566d8a0-ed59-49fc-876c-a6abb3ad0be7"
      },
      "outputs": [
        {
          "name": "stdout",
          "output_type": "stream",
          "text": [
            "abcdefghijklmnopqrstuvwxyz"
          ]
        },
        {
          "data": {
            "text/plain": []
          },
          "execution_count": 30,
          "metadata": {},
          "output_type": "execute_result"
        }
      ],
      "source": [
        "# 파일 실행(불러오기)\n",
        "%%shell\n",
        "gcc week7_1-3.c -o bout\n",
        "./bout"
      ]
    },
    {
      "cell_type": "markdown",
      "metadata": {
        "id": "eScN2Gzbr7LA"
      },
      "source": [
        "**예제**\n",
        "\n",
        "1부터 시작하여 값을 1씩 증가시키면서 차례로 더한 합이 최초로 100 이상이 되는 때, 마지막에 더한 값 구하기\n",
        "\n",
        "즉, 1+2+...+n ≥ 100 인 가장 작은 n 구하기"
      ]
    },
    {
      "cell_type": "code",
      "execution_count": null,
      "metadata": {
        "colab": {
          "base_uri": "https://localhost:8080/"
        },
        "id": "Tp6Y_R3Sso-D",
        "outputId": "81836355-8cf0-4c18-a791-4f6574389e9c"
      },
      "outputs": [
        {
          "name": "stdout",
          "output_type": "stream",
          "text": [
            "Overwriting week7_1-4.c\n"
          ]
        }
      ],
      "source": [
        "# 파일 작성\n",
        "%%writefile week7_1-4.c\n",
        "\n",
        "#include<stdio.h>\n",
        "\n",
        "int main(){\n",
        "\n",
        "  int i = 1, sum = 0;\n",
        "  do {\n",
        "    sum += i;\n",
        "    i++;\n",
        "  } while(sum < 100);\n",
        "\n",
        "  printf(\"%d\",i-1);\n",
        "  return 0;\n",
        "}"
      ]
    },
    {
      "cell_type": "code",
      "execution_count": null,
      "metadata": {
        "colab": {
          "base_uri": "https://localhost:8080/"
        },
        "id": "i3DEtwouspYP",
        "outputId": "624f0f31-f6ba-40e0-fd2d-270cd3309d70"
      },
      "outputs": [
        {
          "name": "stdout",
          "output_type": "stream",
          "text": [
            "14"
          ]
        },
        {
          "data": {
            "text/plain": []
          },
          "execution_count": 34,
          "metadata": {},
          "output_type": "execute_result"
        }
      ],
      "source": [
        "# 파일 실행(불러오기)\n",
        "%%shell\n",
        "gcc week7_1-4.c -o bout\n",
        "./bout"
      ]
    },
    {
      "cell_type": "markdown",
      "metadata": {
        "id": "Qy8HgtaUsuoD"
      },
      "source": [
        "**예제**\n",
        "\n",
        "10 이상의 정수를 입력 받아, 각 자릿수의 합 출력하기"
      ]
    },
    {
      "cell_type": "code",
      "execution_count": null,
      "metadata": {
        "colab": {
          "base_uri": "https://localhost:8080/"
        },
        "id": "hnZk6It3syV2",
        "outputId": "193c74dd-2a73-4c1f-fba7-9ee5c4082578"
      },
      "outputs": [
        {
          "name": "stdout",
          "output_type": "stream",
          "text": [
            "Writing week7_1-5.c\n"
          ]
        }
      ],
      "source": [
        "# 파일 작성\n",
        "%%writefile week7_1-5.c\n",
        "\n",
        "#include<stdio.h>\n",
        "\n",
        "int main(){\n",
        "\n",
        "  int num;\n",
        "  scanf(\"%d\", &num);\n",
        "\n",
        "  int a = 0, sum = 0;\n",
        "  do {\n",
        "    a = num%10;\n",
        "    sum += a;\n",
        "    num /= 10;\n",
        "  } while(num >= 1);\n",
        "\n",
        "  printf(\"%d\",sum);\n",
        "\n",
        "  return 0;\n",
        "}"
      ]
    },
    {
      "cell_type": "code",
      "execution_count": null,
      "metadata": {
        "colab": {
          "base_uri": "https://localhost:8080/"
        },
        "id": "t4TDBBbOs1Ia",
        "outputId": "c1897322-82cc-4fc3-b08a-6fad33addfe0"
      },
      "outputs": [
        {
          "name": "stdout",
          "output_type": "stream",
          "text": [
            "6235\n",
            "16"
          ]
        },
        {
          "data": {
            "text/plain": []
          },
          "execution_count": 36,
          "metadata": {},
          "output_type": "execute_result"
        }
      ],
      "source": [
        "# 파일 실행(불러오기)\n",
        "%%shell\n",
        "gcc week7_1-5.c -o bout\n",
        "./bout"
      ]
    },
    {
      "cell_type": "markdown",
      "metadata": {
        "id": "Rr8trp9rs4O3"
      },
      "source": [
        "\n",
        "\n",
        "---\n",
        "\n"
      ]
    },
    {
      "cell_type": "markdown",
      "metadata": {
        "id": "_qWvJ7Eps6zm"
      },
      "source": [
        "**2. for**"
      ]
    },
    {
      "cell_type": "markdown",
      "metadata": {
        "id": "ksj6BKpps-on"
      },
      "source": [
        "- for 문\n",
        "  - 일반적으로 반복하는 횟수가 정해진 경우에 사용\n",
        "  - 초기식, 조건식, 증감식으로 구성되고, 세미콜론으로 구분\n",
        "    - 초기식은 처음 한 번만 수행\n",
        "    - 이후, 조건식 → 반복할 문장 → 증감식 이 반복적으로 수행됨\n",
        "  - 구문\n",
        "    ```\n",
        "    for (초기식 ; 조건식 ; 증감식) {\n",
        "        반복할 문장;\n",
        "    }\n",
        "    ```\n",
        "\n",
        "- for 문의 상세 동작 방식\n",
        "  1. 초기식을 수행한다.\n",
        "  2. 조건식을 검사한다.\n",
        "  3. 조건식의 값이 거짓이면 for 문의 실행이 종료된다.\n",
        "  4. 조건식의 값이 참이면 문장이 실행된다.\n",
        "  5. 증감을 실행하고 2번으로 돌아간다.\n",
        "\n",
        "- for문과 while문의 형식 비교\n",
        "  - for문\n",
        "    ```\n",
        "    for (초기식 ; 조건식 ; 증감식){\n",
        "        반복할 문장 ;\n",
        "    }\n",
        "    ```\n",
        "  - while문\n",
        "    ```\n",
        "    초기식;\n",
        "    while(조건식){\n",
        "        반복할 문장 ;\n",
        "        증감식 ;\n",
        "    }\n",
        "    ```\n",
        "\n",
        "- for문 안에는 문법적으로는 초기식, 조건식, 증감식에는 어떤 수식도 가능 ! (빈 식도 가능)"
      ]
    },
    {
      "cell_type": "markdown",
      "metadata": {
        "id": "sELaYuAUuU_S"
      },
      "source": [
        "**예제**\n",
        "\n",
        "for 문을 이용하여 1부터 5까지의 합 구하기"
      ]
    },
    {
      "cell_type": "code",
      "execution_count": null,
      "metadata": {
        "colab": {
          "base_uri": "https://localhost:8080/"
        },
        "id": "YHdCIGhXuao8",
        "outputId": "4716a525-9e22-4812-b6a7-3090af915b1d"
      },
      "outputs": [
        {
          "name": "stdout",
          "output_type": "stream",
          "text": [
            "Writing week7_2-1.c\n"
          ]
        }
      ],
      "source": [
        "# 파일 작성\n",
        "%%writefile week7_2-1.c\n",
        "\n",
        "#include<stdio.h>\n",
        "\n",
        "int main(){\n",
        "\n",
        "  int sum = 0;\n",
        "  for (int i = 1; i <= 5; i++){\n",
        "    sum += i;\n",
        "  }\n",
        "\n",
        "  printf(\"%d\",sum);\n",
        "  return 0;\n",
        "}"
      ]
    },
    {
      "cell_type": "code",
      "execution_count": null,
      "metadata": {
        "colab": {
          "base_uri": "https://localhost:8080/"
        },
        "id": "bUUW_l02ufGB",
        "outputId": "15c03869-79a5-433c-b240-b693aeac98df"
      },
      "outputs": [
        {
          "name": "stdout",
          "output_type": "stream",
          "text": [
            "15"
          ]
        },
        {
          "data": {
            "text/plain": []
          },
          "execution_count": 38,
          "metadata": {},
          "output_type": "execute_result"
        }
      ],
      "source": [
        "# 파일 실행(불러오기)\n",
        "%%shell\n",
        "gcc week7_2-1.c -o bout\n",
        "./bout"
      ]
    },
    {
      "cell_type": "markdown",
      "metadata": {
        "id": "ltN5ludyuwbi"
      },
      "source": [
        "**예제**\n",
        "\n",
        "변수 i를 2부터 10까지, 2씩 증가시키면서 반복"
      ]
    },
    {
      "cell_type": "code",
      "execution_count": null,
      "metadata": {
        "colab": {
          "base_uri": "https://localhost:8080/"
        },
        "id": "Yv-_iqsEu1n_",
        "outputId": "a85326f3-7e0c-4c29-b6c0-cf9ac0c2dfd8"
      },
      "outputs": [
        {
          "name": "stdout",
          "output_type": "stream",
          "text": [
            "Writing week7_2-2.c\n"
          ]
        }
      ],
      "source": [
        "# 파일 작성\n",
        "%%writefile week7_2-2.c\n",
        "\n",
        "#include<stdio.h>\n",
        "\n",
        "int main(){\n",
        "\n",
        "  int sum = 0;\n",
        "  for (int i = 2; i <= 10; i += 2){\n",
        "    sum += i;\n",
        "  }\n",
        "\n",
        "  printf(\"%d\",sum);\n",
        "\n",
        "  return 0;\n",
        "}"
      ]
    },
    {
      "cell_type": "code",
      "execution_count": null,
      "metadata": {
        "colab": {
          "base_uri": "https://localhost:8080/"
        },
        "id": "b8Y5_C7Uu2Hx",
        "outputId": "14e7c9fd-eccb-45fe-838a-6c4085340e7e"
      },
      "outputs": [
        {
          "name": "stdout",
          "output_type": "stream",
          "text": [
            "30"
          ]
        },
        {
          "data": {
            "text/plain": []
          },
          "execution_count": 40,
          "metadata": {},
          "output_type": "execute_result"
        }
      ],
      "source": [
        "# 파일 실행(불러오기)\n",
        "%%shell\n",
        "gcc week7_2-2.c -o bout\n",
        "./bout"
      ]
    },
    {
      "cell_type": "markdown",
      "metadata": {
        "id": "U2sfzP8Xu2be"
      },
      "source": [
        "**예제**\n",
        "\n",
        "변수 i를 10부터 시작하여, 1씩 감소시키면서 i가 0보다 큰 동안 반복"
      ]
    },
    {
      "cell_type": "code",
      "execution_count": null,
      "metadata": {
        "colab": {
          "base_uri": "https://localhost:8080/"
        },
        "id": "G66bctCau7nK",
        "outputId": "056a1bc9-f0f1-4b3f-9e67-18a6c16eec1c"
      },
      "outputs": [
        {
          "name": "stdout",
          "output_type": "stream",
          "text": [
            "Writing week7_2-3.c\n"
          ]
        }
      ],
      "source": [
        "# 파일 작성\n",
        "%%writefile week7_2-3.c\n",
        "\n",
        "#include<stdio.h>\n",
        "\n",
        "int main(){\n",
        "\n",
        "  int sum = 0;\n",
        "  for (int i = 10; i > 0; i--){\n",
        "    sum += i;\n",
        "  }\n",
        "\n",
        "  printf(\"%d\",sum);\n",
        "\n",
        "  return 0;\n",
        "}"
      ]
    },
    {
      "cell_type": "code",
      "execution_count": null,
      "metadata": {
        "colab": {
          "base_uri": "https://localhost:8080/"
        },
        "id": "kZ2KjHL3u762",
        "outputId": "1b15c2af-97fe-4ff6-afbf-7aa1c66ddad5"
      },
      "outputs": [
        {
          "name": "stdout",
          "output_type": "stream",
          "text": [
            "55"
          ]
        },
        {
          "data": {
            "text/plain": []
          },
          "execution_count": 42,
          "metadata": {},
          "output_type": "execute_result"
        }
      ],
      "source": [
        "# 파일 실행(불러오기)\n",
        "%%shell\n",
        "gcc week7_2-3.c -o bout\n",
        "./bout"
      ]
    },
    {
      "cell_type": "markdown",
      "metadata": {
        "id": "0jupH49ou8T5"
      },
      "source": [
        "**예제**\n",
        "\n",
        "변수 i의 초기값은 0이고, i값을 i*i+2로 바꾸면서, i가 50보다 작은 동안 반복"
      ]
    },
    {
      "cell_type": "code",
      "execution_count": null,
      "metadata": {
        "colab": {
          "base_uri": "https://localhost:8080/"
        },
        "id": "wCzF0l4zvC7y",
        "outputId": "5375d62e-3228-4338-cf9c-bcba26bd03f9"
      },
      "outputs": [
        {
          "name": "stdout",
          "output_type": "stream",
          "text": [
            "Writing week7_2-4.c\n"
          ]
        }
      ],
      "source": [
        "# 파일 작성\n",
        "%%writefile week7_2-4.c\n",
        "\n",
        "#include<stdio.h>\n",
        "\n",
        "int main(){\n",
        "\n",
        "  int sum = 0;\n",
        "  for (int i = 0; i < 50; i = i*i+2){\n",
        "    sum += i;\n",
        "  }\n",
        "\n",
        "  printf(\"%d\",sum);\n",
        "\n",
        "  return 0;\n",
        "}"
      ]
    },
    {
      "cell_type": "code",
      "execution_count": null,
      "metadata": {
        "colab": {
          "base_uri": "https://localhost:8080/"
        },
        "id": "7V4eIU9wvDPT",
        "outputId": "212c91cd-0152-481a-be84-e5aab07b76b9"
      },
      "outputs": [
        {
          "name": "stdout",
          "output_type": "stream",
          "text": [
            "46"
          ]
        },
        {
          "data": {
            "text/plain": []
          },
          "execution_count": 44,
          "metadata": {},
          "output_type": "execute_result"
        }
      ],
      "source": [
        "# 파일 실행(불러오기)\n",
        "%%shell\n",
        "gcc week7_2-4.c -o bout\n",
        "./bout"
      ]
    },
    {
      "cell_type": "markdown",
      "metadata": {
        "id": "UI3Nnas8vDez"
      },
      "source": [
        "**예제**\n",
        "\n",
        "정수 n을 입력 받아, n! = 1\\*2\\*...\\*n 계산하기"
      ]
    },
    {
      "cell_type": "code",
      "execution_count": null,
      "metadata": {
        "colab": {
          "base_uri": "https://localhost:8080/"
        },
        "id": "6rqXdMobwz9r",
        "outputId": "bb0f2eed-b9c9-4ae7-9871-fe436ceda51c"
      },
      "outputs": [
        {
          "name": "stdout",
          "output_type": "stream",
          "text": [
            "Writing week7_2-5.c\n"
          ]
        }
      ],
      "source": [
        "# 파일 작성\n",
        "%%writefile week7_2-5.c\n",
        "\n",
        "#include<stdio.h>\n",
        "\n",
        "int main(){\n",
        "\n",
        "  int n, fac=1;\n",
        "  scanf(\"%d\", &n);\n",
        "\n",
        "  for (int i = 1; i <= n; i++){\n",
        "    fac *= i;\n",
        "  }\n",
        "\n",
        "  printf(\"%d\",fac);\n",
        "\n",
        "  return 0;\n",
        "}"
      ]
    },
    {
      "cell_type": "code",
      "execution_count": null,
      "metadata": {
        "colab": {
          "base_uri": "https://localhost:8080/"
        },
        "id": "karvQKY_w2xg",
        "outputId": "c6bb8ff3-3c2a-4e22-bb61-b98dd1d10738"
      },
      "outputs": [
        {
          "name": "stdout",
          "output_type": "stream",
          "text": [
            "5\n",
            "120"
          ]
        },
        {
          "data": {
            "text/plain": []
          },
          "execution_count": 46,
          "metadata": {},
          "output_type": "execute_result"
        }
      ],
      "source": [
        "# 파일 실행(불러오기)\n",
        "%%shell\n",
        "gcc week7_2-5.c -o bout\n",
        "./bout"
      ]
    },
    {
      "cell_type": "markdown",
      "metadata": {
        "id": "xr_vwLECw6ek"
      },
      "source": [
        "**예제**\n",
        "\n",
        "문자와 정수를 입력 받아, 문자를 정수 개수만큼 출력하기"
      ]
    },
    {
      "cell_type": "code",
      "execution_count": null,
      "metadata": {
        "colab": {
          "base_uri": "https://localhost:8080/"
        },
        "id": "ru_EDJC9w-I9",
        "outputId": "39ea7932-8739-4459-9d70-0fd7bc2d3233"
      },
      "outputs": [
        {
          "name": "stdout",
          "output_type": "stream",
          "text": [
            "Writing week7_2-6.c\n"
          ]
        }
      ],
      "source": [
        "# 파일 작성\n",
        "%%writefile week7_2-6.c\n",
        "\n",
        "#include<stdio.h>\n",
        "\n",
        "int main(){\n",
        "\n",
        "  char c;\n",
        "  int n;\n",
        "  scanf(\"%c %d\",&c,&n);\n",
        "\n",
        "  for (int i = 0; i < n; i++){\n",
        "    printf(\" %c\",c);\n",
        "  }\n",
        "\n",
        "\n",
        "  return 0;\n",
        "}"
      ]
    },
    {
      "cell_type": "code",
      "execution_count": null,
      "metadata": {
        "colab": {
          "base_uri": "https://localhost:8080/"
        },
        "id": "isDk2RMow-dh",
        "outputId": "5158c6bf-672c-4084-d798-b4fb34782bab"
      },
      "outputs": [
        {
          "name": "stdout",
          "output_type": "stream",
          "text": [
            "a 6\n",
            " a a a a a a"
          ]
        },
        {
          "data": {
            "text/plain": []
          },
          "execution_count": 49,
          "metadata": {},
          "output_type": "execute_result"
        }
      ],
      "source": [
        "# 파일 실행(불러오기)\n",
        "%%shell\n",
        "gcc week7_2-6.c -o bout\n",
        "./bout"
      ]
    },
    {
      "cell_type": "markdown",
      "metadata": {
        "id": "P-ZgWbqfxCeB"
      },
      "source": [
        "**예제**\n",
        "\n",
        "1부터 10까지의 홀수의 합, 짝수의 합 각각 출력하기"
      ]
    },
    {
      "cell_type": "code",
      "execution_count": null,
      "metadata": {
        "colab": {
          "base_uri": "https://localhost:8080/"
        },
        "id": "PD5Sy6RyxHdg",
        "outputId": "5c3826d1-7e3d-4393-bbf6-679c9c413131"
      },
      "outputs": [
        {
          "name": "stdout",
          "output_type": "stream",
          "text": [
            "Writing week7_2-7.c\n"
          ]
        }
      ],
      "source": [
        "# 파일 작성\n",
        "%%writefile week7_2-7.c\n",
        "\n",
        "#include<stdio.h>\n",
        "\n",
        "int main(){\n",
        "\n",
        "  int sumo = 0, sume = 0;\n",
        "\n",
        "  for(int i = 1; i <= 10; i++){\n",
        "    if (i%2 == 1) sumo += i;\n",
        "    else sume += i;\n",
        "  }\n",
        "\n",
        "  printf(\"%d\\n\",sumo);\n",
        "  printf(\"%d\",sume);\n",
        "\n",
        "  return 0;\n",
        "}"
      ]
    },
    {
      "cell_type": "code",
      "execution_count": null,
      "metadata": {
        "colab": {
          "base_uri": "https://localhost:8080/"
        },
        "id": "SXcnnyItxITX",
        "outputId": "7a1d8bef-635e-411c-fce2-d9c10fe8c1d6"
      },
      "outputs": [
        {
          "name": "stdout",
          "output_type": "stream",
          "text": [
            "25\n",
            "30"
          ]
        },
        {
          "data": {
            "text/plain": []
          },
          "execution_count": 51,
          "metadata": {},
          "output_type": "execute_result"
        }
      ],
      "source": [
        "# 파일 실행(불러오기)\n",
        "%%shell\n",
        "gcc week7_2-7.c -o bout\n",
        "./bout"
      ]
    },
    {
      "cell_type": "markdown",
      "metadata": {
        "id": "zpKObcGzxOYB"
      },
      "source": [
        "**☆★ 예제 ★☆**\n",
        "\n",
        "0~6 사이의 정수를 입력 받아, 그 정수에 해당하는 요일 (0이면 일요일, 1이면 월요일, ... , 6이면 토요일)에 1일이 시작하는 달력 출력하기\n",
        "\n",
        "※ Hint!  \n",
        "  1) 1일 앞의 빈 칸은 따로 출력  \n",
        "  2) 각 주의 줄 바꿈  \n",
        "    - 매주 토요일에 해당하는 날짜 출력 후 개행 문자 출력  \n",
        "    - 토요일인지는 어떻게 판단? 몇 가지 예를 통해 규칙 찾기"
      ]
    },
    {
      "cell_type": "code",
      "execution_count": null,
      "metadata": {
        "colab": {
          "base_uri": "https://localhost:8080/"
        },
        "id": "kDbu9JwvxvUN",
        "outputId": "666dbcf0-9f98-4f36-8115-9816a2c1cf27"
      },
      "outputs": [
        {
          "name": "stdout",
          "output_type": "stream",
          "text": [
            "Writing week7_2-8.c\n"
          ]
        }
      ],
      "source": [
        "# 파일 작성\n",
        "%%writefile week7_2-8.c\n",
        "\n",
        "#include<stdio.h>\n",
        "\n",
        "int main(){\n",
        "\n",
        "  int day;\n",
        "  scanf(\"%d\", &day);\n",
        "\n",
        "  printf(\"       %d월\\n\", day);\n",
        "\n",
        "  // 1일 앞에 빈 칸 출력\n",
        "  for (int i = 0; i < day; ++i){\n",
        "    printf(\"   \");\n",
        "  }\n",
        "\n",
        "  for (int i = 1; i <= 31; ++i){\n",
        "    printf(\"%3d\", i);\n",
        "    if ((day + i) % 7 == 0)\n",
        "      printf(\"\\n\");\n",
        "  }\n",
        "\n",
        "  return 0;\n",
        "}"
      ]
    },
    {
      "cell_type": "code",
      "execution_count": null,
      "metadata": {
        "colab": {
          "base_uri": "https://localhost:8080/"
        },
        "id": "5-BdDtA_xvxZ",
        "outputId": "fb19eb66-e76b-4104-a6a7-a7f2a0e8edc0"
      },
      "outputs": [
        {
          "name": "stdout",
          "output_type": "stream",
          "text": [
            "1\n",
            "       1월\n",
            "     1  2  3  4  5  6\n",
            "  7  8  9 10 11 12 13\n",
            " 14 15 16 17 18 19 20\n",
            " 21 22 23 24 25 26 27\n",
            " 28 29 30 31"
          ]
        },
        {
          "data": {
            "text/plain": []
          },
          "execution_count": 53,
          "metadata": {},
          "output_type": "execute_result"
        }
      ],
      "source": [
        "# 파일 실행(불러오기)\n",
        "%%shell\n",
        "gcc week7_2-8.c -o bout\n",
        "./bout"
      ]
    },
    {
      "cell_type": "markdown",
      "metadata": {
        "id": "6i-L5-WRxYpd"
      },
      "source": [
        "\n",
        "\n",
        "---\n",
        "\n"
      ]
    },
    {
      "cell_type": "markdown",
      "metadata": {
        "id": "eQWsdJk_x25X"
      },
      "source": [
        "**3. 중첩 반복**"
      ]
    },
    {
      "cell_type": "markdown",
      "metadata": {
        "id": "edkoCEAQx5H6"
      },
      "source": [
        "- 중첩 반복(다중 반복) : 반복문 안에 또 다른 반복문이 오는 경우"
      ]
    },
    {
      "cell_type": "markdown",
      "metadata": {
        "id": "1u5rsX970n9r"
      },
      "source": [
        "**예제**\n",
        "\n",
        "구구단"
      ]
    },
    {
      "cell_type": "code",
      "execution_count": null,
      "metadata": {
        "colab": {
          "base_uri": "https://localhost:8080/"
        },
        "id": "W75TUGbt0ve9",
        "outputId": "732fd7bf-39a0-4b67-d9e0-a9d956be66a5"
      },
      "outputs": [
        {
          "name": "stdout",
          "output_type": "stream",
          "text": [
            "Writing week7_3-1.c\n"
          ]
        }
      ],
      "source": [
        "# 파일 작성\n",
        "%%writefile week7_3-1.c\n",
        "\n",
        "#include<stdio.h>\n",
        "\n",
        "int main(){\n",
        "\n",
        "  for (int i = 2; i < 10; i++){\n",
        "    for (int j = 1; j < 10; j++){\n",
        "      printf(\"%d x %d = %d\\n\", i,j,i*j);\n",
        "    }\n",
        "  }\n",
        "\n",
        "  return 0;\n",
        "}"
      ]
    },
    {
      "cell_type": "code",
      "execution_count": null,
      "metadata": {
        "colab": {
          "base_uri": "https://localhost:8080/"
        },
        "id": "QuPwjIeC0zZG",
        "outputId": "baf37e3e-401c-47d7-ed5b-f13f000eb976"
      },
      "outputs": [
        {
          "name": "stdout",
          "output_type": "stream",
          "text": [
            "2 x 1 = 2\n",
            "2 x 2 = 4\n",
            "2 x 3 = 6\n",
            "2 x 4 = 8\n",
            "2 x 5 = 10\n",
            "2 x 6 = 12\n",
            "2 x 7 = 14\n",
            "2 x 8 = 16\n",
            "2 x 9 = 18\n",
            "3 x 1 = 3\n",
            "3 x 2 = 6\n",
            "3 x 3 = 9\n",
            "3 x 4 = 12\n",
            "3 x 5 = 15\n",
            "3 x 6 = 18\n",
            "3 x 7 = 21\n",
            "3 x 8 = 24\n",
            "3 x 9 = 27\n",
            "4 x 1 = 4\n",
            "4 x 2 = 8\n",
            "4 x 3 = 12\n",
            "4 x 4 = 16\n",
            "4 x 5 = 20\n",
            "4 x 6 = 24\n",
            "4 x 7 = 28\n",
            "4 x 8 = 32\n",
            "4 x 9 = 36\n",
            "5 x 1 = 5\n",
            "5 x 2 = 10\n",
            "5 x 3 = 15\n",
            "5 x 4 = 20\n",
            "5 x 5 = 25\n",
            "5 x 6 = 30\n",
            "5 x 7 = 35\n",
            "5 x 8 = 40\n",
            "5 x 9 = 45\n",
            "6 x 1 = 6\n",
            "6 x 2 = 12\n",
            "6 x 3 = 18\n",
            "6 x 4 = 24\n",
            "6 x 5 = 30\n",
            "6 x 6 = 36\n",
            "6 x 7 = 42\n",
            "6 x 8 = 48\n",
            "6 x 9 = 54\n",
            "7 x 1 = 7\n",
            "7 x 2 = 14\n",
            "7 x 3 = 21\n",
            "7 x 4 = 28\n",
            "7 x 5 = 35\n",
            "7 x 6 = 42\n",
            "7 x 7 = 49\n",
            "7 x 8 = 56\n",
            "7 x 9 = 63\n",
            "8 x 1 = 8\n",
            "8 x 2 = 16\n",
            "8 x 3 = 24\n",
            "8 x 4 = 32\n",
            "8 x 5 = 40\n",
            "8 x 6 = 48\n",
            "8 x 7 = 56\n",
            "8 x 8 = 64\n",
            "8 x 9 = 72\n",
            "9 x 1 = 9\n",
            "9 x 2 = 18\n",
            "9 x 3 = 27\n",
            "9 x 4 = 36\n",
            "9 x 5 = 45\n",
            "9 x 6 = 54\n",
            "9 x 7 = 63\n",
            "9 x 8 = 72\n",
            "9 x 9 = 81\n"
          ]
        },
        {
          "data": {
            "text/plain": []
          },
          "execution_count": 55,
          "metadata": {},
          "output_type": "execute_result"
        }
      ],
      "source": [
        "# 파일 실행(불러오기)\n",
        "%%shell\n",
        "gcc week7_3-1.c -o bout\n",
        "./bout"
      ]
    },
    {
      "cell_type": "markdown",
      "metadata": {
        "id": "So10KPXa02r2"
      },
      "source": [
        "**예제**\n",
        "\n",
        "양의 정수 N을 입력 받아, 높이가 N인 삼각형 출력하기"
      ]
    },
    {
      "cell_type": "code",
      "execution_count": null,
      "metadata": {
        "colab": {
          "base_uri": "https://localhost:8080/"
        },
        "id": "eAQotUpG07B8",
        "outputId": "80210e63-b24e-481b-a2bf-5256109f4a3f"
      },
      "outputs": [
        {
          "name": "stdout",
          "output_type": "stream",
          "text": [
            "Writing week7_3-2.c\n"
          ]
        }
      ],
      "source": [
        "# 파일 작성\n",
        "%%writefile week7_3-2.c\n",
        "\n",
        "#include<stdio.h>\n",
        "\n",
        "int main(){\n",
        "\n",
        "  int N;\n",
        "  scanf(\"%d\",&N);\n",
        "\n",
        "  for(int i=1; i<=N; i++){\n",
        "    for (int j = 1; j <= i; j++){\n",
        "      printf(\"*\");\n",
        "    }\n",
        "    printf(\"\\n\");\n",
        "  }\n",
        "\n",
        "  return 0;\n",
        "}"
      ]
    },
    {
      "cell_type": "code",
      "execution_count": null,
      "metadata": {
        "colab": {
          "base_uri": "https://localhost:8080/"
        },
        "id": "VCVl9nLY07XC",
        "outputId": "c76322b2-0d48-4fbd-c4b3-e6bec98daf2e"
      },
      "outputs": [
        {
          "name": "stdout",
          "output_type": "stream",
          "text": [
            "4\n",
            "*\n",
            "**\n",
            "***\n",
            "****\n"
          ]
        },
        {
          "data": {
            "text/plain": []
          },
          "execution_count": 57,
          "metadata": {},
          "output_type": "execute_result"
        }
      ],
      "source": [
        "# 파일 실행(불러오기)\n",
        "%%shell\n",
        "gcc week7_3-2.c -o bout\n",
        "./bout"
      ]
    },
    {
      "cell_type": "markdown",
      "metadata": {
        "id": "Nl-9KBK_1Ywg"
      },
      "source": [
        "**예제**\n",
        "\n",
        "양의 정수 N을 입력 받아, 높이가 N인 역삼각형 출력하기"
      ]
    },
    {
      "cell_type": "code",
      "execution_count": null,
      "metadata": {
        "colab": {
          "base_uri": "https://localhost:8080/"
        },
        "id": "bRNRNqm81dx2",
        "outputId": "2f68b971-738e-447c-a1d2-94d64da38faf"
      },
      "outputs": [
        {
          "name": "stdout",
          "output_type": "stream",
          "text": [
            "Writing week7_3-3.c\n"
          ]
        }
      ],
      "source": [
        "# 파일 작성\n",
        "%%writefile week7_3-3.c\n",
        "\n",
        "#include<stdio.h>\n",
        "\n",
        "int main(){\n",
        "\n",
        "  int N;\n",
        "  scanf(\"%d\",&N);\n",
        "\n",
        "  for(int i=N; i>=1; i--){\n",
        "    for (int j = 1; j <= i; j++){\n",
        "      printf(\"*\");\n",
        "    }\n",
        "    printf(\"\\n\");\n",
        "  }\n",
        "\n",
        "  return 0;\n",
        "}"
      ]
    },
    {
      "cell_type": "code",
      "execution_count": null,
      "metadata": {
        "colab": {
          "base_uri": "https://localhost:8080/"
        },
        "id": "e0DsKqsl1enR",
        "outputId": "03a93adb-2653-4ab1-b617-db3b774bef91"
      },
      "outputs": [
        {
          "name": "stdout",
          "output_type": "stream",
          "text": [
            "4\n",
            "****\n",
            "***\n",
            "**\n",
            "*\n"
          ]
        },
        {
          "data": {
            "text/plain": []
          },
          "execution_count": 59,
          "metadata": {},
          "output_type": "execute_result"
        }
      ],
      "source": [
        "# 파일 실행(불러오기)\n",
        "%%shell\n",
        "gcc week7_3-3.c -o bout\n",
        "./bout"
      ]
    },
    {
      "cell_type": "markdown",
      "metadata": {
        "id": "gAzV7DYC1oj5"
      },
      "source": [
        "**예제**\n",
        "\n",
        "양의 정수 N을 입력 받아, 높이가 N이고 오른쪽으로 치우친 역삼각형 출력하기"
      ]
    },
    {
      "cell_type": "code",
      "execution_count": null,
      "metadata": {
        "colab": {
          "base_uri": "https://localhost:8080/"
        },
        "id": "tQqbHDI_1uiO",
        "outputId": "20e98fea-ac42-4db4-ff3b-fe96522df55f"
      },
      "outputs": [
        {
          "name": "stdout",
          "output_type": "stream",
          "text": [
            "Writing week7_3-4.c\n"
          ]
        }
      ],
      "source": [
        "# 파일 작성\n",
        "%%writefile week7_3-4.c\n",
        "\n",
        "#include<stdio.h>\n",
        "\n",
        "int main(){\n",
        "\n",
        "  int N;\n",
        "  scanf(\"%d\",&N);\n",
        "\n",
        "  for(int i=N; i>=1; i--){\n",
        "    for (int j = 1; j <= N-i; j++){\n",
        "      printf(\" \");\n",
        "    }\n",
        "    for (int j = 1; j <= i; j++){\n",
        "      printf(\"*\");\n",
        "    }\n",
        "    printf(\"\\n\");\n",
        "  }\n",
        "\n",
        "\n",
        "  return 0;\n",
        "}"
      ]
    },
    {
      "cell_type": "code",
      "execution_count": null,
      "metadata": {
        "colab": {
          "base_uri": "https://localhost:8080/"
        },
        "id": "e0RsNQC11u-h",
        "outputId": "5b1b2097-73b7-4fcd-b69f-1d502c3c62c6"
      },
      "outputs": [
        {
          "name": "stdout",
          "output_type": "stream",
          "text": [
            "4\n",
            "****\n",
            " ***\n",
            "  **\n",
            "   *\n"
          ]
        },
        {
          "data": {
            "text/plain": []
          },
          "execution_count": 61,
          "metadata": {},
          "output_type": "execute_result"
        }
      ],
      "source": [
        "# 파일 실행(불러오기)\n",
        "%%shell\n",
        "gcc week7_3-4.c -o bout\n",
        "./bout"
      ]
    },
    {
      "cell_type": "markdown",
      "metadata": {
        "id": "XtzmKMQ111N8"
      },
      "source": [
        "**☆★ 예제 ★☆**\n",
        "\n",
        "별 대신 수를 출력하도록 위 프로그램을 수정해보자.  \n",
        "각 수는 3칸을 차지하도록 출력"
      ]
    },
    {
      "cell_type": "code",
      "execution_count": null,
      "metadata": {
        "colab": {
          "base_uri": "https://localhost:8080/"
        },
        "id": "k3Jg6khv18Gc",
        "outputId": "44951474-8262-45fb-f49e-0cc438706bc1"
      },
      "outputs": [
        {
          "name": "stdout",
          "output_type": "stream",
          "text": [
            "Overwriting week7_3-5.c\n"
          ]
        }
      ],
      "source": [
        "# 파일 작성\n",
        "%%writefile week7_3-5.c\n",
        "\n",
        "#include<stdio.h>\n",
        "\n",
        "int main(){\n",
        "\n",
        "  int n;\n",
        "  scanf(\"%d\",&n);\n",
        "\n",
        "  int k = 1;\n",
        "  for (int i = n; i > 0; i--){\n",
        "    for (int j = 1; j <= (n-i)/2; j++){\n",
        "      printf(\"   \");\n",
        "    }\n",
        "    if ((n-i)%2 == 1) printf(\" \");\n",
        "    for (int j = 1; j <= i; j++){\n",
        "      printf(\"%3d\", k);\n",
        "      k++;\n",
        "    }\n",
        "    printf(\"\\n\");\n",
        "  }\n",
        "\n",
        "  return 0;\n",
        "}"
      ]
    },
    {
      "cell_type": "code",
      "execution_count": null,
      "metadata": {
        "colab": {
          "base_uri": "https://localhost:8080/"
        },
        "id": "pBiE_nkf2Atn",
        "outputId": "5fecc236-2fb2-4066-d76a-209fbe175fd9"
      },
      "outputs": [
        {
          "name": "stdout",
          "output_type": "stream",
          "text": [
            "5\n",
            "  1  2  3  4  5\n",
            "   6  7  8  9\n",
            "    10 11 12\n",
            "     13 14\n",
            "       15\n"
          ]
        },
        {
          "data": {
            "text/plain": []
          },
          "execution_count": 67,
          "metadata": {},
          "output_type": "execute_result"
        }
      ],
      "source": [
        "# 파일 실행(불러오기)\n",
        "%%shell\n",
        "gcc week7_3-5.c -o bout\n",
        "./bout"
      ]
    },
    {
      "cell_type": "markdown",
      "metadata": {
        "id": "d-y7vy-iyNxu"
      },
      "source": [
        "\n",
        "\n",
        "---\n",
        "\n"
      ]
    },
    {
      "cell_type": "markdown",
      "metadata": {
        "id": "Uqh-OJ8jyMMe"
      },
      "source": [
        "**프활C 실습문제08-01**\n",
        "\n",
        "양의 정수 n을 입력 받고 1부터 n까지의 합을 출력하세요."
      ]
    },
    {
      "cell_type": "code",
      "execution_count": null,
      "metadata": {
        "colab": {
          "base_uri": "https://localhost:8080/"
        },
        "id": "GCnKq-XZyYN1",
        "outputId": "2367402c-76eb-40dd-93a1-3d326aeafc79"
      },
      "outputs": [
        {
          "name": "stdout",
          "output_type": "stream",
          "text": [
            "Writing week8_ex1.c\n"
          ]
        }
      ],
      "source": [
        "# 파일 작성\n",
        "%%writefile week8_ex1.c\n",
        "\n",
        "#include<stdio.h>\n",
        "\n",
        "int main(){\n",
        "\n",
        "  int n;\n",
        "  scanf(\"%d\",&n);\n",
        "\n",
        "  int i = 1;\n",
        "  int sum = 0;\n",
        "  while (i <= n)\n",
        "  {\n",
        "    sum += i;\n",
        "    i++;\n",
        "  }\n",
        "  printf(\"%d\",sum);\n",
        "\n",
        "  return 0;\n",
        "}"
      ]
    },
    {
      "cell_type": "code",
      "execution_count": null,
      "metadata": {
        "colab": {
          "base_uri": "https://localhost:8080/"
        },
        "id": "Eef5VsfByYnl",
        "outputId": "a8b5863f-e5d2-4d7f-dd0f-989fb27cdadb"
      },
      "outputs": [
        {
          "name": "stdout",
          "output_type": "stream",
          "text": [
            "10\n",
            "55"
          ]
        },
        {
          "data": {
            "text/plain": []
          },
          "execution_count": 18,
          "metadata": {},
          "output_type": "execute_result"
        }
      ],
      "source": [
        "# 파일 실행(불러오기)\n",
        "%%shell\n",
        "gcc week8_ex1.c -o bout\n",
        "./bout"
      ]
    },
    {
      "cell_type": "markdown",
      "metadata": {
        "id": "F8AnTtPFzWeG"
      },
      "source": [
        "**프활C 실습문제08-02**\n",
        "\n",
        "1부터 9까지 정수인 n을 입력 받고 n단 구구단을 출력하세요."
      ]
    },
    {
      "cell_type": "code",
      "execution_count": null,
      "metadata": {
        "colab": {
          "base_uri": "https://localhost:8080/"
        },
        "id": "M7OjvJXnzckE",
        "outputId": "be34f9ac-6309-44a0-eb10-dbcd87fb67ad"
      },
      "outputs": [
        {
          "name": "stdout",
          "output_type": "stream",
          "text": [
            "Writing week8_ex2.c\n"
          ]
        }
      ],
      "source": [
        "# 파일 작성\n",
        "%%writefile week8_ex2.c\n",
        "\n",
        "#include<stdio.h>\n",
        "\n",
        "int main(){\n",
        "\n",
        "  int n, i = 1;\n",
        "  scanf(\"%d\",&n);\n",
        "\n",
        "  do{\n",
        "    printf(\"%dx%d=%d\\n\", n,i,n*i);\n",
        "    i++;\n",
        "  } while (i < 10);\n",
        "\n",
        "  return 0;\n",
        "}"
      ]
    },
    {
      "cell_type": "code",
      "execution_count": null,
      "metadata": {
        "colab": {
          "base_uri": "https://localhost:8080/"
        },
        "id": "bYm6q77TyMmu",
        "outputId": "3d6e60d5-a42b-4ef2-e433-fd68196d1f4e"
      },
      "outputs": [
        {
          "name": "stdout",
          "output_type": "stream",
          "text": [
            "2\n",
            "2x1=2\n",
            "2x2=4\n",
            "2x3=6\n",
            "2x4=8\n",
            "2x5=10\n",
            "2x6=12\n",
            "2x7=14\n",
            "2x8=16\n",
            "2x9=18\n"
          ]
        },
        {
          "data": {
            "text/plain": []
          },
          "execution_count": 20,
          "metadata": {},
          "output_type": "execute_result"
        }
      ],
      "source": [
        "# 파일 실행(불러오기)\n",
        "%%shell\n",
        "gcc week8_ex2.c -o bout\n",
        "./bout"
      ]
    },
    {
      "cell_type": "markdown",
      "metadata": {
        "id": "2jS5Ffb2zjP8"
      },
      "source": [
        "**프활C 실습문제08-03**\n",
        "\n",
        "양의 정수 n을 입력 받고 출력 예시에 맞게 *을 출력하세요."
      ]
    },
    {
      "cell_type": "code",
      "execution_count": null,
      "metadata": {
        "colab": {
          "base_uri": "https://localhost:8080/"
        },
        "id": "9tUFGyUtzjo8",
        "outputId": "25af8e7a-d937-4343-b523-9c0e570ae8ac"
      },
      "outputs": [
        {
          "name": "stdout",
          "output_type": "stream",
          "text": [
            "Overwriting week8_ex3.c\n"
          ]
        }
      ],
      "source": [
        "# 파일 작성\n",
        "%%writefile week8_ex3.c\n",
        "\n",
        "#include<stdio.h>\n",
        "\n",
        "int main(){\n",
        "\n",
        "  int n;\n",
        "  scanf(\"%d\",&n);\n",
        "\n",
        "  for (int i = 1; i <= n; i++)\n",
        "  {\n",
        "    for (int j = 1 ; j <= i; j++)\n",
        "    {\n",
        "      printf(\"*\");\n",
        "    }\n",
        "    printf(\"\\n\");\n",
        "  }\n",
        "\n",
        "  return 0;\n",
        "}"
      ]
    },
    {
      "cell_type": "code",
      "execution_count": null,
      "metadata": {
        "colab": {
          "base_uri": "https://localhost:8080/"
        },
        "id": "6DTgACpSzj7k",
        "outputId": "9c1dceb7-8cb8-4fdd-e94d-bd17f9c595c7"
      },
      "outputs": [
        {
          "name": "stdout",
          "output_type": "stream",
          "text": [
            "3\n",
            "*\n",
            "**\n",
            "***\n"
          ]
        },
        {
          "data": {
            "text/plain": []
          },
          "execution_count": 27,
          "metadata": {},
          "output_type": "execute_result"
        }
      ],
      "source": [
        "# 파일 실행(불러오기)\n",
        "%%shell\n",
        "gcc week8_ex3.c -o bout\n",
        "./bout"
      ]
    },
    {
      "cell_type": "markdown",
      "metadata": {
        "id": "6YGEeonj120p"
      },
      "source": [
        "\n",
        "\n",
        "---\n",
        "\n"
      ]
    },
    {
      "cell_type": "markdown",
      "metadata": {
        "id": "93ud9xg410kJ"
      },
      "source": [
        "**프활C 실습퀴즈08-01**\n",
        "\n",
        "양의 정수 n을 입력 받고 1부터 n까지 숫자 중 3의 배수만 더하여 출력하세요."
      ]
    },
    {
      "cell_type": "code",
      "execution_count": null,
      "metadata": {
        "colab": {
          "base_uri": "https://localhost:8080/"
        },
        "id": "WRxkXRWc16nq",
        "outputId": "14e439f2-b600-4681-d349-78f98a21780c"
      },
      "outputs": [
        {
          "name": "stdout",
          "output_type": "stream",
          "text": [
            "Overwriting week8_q1.c\n"
          ]
        }
      ],
      "source": [
        "# 파일 작성\n",
        "%%writefile week8_q1.c\n",
        "\n",
        "#include<stdio.h>\n",
        "\n",
        "int main(){\n",
        "\n",
        "  int n;\n",
        "  scanf(\"%d\",&n);\n",
        "\n",
        "  int i = 1, sum = 0;\n",
        "  while (i <= n)\n",
        "  {\n",
        "    if ((i % 3) == 0)\n",
        "      sum += i;\n",
        "    i++;\n",
        "  }\n",
        "\n",
        "  printf(\"Total=%d\",sum);\n",
        "\n",
        "  return 0;\n",
        "}"
      ]
    },
    {
      "cell_type": "code",
      "execution_count": null,
      "metadata": {
        "colab": {
          "base_uri": "https://localhost:8080/"
        },
        "id": "EuvZHjrg2AQa",
        "outputId": "ca9d212e-0c4b-431e-e512-b1de51eaf7ea"
      },
      "outputs": [
        {
          "name": "stdout",
          "output_type": "stream",
          "text": [
            "5\n",
            "Total=3"
          ]
        },
        {
          "data": {
            "text/plain": []
          },
          "execution_count": 11,
          "metadata": {},
          "output_type": "execute_result"
        }
      ],
      "source": [
        "# 파일 실행(불러오기)\n",
        "%%shell\n",
        "gcc week8_q1.c -o bout\n",
        "./bout"
      ]
    },
    {
      "cell_type": "markdown",
      "metadata": {
        "id": "pk2-Rj4x2Cqp"
      },
      "source": [
        "**프활C 실습퀴즈08-02**\n",
        "\n",
        "양의 정수 n, m을 입력 받고 n부터 m까지 정수 중 소수인 수만 출력하시오."
      ]
    },
    {
      "cell_type": "code",
      "execution_count": null,
      "metadata": {
        "colab": {
          "base_uri": "https://localhost:8080/"
        },
        "id": "bpLJcbMH2G4R",
        "outputId": "a41710d6-fad9-49e0-88f6-24b3b5d00f5e"
      },
      "outputs": [
        {
          "name": "stdout",
          "output_type": "stream",
          "text": [
            "Overwriting week8_q2.c\n"
          ]
        }
      ],
      "source": [
        "# 파일 작성\n",
        "%%writefile week8_q2.c\n",
        "\n",
        "#include<stdio.h>\n",
        "\n",
        "int main(){\n",
        "\n",
        "  int n,m;\n",
        "  scanf(\"%d %d\",&n,&m);\n",
        "\n",
        "\n",
        "  int l = n;\n",
        "  while (l <= m)\n",
        "  {\n",
        "    int count = 0;\n",
        "    for (int i = 1; i <= l; i++)\n",
        "    {\n",
        "      if (l % i == 0)\n",
        "        count += 1;\n",
        "    }\n",
        "    if (count == 2)\n",
        "      printf(\"%d \",l);\n",
        "    l++;\n",
        "  }\n",
        "  return 0;\n",
        "}"
      ]
    },
    {
      "cell_type": "code",
      "execution_count": null,
      "metadata": {
        "colab": {
          "base_uri": "https://localhost:8080/"
        },
        "id": "OfbuXljA2JMY",
        "outputId": "c9e04605-c893-4f86-e183-39fea0eb6b80"
      },
      "outputs": [
        {
          "name": "stdout",
          "output_type": "stream",
          "text": [
            "1 10\n",
            "2 3 5 7 "
          ]
        },
        {
          "data": {
            "text/plain": []
          },
          "execution_count": 27,
          "metadata": {},
          "output_type": "execute_result"
        }
      ],
      "source": [
        "# 파일 실행(불러오기)\n",
        "%%shell\n",
        "gcc week8_q2.c -o bout\n",
        "./bout"
      ]
    },
    {
      "cell_type": "markdown",
      "metadata": {
        "id": "3LN1k0Kb2GgY"
      },
      "source": [
        "**프활C 실습퀴즈08-03**\n",
        "\n",
        "양의 정수 n을 입력 받고 예시에 맞게 *을 출력하세요."
      ]
    },
    {
      "cell_type": "code",
      "execution_count": null,
      "metadata": {
        "colab": {
          "base_uri": "https://localhost:8080/"
        },
        "id": "PrNkni9G2Neo",
        "outputId": "439bcb0c-18e4-4c6c-bb21-521f84bc2e03"
      },
      "outputs": [
        {
          "name": "stdout",
          "output_type": "stream",
          "text": [
            "Writing week8_q3.c\n"
          ]
        }
      ],
      "source": [
        "# 파일 작성\n",
        "%%writefile week8_q3.c\n",
        "\n",
        "#include<stdio.h>\n",
        "\n",
        "int main(){\n",
        "\n",
        "  int n;\n",
        "  scanf(\"%d\",&n);\n",
        "\n",
        "  for (int i = n; i > 0; i--)\n",
        "  {\n",
        "    for (int j = 1 ; j <= i; j++)\n",
        "    {\n",
        "      printf(\"*\");\n",
        "    }\n",
        "    printf(\"\\n\");\n",
        "  }\n",
        "\n",
        "  return 0;\n",
        "}"
      ]
    },
    {
      "cell_type": "code",
      "execution_count": null,
      "metadata": {
        "colab": {
          "base_uri": "https://localhost:8080/"
        },
        "id": "9rNOd4dz2PK5",
        "outputId": "b8ea001e-2d31-4d8e-ec21-dc5654ab50d0"
      },
      "outputs": [
        {
          "name": "stdout",
          "output_type": "stream",
          "text": [
            "3\n",
            "***\n",
            "**\n",
            "*\n"
          ]
        },
        {
          "data": {
            "text/plain": []
          },
          "execution_count": 29,
          "metadata": {},
          "output_type": "execute_result"
        }
      ],
      "source": [
        "# 파일 실행(불러오기)\n",
        "%%shell\n",
        "gcc week8_q3.c -o bout\n",
        "./bout"
      ]
    },
    {
      "cell_type": "markdown",
      "metadata": {
        "id": "0v96bLHHLl5_"
      },
      "source": [
        "# **9주차.** 배열"
      ]
    },
    {
      "cell_type": "markdown",
      "metadata": {
        "id": "YdrqRVGpbPO_"
      },
      "source": [
        "**1. 배열 선언과 사용**"
      ]
    },
    {
      "cell_type": "markdown",
      "metadata": {
        "id": "flDRB6hIQrSn"
      },
      "source": [
        "- 배열이란?\n",
        "  - 같은 자료형의 변수 여러 개를 하나로 묶은 자료형\n",
        "  - 배열을 이용하여 많은 변수를 한번에 선언하고, 저장된 데이터를 처리할 수 있음\n",
        "\n",
        "- 배열의 선언\n",
        "  - 변수 이름 뒤에 필요한 변수의 개수(배열 크기)를 명시\n",
        "  - 배열 선언 구문\n",
        "    ```\n",
        "    자료형 변수명[배열크기];\n",
        "    ```\n",
        "\n",
        "- 배열의 원소(요소) : 배열을 구성하는 각 변수를 지칭\n",
        "  - 대괄호 [] 안에 번호를 넣어서 구분 : x[0], x[1], x[2], x[3], x[4]\n",
        "  - 배열의 첨자 or 인덱스(index)\n",
        "    - 배열에서 각 원소의 위치를 나타내는 대괄호 [] 안의 번호를 지칭\n",
        "    - 배열의 인덱스는 0부터 시작함\n",
        "  - 배열의 각 원소는 하나의 일반 변수와 동일하게 취급\n",
        "\n",
        "- 배열과 반복문과의 만남  \n",
        "  : 배열 원소의 **인덱스가 0부터 시작하여 1씩 증가한다는 규칙을 이용**하여 배열의 원소에 접근"
      ]
    },
    {
      "cell_type": "markdown",
      "metadata": {
        "id": "2pDRDdJvUD7y"
      },
      "source": [
        "**예제**\n",
        "\n",
        "사용자로부터 5개의 정수를 입력 받아 변수에 저장하고, 이 값을 출력하는 프로그램"
      ]
    },
    {
      "cell_type": "code",
      "execution_count": null,
      "metadata": {
        "colab": {
          "base_uri": "https://localhost:8080/"
        },
        "id": "vIParRrubQGh",
        "outputId": "6c7b757e-a8ae-41ea-e8fd-028809b000d8"
      },
      "outputs": [
        {
          "name": "stdout",
          "output_type": "stream",
          "text": [
            "Writing week9_1-1.c\n"
          ]
        }
      ],
      "source": [
        "# 파일 작성\n",
        "%%writefile week9_1-1.c\n",
        "\n",
        "#include<stdio.h>\n",
        "\n",
        "int main(){\n",
        "\n",
        "  int x[5];\n",
        "\n",
        "  for (int i=0; i<5; i++){\n",
        "    scanf(\"%d\",&x[i]);\n",
        "  }\n",
        "\n",
        "  for (int i=0; i<5; i++){\n",
        "    printf(\"%d \",x[i]);\n",
        "  }\n",
        "  printf(\"\\n\");\n",
        "\n",
        "  return 0;\n",
        "}"
      ]
    },
    {
      "cell_type": "code",
      "execution_count": null,
      "metadata": {
        "colab": {
          "base_uri": "https://localhost:8080/"
        },
        "id": "gfZJEE-rUro4",
        "outputId": "b4238e4f-e6fd-4557-ad8d-dc8293f14c36"
      },
      "outputs": [
        {
          "name": "stdout",
          "output_type": "stream",
          "text": [
            "1\n",
            "2\n",
            "3\n",
            "4\n",
            "5\n",
            "1 2 3 4 5 \n"
          ]
        },
        {
          "data": {
            "text/plain": []
          },
          "execution_count": 69,
          "metadata": {},
          "output_type": "execute_result"
        }
      ],
      "source": [
        "# 파일 실행(불러오기)\n",
        "%%shell\n",
        "gcc week9_1-1.c -o bout\n",
        "./bout"
      ]
    },
    {
      "cell_type": "markdown",
      "metadata": {
        "id": "u99KGq8OU2aV"
      },
      "source": [
        "**※ 배열 사용시 주의점**\n",
        "\n",
        "    컴파일러는 배열의 첨자가 유효한 범위인지 검사하지 못함  \n",
        "    유효하지 않은 첨자 범위 → 런타임 오류를 유발시킴"
      ]
    },
    {
      "cell_type": "markdown",
      "metadata": {
        "id": "H9lJuf1dVJj6"
      },
      "source": [
        "**예제**\n",
        "\n",
        "크기가 9인 배열 x를 선언 하시오.   \n",
        "for 문을 이용하여 구구단 3단의 계산 값을 배열에 저장한 후,  \n",
        "for 문을 이용하여 배열 내용을 화면에 출력 하시오."
      ]
    },
    {
      "cell_type": "code",
      "execution_count": null,
      "metadata": {
        "colab": {
          "base_uri": "https://localhost:8080/"
        },
        "id": "_v6qZ7oCVWMi",
        "outputId": "208007b7-81a1-4f82-9337-9c369e0d36c9"
      },
      "outputs": [
        {
          "name": "stdout",
          "output_type": "stream",
          "text": [
            "Writing week9_1-2.c\n"
          ]
        }
      ],
      "source": [
        "# 파일 작성\n",
        "%%writefile week9_1-2.c\n",
        "\n",
        "#include<stdio.h>\n",
        "\n",
        "int main(){\n",
        "\n",
        "  int g[9];\n",
        "\n",
        "  for (int i=0; i<9; i++){\n",
        "    g[i] = 3*(i+1);\n",
        "  }\n",
        "\n",
        "  for (int i=0; i<9; i++){\n",
        "    printf(\"%3d\\n\",g[i]);\n",
        "  }\n",
        "\n",
        "  return 0;\n",
        "}"
      ]
    },
    {
      "cell_type": "code",
      "execution_count": null,
      "metadata": {
        "colab": {
          "base_uri": "https://localhost:8080/"
        },
        "id": "hu4ApJCGV6X8",
        "outputId": "e999612d-3d6b-4a88-e3b4-1f7aefcd39ba"
      },
      "outputs": [
        {
          "name": "stdout",
          "output_type": "stream",
          "text": [
            "  3\n",
            "  6\n",
            "  9\n",
            " 12\n",
            " 15\n",
            " 18\n",
            " 21\n",
            " 24\n",
            " 27\n"
          ]
        },
        {
          "data": {
            "text/plain": []
          },
          "execution_count": 71,
          "metadata": {},
          "output_type": "execute_result"
        }
      ],
      "source": [
        "# 파일 실행(불러오기)\n",
        "%%shell\n",
        "gcc week9_1-2.c -o bout\n",
        "./bout"
      ]
    },
    {
      "cell_type": "markdown",
      "metadata": {
        "id": "qQD88aEeWATd"
      },
      "source": [
        "**예제**\n",
        "\n",
        "크기가 7인 배열 x에 아래 점수를 저장하시오.\n",
        "> 80, 71, 91, 95, 77, 79, 88\n",
        "\n",
        "for문을 이용하여 80점 이상의 학생의 인덱스와 점수를 모두 출력하는 프로그램을 작성하시오."
      ]
    },
    {
      "cell_type": "code",
      "execution_count": null,
      "metadata": {
        "colab": {
          "base_uri": "https://localhost:8080/"
        },
        "id": "knCRgCN8WWd4",
        "outputId": "d5026fa7-d305-4327-c914-d5f305edd0e5"
      },
      "outputs": [
        {
          "name": "stdout",
          "output_type": "stream",
          "text": [
            "Overwriting week9_1-3.c\n"
          ]
        }
      ],
      "source": [
        "# 파일 작성\n",
        "%%writefile week9_1-3.c\n",
        "\n",
        "#include<stdio.h>\n",
        "\n",
        "int main(){\n",
        "\n",
        "  int x[7] = {80, 71, 91, 95, 77, 79, 88};\n",
        "\n",
        "  for (int i=0; i<7; i++){\n",
        "    if (x[i] >= 80) printf(\"%d %d\\n\", i, x[i]);\n",
        "  }\n",
        "\n",
        "  return 0;\n",
        "}"
      ]
    },
    {
      "cell_type": "code",
      "execution_count": null,
      "metadata": {
        "colab": {
          "base_uri": "https://localhost:8080/"
        },
        "id": "yLwf1-g0WxUg",
        "outputId": "e283a6e2-ff22-428d-f63e-b721759c6b2f"
      },
      "outputs": [
        {
          "name": "stdout",
          "output_type": "stream",
          "text": [
            "0 80\n",
            "2 91\n",
            "3 95\n",
            "6 88\n"
          ]
        },
        {
          "data": {
            "text/plain": []
          },
          "execution_count": 75,
          "metadata": {},
          "output_type": "execute_result"
        }
      ],
      "source": [
        "# 파일 실행(불러오기)\n",
        "%%shell\n",
        "gcc week9_1-3.c -o bout\n",
        "./bout"
      ]
    },
    {
      "cell_type": "markdown",
      "metadata": {
        "id": "JOa9DkwjW4OX"
      },
      "source": [
        "- 배열 초기화\n",
        "  - 배열 전체를 선언과 동시에 초기화 하기\n",
        "  - 중괄호 { } 안에 배열의 초기화 값을 쉼표로 구분하여 나열\n",
        "  - 배열 전체 값을 한꺼번에 대입하는 것은 선언 시에만 가능\n",
        "\n",
        "- 배열의 크기보다 초기값의 개수가 작으면?\n",
        "  - 앞 원소부터 차례로 채워지고, 배열의 뒷부분은 0으로 채워짐\n",
        "  - 배열 전체를 0으로 초기화 하기\n",
        "\n",
        "- 배열의 크기보다 초기값의 개수가 크면?  \n",
        "  : 컴파일 오류 발생\n",
        "\n",
        "- 배열의 크기를 지정하지 않으면?  \n",
        "  : 배열 크기가 초기화에 사용된 원소 수로 결정됨\n",
        "\n",
        "- `sizeof(x)` : 배열 x의 전체 크기\n",
        "- `sizeof(x[0])` : 원소 하나의 크기"
      ]
    },
    {
      "cell_type": "markdown",
      "metadata": {
        "id": "L8j1WMD6QlYu"
      },
      "source": [
        "\n",
        "\n",
        "---\n",
        "\n"
      ]
    },
    {
      "cell_type": "markdown",
      "metadata": {
        "id": "xDwq1hR3QmJX"
      },
      "source": [
        "**2. 배열 활용(1)**"
      ]
    },
    {
      "cell_type": "markdown",
      "metadata": {
        "id": "dWG2TZrnQnXx"
      },
      "source": [
        "**예제**\n",
        "\n",
        "5개의 실수를 입력 받아 배열에 저장하고, 합과 평균 출력"
      ]
    },
    {
      "cell_type": "code",
      "execution_count": null,
      "metadata": {
        "colab": {
          "base_uri": "https://localhost:8080/"
        },
        "id": "iS34VdJCQn3N",
        "outputId": "7ea96c3d-270e-412c-8eda-27bc286f2a96"
      },
      "outputs": [
        {
          "name": "stdout",
          "output_type": "stream",
          "text": [
            "Writing week9_2-1.c\n"
          ]
        }
      ],
      "source": [
        "# 파일 작성\n",
        "%%writefile week9_2-1.c\n",
        "\n",
        "#include<stdio.h>\n",
        "\n",
        "int main(){\n",
        "\n",
        "  double x[5];\n",
        "  scanf(\"%lf %lf %lf %lf %lf\", &x[0], &x[1], &x[2], &x[3], &x[4]);\n",
        "\n",
        "  double sum=0;\n",
        "  for (int i=0; i<5; i++){\n",
        "    sum += x[i];\n",
        "  }\n",
        "  printf(\"합 = %f, 평균 = %f\",sum, sum/5);\n",
        "\n",
        "  return 0;\n",
        "}"
      ]
    },
    {
      "cell_type": "code",
      "execution_count": null,
      "metadata": {
        "colab": {
          "base_uri": "https://localhost:8080/"
        },
        "id": "eN-WusfKZUC0",
        "outputId": "06ec2b93-571c-4ab7-b149-dbd292bf64ad"
      },
      "outputs": [
        {
          "name": "stdout",
          "output_type": "stream",
          "text": [
            "3.0 1.0 5.0 4.0 2.0\n",
            "합 = 15.000000, 평균 = 3.000000"
          ]
        },
        {
          "data": {
            "text/plain": []
          },
          "execution_count": 77,
          "metadata": {},
          "output_type": "execute_result"
        }
      ],
      "source": [
        "# 파일 실행(불러오기)\n",
        "%%shell\n",
        "gcc week9_2-1.c -o bout\n",
        "./bout"
      ]
    },
    {
      "cell_type": "markdown",
      "metadata": {
        "id": "w9pU0W_YZeQA"
      },
      "source": [
        "**예제**\n",
        "\n",
        "5개의 실수를 입력 받아 배열에 저장하고, 입력된 수 중 평균보다 큰 수(입력 순서대로) 출력"
      ]
    },
    {
      "cell_type": "code",
      "execution_count": null,
      "metadata": {
        "colab": {
          "base_uri": "https://localhost:8080/"
        },
        "id": "iV0obHL_ZjvI",
        "outputId": "b22460e4-abdf-4e98-9ae4-355743a1ba7a"
      },
      "outputs": [
        {
          "name": "stdout",
          "output_type": "stream",
          "text": [
            "Writing week9_2-2.c\n"
          ]
        }
      ],
      "source": [
        "# 파일 작성\n",
        "%%writefile week9_2-2.c\n",
        "\n",
        "#include<stdio.h>\n",
        "\n",
        "int main(){\n",
        "\n",
        "  double x[5];\n",
        "  scanf(\"%lf %lf %lf %lf %lf\", &x[0], &x[1], &x[2], &x[3], &x[4]);\n",
        "\n",
        "  double avg = 0;\n",
        "  for (int i=0; i<5; i++){\n",
        "    avg += x[i];\n",
        "  }\n",
        "  avg /= 5;\n",
        "\n",
        "  for (int i=0; i<5; i++){\n",
        "    if (avg < x[i]) printf(\"%f \", x[i]);\n",
        "  }\n",
        "\n",
        "  return 0;\n",
        "}"
      ]
    },
    {
      "cell_type": "code",
      "execution_count": null,
      "metadata": {
        "colab": {
          "base_uri": "https://localhost:8080/"
        },
        "id": "ny-UmtyMZkMI",
        "outputId": "a262ea6c-407b-45ea-d791-62eeefe05772"
      },
      "outputs": [
        {
          "name": "stdout",
          "output_type": "stream",
          "text": [
            "3.0 1.0 5.0 4.0 2.0\n",
            "5.000000 4.000000 "
          ]
        },
        {
          "data": {
            "text/plain": []
          },
          "execution_count": 79,
          "metadata": {},
          "output_type": "execute_result"
        }
      ],
      "source": [
        "# 파일 실행(불러오기)\n",
        "%%shell\n",
        "gcc week9_2-2.c -o bout\n",
        "./bout"
      ]
    },
    {
      "cell_type": "markdown",
      "metadata": {
        "id": "6o6x-FT1ZqNG"
      },
      "source": [
        "**예제**\n",
        "\n",
        "5개의 실수를 입력 받아 배열에 저장하고, 최댓값 출력"
      ]
    },
    {
      "cell_type": "code",
      "execution_count": null,
      "metadata": {
        "colab": {
          "base_uri": "https://localhost:8080/"
        },
        "id": "boqEa97ZZq14",
        "outputId": "08948983-0663-4f1f-bec9-90dd1f3f9e27"
      },
      "outputs": [
        {
          "name": "stdout",
          "output_type": "stream",
          "text": [
            "Writing week9_2-3.c\n"
          ]
        }
      ],
      "source": [
        "# 파일 작성\n",
        "%%writefile week9_2-3.c\n",
        "\n",
        "#include<stdio.h>\n",
        "\n",
        "int main(){\n",
        "\n",
        "  double x[5];\n",
        "  scanf(\"%lf %lf %lf %lf %lf\", &x[0], &x[1], &x[2], &x[3], &x[4]);\n",
        "\n",
        "  double max = 0;\n",
        "  for (int i=0; i<5; i++){\n",
        "    if (max < x[i]) max = x[i];\n",
        "  }\n",
        "\n",
        "  printf(\"max = %f\",max);\n",
        "\n",
        "  return 0;\n",
        "}"
      ]
    },
    {
      "cell_type": "code",
      "execution_count": null,
      "metadata": {
        "colab": {
          "base_uri": "https://localhost:8080/"
        },
        "id": "Y1gYeoTyZrPM",
        "outputId": "63139ddb-c967-4ea5-8312-3005f5d689ee"
      },
      "outputs": [
        {
          "name": "stdout",
          "output_type": "stream",
          "text": [
            "5.0 0.7 13.4 4 9.5\n",
            "max = 13.400000"
          ]
        },
        {
          "data": {
            "text/plain": []
          },
          "execution_count": 81,
          "metadata": {},
          "output_type": "execute_result"
        }
      ],
      "source": [
        "# 파일 실행(불러오기)\n",
        "%%shell\n",
        "gcc week9_2-3.c -o bout\n",
        "./bout"
      ]
    },
    {
      "cell_type": "markdown",
      "metadata": {
        "id": "lxRBV6RTZvTs"
      },
      "source": [
        "**예제**\n",
        "\n",
        "5개의 실수를 입력 받아 배열에 저장하고, 최댓값이 저장된 배열 원소의 인덱스 출력하기"
      ]
    },
    {
      "cell_type": "code",
      "execution_count": null,
      "metadata": {
        "colab": {
          "base_uri": "https://localhost:8080/"
        },
        "id": "AfMEScBQZvzO",
        "outputId": "8eb94e8e-814d-41c0-ce6f-42a05042d73b"
      },
      "outputs": [
        {
          "name": "stdout",
          "output_type": "stream",
          "text": [
            "Overwriting week9_2-4.c\n"
          ]
        }
      ],
      "source": [
        "# 파일 작성\n",
        "%%writefile week9_2-4.c\n",
        "\n",
        "#include<stdio.h>\n",
        "\n",
        "int main(){\n",
        "\n",
        "  double x[5];\n",
        "  scanf(\"%lf %lf %lf %lf %lf\", &x[0], &x[1], &x[2], &x[3], &x[4]);\n",
        "\n",
        "  double max = 0;\n",
        "  int idx;\n",
        "  for (int i=0; i<5; i++){\n",
        "    if (max < x[i]){\n",
        "      max = x[i];\n",
        "      idx = i;\n",
        "  }}\n",
        "\n",
        "  printf(\"%d\",idx);\n",
        "\n",
        "  return 0;\n",
        "}"
      ]
    },
    {
      "cell_type": "code",
      "execution_count": null,
      "metadata": {
        "colab": {
          "base_uri": "https://localhost:8080/"
        },
        "id": "-FU2CckvZwLG",
        "outputId": "bd843076-d93d-4274-fa32-66946bf8f35d"
      },
      "outputs": [
        {
          "name": "stdout",
          "output_type": "stream",
          "text": [
            "5.0 0.7 13.4 4 9.5\n",
            "2"
          ]
        },
        {
          "data": {
            "text/plain": []
          },
          "execution_count": 85,
          "metadata": {},
          "output_type": "execute_result"
        }
      ],
      "source": [
        "# 파일 실행(불러오기)\n",
        "%%shell\n",
        "gcc week9_2-4.c -o bout\n",
        "./bout"
      ]
    },
    {
      "cell_type": "markdown",
      "metadata": {
        "id": "UtxO3GchZ3t8"
      },
      "source": [
        "**예제**\n",
        "\n",
        "5개의 실수를 입력 받아 배열에 저장하고,  \n",
        "평균과 입력된 수중 평균보다 크면서 가장 작은 수 출력"
      ]
    },
    {
      "cell_type": "code",
      "execution_count": null,
      "metadata": {
        "colab": {
          "base_uri": "https://localhost:8080/"
        },
        "id": "ako9X2d3Z4bP",
        "outputId": "989b8e49-8891-4341-fbb4-b680571a7764"
      },
      "outputs": [
        {
          "name": "stdout",
          "output_type": "stream",
          "text": [
            "Writing week9_2-5.c\n"
          ]
        }
      ],
      "source": [
        "# 파일 작성\n",
        "%%writefile week9_2-5.c\n",
        "\n",
        "#include<stdio.h>\n",
        "\n",
        "int main(){\n",
        "\n",
        "  double x[5];\n",
        "  scanf(\"%lf %lf %lf %lf %lf\", &x[0], &x[1], &x[2], &x[3], &x[4]);\n",
        "\n",
        "  double avg = 0;\n",
        "  for (int i=0; i<5; i++){\n",
        "    avg += x[i];\n",
        "  }\n",
        "  avg /= 5;\n",
        "\n",
        "  double min = 10000;\n",
        "  for (int i=0; i<5; i++){\n",
        "    if (avg < x[i]){\n",
        "      if (min > x[i]){\n",
        "        min = x[i];\n",
        "  }}}\n",
        "\n",
        "  printf(\"%f %f\",avg, min);\n",
        "\n",
        "  return 0;\n",
        "}"
      ]
    },
    {
      "cell_type": "code",
      "execution_count": null,
      "metadata": {
        "colab": {
          "base_uri": "https://localhost:8080/"
        },
        "id": "GvxOC9BtZ4wk",
        "outputId": "514d1564-e6fd-468b-fe2c-53c6b1ce82d8"
      },
      "outputs": [
        {
          "name": "stdout",
          "output_type": "stream",
          "text": [
            "5.0 0.7 13.4 4 9.5\n",
            "6.520000 9.500000"
          ]
        },
        {
          "data": {
            "text/plain": []
          },
          "execution_count": 87,
          "metadata": {},
          "output_type": "execute_result"
        }
      ],
      "source": [
        "# 파일 실행(불러오기)\n",
        "%%shell\n",
        "gcc week9_2-5.c -o bout\n",
        "./bout"
      ]
    },
    {
      "cell_type": "markdown",
      "metadata": {
        "id": "0DzjYxExZ9oR"
      },
      "source": [
        "**예제**\n",
        "\n",
        "크기가 10인 두 배열 X와 Y에 정수를 입력 받아서 저장한 후,  \n",
        "다음과 같이 계산되는 배열 Z를 구한 후, 배열 Z 출력"
      ]
    },
    {
      "cell_type": "code",
      "execution_count": null,
      "metadata": {
        "colab": {
          "base_uri": "https://localhost:8080/"
        },
        "id": "PkFjaMpoZ-LP",
        "outputId": "bed8b2ff-1d8f-4270-df0b-f2243ae35501"
      },
      "outputs": [
        {
          "name": "stdout",
          "output_type": "stream",
          "text": [
            "Overwriting week9_2-6.c\n"
          ]
        }
      ],
      "source": [
        "# 파일 작성\n",
        "%%writefile week9_2-6.c\n",
        "\n",
        "#include<stdio.h>\n",
        "\n",
        "int main(){\n",
        "\n",
        "  int X[10], Y[10],Z[10];\n",
        "  scanf(\"%d %d %d %d %d %d %d %d %d %d\", &X[0], &X[1], &X[2], &X[3], &X[4], &X[5], &X[6], &X[7], &X[8], &X[9]);\n",
        "  scanf(\"%d %d %d %d %d %d %d %d %d %d\", &Y[0], &Y[1], &Y[2], &Y[3], &Y[4], &Y[5], &Y[6], &Y[7], &Y[8], &Y[9]);\n",
        "\n",
        "  for (int i = 0; i < 10; i++){\n",
        "    Z[i] = X[i] + Y[9-i];\n",
        "  }\n",
        "\n",
        "  for (int i = 0; i < 10; i++){\n",
        "    printf(\"%d \",Z[i]);\n",
        "  }\n",
        "\n",
        "  return 0;\n",
        "}"
      ]
    },
    {
      "cell_type": "code",
      "execution_count": null,
      "metadata": {
        "colab": {
          "base_uri": "https://localhost:8080/"
        },
        "id": "FhiLAy0VZ-fb",
        "outputId": "f4a963ae-00e8-4732-abcc-edb451af631d"
      },
      "outputs": [
        {
          "name": "stdout",
          "output_type": "stream",
          "text": [
            "1 2 3 4 5 6 7 8 9 10\n",
            "2 4 6 8 0 1 3 5 7 9\n",
            "10 9 8 7 6 6 15 14 13 12 "
          ]
        },
        {
          "data": {
            "text/plain": []
          },
          "execution_count": 91,
          "metadata": {},
          "output_type": "execute_result"
        }
      ],
      "source": [
        "# 파일 실행(불러오기)\n",
        "%%shell\n",
        "gcc week9_2-6.c -o bout\n",
        "./bout"
      ]
    },
    {
      "cell_type": "markdown",
      "metadata": {
        "id": "u3_dibVbaDam"
      },
      "source": [
        "**예제**\n",
        "\n",
        "10개의 문자를 입력 받아 배열 X에 저장하고,  \n",
        "배열 X의 값을 입력 역 순으로 배열 Y에 저장하고 출력"
      ]
    },
    {
      "cell_type": "code",
      "execution_count": null,
      "metadata": {
        "colab": {
          "base_uri": "https://localhost:8080/"
        },
        "id": "veFU0Y8daEAR",
        "outputId": "6b210d42-8983-42ca-faa0-ba69db10911c"
      },
      "outputs": [
        {
          "name": "stdout",
          "output_type": "stream",
          "text": [
            "Writing week9_2-7.c\n"
          ]
        }
      ],
      "source": [
        "# 파일 작성\n",
        "%%writefile week9_2-7.c\n",
        "\n",
        "#include<stdio.h>\n",
        "\n",
        "int main(){\n",
        "\n",
        "  char X[10], Y[10];\n",
        "  scanf(\"%c%c%c%c%c%c%c%c%c%c\", &X[0], &X[1], &X[2], &X[3], &X[4], &X[5], &X[6], &X[7], &X[8], &X[9]);\n",
        "\n",
        "  for (int i = 10-1; i >= 0; i--){\n",
        "    Y[9-i] = X[i];\n",
        "  }\n",
        "\n",
        "  for (int i = 0; i < 10; i++){\n",
        "    printf(\"%c\",Y[i]);\n",
        "  }\n",
        "\n",
        "  return 0;\n",
        "}"
      ]
    },
    {
      "cell_type": "code",
      "execution_count": null,
      "metadata": {
        "colab": {
          "base_uri": "https://localhost:8080/"
        },
        "id": "8YD39ty_aEWj",
        "outputId": "aa323af4-bc64-4fa7-a559-77486c2a6c4a"
      },
      "outputs": [
        {
          "name": "stdout",
          "output_type": "stream",
          "text": [
            "HELLOWORLD\n",
            "DLROWOLLEH"
          ]
        },
        {
          "data": {
            "text/plain": []
          },
          "execution_count": 93,
          "metadata": {},
          "output_type": "execute_result"
        }
      ],
      "source": [
        "# 파일 실행(불러오기)\n",
        "%%shell\n",
        "gcc week9_2-7.c -o bout\n",
        "./bout"
      ]
    },
    {
      "cell_type": "markdown",
      "metadata": {
        "id": "BioJRlAfQoQW"
      },
      "source": [
        "\n",
        "\n",
        "---\n",
        "\n"
      ]
    },
    {
      "cell_type": "markdown",
      "metadata": {
        "id": "BwIt0YYXQpHM"
      },
      "source": [
        "**3. 배열 활용(2)**"
      ]
    },
    {
      "cell_type": "markdown",
      "metadata": {
        "id": "bqbnr9KVQp48"
      },
      "source": [
        "**예제**\n",
        "\n",
        "10개의 정수를 입력 받아,  \n",
        "다음과 같이 배열에 저장하고 출력하기\n",
        "- 음수는 배열의 왼쪽부터 저장\n",
        "- 양수는 배열의 오른쪽부터 저장\n",
        "- 단, 0은 입력되지 않고, 양수와 음수의 개수는 주어지지 않음"
      ]
    },
    {
      "cell_type": "code",
      "execution_count": null,
      "metadata": {
        "colab": {
          "base_uri": "https://localhost:8080/"
        },
        "id": "bAKFHzbPQqVl",
        "outputId": "d6f499ba-bd5e-4bdc-c9ce-1d7748791e99"
      },
      "outputs": [
        {
          "name": "stdout",
          "output_type": "stream",
          "text": [
            "Overwriting week9_3-1.c\n"
          ]
        }
      ],
      "source": [
        "# 파일 작성\n",
        "%%writefile week9_3-1.c\n",
        "\n",
        "#include<stdio.h>\n",
        "\n",
        "int main(){\n",
        "\n",
        "  int X[10],Y[10];\n",
        "  scanf(\"%d %d %d %d %d %d %d %d %d %d\", &X[0], &X[1], &X[2], &X[3], &X[4], &X[5], &X[6], &X[7], &X[8], &X[9]);\n",
        "\n",
        "  int m = 0, p = 9;\n",
        "  for (int i = 0; i < 10; i++){\n",
        "    if (X[i] < 0){\n",
        "      Y[m] = X[i];\n",
        "      m += 1;\n",
        "    }\n",
        "    else{\n",
        "      Y[p] = X[i];\n",
        "      p -= 1;\n",
        "    }\n",
        "  }\n",
        "\n",
        "  printf(\"%d %d %d %d %d %d %d %d %d %d\", Y[0], Y[1], Y[2], Y[3], Y[4], Y[5], Y[6], Y[7], Y[8], Y[9]);\n",
        "\n",
        "  return 0;\n",
        "}"
      ]
    },
    {
      "cell_type": "code",
      "execution_count": null,
      "metadata": {
        "colab": {
          "base_uri": "https://localhost:8080/"
        },
        "id": "ZBGgHVTffv9l",
        "outputId": "7134a05e-1378-45b0-8745-28ebf54d689f"
      },
      "outputs": [
        {
          "name": "stdout",
          "output_type": "stream",
          "text": [
            "7 2 -2 4 -4 5 -3 8 7 -8\n",
            "-2 -4 -3 -8 7 8 5 4 2 7"
          ]
        },
        {
          "data": {
            "text/plain": []
          },
          "execution_count": 97,
          "metadata": {},
          "output_type": "execute_result"
        }
      ],
      "source": [
        "# 파일 실행(불러오기)\n",
        "%%shell\n",
        "gcc week9_3-1.c -o bout\n",
        "./bout"
      ]
    },
    {
      "cell_type": "markdown",
      "metadata": {
        "id": "IgDbOg0einin"
      },
      "source": [
        "**예제**\n",
        "\n",
        "9개의 영어 소문자를 입력 받아 배열에 저장하고,  \n",
        "입력 문자 순서대로 각 문자가 나타난 횟수 출력"
      ]
    },
    {
      "cell_type": "code",
      "execution_count": null,
      "metadata": {
        "colab": {
          "base_uri": "https://localhost:8080/"
        },
        "id": "9vtxYaRcioDD",
        "outputId": "334056e1-1236-4729-edbe-fbfb30d0ae4f"
      },
      "outputs": [
        {
          "name": "stdout",
          "output_type": "stream",
          "text": [
            "Overwriting week9_3-2.c\n"
          ]
        }
      ],
      "source": [
        "# 파일 작성\n",
        "%%writefile week9_3-2.c\n",
        "\n",
        "#include<stdio.h>\n",
        "\n",
        "int main(){\n",
        "\n",
        "  char s[9];\n",
        "\n",
        "  printf(\"문자 9개를 입력하시오. : \");\n",
        "  for (int i = 0; i < 9; i++)\n",
        "    scanf(\"%c\", &s[i]);\n",
        "\n",
        "  printf(\"문자 출력 횟수 : \\n\");\n",
        "  int cnt;\n",
        "  for (int i = 0; i < 9; i++){\n",
        "    cnt = 0;\n",
        "    for (int j = 0; j < 9; j++){\n",
        "      if (s[i] == s[j]) cnt += 1;\n",
        "    }\n",
        "    printf(\"%c : %d \", s[i], cnt);\n",
        "  }\n",
        "\n",
        "  return 0;\n",
        "}"
      ]
    },
    {
      "cell_type": "code",
      "execution_count": null,
      "metadata": {
        "colab": {
          "base_uri": "https://localhost:8080/"
        },
        "id": "1U2J18ifiocz",
        "outputId": "34afcbd3-4904-4894-f6e2-21151027c6b0"
      },
      "outputs": [
        {
          "name": "stdout",
          "output_type": "stream",
          "text": [
            "문자 9개를 입력하시오. : levelfive\n",
            "문자 출력 횟수 : \n",
            "l : 2 e : 3 v : 2 e : 3 l : 2 f : 1 i : 1 v : 2 e : 3 "
          ]
        },
        {
          "data": {
            "text/plain": []
          },
          "execution_count": 101,
          "metadata": {},
          "output_type": "execute_result"
        }
      ],
      "source": [
        "# 파일 실행(불러오기)\n",
        "%%shell\n",
        "gcc week9_3-2.c -o bout\n",
        "./bout"
      ]
    },
    {
      "cell_type": "markdown",
      "metadata": {
        "id": "yxGubuKWitln"
      },
      "source": [
        "**☆★ 예제 ★☆**\n",
        "\n",
        "9개의 영어 소문자를 입력 받아 배열에 저장하고,  \n",
        "중복된 문자를 제외하고 입력 순서대로 출력"
      ]
    },
    {
      "cell_type": "code",
      "execution_count": null,
      "metadata": {
        "colab": {
          "base_uri": "https://localhost:8080/"
        },
        "id": "Y_iyHdAmiu_0",
        "outputId": "16b6a458-a948-42ee-929d-78def9649858"
      },
      "outputs": [
        {
          "name": "stdout",
          "output_type": "stream",
          "text": [
            "Writing week9_3-3.c\n"
          ]
        }
      ],
      "source": [
        "# 파일 작성\n",
        "%%writefile week9_3-3.c\n",
        "\n",
        "#include<stdio.h>\n",
        "\n",
        "int main(){\n",
        "\n",
        "  char s[9];\n",
        "\n",
        "  printf(\"문자 9개를 입력하시오. : \");\n",
        "  for (int i = 0; i < 9; i++)\n",
        "    scanf(\"%c\", &s[i]);\n",
        "\n",
        "  int j;\n",
        "  for (int i = 0; i < 9; i++){\n",
        "    j = 0;\n",
        "    while (j < i && s[j] != s[i]) j++;\n",
        "    if (j == i) printf(\"%c\", s[i]);   // 처음 나타나는 문자\n",
        "  }\n",
        "\n",
        "  return 0;\n",
        "}"
      ]
    },
    {
      "cell_type": "code",
      "execution_count": null,
      "metadata": {
        "colab": {
          "base_uri": "https://localhost:8080/"
        },
        "id": "1v22_ntmivV8",
        "outputId": "70063f42-fd5a-4538-edc9-d2ef808872c5"
      },
      "outputs": [
        {
          "name": "stdout",
          "output_type": "stream",
          "text": [
            "문자 9개를 입력하시오. : levelfive\n",
            "levfi"
          ]
        },
        {
          "data": {
            "text/plain": []
          },
          "execution_count": 103,
          "metadata": {},
          "output_type": "execute_result"
        }
      ],
      "source": [
        "# 파일 실행(불러오기)\n",
        "%%shell\n",
        "gcc week9_3-3.c -o bout\n",
        "./bout"
      ]
    },
    {
      "cell_type": "markdown",
      "metadata": {
        "id": "70aM-9sYi-NE"
      },
      "source": [
        "**예제**\n",
        "\n",
        "0 ~ 5 사이의 정수를 10개 입력 받아 배열 x(크기 10)에 저장하고,  \n",
        "각 수가 몇 개인지를 나타내는 배열 cnt(크기 6)를 구한 후,  \n",
        "cnt에 저장된 값 출력하기"
      ]
    },
    {
      "cell_type": "code",
      "execution_count": null,
      "metadata": {
        "colab": {
          "base_uri": "https://localhost:8080/"
        },
        "id": "n0n987ANi-mx",
        "outputId": "03286bdf-23b3-4d04-ea2a-61abb4d783c7"
      },
      "outputs": [
        {
          "name": "stdout",
          "output_type": "stream",
          "text": [
            "Overwriting week9_3-4.c\n"
          ]
        }
      ],
      "source": [
        "# 파일 작성\n",
        "%%writefile week9_3-4.c\n",
        "\n",
        "#include<stdio.h>\n",
        "\n",
        "int main(){\n",
        "\n",
        "  int x[10];\n",
        "\n",
        "  for (int i = 0; i < 10; i++)\n",
        "    scanf(\"%d\", &x[i]);\n",
        "\n",
        "  int cnt[6] = {0};\n",
        "  for (int i = 0; i < 6; i++){\n",
        "    for (int j = 0; j < 10; j++){\n",
        "        if (x[j] == i) cnt[i] += 1;\n",
        "  }}\n",
        "\n",
        "  for (int i = 0; i < 6; i++)\n",
        "    printf(\"%d \", cnt[i]);\n",
        "\n",
        "  return 0;\n",
        "}"
      ]
    },
    {
      "cell_type": "code",
      "execution_count": null,
      "metadata": {
        "colab": {
          "base_uri": "https://localhost:8080/"
        },
        "id": "Zx8Z3llZi-72",
        "outputId": "7d82cfc6-a066-4e4c-bfba-7ea3a2b4168f"
      },
      "outputs": [
        {
          "name": "stdout",
          "output_type": "stream",
          "text": [
            "2 4 2 5 2 1 5 5 0 2\n",
            "1 1 4 0 1 3 "
          ]
        },
        {
          "data": {
            "text/plain": []
          },
          "execution_count": 112,
          "metadata": {},
          "output_type": "execute_result"
        }
      ],
      "source": [
        "# 파일 실행(불러오기)\n",
        "%%shell\n",
        "gcc week9_3-4.c -o bout\n",
        "./bout"
      ]
    },
    {
      "cell_type": "markdown",
      "metadata": {
        "id": "XXmxUFD1jDHk"
      },
      "source": [
        "**예제**\n",
        "\n",
        "10개의 문자를 입력 받아 배열 X에 저장하고,  \n",
        "배열에서 특정 위치(첨자)의 문자를 제거(삭제)한 후,   \n",
        "배열 출력\n"
      ]
    },
    {
      "cell_type": "code",
      "execution_count": null,
      "metadata": {
        "colab": {
          "base_uri": "https://localhost:8080/"
        },
        "id": "hZ3soi7OjEam",
        "outputId": "c5162956-d94d-449a-a2d2-2fe5f57fe13d"
      },
      "outputs": [
        {
          "name": "stdout",
          "output_type": "stream",
          "text": [
            "Writing week9_3-5.c\n"
          ]
        }
      ],
      "source": [
        "# 파일 작성\n",
        "%%writefile week9_3-5.c\n",
        "\n",
        "#include<stdio.h>\n",
        "\n",
        "int main(){\n",
        "\n",
        "  char X[10];\n",
        "  printf(\"문자 10개를 입력 : \");\n",
        "  for (int i = 0; i < 10; i++)\n",
        "    scanf(\"%c\", &X[i]);\n",
        "\n",
        "  int pos;\n",
        "  printf(\"0 ~ 9 사이의 위치 입력 : \");\n",
        "  scanf(\"%d\", &pos);\n",
        "\n",
        "  for (int i = pos; i < 9; i++)\n",
        "    X[i] = X[i+1];\n",
        "\n",
        "  printf(\"결과 출력 : \");\n",
        "  for (int i = 0; i < 9; i++)\n",
        "    printf(\"%c\", X[i]);\n",
        "\n",
        "  return 0;\n",
        "}"
      ]
    },
    {
      "cell_type": "code",
      "execution_count": null,
      "metadata": {
        "colab": {
          "base_uri": "https://localhost:8080/"
        },
        "id": "QQjLCHSzjE3s",
        "outputId": "5a5b518e-7a58-4a5c-f950-85194a2b1454"
      },
      "outputs": [
        {
          "name": "stdout",
          "output_type": "stream",
          "text": [
            "문자 10개를 입력 : HELLOWORLD\n",
            "0 ~ 9 사이의 위치 입력 : 5\n",
            "결과 출력 : HELLOORLD"
          ]
        },
        {
          "data": {
            "text/plain": []
          },
          "execution_count": 114,
          "metadata": {},
          "output_type": "execute_result"
        }
      ],
      "source": [
        "# 파일 실행(불러오기)\n",
        "%%shell\n",
        "gcc week9_3-5.c -o bout\n",
        "./bout"
      ]
    },
    {
      "cell_type": "markdown",
      "metadata": {
        "id": "4Sx0142IjJ5Y"
      },
      "source": [
        "예제\n",
        "\n",
        "10개의 문자를 입력 받아 배열 X에 저장하고,  \n",
        "배열의 특정 위치에 공백을 추가한 후,  \n",
        "배열 출력"
      ]
    },
    {
      "cell_type": "code",
      "execution_count": null,
      "metadata": {
        "colab": {
          "base_uri": "https://localhost:8080/"
        },
        "id": "EHfwXqwzjLTj",
        "outputId": "373af3a3-ef3e-4b1c-9607-a9bfd86011a8"
      },
      "outputs": [
        {
          "name": "stdout",
          "output_type": "stream",
          "text": [
            "Writing week9_3-6.c\n"
          ]
        }
      ],
      "source": [
        "# 파일 작성\n",
        "%%writefile week9_3-6.c\n",
        "\n",
        "#include<stdio.h>\n",
        "\n",
        "int main(){\n",
        "\n",
        "  char X[11];   // 공백 추가 위함\n",
        "  printf(\"문자 10개를 입력 : \");\n",
        "  for (int i = 0; i < 10; i++)\n",
        "    scanf(\"%c\", &X[i]);\n",
        "\n",
        "  int pos;\n",
        "  printf(\"0 ~ 9 사이의 위치 입력 : \");\n",
        "  scanf(\"%d\", &pos);\n",
        "\n",
        "  for (int i = 10; i > pos; i--)\n",
        "    X[i] = X[i-1];\n",
        "  X[pos] = ' ';\n",
        "\n",
        "  printf(\"결과 출력 : \");\n",
        "  for (int i = 0; i < 11; i++)\n",
        "    printf(\"%c\", X[i]);\n",
        "\n",
        "  return 0;\n",
        "}"
      ]
    },
    {
      "cell_type": "code",
      "execution_count": null,
      "metadata": {
        "colab": {
          "base_uri": "https://localhost:8080/"
        },
        "id": "okhN-KIWjLxy",
        "outputId": "6fa43e6f-48bb-4864-8148-85e35b6e97e1"
      },
      "outputs": [
        {
          "name": "stdout",
          "output_type": "stream",
          "text": [
            "문자 10개를 입력 : HELLOWORLD\n",
            "0 ~ 9 사이의 위치 입력 : 5\n",
            "결과 출력 : HELLO WORLD"
          ]
        },
        {
          "data": {
            "text/plain": []
          },
          "execution_count": 116,
          "metadata": {},
          "output_type": "execute_result"
        }
      ],
      "source": [
        "# 파일 실행(불러오기)\n",
        "%%shell\n",
        "gcc week9_3-6.c -o bout\n",
        "./bout"
      ]
    },
    {
      "cell_type": "markdown",
      "metadata": {
        "id": "dXUg5wh42Q0M"
      },
      "source": [
        "\n",
        "\n",
        "---\n",
        "\n"
      ]
    },
    {
      "cell_type": "markdown",
      "metadata": {
        "id": "5n3hQDfp2MTk"
      },
      "source": [
        "**프활C 실습문제09-01**\n",
        "\n",
        "정수 n을 입력 받고 n명 학생의 국어 영어 수학 점수를 입력 받습니다.  \n",
        "최고 점수 학생의 총점을 출력하세요.  \n",
        "(단, n은 3이상 10이하의 정수입니다.)\n"
      ]
    },
    {
      "cell_type": "code",
      "execution_count": null,
      "metadata": {
        "colab": {
          "base_uri": "https://localhost:8080/"
        },
        "id": "ngKXn3XY2Ul5",
        "outputId": "691fb409-26a6-4eb9-f29d-651c4312e7a5"
      },
      "outputs": [
        {
          "name": "stdout",
          "output_type": "stream",
          "text": [
            "Overwriting week9_ex1.c\n"
          ]
        }
      ],
      "source": [
        "# 파일 작성\n",
        "%%writefile week9_ex1.c\n",
        "\n",
        "#include<stdio.h>\n",
        "\n",
        "int main(){\n",
        "\n",
        "  int n;\n",
        "  scanf(\"%d\",&n);\n",
        "\n",
        "  int arr[n];\n",
        "  int kor, eng, mat;\n",
        "\n",
        "  for (int i=0; i<n; i++){\n",
        "    scanf(\"%d %d %d\",&kor,&eng,&mat);\n",
        "    arr[i] = kor+eng+mat;\n",
        "  }\n",
        "\n",
        "  int max=0;\n",
        "  for (int i=0; i<n; i++){\n",
        "    if (max < arr[i])\n",
        "      max = arr[i];\n",
        "  }\n",
        "  printf(\"%d\",max);\n",
        "\n",
        "  return 0;\n",
        "}"
      ]
    },
    {
      "cell_type": "code",
      "execution_count": null,
      "metadata": {
        "colab": {
          "base_uri": "https://localhost:8080/"
        },
        "id": "RamN_O3n2U5O",
        "outputId": "6ff40e2a-a3e7-4078-8757-07b2ac76dabc"
      },
      "outputs": [
        {
          "name": "stdout",
          "output_type": "stream",
          "text": [
            "5\n",
            "98 54 67\n",
            "84 66 87\n",
            "63 44 81\n",
            "84 66 69\n",
            "47 88 90\n",
            "237"
          ]
        },
        {
          "data": {
            "text/plain": []
          },
          "execution_count": 13,
          "metadata": {},
          "output_type": "execute_result"
        }
      ],
      "source": [
        "# 파일 실행(불러오기)\n",
        "%%shell\n",
        "gcc week9_ex1.c -o bout\n",
        "./bout"
      ]
    },
    {
      "cell_type": "markdown",
      "metadata": {
        "id": "8ClbVTka4-5l"
      },
      "source": [
        "**☆★프활C 실습문제09-02★☆**\n",
        "\n",
        "20보다 작은 정수 n을 입력 받고 n개의 문자를 입력 받아 거꾸로 출력하세요."
      ]
    },
    {
      "cell_type": "code",
      "execution_count": null,
      "metadata": {
        "colab": {
          "base_uri": "https://localhost:8080/"
        },
        "id": "34AXQZYO5EGq",
        "outputId": "4394c5d6-b0f2-421d-f056-88bcabdbcac6"
      },
      "outputs": [
        {
          "name": "stdout",
          "output_type": "stream",
          "text": [
            "Overwriting week9_ex2.c\n"
          ]
        }
      ],
      "source": [
        "# 파일 작성\n",
        "%%writefile week9_ex2.c\n",
        "\n",
        "#include<stdio.h>\n",
        "\n",
        "int main(){\n",
        "\n",
        "  int n;\n",
        "  scanf(\"%d\",&n);\n",
        "\n",
        "  char X[n],Y[n];\n",
        "  int i;\n",
        "\n",
        "  for(i=-1 ; i < n ; ++i)\n",
        "    scanf(\"%c\",&X[i]);\n",
        "\n",
        "  for(i=0 ; i<n ; ++i)\n",
        "    Y[i] = X[n-1-i];\n",
        "\n",
        "  for (i=0; i<n; ++i)\n",
        "    printf(\"%c\", Y[i]);\n",
        "\n",
        "  return 0;\n",
        "}"
      ]
    },
    {
      "cell_type": "code",
      "execution_count": null,
      "metadata": {
        "colab": {
          "base_uri": "https://localhost:8080/"
        },
        "id": "5d2-UxTP5H_F",
        "outputId": "bda74bc6-c7b7-4106-c5fd-b73fb5a454f7"
      },
      "outputs": [
        {
          "name": "stdout",
          "output_type": "stream",
          "text": [
            "4\n",
            "abcd\n",
            "dcba"
          ]
        },
        {
          "data": {
            "text/plain": []
          },
          "execution_count": 67,
          "metadata": {},
          "output_type": "execute_result"
        }
      ],
      "source": [
        "# 파일 실행(불러오기)\n",
        "%%shell\n",
        "gcc week9_ex2.c -o bout\n",
        "./bout"
      ]
    },
    {
      "cell_type": "markdown",
      "metadata": {
        "id": "zG0k0wY3EI02"
      },
      "source": [
        "**↪ 조교님 풀이 !!!**"
      ]
    },
    {
      "cell_type": "code",
      "execution_count": null,
      "metadata": {
        "id": "v4WYZ1UMEIWf"
      },
      "outputs": [],
      "source": [
        "#include<stdio.h>\n",
        "\n",
        "int main(){\n",
        "\n",
        "  int n;\n",
        "  scanf(\"%d\",&n);\n",
        "  getchar();\n",
        "\n",
        "  char str[20]; // n은 20이하의 정수라고 했기 때문\n",
        "\n",
        "  for(int i=0 ; i < n ; i++)\n",
        "    scanf(\"%c\",&str[i]);\n",
        "\n",
        "  for (int i=n-1; i>=0; i--)\n",
        "    printf(\"%c\", str[i]);\n",
        "\n",
        "  return 0;\n",
        "}"
      ]
    },
    {
      "cell_type": "markdown",
      "metadata": {
        "id": "89J7k7QC-Z-b"
      },
      "source": [
        "**프활C 실습문제09-03**\n",
        "\n",
        "피보나치의 수열은 S(n) = S(n-1) + S(n-2)의 성질을 띈다.  \n",
        "S(0) = 0, S(1) = 1 일 때, 입력 n을 입력 받고 S(n)을 출력하세요.  \n",
        "단, n은 30보다 작습니다. (0, 1, 1, 2, 3, 5, 8, 13, …)"
      ]
    },
    {
      "cell_type": "code",
      "execution_count": null,
      "metadata": {
        "colab": {
          "base_uri": "https://localhost:8080/"
        },
        "id": "YrRHlSn6-g7s",
        "outputId": "70dc162e-46d4-48f0-d7b5-5495a94ed14b"
      },
      "outputs": [
        {
          "name": "stdout",
          "output_type": "stream",
          "text": [
            "Writing week9_ex3.c\n"
          ]
        }
      ],
      "source": [
        "# 파일 작성\n",
        "%%writefile week9_ex3.c\n",
        "\n",
        "#include<stdio.h>\n",
        "\n",
        "int main(){\n",
        "\n",
        "  int n;\n",
        "  scanf(\"%d\",&n);\n",
        "\n",
        "  int s[n];\n",
        "  s[0] = 0;\n",
        "  s[1] = 1;\n",
        "  for (int i = 2 ; i <= n ; i++)\n",
        "    s[i] = s[i-1] + s[i-2];\n",
        "\n",
        "  printf(\"%d\",s[n]);\n",
        "\n",
        "  return 0;\n",
        "}"
      ]
    },
    {
      "cell_type": "code",
      "execution_count": null,
      "metadata": {
        "colab": {
          "base_uri": "https://localhost:8080/"
        },
        "id": "3sOKUSmg-l0H",
        "outputId": "3e01bbb0-7eba-4ebe-dcef-ac021dbb5c23"
      },
      "outputs": [
        {
          "name": "stdout",
          "output_type": "stream",
          "text": [
            "25\n",
            "75025"
          ]
        },
        {
          "data": {
            "text/plain": []
          },
          "execution_count": 53,
          "metadata": {},
          "output_type": "execute_result"
        }
      ],
      "source": [
        "# 파일 실행(불러오기)\n",
        "%%shell\n",
        "gcc week9_ex3.c -o bout\n",
        "./bout"
      ]
    },
    {
      "cell_type": "markdown",
      "metadata": {
        "id": "ezDSgetPHOR1"
      },
      "source": [
        "\n",
        "\n",
        "---\n",
        "\n"
      ]
    },
    {
      "cell_type": "markdown",
      "metadata": {
        "id": "aZzvIVZcCuxz"
      },
      "source": [
        "**프활C 실습퀴즈09-01**\n",
        "\n",
        "정수 n을 입력 받고 n명 학생의 국어 영어 수학 점수를 입력 받습니다.  \n",
        "최저 점수 학생의 총점을 출력하세요.  \n",
        "(단, n은 3이상 10이하의 정수입니다.)  "
      ]
    },
    {
      "cell_type": "code",
      "execution_count": null,
      "metadata": {
        "colab": {
          "base_uri": "https://localhost:8080/"
        },
        "id": "xgCJExaRC4a_",
        "outputId": "12a09a3e-08da-4988-e692-7cec91126093"
      },
      "outputs": [
        {
          "name": "stdout",
          "output_type": "stream",
          "text": [
            "Writing week9_q1.c\n"
          ]
        }
      ],
      "source": [
        "# 파일 작성\n",
        "%%writefile week9_q1.c\n",
        "\n",
        "#include<stdio.h>\n",
        "\n",
        "int main(){\n",
        "\n",
        "  int n;\n",
        "  scanf(\"%d\",&n);\n",
        "\n",
        "  int arr[n];\n",
        "  int kor, eng, mat;\n",
        "\n",
        "  for (int i=0; i<n; i++){\n",
        "    scanf(\"%d %d %d\",&kor,&eng,&mat);\n",
        "    arr[i] = kor+eng+mat;\n",
        "  }\n",
        "\n",
        "  int min=300;\n",
        "  for (int i=0; i<n; i++){\n",
        "    if (min > arr[i])\n",
        "      min = arr[i];\n",
        "  }\n",
        "  printf(\"%d\",min);\n",
        "\n",
        "  return 0;\n",
        "}"
      ]
    },
    {
      "cell_type": "code",
      "execution_count": null,
      "metadata": {
        "colab": {
          "base_uri": "https://localhost:8080/"
        },
        "id": "2hihirXkC9fI",
        "outputId": "004e9d09-9b4a-4f21-b323-a001dc8b774c"
      },
      "outputs": [
        {
          "name": "stdout",
          "output_type": "stream",
          "text": [
            "3\n",
            "88 81 92\n",
            "89 83 90\n",
            "84 97 78\n",
            "259"
          ]
        },
        {
          "data": {
            "text/plain": []
          },
          "execution_count": 69,
          "metadata": {},
          "output_type": "execute_result"
        }
      ],
      "source": [
        "# 파일 실행(불러오기)\n",
        "%%shell\n",
        "gcc week9_q1.c -o bout\n",
        "./bout"
      ]
    },
    {
      "cell_type": "markdown",
      "metadata": {
        "id": "m3_y2u8TDsvh"
      },
      "source": [
        "**☆★프활C 실습퀴즈09-02★☆**\n",
        "\n",
        "20보다 작은 정수 n을 입력 받고 n개의 문자를 입력 받습니다.  \n",
        "문자들을 거꾸로 해도 같은 단어인 회문이라면, Palindrome을 출력하고,  \n",
        "아니라면 Not Palindrome을 출력하세요.  \n",
        "(단 문자는 모두 소문자 알파벳입니다.)"
      ]
    },
    {
      "cell_type": "code",
      "execution_count": null,
      "metadata": {
        "colab": {
          "base_uri": "https://localhost:8080/"
        },
        "id": "lukoUM3SDzVK",
        "outputId": "a7d8f7c4-e012-4de4-e81a-02a00dfca4c4"
      },
      "outputs": [
        {
          "name": "stdout",
          "output_type": "stream",
          "text": [
            "Overwriting week9_q2.c\n"
          ]
        }
      ],
      "source": [
        "# 파일 작성\n",
        "%%writefile week9_q2.c\n",
        "\n",
        "#include<stdio.h>\n",
        "\n",
        "int main(){\n",
        "\n",
        "  int n;\n",
        "  scanf(\"%d\",&n);\n",
        "  getchar();\n",
        "\n",
        "  char str[n], rts[n]; // n은 20이하의 정수라고 했기 때문\n",
        "\n",
        "  for(int i=0 ; i < n ; i++)\n",
        "    scanf(\"%c\",&str[i]);\n",
        "\n",
        "  for (int i=n-1; i>=0; i--)\n",
        "    rts[n-1-i] = str[i];\n",
        "\n",
        "  int p = 0;\n",
        "  for (int i=0 ; i <n ; i++)\n",
        "    if (rts[i] == str[i])\n",
        "      p++;\n",
        "\n",
        "  if (p == n)\n",
        "    printf(\"Palindrome\");\n",
        "  else\n",
        "    printf(\"Not Palindrome\");\n",
        "\n",
        "  return 0;\n",
        "}"
      ]
    },
    {
      "cell_type": "code",
      "execution_count": null,
      "metadata": {
        "colab": {
          "base_uri": "https://localhost:8080/"
        },
        "id": "RA5K6CyeGLNx",
        "outputId": "1dcdfc58-fa94-4265-9da8-bf6400552ab7"
      },
      "outputs": [
        {
          "name": "stdout",
          "output_type": "stream",
          "text": [
            "5\n",
            "level\n",
            "Palindrome"
          ]
        },
        {
          "data": {
            "text/plain": []
          },
          "execution_count": 78,
          "metadata": {},
          "output_type": "execute_result"
        }
      ],
      "source": [
        "# 파일 실행(불러오기)\n",
        "%%shell\n",
        "gcc week9_q2.c -o bout\n",
        "./bout"
      ]
    },
    {
      "cell_type": "markdown",
      "metadata": {
        "id": "j7i3yzh6sUR_"
      },
      "source": [
        "#**3차 과제**"
      ]
    },
    {
      "cell_type": "markdown",
      "metadata": {
        "id": "xYHyejx7sgXF"
      },
      "source": [
        "**1.** 세종이는 어린 막내 동생 세둥이로부터 '음식점에서 쓰는 기계(키오스크)를 만들어달라'는 부탁을 받았다.  \n",
        "평소 세종이의 코딩하는 모습을 멋있게 보던 세둥이가 친구들과의 소꿉놀이에서 세종이처럼 멋있어 보이고 싶어 한 부탁인 것이다.  \n",
        "세종이는 고민 끝에 세둥이와 친구들의 눈높이에 맞춰 간단한 주문 프로그램을 만들어주기로 했다.  \n",
        "작동 방식은 아래와 같다.\n",
        "\n",
        "  1) 10보다 작은 n을 입력받는다. n은 메뉴의 갯수이다.  \n",
        "  2) n개만큼의 메뉴의 가격을 입력받는다. 입력받는 순서는 그대로 메뉴의 번호(단, 1부터 시작)가 된다.  \n",
        "  3) 구매하려는 메뉴의 번호들을 입력받아 해당 메뉴의 가격들을 전부 더하여 결제해야 하는 금액을 출력한다. (더 이상 주문하고 싶은 메뉴가 없으면 없는 메뉴 번호인 0을 입력하여 주문을 끝낸다.)\n"
      ]
    },
    {
      "cell_type": "code",
      "execution_count": null,
      "metadata": {
        "colab": {
          "base_uri": "https://localhost:8080/"
        },
        "id": "e1wWBK4Es7Zo",
        "outputId": "493c1743-63b6-4342-83e0-4715cea7cfd9"
      },
      "outputs": [
        {
          "name": "stdout",
          "output_type": "stream",
          "text": [
            "Overwriting hw3_1.c\n"
          ]
        }
      ],
      "source": [
        "# 파일 작성\n",
        "%%writefile hw3_1.c\n",
        "\n",
        "#include<stdio.h>\n",
        "\n",
        "void main()\n",
        "{\n",
        "  int n;\n",
        "  scanf(\"%d\", &n);\n",
        "\n",
        "  int price[n];\n",
        "  for (int i = 0; i < n; i++)\n",
        "    scanf(\"%d\", &price[i]);\n",
        "\n",
        "  int total = 0;\n",
        "  int j = 1;\n",
        "  while (j != 0)\n",
        "  {\n",
        "    scanf(\"%d\",&j);\n",
        "    if (j != 0)\n",
        "      total += price[j-1];\n",
        "  }\n",
        "\n",
        "  printf(\"price : %d\",total);\n",
        "}"
      ]
    },
    {
      "cell_type": "code",
      "execution_count": null,
      "metadata": {
        "colab": {
          "base_uri": "https://localhost:8080/"
        },
        "id": "0TQvtU56uwy4",
        "outputId": "65d1ae0e-6c8a-4940-8427-7cfc91b9f408"
      },
      "outputs": [
        {
          "name": "stdout",
          "output_type": "stream",
          "text": [
            "8\n",
            "2900\n",
            "5200\n",
            "3500\n",
            "4100\n",
            "6000\n",
            "2400\n",
            "3800\n",
            "4500\n",
            "1 8 4 3 0\n",
            "price : 15000"
          ]
        },
        {
          "data": {
            "text/plain": []
          },
          "execution_count": 34,
          "metadata": {},
          "output_type": "execute_result"
        }
      ],
      "source": [
        "# 파일 실행(불러오기)\n",
        "%%shell\n",
        "gcc hw3_1.c -o bout\n",
        "./bout"
      ]
    },
    {
      "cell_type": "markdown",
      "metadata": {
        "id": "9wH0ZtPgxSAD"
      },
      "source": [
        "**왜 안풀려 ㅠㅠㅠ**"
      ]
    },
    {
      "cell_type": "markdown",
      "metadata": {
        "id": "9KqOx9ChxUPa"
      },
      "source": [
        "\n",
        "\n",
        "---\n",
        "\n"
      ]
    },
    {
      "cell_type": "markdown",
      "metadata": {
        "id": "AG6ZXJeKxU1i"
      },
      "source": [
        "**2.** 정수 5개와 정수 n을 입력받는다.  \n",
        "각 정수에 해당하는 순서의 알파벳 소문자로 구성된 문자 배열을 만들고 n번 반복하여 한칸씩 좌측으로 밀어내며 출력한다.  \n",
        "(입력받는 정수 5개는 1이상 26이하이며 중복되는 수는 없다고 한다. n은 10이하의 정수이다.)"
      ]
    },
    {
      "cell_type": "code",
      "execution_count": null,
      "metadata": {
        "colab": {
          "base_uri": "https://localhost:8080/"
        },
        "id": "quvrUPsxxcll",
        "outputId": "c3cf4bd1-93bb-4e48-f336-82b2e14dddf2"
      },
      "outputs": [
        {
          "name": "stdout",
          "output_type": "stream",
          "text": [
            "Overwriting hw3_2.c\n"
          ]
        }
      ],
      "source": [
        "# 파일 작성\n",
        "%%writefile hw3_2.c\n",
        "\n",
        "#include<stdio.h>\n",
        "\n",
        "void main()\n",
        "{\n",
        "  char chlist[15];\n",
        "  int n;\n",
        "  for (int i = 0; i < 5; i++)\n",
        "  {\n",
        "    int c;\n",
        "    scanf(\"%d\",&c);\n",
        "    chlist[i] = (char)('a' + c - 1);\n",
        "    chlist[i+5] = (char)('a' + c - 1);\n",
        "    chlist[i+10] = (char)('a' + c - 1);\n",
        "  }\n",
        "  scanf(\"%d\",&n);\n",
        "\n",
        "  for(int i = 0; i < n; i++)\n",
        "  {\n",
        "    printf(\"%c%c%c%c%c\\n\", chlist[i],chlist[i+1],chlist[i+2],chlist[i+3],chlist[i+4]);\n",
        "  }\n",
        "}"
      ]
    },
    {
      "cell_type": "code",
      "execution_count": null,
      "metadata": {
        "colab": {
          "base_uri": "https://localhost:8080/"
        },
        "id": "qIHSoQKHziUY",
        "outputId": "a6b0aef8-421b-4dd0-95d2-9d8d31413d67"
      },
      "outputs": [
        {
          "name": "stdout",
          "output_type": "stream",
          "text": [
            "26 14 11 3 8\n",
            "7\n",
            "znkch\n",
            "nkchz\n",
            "kchzn\n",
            "chznk\n",
            "hznkc\n",
            "znkch\n",
            "nkchz\n"
          ]
        },
        {
          "data": {
            "text/plain": []
          },
          "execution_count": 106,
          "metadata": {},
          "output_type": "execute_result"
        }
      ],
      "source": [
        "# 파일 실행(불러오기)\n",
        "%%shell\n",
        "gcc hw3_2.c -o bout\n",
        "./bout"
      ]
    },
    {
      "cell_type": "markdown",
      "metadata": {
        "id": "NfxEpUBG42qj"
      },
      "source": [
        "\n",
        "\n",
        "---\n",
        "\n"
      ]
    },
    {
      "cell_type": "markdown",
      "metadata": {
        "id": "uD6svU124yox"
      },
      "source": [
        "**3.** 양의 정수를 입력 받고 예시에 맞게 *을 출력하세요.  \n",
        "(단, □은 공백입니다. □가 없는 경우 공백을 작성하시면 안됩니다. 공백 및 한줄 띄기가 틀린 경우 오답처리됩니다.)"
      ]
    },
    {
      "cell_type": "code",
      "execution_count": null,
      "metadata": {
        "colab": {
          "base_uri": "https://localhost:8080/"
        },
        "id": "MZGK0JBi40cF",
        "outputId": "550c82e5-1c71-49af-de57-1b2fea207128"
      },
      "outputs": [
        {
          "name": "stdout",
          "output_type": "stream",
          "text": [
            "Overwriting hw3_3.c\n"
          ]
        }
      ],
      "source": [
        "# 파일 작성\n",
        "%%writefile hw3_3.c\n",
        "\n",
        "#include<stdio.h>\n",
        "\n",
        "int main(){\n",
        "\n",
        "  int n;\n",
        "  scanf(\"%d\",&n);\n",
        "\n",
        "  for (int i = 1; i < n; i++)\n",
        "  {\n",
        "    for (int j = n-i ; j > 0 ; j--)\n",
        "      printf(\" \");\n",
        "    for (int j = 0; j < 2*i-1; j++)\n",
        "      printf(\"*\");\n",
        "    printf(\"\\n\");\n",
        "  }\n",
        "\n",
        "  for (int i = 0; i < 2*n-1 ; i++)\n",
        "    printf(\"*\");\n",
        "  printf(\"\\n\");\n",
        "\n",
        "  for (int i = n-1; i > 0; i--)\n",
        "  {\n",
        "    for (int j = n-i ; j > 0 ; j--)\n",
        "      printf(\" \");\n",
        "    for (int j = 0; j < 2*i-1; j++)\n",
        "      printf(\"*\");\n",
        "    printf(\"\\n\");\n",
        "  }\n",
        "\n",
        "  return 0;\n",
        "}"
      ]
    },
    {
      "cell_type": "code",
      "execution_count": null,
      "metadata": {
        "colab": {
          "base_uri": "https://localhost:8080/"
        },
        "id": "MR1DtYcQ40xL",
        "outputId": "21f507d5-def2-45b7-95d8-53b0e90f2d21"
      },
      "outputs": [
        {
          "name": "stdout",
          "output_type": "stream",
          "text": [
            "6\n",
            "     *\n",
            "    ***\n",
            "   *****\n",
            "  *******\n",
            " *********\n",
            "***********\n",
            " *********\n",
            "  *******\n",
            "   *****\n",
            "    ***\n",
            "     *\n"
          ]
        },
        {
          "data": {
            "text/plain": []
          },
          "execution_count": 16,
          "metadata": {},
          "output_type": "execute_result"
        }
      ],
      "source": [
        "# 파일 실행(불러오기)\n",
        "%%shell\n",
        "gcc hw3_3.c -o bout\n",
        "./bout"
      ]
    },
    {
      "cell_type": "markdown",
      "metadata": {
        "id": "NcKAhtHiLoBV"
      },
      "source": [
        "# **10주차.** 함수(1)"
      ]
    },
    {
      "cell_type": "markdown",
      "metadata": {
        "id": "xcC75dmvbSbD"
      },
      "source": [
        "**1. 함수**"
      ]
    },
    {
      "cell_type": "markdown",
      "metadata": {
        "id": "rzKhDot1dMn1"
      },
      "source": [
        "- C언어에서 함수\n",
        "  - 어떤 특정한 일을 수행하는 독립적인 단위\n",
        "  - 함수의 예 : printf(), scanf(), main()\n",
        "  - 함수는 함수 정의부와 함수 호출부로 구성\n",
        "    - 함수 정의부 : 함수를 구현하는 부분(즉, 마술상자 내부 구현)\n",
        "      ↳ 예 : main() 함수 구현\n",
        "    - 함수 호출부 : 함수의 기능을 이용하는 부분(즉, 마술상자 이용)\n",
        "      ↳ 예 : printf() 함수 호출\n",
        "\n",
        "- 함수 정의\n",
        "  - 함수가 수행해야 할 기능 설명\n",
        "  - 구문\n",
        "    ```\n",
        "    반환형 함수이름 (인자선언1, 인자선언2, ...)\n",
        "    {\n",
        "      함수의 수행코드\n",
        "      return 문;   ⇨ 필요 시\n",
        "    }\n",
        "    ```\n",
        "\n",
        "- 함수 정의 요소\n",
        "  1. 함수 이름\n",
        "    - 함수 이름 규칙은 변수명 규칙과 동일(식별자)\n",
        "    - 의미 있는 이름 사용 권장\n",
        "  2. 함수 인자 or 매개 변수(parameter)\n",
        "    - 함수의 입력 데이터를 나타내는 변수들\n",
        "    - 인자가 다수인 경우 콤마(,)로 구분\n",
        "    - 인자가 없더라도 소괄호는 반드시 필요\n",
        "  3. 반환형(return type)\n",
        "    - 함수가 수행된 후에 **반환하는 결과의 자료형**\n",
        "    - 아무 결과도 반환하지 않으면 자료형에 void를 씀\n",
        "  ※ 함수 이름, 함수 인자, 반환형은 함수의 형태 명세 ⇒ 함수 헤더\n",
        "  4. 함수 몸체(body)\n",
        "    - 함수가 수행해야 할 작업을 {}안에 명세\n",
        "    - 함수는 제어 흐름에 따라 수행 : 맨 마지막 문장까지 수행 되거나 return 문을 만나면 종료\n",
        "    - return 문\n",
        "      - 함수를 종료하고 함수의 결과를 반환하는 역할\n",
        "      - 반환형이 void인 경우 보통 return 문 사용하지 않지만, 중간에 함수를 종료시키기 위해 쓰기도 함"
      ]
    },
    {
      "cell_type": "markdown",
      "metadata": {
        "id": "XTxg9VjFf62l"
      },
      "source": [
        "**예제**\n",
        "\n",
        "다음 조건을 만족하는 함수를 정의 하시오. (여기서 정의한 함수는 이후 예제에서 활됨)\n",
        "\n",
        "1. max() 함수\n",
        "  - 함수 이름 : max\n",
        "  - 인자 : int형 변수 a와 b\n",
        "  - 반환형 : int형\n",
        "  - a와 b 중 큰 값을 반환"
      ]
    },
    {
      "cell_type": "code",
      "execution_count": null,
      "metadata": {
        "colab": {
          "base_uri": "https://localhost:8080/"
        },
        "id": "6uW7SuJNbS8q",
        "outputId": "9d30432d-41a3-4269-f58f-79f4c9c1789d"
      },
      "outputs": [
        {
          "name": "stdout",
          "output_type": "stream",
          "text": [
            "Writing week10_1-1.c\n"
          ]
        }
      ],
      "source": [
        "# 파일 작성\n",
        "%%writefile week10_1-1.c\n",
        "\n",
        "#include<stdio.h>\n",
        "\n",
        "int max(int a, int b)\n",
        "{\n",
        "  if (a > b)\n",
        "    return a;\n",
        "  else\n",
        "    return b;\n",
        "}"
      ]
    },
    {
      "cell_type": "markdown",
      "metadata": {
        "id": "Rmsb-CiagyHE"
      },
      "source": [
        "**예제**\n",
        "\n",
        "다음 조건을 만족하는 함수를 정의 하시오. (여기서 정의한 함수는 이후 예제에서 활됨)\n",
        "\n",
        "2. print_characters() 함수\n",
        "  - 함수 이름 : print_characters\n",
        "  - 인자 : char형 변수 c와 int형 변수 n\n",
        "  - 반환형 : void\n",
        "  - 하나의 줄에 변수 c의 문자를 n개 출력"
      ]
    },
    {
      "cell_type": "code",
      "execution_count": null,
      "metadata": {
        "colab": {
          "base_uri": "https://localhost:8080/"
        },
        "id": "LNMOXhf0gsH8",
        "outputId": "2350a433-77ee-4e32-bc12-2db63eb6d902"
      },
      "outputs": [
        {
          "name": "stdout",
          "output_type": "stream",
          "text": [
            "Writing week10_1-2.c\n"
          ]
        }
      ],
      "source": [
        "# 파일 작성\n",
        "%%writefile week10_1-2.c\n",
        "\n",
        "#include<stdio.h>\n",
        "\n",
        "void print_characters(char c, int n)\n",
        "{\n",
        "  int i = 0;\n",
        "\n",
        "  for (i = 0; i < n; i++)\n",
        "  {\n",
        "    printf(\"%c\", c);\n",
        "  }\n",
        "  printf(\"\\n\");\n",
        "}"
      ]
    },
    {
      "cell_type": "markdown",
      "metadata": {
        "id": "2zmoxjahh1eB"
      },
      "source": [
        "**예제**\n",
        "\n",
        "다음 조건을 만족하는 함수를 정의 하시오. (여기서 정의한 함수는 이후 예제에서 활됨)\n",
        "\n",
        "3. divide 함수\n",
        "  - 함수 이름 : divide\n",
        "  - 인자 : int형 변수 a와 b\n",
        "  - 반환형 : double\n",
        "  - a를 b로 나눈 결과를 반환(단, 실수 연산을 해야 함)"
      ]
    },
    {
      "cell_type": "code",
      "execution_count": null,
      "metadata": {
        "colab": {
          "base_uri": "https://localhost:8080/"
        },
        "id": "_I6tuuuyiF9Q",
        "outputId": "e93469e6-df3d-4e1a-b99e-fb9b46160761"
      },
      "outputs": [
        {
          "name": "stdout",
          "output_type": "stream",
          "text": [
            "Writing week10_1-3.c\n"
          ]
        }
      ],
      "source": [
        "# 파일 작성\n",
        "%%writefile week10_1-3.c\n",
        "\n",
        "#include<stdio.h>\n",
        "\n",
        "double divide(int a, int b)\n",
        "{\n",
        "  return (double)a/b;\n",
        "}"
      ]
    },
    {
      "cell_type": "markdown",
      "metadata": {
        "id": "kB7MSltziUwU"
      },
      "source": [
        "**예제**\n",
        "\n",
        "다음 조건을 만족하는 함수를 정의 하시오. (여기서 정의한 함수는 이후 예제에서 활됨)\n",
        "\n",
        "4. add3 함수\n",
        "  - 함수 이름 : add3\n",
        "  - 인자 : double형 변수 a, b, c\n",
        "  - 반환형 : double\n",
        "  - a, b, c의 합을 반환"
      ]
    },
    {
      "cell_type": "code",
      "execution_count": null,
      "metadata": {
        "colab": {
          "base_uri": "https://localhost:8080/"
        },
        "id": "k-7z8YXxifkg",
        "outputId": "4a711543-4703-4cd9-8bd9-831b8a58a8bc"
      },
      "outputs": [
        {
          "name": "stdout",
          "output_type": "stream",
          "text": [
            "Writing week10_1-4.c\n"
          ]
        }
      ],
      "source": [
        "# 파일 작성\n",
        "%%writefile week10_1-4.c\n",
        "\n",
        "#include<stdio.h>\n",
        "\n",
        "double add3(double a, double b, double c)\n",
        "{\n",
        "  return(a+b+c);\n",
        "}"
      ]
    },
    {
      "cell_type": "markdown",
      "metadata": {
        "id": "4m6Lh8akirDA"
      },
      "source": [
        "**예제**\n",
        "\n",
        "다음 조건을 만족하는 함수를 정의 하시오. (여기서 정의한 함수는 이후 예제에서 활됨)\n",
        "\n",
        "5. atoA 함수\n",
        "  - 함수 이름 : atoA\n",
        "  - 인자 : char형 변수 ch\n",
        "  - 반환형 : char\n",
        "  - 소문자인 ch를 대문자로 변환하여 반환(인자 ch는 항상 소문자라고 가정)"
      ]
    },
    {
      "cell_type": "code",
      "execution_count": null,
      "metadata": {
        "colab": {
          "base_uri": "https://localhost:8080/"
        },
        "id": "brK_aU5Bi2cF",
        "outputId": "9953f377-c1ef-48fb-864f-89891ea47a61"
      },
      "outputs": [
        {
          "name": "stdout",
          "output_type": "stream",
          "text": [
            "Writing week10_1-5.c\n"
          ]
        }
      ],
      "source": [
        "# 파일 작성\n",
        "%%writefile week10_1-5.c\n",
        "\n",
        "#include<stdio.h>\n",
        "\n",
        "char atoA(char ch)\n",
        "{\n",
        "  return(ch - 32);\n",
        "}"
      ]
    },
    {
      "cell_type": "markdown",
      "metadata": {
        "id": "08Ytcro5jLdF"
      },
      "source": [
        "\n",
        "\n",
        "---\n",
        "\n"
      ]
    },
    {
      "cell_type": "markdown",
      "metadata": {
        "id": "XIw58R8xjMhf"
      },
      "source": [
        "**2. 함수 호출과 반환(1)**"
      ]
    },
    {
      "cell_type": "markdown",
      "metadata": {
        "id": "p6EwXOuwjRbZ"
      },
      "source": [
        "- 함수 호출(사용) 방법\n",
        "  - 함수 이름을 쓰고, 소괄호 안에 함수 인자에 넣을 값을 차례로 적음   \n",
        "    ↳ 예 : ```c = add(3,4)```\n",
        "\n",
        "- 함수 호출 과정\n",
        "  1. 함수 호출\n",
        "  2. 함수 수행\n",
        "  3. 함수 종료\n",
        "\n",
        "- 함수 호출 과정 확인\n",
        "  - 각 함수의 시작과 끝에 printf문을 삽입하여 함수 호출 시 제어 흐름과 값이 전달되는 과정을 확인"
      ]
    },
    {
      "cell_type": "markdown",
      "metadata": {
        "id": "NXtHNFm1kgfk"
      },
      "source": [
        "**예제**\n",
        "\n",
        "1절에서 했던 예제 함수를 이용하여 다음 프로그램을 작성하시오.\n",
        "\n",
        "1. 문자 'a'는 한 번, 문자 'b'는 두 번, ... 문자 'z'는 26번 출력\n",
        "  - 각 문자별 한 줄에 하나씩 출력\n",
        "  - print_charactuers 함수를 반복 호출"
      ]
    },
    {
      "cell_type": "code",
      "execution_count": null,
      "metadata": {
        "colab": {
          "base_uri": "https://localhost:8080/"
        },
        "id": "cKh_3kIbk269",
        "outputId": "9b21083b-5bb8-41b3-d904-416e2b1217fb"
      },
      "outputs": [
        {
          "name": "stdout",
          "output_type": "stream",
          "text": [
            "Overwriting week10_2-1.c\n"
          ]
        }
      ],
      "source": [
        "# 파일 작성\n",
        "%%writefile week10_2-1.c\n",
        "\n",
        "#include<stdio.h>\n",
        "\n",
        "void print_characters(char c, int n)\n",
        "{\n",
        "  int i = 0;\n",
        "\n",
        "  for (i = 0; i < n; i++)\n",
        "  {\n",
        "    printf(\"%c\", c);\n",
        "  }\n",
        "  printf(\"\\n\");\n",
        "}\n",
        "\n",
        "int main()\n",
        "{\n",
        "  int i = 0;\n",
        "  int n = 'z' - 'a' + 1;\n",
        "  char c = 'a';\n",
        "\n",
        "  for (i = 0; i < n; i++)\n",
        "  {\n",
        "    print_characters(c, i+1);\n",
        "    c += 1;\n",
        "  }\n",
        "\n",
        "  return 0;\n",
        "}"
      ]
    },
    {
      "cell_type": "code",
      "execution_count": null,
      "metadata": {
        "colab": {
          "base_uri": "https://localhost:8080/"
        },
        "id": "TIriZ5TXlgmi",
        "outputId": "3735453b-2698-43dc-aade-5b452b82f5b4"
      },
      "outputs": [
        {
          "name": "stdout",
          "output_type": "stream",
          "text": [
            "a\n",
            "bb\n",
            "ccc\n",
            "dddd\n",
            "eeeee\n",
            "ffffff\n",
            "ggggggg\n",
            "hhhhhhhh\n",
            "iiiiiiiii\n",
            "jjjjjjjjjj\n",
            "kkkkkkkkkkk\n",
            "llllllllllll\n",
            "mmmmmmmmmmmmm\n",
            "nnnnnnnnnnnnnn\n",
            "ooooooooooooooo\n",
            "pppppppppppppppp\n",
            "qqqqqqqqqqqqqqqqq\n",
            "rrrrrrrrrrrrrrrrrr\n",
            "sssssssssssssssssss\n",
            "tttttttttttttttttttt\n",
            "uuuuuuuuuuuuuuuuuuuuu\n",
            "vvvvvvvvvvvvvvvvvvvvvv\n",
            "wwwwwwwwwwwwwwwwwwwwwww\n",
            "xxxxxxxxxxxxxxxxxxxxxxxx\n",
            "yyyyyyyyyyyyyyyyyyyyyyyyy\n",
            "zzzzzzzzzzzzzzzzzzzzzzzzzz\n"
          ]
        },
        {
          "data": {
            "text/plain": []
          },
          "execution_count": 18,
          "metadata": {},
          "output_type": "execute_result"
        }
      ],
      "source": [
        "# 파일 실행(불러오기)\n",
        "%%shell\n",
        "gcc week10_2-1.c -o bout\n",
        "./bout"
      ]
    },
    {
      "cell_type": "markdown",
      "metadata": {
        "id": "qW7Fy6zHbUAp"
      },
      "source": [
        "\n",
        "\n",
        "---\n",
        "\n"
      ]
    },
    {
      "cell_type": "markdown",
      "metadata": {
        "id": "BNUH0B27lwcU"
      },
      "source": [
        "**3. 함수 호출과 반환(2)**"
      ]
    },
    {
      "cell_type": "markdown",
      "metadata": {
        "id": "CNyTxeQnlzlu"
      },
      "source": [
        "- 함수 원형 선언(함수 선언)\n",
        "  - 함수의 형태를 표현하는 함수 원형을 앞 부분에 선언\n",
        "  - 용어 '선언'과 '정의'를 혼동하지 말자\n",
        "  - 함수의 헤더와 동일한 형태를 가지는데, 마지막에 세미콜론 (;)을 붙여줌\n",
        "    ```\n",
        "    반환형 함수이름 ( 인자선언1, 인자선언2, ...) ;\n",
        "    ```\n",
        "  - 함수의 형태를 지정해 주는 것이므로, 인자 선언에서 변수명은 무시됨\n",
        "    - 인자 이름을 생략해도 되고, 심지어 함수 정의에 사용된 변수명과 다른 변수명 명시하는 것도 가능"
      ]
    },
    {
      "cell_type": "markdown",
      "metadata": {
        "id": "DSM5ng3EmtGp"
      },
      "source": [
        "**예제**\n",
        "\n",
        "1절에서 했던 예제 함수를 이용하여 다음 프로그램을 작성하시오.\n",
        "\n",
        "2. 4개의 정수 a, b, c, d를 입력 받아, 최댓값 출력  \n",
        "  1) a와 b 중 큰 값을 찾기 위해 max 함수 호출  \n",
        "  2) c와 d 중 큰 값을 찾기 위해 max 함수 호출  \n",
        "  3) 위 두 결과값 중 큰 값을 찾기 위해 max 함수 호출"
      ]
    },
    {
      "cell_type": "code",
      "execution_count": null,
      "metadata": {
        "colab": {
          "base_uri": "https://localhost:8080/"
        },
        "id": "FsEktlKgnCDu",
        "outputId": "f83b8b71-eb73-4278-c6f2-6a7a25faa2f2"
      },
      "outputs": [
        {
          "name": "stdout",
          "output_type": "stream",
          "text": [
            "Writing week10_3-1.c\n"
          ]
        }
      ],
      "source": [
        "# 파일 작성\n",
        "%%writefile week10_3-1.c\n",
        "\n",
        "#include<stdio.h>\n",
        "\n",
        "int max(int a, int b)\n",
        "{\n",
        "  if (a > b)\n",
        "    return a;\n",
        "  else\n",
        "    return b;\n",
        "}\n",
        "\n",
        "int main()\n",
        "{\n",
        "  int a, b, c, d;\n",
        "\n",
        "  printf(\"정수 4개를 입력하시오 : \");\n",
        "  scanf(\"%d %d %d %d\", &a, &b, &c, &d);\n",
        "  a = max(a,b);\n",
        "  c = max(c,d);\n",
        "  a = max(a,c);\n",
        "  printf(\"Max value : %d\\n\",a);\n",
        "\n",
        "  return 0;\n",
        "}"
      ]
    },
    {
      "cell_type": "code",
      "execution_count": null,
      "metadata": {
        "colab": {
          "base_uri": "https://localhost:8080/"
        },
        "id": "gX2yxkuznlUF",
        "outputId": "2d17db50-5ef3-4783-cf00-c680900dac34"
      },
      "outputs": [
        {
          "name": "stdout",
          "output_type": "stream",
          "text": [
            "정수 4개를 입력하시오 : 5 2 9 4\n",
            "Max value : 9\n"
          ]
        },
        {
          "data": {
            "text/plain": []
          },
          "execution_count": 20,
          "metadata": {},
          "output_type": "execute_result"
        }
      ],
      "source": [
        "# 파일 실행(불러오기)\n",
        "%%shell\n",
        "gcc week10_3-1.c -o bout\n",
        "./bout"
      ]
    },
    {
      "cell_type": "markdown",
      "metadata": {
        "id": "8vZaEVQTnxHW"
      },
      "source": [
        "**예제**\n",
        "\n",
        "1절에서 했던 예제 함수를 이용하여 다음 프로그램을 작성하시오.\n",
        "\n",
        "3. 영문자 10개를 입력 받아, 모두 대문자로 변환하여 출력\n",
        "  - 소문자를 대문자로 변환하기 위해 atoA 함수를 반복 호출"
      ]
    },
    {
      "cell_type": "code",
      "execution_count": null,
      "metadata": {
        "colab": {
          "base_uri": "https://localhost:8080/"
        },
        "id": "NqrUUd6Wn7wg",
        "outputId": "9c471a4d-cd46-4358-d4a3-82f4239decea"
      },
      "outputs": [
        {
          "name": "stdout",
          "output_type": "stream",
          "text": [
            "Overwriting week10_3-2.c\n"
          ]
        }
      ],
      "source": [
        "# 파일 작성\n",
        "%%writefile week10_3-2.c\n",
        "\n",
        "#include<stdio.h>\n",
        "\n",
        "char atoA(char ch)\n",
        "{\n",
        "  if (ch >= 'a' && ch <= 'z')   //소문자일 때,\n",
        "    return(ch - ('a' - 'A'));\n",
        "  else\n",
        "    return(ch);\n",
        "}\n",
        "\n",
        "int main()\n",
        "{\n",
        "  char tenC[10];\n",
        "  int i;\n",
        "\n",
        "  printf(\"문자 10개를 입력하시오 : \");\n",
        "  for (i = 0; i < 10; i++)\n",
        "  {\n",
        "    scanf(\"%c\", &tenC[i]);\n",
        "    printf(\"%c\", atoA(tenC[i]));\n",
        "  }\n",
        "  printf(\"\\n\");\n",
        "\n",
        "  return 0;\n",
        "}"
      ]
    },
    {
      "cell_type": "code",
      "execution_count": null,
      "metadata": {
        "colab": {
          "base_uri": "https://localhost:8080/"
        },
        "id": "lD5PwheIouM2",
        "outputId": "216831b2-3d6f-457d-b86b-69b90b0b149e"
      },
      "outputs": [
        {
          "name": "stdout",
          "output_type": "stream",
          "text": [
            "문자 10개를 입력하시오 : HelloWorLd\n",
            "HELLOWORLD\n"
          ]
        },
        {
          "data": {
            "text/plain": []
          },
          "execution_count": 24,
          "metadata": {},
          "output_type": "execute_result"
        }
      ],
      "source": [
        "# 파일 실행(불러오기)\n",
        "%%shell\n",
        "gcc week10_3-2.c -o bout\n",
        "./bout"
      ]
    },
    {
      "cell_type": "markdown",
      "metadata": {
        "id": "FJ9RsYbtpjtr"
      },
      "source": [
        "**예제**\n",
        "\n",
        "1절에서 했던 예제 함수를 이용하여 다음 프로그램을 작성하시오.\n",
        "\n",
        "4. 6개의 정수 a, b, c, d, e, f를 입력 받아, 다음 수식의 결과를 출력하시오.\n",
        "  - a/b + c/d + e/f (실수 연산 수행)\n",
        "  - 분수를 계산하기 위해 divide 함수 호출\n",
        "  - 덧셈을 계산하기 위해 add3 함수 호출"
      ]
    },
    {
      "cell_type": "code",
      "execution_count": null,
      "metadata": {
        "colab": {
          "base_uri": "https://localhost:8080/"
        },
        "id": "XYq4Yt8xp4Vl",
        "outputId": "e0ecf583-6bc8-451a-ec09-7268ed279b96"
      },
      "outputs": [
        {
          "name": "stdout",
          "output_type": "stream",
          "text": [
            "Writing week10_3-3.c\n"
          ]
        }
      ],
      "source": [
        "# 파일 작성\n",
        "%%writefile week10_3-3.c\n",
        "\n",
        "#include<stdio.h>\n",
        "\n",
        "double divide(int a, int b)\n",
        "{\n",
        "  return (double)a/b;\n",
        "}\n",
        "\n",
        "double add3(double a, double b, double c)\n",
        "{\n",
        "  return(a+b+c);\n",
        "}\n",
        "\n",
        "int main()\n",
        "{\n",
        "  int a, b, c, d, e, f;\n",
        "  double r1, r2, r3;\n",
        "\n",
        "  printf(\"정수 6개를 입력하시오 : \");\n",
        "  scanf(\"%d %d %d %d %d %d\", &a, &b, &c, &d, &e, &f);\n",
        "\n",
        "  r1 = divide(a,b);\n",
        "  r2 = divide(c,d);\n",
        "  r3 = divide(e,f);\n",
        "  r1 = add3(r1, r2, r3);\n",
        "\n",
        "  printf(\"%d/%d + %d/%d + %d/%d = %.2f\\n\", a, b, c, d, e, f, r1);\n",
        "\n",
        "  return 0;\n",
        "}"
      ]
    },
    {
      "cell_type": "code",
      "execution_count": null,
      "metadata": {
        "colab": {
          "base_uri": "https://localhost:8080/"
        },
        "id": "vI8MKPdIq_mY",
        "outputId": "d60f59c0-b520-4d3c-fb3a-ee43c120cc30"
      },
      "outputs": [
        {
          "name": "stdout",
          "output_type": "stream",
          "text": [
            "정수 6개를 입력하시오 : 5 2 9 4 6 4\n",
            "5/2 + 9/4 + 6/4 = 6.25\n"
          ]
        },
        {
          "data": {
            "text/plain": []
          },
          "execution_count": 26,
          "metadata": {},
          "output_type": "execute_result"
        }
      ],
      "source": [
        "# 파일 실행(불러오기)\n",
        "%%shell\n",
        "gcc week10_3-3.c -o bout\n",
        "./bout"
      ]
    },
    {
      "cell_type": "markdown",
      "metadata": {
        "id": "j_3h_Q13lukE"
      },
      "source": [
        "\n",
        "\n",
        "---\n",
        "\n"
      ]
    },
    {
      "cell_type": "markdown",
      "metadata": {
        "id": "cXIBHzBjbTbJ"
      },
      "source": [
        "**10주차 온라인 강의 퀴즈 - 2**"
      ]
    },
    {
      "cell_type": "code",
      "execution_count": null,
      "metadata": {
        "colab": {
          "base_uri": "https://localhost:8080/"
        },
        "id": "lpMoYeYqbpEa",
        "outputId": "fde60b86-ca12-4747-8087-9f7e184efe82"
      },
      "outputs": [
        {
          "name": "stdout",
          "output_type": "stream",
          "text": [
            "Writing week10_2.c\n"
          ]
        }
      ],
      "source": [
        "# 파일 작성\n",
        "%%writefile week10_2.c\n",
        "\n",
        "#include<stdio.h>\n",
        "\n",
        "int function(int x, int y){\n",
        "    return x-y;\n",
        "}\n",
        "\n",
        "int main(void) {\n",
        "    int x=3, y=5, z;\n",
        "    z = function(y, x);\n",
        "    printf(\"%d\", z);\n",
        "    return 0;\n",
        "}"
      ]
    },
    {
      "cell_type": "code",
      "execution_count": null,
      "metadata": {
        "colab": {
          "base_uri": "https://localhost:8080/"
        },
        "id": "3QNEqPGvcGPj",
        "outputId": "15932cb0-435b-43b1-8cdb-24eb5aa1e8d0"
      },
      "outputs": [
        {
          "name": "stdout",
          "output_type": "stream",
          "text": [
            "2"
          ]
        },
        {
          "data": {
            "text/plain": []
          },
          "execution_count": 2,
          "metadata": {},
          "output_type": "execute_result"
        }
      ],
      "source": [
        "# 파일 실행(불러오기)\n",
        "%%shell\n",
        "gcc week10_2.c -o bout\n",
        "./bout"
      ]
    },
    {
      "cell_type": "markdown",
      "metadata": {
        "id": "xZsGVDEbcS2v"
      },
      "source": [
        "**10주차 온라인 강의 퀴즈 - 3**"
      ]
    },
    {
      "cell_type": "code",
      "execution_count": null,
      "metadata": {
        "colab": {
          "base_uri": "https://localhost:8080/"
        },
        "id": "hnMxqwehcVbf",
        "outputId": "9c58e6e5-bad2-44ef-832e-c8b2ac24d554"
      },
      "outputs": [
        {
          "name": "stdout",
          "output_type": "stream",
          "text": [
            "Overwriting week10_3.c\n"
          ]
        }
      ],
      "source": [
        "# 파일 작성\n",
        "%%writefile week10_3.c\n",
        "\n",
        "#include<stdio.h>\n",
        "\n",
        "int max(int a, int b){\n",
        "    if(a > b) return a;\n",
        "    else return b;\n",
        "}\n",
        "\n",
        "int min(int a, int b){\n",
        "    if(a < b) return a;\n",
        "    else return b;\n",
        "}\n",
        "\n",
        "int main(void) {\n",
        "    int a=3, b=5, c=7, d=2;\n",
        "    a = max(a, b);\n",
        "    c = min(c, d);\n",
        "    a = max(a, c);\n",
        "    printf(\"%d%d\", a, c);\n",
        "    return 0;\n",
        "}"
      ]
    },
    {
      "cell_type": "code",
      "execution_count": null,
      "metadata": {
        "colab": {
          "base_uri": "https://localhost:8080/"
        },
        "id": "4yjbW0y2cbK5",
        "outputId": "4ed824e8-327b-4fd2-b37d-f55f34255a04"
      },
      "outputs": [
        {
          "name": "stdout",
          "output_type": "stream",
          "text": [
            "52"
          ]
        },
        {
          "data": {
            "text/plain": []
          },
          "execution_count": 8,
          "metadata": {},
          "output_type": "execute_result"
        }
      ],
      "source": [
        "# 파일 실행(불러오기)\n",
        "%%shell\n",
        "gcc week10_3.c -o bout\n",
        "./bout"
      ]
    },
    {
      "cell_type": "markdown",
      "metadata": {
        "id": "fUSPuk7LrQcE"
      },
      "source": [
        "\n",
        "\n",
        "---\n",
        "\n"
      ]
    },
    {
      "cell_type": "markdown",
      "metadata": {
        "id": "WmpXzlfRrU9Q"
      },
      "source": [
        "**프활C 실습문제10-01**\n",
        "\n",
        "정수 3개를 전달 받아 가장 큰 값을 반환하는 함수 MyMax를 작성하세요. 정수 3개를 입력 받고 MyMax함수를 통해 가장 큰 값을 출력하세요."
      ]
    },
    {
      "cell_type": "code",
      "execution_count": null,
      "metadata": {
        "colab": {
          "base_uri": "https://localhost:8080/"
        },
        "id": "fLUJajsErfva",
        "outputId": "23d961eb-dff8-42a7-8c4e-b2beef4fbdd2"
      },
      "outputs": [
        {
          "name": "stdout",
          "output_type": "stream",
          "text": [
            "Writing week10_ex1.c\n"
          ]
        }
      ],
      "source": [
        "# 파일 작성\n",
        "%%writefile week10_ex1.c\n",
        "\n",
        "#include<stdio.h>\n",
        "\n",
        "int MyMax(int a, int b, int c){\n",
        "  if (a > b)\n",
        "  {\n",
        "    if (a > c) return a;\n",
        "    else return c;\n",
        "  }\n",
        "\n",
        "  else\n",
        "  {\n",
        "    if (b > c) return b;\n",
        "    else return c;\n",
        "  }\n",
        "}\n",
        "\n",
        "int main(){\n",
        "  int a,b,c;\n",
        "  scanf(\"%d %d %d\",&a,&b,&c);\n",
        "\n",
        "  printf(\"%d\",MyMax(a,b,c));\n",
        "\n",
        "  return 0;\n",
        "}"
      ]
    },
    {
      "cell_type": "code",
      "execution_count": null,
      "metadata": {
        "colab": {
          "base_uri": "https://localhost:8080/"
        },
        "id": "0XX0_fOurgCv",
        "outputId": "a189f7c4-50f6-4459-918c-88d5061a3778"
      },
      "outputs": [
        {
          "name": "stdout",
          "output_type": "stream",
          "text": [
            "20 24 19\n",
            "24"
          ]
        },
        {
          "data": {
            "text/plain": []
          },
          "execution_count": 58,
          "metadata": {},
          "output_type": "execute_result"
        }
      ],
      "source": [
        "# 파일 실행(불러오기)\n",
        "%%shell\n",
        "gcc week10_ex1.c -o bout\n",
        "./bout"
      ]
    },
    {
      "cell_type": "markdown",
      "metadata": {
        "id": "qEM-agIirgfA"
      },
      "source": [
        "**프활C 실습문제10-02**\n",
        "\n",
        "문자 2개 c1, c2를 전달 받아 c1부터 c2까지 알파벳 순서를 대문자로 출력하는 MyPrintChar함수를 작성하세요.  \n",
        "\n",
        "문자 2개를 입력 받고 MyPrintChar함수를 통해 c1부터 c2까지 알파벳 대문자를 출력하세요. (단, c1은 c2보다 순서가 빠르고 두 문자는 대문자 알파벳입니다.)"
      ]
    },
    {
      "cell_type": "code",
      "execution_count": null,
      "metadata": {
        "colab": {
          "base_uri": "https://localhost:8080/"
        },
        "id": "XDYCFLIbrjFC",
        "outputId": "30c91f70-98fe-4eaa-ffd3-9840c8dc49da"
      },
      "outputs": [
        {
          "name": "stdout",
          "output_type": "stream",
          "text": [
            "Overwriting week10_ex2.c\n"
          ]
        }
      ],
      "source": [
        "# 파일 작성\n",
        "%%writefile week10_ex2.c\n",
        "\n",
        "#include<stdio.h>\n",
        "\n",
        "char MyPrintChar(char c1, char c2){\n",
        "  int n1 = c1;\n",
        "  int n2 = c2;\n",
        "  for (int i = 0; i <= (n2-n1); i++)\n",
        "    printf(\"%c\",c1+i);\n",
        "  return 0;\n",
        "}\n",
        "\n",
        "int main(){\n",
        "  char c1, c2;\n",
        "  scanf(\"%c %c\", &c1, &c2);\n",
        "\n",
        "  MyPrintChar(c1,c2);\n",
        "  return 0;\n",
        "}"
      ]
    },
    {
      "cell_type": "code",
      "execution_count": null,
      "metadata": {
        "colab": {
          "base_uri": "https://localhost:8080/"
        },
        "id": "0SZOGKJ2rjXy",
        "outputId": "e1aceb42-1791-47c6-a721-54ad9b52e970"
      },
      "outputs": [
        {
          "name": "stdout",
          "output_type": "stream",
          "text": [
            "I U\n",
            "IJKLMNOPQRSTU"
          ]
        },
        {
          "data": {
            "text/plain": []
          },
          "execution_count": 70,
          "metadata": {},
          "output_type": "execute_result"
        }
      ],
      "source": [
        "# 파일 실행(불러오기)\n",
        "%%shell\n",
        "gcc week10_ex2.c -o bout\n",
        "./bout"
      ]
    },
    {
      "cell_type": "markdown",
      "metadata": {
        "id": "UtHN_dw9rjuR"
      },
      "source": [
        "**프활C 실습문제10-03**\n",
        "\n",
        "실수 하나를 전달 받고 소수점 첫째자리를 반환하는 함수와 두 정수를 전달 받아 큰 값을 반환하는 함수를 작성하세요.\n",
        "\n",
        "양의 실수 a, b를 입력 받고 두 실수 중 소수점 첫째자리가 큰 소수의 소수점 첫째자리를 출력하세요."
      ]
    },
    {
      "cell_type": "code",
      "execution_count": null,
      "metadata": {
        "colab": {
          "base_uri": "https://localhost:8080/"
        },
        "id": "HwDAizVyrlQ6",
        "outputId": "dc63b7f3-a2d2-4d1d-af2a-460d42cebb5e"
      },
      "outputs": [
        {
          "name": "stdout",
          "output_type": "stream",
          "text": [
            "Writing week10_ex3.c\n"
          ]
        }
      ],
      "source": [
        "# 파일 작성\n",
        "%%writefile week10_ex3.c\n",
        "\n",
        "#include<stdio.h>\n",
        "\n",
        "int First(double a){\n",
        "  return(((int)(a*10))%10);\n",
        "}\n",
        "\n",
        "int Max(int a, int b){\n",
        "  if (a > b) return a;\n",
        "  else return b;\n",
        "}\n",
        "\n",
        "int main(){\n",
        "  double a, b;\n",
        "  scanf(\"%lf\",&a);\n",
        "  scanf(\"%lf\",&b);\n",
        "\n",
        "  a = First(a);\n",
        "  b = First(b);\n",
        "  printf(\"%d\",Max(a,b));\n",
        "  return 0;\n",
        "}"
      ]
    },
    {
      "cell_type": "code",
      "execution_count": null,
      "metadata": {
        "colab": {
          "base_uri": "https://localhost:8080/"
        },
        "id": "CtGD5kKFrlkv",
        "outputId": "b41bd108-c835-4f53-8afc-d2f8bfb1fffc"
      },
      "outputs": [
        {
          "name": "stdout",
          "output_type": "stream",
          "text": [
            "9.25\n",
            "10.54\n",
            "5"
          ]
        },
        {
          "data": {
            "text/plain": []
          },
          "execution_count": 73,
          "metadata": {},
          "output_type": "execute_result"
        }
      ],
      "source": [
        "# 파일 실행(불러오기)\n",
        "%%shell\n",
        "gcc week10_ex3.c -o bout\n",
        "./bout"
      ]
    },
    {
      "cell_type": "markdown",
      "metadata": {
        "id": "_fZ-js8-rl6O"
      },
      "source": [
        "\n",
        "\n",
        "---\n",
        "\n"
      ]
    },
    {
      "cell_type": "markdown",
      "metadata": {
        "id": "ZMZsxLzLrmqs"
      },
      "source": [
        "**프활C 실습퀴즈10-01**\n",
        "\n",
        "정수 3개를 전달 받아 가장 큰 값을 반환하는 함수 MyMax를 작성하세요. 정수 9개를 입력 받고 MyMax함수를 통해 가장 큰 값을 출력하세요."
      ]
    },
    {
      "cell_type": "code",
      "execution_count": null,
      "metadata": {
        "colab": {
          "base_uri": "https://localhost:8080/"
        },
        "id": "1CBLtWXKrsQI",
        "outputId": "73c771ef-0576-4afb-c9ee-585a5e23e2e6"
      },
      "outputs": [
        {
          "name": "stdout",
          "output_type": "stream",
          "text": [
            "Writing week10_q1.c\n"
          ]
        }
      ],
      "source": [
        "# 파일 작성\n",
        "%%writefile week10_q1.c\n",
        "\n",
        "#include<stdio.h>\n",
        "\n",
        "int MyMax(int a, int b, int c){\n",
        "  if (a > b)\n",
        "  {\n",
        "    if (a > c) return a;\n",
        "    else return c;\n",
        "  }\n",
        "\n",
        "  else\n",
        "  {\n",
        "    if (b > c) return b;\n",
        "    else return c;\n",
        "  }\n",
        "}\n",
        "\n",
        "void main(){     // void = return 값 없음!\n",
        "  int a,b,c;\n",
        "  scanf(\"%d %d %d\",&a,&b,&c);\n",
        "  a = MyMax(a,b,c);\n",
        "\n",
        "  int d,e,f;\n",
        "  scanf(\"%d %d %d\", &d,&e,&f);\n",
        "  b = MyMax(d,e,f);\n",
        "\n",
        "  int x,y,z;\n",
        "  scanf(\"%d %d %d\", &x,&y,&z);\n",
        "  c = MyMax(x,y,z);\n",
        "\n",
        "  printf(\"%d\",MyMax(a,b,c));\n",
        "}"
      ]
    },
    {
      "cell_type": "code",
      "execution_count": null,
      "metadata": {
        "colab": {
          "base_uri": "https://localhost:8080/"
        },
        "id": "X0xwDn7Frt-1",
        "outputId": "1b61ad9b-3fac-46a0-fb72-8052c0786243"
      },
      "outputs": [
        {
          "name": "stdout",
          "output_type": "stream",
          "text": [
            "88 81 92\n",
            "89 83 90\n",
            "84 97 78\n",
            "97"
          ]
        },
        {
          "data": {
            "text/plain": []
          },
          "execution_count": 75,
          "metadata": {},
          "output_type": "execute_result"
        }
      ],
      "source": [
        "# 파일 실행(불러오기)\n",
        "%%shell\n",
        "gcc week10_q1.c -o bout\n",
        "./bout"
      ]
    },
    {
      "cell_type": "markdown",
      "metadata": {
        "id": "NZ6X0nSIruRc"
      },
      "source": [
        "**프활C 실습퀴즈10-02**\n",
        "\n",
        "소문자 알파벳을 전달받으면 대문자 알파벳으로 반환하는 함수를 작성하세요.  \n",
        "10보다 작은 양의 정수 n을 입력 받고, 소문자 알파벳 n개를 입력 받고, 모두 대문자 알파벳으로 출력하세요."
      ]
    },
    {
      "cell_type": "code",
      "execution_count": null,
      "metadata": {
        "colab": {
          "base_uri": "https://localhost:8080/"
        },
        "id": "ClIgA16Brwvh",
        "outputId": "0bb6d327-8d31-42c3-d727-f72ff504e90a"
      },
      "outputs": [
        {
          "name": "stdout",
          "output_type": "stream",
          "text": [
            "Overwriting week10_q2.c\n"
          ]
        }
      ],
      "source": [
        "# 파일 작성\n",
        "%%writefile week10_q2.c\n",
        "\n",
        "#include<stdio.h>\n",
        "\n",
        "char atoA(char ch)\n",
        "{\n",
        "  if (ch >= 'a' && ch <= 'z')   //소문자일 때,\n",
        "    return(ch - ('a' - 'A'));\n",
        "  else\n",
        "    return(ch);\n",
        "}\n",
        "\n",
        "int main(){\n",
        "  int n;\n",
        "  scanf(\"%d\",&n);\n",
        "\n",
        "  char nchar[n];\n",
        "  for (int i = 0; i <= n; i++)\n",
        "  {\n",
        "    scanf(\"%c\", &nchar[i]);\n",
        "    printf(\"%c\", atoA(nchar[i]));\n",
        "  }\n",
        "\n",
        "}"
      ]
    },
    {
      "cell_type": "code",
      "execution_count": null,
      "metadata": {
        "colab": {
          "base_uri": "https://localhost:8080/"
        },
        "id": "OYOWqDgprxEZ",
        "outputId": "7646c28f-75a0-439e-aedd-e3c7246fa336"
      },
      "outputs": [
        {
          "name": "stdout",
          "output_type": "stream",
          "text": [
            "3\n",
            "\n",
            "drx\n",
            "DRX"
          ]
        },
        {
          "data": {
            "text/plain": []
          },
          "execution_count": 83,
          "metadata": {},
          "output_type": "execute_result"
        }
      ],
      "source": [
        "# 파일 실행(불러오기)\n",
        "%%shell\n",
        "gcc week10_q2.c -o bout\n",
        "./bout"
      ]
    },
    {
      "cell_type": "markdown",
      "metadata": {
        "id": "MPJHePBvrxV-"
      },
      "source": [
        "**프활C 실습퀴즈10-03**\n",
        "\n",
        "다음 코드는 Sejong University를 n번 출력하는 프로그램입니다.\n",
        "\n",
        "메인 함수를 수정하지 않고 함수를 작성하여 코드를 완성하세요.\n",
        "(메인함수 수정할 시 0점 처리)\n",
        "```\n",
        "int main(){\n",
        "\tint n;\n",
        "\tscanf(\"%d\", &n);\n",
        "\tprintSJU(n);\n",
        "\treturn 0;\n",
        "}\n",
        "```"
      ]
    },
    {
      "cell_type": "code",
      "execution_count": null,
      "metadata": {
        "colab": {
          "base_uri": "https://localhost:8080/"
        },
        "id": "D7bYNW3eryUF",
        "outputId": "6f491e3a-3337-4157-96e1-e0fb7b00ce87"
      },
      "outputs": [
        {
          "name": "stdout",
          "output_type": "stream",
          "text": [
            "Writing week10_q3.c\n"
          ]
        }
      ],
      "source": [
        "# 파일 작성\n",
        "%%writefile week10_q3.c\n",
        "\n",
        "#include<stdio.h>\n",
        "\n",
        "char printSJU(int n){\n",
        "  for (int i = 0; i < n; i++)\n",
        "    printf(\"Sejong University\\n\");\n",
        "}\n",
        "\n",
        "int main(){\n",
        "\tint n;\n",
        "\tscanf(\"%d\", &n);\n",
        "\tprintSJU(n);\n",
        "\treturn 0;\n",
        "}"
      ]
    },
    {
      "cell_type": "code",
      "execution_count": null,
      "metadata": {
        "colab": {
          "base_uri": "https://localhost:8080/"
        },
        "id": "jRvJSVwBryk5",
        "outputId": "426fa641-bcf7-4fbb-e675-a4764a6a7ea4"
      },
      "outputs": [
        {
          "name": "stdout",
          "output_type": "stream",
          "text": [
            "3\n",
            "Sejong University\n",
            "Sejong University\n",
            "Sejong University\n"
          ]
        },
        {
          "data": {
            "text/plain": []
          },
          "execution_count": 85,
          "metadata": {},
          "output_type": "execute_result"
        }
      ],
      "source": [
        "# 파일 실행(불러오기)\n",
        "%%shell\n",
        "gcc week10_q3.c -o bout\n",
        "./bout"
      ]
    },
    {
      "cell_type": "markdown",
      "metadata": {
        "id": "bgl18z5qLrCg"
      },
      "source": [
        "# **11주차.** 함수(2)"
      ]
    },
    {
      "cell_type": "markdown",
      "metadata": {
        "id": "tjXDRhh2I13x"
      },
      "source": [
        "**1. 함수와 변수 종류**"
      ]
    },
    {
      "cell_type": "markdown",
      "metadata": {
        "id": "hb55Hk_6zBXm"
      },
      "source": [
        "- 함수와 변수\n",
        "  - 함수는 특정한 일을 하는 독립된 단위\n",
        "  - 함수 기능 뿐만 아니라 함수에서 사용하는 변수에도 독립성이 적용  \n",
        "    ⇒ 함수에서 선언된 변수들은 그 함수에서만 유효\n",
        "  - 경우에 따라서 특정 함수에만 국한되지 않고, 함수와 무관하게 사용되는 변수가 필요\n",
        "\n",
        "- 변수의 종류  \n",
        "  : 지역변수, 전역변수, 정적변수\n",
        "\n",
        "- 지역 변수\n",
        "  - 선언 위치 : 함수 내에서 선언\n",
        "  - 유효 범위 : 변수를 선언한 함수 내에서만(지역적으로) 유효\n",
        "  - 함수 호출과 동시에 자동으로 생성되고 함수가 종료되면 자동으로 소멸되어 자동변수라고도 함\n",
        "  - 함수의 형식 인자도 지역변수임\n",
        "\n",
        "- 지역 변수의 독립성 : 함수 구현에 독립성을 부여\n",
        "\n",
        "- 전역 변수\n",
        "  - 선언 위치 : 함수 밖에서 선언\n",
        "  - 유효 범위 : 프로그램 내 어디서든 사용 가능\n",
        "  - 자동으로 0으로 초기화  \n",
        "    ⇒ But! 모든 변수는 명시적으로 초기화하는 습관을 가지자\n",
        "\n",
        "- 동일한 이름의 전역변수와 지역변수  \n",
        "  : 지역 변수가 우선 !\n",
        "\n",
        "- 전역 변수는 함수 사이의 데이터 전달을 위한 또 하나의 수단\n",
        "  : 전역 변수를 사용하면 함수 사이의 데이터 전달이 편리하나, 함수의 독립성을 해치므로 신중을 기해야 함"
      ]
    },
    {
      "cell_type": "markdown",
      "metadata": {
        "id": "LvqLjSOM1y8J"
      },
      "source": [
        "**예제**\n",
        "\n",
        "몫과 나머지 계산 프로그램 만들기\n",
        "- div() 함수\n",
        "  - 반환형은 int, 인자는 int형 변수 2개\n",
        "  - 인자 2개를 나눈 몫을 반환, 나머지는 전역변수에 저장\n",
        "- main() 함수\n",
        "  - 두 개의 정수를 입력 받고, div 함수를 호출하여 몫과 나머지 계산하여 한 줄에 출력"
      ]
    },
    {
      "cell_type": "code",
      "execution_count": null,
      "metadata": {
        "colab": {
          "base_uri": "https://localhost:8080/"
        },
        "id": "efdhmPWwzBxJ",
        "outputId": "c9de2556-befc-4d45-cc13-2b752c6a5d31"
      },
      "outputs": [
        {
          "name": "stdout",
          "output_type": "stream",
          "text": [
            "Overwriting week11_1-1.c\n"
          ]
        }
      ],
      "source": [
        "# 파일 작성\n",
        "%%writefile week11_1-1.c\n",
        "\n",
        "#include<stdio.h>\n",
        "\n",
        "int r = 0;   // 전역변수\n",
        "\n",
        "int div(int x, int y){\n",
        "  return(x/y);\n",
        "}\n",
        "\n",
        "int main(void) {\n",
        "    int a, b;\n",
        "\n",
        "    printf(\"두 개의 정수를 입력하시오. : \");\n",
        "    scanf(\"%d%d\", &a,&b);\n",
        "    printf(\"%d / %d : 몫 = %d, 나머지 = %d\\n\", a,b,div(a,b),a%b);\n",
        "\n",
        "    return 0;\n",
        "}"
      ]
    },
    {
      "cell_type": "code",
      "execution_count": null,
      "metadata": {
        "colab": {
          "base_uri": "https://localhost:8080/"
        },
        "id": "eANEK_NB3M59",
        "outputId": "b3de9903-b526-481f-e694-d41fcaa96518"
      },
      "outputs": [
        {
          "name": "stdout",
          "output_type": "stream",
          "text": [
            "두 개의 정수를 입력하시오. : 5 3\n",
            "5 / 3 : 몫 = 1, 나머지 = 2\n"
          ]
        },
        {
          "data": {
            "text/plain": []
          },
          "execution_count": 120,
          "metadata": {},
          "output_type": "execute_result"
        }
      ],
      "source": [
        "# 파일 실행(불러오기)\n",
        "%%shell\n",
        "gcc week11_1-1.c -o bout\n",
        "./bout"
      ]
    },
    {
      "cell_type": "markdown",
      "metadata": {
        "id": "LpAotqp83ro4"
      },
      "source": [
        "**예제**\n",
        "\n",
        "값 교환 프로그램 만들기\n",
        "- swap() 함수\n",
        "  - 반환형은 void형, 인자는 없음\n",
        "  - 전역변수 a와 b의 값을 교환(즉, 두 개의 변수 값 바꾸기)\n",
        "- main() 함수\n",
        "  - 두 개의 정수를 입력 받아 전역 변수 a와 b에 저장\n",
        "  - swap() 함수를 호출\n",
        "  - 교환된 두 전역 변수의 값 출력"
      ]
    },
    {
      "cell_type": "code",
      "execution_count": null,
      "metadata": {
        "colab": {
          "base_uri": "https://localhost:8080/"
        },
        "id": "9hFfIGap3sCd",
        "outputId": "e84c9d20-78d2-4560-ed92-b101a7427dbc"
      },
      "outputs": [
        {
          "name": "stdout",
          "output_type": "stream",
          "text": [
            "Overwriting week11_1-2.c\n"
          ]
        }
      ],
      "source": [
        "# 파일 작성\n",
        "%%writefile week11_1-2.c\n",
        "\n",
        "#include<stdio.h>\n",
        "\n",
        "int a, b;   // 전역변수\n",
        "\n",
        "void swap(){\n",
        "  int t;\n",
        "\n",
        "  t = a;\n",
        "  a = b;\n",
        "  b = t;\n",
        "}\n",
        "\n",
        "int main() {\n",
        "\n",
        "    printf(\"a 입력 : \");\n",
        "    scanf(\"%d\", &a);\n",
        "    printf(\"b 입력 : \");\n",
        "    scanf(\"%d\", &b);\n",
        "    swap();\n",
        "    printf(\"교환된 값 출력 : \\n\");\n",
        "    printf(\"a = %d \\n\", a);\n",
        "    printf(\"b = %d \\n\", b);\n",
        "\n",
        "    return 0;\n",
        "}"
      ]
    },
    {
      "cell_type": "code",
      "execution_count": null,
      "metadata": {
        "colab": {
          "base_uri": "https://localhost:8080/"
        },
        "id": "OQqU9ZAL3sYQ",
        "outputId": "6b32f4e4-d4d1-484e-aca8-6327b9afb8f5"
      },
      "outputs": [
        {
          "name": "stdout",
          "output_type": "stream",
          "text": [
            "a 입력 : 6\n",
            "b 입력 : 8\n",
            "교환된 값 출력 : \n",
            "a = 8 \n",
            "b = 6 \n"
          ]
        },
        {
          "data": {
            "text/plain": []
          },
          "execution_count": 124,
          "metadata": {},
          "output_type": "execute_result"
        }
      ],
      "source": [
        "# 파일 실행(불러오기)\n",
        "%%shell\n",
        "gcc week11_1-2.c -o bout\n",
        "./bout"
      ]
    },
    {
      "cell_type": "markdown",
      "metadata": {
        "id": "jj3v7jyg5RS5"
      },
      "source": [
        "- 변수의 지속시간\n",
        "  - 지역 변수 : 함수 호출 시 생성, 함수 종료 시 소멸\n",
        "  - 전역 변수 : 프로그램 실행 시 생성, 프로그램 종료 시 소멸\n",
        "  - static 키워드 사용 ⇒ 정적 변수 !\n",
        "    - 선언 위치와 유효 범위 : 지역 변수와 동일\n",
        "      - 함수내 선언\n",
        "      - 선언한 함수 내부에서만 사용 가능\n",
        "    - 지속 시간 : 전역 변수와 동일\n",
        "      - 프로그램 실행 전체 과정 동안 딱 한번만 생성되고 초기화\n",
        "\n",
        "- 함수와 관련된 변수 종류와 특징  \n",
        "\n",
        "||지역 변수|정적(지역) 변수|전역 변수|\n",
        "|:-:|:-:|:-:|:-:|\n",
        "|선언 위치|함수 내부|함수 내부|함수 외부|\n",
        "|사용 범위|선언한 함수 내부에서만 사용 가능|선언한 함수 내부에서만 사용 가능|프로그램 내 어디서든지 사용가능|\n",
        "|자동 초기화|X (사용자가 직접 초기화)|O (0으로 자동 초기화)|O (0으로 자동 초기화)|\n",
        "|지속 시간|함수 호출될 때마다 생성, <br> 해당 함수 종료 시 소멸|프로그램이 실행 동안 단 한번 생성, <br> 프로그램 종료 시 소멸|프로그램이 실행 동안 단 한번 생성, <br> 프로그램 종료 시 소멸|"
      ]
    },
    {
      "cell_type": "markdown",
      "metadata": {
        "id": "hh7FZmEBzCF1"
      },
      "source": [
        "\n",
        "\n",
        "---\n",
        "\n"
      ]
    },
    {
      "cell_type": "markdown",
      "metadata": {
        "id": "B_MLglV6zDBP"
      },
      "source": [
        "**2. 함수 배열 전달**"
      ]
    },
    {
      "cell_type": "markdown",
      "metadata": {
        "id": "5BOkSZMHzERw"
      },
      "source": [
        "- 배열의 개별 원소 전달  \n",
        "  : 함수의 인자에서 사용된 배열 원소는 일반 변수와 동일하게 취급됨\n",
        "\n",
        "- 배열 전체가 전달된 경우, 호출 함수에서 배열의 값을 바꾸면?  \n",
        "  : 원 함수의 배열 값도 바뀜\n",
        "\n",
        "- 배열 자체를 인자로 전달하기\n",
        "  - 배열 자체를 인자로 전달할 때는 일반 변수아 몇 가지 다른 점 존재  \n",
        "    : 형식 인자 형태, 배열 값 변경의 종속성\n",
        "  - 실제 함수 호출 과정은 일반 변수와 동일하나, 표면적으로 달라 보이는 것일 뿐\n",
        "  - 예외적으로 보이는 이유는 호출된 함수에서 배열의 값을 바꾸면 **호출한 함수의 배열도 변경되기 때문**"
      ]
    },
    {
      "cell_type": "markdown",
      "metadata": {
        "id": "Yue1vCZk8Ox3"
      },
      "source": [
        "- 라이브러리  \n",
        "  : 함수들을 구현해 모아 놓은 것 ⇒ 필요 시 함수를 호출하여 사용\n",
        "\n",
        "- 표준 라이브러리  \n",
        "  : C언어에서 정해놓은 표준 함수들로 구성 → `printf()`, `scanf()` 등\n",
        "\n",
        "- 라이브러리\n",
        "  - 함수의 형태와 기능만 알고 있으면 활용할 수 있음\n",
        "  - 어떻게 구현되어 있는 지는 몰라도 됨\n",
        "  - 다만, 호출하기 전에 함수 원형이 선언되어 있어야 함\n",
        "  - `printf()`, `scanf()` 함수의 원형 선언은 어디에 있을까?\n",
        "\n",
        "- 표준 함수와 헤더파일  \n",
        "  : 표준 함수를 사용하기 위해서는 적절한 헤더 파일을 #include 문을 이용해 소스 코드에 포함시켜야 함\n",
        "\n",
        "- 자주 사용되는 C 표준 헤더 파일 및 표준 함수\n",
        "\n",
        "|헤더파일|포함된 함수의 기능|표준 함수|\n",
        "|:-:|:-:|:-:|\n",
        "|stdio.h|입력, 출력, 파일|printf, scanf, putc, getc, fopen 등|\n",
        "|stdlib.h|숫자변환, 동적 할당|atoi, rand, srand, malloc, free 등|\n",
        "|ctype.h|문자 검사 및 변환|isalnum, isalpha, islower, toupper 등|\n",
        "|math.h|수학 함수|sin, asin, exp, log, pow, sqrt, abs 등|\n",
        "|time.h|시간 처리|clock, time, difftime 등|\n",
        "|string.h|문자열, 메모리 블록|strcpy, strcat, strcmp, strlen, memcpy 등|\n"
      ]
    },
    {
      "cell_type": "markdown",
      "metadata": {
        "id": "lGtfzlVczE_Y"
      },
      "source": [
        "\n",
        "\n",
        "---\n",
        "\n"
      ]
    },
    {
      "cell_type": "markdown",
      "metadata": {
        "id": "Wfq7ndUDzFsG"
      },
      "source": [
        "**3. 함수 활용 (재귀함수)**"
      ]
    },
    {
      "cell_type": "markdown",
      "metadata": {
        "id": "NukopKOgzHCe"
      },
      "source": [
        "- 재귀 함수\n",
        "  - 재귀적인(Recursive) 관계를 지닌 문제를 해결하기 위해 사용하는 함수\n",
        "  - 자기자신을 호출함\n",
        "\n",
        "- 재귀 함수 동작 과정  \n",
        "  : 재귀 호출에서 종료 조건이 없거나 잘못 지정되면 제대로 동작하지 않을 수 있어 주의가 필요함"
      ]
    },
    {
      "cell_type": "markdown",
      "metadata": {
        "id": "pZ0QLIJFCOE5"
      },
      "source": [
        "- 재귀 함수를 이용한 팩토리얼 코드\n",
        "  ```\n",
        "  #include <stdio.h>\n",
        "\n",
        "  int factorial(int n){\n",
        "    if (n ==0)\n",
        "      return 1;\n",
        "    else\n",
        "      return n * factorial(n-1);\n",
        "  }\n",
        "\n",
        "  int main(){\n",
        "    int n;\n",
        "    printf(\"양수를 입력하세요\");\n",
        "    scanf(\"%d\", &n);\n",
        "    printf(\"Factorial of %d is %d\", n, factorial(n));\n",
        "    return 0;\n",
        "  }\n",
        "  ```"
      ]
    },
    {
      "cell_type": "markdown",
      "metadata": {
        "id": "rIrY-3YmCQk3"
      },
      "source": [
        "- 피보나치 수열 코드\n",
        "  ```\n",
        "  int fib(int index)\n",
        "  {\n",
        "    if (index == 0)   // 첫 항\n",
        "      return 0;\n",
        "    else if (index == 1)   // 두 번째 항\n",
        "      return 1;\n",
        "    else   // 반복되는 호출\n",
        "      return fib(index - 1) + fib(index - 2);\n",
        "  }\n",
        "  ```"
      ]
    },
    {
      "cell_type": "markdown",
      "metadata": {
        "id": "RP5PX0u-I1k5"
      },
      "source": [
        "\n",
        "\n",
        "---\n",
        "\n"
      ]
    },
    {
      "cell_type": "markdown",
      "metadata": {
        "id": "IhnqorpLI1AF"
      },
      "source": [
        "**11주차 온라인 강의 퀴즈 - 3**"
      ]
    },
    {
      "cell_type": "code",
      "execution_count": null,
      "metadata": {
        "colab": {
          "base_uri": "https://localhost:8080/"
        },
        "id": "hlFbG56DI0le",
        "outputId": "0d8817bc-0810-48c3-ace3-e008aac44e62"
      },
      "outputs": [
        {
          "name": "stdout",
          "output_type": "stream",
          "text": [
            "Writing week11_3.c\n"
          ]
        }
      ],
      "source": [
        "# 파일 작성\n",
        "%%writefile week11_3.c\n",
        "\n",
        "#include<stdio.h>\n",
        "\n",
        "void func(int a, int b){\n",
        "    if(a == b){\n",
        "        printf(\"%d\", a);\n",
        "        return;\n",
        "    }\n",
        "    else {\n",
        "        printf(\"%d\", a);\n",
        "        func(a+1, b);\n",
        "        return;\n",
        "    }\n",
        "}\n",
        "\n",
        "\n",
        "int main(void) {\n",
        "    int a=1, b=5;\n",
        "    func(a, b);\n",
        "    return 0;\n",
        "}"
      ]
    },
    {
      "cell_type": "code",
      "execution_count": null,
      "metadata": {
        "colab": {
          "base_uri": "https://localhost:8080/"
        },
        "id": "lLUjw9afJMW9",
        "outputId": "a3c0ae15-dd07-4b66-9ea3-b4f8ade9bfd5"
      },
      "outputs": [
        {
          "name": "stdout",
          "output_type": "stream",
          "text": [
            "12345"
          ]
        },
        {
          "data": {
            "text/plain": []
          },
          "execution_count": 2,
          "metadata": {},
          "output_type": "execute_result"
        }
      ],
      "source": [
        "# 파일 실행(불러오기)\n",
        "%%shell\n",
        "gcc week11_3.c -o bout\n",
        "./bout"
      ]
    },
    {
      "cell_type": "markdown",
      "metadata": {
        "id": "zuCuZEsfqSby"
      },
      "source": [
        "\n",
        "\n",
        "---\n",
        "\n"
      ]
    },
    {
      "cell_type": "markdown",
      "metadata": {
        "id": "2JdHNA5hqTFY"
      },
      "source": [
        "**☆★프활C 실습문제11-01★☆**\n",
        "\n",
        "정수형 배열과 배열의 크기 n을 전달받아 최대 값을 반환하는 함수 getMax를 작성하세요.   \n",
        "정수 n을 입력 받고 n개의 학생들의 성적을 입력 받아 getMax함수를 통해 최대값을 출력하세요.  \n",
        "(단, n은 20보다 작습니다.)"
      ]
    },
    {
      "cell_type": "code",
      "execution_count": null,
      "metadata": {
        "colab": {
          "base_uri": "https://localhost:8080/"
        },
        "id": "OdUfLZ1Bqh53",
        "outputId": "651ff314-36ee-4da3-eb20-f12670d494e4"
      },
      "outputs": [
        {
          "name": "stdout",
          "output_type": "stream",
          "text": [
            "Writing week11_ex1.c\n"
          ]
        }
      ],
      "source": [
        "# 파일 작성\n",
        "%%writefile week11_ex1.c\n",
        "\n",
        "#include<stdio.h>\n",
        "\n",
        "int getMax(int arr[], int n){\n",
        "  int max = 0;\n",
        "  for (int i=0; i<n; i++){\n",
        "    if (max < arr[i])\n",
        "      max = arr[i];\n",
        "  }\n",
        "\n",
        "  return(max);\n",
        "}\n",
        "\n",
        "int main(){\n",
        "  int n, arr[20];\n",
        "  scanf(\"%d\",&n);\n",
        "\n",
        "  for (int i=0 ; i<n ; i++){\n",
        "    scanf(\"%d\", &arr[i]);\n",
        "  }\n",
        "\n",
        "  int result = getMax(arr,n);\n",
        "  printf(\"%d\", result);\n",
        "  return 0;\n",
        "}"
      ]
    },
    {
      "cell_type": "code",
      "execution_count": null,
      "metadata": {
        "colab": {
          "base_uri": "https://localhost:8080/"
        },
        "id": "X7xiE6SOqiNA",
        "outputId": "ede662cd-9ba8-423a-fa9b-94f0beb412e3"
      },
      "outputs": [
        {
          "name": "stdout",
          "output_type": "stream",
          "text": [
            "3\n",
            "95 66 85\n",
            "95"
          ]
        },
        {
          "data": {
            "text/plain": []
          },
          "execution_count": 2,
          "metadata": {},
          "output_type": "execute_result"
        }
      ],
      "source": [
        "# 파일 실행(불러오기)\n",
        "%%shell\n",
        "gcc week11_ex1.c -o bout\n",
        "./bout"
      ]
    },
    {
      "cell_type": "markdown",
      "metadata": {
        "id": "EI1Oty1mqicp"
      },
      "source": [
        "**프활C 실습문제11-02**\n",
        "\n",
        "정수 a를 입력 받고 a의 제곱근을 소수점 셋째자리까지 출력하세요.   \n",
        "(math.h 라이브러리를 추가하고 sqrt()함수를 사용합니다.   \n",
        "sqrt()함수는 부동소수를 전달하여 전달한 수의 제곱근을 부동소수로 반환합니다.)"
      ]
    },
    {
      "cell_type": "code",
      "execution_count": null,
      "metadata": {
        "colab": {
          "base_uri": "https://localhost:8080/"
        },
        "id": "OPUNmnS9qlCY",
        "outputId": "d2c9f925-4ba6-4021-9957-3c6e0e359b65"
      },
      "outputs": [
        {
          "name": "stdout",
          "output_type": "stream",
          "text": [
            "Writing week11_ex2.c\n"
          ]
        }
      ],
      "source": [
        "# 파일 작성\n",
        "%%writefile week11_ex2.c\n",
        "\n",
        "#include <stdio.h>\n",
        "#include <math.h>\n",
        "\n",
        "int main(){\n",
        "  int a;\n",
        "  scanf(\"%d\", &a);\n",
        "\n",
        "  double result;\n",
        "  result = sqrt((double)a);\n",
        "\n",
        "  printf(\"%.3f\",result);\n",
        "  return 0;\n",
        "}"
      ]
    },
    {
      "cell_type": "code",
      "execution_count": null,
      "metadata": {
        "colab": {
          "base_uri": "https://localhost:8080/"
        },
        "id": "GewiCI6eqlUp",
        "outputId": "5274028a-4f52-456e-e0ad-af512f588146"
      },
      "outputs": [
        {
          "name": "stdout",
          "output_type": "stream",
          "text": [
            "2\n",
            "1.414"
          ]
        },
        {
          "data": {
            "text/plain": []
          },
          "execution_count": 22,
          "metadata": {},
          "output_type": "execute_result"
        }
      ],
      "source": [
        "# 파일 실행(불러오기)\n",
        "%%shell\n",
        "gcc week11_ex2.c -o week11_ex2 -lm\n",
        "./week11_ex2"
      ]
    },
    {
      "cell_type": "markdown",
      "metadata": {
        "id": "1-68mMXVqllx"
      },
      "source": [
        "**프활C 실습문제11-03**\n",
        "\n",
        "정수 n을 전달 받아 n!의 결과를 반환하는 factorial 재귀함수를 작성하세요.  \n",
        "정수 n을 입력 받고 factorial함수를 통해 n!의 결과를 출력하세요.  \n",
        "(재귀함수 미사용시 0점 처리, 단 n은 13보다 작습니다.)"
      ]
    },
    {
      "cell_type": "code",
      "execution_count": null,
      "metadata": {
        "colab": {
          "base_uri": "https://localhost:8080/"
        },
        "id": "ZGy1KcTpqmrZ",
        "outputId": "164db1a3-a04e-4ab8-ad76-60e726192732"
      },
      "outputs": [
        {
          "name": "stdout",
          "output_type": "stream",
          "text": [
            "Writing week11_ex3.c\n"
          ]
        }
      ],
      "source": [
        "# 파일 작성\n",
        "%%writefile week11_ex3.c\n",
        "\n",
        "#include<stdio.h>\n",
        "\n",
        "int factorial(int n){\n",
        "  if (n==1) return 1;\n",
        "  else return n*factorial(n-1);\n",
        "}\n",
        "\n",
        "int main(){\n",
        "  int n;\n",
        "  scanf(\"%d\", &n);\n",
        "\n",
        "  int result = factorial(n);\n",
        "\n",
        "  printf(\"%d\", result);\n",
        "  return 0;\n",
        "}"
      ]
    },
    {
      "cell_type": "code",
      "execution_count": null,
      "metadata": {
        "colab": {
          "base_uri": "https://localhost:8080/"
        },
        "id": "xbBfm6lqqnAA",
        "outputId": "59f3af19-2022-4617-9d51-ace125f96462"
      },
      "outputs": [
        {
          "name": "stdout",
          "output_type": "stream",
          "text": [
            "5\n",
            "120"
          ]
        },
        {
          "data": {
            "text/plain": []
          },
          "execution_count": 16,
          "metadata": {},
          "output_type": "execute_result"
        }
      ],
      "source": [
        "# 파일 실행(불러오기)\n",
        "%%shell\n",
        "gcc week11_ex3.c -o bout\n",
        "./bout"
      ]
    },
    {
      "cell_type": "markdown",
      "metadata": {
        "id": "XTuhMwZMqnWZ"
      },
      "source": [
        "\n",
        "\n",
        "---\n",
        "\n"
      ]
    },
    {
      "cell_type": "markdown",
      "metadata": {
        "id": "uR4ah9l_qo3w"
      },
      "source": [
        "**★☆★프활C 실습퀴즈11-01★☆★**\n",
        "\n",
        "재홍이와 강섭이가 숫자 카드게임을 합니다.  \n",
        "재홍이와 강섭이는 1부터 9까지의 숫자카드를 순서대로 배열에 넣습니다.   \n",
        "순서에 맞춰 재홍이와 강섭이의 카드를 비교하여 큰 사람이 점수 1점을 획득합니다.  \n",
        "먼저 5점을 획득하거나 9장을 모두 확인했을 때, 점수가 큰 사람이 승리합니다.  \n",
        "\n",
        "먼저 재홍이가 배열에 넣은 숫자를 순서대로 입력 받습니다.  \n",
        "다음 강섭이가 배열에 넣은 숫자를 순서대로 입력 받습니다.  \n",
        "정수형 배열 2개와 배열의 크기 n을 전달받아 게임의 결과를 반환하는 함수를 작성하세요.   \n",
        "만든 함수를 통해 승자를 예시에 맞게 출력하세요.  \n",
        "\n",
        "(재홍이가 이겼을 경우 JH Win!을,   \n",
        "강섭이가 이겼을 경우 GS Win!을,  \n",
        "비겼을 경우 Draw!를 출력하세요.)  "
      ]
    },
    {
      "cell_type": "code",
      "execution_count": null,
      "metadata": {
        "colab": {
          "base_uri": "https://localhost:8080/"
        },
        "id": "WySNw6ZrqoHp",
        "outputId": "4c5cba8e-d186-4154-bce5-dc8f80d3aeff"
      },
      "outputs": [
        {
          "name": "stdout",
          "output_type": "stream",
          "text": [
            "Overwriting week11_q1.c\n"
          ]
        }
      ],
      "source": [
        "# 파일 작성\n",
        "%%writefile week11_q1.c\n",
        "\n",
        "#include<stdio.h>\n",
        "\n",
        "int result(int arr1[], int arr2[],int n){\n",
        "  int score1=0, score2=0;\n",
        "  int winner;\n",
        "  for (int i=0 ; i<n ; i++){\n",
        "    if (arr1[i] > arr2[i])\n",
        "      score1 += 1;\n",
        "    else if (arr1[i] < arr2[i])\n",
        "      score2 += 1;\n",
        "\n",
        "    if (score1 == 5){\n",
        "      winner = 1;\n",
        "      break;\n",
        "    }\n",
        "    if (score2 == 5){\n",
        "      winner = 2;\n",
        "      break;\n",
        "    }\n",
        "\n",
        "  if (score1 > score2) winner = 1;\n",
        "  else if (score1 < score2) winner = 2;\n",
        "  else winner = 0;\n",
        "  }\n",
        "  return winner;\n",
        "}\n",
        "\n",
        "int main(){\n",
        "\n",
        "  int n = 9;\n",
        "  int arr1[n], arr2[n];\n",
        "\n",
        "  for (int i=0 ; i<n ; i++){\n",
        "    scanf(\"%d\", &arr1[i]);\n",
        "  }\n",
        "\n",
        "  for (int i=0 ; i<n ; i++){\n",
        "    scanf(\"%d\", &arr2[i]);\n",
        "  }\n",
        "\n",
        "  int winner = result(arr1, arr2, n);\n",
        "  if (winner == 1) printf(\"JH Win!\");\n",
        "  else if (winner == 2) printf(\"GS Win!\");\n",
        "  else printf(\"Draw!\");\n",
        "\n",
        "  return 0;\n",
        "}"
      ]
    },
    {
      "cell_type": "code",
      "execution_count": null,
      "metadata": {
        "colab": {
          "base_uri": "https://localhost:8080/"
        },
        "id": "1Pq2S2P_qvE4",
        "outputId": "cb2e23f4-a5d7-47dc-ebc1-cca854e860dd"
      },
      "outputs": [
        {
          "name": "stdout",
          "output_type": "stream",
          "text": [
            "5 3 1 7 9 8 6 4 2\n",
            "1 2 3 4 5 6 7 8 9\n",
            "JH Win!"
          ]
        },
        {
          "data": {
            "text/plain": []
          },
          "execution_count": 41,
          "metadata": {},
          "output_type": "execute_result"
        }
      ],
      "source": [
        "# 파일 실행(불러오기)\n",
        "%%shell\n",
        "gcc week11_q1.c -o bout\n",
        "./bout"
      ]
    },
    {
      "cell_type": "markdown",
      "metadata": {
        "id": "wr_QBU6RqvXB"
      },
      "source": [
        "**프활C 실습퀴즈11-02**\n",
        "\n",
        "2차원 좌표평면 위 좌표 p1(x, y), p2(x2, y2)를 입력 받고  \n",
        "두 좌표 사이의 거리를 소수점 둘째자리까지 출력하세요.   \n",
        "(math.h 라이브러리를 추가하고 sqrt()함수를 사용합니다.   \n",
        "sqrt()함수는 부동소수를 전달하여 전달한 수의 제곱근을 부동소수로 반환합니다.)  \n",
        "(두 좌표의 거리: sqrt((x-x2)*(x-x2)+(y-y2)*(y-y2)))  "
      ]
    },
    {
      "cell_type": "code",
      "execution_count": null,
      "metadata": {
        "colab": {
          "base_uri": "https://localhost:8080/"
        },
        "id": "T8A8gD3Lqxx5",
        "outputId": "11325dc3-d748-466b-ebd6-0ad446454adf"
      },
      "outputs": [
        {
          "name": "stdout",
          "output_type": "stream",
          "text": [
            "Writing week11_q2.c\n"
          ]
        }
      ],
      "source": [
        "# 파일 작성\n",
        "%%writefile week11_q2.c\n",
        "\n",
        "#include <stdio.h>\n",
        "#include <math.h>\n",
        "\n",
        "int main(){\n",
        "  int x,y,x2,y2;\n",
        "  scanf(\"%d %d %d %d\",&x,&y,&x2,&y2);\n",
        "\n",
        "  double result;\n",
        "  result = ((x-x2)*(x-x2) + (y-y2)*(y-y2));\n",
        "  result = sqrt((double)result);\n",
        "\n",
        "  printf(\"%.2f\",result);\n",
        "  return 0;\n",
        "}"
      ]
    },
    {
      "cell_type": "code",
      "execution_count": null,
      "metadata": {
        "colab": {
          "base_uri": "https://localhost:8080/"
        },
        "id": "hkzpnYiOqyDx",
        "outputId": "5a8646a5-b96b-4345-9bca-ef168b0dfe84"
      },
      "outputs": [
        {
          "name": "stdout",
          "output_type": "stream",
          "text": [
            "1 2 3 4\n",
            "2.83"
          ]
        },
        {
          "data": {
            "text/plain": []
          },
          "execution_count": 20,
          "metadata": {},
          "output_type": "execute_result"
        }
      ],
      "source": [
        "# 파일 실행(불러오기)\n",
        "%%shell\n",
        "gcc week11_q2.c -o week11_q2 -lm\n",
        "./week11_q2"
      ]
    },
    {
      "cell_type": "markdown",
      "metadata": {
        "id": "PkIecbjGqyRg"
      },
      "source": [
        "**프활C 실습퀴즈11-03**\n",
        "\n",
        "피보나치 수열은 S(n) = S(n-1) + S(n-2)의 성질을 가진 수열 입니다.  \n",
        "n을 입력 받고,  \n",
        "S(0) = 0, S(1) = 1일 때, S(n)의 값을 출력하세요.  \n",
        "단, n은 0이상 15미만의 정수입니다.  \n",
        "(재귀함수를 사용하세요. 미사용시 0점 처리)"
      ]
    },
    {
      "cell_type": "code",
      "execution_count": null,
      "metadata": {
        "colab": {
          "base_uri": "https://localhost:8080/"
        },
        "id": "zONnz5h6q0E5",
        "outputId": "781e19aa-a56e-4ed1-a665-98804f71f280"
      },
      "outputs": [
        {
          "name": "stdout",
          "output_type": "stream",
          "text": [
            "Writing week11_q3.c\n"
          ]
        }
      ],
      "source": [
        "# 파일 작성\n",
        "%%writefile week11_q3.c\n",
        "\n",
        "#include<stdio.h>\n",
        "\n",
        "int S(int n){\n",
        "  if (n==0) return 0;\n",
        "  else if (n==1) return 1;\n",
        "  else return S(n-1) + S(n-2);\n",
        "}\n",
        "\n",
        "int main(){\n",
        "  int n;\n",
        "  scanf(\"%d\", &n);\n",
        "\n",
        "  int result = S(n);\n",
        "\n",
        "  printf(\"%d\", result);\n",
        "  return 0;\n",
        "}"
      ]
    },
    {
      "cell_type": "code",
      "execution_count": null,
      "metadata": {
        "colab": {
          "base_uri": "https://localhost:8080/"
        },
        "id": "q6z3NVx6q0X4",
        "outputId": "ecd8ec0c-18e9-439c-b6f3-6cc463a78205"
      },
      "outputs": [
        {
          "name": "stdout",
          "output_type": "stream",
          "text": [
            "10\n",
            "55"
          ]
        },
        {
          "data": {
            "text/plain": []
          },
          "execution_count": 21,
          "metadata": {},
          "output_type": "execute_result"
        }
      ],
      "source": [
        "# 파일 실행(불러오기)\n",
        "%%shell\n",
        "gcc week11_q3.c -o bout\n",
        "./bout"
      ]
    },
    {
      "cell_type": "markdown",
      "metadata": {
        "id": "wXegelyzQb5I"
      },
      "source": [
        "# **4차 과제**"
      ]
    },
    {
      "cell_type": "markdown",
      "metadata": {
        "id": "98rBweBbQmfm"
      },
      "source": [
        "**프활C 과제04-01**\n",
        "\n",
        "년도 year를 입력 받고 해당 년도가 윤년인지 확인하여\n",
        "윤년이면 Leap Year를 아니면 Not Leap Year를 출력하세요.  \n",
        "\n",
        "4로 나누어 떨어지는 년도는 윤년,  \n",
        "4로 나누어 떨어지더라도 100으로 나누어 떨어지면 평년,  \n",
        "4로 나누어 떨어지고, 100으로 나누어 떨어지나, 400으로 나누어 떨어지면 윤년입니다.\n"
      ]
    },
    {
      "cell_type": "code",
      "execution_count": null,
      "metadata": {
        "colab": {
          "base_uri": "https://localhost:8080/"
        },
        "id": "8ewJssrKQxrQ",
        "outputId": "3850a09e-89e1-4c3a-82a5-d16cbb7b94aa"
      },
      "outputs": [
        {
          "name": "stdout",
          "output_type": "stream",
          "text": [
            "Overwriting hw4-1.c\n"
          ]
        }
      ],
      "source": [
        "# 파일 작성\n",
        "%%writefile hw4-1.c\n",
        "\n",
        "#include<stdio.h>\n",
        "\n",
        "int main(){\n",
        "  int year;\n",
        "  scanf(\"%d\", &year);\n",
        "\n",
        "  if (year % 4 == 0){\n",
        "    if (year % 100 == 0){\n",
        "      if (year % 400 == 0){\n",
        "        printf(\"Leap Year\");\n",
        "      }\n",
        "      else{\n",
        "        printf(\"Not Leap Year\");\n",
        "      }\n",
        "    }\n",
        "    else{\n",
        "      printf(\"Leap Year\");\n",
        "    }\n",
        "  }\n",
        "  else{\n",
        "    printf(\"Not Leap Year\");\n",
        "  }\n",
        "\n",
        "\n",
        "  return 0;\n",
        "}"
      ]
    },
    {
      "cell_type": "code",
      "execution_count": null,
      "metadata": {
        "colab": {
          "base_uri": "https://localhost:8080/"
        },
        "id": "25KlMIcvUAUi",
        "outputId": "f0d4147b-1494-49f5-f39d-933b4b06619e"
      },
      "outputs": [
        {
          "name": "stdout",
          "output_type": "stream",
          "text": [
            "2100\n",
            "Not Leap Year"
          ]
        },
        {
          "data": {
            "text/plain": []
          },
          "execution_count": 27,
          "metadata": {},
          "output_type": "execute_result"
        }
      ],
      "source": [
        "# 파일 실행(불러오기)\n",
        "%%shell\n",
        "gcc hw4-1.c -o bout\n",
        "./bout"
      ]
    },
    {
      "cell_type": "markdown",
      "metadata": {
        "id": "iGbg7y3oU8Av"
      },
      "source": [
        "\n",
        "\n",
        "---\n",
        "\n"
      ]
    },
    {
      "cell_type": "markdown",
      "metadata": {
        "id": "G818eAA8U84C"
      },
      "source": [
        "**☆★ 프활C 과제04-02 ★☆**\n",
        "\n",
        "2022년도의 월인 month를 입력 받고 해당 월의 1일이 무슨 요일인지 출력하세요.  \n",
        "(1900년 1월 1일은 월요일 입니다.)"
      ]
    },
    {
      "cell_type": "code",
      "execution_count": null,
      "metadata": {
        "colab": {
          "base_uri": "https://localhost:8080/"
        },
        "id": "yhyGtfJ1VCD2",
        "outputId": "ead2683d-d331-4db5-e7e3-82d8a50c8887"
      },
      "outputs": [
        {
          "name": "stdout",
          "output_type": "stream",
          "text": [
            "Overwriting hw4-2.c\n"
          ]
        }
      ],
      "source": [
        "# 파일 작성\n",
        "%%writefile hw4-2.c\n",
        "\n",
        "#include<stdio.h>\n",
        "\n",
        "int main(){\n",
        "  int d = 0;\n",
        "  for (int i = 1900 ; i < 2022 ; i++){\n",
        "    if (i % 4 == 0){\n",
        "      if (i % 100 == 0){\n",
        "        if (i % 400 == 0)\n",
        "          d += 366;\n",
        "        else\n",
        "          d += 365;\n",
        "      }\n",
        "      else\n",
        "        d += 366;\n",
        "    }\n",
        "    else\n",
        "      d += 365;\n",
        "  }\n",
        "\n",
        "  int daysin2022[12] = {31,28,31,30,31,30,31,31,30,31,30,31};\n",
        "  int month;\n",
        "  scanf(\"%d\",&month);\n",
        "\n",
        "  for (int i = 0 ; i < (month-1) ; i++)\n",
        "    d += daysin2022[i];\n",
        "\n",
        "  if (d%7 == 0) printf(\"Monday\");\n",
        "  else if (d%7 == 1) printf(\"Tuesday\");\n",
        "  else if (d%7 == 2) printf(\"Wednesday\");\n",
        "  else if (d%7 == 3) printf(\"Thursday\");\n",
        "  else if (d%7 == 4) printf(\"Friday\");\n",
        "  else if (d%7 == 5) printf(\"Saturday\");\n",
        "  else if (d%7 == 6) printf(\"Sunday\");\n",
        "\n",
        "  return 0;\n",
        "}"
      ]
    },
    {
      "cell_type": "code",
      "execution_count": null,
      "metadata": {
        "colab": {
          "base_uri": "https://localhost:8080/"
        },
        "id": "jFulU9q_V0P2",
        "outputId": "e3c39ea5-430b-4915-d2fe-1030c24f6eda"
      },
      "outputs": [
        {
          "name": "stdout",
          "output_type": "stream",
          "text": [
            "10\n",
            "Saturday"
          ]
        },
        {
          "data": {
            "text/plain": []
          },
          "execution_count": 41,
          "metadata": {},
          "output_type": "execute_result"
        }
      ],
      "source": [
        "# 파일 실행(불러오기)\n",
        "%%shell\n",
        "gcc hw4-2.c -o bout\n",
        "./bout"
      ]
    },
    {
      "cell_type": "markdown",
      "metadata": {
        "id": "rhx-VphQV3Rx"
      },
      "source": [
        "\n",
        "\n",
        "---\n",
        "\n"
      ]
    },
    {
      "cell_type": "markdown",
      "metadata": {
        "id": "Yv6LnRxZV7af"
      },
      "source": [
        "**☆★ 프활C 과제04-03 ★☆**\n",
        "\n",
        "년도와 월을 전달 받으면 1일이 무슨 요일인지 출력하는 함수 printDOHW를 작성하세요.  \n",
        "\n",
        "main함수는 다음과 같습니다. (수정 시 0점처리)\n",
        "```\n",
        "int main(void){\n",
        "    int year, month;\n",
        "    scanf(\"%d\", &year);\n",
        "    scanf(\"%d\", &month);\n",
        "    printDOHW(year, month);\n",
        "    return 0;\n",
        "}\n",
        "```\n",
        "(단, 입력 받는 년도는 1900보다 큽니다.)"
      ]
    },
    {
      "cell_type": "code",
      "execution_count": null,
      "metadata": {
        "colab": {
          "base_uri": "https://localhost:8080/"
        },
        "id": "brQZ_HwkV74h",
        "outputId": "edf88524-5ea0-4db8-eb70-faab0cc53896"
      },
      "outputs": [
        {
          "name": "stdout",
          "output_type": "stream",
          "text": [
            "Overwriting hw4-3.c\n"
          ]
        }
      ],
      "source": [
        "# 파일 작성\n",
        "%%writefile hw4-3.c\n",
        "\n",
        "#include<stdio.h>\n",
        "\n",
        "int printDOHW(int year, int month){\n",
        "  // year 전까지 일 수 저장\n",
        "  int d = 0;\n",
        "  for (int i = 1900 ; i < year ; i++){\n",
        "    if (i % 4 == 0){\n",
        "      if (i % 100 == 0){\n",
        "        if (i % 400 == 0)\n",
        "          d += 366;\n",
        "        else\n",
        "          d += 365;\n",
        "      }\n",
        "      else\n",
        "        d += 366;\n",
        "    }\n",
        "    else\n",
        "      d += 365;\n",
        "  }\n",
        "\n",
        "  // 해당 연도가 윤년인지 아닌지 확인\n",
        "  int dd;\n",
        "  if (year % 4 == 0){\n",
        "      if (year % 100 == 0){\n",
        "        if (year % 400 == 0)\n",
        "          dd = 1;\n",
        "        else\n",
        "          dd = 0;\n",
        "      }\n",
        "      else\n",
        "        dd = 1;\n",
        "  }\n",
        "  else\n",
        "    dd = 0;\n",
        "\n",
        "  // 윤년인 경우와 윤년이 아닌 경우의 월별 일수\n",
        "  int daysinNotLeapYear[12] = {31,28,31,30,31,30,31,31,30,31,30,31};\n",
        "  int daysinLeapYear[12] = {31,29,31,30,31,30,31,31,30,31,30,31};\n",
        "  int daysinYear[12];\n",
        "  if (dd == 1){\n",
        "    for (int i = 0; i < 12; i++)\n",
        "      daysinYear[i] = daysinLeapYear[i];\n",
        "  }\n",
        "  else {\n",
        "    for (int i = 0; i < 12; i++)\n",
        "      daysinYear[i] = daysinNotLeapYear[i];\n",
        "  }\n",
        "\n",
        "  // 해당 month전까지 일수 계산\n",
        "  for (int i = 0 ; i < (month-1) ; i++)\n",
        "    d += daysinYear[i];\n",
        "  if (d%7 == 0) printf(\"Monday\");\n",
        "  else if (d%7 == 1) printf(\"Tuesday\");\n",
        "  else if (d%7 == 2) printf(\"Wednesday\");\n",
        "  else if (d%7 == 3) printf(\"Thursday\");\n",
        "  else if (d%7 == 4) printf(\"Friday\");\n",
        "  else if (d%7 == 5) printf(\"Saturday\");\n",
        "  else if (d%7 == 6) printf(\"Sunday\");\n",
        "\n",
        "  return 0;\n",
        "}\n",
        "\n",
        "int main(void){\n",
        "  int year, month;\n",
        "  scanf(\"%d\", &year);\n",
        "  scanf(\"%d\", &month);\n",
        "  printDOHW(year, month);\n",
        "  return 0;\n",
        "}"
      ]
    },
    {
      "cell_type": "code",
      "execution_count": null,
      "metadata": {
        "colab": {
          "base_uri": "https://localhost:8080/"
        },
        "id": "C-_aYVvwV8Q-",
        "outputId": "632db40a-f25f-442f-efd4-84080ad04dd8"
      },
      "outputs": [
        {
          "name": "stdout",
          "output_type": "stream",
          "text": [
            "2021 10\n",
            "Friday"
          ]
        },
        {
          "data": {
            "text/plain": []
          },
          "execution_count": 62,
          "metadata": {},
          "output_type": "execute_result"
        }
      ],
      "source": [
        "# 파일 실행(불러오기)\n",
        "%%shell\n",
        "gcc hw4-3.c -o bout\n",
        "./bout"
      ]
    },
    {
      "cell_type": "markdown",
      "metadata": {
        "id": "BJfvhq17LtgA"
      },
      "source": [
        "# **12주차.** 배열과 디버깅"
      ]
    },
    {
      "cell_type": "markdown",
      "metadata": {
        "id": "LbVEmQ6aFeKh"
      },
      "source": [
        "**1. 다차원 배열**"
      ]
    },
    {
      "cell_type": "markdown",
      "metadata": {
        "id": "8F0Rk-WgCwFn"
      },
      "source": [
        "- 다차원 배열   \n",
        "  : 첨자가 두 개 이상인 배열 (2차원 배열, 3차원 배열 등)\n",
        "\n",
        "- 2차원 배열의 선언\n",
        "  - 구문\n",
        "    ```\n",
        "    자료형 변수명 [크기][크기];\n",
        "    ```\n",
        "\n",
        "- 2차원 배열의 원소\n",
        "  - 두 개의 첨자를 이용하여 원소 표현\n",
        "  - 각 차원의 첨자는 0부터 시작\n",
        "  - 2차원 배열의 각 원소는 하나의 일반 변수와 동일하게 취급\n",
        "\n",
        "- 2차원 배열 초기화\n",
        "  - 중첩 중괄호를 사용하여 행 별로 초깃값 설정\n",
        "  - 값이 지정되지 않은 원소는 0으로 초기화\n",
        "  - 한 줄에 쓴 형태\n",
        "    ```\n",
        "    int x[3][5] = { {10, 20, 30}, {40, 50, 60, 70} };\n",
        "    ```\n",
        "  - 행 별로 나눠 쓴 형태\n",
        "    ```\n",
        "    int x[3][5] = { {10, 20, 30}, // 0번 행\n",
        "                    {40, 50, 60, 70} }; // 1번 행\n",
        "    ```\n",
        "  - 하나의 중괄호를 사용하는 형태도 가능\n",
        "    ```\n",
        "    int x[3][5] = { 10, 20, 30, 40, 50, 60, 70 };\n",
        "    ```\n",
        "\n",
        "- 배열 전체를 0으로 초기화 하기\n",
        "  - `int x[3][5] = { { 0 } };` ⇒ 중첩 중괄호 사용 형태\n",
        "  - `int x[3][5] = { 0 };` ⇒ 단일 중괄호 사용 형태\n",
        "\n",
        "- 배열의 크기를 초깃값 개수로 정하기\n",
        "  - 첫번째 첨자만 생략 가능, 두번째 첨자는 생략 불가능\n",
        "  - `int x[ ][2] = { {0,1}, {0}, {0} };` ⇒ x[3][2]와 동일 (정상)\n",
        "  - `int x[3][ ] = { {0,1}, {0}, {0} };` ⇒ (X) 컴파일 오류\n",
        "  - `int x[ ][ ] = { {0,1}, {0}, {0} };` ⇒ (X) 컴파일 오류"
      ]
    },
    {
      "cell_type": "markdown",
      "metadata": {
        "id": "9ACQ3KC0G354"
      },
      "source": [
        "**예제**\n",
        "\n",
        "학생 3명의 국어, 영어 성적을 저장하기 위한 2차원 배열을 선언하고 아래와 같이 초기화 한 후,  \n",
        "국어와 영어 과목의 평균을 각각 계산하여 출력하기\n",
        "\n",
        "||국어|영어|\n",
        "|:-:|:-:|:-:|\n",
        "|학생 A|20|100|\n",
        "|학생 B|70|36|\n",
        "|학생 C|30|50|"
      ]
    },
    {
      "cell_type": "code",
      "execution_count": null,
      "metadata": {
        "colab": {
          "base_uri": "https://localhost:8080/"
        },
        "id": "MgfVKHOUFepy",
        "outputId": "5177b849-db78-4816-edd7-0be3e90e1fd4"
      },
      "outputs": [
        {
          "name": "stdout",
          "output_type": "stream",
          "text": [
            "Writing week12_1-1.c\n"
          ]
        }
      ],
      "source": [
        "# 파일 작성\n",
        "%%writefile week12_1-1.c\n",
        "\n",
        "#include<stdio.h>\n",
        "\n",
        "int main(){\n",
        "\n",
        "  int score[3][2] = { {20,100}, {70,36}, {30,50} };\n",
        "\n",
        "  for (int j = 0; j < 2; j++){\n",
        "    int sum = 0;\n",
        "    for (int i = 0; i < 3; i++){\n",
        "      sum += score[i][j];\n",
        "    }\n",
        "    if (j == 0) printf(\"과목 국어 평균 : %f\\n\", sum / 3.0);\n",
        "    else printf(\"과목 영어 평균 : %f\\n\", sum / 3.0);\n",
        "  }\n",
        "\n",
        "  return 0;\n",
        "}"
      ]
    },
    {
      "cell_type": "code",
      "execution_count": null,
      "metadata": {
        "colab": {
          "base_uri": "https://localhost:8080/"
        },
        "id": "sWh2GGTkIaLO",
        "outputId": "eb6488b9-3549-4953-f0d6-3cde1793e03b"
      },
      "outputs": [
        {
          "name": "stdout",
          "output_type": "stream",
          "text": [
            "과목 국어 평균 : 40.000000\n",
            "과목 영어 평균 : 62.000000\n"
          ]
        },
        {
          "data": {
            "text/plain": []
          },
          "execution_count": 2,
          "metadata": {},
          "output_type": "execute_result"
        }
      ],
      "source": [
        "# 파일 실행(불러오기)\n",
        "%%shell\n",
        "gcc week12_1-1.c -o bout\n",
        "./bout"
      ]
    },
    {
      "cell_type": "markdown",
      "metadata": {
        "id": "Tfh02pS7Ik14"
      },
      "source": [
        "**예제**\n",
        "\n",
        "4 x 4 크기의 행렬을 나타내는 2차원 배열 A를 초기화 하고,   \n",
        "행렬 A와 A의 전치 행렬을 나란히 출력\n",
        "- 전치 행렬 : 행과 열을 바꾼 행렬"
      ]
    },
    {
      "cell_type": "code",
      "execution_count": null,
      "metadata": {
        "colab": {
          "base_uri": "https://localhost:8080/"
        },
        "id": "F8z8hCYXI_ye",
        "outputId": "223d74b6-e24d-4a47-95fc-05db036451c6"
      },
      "outputs": [
        {
          "name": "stdout",
          "output_type": "stream",
          "text": [
            "Writing week12_1-2.c\n"
          ]
        }
      ],
      "source": [
        "# 파일 작성\n",
        "%%writefile week12_1-2.c\n",
        "\n",
        "#include<stdio.h>\n",
        "\n",
        "int main(){\n",
        "\n",
        "  double A[4][4] = {{0.0, 0.1, 0.2, 0.3},\n",
        "                    {1.0, 1.1, 1.2, 1.3},\n",
        "                    {2.0, 2.1, 2.2, 2.3},\n",
        "                    {3.0, 3.1, 3.2, 3.3}};\n",
        "  double B[4][4];\n",
        "\n",
        "  for (int i = 0; i < 4; i++){\n",
        "    for (int j = 0; j<4; j++){\n",
        "      B[j][i] = A[i][j];\n",
        "    }\n",
        "  }\n",
        "\n",
        "  for (int i = 0; i < 4; i++){\n",
        "    for (int j = 0; j < 4; j++){\n",
        "      printf(\"  %.1f\", A[i][j]);\n",
        "    }\n",
        "    printf(\"     \");\n",
        "    for (int j = 0; j < 4; j++){\n",
        "      printf(\"  %.1f\", B[i][j]);\n",
        "    }\n",
        "    printf(\"\\n\");\n",
        "  }\n",
        "\n",
        "  return 0;\n",
        "}"
      ]
    },
    {
      "cell_type": "code",
      "execution_count": null,
      "metadata": {
        "colab": {
          "base_uri": "https://localhost:8080/"
        },
        "id": "1NI7XD2_JAOQ",
        "outputId": "eee49a71-cb9b-4eff-a001-28cd9bf6b561"
      },
      "outputs": [
        {
          "name": "stdout",
          "output_type": "stream",
          "text": [
            "  0.0  0.1  0.2  0.3       0.0  1.0  2.0  3.0\n",
            "  1.0  1.1  1.2  1.3       0.1  1.1  2.1  3.1\n",
            "  2.0  2.1  2.2  2.3       0.2  1.2  2.2  3.2\n",
            "  3.0  3.1  3.2  3.3       0.3  1.3  2.3  3.3\n"
          ]
        },
        {
          "data": {
            "text/plain": []
          },
          "execution_count": 4,
          "metadata": {},
          "output_type": "execute_result"
        }
      ],
      "source": [
        "# 파일 실행(불러오기)\n",
        "%%shell\n",
        "gcc week12_1-2.c -o bout\n",
        "./bout"
      ]
    },
    {
      "cell_type": "markdown",
      "metadata": {
        "id": "xKlW43-dJHbh"
      },
      "source": [
        "- 3차원 이상의 배열  \n",
        "  : 2차원 배열과 비슷한 방법으로 확장"
      ]
    },
    {
      "cell_type": "markdown",
      "metadata": {
        "id": "3b306SNJLBZn"
      },
      "source": [
        "- 함수에 일차원 배열 전달하기\n",
        "  - 배열 크기 명시해도 의미 없음 ⇒ 보통 생략\n",
        "  - 배열 크기가 필요한 경우, 별도의 함수 인자로 전달\n",
        "\n",
        "- 함수에 다차원 배열 전달하기\n",
        "  - 첫번째 첨자의 크기는 의미 없음 ⇒ 보통 생략\n",
        "  - **두번째 이후 첨자는 명시 필요**"
      ]
    },
    {
      "cell_type": "markdown",
      "metadata": {
        "id": "wQGddgDILlFD"
      },
      "source": [
        "\n",
        "\n",
        "---\n",
        "\n"
      ]
    },
    {
      "cell_type": "markdown",
      "metadata": {
        "id": "ZP0sRcr3LmA0"
      },
      "source": [
        "**2. 디버깅(1)**"
      ]
    },
    {
      "cell_type": "markdown",
      "metadata": {
        "id": "f3sL8xXvLpDl"
      },
      "source": [
        "- 프로그램 오류의 종류와 디버깅\n",
        "  - 버그(bug)   \n",
        "    : 프로그램에 존재하는 오류\n",
        "  - 디버깅(debugging)   \n",
        "    : 오류를 고치는 행위\n",
        "  - 컴파일 오류  \n",
        "    : 문법적 오류 ⇒ 컴파일러는 프로그램의 구문, 데이터, 의미 없는 문장 등을 검사\n",
        "    ※ 컴파일 경고 : 오류는 아니지만, 오류의 가능성이 있는 부분\n",
        "  - 런타임 오류  \n",
        "    : 실행시간 오류, 프로그램의 결과가 의도와 다르거나 비정상적으로 종료되는 경우"
      ]
    },
    {
      "cell_type": "markdown",
      "metadata": {
        "id": "wwHUukrUMTc5"
      },
      "source": [
        "- 컴파일 오류/경고 확인 및 수정  \n",
        "  : 컴파일 오류/경고를 고치는 과정은 매우 쉬움 ⇒ 컴파일 오류/경고의 내용을 이해할 수 있어야 함\n",
        "\n",
        "- 컴파일 오류 수정 Tip\n",
        "  - 오류로 표시된 라인과 실제 오류가 있는 라인이 다를 수 있음  \n",
        "    → 예 : 세미콜론 누락, 중괄호 오류\n",
        "  - 가장 먼저 표시되는 오류 내용부터 확인하고 수정\n",
        "    - 실제 오류는 하나이지만, 이로 인해 여러 군데 오류가 발생하는 것처럼 보일 수 있음\n",
        "    - 맨 처음 표시되는 오류 내용을 해결하면, 나머지는 저절로 해결되는 경우 많음\n",
        "\n",
        "- 컴파일 오류/경고와 빌드(실행파일 생성)\n",
        "  - 컴파일 오류가 있으면 실행 파일이 생성되지 않음\n",
        "  - 컴파일 경고는 있어도 실행 파일 잘 생성됨  \n",
        "    : 경고는 문법적으로 오류가 없어 기계어로 번역하는데 문제는 없으나, 오류 가능성이 있거나 권장되지 않은 방법으로 작성된 부분\n",
        "\n",
        "- VS 사용 시 주의 사항\n",
        "  - VS에서 프로그램을 수행(단축키 : [Ctrl] + [F5]) 시키면\n",
        "    - (소스가 변경된 경우) 프로그램 빌드 → 프로그램 수행\n",
        "    - 만약 빌드(실행파일 생성)에 실패하면, 기존 실행 파일 수행\n",
        "  - 귀찮다고 무작정 [Ctrl] + [F5] 누르지 말고, 빌드를 먼저 수행하여 오류나 경고가 없는지 확인하기 !\n",
        "\n",
        "- 런타임 오류 확인 및 수정\n",
        "  - 프로그램 실행 시 발생하는 오류\n",
        "  - 일반적으로 오류가 어디서 발생했는지 알기가 어려움\n",
        "  - 대부분의 시간을 이 오류를 찾고 수정하는데 소비\n",
        "  - 이러한 종류의 오류를 찾아 고치는 작엄 ⇒ 디버깅(debugging)"
      ]
    },
    {
      "cell_type": "markdown",
      "metadata": {
        "id": "2wO6nyz2NyQ4"
      },
      "source": [
        "- 디버깅 방법 1\n",
        "  - 프로그램 소스를 쭉 보면서 내가 어디서 틀렸나 찾아봄\n",
        "  - 한계점\n",
        "    - 코드가 짧은 경우에, 유효\n",
        "    - 코드가 긴 경우에, 못 찾을 가능성이 훨 ~ 씬 높음\n",
        "\n",
        "- 디버깅 방법 2\n",
        "  - 실제로 프로그램을 수행시켜보면서\n",
        "  - 프로그램이 내가 예상하고 원하는 과정대로 동작하는 지를 체크\n",
        "\n",
        "- 디버깅의 기본 !!  \n",
        "  : 코드 중간에 있는 오류를 찾기 위해서 프로그램이 내가 의도하는 과정대로 동작하는 지를 체크"
      ]
    },
    {
      "cell_type": "markdown",
      "metadata": {
        "id": "F9GLGC-qO47f"
      },
      "source": [
        "\n",
        "\n",
        "---\n",
        "\n"
      ]
    },
    {
      "cell_type": "markdown",
      "metadata": {
        "id": "RgWwPmBMO6XG"
      },
      "source": [
        "**3. 디버깅(2)**"
      ]
    },
    {
      "cell_type": "markdown",
      "metadata": {
        "id": "DaGYJ-S6O9Ds"
      },
      "source": [
        "- 디버깅 요령\n",
        "  - 어느 부분에서 체크할 것인가? : 프로그램의 논리 구조와 관계\n",
        "  - 프로그램을 몇 가지 단계로 나누어 단계별로 체크\n",
        "  - 오류가 있는 범위를 좁혀 나가기\n",
        "  - 주요 체크 부분\n",
        "    - 입력이 제대로 저장됐는지 체크\n",
        "    - 반복문의 경우, 반복문의 시작과 끝\n",
        "    - 함수의 시작과 끝\n",
        "\n",
        "- 반복문 체크 요령  \n",
        "  : 반복문 전 후에 체크\n",
        "\n",
        "- 함수 체크 요령  \n",
        "  : 함수 호출 전 후에 체크 → 함수 호출 후에 오류가 발생했다면, 함수 내부 체크"
      ]
    },
    {
      "cell_type": "markdown",
      "metadata": {
        "id": "FaVMdmdXPeE_"
      },
      "source": [
        "- Visual Studio 디버깅 기능\n",
        "  1. 디버깅 시작 (단축키 [F5])\n",
        "  2. 중단점 삽입\n",
        "    - 중단점 : 프로그램 실행을 잠시 멈추고 싶은 지점\n",
        "    - 소스 코드 왼쪽의 회색영역에서 해당 라인 위치 클릭하면 '빨간 동그라미'로 표시되는 중단점이 삽입됨\n",
        "    - 중담점을 삽입할 위치로 커서 이동 → 디버그 → 중단점 설정\n",
        "  3. 중단점 삭제\n",
        "    - 해당 중단점 클릭\n",
        "    - 중단점을 삽입할 위치로 커서 이동 → 디버그 → 중단점 해제\n",
        "  4. 한 단계씩 코드 진행\n",
        "    : 디버그 → 한 단계씩 코드 실행 ([F11])\n",
        "  5. 프로시저 단위 진행\n",
        "    - 디버그 → 프로시저 단위 실행 ([F10])\n",
        "    - 프로그램을 단계적으로 실행하되, 함수를 하나의 단계로 처리\n",
        "  6. 디버깅 계속\n",
        "    : 중단점을 만날 때까지 프로그램 실행"
      ]
    },
    {
      "cell_type": "markdown",
      "metadata": {
        "id": "6ic8v49kQt1b"
      },
      "source": [
        "- 프로그래밍 초심자가 많이 겪는 상황, 또는 의문\n",
        "  - VS에서 잘 동작하는데, OJ에서 제대로 동작하지 않아요\n",
        "  - OJ에 뭔가 문제가 있는 거 아닌가요?\n",
        "  - 결론부터 말하면, 코드에 버그가 있는 경우가 대부분!\n",
        "  - 버그가 있는데도 정상 동작하는 상황 예시\n",
        "    - 잘 동작하는 데이터로만 테스트 하는 경우\n",
        "    - 우연히 잘 동작하는 경우\n",
        "    - 환경에 따라 잘 동작하는 경우\n",
        "\n",
        "- 버그와 런타임 오류 정리\n",
        "  - 버그가 없는 코드  \n",
        "    : 어떤 실행 환경, 어떤 테스트 데이터든지 모두 정상 동작함\n",
        "  - 버그가 있는 코드  \n",
        "    : 상황에 따라, 정상 동작하는 경우처럼 보일 수 있음\n",
        "  - 따라서, 정상 동작하지 않는 경우가 있다면, 코드에 버그가 있다는 의미\n",
        "\n",
        "- VS에서는 정상 동작하는데, OJ에서는 오류가 난다면 어떻게 디버깅을 해야할까?\n",
        "  - 다양한 데이터를 만들어서 테스트\n",
        "    - 경계 조건에 해당하는 데이터\n",
        "    - 모든 경우를 잘 반영할 수 있는 데이터 셋\n",
        "  - OJ와 동일한 환경(우분투, gcc)에서 테스트\n",
        "    - 컴파일러 만이라도 동일\n",
        "    - gcc를 직접 설치하기 어려운 경우, 온라인 컴파일러 이용"
      ]
    },
    {
      "cell_type": "markdown",
      "metadata": {
        "id": "22yfci2CFe-W"
      },
      "source": [
        "\n",
        "\n",
        "---\n",
        "\n"
      ]
    },
    {
      "cell_type": "markdown",
      "metadata": {
        "id": "R5rBY6qF_uzH"
      },
      "source": [
        "**프활C 실습문제12-01**\n",
        "\n",
        "5명의 학생의 국어 영어 수학 점수를 입력 받고 평균 점수가 가장 높은 학생의 평균을 소수점 둘째 자리까지 출력하세요."
      ]
    },
    {
      "cell_type": "code",
      "execution_count": null,
      "metadata": {
        "colab": {
          "base_uri": "https://localhost:8080/"
        },
        "id": "2pj1Whuv_vNF",
        "outputId": "195fdcf8-e10c-4170-a131-904c8998bad6"
      },
      "outputs": [
        {
          "name": "stdout",
          "output_type": "stream",
          "text": [
            "Overwriting week12_ex1.c\n"
          ]
        }
      ],
      "source": [
        "# 파일 작성\n",
        "%%writefile week12_ex1.c\n",
        "\n",
        "#include<stdio.h>\n",
        "\n",
        "int main(){\n",
        "  int score[5][3];\n",
        "\n",
        "  for (int i = 0; i < 5; i++){\n",
        "    for (int j = 0; j < 3 ; j++){\n",
        "      scanf(\"%d\", &score[i][j]);\n",
        "    }\n",
        "  }\n",
        "\n",
        "  double avg[5];\n",
        "  for (int i = 0; i < 5; i++){\n",
        "    int sum = 0;\n",
        "    for (int j = 0; j < 3 ; j++){\n",
        "      sum += score[i][j];\n",
        "    }\n",
        "    avg[i] = sum/3.0;\n",
        "  }\n",
        "\n",
        "  double max = 0;\n",
        "  for (int i = 0; i < 5; i++){\n",
        "    if (max < avg[i]){\n",
        "      max = avg[i];\n",
        "    }\n",
        "  }\n",
        "\n",
        "  printf(\"%.2f\", max);\n",
        "  return 0;\n",
        "}"
      ]
    },
    {
      "cell_type": "code",
      "execution_count": null,
      "metadata": {
        "colab": {
          "base_uri": "https://localhost:8080/"
        },
        "id": "aOnnrmBrDCCV",
        "outputId": "2effda33-d36b-4085-c263-9c4142984d6f"
      },
      "outputs": [
        {
          "name": "stdout",
          "output_type": "stream",
          "text": [
            "54 68 44\n",
            "89 48 67\n",
            "89 44 77\n",
            "89 56 77\n",
            "78 65 99\n",
            "80.67"
          ]
        },
        {
          "data": {
            "text/plain": []
          },
          "execution_count": 23,
          "metadata": {},
          "output_type": "execute_result"
        }
      ],
      "source": [
        "# 파일 실행(불러오기)\n",
        "%%shell\n",
        "gcc week12_ex1.c -o bout\n",
        "./bout"
      ]
    },
    {
      "cell_type": "markdown",
      "metadata": {
        "id": "UsT-lkIbFW2a"
      },
      "source": [
        "**프활C 실습문제12-02**\n",
        "\n",
        "1보다 크고 5보다 같거나 작은 정수 n, m을 입력 받고 2차원 배열에 nxm개의 정수를 입력 받습니다.  \n",
        "입력 받은 정수를 출력예시와 같이 y=x 대칭으로 출력하세요."
      ]
    },
    {
      "cell_type": "code",
      "execution_count": null,
      "metadata": {
        "colab": {
          "base_uri": "https://localhost:8080/"
        },
        "id": "1m_pkCxMFdPY",
        "outputId": "f1668d8e-3b07-456a-b44d-90f0495d5d11"
      },
      "outputs": [
        {
          "name": "stdout",
          "output_type": "stream",
          "text": [
            "Overwriting week12_ex2.c\n"
          ]
        }
      ],
      "source": [
        "# 파일 작성\n",
        "%%writefile week12_ex2.c\n",
        "\n",
        "#include<stdio.h>\n",
        "\n",
        "int main(){\n",
        "  int n,m;\n",
        "  scanf(\"%d %d\", &n,&m);\n",
        "\n",
        "  int array[n][m];\n",
        "  for (int i = 0; i < n; i++){\n",
        "    for (int j = 0; j < m ; j++){\n",
        "      scanf(\"%d\", &array[i][j]);\n",
        "    }\n",
        "  }\n",
        "\n",
        "  for (int i = 0; i < m; i++){\n",
        "    for (int j = 0; j < n ; j++){\n",
        "      printf(\"%d\", array[j][i]);\n",
        "      if (j == n-1)\n",
        "        printf(\"\\n\");\n",
        "      else\n",
        "        printf(\" \");\n",
        "    }\n",
        "  }\n",
        "  return 0;\n",
        "}"
      ]
    },
    {
      "cell_type": "code",
      "execution_count": null,
      "metadata": {
        "colab": {
          "base_uri": "https://localhost:8080/"
        },
        "id": "EtbEiY_XG0i9",
        "outputId": "17795e13-957f-473b-f60c-62c98bb46856"
      },
      "outputs": [
        {
          "name": "stdout",
          "output_type": "stream",
          "text": [
            "2 5\n",
            "1 2 3 4 5\n",
            "6 7 8 9 10\n",
            "1 6\n",
            "2 7\n",
            "3 8\n",
            "4 9\n",
            "5 10\n"
          ]
        },
        {
          "data": {
            "text/plain": []
          },
          "execution_count": 39,
          "metadata": {},
          "output_type": "execute_result"
        }
      ],
      "source": [
        "# 파일 실행(불러오기)\n",
        "%%shell\n",
        "gcc week12_ex2.c -o bout\n",
        "./bout"
      ]
    },
    {
      "cell_type": "markdown",
      "metadata": {
        "id": "a9n_sFWDImnN"
      },
      "source": [
        "**프활C 실습문제12-03**\n",
        "\n",
        "크기가 4x4인 배열을 선언하고 16개의 정수를 입력 받는다.  \n",
        "그리고 정수 n을 입력 받아 배열 안에 정수 n이 있다면 해당하는 인덱스를 출력하고 정수 n이 없다면 None을 출력하세요.  \n",
        "(단, 16개의 정수 중 중복되는 숫자는 없습니다.)  "
      ]
    },
    {
      "cell_type": "code",
      "execution_count": null,
      "metadata": {
        "colab": {
          "base_uri": "https://localhost:8080/"
        },
        "id": "AKG4KbuFIsVT",
        "outputId": "fba00f0f-cbf8-41b8-eff0-155f255e15b5"
      },
      "outputs": [
        {
          "name": "stdout",
          "output_type": "stream",
          "text": [
            "Overwriting week12_ex3.c\n"
          ]
        }
      ],
      "source": [
        "# 파일 작성\n",
        "%%writefile week12_ex3.c\n",
        "\n",
        "#include<stdio.h>\n",
        "\n",
        "int main(){\n",
        "  int array[4][4];\n",
        "  for (int i = 0; i < 4; i++){\n",
        "    for (int j = 0; j < 4 ; j++){\n",
        "      scanf(\"%d\", &array[i][j]);\n",
        "    }\n",
        "  }\n",
        "\n",
        "  int n;\n",
        "  int result = 0;\n",
        "  scanf(\"%d\", &n);\n",
        "  for (int i = 0; i < 4; i++){\n",
        "    for (int j = 0; j < 4 ; j++){\n",
        "      if (n == array[i][j])\n",
        "        result = 1;\n",
        "    }\n",
        "  }\n",
        "\n",
        "  if (result == 1){\n",
        "    for (int i = 0; i < 4; i++){\n",
        "      for (int j = 0; j < 4 ; j++){\n",
        "        if (n == array[i][j])\n",
        "          printf(\"%d %d\",i,j);\n",
        "      }\n",
        "    }\n",
        "  }\n",
        "  if (result == 0)\n",
        "    printf(\"None\");\n",
        "\n",
        "  return 0;\n",
        "}"
      ]
    },
    {
      "cell_type": "code",
      "execution_count": null,
      "metadata": {
        "colab": {
          "base_uri": "https://localhost:8080/"
        },
        "id": "-NmvEd8WIsxE",
        "outputId": "734e808e-184f-42a8-c6d3-42f6ab013178"
      },
      "outputs": [
        {
          "name": "stdout",
          "output_type": "stream",
          "text": [
            "1 2 3 4\n",
            "5 6 7 8\n",
            "9 10 11 12\n",
            "13 14 15 16\n",
            "17\n",
            "None"
          ]
        },
        {
          "data": {
            "text/plain": []
          },
          "execution_count": 52,
          "metadata": {},
          "output_type": "execute_result"
        }
      ],
      "source": [
        "# 파일 실행(불러오기)\n",
        "%%shell\n",
        "gcc week12_ex3.c -o bout\n",
        "./bout"
      ]
    },
    {
      "cell_type": "markdown",
      "metadata": {
        "id": "-RaNEimCMcR1"
      },
      "source": [
        "\n",
        "\n",
        "---\n",
        "\n"
      ]
    },
    {
      "cell_type": "markdown",
      "metadata": {
        "id": "4_Xj-2uqMc6h"
      },
      "source": [
        "**프활C 실습퀴즈12-01**\n",
        "\n",
        "학생 수 n을 입력 받고 n명의 c언어, python, 공업수학 점수를 입력 받습니다.  \n",
        "n명의 학생 중 총점이 가장 높은 학생의 총점을 출력하세요.  \n",
        "(단 n은 10이하의 양의 정수입니다.)"
      ]
    },
    {
      "cell_type": "code",
      "execution_count": null,
      "metadata": {
        "colab": {
          "base_uri": "https://localhost:8080/"
        },
        "id": "X2fkw4zwMkXm",
        "outputId": "49d96792-9ee3-43eb-9e96-bae5f512a360"
      },
      "outputs": [
        {
          "name": "stdout",
          "output_type": "stream",
          "text": [
            "Overwriting week12_q1.c\n"
          ]
        }
      ],
      "source": [
        "# 파일 작성\n",
        "%%writefile week12_q1.c\n",
        "\n",
        "#include<stdio.h>\n",
        "\n",
        "int main(){\n",
        "  int n;\n",
        "  scanf(\"%d\", &n);\n",
        "\n",
        "  int score[n][3];\n",
        "\n",
        "  for (int i = 0; i < n; i++){\n",
        "    for (int j = 0; j < 3 ; j++){\n",
        "      scanf(\"%d\", &score[i][j]);\n",
        "    }\n",
        "  }\n",
        "\n",
        "  int Sum[n];\n",
        "  for (int i = 0; i < n; i++){\n",
        "    int sum = 0;\n",
        "    for (int j = 0; j < 3 ; j++){\n",
        "      sum += score[i][j];\n",
        "    }\n",
        "    Sum[i] = sum;\n",
        "  }\n",
        "\n",
        "  int max = 0;\n",
        "  for (int i = 0; i < n; i++){\n",
        "    if (max < Sum[i]){\n",
        "      max = Sum[i];\n",
        "    }\n",
        "  }\n",
        "\n",
        "  printf(\"MaxScore:%d\", max);\n",
        "  return 0;\n",
        "}"
      ]
    },
    {
      "cell_type": "code",
      "execution_count": null,
      "metadata": {
        "colab": {
          "base_uri": "https://localhost:8080/"
        },
        "id": "BhKRE13-NJPf",
        "outputId": "ce371fd0-d183-43d4-dfec-9311fc5cced7"
      },
      "outputs": [
        {
          "name": "stdout",
          "output_type": "stream",
          "text": [
            "7\n",
            "98 97 95\n",
            "94 92 96\n",
            "84 87 86\n",
            "85 87 96\n",
            "76 78 88\n",
            "95 46 66\n",
            "84 87 96\n",
            "MaxScore:290"
          ]
        },
        {
          "data": {
            "text/plain": []
          },
          "execution_count": 59,
          "metadata": {},
          "output_type": "execute_result"
        }
      ],
      "source": [
        "# 파일 실행(불러오기)\n",
        "%%shell\n",
        "gcc week12_q1.c -o bout\n",
        "./bout"
      ]
    },
    {
      "cell_type": "markdown",
      "metadata": {
        "id": "wX62S0YyN4Yy"
      },
      "source": [
        "**프활C 실습퀴즈12-02**\n",
        "\n",
        "5x5 배열을 0으로 초기화 하고 사용자로 부터 양의 정수 n을 입력 받는다.  \n",
        "n의 횟수 만큼 i, j, number를 입력 받고 배열 i, j의 칸에 number를 더한다.  \n",
        "n번의 수행 후 최종 결과를 출력하세요.  \n",
        "(단, 0 <= i, j < 5 이고 n < 100 이다.)"
      ]
    },
    {
      "cell_type": "code",
      "execution_count": null,
      "metadata": {
        "colab": {
          "base_uri": "https://localhost:8080/"
        },
        "id": "qIxudJdON-Jl",
        "outputId": "0a3ce08f-7111-4f2e-c62a-405fc40fe95d"
      },
      "outputs": [
        {
          "name": "stdout",
          "output_type": "stream",
          "text": [
            "Overwriting week12_q2.c\n"
          ]
        }
      ],
      "source": [
        "# 파일 작성\n",
        "%%writefile week12_q2.c\n",
        "\n",
        "#include<stdio.h>\n",
        "\n",
        "int main(){\n",
        "  int array[5][5] = { {0,0,0,0,0}, {0,0,0,0,0}, {0,0,0,0,0}, {0,0,0,0,0}, {0,0,0,0,0} };\n",
        "\n",
        "  int n;\n",
        "  scanf(\"%d\", &n);\n",
        "\n",
        "  for (int l = 0; l < n; l++){\n",
        "    int i, j, number;\n",
        "    scanf(\"%d %d %d\", &i, &j, &number);\n",
        "    array[i][j] += number;\n",
        "  }\n",
        "\n",
        "  for (int i = 0; i < 5; i++){\n",
        "    for (int j = 0; j < 5 ; j++){\n",
        "      printf(\"%d\", array[i][j]);\n",
        "      if (j == n-1)\n",
        "        printf(\"\\n\");\n",
        "      else\n",
        "        printf(\" \");\n",
        "    }\n",
        "  }\n",
        "\n",
        "  return 0;\n",
        "}"
      ]
    },
    {
      "cell_type": "code",
      "execution_count": null,
      "metadata": {
        "colab": {
          "base_uri": "https://localhost:8080/"
        },
        "id": "ALgCzIscPG3c",
        "outputId": "fddd7ecf-3465-4149-e831-124ba47ae605"
      },
      "outputs": [
        {
          "name": "stdout",
          "output_type": "stream",
          "text": [
            "5\n",
            "1 1 6\n",
            "1 2 7\n",
            "0 0 3\n",
            "4 4 2\n",
            "1 2 7\n",
            "3 0 0 0 0\n",
            "0 6 14 0 0\n",
            "0 0 0 0 0\n",
            "0 0 0 0 0\n",
            "0 0 0 0 2\n"
          ]
        },
        {
          "data": {
            "text/plain": []
          },
          "execution_count": 62,
          "metadata": {},
          "output_type": "execute_result"
        }
      ],
      "source": [
        "# 파일 실행(불러오기)\n",
        "%%shell\n",
        "gcc week12_q2.c -o bout\n",
        "./bout"
      ]
    },
    {
      "cell_type": "markdown",
      "metadata": {
        "id": "IJzVrUIHPVb2"
      },
      "source": [
        "**프활C 실습퀴즈12-03**\n",
        "\n",
        "양의 정수(n)를 입력 받고 8진수로 변환하여 출력하세요.  \n",
        "(단 n은 10000보다 작다.)"
      ]
    },
    {
      "cell_type": "code",
      "execution_count": null,
      "metadata": {
        "colab": {
          "base_uri": "https://localhost:8080/"
        },
        "id": "QZrbcrtePa1D",
        "outputId": "28b430ea-e644-48db-dceb-b005776cef30"
      },
      "outputs": [
        {
          "name": "stdout",
          "output_type": "stream",
          "text": [
            "Overwriting week12_q3.c\n"
          ]
        }
      ],
      "source": [
        "# 파일 작성\n",
        "%%writefile week12_q3.c\n",
        "\n",
        "#include<stdio.h>\n",
        "\n",
        "int main(){\n",
        "  int n;\n",
        "  scanf(\"%d\", &n);\n",
        "\n",
        "  int change8[5] = {9,9,9,9,9};\n",
        "  for (int i = 4; i >= 0; i--){\n",
        "    if ((n / 8) == 0){\n",
        "      change8[i] = n;\n",
        "      break;\n",
        "    }\n",
        "    else{\n",
        "      change8[i] = (n % 8);\n",
        "      n = n/8;\n",
        "    }\n",
        "  }\n",
        "\n",
        "  for (int i = 0; i < 5 ; i++){\n",
        "    if (change8[i] != 9)\n",
        "      printf(\"%d\",change8[i]);\n",
        "  }\n",
        "  return 0;\n",
        "}"
      ]
    },
    {
      "cell_type": "code",
      "execution_count": null,
      "metadata": {
        "colab": {
          "base_uri": "https://localhost:8080/"
        },
        "id": "xXa6se46PnJc",
        "outputId": "8ed732e0-a909-4a08-ee99-ae71e671136f"
      },
      "outputs": [
        {
          "name": "stdout",
          "output_type": "stream",
          "text": [
            "146\n",
            "222"
          ]
        },
        {
          "data": {
            "text/plain": []
          },
          "execution_count": 71,
          "metadata": {},
          "output_type": "execute_result"
        }
      ],
      "source": [
        "# 파일 실행(불러오기)\n",
        "%%shell\n",
        "gcc week12_q3.c -o bout\n",
        "./bout"
      ]
    },
    {
      "cell_type": "markdown",
      "metadata": {
        "id": "6fkHZNp6tVX2"
      },
      "source": [
        "# **5차 과제**"
      ]
    },
    {
      "cell_type": "markdown",
      "metadata": {
        "id": "fK8SDBQAtYUd"
      },
      "source": [
        "**☆★ 프활C 과제05-01 ★☆**\n",
        "\n",
        "피타고라스의 정의에 따라 직각 삼각형의 변의 길이가 가장 긴 변의 제곱은 나머지 변의 제곱의 합과 같다.  \n",
        "가장 긴 변의 길이를 입력 받고 나머지 변의 길이가 정수로 존재할 경우 두 변의 길이를 출력한다.  \n",
        "이 때, 더 짧은 변의 길이 부터 출력하고 경우가 2가지 이상일 경우 중간 길이의 변이 짧은 것 부터 출력한다.   \n",
        "만약 나머지 변의 길이가 정수로 존재하지 않을 경우 X를 출력하세요.\n"
      ]
    },
    {
      "cell_type": "code",
      "execution_count": null,
      "metadata": {
        "colab": {
          "base_uri": "https://localhost:8080/"
        },
        "id": "heUlwhiJti47",
        "outputId": "9a532424-e5f9-4725-9547-05153f827480"
      },
      "outputs": [
        {
          "name": "stdout",
          "output_type": "stream",
          "text": [
            "Overwriting hw5-1.c\n"
          ]
        }
      ],
      "source": [
        "# 파일 작성\n",
        "%%writefile hw5-1.c\n",
        "\n",
        "#include<stdio.h>\n",
        "\n",
        "int main(){\n",
        "  int c;\n",
        "  scanf(\"%d\", &c);\n",
        "\n",
        "  int n=0;\n",
        "  int array[10][2] = { {0,0}, {0,0}, {0,0}, {0,0}, {0,0}, {0,0}, {0,0}, {0,0}, {0,0}, {0,0} };\n",
        "  for (int i=1; i<c; i++){\n",
        "    for (int j=i; j<c; j++){\n",
        "      if ((i*i + j*j) == c*c){\n",
        "        array[n][0] = i;\n",
        "        array[n][1] = j;\n",
        "        n += 1;\n",
        "  }}}\n",
        "\n",
        "  // 정수로 존재하지 않을 경우\n",
        "  if (n == 0)\n",
        "    printf(\"X\");\n",
        "\n",
        "  // 1가지일 경우\n",
        "  if (n == 1)\n",
        "    printf(\"%d %d\", array[0][0], array[0][1]);\n",
        "\n",
        "  // 2가지 이상일 경우\n",
        "  if (n >= 2){\n",
        "    for (int i=n-1; i>=0; i--){\n",
        "      printf(\"%d %d\\n\", array[i][0], array[i][1]);\n",
        "  }}\n",
        "\n",
        "  return 0;\n",
        "}"
      ]
    },
    {
      "cell_type": "code",
      "execution_count": null,
      "metadata": {
        "colab": {
          "base_uri": "https://localhost:8080/"
        },
        "id": "kF1TTuIEtjQY",
        "outputId": "e4106bb4-8430-4839-a59a-4403d2584448"
      },
      "outputs": [
        {
          "name": "stdout",
          "output_type": "stream",
          "text": [
            "25\n",
            "15 20\n",
            "7 24\n"
          ]
        },
        {
          "data": {
            "text/plain": []
          },
          "execution_count": 12,
          "metadata": {},
          "output_type": "execute_result"
        }
      ],
      "source": [
        "# 파일 실행(불러오기)\n",
        "%%shell\n",
        "gcc hw5-1.c -o bout\n",
        "./bout"
      ]
    },
    {
      "cell_type": "markdown",
      "metadata": {
        "id": "VWSZh3TntjmW"
      },
      "source": [
        "\n",
        "\n",
        "---\n",
        "\n"
      ]
    },
    {
      "cell_type": "markdown",
      "metadata": {
        "id": "Nm-clCc2tkRp"
      },
      "source": [
        "**☆★ 프활C 과제05-02 ★☆**\n",
        "\n",
        "문자열 2개를 입력 받고 문자열 2개에서 가장 많은 알파벳을 출력하세요.  \n",
        "(단 문자열의 길이는 20을 넘지 않고 문자열은 모두 소문자이며 가장 많은 알파벳이 여러개인 경우는 없습니다.)"
      ]
    },
    {
      "cell_type": "code",
      "execution_count": null,
      "metadata": {
        "colab": {
          "base_uri": "https://localhost:8080/"
        },
        "id": "dsIP1VSPtrY3",
        "outputId": "91985e8f-c7dd-4d2d-931f-354695bc2812"
      },
      "outputs": [
        {
          "name": "stdout",
          "output_type": "stream",
          "text": [
            "Overwriting hw5-2.c\n"
          ]
        }
      ],
      "source": [
        "# 파일 작성\n",
        "%%writefile hw5-2.c\n",
        "\n",
        "#include<stdio.h>\n",
        "\n",
        "int main(){\n",
        "  char c1[20] = {'A',};\n",
        "  char c2[20] = {'A',};\n",
        "\n",
        "  scanf(\"%s\",c1);\n",
        "  scanf(\"%s\",c2);\n",
        "\n",
        "  int alpha_num[26] = {0,0,0,0,0,0,0,0,0,0,0,0,0,0,0,0,0,0,0,0,0,0,0,0,0,0};\n",
        "  for (int i = 0; i < 20; i++){\n",
        "    for (int j = 'a'; j <= 'z'; j++){\n",
        "      if (c1[i] == j)\n",
        "        alpha_num[j-(int)'a'] += 1;\n",
        "      if (c2[i] == j)\n",
        "        alpha_num[j-(int)'a'] += 1;\n",
        "  }}\n",
        "\n",
        "  int n,max=0;\n",
        "  for (int i =0; i<26; i++){\n",
        "    if (max < alpha_num[i]){\n",
        "      max = alpha_num[i];\n",
        "      n = i;\n",
        "    }}\n",
        "\n",
        "  char result = 'a'+n;\n",
        "  printf(\"%c\", result);\n",
        "\n",
        "  return 0;\n",
        "}"
      ]
    },
    {
      "cell_type": "code",
      "execution_count": null,
      "metadata": {
        "colab": {
          "base_uri": "https://localhost:8080/"
        },
        "id": "NhinFKBGtruW",
        "outputId": "dbce3f06-656a-44cc-d0a4-ee64645f5d39"
      },
      "outputs": [
        {
          "name": "stdout",
          "output_type": "stream",
          "text": [
            "banana\n",
            "nonsense\n",
            "n"
          ]
        },
        {
          "data": {
            "text/plain": []
          },
          "execution_count": 65,
          "metadata": {},
          "output_type": "execute_result"
        }
      ],
      "source": [
        "# 파일 실행(불러오기)\n",
        "%%shell\n",
        "gcc hw5-2.c -o bout\n",
        "./bout"
      ]
    },
    {
      "cell_type": "markdown",
      "metadata": {
        "id": "-4n0V_MjtsBV"
      },
      "source": [
        "\n",
        "\n",
        "---\n",
        "\n"
      ]
    },
    {
      "cell_type": "markdown",
      "metadata": {
        "id": "odhIlWyjtsv4"
      },
      "source": [
        "**☆★ 프활C 과제05-03 ★☆**\n",
        "\n",
        "민근이는 기말고사 시험 때 색상코드 프로그램을 만드려고 한다.  \n",
        "색상코드는 R, G, B의 16진수로 이루어져 있다.\n",
        "R, G, B는 각각 0부터 255이하의 정수로 이루어져 있다.  \n",
        "예를 들어 R, G, B가 각각 255, 150 60일 때, 각각 16진수로 변환하면 FF 96 3C이므로 #FF963C를 출력한다.  \n",
        "R, G, B를 순서대로 입력받고 색상코드를 출력하시오. [15점]  \n",
        "(단, 16진수에서 10은 A, 11은 B, 12는 C, 13은 D, 14는 E, 15는 F로 표기한다.)"
      ]
    },
    {
      "cell_type": "code",
      "execution_count": null,
      "metadata": {
        "colab": {
          "base_uri": "https://localhost:8080/"
        },
        "id": "M3kOCDf-yP8_",
        "outputId": "96ada149-b21d-4cff-a278-ddd78c1e6f40"
      },
      "outputs": [
        {
          "name": "stdout",
          "output_type": "stream",
          "text": [
            "Overwriting hw5-3.c\n"
          ]
        }
      ],
      "source": [
        "# 파일 작성\n",
        "%%writefile hw5-3.c\n",
        "\n",
        "#include<stdio.h>\n",
        "\n",
        "int main(){\n",
        "\n",
        "  int R,G,B;\n",
        "  scanf(\"%d %d %d\", &R,&G,&B);\n",
        "\n",
        "  char C16[16] = \"0123456789ABCDEF\";\n",
        "  char R16[2] = {0}, G16[2] = {0}, B16[2] = {0};\n",
        "  for (int i = 1; i >= 0; i--){\n",
        "    R16[i] = C16[R % 16];    // 16로 나눈 나머지\n",
        "    R /= 16;   // 16로 나눈 몫\n",
        "    G16[i] = C16[G % 16];    // 16로 나눈 나머지\n",
        "    G /= 16;   // 16로 나눈 몫\n",
        "    B16[i] = C16[B % 16];    // 16로 나눈 나머지\n",
        "    B /= 16;   // 16로 나눈 몫\n",
        "  }\n",
        "\n",
        "  printf(\"#\");\n",
        "  for (int i = 0; i < 2; i++){\n",
        "    if (R16[i] != 0){\n",
        "      printf(\"%c\",R16[i]);\n",
        "  }}\n",
        "\n",
        "  for (int i = 0; i < 2; i++){\n",
        "    if (G16[i] != 0){\n",
        "      printf(\"%c\",G16[i]);\n",
        "  }}\n",
        "\n",
        "  for (int i = 0; i < 2; i++){\n",
        "    if (B16[i] != 0){\n",
        "      printf(\"%c\",B16[i]);\n",
        "  }}\n",
        "\n",
        "  return 0;\n",
        "}"
      ]
    },
    {
      "cell_type": "code",
      "execution_count": null,
      "metadata": {
        "colab": {
          "base_uri": "https://localhost:8080/"
        },
        "id": "zMHKmFJ1t3lk",
        "outputId": "d6c6db9f-ae3b-4ec4-869f-d42d939a0a74"
      },
      "outputs": [
        {
          "name": "stdout",
          "output_type": "stream",
          "text": [
            "38 0 182\n",
            "#2600B6"
          ]
        },
        {
          "data": {
            "text/plain": []
          },
          "execution_count": 19,
          "metadata": {},
          "output_type": "execute_result"
        }
      ],
      "source": [
        "# 파일 실행(불러오기)\n",
        "%%shell\n",
        "gcc hw5-3.c -o bout\n",
        "./bout"
      ]
    },
    {
      "cell_type": "markdown",
      "metadata": {
        "id": "b_OtTzvsLvqv"
      },
      "source": [
        "# **13주차.** 문자열"
      ]
    },
    {
      "cell_type": "markdown",
      "metadata": {
        "id": "YqnA_Y8RR6Yj"
      },
      "source": [
        "**1. 문자열**"
      ]
    },
    {
      "cell_type": "markdown",
      "metadata": {
        "id": "gjQIHRTVTMny"
      },
      "source": [
        "- 문자열(string) : 연속적으로 나열된 문자들의 묶음\n",
        "  - 문자열은 기본적으로 문자 배열을 사용하여 저장\n",
        "  - 이름이나 주소처럼 하나의 묶음으로 처리되는 정보를 매번 문자 단위로 처리하는 것은 매우 불편\n",
        "    ⇒ C언어에서는 문자들을 문자열 단위로 처리할 수 있는 기능 제공\n",
        "\n",
        "- 문자열 표현\n",
        "  - 큰 따옴표로 감싸서 나타냄\n",
        "    → 예 : \"Hello\", \"abc\", \"123\"\n",
        "  ※ 문자는 작은 따옴표로 감사서 표현 : 'a', '1'\n",
        "\n",
        "- 문자열 표현\n",
        "  - scanf, printf에서 문자열 단위 입출력 지원\n",
        "  - 문자열 입출력을 위한 서식 문자 : `%s`\n",
        "  - 인자 : 보통 문자열을 저장하는 문자 배열의 이름"
      ]
    },
    {
      "cell_type": "markdown",
      "metadata": {
        "id": "rQh4YRasVKCJ"
      },
      "source": [
        "- 문자열 표현 : 큰 따옴표 사용\n",
        "  - 문자열 예시 : \"Hello\", \"A\", \"123\"\n",
        "  - 공백 하나로 구성된 문자열 : \" \" ⇒ 큰따옴표 사이에 공백\n",
        "  - 길이가 0인 문자열 : \"\" ⇒ 큰따옴표 사이에 아무것도 없음\n",
        "\n",
        "- 비교 : \"A\"와 'A'\n",
        "  - \"A\"는 문자열\n",
        "  - 'A'는 문자\n",
        "\n",
        "- 문자열 저장 및 초기화\n",
        "  - C언어에서는 문자 배열에 문자열 저장\n",
        "  - 문자열로 초기화하는 것은 선언 시에만 가능\n",
        "\n",
        "- 널(null) 문자\n",
        "  - 문자열의 끝을 의미하는 특수 문자로, '\\0'으로 표현\n",
        "  - 널문자의 아스키 코드 값은 정수 0, 즉 '\\0' == 0\n",
        "  - 문자열을 처리하는 기준이 되는 매우 중요한 요소\n",
        "    - 문자 'A'\n",
        "      > | A |\n",
        "    - 문자열 \"A\"\n",
        "      > | A | \\0 |\n",
        "\n",
        "- 문자 배열의 크기\n",
        "  - 문자 배열에 문자열을 저장하기 위해서는 배열의 크기가 문자열의 길이보다 **하나 더 커야 함**!\n",
        "\n",
        "- C언어에서 문자열의 기준\n",
        "  - **널 문자까지**의 문자들의 묶음을 지칭\n",
        "  - 배열의 크기와 관계 X ⇒ 배열은 단순히 저장 공간으로서의 역할\n",
        "  - 문자열의 끝은 배열의 크기가 아니라 **널 문자**에 의해 결정 ⇒ 입출력을 비롯한 모든 문자열 처리의 기준"
      ]
    },
    {
      "cell_type": "markdown",
      "metadata": {
        "id": "Q0CVe7e0cyFC"
      },
      "source": [
        "**예제**\n",
        "\n",
        "학생 3명의 국어, 영어 성적을 저장하기 위한 2차원 배열을 선언하고 아래와 같이 초기화 한 후, 국어와 영어 과목의 평균을 각각 계산하여 출력하기\n",
        "\n",
        "||국어|영어|\n",
        "|:-:|:-:|:-:|\n",
        "|학생 A|20|100|\n",
        "|학생 B|70|36|\n",
        "|학생 C|30|50|"
      ]
    },
    {
      "cell_type": "code",
      "execution_count": null,
      "metadata": {
        "colab": {
          "base_uri": "https://localhost:8080/"
        },
        "id": "iDyuHnyXBXNu",
        "outputId": "62b7527c-e3b2-4dc6-8f31-425dbce585d4"
      },
      "outputs": [
        {
          "name": "stdout",
          "output_type": "stream",
          "text": [
            "Writing week13_1-1.c\n"
          ]
        }
      ],
      "source": [
        "# 파일 작성\n",
        "%%writefile week13_1-1.c\n",
        "\n",
        "#include<stdio.h>\n",
        "\n",
        "int main(){\n",
        "\n",
        "  int score[3][2] = { {20,100}, {70,36}, {30,50} };\n",
        "  char sub[2][10] = {\"국어\", \"영어\"};\n",
        "\n",
        "  for (int j = 0; j < 2; j++){\n",
        "    int sum = 0;\n",
        "    for (int i = 0; i < 3; i++){\n",
        "      sum += score[i][j];\n",
        "    }\n",
        "    printf(\"%s 평균 : %.3f\\n\", sub[j], sum/3.0);\n",
        "  }\n",
        "\n",
        "  return 0;\n",
        "}"
      ]
    },
    {
      "cell_type": "code",
      "execution_count": null,
      "metadata": {
        "colab": {
          "base_uri": "https://localhost:8080/"
        },
        "id": "R3wGxkLwnOsi",
        "outputId": "d7c55c06-7341-4d3d-c41c-4d6a4d1ceadf"
      },
      "outputs": [
        {
          "name": "stdout",
          "output_type": "stream",
          "text": [
            "국어 평균 : 40.000\n",
            "영어 평균 : 62.000\n"
          ]
        },
        {
          "data": {
            "text/plain": []
          },
          "execution_count": 6,
          "metadata": {},
          "output_type": "execute_result"
        }
      ],
      "source": [
        "# 파일 실행(불러오기)\n",
        "%%shell\n",
        "gcc week13_1-1.c -o bout\n",
        "./bout"
      ]
    },
    {
      "cell_type": "markdown",
      "metadata": {
        "id": "zReynrDbnZKY"
      },
      "source": [
        "\n",
        "\n",
        "---\n",
        "\n"
      ]
    },
    {
      "cell_type": "markdown",
      "metadata": {
        "id": "LJxDOxqOnZ3G"
      },
      "source": [
        "**2. 문자열 표준함수**"
      ]
    },
    {
      "cell_type": "markdown",
      "metadata": {
        "id": "d5rFHzrJntK5"
      },
      "source": [
        "- 문자열 처리 표준 함수\n",
        "  - C언어에서는 문자열 처리에 관련된 다양한 표준 함수 제공\n",
        "  - 대부분 `<string.h>` 헤더 파일에 함수의 원형 선언되어 있음\n",
        "  - 대부분 문자열 처리 함수의 코드를 작성하는 것은 어렵지 않지만, 이미 구현되어 있는 표준 함수를 사용하는 것이 편리\n",
        "  - 다만, 정확히 사용법을 익혀야 함\n",
        "\n",
        "- 문자열 처리 표준 함수\n",
        "  - strcpy : 문자열을 복사하기 위한 목적으로 사용\n",
        "  - strcat : 두 문자열을 이어 붙이기 위해 사용\n",
        "  - strlen : 문자열의 길이를 계산하기 위해 사용\n",
        "  - strcmp : 두 문자열을 비교하기 위한 목적으로 사용\n",
        "\n",
        "- 문자열의 길이 구하기\n",
        "  - 원형 : `unsigned int strlen(char *s)`\n",
        "  - 기능 : 문자열 s의 길이 반환\n",
        "  ```\n",
        "  #include<stdio.h>\n",
        "  #include<string.h>\n",
        "  int main(){\n",
        "    char str[20] = \"Hello World\";\n",
        "    printf(\"length : %d\\n\", strlen(str));\n",
        "    return 0;\n",
        "  }\n",
        "  ```\n",
        "  \n",
        "\n",
        "- 문자열 복사하기\n",
        "  - 원형 : `char *strcpy(char *dest, char*src)`\n",
        "  - 기능 : dest의 공간에 src의 문자열 복사 (문자열 대입), src는 변화 없음\n",
        "  ```\n",
        "  #include<stdio.h>\n",
        "  #include<string.h>\n",
        "  int main(){\n",
        "    char str[100];\n",
        "    strcpy(str, \"Hello World!\");\n",
        "    printf(\"%s\\n\", str);\n",
        "    return 0;\n",
        "  }\n",
        "  ```\n",
        "  - 사용 시 주의사항 : dest의 공간이 **src의 문자열 길이 + 1 (널문자) 이상**이어야 함\n",
        "\n",
        "- 문자열 접합하기\n",
        "  - 원형 : `char *strcat(char *dest, char *src)`\n",
        "  - 기능 : 문자열 dest 뒤에 src의 문자열 접합, src는 변화 없음\n",
        "  ```\n",
        "  #include<stdio.h>\n",
        "  #include<string.h>\n",
        "  int main(){\n",
        "    char str[20] = \"Hello \", str2[] = \"World!\";\n",
        "    strcat(str, str2);\n",
        "    printf(\"%s\\n\", str);\n",
        "    return 0;\n",
        "  }\n",
        "  ```\n",
        "  - 사용 시 주의사항 : dest에 접합 결과를 저장하기에 충분한 공간이 할당되어 있어야 함\n",
        "\n",
        "- 문자열 비교하기\n",
        "  - 원형 : `char *strcmp(char *lhs, char *rhs)`\n",
        "  - 기능 : 문자열 lhs와 rhs 비교\n",
        "    - 문자열 lhs < 문자열 rhs 이면, 음수 반환\n",
        "    - 문자열 lhs == 문자열 rhs 이면, 0 반환\n",
        "    - 문자열 lhs > 문자열 rhs 이면, 양수 반환\n",
        "    ※ 문자열 lhs < 문자열 rhs ? : 문자열 lhs가 문자열 rhs보다 사전 순으로 앞에 있다는 것을 의미\n",
        "  ```\n",
        "  #include<stdio.h>\n",
        "  #include<string.h>\n",
        "  int main(){\n",
        "    char str[] = \"Hello\", str2[] = \"Hello\";\n",
        "    if (strcmp(str, str2) == 0)\n",
        "      printf(\"두 문자열은 같습니다.\\n\");\n",
        "    return 0;\n",
        "  }\n",
        "  ```"
      ]
    },
    {
      "cell_type": "markdown",
      "metadata": {
        "id": "vYiokuWdr3i3"
      },
      "source": [
        "**예제**\n",
        "\n",
        "사용자에게 \"대한민국의 수도 이름은?\"이라고 물어보고 사용자가 답을 맞추면 \"맞았습니다\"라고 출력하고, 틀리면 \"틀렸습니다\"라고 출력하기"
      ]
    },
    {
      "cell_type": "code",
      "execution_count": null,
      "metadata": {
        "colab": {
          "base_uri": "https://localhost:8080/"
        },
        "id": "3dCNyJDqsBZW",
        "outputId": "461530f1-1d22-49e3-dcc4-0d126e3149a3"
      },
      "outputs": [
        {
          "name": "stdout",
          "output_type": "stream",
          "text": [
            "Writing week13_2-1.c\n"
          ]
        }
      ],
      "source": [
        "# 파일 작성\n",
        "%%writefile week13_2-1.c\n",
        "\n",
        "#include <stdio.h>\n",
        "#include <string.h>\n",
        "\n",
        "int main(void) {\n",
        "    printf(\"대한민국의 수도 이름은? \");\n",
        "    char str[200];\n",
        "    scanf(\"%s\", str);\n",
        "    if (strcmp(str, \"서울시\") == 0) printf(\"맞았습니다.\\n\");\n",
        "    else printf(\"틀렸습니다.\\n\");\n",
        "    return 0;\n",
        "}"
      ]
    },
    {
      "cell_type": "code",
      "execution_count": null,
      "metadata": {
        "colab": {
          "base_uri": "https://localhost:8080/"
        },
        "id": "wfDbykG_sBvq",
        "outputId": "2b537a9a-696a-4495-f939-686669aedb2d"
      },
      "outputs": [
        {
          "name": "stdout",
          "output_type": "stream",
          "text": [
            "대한민국의 수도 이름은? 서울시\n",
            "맞았습니다.\n"
          ]
        },
        {
          "data": {
            "text/plain": []
          },
          "execution_count": 8,
          "metadata": {},
          "output_type": "execute_result"
        }
      ],
      "source": [
        "# 파일 실행(불러오기)\n",
        "%%shell\n",
        "gcc week13_2-1.c -o bout\n",
        "./bout"
      ]
    },
    {
      "cell_type": "markdown",
      "metadata": {
        "id": "pauxAHSPsnxW"
      },
      "source": [
        "**예제**\n",
        "\n",
        "사용자에게 문자열 하나를 입력 받고 문자열에 소문자가 있으면 모두 대문자로 바꾸어 출력하기"
      ]
    },
    {
      "cell_type": "code",
      "execution_count": null,
      "metadata": {
        "colab": {
          "base_uri": "https://localhost:8080/"
        },
        "id": "fQgXZZ0IsvzS",
        "outputId": "616cd72e-0f7f-49e4-ea00-38efe209e7b5"
      },
      "outputs": [
        {
          "name": "stdout",
          "output_type": "stream",
          "text": [
            "Overwriting week13_2-2.c\n"
          ]
        }
      ],
      "source": [
        "# 파일 작성\n",
        "%%writefile week13_2-2.c\n",
        "\n",
        "#include <stdio.h>\n",
        "#include <string.h>\n",
        "\n",
        "int main(void) {\n",
        "    char str[200];\n",
        "    printf(\"문자열을 하나 입력하세요. \");\n",
        "    scanf(\"%s\", str);\n",
        "    for (int i = 0; i < strlen(str); i++)\n",
        "      if (str[i] >= 'a' && str[i] <= 'z') str[i] += ('A'-'a');\n",
        "    printf(\"%s\\n\",str);\n",
        "    return 0;\n",
        "}"
      ]
    },
    {
      "cell_type": "code",
      "execution_count": null,
      "metadata": {
        "colab": {
          "base_uri": "https://localhost:8080/"
        },
        "id": "3QWp1KT6svg1",
        "outputId": "2ccfbe43-ad69-4f8f-ecb1-61fa57f983b6"
      },
      "outputs": [
        {
          "name": "stdout",
          "output_type": "stream",
          "text": [
            "문자열을 하나 입력하세요. sejong\n",
            "SEJONG\n"
          ]
        },
        {
          "data": {
            "text/plain": []
          },
          "execution_count": 12,
          "metadata": {},
          "output_type": "execute_result"
        }
      ],
      "source": [
        "# 파일 실행(불러오기)\n",
        "%%shell\n",
        "gcc week13_2-2.c -o bout\n",
        "./bout"
      ]
    },
    {
      "cell_type": "markdown",
      "metadata": {
        "id": "yT5EVeirtY7E"
      },
      "source": [
        "\n",
        "\n",
        "---\n",
        "\n"
      ]
    },
    {
      "cell_type": "markdown",
      "metadata": {
        "id": "LtQpQzsbsuiO"
      },
      "source": [
        "**3. 문자열 입출력**"
      ]
    },
    {
      "cell_type": "markdown",
      "metadata": {
        "id": "OhOvPKPMtcso"
      },
      "source": [
        "- `printf()` 함수를 이용한 문자열 출력\n",
        "  - 문자열을 `printf()` 함수나 `scanf()` 함수를 이용하여 입력 및 출력할 수 있음\n",
        "    - 정수, 문자, 문자열 등 다양한 형태의 자료 처리 가능\n",
        "    - 함수 크기가 크고 속도가 느린 단점이 있음\n",
        "  - `gets()` 함수, `puts()` 함수\n",
        "    - 문자열과 문자에 특화된 입출력 함수\n",
        "    - 속도가 빠르고 문자열 입출력에 적합한 기능 제공\n",
        "  - 이 함수들 모두 `<stdio.h>`에 선언되어 있음\n",
        "    - `gets()` : 한 줄의 문자열을 읽어서 문자 배열에 저장\n",
        "    - `puts()` : 배열에 저장되어 있는 한 줄의 문자열을 출력\n",
        "  - 문자열을 하나의 단위로 취급\n",
        "  - 서식 지정자 : `%s`\n",
        "  - 인자 : 문자열의 이름\n",
        "\n",
        "- 출력 시 널 문자의 역할\n",
        "  - 배열에서 초기화가 명시되지 않은 원소는 '\\0'으로 초기화 됨\n",
        "  - 널 문자는 화면에 공백처럼 출력, but 공백 문자와는 다름\n",
        "\n",
        "- `scanf()` 함수를 이용한 문자열 입력\n",
        "  - 서식 지정자 : `%s`\n",
        "  - 인자 : 문자열의 이름\n",
        "  - 사용자로부터 입력 받은 문자열을 저장\n",
        "\n",
        "- 주의 사항\n",
        "  - 문자열(널 문자 포함)을 저장할 충분한 공간이 확보되어 있어야 함(모든 배열에 공통적인 사항)\n",
        "  "
      ]
    },
    {
      "cell_type": "markdown",
      "metadata": {
        "id": "kW3IKN9bverN"
      },
      "source": [
        "**예제**\n",
        "\n",
        "다음 프로그램을 작성하여 실행해보자.\n",
        "- 크기가 6인 문자 배열 str을 선언\n",
        "- 사용자로부터 문자열 \"Hello\"를 입력 받아 str에 저장\n",
        "- 문자열 str을 화면에 출력\n",
        "- str[5]에 물음표 문자 '?' 대입\n",
        "- 문자열 str을 화면에 출력"
      ]
    },
    {
      "cell_type": "code",
      "execution_count": null,
      "metadata": {
        "colab": {
          "base_uri": "https://localhost:8080/"
        },
        "id": "oUHMkHG5vtJz",
        "outputId": "80cda112-0c1b-4429-d1eb-ea857fb60d2d"
      },
      "outputs": [
        {
          "name": "stdout",
          "output_type": "stream",
          "text": [
            "Writing week13_3-1.c\n"
          ]
        }
      ],
      "source": [
        "# 파일 작성\n",
        "%%writefile week13_3-1.c\n",
        "\n",
        "#include <stdio.h>\n",
        "#include <string.h>\n",
        "\n",
        "int main(void) {\n",
        "    char str[6];   // 문자 배열 선언\n",
        "\n",
        "    scanf(\"%s\", str);   // 문자열 입력\n",
        "    printf(\"%s\\n\", str);   // 문자열 출력\n",
        "\n",
        "    str[5] = '?';   // 문자 대입\n",
        "    printf(\"%s\\n\",str);   // 문자열 출력\n",
        "\n",
        "    return 0;\n",
        "}"
      ]
    },
    {
      "cell_type": "code",
      "execution_count": null,
      "metadata": {
        "colab": {
          "base_uri": "https://localhost:8080/"
        },
        "id": "A6KIQsoAvtg2",
        "outputId": "bbebb556-8117-40a2-bb0b-6b29184219a9"
      },
      "outputs": [
        {
          "name": "stdout",
          "output_type": "stream",
          "text": [
            "Hello\n",
            "Hello\n",
            "Hello?\n"
          ]
        },
        {
          "data": {
            "text/plain": []
          },
          "execution_count": 14,
          "metadata": {},
          "output_type": "execute_result"
        }
      ],
      "source": [
        "# 파일 실행(불러오기)\n",
        "%%shell\n",
        "gcc week13_3-1.c -o bout\n",
        "./bout"
      ]
    },
    {
      "cell_type": "markdown",
      "metadata": {
        "id": "stj5yO4twRwM"
      },
      "source": [
        "- `puts()` 함수를 이용한 문자열 출력\n",
        "  - `printf()` 함수와 달리 문자열 다음에 '\\n' 출력\n",
        "  - 출력에 실패하면 E0F(End of File)이라는 상수 반환  \n",
        "    : E0F는 상수로 정수 -1의 값을 가짐"
      ]
    },
    {
      "cell_type": "markdown",
      "metadata": {
        "id": "HLvoizY0wkvA"
      },
      "source": [
        "**예제**\n",
        "\n",
        "아래 결과가 나오도록 printf() 함수와 puts() 함수를 사용하여 구현 하시오.\n",
        "\n",
        "실행 결과 : `Hi!World!`"
      ]
    },
    {
      "cell_type": "code",
      "execution_count": null,
      "metadata": {
        "colab": {
          "base_uri": "https://localhost:8080/"
        },
        "id": "W_bbVDTWwuSw",
        "outputId": "7fb1e538-7914-4e1f-8c43-7ce600088e9e"
      },
      "outputs": [
        {
          "name": "stdout",
          "output_type": "stream",
          "text": [
            "Writing week13_3-2.c\n"
          ]
        }
      ],
      "source": [
        "# 파일 작성\n",
        "%%writefile week13_3-2.c\n",
        "\n",
        "#include <stdio.h>\n",
        "#include <string.h>\n",
        "\n",
        "int main(void) {\n",
        "    char str[10] = \"Hi!World!\";\n",
        "\n",
        "    printf(\"%s\\n\", str);   // printf() 함수 사용\n",
        "\n",
        "    puts(str);   // puts() 함수 사용\n",
        "\n",
        "    return 0;\n",
        "}"
      ]
    },
    {
      "cell_type": "code",
      "execution_count": null,
      "metadata": {
        "colab": {
          "base_uri": "https://localhost:8080/"
        },
        "id": "XFDVUa2mwwj9",
        "outputId": "4a754de4-fca1-4c62-9b37-591e8a1acb14"
      },
      "outputs": [
        {
          "name": "stdout",
          "output_type": "stream",
          "text": [
            "Hi!World!\n",
            "Hi!World!\n"
          ]
        },
        {
          "data": {
            "text/plain": []
          },
          "execution_count": 16,
          "metadata": {},
          "output_type": "execute_result"
        }
      ],
      "source": [
        "# 파일 실행(불러오기)\n",
        "%%shell\n",
        "gcc week13_3-2.c -o bout\n",
        "./bout"
      ]
    },
    {
      "cell_type": "markdown",
      "metadata": {
        "id": "G6wvvb3rxHV3"
      },
      "source": [
        "- `gets()` 함수를 이용한 문자열 입력\n",
        "  - 문자열 전용 입력 함수\n",
        "  - [Enter] 키를 입력하기 전까지 사용자가 입력한 문자열을 주어진 문자열 변수에 저장\n",
        "    - 마지막에 입력된 '\\n'은 버리고, 대신 '\\0'을 붙여 문자열 완성\n",
        "    - 실패하면 NULL 반환\n",
        "  - `scanf()` 함수와 달리 공백을 포함한 문자열을 입력 받을 수 있음"
      ]
    },
    {
      "cell_type": "markdown",
      "metadata": {
        "id": "STDZXYjBxjHF"
      },
      "source": [
        "**예제**\n",
        "\n",
        "한 줄 문자열 입력 및 출력"
      ]
    },
    {
      "cell_type": "code",
      "execution_count": null,
      "metadata": {
        "colab": {
          "base_uri": "https://localhost:8080/"
        },
        "id": "wcTHU6fuxmkw",
        "outputId": "77819670-bc50-4c61-fb45-56e7f6b5d22f"
      },
      "outputs": [
        {
          "name": "stdout",
          "output_type": "stream",
          "text": [
            "Writing week13_3-3.c\n"
          ]
        }
      ],
      "source": [
        "# 파일 작성\n",
        "%%writefile week13_3-3.c\n",
        "\n",
        "#include <stdio.h>\n",
        "#include <string.h>\n",
        "\n",
        "int main(void) {\n",
        "    char name[100];\n",
        "    char phone_number[100];\n",
        "\n",
        "    printf(\"이름을 입력하시오. \");\n",
        "    gets(name);\n",
        "\n",
        "    printf(\"전화번호를 입력하시오. \");\n",
        "    gets(phone_number);\n",
        "\n",
        "    puts(name);\n",
        "    puts(phone_number);\n",
        "\n",
        "    return 0;\n",
        "}"
      ]
    },
    {
      "cell_type": "code",
      "execution_count": null,
      "metadata": {
        "colab": {
          "base_uri": "https://localhost:8080/"
        },
        "id": "1KhkMr-_xm2g",
        "outputId": "58ba9174-b251-4608-d8c6-d0322196f89d"
      },
      "outputs": [
        {
          "name": "stdout",
          "output_type": "stream",
          "text": [
            "\u001b[01m\u001b[Kweek13_3-3.c:\u001b[m\u001b[K In function ‘\u001b[01m\u001b[Kmain\u001b[m\u001b[K’:\n",
            "\u001b[01m\u001b[Kweek13_3-3.c:10:5:\u001b[m\u001b[K \u001b[01;35m\u001b[Kwarning: \u001b[m\u001b[Kimplicit declaration of function ‘\u001b[01m\u001b[Kgets\u001b[m\u001b[K’; did you mean ‘\u001b[01m\u001b[Kfgets\u001b[m\u001b[K’? [\u001b[01;35m\u001b[K-Wimplicit-function-declaration\u001b[m\u001b[K]\n",
            "     \u001b[01;35m\u001b[Kgets\u001b[m\u001b[K(name);\n",
            "     \u001b[01;35m\u001b[K^~~~\u001b[m\u001b[K\n",
            "     \u001b[32m\u001b[Kfgets\u001b[m\u001b[K\n",
            "/tmp/ccgAcpgD.o: In function `main':\n",
            "week13_3-3.c:(.text+0x3b): warning: the `gets' function is dangerous and should not be used.\n",
            "이름을 입력하시오. 이 세 종\n",
            "전화번호를 입력하시오. 종\n",
            "이 세 종\n",
            "종\n"
          ]
        },
        {
          "data": {
            "text/plain": []
          },
          "execution_count": 18,
          "metadata": {},
          "output_type": "execute_result"
        }
      ],
      "source": [
        "# 파일 실행(불러오기)\n",
        "%%shell\n",
        "gcc week13_3-3.c -o bout\n",
        "./bout"
      ]
    },
    {
      "cell_type": "markdown",
      "metadata": {
        "id": "RRWvZwTXyOF5"
      },
      "source": [
        "- 입출력 함수 비교\n",
        "\n",
        "|함수 이름|의미와 특징|\n",
        "|:-:|--|\n",
        "|scanf()|▶ 문자열을 읽어서 문자 배열에 저장함 <br> ▶ 공백이 나올 때까지 문자열로 입력 받음|\n",
        "|gets()|▶ 한 줄의 문자열을 읽어서 문자 배열에 저장함 <br> ▶ 엔터키가 나올 때까지 한 줄을 문자열로 입력 받음|\n",
        "|printf()|▶ 문자 배열에 저장되어 있는 문자열을 출력함 <br> ▶ 포맷에 맞추어 출력이 가능함|\n",
        "|puts()|▶ 문자 배열에 저장되어 있는 한 줄의 문자열을 출력함 <br> ▶ 문자열의 끝에 있는 NULL 문자가 '\\n'로 변경됨|"
      ]
    },
    {
      "cell_type": "markdown",
      "metadata": {
        "id": "rPA2u7BhzIKM"
      },
      "source": [
        "**예제**\n",
        "\n",
        "이름, 학번, 이메일, 주소를 입력 받고 출력 하시오."
      ]
    },
    {
      "cell_type": "code",
      "execution_count": null,
      "metadata": {
        "colab": {
          "base_uri": "https://localhost:8080/"
        },
        "id": "Kwx4faItzOi5",
        "outputId": "5f4146a7-43cf-499f-db2d-14e8accca799"
      },
      "outputs": [
        {
          "name": "stdout",
          "output_type": "stream",
          "text": [
            "Overwriting week13_3-4.c\n"
          ]
        }
      ],
      "source": [
        "# 파일 작성\n",
        "%%writefile week13_3-4.c\n",
        "\n",
        "#include <stdio.h>\n",
        "#include <string.h>\n",
        "\n",
        "int main(void) {\n",
        "    char name[50], sn[50], email[50], addr[100];\n",
        "\n",
        "    printf(\"이름을 입력하시오. \");\n",
        "    fgets(name);\n",
        "\n",
        "    printf(\"학번을 입력하시오. \");\n",
        "    fgets(sn);\n",
        "\n",
        "    printf(\"이메일을 입력하시오. \");\n",
        "    fgets(email);\n",
        "\n",
        "    printf(\"주소를 입력하시오. \");\n",
        "    fgets(addr);\n",
        "\n",
        "    printf(\"이름 : \");\n",
        "    puts(name);\n",
        "    printf(\"학번 : \");\n",
        "    puts(sn);\n",
        "    printf(\"이메일 : \");\n",
        "    puts(email);\n",
        "    printf(\"주소 : \");\n",
        "    puts(addr);\n",
        "\n",
        "    return 0;\n",
        "}"
      ]
    },
    {
      "cell_type": "code",
      "execution_count": null,
      "metadata": {
        "colab": {
          "base_uri": "https://localhost:8080/"
        },
        "id": "dkLOaqzFz1hG",
        "outputId": "4a06b3b5-d427-49ce-937e-841f6c1ac7de"
      },
      "outputs": [
        {
          "name": "stdout",
          "output_type": "stream",
          "text": [
            "\u001b[01m\u001b[Kweek13_3-4.c:\u001b[m\u001b[K In function ‘\u001b[01m\u001b[Kmain\u001b[m\u001b[K’:\n",
            "\u001b[01m\u001b[Kweek13_3-4.c:9:5:\u001b[m\u001b[K \u001b[01;31m\u001b[Kerror: \u001b[m\u001b[Ktoo few arguments to function ‘\u001b[01m\u001b[Kfgets\u001b[m\u001b[K’\n",
            "     \u001b[01;31m\u001b[Kfgets\u001b[m\u001b[K(name);\n",
            "     \u001b[01;31m\u001b[K^~~~~\u001b[m\u001b[K\n",
            "In file included from \u001b[01m\u001b[Kweek13_3-4.c:2:0\u001b[m\u001b[K:\n",
            "\u001b[01m\u001b[K/usr/include/stdio.h:564:14:\u001b[m\u001b[K \u001b[01;36m\u001b[Knote: \u001b[m\u001b[Kdeclared here\n",
            " extern char *\u001b[01;36m\u001b[Kfgets\u001b[m\u001b[K (char *__restrict __s, int __n, FILE *__restrict __stream)\n",
            "              \u001b[01;36m\u001b[K^~~~~\u001b[m\u001b[K\n",
            "\u001b[01m\u001b[Kweek13_3-4.c:12:5:\u001b[m\u001b[K \u001b[01;31m\u001b[Kerror: \u001b[m\u001b[Ktoo few arguments to function ‘\u001b[01m\u001b[Kfgets\u001b[m\u001b[K’\n",
            "     \u001b[01;31m\u001b[Kfgets\u001b[m\u001b[K(sn);\n",
            "     \u001b[01;31m\u001b[K^~~~~\u001b[m\u001b[K\n",
            "In file included from \u001b[01m\u001b[Kweek13_3-4.c:2:0\u001b[m\u001b[K:\n",
            "\u001b[01m\u001b[K/usr/include/stdio.h:564:14:\u001b[m\u001b[K \u001b[01;36m\u001b[Knote: \u001b[m\u001b[Kdeclared here\n",
            " extern char *\u001b[01;36m\u001b[Kfgets\u001b[m\u001b[K (char *__restrict __s, int __n, FILE *__restrict __stream)\n",
            "              \u001b[01;36m\u001b[K^~~~~\u001b[m\u001b[K\n",
            "\u001b[01m\u001b[Kweek13_3-4.c:15:5:\u001b[m\u001b[K \u001b[01;31m\u001b[Kerror: \u001b[m\u001b[Ktoo few arguments to function ‘\u001b[01m\u001b[Kfgets\u001b[m\u001b[K’\n",
            "     \u001b[01;31m\u001b[Kfgets\u001b[m\u001b[K(email);\n",
            "     \u001b[01;31m\u001b[K^~~~~\u001b[m\u001b[K\n",
            "In file included from \u001b[01m\u001b[Kweek13_3-4.c:2:0\u001b[m\u001b[K:\n",
            "\u001b[01m\u001b[K/usr/include/stdio.h:564:14:\u001b[m\u001b[K \u001b[01;36m\u001b[Knote: \u001b[m\u001b[Kdeclared here\n",
            " extern char *\u001b[01;36m\u001b[Kfgets\u001b[m\u001b[K (char *__restrict __s, int __n, FILE *__restrict __stream)\n",
            "              \u001b[01;36m\u001b[K^~~~~\u001b[m\u001b[K\n",
            "\u001b[01m\u001b[Kweek13_3-4.c:18:5:\u001b[m\u001b[K \u001b[01;31m\u001b[Kerror: \u001b[m\u001b[Ktoo few arguments to function ‘\u001b[01m\u001b[Kfgets\u001b[m\u001b[K’\n",
            "     \u001b[01;31m\u001b[Kfgets\u001b[m\u001b[K(addr);\n",
            "     \u001b[01;31m\u001b[K^~~~~\u001b[m\u001b[K\n",
            "In file included from \u001b[01m\u001b[Kweek13_3-4.c:2:0\u001b[m\u001b[K:\n",
            "\u001b[01m\u001b[K/usr/include/stdio.h:564:14:\u001b[m\u001b[K \u001b[01;36m\u001b[Knote: \u001b[m\u001b[Kdeclared here\n",
            " extern char *\u001b[01;36m\u001b[Kfgets\u001b[m\u001b[K (char *__restrict __s, int __n, FILE *__restrict __stream)\n",
            "              \u001b[01;36m\u001b[K^~~~~\u001b[m\u001b[K\n",
            "이름을 입력하시오. 이세종\n",
            "학번을 입력하시오. 종\n",
            "이메일을 입력하시오. good@sejong.ac.kr\n",
            "주소를 입력하시오. 05006 서울시 광진구 능동로 209\n",
            "이름 : 이세종\n",
            "학번 : 종\n",
            "이메일 : good@sejong.ac.kr\n",
            "주소 : 05006 서울시 광진구 능동로 209\n"
          ]
        },
        {
          "data": {
            "text/plain": []
          },
          "execution_count": 22,
          "metadata": {},
          "output_type": "execute_result"
        }
      ],
      "source": [
        "# 파일 실행(불러오기)\n",
        "%%shell\n",
        "gcc week13_3-4.c -o bout\n",
        "./bout"
      ]
    },
    {
      "cell_type": "markdown",
      "metadata": {
        "id": "oAKV2HaO94PG"
      },
      "source": [
        "\n",
        "\n",
        "---\n",
        "\n"
      ]
    },
    {
      "cell_type": "markdown",
      "metadata": {
        "id": "raxPUs2K95CD"
      },
      "source": [
        "**13주차 온라인 강의 퀴즈 - 3**"
      ]
    },
    {
      "cell_type": "code",
      "execution_count": null,
      "metadata": {
        "colab": {
          "base_uri": "https://localhost:8080/"
        },
        "id": "0xIEQM6X-BVR",
        "outputId": "3635f408-9766-47ad-a902-9ae35e742690"
      },
      "outputs": [
        {
          "name": "stdout",
          "output_type": "stream",
          "text": [
            "Overwriting week13_3.c\n"
          ]
        }
      ],
      "source": [
        "# 파일 작성\n",
        "%%writefile week13_3.c\n",
        "\n",
        "#include <stdio.h>\n",
        "#include <string.h>\n",
        "\n",
        "int main(void) {\n",
        "    char str[20] = \"Hello\";\n",
        "    char str2[20] = \"World\";\n",
        "    strcat(str, str2);\n",
        "    printf(\"%d\", strlen(str));\n",
        "    puts(str);\n",
        "    return 0;\n",
        "}"
      ]
    },
    {
      "cell_type": "code",
      "execution_count": null,
      "metadata": {
        "colab": {
          "base_uri": "https://localhost:8080/"
        },
        "id": "4AUux30J-M6z",
        "outputId": "ede685a2-42a8-4f7d-c4a5-61f2549c02ae"
      },
      "outputs": [
        {
          "name": "stdout",
          "output_type": "stream",
          "text": [
            "\u001b[01m\u001b[Kweek13_3.c:\u001b[m\u001b[K In function ‘\u001b[01m\u001b[Kmain\u001b[m\u001b[K’:\n",
            "\u001b[01m\u001b[Kweek13_3.c:9:14:\u001b[m\u001b[K \u001b[01;35m\u001b[Kwarning: \u001b[m\u001b[Kformat ‘\u001b[01m\u001b[K%d\u001b[m\u001b[K’ expects argument of type ‘\u001b[01m\u001b[Kint\u001b[m\u001b[K’, but argument 2 has type ‘\u001b[01m\u001b[Ksize_t {aka long unsigned int}\u001b[m\u001b[K’ [\u001b[01;35m\u001b[K-Wformat=\u001b[m\u001b[K]\n",
            "     printf(\"\u001b[01;35m\u001b[K%d\u001b[m\u001b[K\", \u001b[32m\u001b[Kstrlen(str)\u001b[m\u001b[K);\n",
            "             \u001b[01;35m\u001b[K~^\u001b[m\u001b[K   \u001b[32m\u001b[K~~~~~~~~~~~\u001b[m\u001b[K\n",
            "             \u001b[32m\u001b[K%ld\u001b[m\u001b[K\n",
            "10HelloWorld\n"
          ]
        },
        {
          "data": {
            "text/plain": []
          },
          "execution_count": 6,
          "metadata": {},
          "output_type": "execute_result"
        }
      ],
      "source": [
        "# 파일 실행(불러오기)\n",
        "%%shell\n",
        "gcc week13_3.c -o bout\n",
        "./bout"
      ]
    },
    {
      "cell_type": "markdown",
      "metadata": {
        "id": "gG2xqAhyBXks"
      },
      "source": [
        "\n",
        "\n",
        "---\n",
        "\n"
      ]
    },
    {
      "cell_type": "markdown",
      "metadata": {
        "id": "zRLdyiK5BYYv"
      },
      "source": [
        "**프활C 실습문제13-01**\n",
        "\n",
        "크기 15인 문자열을 선언하고 문자열을 입력 받아 모음이 몇 번째 글자 인지 출력하세요.  \n",
        "모음은 a, e, i, o, u 입니다.  \n",
        "(단 입력되는 문자열의 크기는 15이 넘지 않고 소문자로 이루어져 있습니다.)"
      ]
    },
    {
      "cell_type": "code",
      "execution_count": null,
      "metadata": {
        "colab": {
          "base_uri": "https://localhost:8080/"
        },
        "id": "zsVXlt44BjWm",
        "outputId": "ab972187-1a6e-482e-a854-21ab78388c70"
      },
      "outputs": [
        {
          "name": "stdout",
          "output_type": "stream",
          "text": [
            "Overwriting week13_ex1.c\n"
          ]
        }
      ],
      "source": [
        "# 파일 작성\n",
        "%%writefile week13_ex1.c\n",
        "\n",
        "#include<stdio.h>\n",
        "#include<string.h>\n",
        "\n",
        "int main(){\n",
        "  char str[15];\n",
        "  scanf(\"%s\", str);\n",
        "\n",
        "  for (int i = 0; i < strlen(str) ; i++){\n",
        "    if ((str[i] == 'a') || (str[i] == 'e') || (str[i] == 'i') || (str[i] == 'o') || (str[i] == 'u'))\n",
        "      printf(\"%d \",i+1);\n",
        "\n",
        "  }\n",
        "\n",
        "  return 0;\n",
        "}"
      ]
    },
    {
      "cell_type": "code",
      "execution_count": null,
      "metadata": {
        "colab": {
          "base_uri": "https://localhost:8080/"
        },
        "id": "QdOyFTYtBjtI",
        "outputId": "231e832c-5e29-4854-e361-ebaf45993a9a"
      },
      "outputs": [
        {
          "name": "stdout",
          "output_type": "stream",
          "text": [
            "sejong\n",
            "2 4 "
          ]
        },
        {
          "data": {
            "text/plain": []
          },
          "execution_count": 29,
          "metadata": {},
          "output_type": "execute_result"
        }
      ],
      "source": [
        "# 파일 실행(불러오기)\n",
        "%%shell\n",
        "gcc week13_ex1.c -o bout\n",
        "./bout"
      ]
    },
    {
      "cell_type": "markdown",
      "metadata": {
        "id": "JSvFpp_lBj_5"
      },
      "source": [
        "**프활C 실습문제13-02**\n",
        "\n",
        "크기가 10이하인 문자열 2개를 선언하고 먼저 입력 받은 문자열을 모두 대문자로 바꾸세요. 이후 두 문자열이 같으면 Same을 다르면 Different를 출력하세요."
      ]
    },
    {
      "cell_type": "code",
      "execution_count": null,
      "metadata": {
        "colab": {
          "base_uri": "https://localhost:8080/"
        },
        "id": "MJkqk0bOBwFO",
        "outputId": "8b04a09a-e3e9-4252-e924-543763e79676"
      },
      "outputs": [
        {
          "name": "stdout",
          "output_type": "stream",
          "text": [
            "Overwriting week13_ex2.c\n"
          ]
        }
      ],
      "source": [
        "# 파일 작성\n",
        "%%writefile week13_ex2.c\n",
        "\n",
        "#include<stdio.h>\n",
        "#include<string.h>\n",
        "\n",
        "int main(){\n",
        "  char str1[10], str2[10];\n",
        "  scanf(\"%s\", str1);\n",
        "  scanf(\"%s\", str2);\n",
        "\n",
        "  for (int i = 0; i < strlen(str1) ; i++){\n",
        "    if ('a' <= str1[i] && str1[i] <= 'z')\n",
        "      str1[i] -= 32;\n",
        "  }\n",
        "\n",
        "  if (strcmp(str1,str2) == 0) printf(\"Same\");   // strcmp 는 비교해주는 함수\n",
        "  else printf(\"Different\");\n",
        "\n",
        "  return 0;\n",
        "}"
      ]
    },
    {
      "cell_type": "code",
      "execution_count": null,
      "metadata": {
        "colab": {
          "base_uri": "https://localhost:8080/"
        },
        "id": "mPHWE_XjBwkS",
        "outputId": "dc499c7a-bcfb-44e7-b756-329295cc5e29"
      },
      "outputs": [
        {
          "name": "stdout",
          "output_type": "stream",
          "text": [
            "bts\n",
            "BTs\n",
            "Different"
          ]
        },
        {
          "data": {
            "text/plain": []
          },
          "execution_count": 65,
          "metadata": {},
          "output_type": "execute_result"
        }
      ],
      "source": [
        "# 파일 실행(불러오기)\n",
        "%%shell\n",
        "gcc week13_ex2.c -o bout\n",
        "./bout"
      ]
    },
    {
      "cell_type": "markdown",
      "metadata": {
        "id": "E4xW5xbOBw4Z"
      },
      "source": [
        "**프활C 실습문제13-03**\n",
        "\n",
        "크기가 15이하인 알파벳을 입력받고 똑바로 읽으나 거꾸로 읽으나 똑같은 단어인 회문인지 확인하고 회문이 맞다면 Palindrome을 아니라면 Not Palindrome을 출력하세요."
      ]
    },
    {
      "cell_type": "code",
      "execution_count": null,
      "metadata": {
        "colab": {
          "base_uri": "https://localhost:8080/"
        },
        "id": "pILZKSJGB6wG",
        "outputId": "a7d75565-90d4-464a-cd60-4b2cc71b0704"
      },
      "outputs": [
        {
          "name": "stdout",
          "output_type": "stream",
          "text": [
            "Overwriting week13_ex3.c\n"
          ]
        }
      ],
      "source": [
        "# 파일 작성\n",
        "%%writefile week13_ex3.c\n",
        "\n",
        "#include<stdio.h>\n",
        "#include<string.h>\n",
        "\n",
        "int main(){\n",
        "  char str[15];\n",
        "  scanf(\"%s\", str);\n",
        "\n",
        "  char rts[15];\n",
        "  for (int i = strlen(str) ; i >= 0 ; i--){\n",
        "    rts[strlen(str)-i-1] = str[i];\n",
        "  }\n",
        "\n",
        "  int n = 0;\n",
        "  for (int i = 0 ; i < strlen(str) ; i++){\n",
        "    if (str[i] == rts[i]) n += 1;\n",
        "  }\n",
        "  if (n == strlen(str)) printf(\"Palindrome\");\n",
        "  else printf(\"Not Palindrome\");\n",
        "\n",
        "  return 0;\n",
        "}"
      ]
    },
    {
      "cell_type": "code",
      "execution_count": null,
      "metadata": {
        "colab": {
          "base_uri": "https://localhost:8080/"
        },
        "id": "hIuU3AyDB7Fw",
        "outputId": "7b62b9f7-42b8-4051-bd9e-246dfc595ba1"
      },
      "outputs": [
        {
          "name": "stdout",
          "output_type": "stream",
          "text": [
            "rotator\n",
            "Palindrome"
          ]
        },
        {
          "data": {
            "text/plain": []
          },
          "execution_count": 58,
          "metadata": {},
          "output_type": "execute_result"
        }
      ],
      "source": [
        "# 파일 실행(불러오기)\n",
        "%%shell\n",
        "gcc week13_ex3.c -o bout\n",
        "./bout"
      ]
    },
    {
      "cell_type": "markdown",
      "metadata": {
        "id": "nnyk1Sl-B7ZP"
      },
      "source": [
        "\n",
        "\n",
        "---\n",
        "\n"
      ]
    },
    {
      "cell_type": "markdown",
      "metadata": {
        "id": "6IXkd2YYB8WL"
      },
      "source": [
        "**프활C 실습퀴즈13-01**\n",
        "\n",
        "두개의 문자열 s1, s2를 입력 받고, s1과 s2에 같은 index에 있는 문자들을 비교해서 같으면 O 다르면 X를 출력하세요.  \n",
        "(문자 비교 중 공백일 경우 X를 출력)  \n",
        "(단, 문자열의 길이는 모두 30을 넘지 않는다.)"
      ]
    },
    {
      "cell_type": "code",
      "execution_count": null,
      "metadata": {
        "colab": {
          "base_uri": "https://localhost:8080/"
        },
        "id": "EpzAOJSDCCMJ",
        "outputId": "384f531a-ffa5-4c30-8d13-d51425104df6"
      },
      "outputs": [
        {
          "name": "stdout",
          "output_type": "stream",
          "text": [
            "Overwriting week13_q1.c\n"
          ]
        }
      ],
      "source": [
        "# 파일 작성\n",
        "%%writefile week13_q1.c\n",
        "\n",
        "#include<stdio.h>\n",
        "#include<string.h>\n",
        "\n",
        "int main(void){\n",
        "\n",
        "  char s1[30], s2[30];\n",
        "  scanf(\"%s\", s1);\n",
        "  scanf(\"%s\", s2);\n",
        "\n",
        "  int max;\n",
        "  max = (strlen(s1) <= strlen(s2)) ? strlen(s2) : strlen(s1);\n",
        "\n",
        "  for (int i = 0 ; i < max ; i++){\n",
        "    if (s1[i] == s2[i]) printf(\"O\");\n",
        "    else printf(\"X\");\n",
        "  }\n",
        "\n",
        "  return 0;\n",
        "}"
      ]
    },
    {
      "cell_type": "code",
      "execution_count": null,
      "metadata": {
        "colab": {
          "base_uri": "https://localhost:8080/"
        },
        "id": "fGh2IbWzCCd4",
        "outputId": "eaf2841e-5cf4-4d71-fc54-f39d4c2bb582"
      },
      "outputs": [
        {
          "name": "stdout",
          "output_type": "stream",
          "text": [
            "struct\n",
            "starcity\n",
            "OOXXOXXX"
          ]
        },
        {
          "data": {
            "text/plain": []
          },
          "execution_count": 24,
          "metadata": {},
          "output_type": "execute_result"
        }
      ],
      "source": [
        "# 파일 실행(불러오기)\n",
        "%%shell\n",
        "gcc week13_q1.c -o bout\n",
        "./bout"
      ]
    },
    {
      "cell_type": "markdown",
      "metadata": {
        "id": "Hm0OsRyMCEBo"
      },
      "source": [
        "**프활C 실습퀴즈13-02**\n",
        "\n",
        "문자열 S와 숫자 N을 입력 받는다.   \n",
        "다음과 같은 규칙으로 문자열을 바꾼다.   \n",
        "\n",
        " - 맨 앞글자는 문자열의 맨 뒤로 이동한다.   \n",
        " - 맨 앞을 제외한 나머지 문자들은 한칸씩 앞으로 이동한다.   \n",
        "\n",
        "문자열 S를 N번 바꾼 결과를 출력하세요.   \n",
        "(문자열의 길이는 30을 넘지 않고, N은 100보다 작은 양의 정수이다.)"
      ]
    },
    {
      "cell_type": "code",
      "execution_count": null,
      "metadata": {
        "colab": {
          "base_uri": "https://localhost:8080/"
        },
        "id": "GvMH0C7ACE5G",
        "outputId": "571dee8c-3310-438e-f0ec-2aa1f70ef3ea"
      },
      "outputs": [
        {
          "name": "stdout",
          "output_type": "stream",
          "text": [
            "Overwriting week13_q2.c\n"
          ]
        }
      ],
      "source": [
        "# 파일 작성\n",
        "%%writefile week13_q2.c\n",
        "\n",
        "#include<stdio.h>\n",
        "#include<string.h>\n",
        "\n",
        "int main(void){\n",
        "\n",
        "  char S[30];\n",
        "  int N;\n",
        "  scanf(\"%s\", S);\n",
        "  scanf(\"%d\", &N);\n",
        "\n",
        "  for(int i = 0 ; i < N; i++){\n",
        "    char SS[30] = \"\";\n",
        "    for(int j = 0; j < strlen(S); j++){\n",
        "      if (j == 0) SS[strlen(S)-1] = S[j];\n",
        "      else SS[j-1] = S[j];\n",
        "    }\n",
        "    for(int j = 0; j < strlen(SS); j++){\n",
        "      S[j] = SS[j];\n",
        "    }\n",
        "  }\n",
        "\n",
        "  puts(S);\n",
        "\n",
        "  return 0;\n",
        "}"
      ]
    },
    {
      "cell_type": "code",
      "execution_count": null,
      "metadata": {
        "colab": {
          "base_uri": "https://localhost:8080/"
        },
        "id": "q2cCGYH7CFJR",
        "outputId": "4a05ec71-6fd5-40f4-e6ee-6ff1804949f8"
      },
      "outputs": [
        {
          "name": "stdout",
          "output_type": "stream",
          "text": [
            "tomato\n",
            "9\n",
            "atotom\n"
          ]
        },
        {
          "data": {
            "text/plain": []
          },
          "execution_count": 35,
          "metadata": {},
          "output_type": "execute_result"
        }
      ],
      "source": [
        "# 파일 실행(불러오기)\n",
        "%%shell\n",
        "gcc week13_q2.c -o bout\n",
        "./bout"
      ]
    },
    {
      "cell_type": "markdown",
      "metadata": {
        "id": "RmeqHKCRCFc4"
      },
      "source": [
        "**프활C 실습퀴즈13-03**\n",
        "\n",
        "문자열 3개를 입력 받고 길이가 짧은 문자열부터 문자열의 마지막 문자를 출력하세요. 문자열의 길이는 20을 넘기지 않습니다.  \n",
        "(문자열 배열은 2차원 배열로 생성하세요. 같은 길이의 문자열은 없습니다.)\n"
      ]
    },
    {
      "cell_type": "code",
      "execution_count": null,
      "metadata": {
        "colab": {
          "base_uri": "https://localhost:8080/"
        },
        "id": "8VxJ-A7oCG4B",
        "outputId": "425a25d0-e10c-486d-df44-4b4086d3befc"
      },
      "outputs": [
        {
          "name": "stdout",
          "output_type": "stream",
          "text": [
            "Overwriting week13_q3.c\n"
          ]
        }
      ],
      "source": [
        "# 파일 작성\n",
        "%%writefile week13_q3.c\n",
        "\n",
        "#include<stdio.h>\n",
        "#include<string.h>\n",
        "\n",
        "int main(void){\n",
        "\n",
        "  char s1[20], s2[20], s3[20];\n",
        "  scanf(\"%s\", s1);\n",
        "  scanf(\"%s\", s2);\n",
        "  scanf(\"%s\", s3);\n",
        "\n",
        "  int l1 = strlen(s1)-1;\n",
        "  int l2 = strlen(s2)-1;\n",
        "  int l3 = strlen(s3)-1;\n",
        "\n",
        "  if (l1 < l2 && l1 < l3){\n",
        "    printf(\"%c\", s1[l1]);\n",
        "    if (l2 < l3) printf(\"%c%c\", s2[l2],s3[l3]);\n",
        "    else printf(\"%c%c\", s3[l3],s2[l2]);\n",
        "  }\n",
        "  else if (l2 < l1 && l2 < l3){\n",
        "    printf(\"%c\", s2[l2]);\n",
        "    if (l1 < l3) printf(\"%c%c\", s1[l1],s3[l3]);\n",
        "    else printf(\"%c%c\", s3[l3],s1[l1]);\n",
        "  }\n",
        "  else{\n",
        "    printf(\"%c\", s3[l3]);\n",
        "    if (l1 < l2) printf(\"%c%c\", s1[l1],s2[l2]);\n",
        "    else printf(\"%c%c\", s2[l2],s1[l1]);\n",
        "  }\n",
        "\n",
        "  return 0;\n",
        "}"
      ]
    },
    {
      "cell_type": "code",
      "execution_count": null,
      "metadata": {
        "colab": {
          "base_uri": "https://localhost:8080/"
        },
        "id": "5t6CBtdICHMe",
        "outputId": "e3afdcf3-5878-489b-f856-c32d813b74a3"
      },
      "outputs": [
        {
          "name": "stdout",
          "output_type": "stream",
          "text": [
            "Tomntoms\n",
            "Twosomeplace\n",
            "Starbucks\n",
            "sse"
          ]
        },
        {
          "data": {
            "text/plain": []
          },
          "execution_count": 40,
          "metadata": {},
          "output_type": "execute_result"
        }
      ],
      "source": [
        "# 파일 실행(불러오기)\n",
        "%%shell\n",
        "gcc week13_q3.c -o bout\n",
        "./bout"
      ]
    },
    {
      "cell_type": "markdown",
      "metadata": {
        "id": "HCMGHL8cLy4C"
      },
      "source": [
        "# **14주차.** 구조체"
      ]
    },
    {
      "cell_type": "markdown",
      "metadata": {
        "id": "HWj2VuJZBRWR"
      },
      "source": [
        "**14주차 온라인 강의 퀴즈 - 2**"
      ]
    },
    {
      "cell_type": "code",
      "execution_count": null,
      "metadata": {
        "colab": {
          "base_uri": "https://localhost:8080/"
        },
        "id": "7buHE2kEBPcW",
        "outputId": "7c7d6a7b-53dd-4af9-d181-6d9b26c1bda0"
      },
      "outputs": [
        {
          "name": "stdout",
          "output_type": "stream",
          "text": [
            "Writing week14_2.c\n"
          ]
        }
      ],
      "source": [
        "# 파일 작성\n",
        "%%writefile week14_2.c\n",
        "\n",
        "#include <stdio.h>\n",
        "#include <math.h>\n",
        "struct Point {\n",
        "    int x;\n",
        "    int y;\n",
        "}typedef Point;\n",
        "\n",
        "double getDistance(Point a, Point b) {\n",
        "    double dist = (a.x - b.x) * (a.x - b.x) + (a.y - b.y) * (a.y - b.y);\n",
        "    return sqrt(dist);\n",
        "}\n",
        "\n",
        "int main(void) {\n",
        "    Point p1, p2;\n",
        "    p1.x = 6;   p1.y = 0;\n",
        "    p2.x = 2;   p2.y = 0;\n",
        "\n",
        "    printf(\"%d\", (int)getDistance(p1, p2));\n",
        "    return 0;\n",
        "}"
      ]
    },
    {
      "cell_type": "code",
      "execution_count": null,
      "metadata": {
        "colab": {
          "base_uri": "https://localhost:8080/"
        },
        "id": "l_03-uiWBZmY",
        "outputId": "2f5dd8f5-70de-4a18-9ee9-4e88ed8308e3"
      },
      "outputs": [
        {
          "name": "stdout",
          "output_type": "stream",
          "text": [
            "4"
          ]
        },
        {
          "data": {
            "text/plain": []
          },
          "execution_count": 3,
          "metadata": {},
          "output_type": "execute_result"
        }
      ],
      "source": [
        "# 파일 실행(불러오기)\n",
        "%%shell\n",
        "gcc week14_2.c -o week14_2 -lm\n",
        "./week14_2"
      ]
    },
    {
      "cell_type": "markdown",
      "metadata": {
        "id": "IMu2lB-sL1sw"
      },
      "source": [
        "# **15주차.** 파일 입출력"
      ]
    },
    {
      "cell_type": "markdown",
      "metadata": {
        "id": "OcayNYeWpVPr"
      },
      "source": [
        "# **기말고사 대비**"
      ]
    },
    {
      "cell_type": "markdown",
      "metadata": {
        "id": "J6CJ6PEOpYi7"
      },
      "source": [
        "**7주차 예습문제 - 1**\n",
        "\n",
        "반복해서 원의 반지름을 입력 받고 원의 넓이를 출력하려고 한다.  \n",
        "반복하여 반지름 r을 입력 받고 소수점 둘째자리까지 출력하세요.  \n",
        "만약 입력 받은 반지름 r이 0일 경우 반복을 종료하세요.  "
      ]
    },
    {
      "cell_type": "code",
      "execution_count": null,
      "metadata": {
        "colab": {
          "base_uri": "https://localhost:8080/"
        },
        "id": "utReqRZ2pnfb",
        "outputId": "4716223b-cdc8-499a-f17a-1fc0cc75fb75"
      },
      "outputs": [
        {
          "name": "stdout",
          "output_type": "stream",
          "text": [
            "Overwriting pre7_q1.c\n"
          ]
        }
      ],
      "source": [
        "# 파일 작성\n",
        "%%writefile pre7_q1.c\n",
        "\n",
        "#include<stdio.h>\n",
        "\n",
        "int main(){\n",
        "\n",
        "  int r = 1;\n",
        "  scanf(\"%d\",&r);\n",
        "  while (r != 0)\n",
        "  {\n",
        "    printf(\"%.2f\\n\",(double)r*r*3.14);\n",
        "    scanf(\"%d\",&r);\n",
        "  }\n",
        "\n",
        "  return 0;\n",
        "}"
      ]
    },
    {
      "cell_type": "code",
      "execution_count": null,
      "metadata": {
        "colab": {
          "base_uri": "https://localhost:8080/"
        },
        "id": "gF98sMhdpnzv",
        "outputId": "9763e85f-c5e2-4753-dd5c-e3d7de5b2319"
      },
      "outputs": [
        {
          "name": "stdout",
          "output_type": "stream",
          "text": [
            "15\n",
            "706.50\n",
            "23\n",
            "1661.06\n",
            "0\n"
          ]
        },
        {
          "data": {
            "text/plain": []
          },
          "execution_count": 4,
          "metadata": {},
          "output_type": "execute_result"
        }
      ],
      "source": [
        "# 파일 실행(불러오기)\n",
        "%%shell\n",
        "gcc pre7_q1.c -o bout\n",
        "./bout"
      ]
    },
    {
      "cell_type": "markdown",
      "metadata": {
        "id": "_gXXxXELqhzs"
      },
      "source": [
        "\n",
        "\n",
        "---\n",
        "\n"
      ]
    },
    {
      "cell_type": "markdown",
      "metadata": {
        "id": "01qVfxdFpz6W"
      },
      "source": [
        "**7주차 예습문제 - 2**\n",
        "\n",
        "양의 정수 n을 입력받으세요.  \n",
        "We Love BlackPink!  \n",
        "를 n번 출력하세요."
      ]
    },
    {
      "cell_type": "code",
      "execution_count": null,
      "metadata": {
        "colab": {
          "base_uri": "https://localhost:8080/"
        },
        "id": "47OwXuBtp_Xb",
        "outputId": "e71cbb8f-ca51-40e5-888f-c7b8eae140d6"
      },
      "outputs": [
        {
          "name": "stdout",
          "output_type": "stream",
          "text": [
            "Overwriting pre7_q2.c\n"
          ]
        }
      ],
      "source": [
        "# 파일 작성\n",
        "%%writefile pre7_q2.c\n",
        "\n",
        "#include<stdio.h>\n",
        "\n",
        "int main(){\n",
        "\n",
        "  int n;\n",
        "  scanf(\"%d\",&n);\n",
        "  for (int i = 0; i < n; i++)\n",
        "  {\n",
        "    printf(\"We Love BlackPink!\\n\");\n",
        "  }\n",
        "\n",
        "  return 0;\n",
        "}"
      ]
    },
    {
      "cell_type": "code",
      "execution_count": null,
      "metadata": {
        "colab": {
          "base_uri": "https://localhost:8080/"
        },
        "id": "nMpKqJF7qBba",
        "outputId": "210e6b13-fbcb-45c2-81d3-dafeefdabbf7"
      },
      "outputs": [
        {
          "name": "stdout",
          "output_type": "stream",
          "text": [
            "4\n",
            "We Love BlackPink!\n",
            "We Love BlackPink!\n",
            "We Love BlackPink!\n",
            "We Love BlackPink!\n"
          ]
        },
        {
          "data": {
            "text/plain": []
          },
          "execution_count": 10,
          "metadata": {},
          "output_type": "execute_result"
        }
      ],
      "source": [
        "# 파일 실행(불러오기)\n",
        "%%shell\n",
        "gcc pre7_q2.c -o bout\n",
        "./bout"
      ]
    },
    {
      "cell_type": "markdown",
      "metadata": {
        "id": "TzpEmHTAqixz"
      },
      "source": [
        "\n",
        "\n",
        "---\n",
        "\n"
      ]
    },
    {
      "cell_type": "markdown",
      "metadata": {
        "id": "IDP4GVIcp3Uv"
      },
      "source": [
        "**7주차 예습문제 - 3**\n",
        "\n",
        "양의 정수 n을 입력 받고 1부터 n까지의 곱을 출력하세요.  \n",
        "(단 1부터 n까지의 곱의 결과가 2,147,483,647를 넘지 않습니다.)"
      ]
    },
    {
      "cell_type": "code",
      "execution_count": null,
      "metadata": {
        "colab": {
          "base_uri": "https://localhost:8080/"
        },
        "id": "ERq4qMbbqCWy",
        "outputId": "9ab56a7d-c85f-4592-ba52-e164f8e19ce6"
      },
      "outputs": [
        {
          "name": "stdout",
          "output_type": "stream",
          "text": [
            "Overwriting pre7_q3.c\n"
          ]
        }
      ],
      "source": [
        "# 파일 작성\n",
        "%%writefile pre7_q3.c\n",
        "\n",
        "#include<stdio.h>\n",
        "\n",
        "int main(){\n",
        "\n",
        "  int n;\n",
        "  scanf(\"%d\",&n);\n",
        "\n",
        "  int multiply = 1;\n",
        "  for (int i = 1; i <= n; i++)\n",
        "  {\n",
        "    multiply *= i;\n",
        "  }\n",
        "\n",
        "  printf(\"%d\", multiply);\n",
        "\n",
        "  return 0;\n",
        "}"
      ]
    },
    {
      "cell_type": "code",
      "execution_count": null,
      "metadata": {
        "colab": {
          "base_uri": "https://localhost:8080/"
        },
        "id": "dNqn0_w8qCny",
        "outputId": "6c3fce37-eb21-47be-f95c-0e8cbbc032e4"
      },
      "outputs": [
        {
          "name": "stdout",
          "output_type": "stream",
          "text": [
            "9\n",
            "362880"
          ]
        },
        {
          "data": {
            "text/plain": []
          },
          "execution_count": 14,
          "metadata": {},
          "output_type": "execute_result"
        }
      ],
      "source": [
        "# 파일 실행(불러오기)\n",
        "%%shell\n",
        "gcc pre7_q3.c -o bout\n",
        "./bout"
      ]
    },
    {
      "cell_type": "markdown",
      "metadata": {
        "id": "qYp9-Bsjqjwc"
      },
      "source": [
        "\n",
        "\n",
        "---\n",
        "\n"
      ]
    },
    {
      "cell_type": "markdown",
      "metadata": {
        "id": "8d6varI9p5S6"
      },
      "source": [
        "**7주차 예습문제 - 4**\n",
        "\n",
        "1이상 100이하 숫자 중 홀수이면서 3의 배수인 숫자를 출력하세요."
      ]
    },
    {
      "cell_type": "code",
      "execution_count": null,
      "metadata": {
        "colab": {
          "base_uri": "https://localhost:8080/"
        },
        "id": "qip7z9-9qDbH",
        "outputId": "20dbfcfd-dbe0-4cba-be0c-ea19513aeaf9"
      },
      "outputs": [
        {
          "name": "stdout",
          "output_type": "stream",
          "text": [
            "Overwriting pre7_q4.c\n"
          ]
        }
      ],
      "source": [
        "# 파일 작성\n",
        "%%writefile pre7_q4.c\n",
        "\n",
        "#include<stdio.h>\n",
        "\n",
        "int main(){\n",
        "\n",
        "  for(int i = 1 ; i <= 100 ; i++)\n",
        "  {\n",
        "    if (i%3 == 0 && i%2 == 1) printf(\"%d \",i);\n",
        "  }\n",
        "\n",
        "  return 0;\n",
        "}"
      ]
    },
    {
      "cell_type": "code",
      "execution_count": null,
      "metadata": {
        "colab": {
          "base_uri": "https://localhost:8080/"
        },
        "id": "X4p3J56jqDrD",
        "outputId": "ad0f51a3-2f5f-407b-be9d-b2baa0bfad38"
      },
      "outputs": [
        {
          "name": "stdout",
          "output_type": "stream",
          "text": [
            "3 9 15 21 27 33 39 45 51 57 63 69 75 81 87 93 99 "
          ]
        },
        {
          "data": {
            "text/plain": []
          },
          "execution_count": 18,
          "metadata": {},
          "output_type": "execute_result"
        }
      ],
      "source": [
        "# 파일 실행(불러오기)\n",
        "%%shell\n",
        "gcc pre7_q4.c -o bout\n",
        "./bout"
      ]
    },
    {
      "cell_type": "markdown",
      "metadata": {
        "id": "JK2tHiToqkqg"
      },
      "source": [
        "\n",
        "\n",
        "---\n",
        "\n"
      ]
    },
    {
      "cell_type": "markdown",
      "metadata": {
        "id": "riu6NYk-p70L"
      },
      "source": [
        "**7주차 예습문제 - 5**\n",
        "\n",
        "100보다 작은 양의 정수 n을 입력 받고 1부터 n까지의 합을 출력하세요."
      ]
    },
    {
      "cell_type": "code",
      "execution_count": null,
      "metadata": {
        "colab": {
          "base_uri": "https://localhost:8080/"
        },
        "id": "Jfc3SmgoqEQD",
        "outputId": "b9c30674-2e86-4c3e-c699-307183627c66"
      },
      "outputs": [
        {
          "name": "stdout",
          "output_type": "stream",
          "text": [
            "Overwriting pre7_q5.c\n"
          ]
        }
      ],
      "source": [
        "# 파일 작성\n",
        "%%writefile pre7_q5.c\n",
        "\n",
        "#include<stdio.h>\n",
        "\n",
        "int main(){\n",
        "\n",
        "  int n;\n",
        "  scanf(\"%d\", &n);\n",
        "\n",
        "  int sum = 0;\n",
        "  for (int i = 1; i <= n; i++)\n",
        "  {\n",
        "    sum += i;\n",
        "  }\n",
        "\n",
        "  printf(\"%d\", sum);\n",
        "  return 0;\n",
        "}"
      ]
    },
    {
      "cell_type": "code",
      "execution_count": null,
      "metadata": {
        "colab": {
          "base_uri": "https://localhost:8080/"
        },
        "id": "SMg8GL1zqEAq",
        "outputId": "717b78dc-fd2b-4eaa-8161-07ac99f4aef6"
      },
      "outputs": [
        {
          "name": "stdout",
          "output_type": "stream",
          "text": [
            "94\n",
            "4465"
          ]
        },
        {
          "data": {
            "text/plain": []
          },
          "execution_count": 23,
          "metadata": {},
          "output_type": "execute_result"
        }
      ],
      "source": [
        "# 파일 실행(불러오기)\n",
        "%%shell\n",
        "gcc pre7_q5.c -o bout\n",
        "./bout"
      ]
    },
    {
      "cell_type": "markdown",
      "metadata": {
        "id": "o2Ssd28HqlgC"
      },
      "source": [
        "\n",
        "\n",
        "---\n",
        "\n"
      ]
    },
    {
      "cell_type": "markdown",
      "metadata": {
        "id": "l0c0KV6urY5i"
      },
      "source": [
        "**7주차 문제은행 - 1**\n",
        "\n",
        "양의 정수 n과 m을 입력 받으세요.  \n",
        "n과 m의 최대 공약수를 출력하세요."
      ]
    },
    {
      "cell_type": "code",
      "execution_count": null,
      "metadata": {
        "colab": {
          "base_uri": "https://localhost:8080/"
        },
        "id": "aJ-w85Z6rklC",
        "outputId": "432313d1-245a-4b86-ef4b-f14a59258b47"
      },
      "outputs": [
        {
          "name": "stdout",
          "output_type": "stream",
          "text": [
            "Writing qbank7_1.c\n"
          ]
        }
      ],
      "source": [
        "# 파일 작성\n",
        "%%writefile qbank7_1.c\n",
        "\n",
        "#include<stdio.h>\n",
        "\n",
        "int main(){\n",
        "\n",
        "  int n, m;\n",
        "  scanf(\"%d %d\", &n,&m);\n",
        "\n",
        "  int min = (n <= m) ? n : m;\n",
        "  for (int i = min ; i >= 1 ; i--)\n",
        "  {\n",
        "    if (n%i == 0 && m%i == 0)\n",
        "    {\n",
        "      printf(\"%d\",i);\n",
        "      break;\n",
        "    }\n",
        "  }\n",
        "\n",
        "  return 0;\n",
        "}"
      ]
    },
    {
      "cell_type": "code",
      "execution_count": null,
      "metadata": {
        "colab": {
          "base_uri": "https://localhost:8080/"
        },
        "id": "zsxA0f6arlYS",
        "outputId": "1192f1d7-fa0d-4158-cb34-d5a4ca56c032"
      },
      "outputs": [
        {
          "name": "stdout",
          "output_type": "stream",
          "text": [
            "1650 2465\n",
            "5"
          ]
        },
        {
          "data": {
            "text/plain": []
          },
          "execution_count": 26,
          "metadata": {},
          "output_type": "execute_result"
        }
      ],
      "source": [
        "# 파일 실행(불러오기)\n",
        "%%shell\n",
        "gcc qbank7_1.c -o bout\n",
        "./bout"
      ]
    },
    {
      "cell_type": "markdown",
      "metadata": {
        "id": "C95zkHHgrxX6"
      },
      "source": [
        "\n",
        "\n",
        "---\n",
        "\n"
      ]
    },
    {
      "cell_type": "markdown",
      "metadata": {
        "id": "dI-xgSE4rtg1"
      },
      "source": [
        "**7주차 문제은행 - 2**\n",
        "\n",
        "양의 정수 n과 m을 입력 받으세요.  \n",
        "n과 m의 최소 공배수를 출력하세요."
      ]
    },
    {
      "cell_type": "code",
      "execution_count": null,
      "metadata": {
        "colab": {
          "base_uri": "https://localhost:8080/"
        },
        "id": "9_3xNhY8rwzK",
        "outputId": "36dc775f-00a9-49c0-8455-23519b2b4c9a"
      },
      "outputs": [
        {
          "name": "stdout",
          "output_type": "stream",
          "text": [
            "Overwriting qbank7_2.c\n"
          ]
        }
      ],
      "source": [
        "# 파일 작성\n",
        "%%writefile qbank7_2.c\n",
        "\n",
        "#include<stdio.h>\n",
        "\n",
        "int main(){\n",
        "\n",
        "  int n, m;\n",
        "  scanf(\"%d %d\", &n,&m);\n",
        "\n",
        "  int max = (n >= m) ? n : m;\n",
        "  int i = max;\n",
        "  while (i != 0)\n",
        "  {\n",
        "    if (i%n == 0 && i%m == 0)\n",
        "    {\n",
        "      printf(\"%d\",i);\n",
        "      break;\n",
        "    }\n",
        "    i += 1;\n",
        "  }\n",
        "\n",
        "  return 0;\n",
        "}"
      ]
    },
    {
      "cell_type": "code",
      "execution_count": null,
      "metadata": {
        "colab": {
          "base_uri": "https://localhost:8080/"
        },
        "id": "7LQMuJCPrxBj",
        "outputId": "261fe0ce-7642-4902-da09-2f280384e5c9"
      },
      "outputs": [
        {
          "name": "stdout",
          "output_type": "stream",
          "text": [
            "8 64\n",
            "64"
          ]
        },
        {
          "data": {
            "text/plain": []
          },
          "execution_count": 31,
          "metadata": {},
          "output_type": "execute_result"
        }
      ],
      "source": [
        "# 파일 실행(불러오기)\n",
        "%%shell\n",
        "gcc qbank7_2.c -o bout\n",
        "./bout"
      ]
    },
    {
      "cell_type": "markdown",
      "metadata": {
        "id": "5iAwpcUIryO5"
      },
      "source": [
        "\n",
        "\n",
        "---\n",
        "\n"
      ]
    },
    {
      "cell_type": "markdown",
      "metadata": {
        "id": "X_Y97krWrwap"
      },
      "source": [
        "**7주차 문제은행 - 3**\n",
        "\n",
        "양의 정수 n을 입력 받으세요.  \n",
        "n개의 점수를 입력 받고 평균과 최고점수를 출력하세요.  \n",
        "(평균은 소수점 둘째자리까지 출력하세요.)"
      ]
    },
    {
      "cell_type": "code",
      "execution_count": null,
      "metadata": {
        "colab": {
          "base_uri": "https://localhost:8080/"
        },
        "id": "UabaesJqr0iJ",
        "outputId": "d24cdb42-3d56-4141-fe07-49dc78bb47c1"
      },
      "outputs": [
        {
          "name": "stdout",
          "output_type": "stream",
          "text": [
            "Overwriting qbank7_3.c\n"
          ]
        }
      ],
      "source": [
        "# 파일 작성\n",
        "%%writefile qbank7_3.c\n",
        "\n",
        "#include<stdio.h>\n",
        "\n",
        "int main(){\n",
        "\n",
        "  int n;\n",
        "  scanf(\"%d\", &n);\n",
        "\n",
        "  int m;\n",
        "  int sum = 0, max = 0;\n",
        "  for (int i = 0; i< n; i++)\n",
        "  {\n",
        "    scanf(\"%d\", &m);\n",
        "    sum += m;\n",
        "    if (max < m) max = m;\n",
        "  }\n",
        "\n",
        "  printf(\"avg = %.2f\\n\", (double)sum / (double)n);\n",
        "  printf(\"max = %d\\n\", max);\n",
        "\n",
        "  return 0;\n",
        "}"
      ]
    },
    {
      "cell_type": "code",
      "execution_count": null,
      "metadata": {
        "colab": {
          "base_uri": "https://localhost:8080/"
        },
        "id": "bC6MqJlOr0zv",
        "outputId": "a24072ec-4933-4438-ccd8-0d14bb38c178"
      },
      "outputs": [
        {
          "name": "stdout",
          "output_type": "stream",
          "text": [
            "3\n",
            "98 92 87\n",
            "avg = 92.33\n",
            "max = 98\n"
          ]
        },
        {
          "data": {
            "text/plain": []
          },
          "execution_count": 35,
          "metadata": {},
          "output_type": "execute_result"
        }
      ],
      "source": [
        "# 파일 실행(불러오기)\n",
        "%%shell\n",
        "gcc qbank7_3.c -o bout\n",
        "./bout"
      ]
    },
    {
      "cell_type": "markdown",
      "metadata": {
        "id": "4MYlxY1br1DS"
      },
      "source": [
        "\n",
        "\n",
        "---\n",
        "\n"
      ]
    },
    {
      "cell_type": "markdown",
      "metadata": {
        "id": "Nf-qZpphr1yy"
      },
      "source": [
        "**7주차 문제은행 - 4**\n",
        "\n",
        "다음과 같이 S = 0, 1, 3, 6, 10, ... 1씩 증가시켜 더하는 수열이 있습니다.  \n",
        "(x0 = 0, x1 = x0+1, x2 = x1+2, ...)  \n",
        "양의 정수 n을 입력 받으세요.  \n",
        "이 수열이 n보다 같거나 커질때 수열의 몇번째 항인지 출력하세요.  \n",
        "(예를들어 n이 5일경우 5보다 같거나 커지는 항은 3번째 항(6)이므로 3을 출력한다.)"
      ]
    },
    {
      "cell_type": "code",
      "execution_count": null,
      "metadata": {
        "colab": {
          "base_uri": "https://localhost:8080/"
        },
        "id": "vwTeEAWnr3Ei",
        "outputId": "e6292012-8857-4ef9-e60b-6f79087809ff"
      },
      "outputs": [
        {
          "name": "stdout",
          "output_type": "stream",
          "text": [
            "Overwriting qbank7_4.c\n"
          ]
        }
      ],
      "source": [
        "# 파일 작성\n",
        "%%writefile qbank7_4.c\n",
        "\n",
        "#include<stdio.h>\n",
        "\n",
        "int main(){\n",
        "\n",
        "  int n;\n",
        "  scanf(\"%d\",&n);\n",
        "\n",
        "  int x = 0;\n",
        "  for (int i = 1; i <= n; i++)\n",
        "  {\n",
        "    x += i;\n",
        "    if (x >= n)\n",
        "    {\n",
        "      printf(\"%d\",i);\n",
        "      break;\n",
        "    }\n",
        "  }\n",
        "\n",
        "  return 0;\n",
        "}"
      ]
    },
    {
      "cell_type": "code",
      "execution_count": null,
      "metadata": {
        "colab": {
          "base_uri": "https://localhost:8080/"
        },
        "id": "KQ7M3g2Pr3l6",
        "outputId": "d20164c4-8a5c-4c7c-bf1b-248b5741f189"
      },
      "outputs": [
        {
          "name": "stdout",
          "output_type": "stream",
          "text": [
            "5\n",
            "3"
          ]
        },
        {
          "data": {
            "text/plain": []
          },
          "execution_count": 39,
          "metadata": {},
          "output_type": "execute_result"
        }
      ],
      "source": [
        "# 파일 실행(불러오기)\n",
        "%%shell\n",
        "gcc qbank7_4.c -o bout\n",
        "./bout"
      ]
    },
    {
      "cell_type": "markdown",
      "metadata": {
        "id": "OAeRSwg_r3-e"
      },
      "source": [
        "\n",
        "\n",
        "---\n",
        "\n"
      ]
    },
    {
      "cell_type": "markdown",
      "metadata": {
        "id": "-hKTv5Tyr40R"
      },
      "source": [
        "**7주차 문제은행 - 5**\n",
        "\n",
        "대문자 알파벳 c와 1이상 10이하의 정수 n을 입력 받으세요.  \n",
        "c부터 n개의 알파벳을 출력하세요.\n"
      ]
    },
    {
      "cell_type": "code",
      "execution_count": null,
      "metadata": {
        "colab": {
          "base_uri": "https://localhost:8080/"
        },
        "id": "6jZ2977Hr6MZ",
        "outputId": "90e9b4de-1a08-4dd7-ef68-9de8d1de0815"
      },
      "outputs": [
        {
          "name": "stdout",
          "output_type": "stream",
          "text": [
            "Writing qbank7_5.c\n"
          ]
        }
      ],
      "source": [
        "# 파일 작성\n",
        "%%writefile qbank7_5.c\n",
        "\n",
        "#include<stdio.h>\n",
        "\n",
        "int main(){\n",
        "\n",
        "  char c;\n",
        "  int n;\n",
        "  scanf(\"%c %d\", &c,&n);\n",
        "\n",
        "  for (int i = 0;i < n; i++)\n",
        "  {\n",
        "    printf(\"%c\",c+i);\n",
        "  }\n",
        "\n",
        "  return 0;\n",
        "}"
      ]
    },
    {
      "cell_type": "code",
      "execution_count": null,
      "metadata": {
        "colab": {
          "base_uri": "https://localhost:8080/"
        },
        "id": "PDJ27hREr6g6",
        "outputId": "7bb8bb87-4ae5-4b29-f60e-f14410383429"
      },
      "outputs": [
        {
          "name": "stdout",
          "output_type": "stream",
          "text": [
            "C 3\n",
            "CDE"
          ]
        },
        {
          "data": {
            "text/plain": []
          },
          "execution_count": 41,
          "metadata": {},
          "output_type": "execute_result"
        }
      ],
      "source": [
        "# 파일 실행(불러오기)\n",
        "%%shell\n",
        "gcc qbank7_5.c -o bout\n",
        "./bout"
      ]
    },
    {
      "cell_type": "markdown",
      "metadata": {
        "id": "9VNbsk1qrYFu"
      },
      "source": [
        "\n",
        "\n",
        "---\n",
        "\n"
      ]
    },
    {
      "cell_type": "markdown",
      "metadata": {
        "id": "1H8Idj1cqXCn"
      },
      "source": [
        "**8주차 예습문제 - 1**\n",
        "\n",
        "2부터 9사이의 정수인 n을 입력 받고 구구단 중 n단을 예시에 맞게 출력하세요."
      ]
    },
    {
      "cell_type": "code",
      "execution_count": null,
      "metadata": {
        "colab": {
          "base_uri": "https://localhost:8080/"
        },
        "id": "wPANPGg4qvGq",
        "outputId": "2e867c7d-575f-485e-dbb7-9b34581a5543"
      },
      "outputs": [
        {
          "name": "stdout",
          "output_type": "stream",
          "text": [
            "Overwriting pre8_q1.c\n"
          ]
        }
      ],
      "source": [
        "# 파일 작성\n",
        "%%writefile pre8_q1.c\n",
        "\n",
        "#include<stdio.h>\n",
        "\n",
        "int main(){\n",
        "\n",
        "  int n;\n",
        "  scanf(\"%d\", &n);\n",
        "\n",
        "  for (int i = 2; i < 10; i++)\n",
        "  {\n",
        "    printf(\"%dX%d=%d\\n\",n,i,n*i);\n",
        "  }\n",
        "\n",
        "  return 0;\n",
        "}"
      ]
    },
    {
      "cell_type": "code",
      "execution_count": null,
      "metadata": {
        "colab": {
          "base_uri": "https://localhost:8080/"
        },
        "id": "QbqFzx9RqvWE",
        "outputId": "3e718d60-117d-4820-d838-d62b94d60e82"
      },
      "outputs": [
        {
          "name": "stdout",
          "output_type": "stream",
          "text": [
            "5\n",
            "5X2=10\n",
            "5X3=15\n",
            "5X4=20\n",
            "5X5=25\n",
            "5X6=30\n",
            "5X7=35\n",
            "5X8=40\n",
            "5X9=45\n"
          ]
        },
        {
          "data": {
            "text/plain": []
          },
          "execution_count": 47,
          "metadata": {},
          "output_type": "execute_result"
        }
      ],
      "source": [
        "# 파일 실행(불러오기)\n",
        "%%shell\n",
        "gcc pre8_q1.c -o bout\n",
        "./bout"
      ]
    },
    {
      "cell_type": "markdown",
      "metadata": {
        "id": "s_jkJnzyrHYC"
      },
      "source": [
        "\n",
        "\n",
        "---\n",
        "\n"
      ]
    },
    {
      "cell_type": "markdown",
      "metadata": {
        "id": "D1vgKOrTqoAj"
      },
      "source": [
        "**8주차 예습문제 - 2**\n",
        "\n",
        "2부터 9사이의 정수를 입력 받고 해당 구구단을 출력한다.  \n",
        "단 0이 입력되기 전까지 반복하여 출력한다.  \n",
        "0이 입력되면 프로그램을 종료한다."
      ]
    },
    {
      "cell_type": "code",
      "execution_count": null,
      "metadata": {
        "colab": {
          "base_uri": "https://localhost:8080/"
        },
        "id": "1-53LUGcqwA6",
        "outputId": "50278bf6-a88d-47e1-e4e1-9edf23ea9da4"
      },
      "outputs": [
        {
          "name": "stdout",
          "output_type": "stream",
          "text": [
            "Overwriting pre8_q2.c\n"
          ]
        }
      ],
      "source": [
        "# 파일 작성\n",
        "%%writefile pre8_q2.c\n",
        "\n",
        "#include<stdio.h>\n",
        "\n",
        "int main(){\n",
        "\n",
        "  int n;\n",
        "  scanf(\"%d\", &n);\n",
        "  while ( n != 0 )\n",
        "  {\n",
        "    for (int i = 2; i < 10; i++)\n",
        "    {\n",
        "      printf(\"%dX%d=%d\\n\",n,i,n*i);\n",
        "    }\n",
        "    scanf(\"%d\", &n);\n",
        "  }\n",
        "\n",
        "  return 0;\n",
        "}"
      ]
    },
    {
      "cell_type": "code",
      "execution_count": null,
      "metadata": {
        "colab": {
          "base_uri": "https://localhost:8080/"
        },
        "id": "scO_mDYQqwTA",
        "outputId": "a396a476-65d8-4a0d-8f94-19744aa6d673"
      },
      "outputs": [
        {
          "name": "stdout",
          "output_type": "stream",
          "text": [
            "5\n",
            "5X2=10\n",
            "5X3=15\n",
            "5X4=20\n",
            "5X5=25\n",
            "5X6=30\n",
            "5X7=35\n",
            "5X8=40\n",
            "5X9=45\n",
            "2\n",
            "2X2=4\n",
            "2X3=6\n",
            "2X4=8\n",
            "2X5=10\n",
            "2X6=12\n",
            "2X7=14\n",
            "2X8=16\n",
            "2X9=18\n",
            "0\n"
          ]
        },
        {
          "data": {
            "text/plain": []
          },
          "execution_count": 51,
          "metadata": {},
          "output_type": "execute_result"
        }
      ],
      "source": [
        "# 파일 실행(불러오기)\n",
        "%%shell\n",
        "gcc pre8_q2.c -o bout\n",
        "./bout"
      ]
    },
    {
      "cell_type": "markdown",
      "metadata": {
        "id": "WzYkevO4rJbq"
      },
      "source": [
        "\n",
        "\n",
        "---\n",
        "\n"
      ]
    },
    {
      "cell_type": "markdown",
      "metadata": {
        "id": "_0bcsz7eqqZH"
      },
      "source": [
        "**8주차 예습문제 - 3**\n",
        "\n",
        "\\*****  \n",
        "\\*****  \n",
        "\\*****  \n",
        "\\*****  \n",
        "\\*****  \n",
        "\\*****  \n",
        "\\*****  \n",
        "\\*****  \n",
        "\\*****  \n",
        "\\*****  \n",
        "을 출력하세요. (5x10의 *)\n"
      ]
    },
    {
      "cell_type": "code",
      "execution_count": null,
      "metadata": {
        "colab": {
          "base_uri": "https://localhost:8080/"
        },
        "id": "HdGEGuxdqxCu",
        "outputId": "5a8949ac-da86-4300-d9f3-615da3131f5e"
      },
      "outputs": [
        {
          "name": "stdout",
          "output_type": "stream",
          "text": [
            "Writing pre8_q3.c\n"
          ]
        }
      ],
      "source": [
        "# 파일 작성\n",
        "%%writefile pre8_q3.c\n",
        "\n",
        "#include<stdio.h>\n",
        "\n",
        "int main(){\n",
        "\n",
        "  for (int i=0; i<10; i++)\n",
        "  {\n",
        "    for (int j=0; j<5; j++)\n",
        "    {\n",
        "      printf(\"*\");\n",
        "    }\n",
        "    printf(\"\\n\");\n",
        "  }\n",
        "\n",
        "  return 0;\n",
        "}"
      ]
    },
    {
      "cell_type": "code",
      "execution_count": null,
      "metadata": {
        "colab": {
          "base_uri": "https://localhost:8080/"
        },
        "id": "OhCseTOvqxPC",
        "outputId": "894fb4c7-fdce-4a3e-b735-79740ef555d7"
      },
      "outputs": [
        {
          "name": "stdout",
          "output_type": "stream",
          "text": [
            "*****\n",
            "*****\n",
            "*****\n",
            "*****\n",
            "*****\n",
            "*****\n",
            "*****\n",
            "*****\n",
            "*****\n",
            "*****\n"
          ]
        },
        {
          "data": {
            "text/plain": []
          },
          "execution_count": 53,
          "metadata": {},
          "output_type": "execute_result"
        }
      ],
      "source": [
        "# 파일 실행(불러오기)\n",
        "%%shell\n",
        "gcc pre8_q3.c -o bout\n",
        "./bout"
      ]
    },
    {
      "cell_type": "markdown",
      "metadata": {
        "id": "eKniagmbrKN1"
      },
      "source": [
        "\n",
        "\n",
        "---\n",
        "\n"
      ]
    },
    {
      "cell_type": "markdown",
      "metadata": {
        "id": "-DOd_nWnqrOi"
      },
      "source": [
        "**8주차 예습문제 - 4**\n",
        "\n",
        "구구단을 출력예시에 맞게 출력하세요."
      ]
    },
    {
      "cell_type": "code",
      "execution_count": null,
      "metadata": {
        "colab": {
          "base_uri": "https://localhost:8080/"
        },
        "id": "07enoyJwqxq_",
        "outputId": "09d6097c-98c7-4951-b1e9-28e6b61d18fb"
      },
      "outputs": [
        {
          "name": "stdout",
          "output_type": "stream",
          "text": [
            "Overwriting pre8_q4.c\n"
          ]
        }
      ],
      "source": [
        "# 파일 작성\n",
        "%%writefile pre8_q4.c\n",
        "\n",
        "#include<stdio.h>\n",
        "\n",
        "int main(){\n",
        "\n",
        "  for (int i = 2; i < 10 ; i++)\n",
        "  {\n",
        "    for (int j = 2; j <= 5 ; j++)\n",
        "    {\n",
        "      printf(\"%d X %d = %2d      \", j,i,i*j);\n",
        "    }\n",
        "    printf(\"\\n\");\n",
        "  }\n",
        "\n",
        "  printf(\"\\n\");\n",
        "\n",
        "  for (int i = 2; i < 10 ; i++)\n",
        "  {\n",
        "    for (int j = 6; j <= 9 ; j++)\n",
        "    {\n",
        "      printf(\"%d X %d = %2d      \", j,i,i*j);\n",
        "    }\n",
        "    printf(\"\\n\");\n",
        "  }\n",
        "\n",
        "  return 0;\n",
        "}"
      ]
    },
    {
      "cell_type": "code",
      "execution_count": null,
      "metadata": {
        "colab": {
          "base_uri": "https://localhost:8080/"
        },
        "id": "VdtK-wvVqx82",
        "outputId": "59406fe9-528d-43f9-9aec-ec7b702beeb9"
      },
      "outputs": [
        {
          "name": "stdout",
          "output_type": "stream",
          "text": [
            "2 X 2 =  4      3 X 2 =  6      4 X 2 =  8      5 X 2 = 10      \n",
            "2 X 3 =  6      3 X 3 =  9      4 X 3 = 12      5 X 3 = 15      \n",
            "2 X 4 =  8      3 X 4 = 12      4 X 4 = 16      5 X 4 = 20      \n",
            "2 X 5 = 10      3 X 5 = 15      4 X 5 = 20      5 X 5 = 25      \n",
            "2 X 6 = 12      3 X 6 = 18      4 X 6 = 24      5 X 6 = 30      \n",
            "2 X 7 = 14      3 X 7 = 21      4 X 7 = 28      5 X 7 = 35      \n",
            "2 X 8 = 16      3 X 8 = 24      4 X 8 = 32      5 X 8 = 40      \n",
            "2 X 9 = 18      3 X 9 = 27      4 X 9 = 36      5 X 9 = 45      \n",
            "\n",
            "6 X 2 = 12      7 X 2 = 14      8 X 2 = 16      9 X 2 = 18      \n",
            "6 X 3 = 18      7 X 3 = 21      8 X 3 = 24      9 X 3 = 27      \n",
            "6 X 4 = 24      7 X 4 = 28      8 X 4 = 32      9 X 4 = 36      \n",
            "6 X 5 = 30      7 X 5 = 35      8 X 5 = 40      9 X 5 = 45      \n",
            "6 X 6 = 36      7 X 6 = 42      8 X 6 = 48      9 X 6 = 54      \n",
            "6 X 7 = 42      7 X 7 = 49      8 X 7 = 56      9 X 7 = 63      \n",
            "6 X 8 = 48      7 X 8 = 56      8 X 8 = 64      9 X 8 = 72      \n",
            "6 X 9 = 54      7 X 9 = 63      8 X 9 = 72      9 X 9 = 81      \n"
          ]
        },
        {
          "data": {
            "text/plain": []
          },
          "execution_count": 59,
          "metadata": {},
          "output_type": "execute_result"
        }
      ],
      "source": [
        "# 파일 실행(불러오기)\n",
        "%%shell\n",
        "gcc pre8_q4.c -o bout\n",
        "./bout"
      ]
    },
    {
      "cell_type": "markdown",
      "metadata": {
        "id": "hmyv2e5prLGT"
      },
      "source": [
        "\n",
        "\n",
        "---\n",
        "\n"
      ]
    },
    {
      "cell_type": "markdown",
      "metadata": {
        "id": "wrN54-Hhqsjb"
      },
      "source": [
        "**8주차 예습문제 - 5**\n",
        "\n",
        "크기가 5인 정수형 배열을 선언하고 각 원소를 입력 받는다.  \n",
        "입력 받은 5개의 정수의 합과 평균을 출력하세요.  \n",
        "(단, 평균은 소수점 첫째자리까지 출력하세요.)"
      ]
    },
    {
      "cell_type": "code",
      "execution_count": null,
      "metadata": {
        "colab": {
          "base_uri": "https://localhost:8080/"
        },
        "id": "gyBq4_J_qybu",
        "outputId": "f5509c93-24af-41d0-eb58-1049b95d1672"
      },
      "outputs": [
        {
          "name": "stdout",
          "output_type": "stream",
          "text": [
            "Writing pre8_q5.c\n"
          ]
        }
      ],
      "source": [
        "# 파일 작성\n",
        "%%writefile pre8_q5.c\n",
        "\n",
        "#include<stdio.h>\n",
        "\n",
        "int main(){\n",
        "\n",
        "  int array[5];\n",
        "  int sum = 0;\n",
        "  for (int i = 0; i<5; i++)\n",
        "  {\n",
        "    scanf(\"%d\", &array[i]);\n",
        "    sum += array[i];\n",
        "  }\n",
        "\n",
        "  printf(\"%d %.1f\", sum, sum/5.0);\n",
        "\n",
        "  return 0;\n",
        "}"
      ]
    },
    {
      "cell_type": "code",
      "execution_count": null,
      "metadata": {
        "colab": {
          "base_uri": "https://localhost:8080/"
        },
        "id": "D5cMzLo-qyuf",
        "outputId": "fa9656b9-d02e-4f9e-f0b8-ffe8beb537ff"
      },
      "outputs": [
        {
          "name": "stdout",
          "output_type": "stream",
          "text": [
            "3 4 5 1 3\n",
            "16 3.2"
          ]
        },
        {
          "data": {
            "text/plain": []
          },
          "execution_count": 61,
          "metadata": {},
          "output_type": "execute_result"
        }
      ],
      "source": [
        "# 파일 실행(불러오기)\n",
        "%%shell\n",
        "gcc pre8_q5.c -o bout\n",
        "./bout"
      ]
    },
    {
      "cell_type": "markdown",
      "metadata": {
        "id": "T8ssZubnrLwy"
      },
      "source": [
        "\n",
        "\n",
        "---\n",
        "\n"
      ]
    },
    {
      "cell_type": "markdown",
      "metadata": {
        "id": "HCAee71Lqtoi"
      },
      "source": [
        "**8주차 예습문제 - 6**\n",
        "\n",
        "정수 10개를 입력받고 짝수의 합과 홀수의 합을 출력 예시에 맞게 출력하세요."
      ]
    },
    {
      "cell_type": "code",
      "execution_count": null,
      "metadata": {
        "colab": {
          "base_uri": "https://localhost:8080/"
        },
        "id": "HToWxEjIqzP-",
        "outputId": "68ec4384-7b51-43a0-80f7-fce0e9ad1fb4"
      },
      "outputs": [
        {
          "name": "stdout",
          "output_type": "stream",
          "text": [
            "Writing pre8_q6.c\n"
          ]
        }
      ],
      "source": [
        "# 파일 작성\n",
        "%%writefile pre8_q6.c\n",
        "\n",
        "#include<stdio.h>\n",
        "\n",
        "int main(){\n",
        "\n",
        "  int array[10];\n",
        "  int evensum = 0, oddsum = 0;\n",
        "  for (int i = 0; i < 10; i++)\n",
        "  {\n",
        "    scanf(\"%d\", &array[i]);\n",
        "    if (array[i]%2 == 0) evensum += array[i];\n",
        "    else oddsum += array[i];\n",
        "  }\n",
        "  printf(\"EvenSum=%d\\n\",evensum);\n",
        "  printf(\"OddSum=%d\\n\",oddsum);\n",
        "\n",
        "  return 0;\n",
        "}"
      ]
    },
    {
      "cell_type": "code",
      "execution_count": null,
      "metadata": {
        "colab": {
          "base_uri": "https://localhost:8080/"
        },
        "id": "ttPDhfAeqzgy",
        "outputId": "e8b78823-f39d-4f55-bf7e-8c736ca1e890"
      },
      "outputs": [
        {
          "name": "stdout",
          "output_type": "stream",
          "text": [
            "10 12 15 19 20 58 42 13 64 44\n",
            "EvenSum=250\n",
            "OddSum=47\n"
          ]
        },
        {
          "data": {
            "text/plain": []
          },
          "execution_count": 64,
          "metadata": {},
          "output_type": "execute_result"
        }
      ],
      "source": [
        "# 파일 실행(불러오기)\n",
        "%%shell\n",
        "gcc pre8_q6.c -o bout\n",
        "./bout"
      ]
    },
    {
      "cell_type": "markdown",
      "metadata": {
        "id": "A1L9XcoYrMg7"
      },
      "source": [
        "\n",
        "\n",
        "---\n",
        "\n"
      ]
    },
    {
      "cell_type": "markdown",
      "metadata": {
        "id": "_xkBvVg-rNIJ"
      },
      "source": [
        "**8주차 문제은행 - 1**\n",
        "\n",
        "양의 정수 n을 입력받고 예시에 맞게 *을 출력하세요.\n",
        "```\n",
        "[입력]\n",
        "4\n",
        "[출력]\n",
        "   *  \n",
        "  **  \n",
        " ***  \n",
        "****  \n",
        "```"
      ]
    },
    {
      "cell_type": "code",
      "execution_count": null,
      "metadata": {
        "colab": {
          "base_uri": "https://localhost:8080/"
        },
        "id": "pSFB1UJKsR5H",
        "outputId": "589ef628-d06e-4eee-acd5-110ae29df37a"
      },
      "outputs": [
        {
          "output_type": "stream",
          "name": "stdout",
          "text": [
            "Overwriting qbank8_1.c\n"
          ]
        }
      ],
      "source": [
        "# 파일 작성\n",
        "%%writefile qbank8_1.c\n",
        "\n",
        "#include<stdio.h>\n",
        "\n",
        "int main(){\n",
        "\n",
        "  int n;\n",
        "  scanf(\"%d\", &n);\n",
        "\n",
        "  for (int i = 1; i <= n; i++)\n",
        "  {\n",
        "    for (int j = 0 ; j < 4-i ; j++)\n",
        "      printf(\" \");\n",
        "    for (int j = 0 ; j < i ; j++)\n",
        "      printf(\"*\");\n",
        "    printf(\"\\n\");\n",
        "  }\n",
        "\n",
        "  return 0;\n",
        "}"
      ]
    },
    {
      "cell_type": "code",
      "execution_count": null,
      "metadata": {
        "colab": {
          "base_uri": "https://localhost:8080/"
        },
        "id": "f4Ym1tIUsSK9",
        "outputId": "8ab46c20-eaac-447c-cb19-f821f4f88392"
      },
      "outputs": [
        {
          "output_type": "stream",
          "name": "stdout",
          "text": [
            "4\n",
            "   *\n",
            "  **\n",
            " ***\n",
            "****\n"
          ]
        },
        {
          "output_type": "execute_result",
          "data": {
            "text/plain": []
          },
          "metadata": {},
          "execution_count": 70
        }
      ],
      "source": [
        "# 파일 실행(불러오기)\n",
        "%%shell\n",
        "gcc qbank8_1.c -o bout\n",
        "./bout"
      ]
    },
    {
      "cell_type": "markdown",
      "metadata": {
        "id": "yZfAnMqFsWZB"
      },
      "source": [
        "\n",
        "\n",
        "---\n",
        "\n"
      ]
    },
    {
      "cell_type": "markdown",
      "metadata": {
        "id": "tBb5Pk_7sSZ7"
      },
      "source": [
        "**8주차 문제은행 - 2**\n",
        "\n",
        "양의 정수 n을 입력 받고 예시에 맞게 *을 출력하세요.\n",
        "\n",
        "```\n",
        "[입력]\n",
        "3\n",
        "[출력]\n",
        "  *  \n",
        " ***  \n",
        "*****\n",
        "```"
      ]
    },
    {
      "cell_type": "code",
      "execution_count": null,
      "metadata": {
        "id": "TUD4KkPVsUYx",
        "colab": {
          "base_uri": "https://localhost:8080/"
        },
        "outputId": "635b1897-8efd-49ce-8b2f-290f9192ac04"
      },
      "outputs": [
        {
          "output_type": "stream",
          "name": "stdout",
          "text": [
            "Overwriting qbank8_2.c\n"
          ]
        }
      ],
      "source": [
        "# 파일 작성\n",
        "%%writefile qbank8_2.c\n",
        "\n",
        "#include<stdio.h>\n",
        "\n",
        "int main(){\n",
        "\n",
        "  int n;\n",
        "  scanf(\"%d\", &n);\n",
        "\n",
        "  for (int i = 1; i <= n ; i++)\n",
        "  {\n",
        "    for (int j = n-i; j >= 1; j--)\n",
        "      printf(\" \");\n",
        "    for (int j = 1 ; j < 2*i ; j++)\n",
        "      printf(\"*\");\n",
        "    printf(\"\\n\");\n",
        "  }\n",
        "\n",
        "  return 0;\n",
        "}"
      ]
    },
    {
      "cell_type": "code",
      "execution_count": null,
      "metadata": {
        "id": "radZJ44FsUu5",
        "colab": {
          "base_uri": "https://localhost:8080/"
        },
        "outputId": "5ba6d596-2a0b-4ffe-9f03-f17b86ae4950"
      },
      "outputs": [
        {
          "output_type": "stream",
          "name": "stdout",
          "text": [
            "8\n",
            "       *\n",
            "      ***\n",
            "     *****\n",
            "    *******\n",
            "   *********\n",
            "  ***********\n",
            " *************\n",
            "***************\n"
          ]
        },
        {
          "output_type": "execute_result",
          "data": {
            "text/plain": []
          },
          "metadata": {},
          "execution_count": 77
        }
      ],
      "source": [
        "# 파일 실행(불러오기)\n",
        "%%shell\n",
        "gcc qbank8_2.c -o bout\n",
        "./bout"
      ]
    },
    {
      "cell_type": "markdown",
      "metadata": {
        "id": "VQwp2DAmsXId"
      },
      "source": [
        "\n",
        "\n",
        "---\n",
        "\n"
      ]
    },
    {
      "cell_type": "markdown",
      "metadata": {
        "id": "MXfU7s1hsVD7"
      },
      "source": [
        "**☆★ 8주차 문제은행 - 3 ★☆**\n",
        "\n",
        "홀수 n을 입력받고 예시에 맞게 *을 출력하세요.\n",
        "\n",
        "```\n",
        "[입력]\n",
        "5\n",
        "[출력]\n",
        "  *\n",
        " ***\n",
        "*****\n",
        " ***\n",
        "  *\n",
        "```"
      ]
    },
    {
      "cell_type": "code",
      "execution_count": null,
      "metadata": {
        "id": "bPU_VennsV0B",
        "colab": {
          "base_uri": "https://localhost:8080/"
        },
        "outputId": "313629c6-9e9d-437b-e0ac-760350398583"
      },
      "outputs": [
        {
          "output_type": "stream",
          "name": "stdout",
          "text": [
            "Overwriting qbank8_3.c\n"
          ]
        }
      ],
      "source": [
        "# 파일 작성\n",
        "%%writefile qbank8_3.c\n",
        "\n",
        "#include<stdio.h>\n",
        "\n",
        "int main(){\n",
        "\n",
        "  int n;\n",
        "  scanf(\"%d\", &n);\n",
        "\n",
        "  // n 이전\n",
        "  for (int i = 0; i < (n-1)/2 ; i++)\n",
        "  {\n",
        "    for (int j = (n-i-1)/2 ; j > 0; j--)\n",
        "      printf(\" \");\n",
        "    for (int j = 0 ; j < 2*i+1 ; j++)\n",
        "      printf(\"*\");\n",
        "    printf(\"\\n\");\n",
        "  }\n",
        "\n",
        "  // n\n",
        "  for (int i = 0; i < n; i++)\n",
        "    printf(\"*\");\n",
        "  printf(\"\\n\");\n",
        "\n",
        "  // n 이후\n",
        "  for (int i = (n-1)/2; i >0 ; i--)\n",
        "  {\n",
        "    for (int j = (n-i)/2 ; j > 0; j--)\n",
        "      printf(\" \");\n",
        "    for (int j = 1 ; j < 2*i ; j++)\n",
        "      printf(\"*\");\n",
        "    printf(\"\\n\");\n",
        "  }\n",
        "  return 0;\n",
        "}"
      ]
    },
    {
      "cell_type": "code",
      "execution_count": null,
      "metadata": {
        "id": "Fg79ytgMsWF5",
        "colab": {
          "base_uri": "https://localhost:8080/"
        },
        "outputId": "cb388aa8-0d48-4ebf-b203-52b5e26bee4d"
      },
      "outputs": [
        {
          "output_type": "stream",
          "name": "stdout",
          "text": [
            "5\n",
            "  *\n",
            " ***\n",
            "*****\n",
            " ***\n",
            "  *\n"
          ]
        },
        {
          "output_type": "execute_result",
          "data": {
            "text/plain": []
          },
          "metadata": {},
          "execution_count": 95
        }
      ],
      "source": [
        "# 파일 실행(불러오기)\n",
        "%%shell\n",
        "gcc qbank8_3.c -o bout\n",
        "./bout"
      ]
    },
    {
      "cell_type": "markdown",
      "metadata": {
        "id": "pF7Wa5F8sXwZ"
      },
      "source": [
        "\n",
        "\n",
        "---\n",
        "\n"
      ]
    },
    {
      "cell_type": "markdown",
      "metadata": {
        "id": "5qQUS1OhedSR"
      },
      "source": [
        "**9주차 예습문제 - 1**\n",
        "\n",
        "실수 5개를 사용자에게서 입력 받고 합과 평균을 소수점 둘째자리까지 출력하시오."
      ]
    },
    {
      "cell_type": "code",
      "execution_count": null,
      "metadata": {
        "id": "f0tjT0vfeigk",
        "colab": {
          "base_uri": "https://localhost:8080/"
        },
        "outputId": "4ce943ac-7a18-4472-9302-5299679eaa4f"
      },
      "outputs": [
        {
          "output_type": "stream",
          "name": "stdout",
          "text": [
            "Overwriting pre9_q1.c\n"
          ]
        }
      ],
      "source": [
        "# 파일 작성\n",
        "%%writefile pre9_q1.c\n",
        "\n",
        "#include<stdio.h>\n",
        "\n",
        "int main(){\n",
        "\n",
        "  double array[5];\n",
        "  for (int i = 0; i < 5; i++)\n",
        "    scanf(\"%lf\",&array[i]);\n",
        "\n",
        "  double sum = 0;\n",
        "  for (int i = 0; i < 5; i++)\n",
        "    sum += array[i];\n",
        "\n",
        "  printf(\"sum=%.2f\\n\",sum);\n",
        "  printf(\"avg=%.2f\\n\",sum/5.0);\n",
        "\n",
        "  return 0;\n",
        "}"
      ]
    },
    {
      "cell_type": "code",
      "execution_count": null,
      "metadata": {
        "id": "tRuiDkIjei5y",
        "colab": {
          "base_uri": "https://localhost:8080/"
        },
        "outputId": "5d109b71-92fd-4dbd-efc9-f3f6aa892346"
      },
      "outputs": [
        {
          "output_type": "stream",
          "name": "stdout",
          "text": [
            "1.0 2.0 3.0 4.0 5.0\n",
            "sum=15.00\n",
            "avg=3.00\n"
          ]
        },
        {
          "output_type": "execute_result",
          "data": {
            "text/plain": []
          },
          "metadata": {},
          "execution_count": 6
        }
      ],
      "source": [
        "# 파일 실행(불러오기)\n",
        "%%shell\n",
        "gcc pre9_q1.c -o bout\n",
        "./bout"
      ]
    },
    {
      "cell_type": "markdown",
      "metadata": {
        "id": "gJv_6UDKejdp"
      },
      "source": [
        "\n",
        "\n",
        "---\n",
        "\n"
      ]
    },
    {
      "cell_type": "markdown",
      "metadata": {
        "id": "DWu1jqLZekWy"
      },
      "source": [
        "**9주차 예습문제 - 2**\n",
        "\n",
        "실수 10개를 입력 받은 후, 최소값을 소수점 첫째자리까지 출력하는 코드를 작성하시오."
      ]
    },
    {
      "cell_type": "code",
      "execution_count": null,
      "metadata": {
        "id": "1X7_ec81erk6",
        "colab": {
          "base_uri": "https://localhost:8080/"
        },
        "outputId": "f0817777-79bb-436a-e489-dfb7164f2335"
      },
      "outputs": [
        {
          "output_type": "stream",
          "name": "stdout",
          "text": [
            "Overwriting pre9_q2.c\n"
          ]
        }
      ],
      "source": [
        "# 파일 작성\n",
        "%%writefile pre9_q2.c\n",
        "\n",
        "#include<stdio.h>\n",
        "\n",
        "int main(){\n",
        "\n",
        "  double array[10];\n",
        "  double min = 10000;\n",
        "  for (int i = 0; i < 10; i++)\n",
        "  {\n",
        "    scanf(\"%lf\",&array[i]);\n",
        "    if (min > array[i]) min = array[i];\n",
        "  }\n",
        "\n",
        "  printf(\"min=%.1f\", min);\n",
        "\n",
        "  return 0;\n",
        "}"
      ]
    },
    {
      "cell_type": "code",
      "execution_count": null,
      "metadata": {
        "id": "zTocoJ2ver9M",
        "colab": {
          "base_uri": "https://localhost:8080/"
        },
        "outputId": "2b7dae0a-5610-41c9-c335-1a33220cccab"
      },
      "outputs": [
        {
          "output_type": "stream",
          "name": "stdout",
          "text": [
            "1.0 2.3 9.0 8.4 7.5\n",
            "4.7 5.5 6.1 1.1 2.1\n",
            "min=1.0"
          ]
        },
        {
          "output_type": "execute_result",
          "data": {
            "text/plain": []
          },
          "metadata": {},
          "execution_count": 13
        }
      ],
      "source": [
        "# 파일 실행(불러오기)\n",
        "%%shell\n",
        "gcc pre9_q2.c -o bout\n",
        "./bout"
      ]
    },
    {
      "cell_type": "markdown",
      "metadata": {
        "id": "F_ox988LesOw"
      },
      "source": [
        "\n",
        "\n",
        "---\n",
        "\n"
      ]
    },
    {
      "cell_type": "markdown",
      "metadata": {
        "id": "htyokgmQes_H"
      },
      "source": [
        "**9주차 예습문제 - 3**\n",
        "\n",
        "크키가 10인 실수 배열을 선언하세요.  \n",
        "실수 10개를 입력받고 최대값을 소수점 2째자리까지 출력하고  \n",
        "최대값이 저장되어 있는 배열의 인덱스도 출력하세요."
      ]
    },
    {
      "cell_type": "code",
      "execution_count": null,
      "metadata": {
        "id": "6sEtY8_ae0Zw",
        "colab": {
          "base_uri": "https://localhost:8080/"
        },
        "outputId": "91a3875c-ea1c-48fb-e6cf-9d4f2c536c85"
      },
      "outputs": [
        {
          "output_type": "stream",
          "name": "stdout",
          "text": [
            "Overwriting pre9_q3.c\n"
          ]
        }
      ],
      "source": [
        "# 파일 작성\n",
        "%%writefile pre9_q3.c\n",
        "\n",
        "#include<stdio.h>\n",
        "\n",
        "int main(){\n",
        "\n",
        "  double array[10];\n",
        "  double max = 0;\n",
        "  int idx = 0;\n",
        "  for (int i = 0; i < 10; i++)\n",
        "  {\n",
        "    scanf(\"%lf\",&array[i]);\n",
        "    if (max < array[i])\n",
        "    {\n",
        "      max = array[i];\n",
        "      idx = i;\n",
        "    }\n",
        "  }\n",
        "\n",
        "  printf(\"max=%.2f\\n\",max);\n",
        "  printf(\"maxIndex=%d\\n\",idx);\n",
        "\n",
        "  return 0;\n",
        "}"
      ]
    },
    {
      "cell_type": "code",
      "execution_count": null,
      "metadata": {
        "id": "y0Co9oLNe0t8",
        "colab": {
          "base_uri": "https://localhost:8080/"
        },
        "outputId": "0d828576-850f-44b3-c034-686c19beabcb"
      },
      "outputs": [
        {
          "output_type": "stream",
          "name": "stdout",
          "text": [
            "1.0 2.3 9.0 8.4 7.5\n",
            "4.7 5.5 6.1 1.1 2.1\n",
            "max=9.00\n",
            "maxIndex=2\n"
          ]
        },
        {
          "output_type": "execute_result",
          "data": {
            "text/plain": []
          },
          "metadata": {},
          "execution_count": 19
        }
      ],
      "source": [
        "# 파일 실행(불러오기)\n",
        "%%shell\n",
        "gcc pre9_q3.c -o bout\n",
        "./bout"
      ]
    },
    {
      "cell_type": "markdown",
      "metadata": {
        "id": "d9eVF4jfe1Fg"
      },
      "source": [
        "\n",
        "\n",
        "---\n",
        "\n"
      ]
    },
    {
      "cell_type": "markdown",
      "metadata": {
        "id": "-uGz6alqe1zA"
      },
      "source": [
        "**9주차 예습문제 - 4**\n",
        "\n",
        "3x3 배열 ar1, ar2, ar3를 선언하고, 이 중 ar1과 ar2를 입력 받습니다.  \n",
        "이 두 행렬의 합을 ar3에 대입하고 ar3를 예시에 맞게 출력하세요."
      ]
    },
    {
      "cell_type": "code",
      "execution_count": null,
      "metadata": {
        "id": "pOlqgFUXe8W0",
        "colab": {
          "base_uri": "https://localhost:8080/"
        },
        "outputId": "5e1f1c0a-a5cf-411e-8786-4623e45d0b7b"
      },
      "outputs": [
        {
          "output_type": "stream",
          "name": "stdout",
          "text": [
            "Writing pre9_q4.c\n"
          ]
        }
      ],
      "source": [
        "# 파일 작성\n",
        "%%writefile pre9_q4.c\n",
        "\n",
        "#include<stdio.h>\n",
        "\n",
        "int main(){\n",
        "\n",
        "  int ar1[3][3], ar2[3][3], ar3[3][3];\n",
        "  for (int i = 0; i < 3; i++)\n",
        "  {\n",
        "    for (int j = 0; j < 3; j++)\n",
        "      scanf(\"%d\",&ar1[i][j]);\n",
        "  }\n",
        "\n",
        "  for (int i = 0; i < 3; i++)\n",
        "  {\n",
        "    for (int j = 0; j < 3; j++)\n",
        "      scanf(\"%d\",&ar2[i][j]);\n",
        "  }\n",
        "\n",
        "  for (int i = 0; i < 3; i++)\n",
        "  {\n",
        "    for (int j = 0; j < 3; j++)\n",
        "    {\n",
        "      ar3[i][j] = ar1[i][j] + ar2[i][j];\n",
        "      printf(\"%d \",ar3[i][j]);\n",
        "    }\n",
        "    printf(\"\\n\");\n",
        "  }\n",
        "\n",
        "  return 0;\n",
        "}"
      ]
    },
    {
      "cell_type": "code",
      "execution_count": null,
      "metadata": {
        "id": "lnOdO0kEe8q2",
        "colab": {
          "base_uri": "https://localhost:8080/"
        },
        "outputId": "229fd621-5343-4b15-b5ca-09768785e37e"
      },
      "outputs": [
        {
          "output_type": "stream",
          "name": "stdout",
          "text": [
            "2 3 5\n",
            "1 2 2\n",
            "6 7 3\n",
            "3 2 1 \n",
            "2 3 2\n",
            "5 5 1\n",
            "5 5 6 \n",
            "3 5 4 \n",
            "11 12 4 \n"
          ]
        },
        {
          "output_type": "execute_result",
          "data": {
            "text/plain": []
          },
          "metadata": {},
          "execution_count": 21
        }
      ],
      "source": [
        "# 파일 실행(불러오기)\n",
        "%%shell\n",
        "gcc pre9_q4.c -o bout\n",
        "./bout"
      ]
    },
    {
      "cell_type": "markdown",
      "metadata": {
        "id": "23ChVrPBe87j"
      },
      "source": [
        "\n",
        "\n",
        "---\n",
        "\n"
      ]
    },
    {
      "cell_type": "markdown",
      "metadata": {
        "id": "4O2Ew8Dqe9y5"
      },
      "source": [
        "**9주차 예습문제 - 5**\n",
        "\n",
        "3x3 배열을 생성하고 0으로 초기화 합니다.  \n",
        "행과 열과 새로운 값을 입력 받아 배열의 행과 열에 새로운 값을 넣습니다.  \n",
        "행과 열과 새로운 값이 모두 0이 입력 될 때까지 반복하고  \n",
        "행과 열과 새로운 값이 모두 0이면 배열의 결과를 출력하세요.  "
      ]
    },
    {
      "cell_type": "code",
      "execution_count": null,
      "metadata": {
        "id": "Rfxv83Q5fEWf",
        "colab": {
          "base_uri": "https://localhost:8080/"
        },
        "outputId": "32381533-0a85-4af3-d875-f5f3f53cb045"
      },
      "outputs": [
        {
          "output_type": "stream",
          "name": "stdout",
          "text": [
            "Overwriting pre9_q5.c\n"
          ]
        }
      ],
      "source": [
        "# 파일 작성\n",
        "%%writefile pre9_q5.c\n",
        "\n",
        "#include<stdio.h>\n",
        "\n",
        "int main(){\n",
        "\n",
        "  int arr[3][3] = {0};\n",
        "\n",
        "  int r,c,a;\n",
        "  scanf(\"%d %d %d\",&r,&c,&a);\n",
        "  while (r != 0 && c != 0)\n",
        "  {\n",
        "    arr[r-1][c-1] = a;\n",
        "    scanf(\"%d %d %d\",&r,&c,&a);\n",
        "  }\n",
        "\n",
        "  for (int i = 0; i < 3; i++)\n",
        "  {\n",
        "    for (int j = 0 ; j < 3; j++)\n",
        "      printf(\"%d \", arr[i][j]);\n",
        "    printf(\"\\n\");\n",
        "  }\n",
        "\n",
        "  return 0;\n",
        "}"
      ]
    },
    {
      "cell_type": "code",
      "execution_count": null,
      "metadata": {
        "id": "0x2NbvmWfEuF",
        "colab": {
          "base_uri": "https://localhost:8080/"
        },
        "outputId": "24c51bfa-5d59-420f-e2ac-ca74abacaa88"
      },
      "outputs": [
        {
          "output_type": "stream",
          "name": "stdout",
          "text": [
            "1 1 1\n",
            "1 3 5\n",
            "3 2 9\n",
            "2 1 5\n",
            "0 0 0\n",
            "1 0 5 \n",
            "5 0 0 \n",
            "0 9 0 \n"
          ]
        },
        {
          "output_type": "execute_result",
          "data": {
            "text/plain": []
          },
          "metadata": {},
          "execution_count": 25
        }
      ],
      "source": [
        "# 파일 실행(불러오기)\n",
        "%%shell\n",
        "gcc pre9_q5.c -o bout\n",
        "./bout"
      ]
    },
    {
      "cell_type": "markdown",
      "metadata": {
        "id": "wQZ1ORdDfFSF"
      },
      "source": [
        "\n",
        "\n",
        "---\n",
        "\n"
      ]
    },
    {
      "cell_type": "markdown",
      "metadata": {
        "id": "BgyywhEEf1F-"
      },
      "source": [
        "**9주차 문제은행 - 1**\n",
        "\n",
        "강섭이가 사탕가게를 운영합니다.  \n",
        "강섭이의 사탕가게에는 n개의 사탕 종류가 있고 n개마다 가격이 다릅니다.  \n",
        "하루동안 m명의 고객들이 와서 구매하는 사탕의 번호와 개수를 입력 받고 하루동안 팔린 금액을 출력하세요.  \n",
        "\n",
        "n을 입력 받고 n개의 사탕 가격을 입력 받습니다.  \n",
        "사탕이 팔린 횟수 m을 입력 받고 사탕 번호와 개수를 m번 입력 받습니다.  \n",
        "(단, n은 20이하의 정수이고 사탕의 번호는 사탕 가격 입력 순서와 같습니다.)  \n",
        "\n",
        "예를 들어 입력이  \n",
        "3  \n",
        "1000 2000 500  \n",
        "2  \n",
        "1 3  \n",
        "3 1  \n",
        "일 경우  \n",
        "3개의 사탕이 있고 1번 사탕은 1000원 2번 사탕은 2000원 3번 사탕은 500원 입니다.  \n",
        "하루동안 고객이 2번 왔고 1번 사탕을 3개, 3번 사탕을 1개 판매했습니다.  \n",
        "즉 하루동안 팔린 금액은 1000x3+500x1=3500원이므로 3500을 출력합니다.  "
      ]
    },
    {
      "cell_type": "code",
      "execution_count": null,
      "metadata": {
        "id": "HvK2eYPlgEZO",
        "colab": {
          "base_uri": "https://localhost:8080/"
        },
        "outputId": "46e7a2af-82e8-4a37-8989-bec7fa584746"
      },
      "outputs": [
        {
          "output_type": "stream",
          "name": "stdout",
          "text": [
            "Writing qbank9_1.c\n"
          ]
        }
      ],
      "source": [
        "# 파일 작성\n",
        "%%writefile qbank9_1.c\n",
        "\n",
        "#include<stdio.h>\n",
        "\n",
        "int main(){\n",
        "\n",
        "  int n;\n",
        "  scanf(\"%d\",&n);\n",
        "  int price[n];\n",
        "  for (int i = 0; i < n; i++)\n",
        "    scanf(\"%d\", &price[i]);\n",
        "\n",
        "  int m;\n",
        "  scanf(\"%d\", &m);\n",
        "  int total = 0;\n",
        "  for (int i = 0; i < m; i++)\n",
        "  {\n",
        "    int num1, num2;\n",
        "    scanf(\"%d %d\",&num1, &num2);\n",
        "    total += price[num1-1] * num2;\n",
        "  }\n",
        "\n",
        "  printf(\"%d\", total);\n",
        "\n",
        "  return 0;\n",
        "}"
      ]
    },
    {
      "cell_type": "code",
      "execution_count": null,
      "metadata": {
        "id": "HA5_TAxGgEyL",
        "colab": {
          "base_uri": "https://localhost:8080/"
        },
        "outputId": "a8b17078-2410-4367-e0e6-e68fc8eb89be"
      },
      "outputs": [
        {
          "output_type": "stream",
          "name": "stdout",
          "text": [
            "3\n",
            "1000 2000 500\n",
            "2\n",
            "1 3\n",
            "3 1\n",
            "3500"
          ]
        },
        {
          "output_type": "execute_result",
          "data": {
            "text/plain": []
          },
          "metadata": {},
          "execution_count": 27
        }
      ],
      "source": [
        "# 파일 실행(불러오기)\n",
        "%%shell\n",
        "gcc qbank9_1.c -o bout\n",
        "./bout"
      ]
    },
    {
      "cell_type": "markdown",
      "metadata": {
        "id": "weZ0Iab1gE_i"
      },
      "source": [
        "\n",
        "\n",
        "---\n",
        "\n"
      ]
    },
    {
      "cell_type": "markdown",
      "metadata": {
        "id": "8M8XKIQlgFe1"
      },
      "source": [
        "**☆★ 9주차 문제은행 - 2 ★☆**\n",
        "\n",
        "20보다 작은 n을 입력 받고 n개의 정수를 입력 받습니다.  \n",
        "n개의 숫자를 내림차순으로 정렬하여 출력하세요."
      ]
    },
    {
      "cell_type": "code",
      "execution_count": null,
      "metadata": {
        "id": "6tbEdv4LgMlb",
        "colab": {
          "base_uri": "https://localhost:8080/"
        },
        "outputId": "4053fd8a-8598-4721-9488-c9d0a416b3ee"
      },
      "outputs": [
        {
          "output_type": "stream",
          "name": "stdout",
          "text": [
            "Overwriting qbank9_2.c\n"
          ]
        }
      ],
      "source": [
        "# 파일 작성\n",
        "%%writefile qbank9_2.c\n",
        "\n",
        "#include<stdio.h>\n",
        "\n",
        "int main(){\n",
        "\n",
        "  int n;\n",
        "  scanf(\"%d\", &n);\n",
        "\n",
        "  int arr[n];\n",
        "  for (int i = 0; i < n; i++)\n",
        "    scanf(\"%d\", &arr[i]);\n",
        "\n",
        "  int swap;\n",
        "  for (int i = 0; i < n; i++)\n",
        "  {\n",
        "    for (int j = 0; j < n-1-i; j++)\n",
        "    {\n",
        "      if (arr[j] < arr[j+1])\n",
        "      {\n",
        "        swap = arr[j];\n",
        "        arr[j] = arr[j+1];\n",
        "        arr[j+1] = swap;\n",
        "      }\n",
        "    }\n",
        "  }\n",
        "\n",
        "  for (int i = 0; i < n; i++)\n",
        "    printf(\"%d \", arr[i]);\n",
        "\n",
        "  return 0;\n",
        "}"
      ]
    },
    {
      "cell_type": "code",
      "execution_count": null,
      "metadata": {
        "id": "isnZ_aG9gM5I",
        "colab": {
          "base_uri": "https://localhost:8080/"
        },
        "outputId": "4235d674-be52-48cb-864c-1fe974f25e6a"
      },
      "outputs": [
        {
          "output_type": "stream",
          "name": "stdout",
          "text": [
            "19\n",
            "9 4 3 2 6 8 1 1 2 7 6 2 3 1 10 0 6 9 1\n",
            "10 9 9 8 7 6 6 6 4 3 3 2 2 2 1 1 1 1 0 "
          ]
        },
        {
          "output_type": "execute_result",
          "data": {
            "text/plain": []
          },
          "metadata": {},
          "execution_count": 38
        }
      ],
      "source": [
        "# 파일 실행(불러오기)\n",
        "%%shell\n",
        "gcc qbank9_2.c -o bout\n",
        "./bout"
      ]
    },
    {
      "cell_type": "markdown",
      "metadata": {
        "id": "IXx19M8UgNvc"
      },
      "source": [
        "\n",
        "\n",
        "---\n",
        "\n"
      ]
    },
    {
      "cell_type": "markdown",
      "metadata": {
        "id": "oLrJNhFHgOjG"
      },
      "source": [
        "**9주차 문제은행 - 3**\n",
        "\n",
        "5x5 배열을 0으로 초기화 하고 사용자로 부터 양의 정수 n을 입력 받는다.   \n",
        "n의 횟수 만큼 i, j, number를 입력 받고 배열 i, j의 칸에 number를 더한다.   \n",
        "n번의 수행 후 최종 결과를 출력하세요.   \n",
        "(단, 0 <= i, j < 5 이고 n < 100 이다.)\n"
      ]
    },
    {
      "cell_type": "code",
      "execution_count": null,
      "metadata": {
        "id": "Fqut1zG5gVU7",
        "colab": {
          "base_uri": "https://localhost:8080/"
        },
        "outputId": "8eab9b76-c08b-42c4-9a62-81d93afe2f8d"
      },
      "outputs": [
        {
          "output_type": "stream",
          "name": "stdout",
          "text": [
            "Overwriting qbank9_3.c\n"
          ]
        }
      ],
      "source": [
        "# 파일 작성\n",
        "%%writefile qbank9_3.c\n",
        "\n",
        "#include<stdio.h>\n",
        "\n",
        "int main(){\n",
        "\n",
        "  int arr[5][5] = {0};\n",
        "  int n;\n",
        "  scanf(\"%d\", &n);\n",
        "\n",
        "  int i,j,number;\n",
        "  for (int l = 0; l < n; l++)\n",
        "  {\n",
        "    scanf(\"%d %d %d\", &i,&j,&number);\n",
        "    arr[i][j] += number;\n",
        "  }\n",
        "\n",
        "  for (int l = 0; l < 5; l++)\n",
        "  {\n",
        "    for (int q = 0; q < 5; q++)\n",
        "      printf(\"%d \",arr[l][q]);\n",
        "    printf(\"\\n\");\n",
        "  }\n",
        "\n",
        "  return 0;\n",
        "}"
      ]
    },
    {
      "cell_type": "code",
      "execution_count": null,
      "metadata": {
        "id": "2Mdab-fzgVt4",
        "colab": {
          "base_uri": "https://localhost:8080/"
        },
        "outputId": "a4142be3-7f9d-42d1-b0ce-a968896e8170"
      },
      "outputs": [
        {
          "output_type": "stream",
          "name": "stdout",
          "text": [
            "5\n",
            "1 1 6\n",
            "1 2 7\n",
            "0 0 3\n",
            "4 4 2\n",
            "1 2 7\n",
            "3 0 0 0 0 \n",
            "0 6 14 0 0 \n",
            "0 0 0 0 0 \n",
            "0 0 0 0 0 \n",
            "0 0 0 0 2 \n"
          ]
        },
        {
          "output_type": "execute_result",
          "data": {
            "text/plain": []
          },
          "metadata": {},
          "execution_count": 44
        }
      ],
      "source": [
        "# 파일 실행(불러오기)\n",
        "%%shell\n",
        "gcc qbank9_3.c -o bout\n",
        "./bout"
      ]
    },
    {
      "cell_type": "markdown",
      "metadata": {
        "id": "O43hGdKagaEh"
      },
      "source": [
        "\n",
        "\n",
        "---\n",
        "\n"
      ]
    },
    {
      "cell_type": "markdown",
      "metadata": {
        "id": "jFrrWCqNgV7a"
      },
      "source": [
        "**9주차 문제은행 - 4**\n",
        "\n",
        "재홍이와 강섭이가 숫자 보드게임을 합니다.  \n",
        "재홍이와 강섭이가 숫자 하나씩 부릅니다.  \n",
        "재홍이가 부른 숫자가 n이고 강섭이가 부른 숫자가 m이라면  \n",
        "nxm의 보드판이 만들어 집니다.  \n",
        "[0,0]은 항상 1이며 그 외의 칸은 왼쪽칸과 위쪽칸의 합이 됩니다.  \n",
        "만약 위나 왼쪽 칸이 없다면 위나 왼쪽 칸의 값이 복사됩니다.  \n",
        "재홍이와 강섭이가 숫자를 불렀다면 nxm의 보드판을 출력하세요.  \n",
        "(단, n과 m은 20이하의 정수이고 먼저 입력 받는 숫자가 보드판의 가로길이가 됩니다.)"
      ]
    },
    {
      "cell_type": "code",
      "execution_count": null,
      "metadata": {
        "id": "HEj5PE_1giO7",
        "colab": {
          "base_uri": "https://localhost:8080/"
        },
        "outputId": "138e9670-877f-4e4c-d4de-90abadf652eb"
      },
      "outputs": [
        {
          "output_type": "stream",
          "name": "stdout",
          "text": [
            "Overwriting qbank9_4.c\n"
          ]
        }
      ],
      "source": [
        "# 파일 작성\n",
        "%%writefile qbank9_4.c\n",
        "\n",
        "#include<stdio.h>\n",
        "\n",
        "int main(){\n",
        "\n",
        "  int n, m;\n",
        "  scanf(\"%d %d\", &n,&m);\n",
        "\n",
        "  int board[m][n];\n",
        "  for (int i = 0; i < m; i++)\n",
        "  {\n",
        "    for (int j = 0; j < n ; j++)\n",
        "    {\n",
        "      if ((i == 0) || (j == 0)) board[i][j] = 1;\n",
        "      else board[i][j] = (board[i-1][j] + board[i][j-1]);\n",
        "    }\n",
        "  }\n",
        "\n",
        "  for (int i = 0; i < m; i++)\n",
        "  {\n",
        "    for (int j = 0; j < n ; j++)\n",
        "    {\n",
        "      printf(\"%d \",board[i][j]);\n",
        "    }\n",
        "    printf(\"\\n\");\n",
        "  }\n",
        "\n",
        "  return 0;\n",
        "}"
      ]
    },
    {
      "cell_type": "code",
      "execution_count": null,
      "metadata": {
        "id": "s3QyZwv9gkIc",
        "colab": {
          "base_uri": "https://localhost:8080/"
        },
        "outputId": "15a19a1d-2176-4de7-bd9f-76c585b68d71"
      },
      "outputs": [
        {
          "output_type": "stream",
          "name": "stdout",
          "text": [
            "16 9\n",
            "1 1 1 1 1 1 1 1 1 1 1 1 1 1 1 1 \n",
            "1 2 3 4 5 6 7 8 9 10 11 12 13 14 15 16 \n",
            "1 3 6 10 15 21 28 36 45 55 66 78 91 105 120 136 \n",
            "1 4 10 20 35 56 84 120 165 220 286 364 455 560 680 816 \n",
            "1 5 15 35 70 126 210 330 495 715 1001 1365 1820 2380 3060 3876 \n",
            "1 6 21 56 126 252 462 792 1287 2002 3003 4368 6188 8568 11628 15504 \n",
            "1 7 28 84 210 462 924 1716 3003 5005 8008 12376 18564 27132 38760 54264 \n",
            "1 8 36 120 330 792 1716 3432 6435 11440 19448 31824 50388 77520 116280 170544 \n",
            "1 9 45 165 495 1287 3003 6435 12870 24310 43758 75582 125970 203490 319770 490314 \n"
          ]
        },
        {
          "output_type": "execute_result",
          "data": {
            "text/plain": []
          },
          "metadata": {},
          "execution_count": 55
        }
      ],
      "source": [
        "# 파일 실행(불러오기)\n",
        "%%shell\n",
        "gcc qbank9_4.c -o bout\n",
        "./bout"
      ]
    },
    {
      "cell_type": "markdown",
      "metadata": {
        "id": "Wj6dnLikgkgV"
      },
      "source": [
        "\n",
        "\n",
        "---\n",
        "\n"
      ]
    },
    {
      "cell_type": "markdown",
      "metadata": {
        "id": "5qYtwJBUgnwc"
      },
      "source": [
        "**9주차 문제은행 - 5**\n",
        "\n",
        "재홍이와 강섭이가 숫자 무야호 게임을 합니다.  \n",
        "재홍이가 숫자를 5개씩 4번 부릅니다.   \n",
        "강섭이는 재홍이가 부른 20개의 숫자를 모두 듣고 재홍이가 부른 숫자 중 가장 큰 숫자와 가장 작은 숫자의 차이를 구합니다.  \n",
        "\n",
        "가장 큰 숫자와  가장 작은 숫자의 차이를 D라고 할 때,   \n",
        "재홍이가 부른 숫자 중 D가 없었다면 강섭이는 MOOYAHO를 외치고 있었다면 YOOYAHO를 외칩니다.  \n",
        "\n",
        "재홍이가 부른 숫자 20개를 입력 받고 강섭이가 답할 내용을 출력하세요.  \n"
      ]
    },
    {
      "cell_type": "code",
      "execution_count": null,
      "metadata": {
        "id": "-SZq7KeTgwIF",
        "colab": {
          "base_uri": "https://localhost:8080/"
        },
        "outputId": "b68990b9-0800-4fef-8bd6-edad5bfa7b8c"
      },
      "outputs": [
        {
          "output_type": "stream",
          "name": "stdout",
          "text": [
            "Overwriting qbank9_5.c\n"
          ]
        }
      ],
      "source": [
        "# 파일 작성\n",
        "%%writefile qbank9_5.c\n",
        "\n",
        "#include<stdio.h>\n",
        "\n",
        "int main(){\n",
        "\n",
        "  int arr[20];\n",
        "  for (int i = 0; i < 20; i++)\n",
        "    scanf(\"%d\", &arr[i]);\n",
        "\n",
        "  int min = 10000, max = -1;\n",
        "  for (int i = 0; i < 20; i++)\n",
        "  {\n",
        "    if (min > arr[i]) min = arr[i];\n",
        "    if (max < arr[i]) max = arr[i];\n",
        "  }\n",
        "\n",
        "  int D = (max - min);\n",
        "  int m = 0;\n",
        "  for (int i = 0; i < 20; i++)\n",
        "    if (arr[i] == D) m += 1;\n",
        "\n",
        "  if (m == 0) printf(\"MOOYAHO\");\n",
        "  else printf(\"YOOYAHO\");\n",
        "\n",
        "  return 0;\n",
        "}"
      ]
    },
    {
      "cell_type": "code",
      "execution_count": null,
      "metadata": {
        "id": "JIfsSbsKgwi8",
        "colab": {
          "base_uri": "https://localhost:8080/"
        },
        "outputId": "b22cb63a-c3b0-4c0b-dda9-609ee2d1c5c2"
      },
      "outputs": [
        {
          "output_type": "stream",
          "name": "stdout",
          "text": [
            "1 2 3 5 4\n",
            "8 4 6 5 1\n",
            "4 8 7 5 6\n",
            "2 3 5 4 9\n",
            "YOOYAHO"
          ]
        },
        {
          "output_type": "execute_result",
          "data": {
            "text/plain": []
          },
          "metadata": {},
          "execution_count": 63
        }
      ],
      "source": [
        "# 파일 실행(불러오기)\n",
        "%%shell\n",
        "gcc qbank9_5.c -o bout\n",
        "./bout"
      ]
    },
    {
      "cell_type": "markdown",
      "metadata": {
        "id": "H-7QRWregw77"
      },
      "source": [
        "\n",
        "\n",
        "---\n",
        "\n"
      ]
    },
    {
      "cell_type": "markdown",
      "metadata": {
        "id": "VDiKebM1hQ9Y"
      },
      "source": [
        "**10주차 예습문제 - 1**\n",
        "\n",
        "정수 2개를 전달 받아 2개의 정수를 더해주는 MySum 함수를 만들고,  \n",
        "정수 2개를 입력 받아 MySum함수를 통해 2개의 합을 출력하세요."
      ]
    },
    {
      "cell_type": "code",
      "execution_count": null,
      "metadata": {
        "id": "huiJ4ri0hZLe",
        "colab": {
          "base_uri": "https://localhost:8080/"
        },
        "outputId": "afe9ad0d-78db-46af-dcb6-60a634147d15"
      },
      "outputs": [
        {
          "output_type": "stream",
          "name": "stdout",
          "text": [
            "Overwriting pre10_q1.c\n"
          ]
        }
      ],
      "source": [
        "# 파일 작성\n",
        "%%writefile pre10_q1.c\n",
        "\n",
        "#include<stdio.h>\n",
        "\n",
        "int MySum(int n1, int n2)\n",
        "{\n",
        "  return (n1+n2);\n",
        "}\n",
        "\n",
        "int main(){\n",
        "\n",
        "  int n1, n2;\n",
        "  scanf(\"%d %d\",&n1, &n2);\n",
        "\n",
        "  printf(\"%d\", MySum(n1,n2));\n",
        "\n",
        "  return 0;\n",
        "}"
      ]
    },
    {
      "cell_type": "code",
      "execution_count": null,
      "metadata": {
        "id": "25JTzQ4_hZlV",
        "colab": {
          "base_uri": "https://localhost:8080/"
        },
        "outputId": "c8a5790b-6c43-4bc4-e007-3d9459979d75"
      },
      "outputs": [
        {
          "output_type": "stream",
          "name": "stdout",
          "text": [
            "5 9\n",
            "14"
          ]
        },
        {
          "output_type": "execute_result",
          "data": {
            "text/plain": []
          },
          "metadata": {},
          "execution_count": 67
        }
      ],
      "source": [
        "# 파일 실행(불러오기)\n",
        "%%shell\n",
        "gcc pre10_q1.c -o bout\n",
        "./bout"
      ]
    },
    {
      "cell_type": "markdown",
      "metadata": {
        "id": "-q8psku3hZ4e"
      },
      "source": [
        "\n",
        "\n",
        "---\n",
        "\n"
      ]
    },
    {
      "cell_type": "markdown",
      "metadata": {
        "id": "4yVSi6GAhaxm"
      },
      "source": [
        "**10주차 예습문제 - 2**\n",
        "\n",
        "정수 2개를 입력 받아서 큰 값을 반환하는 MyMax 함수를 만드세요.  \n",
        "정수 2개를 입력 받아 MyMax를 통해 가장 큰 값을 출력하세요."
      ]
    },
    {
      "cell_type": "code",
      "execution_count": null,
      "metadata": {
        "id": "OXLySfr_hgFO",
        "colab": {
          "base_uri": "https://localhost:8080/"
        },
        "outputId": "ae787ded-5194-4113-ff06-c03e05dc1504"
      },
      "outputs": [
        {
          "output_type": "stream",
          "name": "stdout",
          "text": [
            "Writing pre10_q2.c\n"
          ]
        }
      ],
      "source": [
        "# 파일 작성\n",
        "%%writefile pre10_q2.c\n",
        "\n",
        "#include<stdio.h>\n",
        "\n",
        "int MyMax(int n1, int n2)\n",
        "{\n",
        "  if (n1 >= n2) return n1;\n",
        "  else return n2;\n",
        "}\n",
        "\n",
        "int main(){\n",
        "  int n1, n2;\n",
        "  scanf(\"%d %d\", &n1,&n2);\n",
        "\n",
        "  printf(\"%d\", MyMax(n1,n2));\n",
        "\n",
        "  return 0;\n",
        "}"
      ]
    },
    {
      "cell_type": "code",
      "execution_count": null,
      "metadata": {
        "id": "xJYhOe5_hgX5",
        "colab": {
          "base_uri": "https://localhost:8080/"
        },
        "outputId": "cde3e3ab-6bf3-45b1-c96f-982ac3f463c4"
      },
      "outputs": [
        {
          "output_type": "stream",
          "name": "stdout",
          "text": [
            "5 2\n",
            "5"
          ]
        },
        {
          "output_type": "execute_result",
          "data": {
            "text/plain": []
          },
          "metadata": {},
          "execution_count": 69
        }
      ],
      "source": [
        "# 파일 실행(불러오기)\n",
        "%%shell\n",
        "gcc pre10_q2.c -o bout\n",
        "./bout"
      ]
    },
    {
      "cell_type": "markdown",
      "metadata": {
        "id": "wDF_MH2shlGN"
      },
      "source": [
        "\n",
        "\n",
        "---\n",
        "\n"
      ]
    },
    {
      "cell_type": "markdown",
      "metadata": {
        "id": "ksr75BFxhguL"
      },
      "source": [
        "**10주차 예습문제 - 3**\n",
        "\n",
        "정수하나를 전달 받아 전달 받은 정수에 해당하는 구구단을 출력하는  PrintGugudan 함수를 만드세요.  \n",
        "정수 하나를 입력 받고 PrintGugudan 함수를 통해 구구단을 출력하세요."
      ]
    },
    {
      "cell_type": "code",
      "execution_count": null,
      "metadata": {
        "id": "DP2xJG-fhpUB",
        "colab": {
          "base_uri": "https://localhost:8080/"
        },
        "outputId": "a07f57a1-638c-4d53-ed7f-3754b3ae692c"
      },
      "outputs": [
        {
          "output_type": "stream",
          "name": "stdout",
          "text": [
            "Overwriting pre10_q3.c\n"
          ]
        }
      ],
      "source": [
        "# 파일 작성\n",
        "%%writefile pre10_q3.c\n",
        "\n",
        "#include<stdio.h>\n",
        "\n",
        "void PrintGugudan(int n)\n",
        "{\n",
        "  for (int i = 1; i < 10; i++)\n",
        "    printf(\"%dX%d=%d\\n\",n,i,n*i);\n",
        "}\n",
        "\n",
        "int main(){\n",
        "\n",
        "  int n;\n",
        "  scanf(\"%d\", &n);\n",
        "\n",
        "  PrintGugudan(n);\n",
        "\n",
        "  return 0;\n",
        "}"
      ]
    },
    {
      "cell_type": "code",
      "execution_count": null,
      "metadata": {
        "id": "oyFgHSq-hplx",
        "colab": {
          "base_uri": "https://localhost:8080/"
        },
        "outputId": "e9580018-9462-4aa0-cc14-741850acdc1f"
      },
      "outputs": [
        {
          "output_type": "stream",
          "name": "stdout",
          "text": [
            "5\n",
            "5X1=5\n",
            "5X2=10\n",
            "5X3=15\n",
            "5X4=20\n",
            "5X5=25\n",
            "5X6=30\n",
            "5X7=35\n",
            "5X8=40\n",
            "5X9=45\n"
          ]
        },
        {
          "output_type": "execute_result",
          "data": {
            "text/plain": []
          },
          "metadata": {},
          "execution_count": 73
        }
      ],
      "source": [
        "# 파일 실행(불러오기)\n",
        "%%shell\n",
        "gcc pre10_q3.c -o bout\n",
        "./bout"
      ]
    },
    {
      "cell_type": "markdown",
      "metadata": {
        "id": "O-s8QTwfhpz0"
      },
      "source": [
        "\n",
        "\n",
        "---\n",
        "\n"
      ]
    },
    {
      "cell_type": "markdown",
      "metadata": {
        "id": "g5-JEslPhqiF"
      },
      "source": [
        "**10주차 예습문제 - 4**\n",
        "\n",
        "크기가 10인 정수 배열을 전달 받아 평균을 구하는 함수 getAvg를 만드세요.  \n",
        "정수 10개를 입력 받아 getAvg 함수를 통해 평균을 소수점 둘째자리까지 출력하세요."
      ]
    },
    {
      "cell_type": "code",
      "execution_count": null,
      "metadata": {
        "id": "pypO56_ihw-p",
        "colab": {
          "base_uri": "https://localhost:8080/"
        },
        "outputId": "51a47ac4-0613-4716-e81a-896c9731ac3d"
      },
      "outputs": [
        {
          "output_type": "stream",
          "name": "stdout",
          "text": [
            "Overwriting pre10_q4.c\n"
          ]
        }
      ],
      "source": [
        "# 파일 작성\n",
        "%%writefile pre10_q4.c\n",
        "\n",
        "#include<stdio.h>\n",
        "\n",
        "double getAvg(int arr[])\n",
        "{\n",
        "  int sum = 0;\n",
        "  for (int i = 0; i < 10; i++)\n",
        "    sum += arr[i];\n",
        "\n",
        "  return ((double)sum / 10.0);\n",
        "}\n",
        "\n",
        "int main(){\n",
        "\n",
        "  int arr[10];\n",
        "  for (int i = 0; i < 10; i++)\n",
        "    scanf(\"%d\", &arr[i]);\n",
        "\n",
        "  printf(\"%.2f\", getAvg(arr));\n",
        "\n",
        "  return 0;\n",
        "}"
      ]
    },
    {
      "cell_type": "code",
      "execution_count": null,
      "metadata": {
        "id": "CRi-P1HQhxVe",
        "colab": {
          "base_uri": "https://localhost:8080/"
        },
        "outputId": "4968230b-87cf-42f1-86c3-4acd61e01ef5"
      },
      "outputs": [
        {
          "output_type": "stream",
          "name": "stdout",
          "text": [
            "1 2 3 4 5 6 7 8 9 10\n",
            "5.50"
          ]
        },
        {
          "output_type": "execute_result",
          "data": {
            "text/plain": []
          },
          "metadata": {},
          "execution_count": 89
        }
      ],
      "source": [
        "# 파일 실행(불러오기)\n",
        "%%shell\n",
        "gcc pre10_q4.c -o bout\n",
        "./bout"
      ]
    },
    {
      "cell_type": "markdown",
      "metadata": {
        "id": "pKHdmTGdhxlp"
      },
      "source": [
        "\n",
        "\n",
        "---\n",
        "\n"
      ]
    },
    {
      "cell_type": "markdown",
      "metadata": {
        "id": "Iw0F65k_hyIK"
      },
      "source": [
        "**10주차 예습문제 - 5**\n",
        "\n",
        "정수 하나를 입력 받고 팩토리얼을 계산하여 반환하는 Factorial 함수를 만드세요.  \n",
        "정수 하나를 입력 받아서 Factorial 함수를 통해 팩토리얼 결과를 출력하세요.  \n",
        "(단 입력 받는 정수는 2 이상 13 미만 입니다.)"
      ]
    },
    {
      "cell_type": "code",
      "execution_count": null,
      "metadata": {
        "id": "C4S8VfOBh3IY",
        "colab": {
          "base_uri": "https://localhost:8080/"
        },
        "outputId": "5eb02e7b-a6c5-4cee-953f-359891f7b796"
      },
      "outputs": [
        {
          "output_type": "stream",
          "name": "stdout",
          "text": [
            "Writing pre10_q5.c\n"
          ]
        }
      ],
      "source": [
        "# 파일 작성\n",
        "%%writefile pre10_q5.c\n",
        "\n",
        "#include<stdio.h>\n",
        "\n",
        "int Factorial(int n)\n",
        "{\n",
        "  int tot =  1;\n",
        "  for (int i = 1; i <= n; i++)\n",
        "    tot *= i;\n",
        "  return tot;\n",
        "}\n",
        "\n",
        "int main(){\n",
        "\n",
        "  int n;\n",
        "  scanf(\"%d\", &n);\n",
        "\n",
        "  printf(\"%d\",Factorial(n));\n",
        "\n",
        "  return 0;\n",
        "}"
      ]
    },
    {
      "cell_type": "code",
      "execution_count": null,
      "metadata": {
        "id": "nfC0pjOkh3bY",
        "colab": {
          "base_uri": "https://localhost:8080/"
        },
        "outputId": "d22d80df-c3ca-4c4c-c5c7-a1f779f06ee3"
      },
      "outputs": [
        {
          "output_type": "stream",
          "name": "stdout",
          "text": [
            "5\n",
            "120"
          ]
        },
        {
          "output_type": "execute_result",
          "data": {
            "text/plain": []
          },
          "metadata": {},
          "execution_count": 91
        }
      ],
      "source": [
        "# 파일 실행(불러오기)\n",
        "%%shell\n",
        "gcc pre10_q5.c -o bout\n",
        "./bout"
      ]
    },
    {
      "cell_type": "markdown",
      "metadata": {
        "id": "byOQG25dh34j"
      },
      "source": [
        "\n",
        "\n",
        "---\n",
        "\n"
      ]
    },
    {
      "cell_type": "markdown",
      "metadata": {
        "id": "6g8tWg52h5He"
      },
      "source": [
        "**☆★ 10주차 예습문제 - 6 ★☆**\n",
        "\n",
        "정수 하나를 입력 받고 팩토리얼을 계산하여 반환하는 Factorial 함수를 만드세요.  \n",
        "정수 하나를 입력 받아서 Factorial 함수를 통해 팩토리얼 결과를 출력하세요.  \n",
        "(단 입력 받는 정수는 2 이상 13 미만 입니다. 또한 팩토리얼 함수를 **재귀함수**로 작성하세요.)"
      ]
    },
    {
      "cell_type": "code",
      "execution_count": null,
      "metadata": {
        "id": "xlm73srEh_Sd",
        "colab": {
          "base_uri": "https://localhost:8080/"
        },
        "outputId": "f09d5b94-8f8e-4600-b666-1f5f4f64bbd9"
      },
      "outputs": [
        {
          "output_type": "stream",
          "name": "stdout",
          "text": [
            "Overwriting pre10_q6.c\n"
          ]
        }
      ],
      "source": [
        "# 파일 작성\n",
        "%%writefile pre10_q6.c\n",
        "\n",
        "#include<stdio.h>\n",
        "\n",
        "int Factorial(int n)\n",
        "{\n",
        "  if (n == 1) return 1;\n",
        "  else return n*Factorial(n-1);\n",
        "}\n",
        "\n",
        "int main(){\n",
        "\n",
        "  int n;\n",
        "  scanf(\"%d\", &n);\n",
        "\n",
        "  printf(\"%d\", Factorial(n));\n",
        "\n",
        "  return 0;\n",
        "}"
      ]
    },
    {
      "cell_type": "code",
      "execution_count": null,
      "metadata": {
        "id": "IaeapVOAh_na",
        "colab": {
          "base_uri": "https://localhost:8080/"
        },
        "outputId": "f51fab0d-7c8e-49ba-fc34-6d9d7457a09f"
      },
      "outputs": [
        {
          "output_type": "stream",
          "name": "stdout",
          "text": [
            "5\n",
            "120"
          ]
        },
        {
          "output_type": "execute_result",
          "data": {
            "text/plain": []
          },
          "metadata": {},
          "execution_count": 95
        }
      ],
      "source": [
        "# 파일 실행(불러오기)\n",
        "%%shell\n",
        "gcc pre10_q6.c -o bout\n",
        "./bout"
      ]
    },
    {
      "cell_type": "markdown",
      "metadata": {
        "id": "YzTPDjiziZo9"
      },
      "source": [
        "\n",
        "\n",
        "---\n",
        "\n"
      ]
    },
    {
      "cell_type": "markdown",
      "metadata": {
        "id": "ISLs8pPAiaIr"
      },
      "source": [
        "**10주차 문제은행 - 1**\n",
        "\n",
        "양의 정수 n을 전달 받아 Sejong University를 n번 출력하는 함수를 만드세요.  \n",
        "양의 정수 n을 입력 받고 함수를 통해 Sejong University를 n번 출력하세요."
      ]
    },
    {
      "cell_type": "code",
      "execution_count": null,
      "metadata": {
        "id": "PIhU2MBXirkp",
        "colab": {
          "base_uri": "https://localhost:8080/"
        },
        "outputId": "ada35b41-abce-4dfd-e4d2-6b77bca64db1"
      },
      "outputs": [
        {
          "output_type": "stream",
          "name": "stdout",
          "text": [
            "Writing qbank10_1.c\n"
          ]
        }
      ],
      "source": [
        "# 파일 작성\n",
        "%%writefile qbank10_1.c\n",
        "\n",
        "#include<stdio.h>\n",
        "\n",
        "void Print(int n)\n",
        "{\n",
        "  for (int i = 0; i < n; i++)\n",
        "    printf(\"Sejong University\\n\");\n",
        "}\n",
        "\n",
        "int main(){\n",
        "\n",
        "  int n;\n",
        "  scanf(\"%d\",&n);\n",
        "\n",
        "  Print(n);\n",
        "\n",
        "  return 0;\n",
        "}"
      ]
    },
    {
      "cell_type": "code",
      "execution_count": null,
      "metadata": {
        "id": "eEnJ1MW-ir3x",
        "colab": {
          "base_uri": "https://localhost:8080/"
        },
        "outputId": "f93b34e2-2654-4695-e03a-9fde38113cc3"
      },
      "outputs": [
        {
          "output_type": "stream",
          "name": "stdout",
          "text": [
            "4\n",
            "Sejong University\n",
            "Sejong University\n",
            "Sejong University\n",
            "Sejong University\n"
          ]
        },
        {
          "output_type": "execute_result",
          "data": {
            "text/plain": []
          },
          "metadata": {},
          "execution_count": 97
        }
      ],
      "source": [
        "# 파일 실행(불러오기)\n",
        "%%shell\n",
        "gcc qbank10_1.c -o bout\n",
        "./bout"
      ]
    },
    {
      "cell_type": "markdown",
      "metadata": {
        "id": "o_NIoTzzisLe"
      },
      "source": [
        "\n",
        "\n",
        "---\n",
        "\n"
      ]
    },
    {
      "cell_type": "markdown",
      "metadata": {
        "id": "YYtAjKXrisz5"
      },
      "source": [
        "**☆★ 10주차 문제은행 - 2 ★☆**\n",
        "\n",
        "양의 정수인 sec를 전달 받아 시 분 초로 출력하는 함수를 만드세요.  \n",
        "양의 정수 sec를 입력 받아 함수를 통해 예시에 맞게 시 분 초를 출력하세요."
      ]
    },
    {
      "cell_type": "code",
      "execution_count": null,
      "metadata": {
        "id": "Q1a6aiBhix_Q",
        "colab": {
          "base_uri": "https://localhost:8080/"
        },
        "outputId": "9bf8a71e-06c5-4758-d1f5-d582b187c95d"
      },
      "outputs": [
        {
          "output_type": "stream",
          "name": "stdout",
          "text": [
            "Overwriting qbank10_2.c\n"
          ]
        }
      ],
      "source": [
        "# 파일 작성\n",
        "%%writefile qbank10_2.c\n",
        "\n",
        "#include<stdio.h>\n",
        "\n",
        "void Printhms(int n)\n",
        "{\n",
        "  printf(\"%02d:%02d:%02d\", (n/3600), ((n%3600)/60), ((n%3600)%60));\n",
        "}\n",
        "\n",
        "int main(){\n",
        "\n",
        "  int sec;\n",
        "  scanf(\"%d\", &sec);\n",
        "\n",
        "  Printhms(sec);\n",
        "\n",
        "  return 0;\n",
        "}"
      ]
    },
    {
      "cell_type": "code",
      "execution_count": null,
      "metadata": {
        "id": "XgrwVvnRiyVF",
        "colab": {
          "base_uri": "https://localhost:8080/"
        },
        "outputId": "97fbd89b-6fc4-4914-f0da-da0f7dc1859d"
      },
      "outputs": [
        {
          "output_type": "stream",
          "name": "stdout",
          "text": [
            "3650\n",
            "01:00:50"
          ]
        },
        {
          "output_type": "execute_result",
          "data": {
            "text/plain": []
          },
          "metadata": {},
          "execution_count": 103
        }
      ],
      "source": [
        "# 파일 실행(불러오기)\n",
        "%%shell\n",
        "gcc qbank10_2.c -o bout\n",
        "./bout"
      ]
    },
    {
      "cell_type": "markdown",
      "metadata": {
        "id": "9kqVlTEbiynr"
      },
      "source": [
        "\n",
        "\n",
        "---\n",
        "\n"
      ]
    },
    {
      "cell_type": "markdown",
      "metadata": {
        "id": "qWzpvL_GizIi"
      },
      "source": [
        "**10주차 문제은행 - 3**\n",
        "\n",
        "0보다 크고 27보다 작은 양의 정수 n을 전달 받아 n번째 대문자 알파벳을 반환하는 함수를 작성하세요.  \n",
        "0보다 크고 27보다 작은 양의 정수 n을 입력 받고 함수를 통해 n번째 대문자 알파벳을 출력하세요."
      ]
    },
    {
      "cell_type": "code",
      "execution_count": null,
      "metadata": {
        "id": "om4i97Csi4kG",
        "colab": {
          "base_uri": "https://localhost:8080/"
        },
        "outputId": "1f873efc-4a50-4f18-94c2-c8b323d8f37b"
      },
      "outputs": [
        {
          "output_type": "stream",
          "name": "stdout",
          "text": [
            "Overwriting qbank10_3.c\n"
          ]
        }
      ],
      "source": [
        "# 파일 작성\n",
        "%%writefile qbank10_3.c\n",
        "\n",
        "#include<stdio.h>\n",
        "\n",
        "char Alpha(int n)\n",
        "{\n",
        "  return ('A'-1+n);\n",
        "}\n",
        "\n",
        "int main(){\n",
        "\n",
        "  int n;\n",
        "  scanf(\"%d\", &n);\n",
        "\n",
        "  printf(\"%c\", Alpha(n));\n",
        "\n",
        "  return 0;\n",
        "}"
      ]
    },
    {
      "cell_type": "code",
      "execution_count": null,
      "metadata": {
        "id": "VR_NkF4Li43r",
        "colab": {
          "base_uri": "https://localhost:8080/"
        },
        "outputId": "4deb5023-33aa-48bb-bf78-20b3ce2e572c"
      },
      "outputs": [
        {
          "output_type": "stream",
          "name": "stdout",
          "text": [
            "3\n",
            "C"
          ]
        },
        {
          "output_type": "execute_result",
          "data": {
            "text/plain": []
          },
          "metadata": {},
          "execution_count": 107
        }
      ],
      "source": [
        "# 파일 실행(불러오기)\n",
        "%%shell\n",
        "gcc qbank10_3.c -o bout\n",
        "./bout"
      ]
    },
    {
      "cell_type": "markdown",
      "metadata": {
        "id": "hPetDcDui5IT"
      },
      "source": [
        "\n",
        "\n",
        "---\n",
        "\n"
      ]
    },
    {
      "cell_type": "markdown",
      "metadata": {
        "id": "kle2tpZdi51_"
      },
      "source": [
        "**10주차 문제은행 - 4**\n",
        "\n",
        "포켓몬 대전 게임을 만듭니다.  \n",
        "포켓몬은 총 3마리 입니다.  \n",
        "1. 이상해씨 풀포켓몬 공격력 49 방어력 24  \n",
        "2. 파이리 불포켓몬 공격력 52 방어력 21  \n",
        "3. 꼬부기 물포켓몬 공력력 48 방어력 32  \n",
        "\n",
        "대미지는 공격하는 포켓몬의 공격력 - 방어하는 포켓몬의 방어력 입니다.  \n",
        "이때 풀포켓몬은 물포켓몬을 공격할 때 공격 대미지가 2배가 되고 풀,불 포켓몬에게는 공격 대미지가 0.5배가 됩니다.  \n",
        "불포켓몬은 풀포켓몬을 공격할 때 공격 대미지가 2배가 되고 불,물 포켓몬에게는 공격 대미지가 0.5배가 됩니다.  \n",
        "물포켓몬은 불포켓몬을 공격할 때 공격 대미지가 2배가 되고 풀,물 포켓몬에게는 공격 대미지가 0.5배가 됩니다.  \n",
        "\n",
        "공격, 방어 포켓몬의 번호를 전달 받고 상성에 의한 대미지 계수를 반환하는 GetAttackRate 함수를 만드세요.  \n",
        "공격, 방어 포켓몬의 번호를 전달 받고 공격했을 때 대미지를 반환하는 GetDamage 함수를 만드세요.  \n",
        "\n",
        "먼저 자신의 포켓몬 번호를 입력 받고 다음 라이벌의 포켓몬 번호를 입력 받습니다.  \n",
        "GetDamage 함수에서 공격 대미지를 계산할 때 GetAttackRate 함수를 이용하여 공격 대미지를 계산합니다.  \n",
        "GetDamage를 통해 자신의 포켓몬으로 상대 라이벌을 공격했을 때의 데미지를 출력하세요.  \n",
        "\n",
        "전역변수  \n",
        "int pokemon[3][3] = {{49, 24, 1}, {52, 21, 2}, {48, 32, 3}};  \n",
        "// [0]공격력, [1]방어력, [2]속성  \n",
        "\n",
        "함수  \n",
        "double GetAttackRate(int a, int d);  \n",
        "int GetDamage(int a, int d);  \n",
        "\n",
        "main함수 (수정x)  \n",
        "int attackP, defenseP, damage;  \n",
        "scanf(\"%d %d\", &attackP, &defenseP);  \n",
        "damage = GetDamage(attackP, defenseP);  \n",
        "printf(\"%d\", damage);  \n",
        "return 0;  "
      ]
    },
    {
      "cell_type": "code",
      "execution_count": null,
      "metadata": {
        "id": "k5zxdbTKjLG2",
        "colab": {
          "base_uri": "https://localhost:8080/"
        },
        "outputId": "3f81d605-2542-4343-a6e7-1323472a451e"
      },
      "outputs": [
        {
          "output_type": "stream",
          "name": "stdout",
          "text": [
            "Writing qbank10_4.c\n"
          ]
        }
      ],
      "source": [
        "# 파일 작성\n",
        "%%writefile qbank10_4.c\n",
        "\n",
        "#include<stdio.h>\n",
        "\n",
        "//전역변수\n",
        "int pokemon[3][3] = {{49, 24, 1}, {52, 21, 2}, {48, 32, 3}};\n",
        "\n",
        "// 대미지 계수를 반환\n",
        "double GetAttackRate(int a, int d)\n",
        "{\n",
        "  if (a == 1)\n",
        "  {\n",
        "    if (d == 3) return 2;\n",
        "    else return 0.5;\n",
        "  }\n",
        "\n",
        "  else if (a == 2)\n",
        "  {\n",
        "    if (d == 1) return 2;\n",
        "    else return 0.5;\n",
        "  }\n",
        "\n",
        "  else\n",
        "  {\n",
        "    if (d == 2) return 2;\n",
        "    else return 0.5;\n",
        "  }\n",
        "}\n",
        "\n",
        "// 공격했을 때 대미지를 반환\n",
        "int GetDamage(int a, int d)\n",
        "{\n",
        "  return ((pokemon[a-1][0] - pokemon[d-1][1])*GetAttackRate(a,d));\n",
        "}\n",
        "\n",
        "// main함수\n",
        "int main()\n",
        "{\n",
        "  int attackP, defenseP, damage;\n",
        "  scanf(\"%d %d\", &attackP, &defenseP);\n",
        "  damage = GetDamage(attackP, defenseP);\n",
        "  printf(\"%d\", damage);\n",
        "  return 0;\n",
        "}"
      ]
    },
    {
      "cell_type": "code",
      "execution_count": null,
      "metadata": {
        "id": "jzIPnK-rjMiL",
        "colab": {
          "base_uri": "https://localhost:8080/"
        },
        "outputId": "59959441-5e72-4e81-82d0-3aa3011c7053"
      },
      "outputs": [
        {
          "output_type": "stream",
          "name": "stdout",
          "text": [
            "3 2\n",
            "54"
          ]
        },
        {
          "output_type": "execute_result",
          "data": {
            "text/plain": []
          },
          "metadata": {},
          "execution_count": 110
        }
      ],
      "source": [
        "# 파일 실행(불러오기)\n",
        "%%shell\n",
        "gcc qbank10_4.c -o bout\n",
        "./bout"
      ]
    },
    {
      "cell_type": "markdown",
      "metadata": {
        "id": "9wINPorMjNJx"
      },
      "source": [
        "\n",
        "\n",
        "---\n",
        "\n"
      ]
    },
    {
      "cell_type": "markdown",
      "metadata": {
        "id": "ypVRcMQkjOCv"
      },
      "source": [
        "**☆★ 10주차 문제은행 - 5 ★☆**\n",
        "\n",
        "재귀함수를 사용하여 양의 정수 n을 이진수로 출력하세요.  \n",
        "(배열 사용 x)"
      ]
    },
    {
      "cell_type": "code",
      "execution_count": null,
      "metadata": {
        "id": "kjj0oW8jjV03",
        "colab": {
          "base_uri": "https://localhost:8080/"
        },
        "outputId": "3c6ab5eb-6c53-4004-cbcb-fdaadb52d224"
      },
      "outputs": [
        {
          "output_type": "stream",
          "name": "stdout",
          "text": [
            "Writing qbank10_5.c\n"
          ]
        }
      ],
      "source": [
        "# 파일 작성\n",
        "%%writefile qbank10_5.c\n",
        "\n",
        "#include<stdio.h>\n",
        "\n",
        "void DecimalToBinary(int n)\n",
        "{\n",
        "  int bit;\n",
        "  bit = n%2;\n",
        "  if(n >= 2) DecimalToBinary(n/2);\n",
        "  // 재귀함수 부른 후에 출력해야 뒤집어서 출력됨\n",
        "  // 653(10)의 경우 2 로 나눈 나머지를 나열하면 1011000101 인데,\n",
        "  // 2 진수는 나머지를 나열한 숫자의 역수, 즉 1010001101(2)이므로 출력을 함수 호출 뒤로.\n",
        "  printf(\"%d\", bit);\n",
        "  return ;\n",
        "}\n",
        "\n",
        "\n",
        "int main(){\n",
        "\n",
        "  int n;\n",
        "  scanf(\"%d\", &n);\n",
        "  DecimalToBinary(n);\n",
        "\n",
        "  return 0;\n",
        "}"
      ]
    },
    {
      "cell_type": "code",
      "execution_count": null,
      "metadata": {
        "id": "NAKXto6ajWJD",
        "colab": {
          "base_uri": "https://localhost:8080/"
        },
        "outputId": "00ba9392-2f4a-4eee-a704-505d5954f067"
      },
      "outputs": [
        {
          "output_type": "stream",
          "name": "stdout",
          "text": [
            "5\n",
            "101"
          ]
        },
        {
          "output_type": "execute_result",
          "data": {
            "text/plain": []
          },
          "metadata": {},
          "execution_count": 112
        }
      ],
      "source": [
        "# 파일 실행(불러오기)\n",
        "%%shell\n",
        "gcc qbank10_5.c -o bout\n",
        "./bout"
      ]
    },
    {
      "cell_type": "markdown",
      "metadata": {
        "id": "HwFGDqSdjWag"
      },
      "source": [
        "\n",
        "\n",
        "---\n",
        "\n"
      ]
    },
    {
      "cell_type": "markdown",
      "source": [
        "**☆★ 12주차 문제은행 - 1 ★☆**\n",
        "\n",
        "크기가 20이하인 문자열을 입력받고 문자열에서 가장 많은 문자를 출력하세요.  \n",
        "(단, 문자열은 모두 소문자이며, 가장 많은 문자는 1개 입니다.)"
      ],
      "metadata": {
        "id": "2-xSwinfiToH"
      }
    },
    {
      "cell_type": "code",
      "source": [
        "# 파일 작성\n",
        "%%writefile qbank11_1.c\n",
        "\n",
        "#include<stdio.h>\n",
        "#include<string.h>\n",
        "\n",
        "int main(){\n",
        "\n",
        "  char str[21];\n",
        "  scanf(\"%s\",str);\n",
        "\n",
        "  int cnt, max_cnt = -1;\n",
        "  char max_char;\n",
        "\n",
        "  for (int i=0; i<strlen(str); i++){\n",
        "    cnt = 0;\n",
        "    for (int j=0; j<strlen(str); j++){\n",
        "      if (str[i] == str[j])\n",
        "        cnt ++;\n",
        "    }\n",
        "    if (cnt > max_cnt){\n",
        "      max_cnt = cnt;\n",
        "      max_char = str[i];\n",
        "    }\n",
        "  }\n",
        "\n",
        "  printf(\"%c\", max_char);\n",
        "  return 0;\n",
        "\n",
        "}"
      ],
      "metadata": {
        "colab": {
          "base_uri": "https://localhost:8080/"
        },
        "id": "5H4ErMfuiZf1",
        "outputId": "3d34283f-160c-40da-e28a-127e97de910d"
      },
      "execution_count": null,
      "outputs": [
        {
          "output_type": "stream",
          "name": "stdout",
          "text": [
            "Writing qbank11_1.c\n"
          ]
        }
      ]
    },
    {
      "cell_type": "code",
      "source": [
        "# 파일 실행(불러오기)\n",
        "%%shell\n",
        "gcc qbank11_1.c -o bout\n",
        "./bout"
      ],
      "metadata": {
        "colab": {
          "base_uri": "https://localhost:8080/"
        },
        "id": "TOFgBOseiZ0v",
        "outputId": "7142485a-7bce-4354-95a7-e4d710e50aea"
      },
      "execution_count": null,
      "outputs": [
        {
          "output_type": "stream",
          "name": "stdout",
          "text": [
            "mamamoo\n",
            "m"
          ]
        },
        {
          "output_type": "execute_result",
          "data": {
            "text/plain": []
          },
          "metadata": {},
          "execution_count": 120
        }
      ]
    },
    {
      "cell_type": "markdown",
      "source": [
        "\n",
        "\n",
        "---\n",
        "\n"
      ],
      "metadata": {
        "id": "VKUQ1p5yidii"
      }
    },
    {
      "cell_type": "markdown",
      "source": [
        "**12주차 문제은행 - 2**\n",
        "\n",
        "크기가 20 이하인 문자열 str을 입력 받고 20이하의 정수 n을 입력 받으세요.  \n",
        "문자열의 n번째 문자를 출력하세요.  \n",
        "만약 n번째 문자가 없으면 None을 출력하세요."
      ],
      "metadata": {
        "id": "foBtXdN-ieQC"
      }
    },
    {
      "cell_type": "code",
      "source": [
        "# 파일 작성\n",
        "%%writefile qbank11_2.c\n",
        "\n",
        "#include<stdio.h>\n",
        "#include<string.h>\n",
        "\n",
        "int main(){\n",
        "\n",
        "  char str[21];\n",
        "  scanf(\"%s\",str);\n",
        "  int n;\n",
        "  scanf(\"%d\", &n);\n",
        "\n",
        "  if (n > strlen(str)+1) printf(\"None\");\n",
        "  else printf(\"%c\",str[n-1]);\n",
        "\n",
        "  return 0;\n",
        "}"
      ],
      "metadata": {
        "colab": {
          "base_uri": "https://localhost:8080/"
        },
        "id": "7aTIevVBiqgN",
        "outputId": "9bde7787-1f9d-4e65-d3d3-ec3bef9051c5"
      },
      "execution_count": null,
      "outputs": [
        {
          "output_type": "stream",
          "name": "stdout",
          "text": [
            "Overwriting qbank11_2.c\n"
          ]
        }
      ]
    },
    {
      "cell_type": "code",
      "source": [
        "# 파일 실행(불러오기)\n",
        "%%shell\n",
        "gcc qbank11_2.c -o bout\n",
        "./bout"
      ],
      "metadata": {
        "colab": {
          "base_uri": "https://localhost:8080/"
        },
        "id": "0mBRkpQKiq-G",
        "outputId": "66233ef4-131b-4984-b201-46a87c61aa27"
      },
      "execution_count": null,
      "outputs": [
        {
          "output_type": "stream",
          "name": "stdout",
          "text": [
            "sigongjoa\n",
            "12\n",
            "None"
          ]
        },
        {
          "output_type": "execute_result",
          "data": {
            "text/plain": []
          },
          "metadata": {},
          "execution_count": 125
        }
      ]
    },
    {
      "cell_type": "markdown",
      "source": [
        "\n",
        "\n",
        "---\n",
        "\n"
      ],
      "metadata": {
        "id": "zQis4PzXirZJ"
      }
    },
    {
      "cell_type": "markdown",
      "source": [
        "**12주차 문제은행 - 3**\n",
        "\n",
        "문자열을 입력 받고 입력 받은 문자열을 모두 대문자로 바꿔 출력하세요."
      ],
      "metadata": {
        "id": "DluoCICKisLR"
      }
    },
    {
      "cell_type": "code",
      "source": [
        "# 파일 작성\n",
        "%%writefile qbank11_3.c\n",
        "\n",
        "#include<stdio.h>\n",
        "#include<string.h>\n",
        "\n",
        "int main(){\n",
        "\n",
        "  char str[20];\n",
        "  scanf(\"%s\",str);\n",
        "\n",
        "  for(int i = 0;i < strlen(str);i++)\n",
        "  {\n",
        "    if (str[i] >= 'a' && str[i] <= 'z')\n",
        "      printf(\"%c\",str[i]-32);\n",
        "    else printf(\"%c\", str[i]);\n",
        "  }\n",
        "  return 0;\n",
        "}"
      ],
      "metadata": {
        "colab": {
          "base_uri": "https://localhost:8080/"
        },
        "id": "1U8SaJvii01r",
        "outputId": "3c5277b7-0e3e-49b7-de83-e6dc052ca438"
      },
      "execution_count": null,
      "outputs": [
        {
          "output_type": "stream",
          "name": "stdout",
          "text": [
            "Writing qbank11_3.c\n"
          ]
        }
      ]
    },
    {
      "cell_type": "code",
      "source": [
        "# 파일 실행(불러오기)\n",
        "%%shell\n",
        "gcc qbank11_3.c -o bout\n",
        "./bout"
      ],
      "metadata": {
        "colab": {
          "base_uri": "https://localhost:8080/"
        },
        "id": "N3lEucMBi1N9",
        "outputId": "6b65c673-bbe1-41d8-d3ee-1dfa47eeff22"
      },
      "execution_count": null,
      "outputs": [
        {
          "output_type": "stream",
          "name": "stdout",
          "text": [
            "BlackPink\n",
            "BLACKPINK"
          ]
        },
        {
          "output_type": "execute_result",
          "data": {
            "text/plain": []
          },
          "metadata": {},
          "execution_count": 127
        }
      ]
    },
    {
      "cell_type": "markdown",
      "source": [
        "\n",
        "\n",
        "---\n",
        "\n"
      ],
      "metadata": {
        "id": "G_kXx0iai1lI"
      }
    },
    {
      "cell_type": "markdown",
      "source": [
        "**☆★ 12주차 문제은행 - 4 ★☆**\n",
        "\n",
        "한 대회의 MVP를 뽑으려고 합니다.  \n",
        "먼저 대회에 참가한 선수의 수 n을 입력 받고 n명의 이름과 MVP 점수를 입력 받습니다.  \n",
        "MVP 점수가 가장 높은 선수의 이름을 출력하세요.  \n",
        "(단, n은 10보다 작은 자연수이며 점수는 0보다 크고 10보다 작거나 같은 실수 입니다.)"
      ],
      "metadata": {
        "id": "v3XiTKetmG6l"
      }
    },
    {
      "cell_type": "code",
      "source": [
        "# 파일 작성\n",
        "%%writefile qbank11_4.c\n",
        "\n",
        "#include<stdio.h>\n",
        "#include<string.h>\n",
        "int main(){\n",
        "\n",
        "  int n;\n",
        "  scanf(\"%d\", &n);\n",
        "\n",
        "  char MVP[100],player[100];\n",
        "  double score, max=0;\n",
        "  for (int i = 0; i<n; i++)\n",
        "  {\n",
        "    scanf(\"%s %lf\", player, &score);\n",
        "\n",
        "    if (max < score)\n",
        "    {\n",
        "      max = score;\n",
        "      strcpy(MVP,player);\n",
        "    }\n",
        "  }\n",
        "\n",
        "  printf(\"%s\",MVP);\n",
        "\n",
        "  return 0;\n",
        "}"
      ],
      "metadata": {
        "colab": {
          "base_uri": "https://localhost:8080/"
        },
        "id": "HAteoMAmmIcp",
        "outputId": "53cce9c6-98d4-4d54-8cc9-e4a6783ab884"
      },
      "execution_count": null,
      "outputs": [
        {
          "output_type": "stream",
          "name": "stdout",
          "text": [
            "Overwriting qbank11_4.c\n"
          ]
        }
      ]
    },
    {
      "cell_type": "code",
      "source": [
        "# 파일 실행(불러오기)\n",
        "%%shell\n",
        "gcc qbank11_4.c -o bout\n",
        "./bout"
      ],
      "metadata": {
        "colab": {
          "base_uri": "https://localhost:8080/"
        },
        "id": "EN7wkujSmIzS",
        "outputId": "87c973ff-2da9-4fa1-87c1-d91ba2dd39a3"
      },
      "execution_count": null,
      "outputs": [
        {
          "output_type": "stream",
          "name": "stdout",
          "text": [
            "3\n",
            "Seokmin 6.98\n",
            "Jinwoo 8.62\n",
            "Dongjun 8.63\n",
            "Dongjun"
          ]
        },
        {
          "output_type": "execute_result",
          "data": {
            "text/plain": []
          },
          "metadata": {},
          "execution_count": 136
        }
      ]
    },
    {
      "cell_type": "markdown",
      "source": [
        "\n",
        "\n",
        "---\n",
        "\n"
      ],
      "metadata": {
        "id": "80Zhyhdrt1kc"
      }
    },
    {
      "cell_type": "markdown",
      "source": [
        "**2020 - 2학기 기말고사 기출문제 - 1**\n",
        "\n",
        "세 자리의 숫자를 입력받아 백의 자리 숫자와 십의자리 숫자와 일의자리 숫자의 합이 15이상이면 “A”를, 15미만 12이상이면 “B”를, 12미만이면 “C”를 출력하시오.  \n",
        "(백의 자리가 0인 경우는 없다.)"
      ],
      "metadata": {
        "id": "hA-RgASkt2Rm"
      }
    },
    {
      "cell_type": "code",
      "source": [
        "# 파일 작성\n",
        "%%writefile Final2020-2_1.c\n",
        "\n",
        "#include<stdio.h>\n",
        "\n",
        "int main(){\n",
        "\n",
        "  int n;\n",
        "  scanf(\"%d\", &n);\n",
        "\n",
        "  int nn = (n/100) + ((n%100)/10) + ((n%100)%10);\n",
        "  if (nn >= 15) printf(\"A\");\n",
        "  else if (nn >= 12) printf(\"B\");\n",
        "  else printf(\"C\");\n",
        "\n",
        "  return 0;\n",
        "}"
      ],
      "metadata": {
        "colab": {
          "base_uri": "https://localhost:8080/"
        },
        "id": "a5osGj3NuvR0",
        "outputId": "4d7d7ee2-50ec-4a47-d541-53edf955b620"
      },
      "execution_count": null,
      "outputs": [
        {
          "output_type": "stream",
          "name": "stdout",
          "text": [
            "Writing Final2020-2_1.c\n"
          ]
        }
      ]
    },
    {
      "cell_type": "code",
      "source": [
        "# 파일 실행(불러오기)\n",
        "%%shell\n",
        "gcc Final2020-2_1.c -o bout\n",
        "./bout"
      ],
      "metadata": {
        "colab": {
          "base_uri": "https://localhost:8080/"
        },
        "id": "ksSI5C8Iuvww",
        "outputId": "8f8df9ef-5291-4f0e-f4a6-dd8cefebf825"
      },
      "execution_count": null,
      "outputs": [
        {
          "output_type": "stream",
          "name": "stdout",
          "text": [
            "804\n",
            "B"
          ]
        },
        {
          "output_type": "execute_result",
          "data": {
            "text/plain": []
          },
          "metadata": {},
          "execution_count": 139
        }
      ]
    },
    {
      "cell_type": "markdown",
      "source": [
        "\n",
        "\n",
        "---\n",
        "\n"
      ],
      "metadata": {
        "id": "V8cevEv3vFGz"
      }
    },
    {
      "cell_type": "markdown",
      "source": [
        "**☆★ 2020 - 2학기 기말고사 기출문제 - 2 ★☆**\n",
        "\n",
        "숫자 n을 입력받고 십진수인 n을 2진수로 바꿔 출력하시오."
      ],
      "metadata": {
        "id": "Q_vQIC4jvF1W"
      }
    },
    {
      "cell_type": "code",
      "source": [
        "# 파일 작성\n",
        "%%writefile Final2020-2_2.c\n",
        "\n",
        "#include<stdio.h>\n",
        "\n",
        "void DToB(int n){\n",
        "  if(n > 0){\n",
        "    DToB(n/2);\n",
        "    printf(\"%d\", n%2);\n",
        "  }\n",
        "}\n",
        "\n",
        "int main(){\n",
        "\n",
        "  int n;\n",
        "  scanf(\"%d\", &n);\n",
        "\n",
        "  DToB(n);\n",
        "\n",
        "  return 0;\n",
        "}"
      ],
      "metadata": {
        "colab": {
          "base_uri": "https://localhost:8080/"
        },
        "id": "F0LlBSwlv4IX",
        "outputId": "46ec9148-ee2f-428b-aa8a-6f395adac908"
      },
      "execution_count": null,
      "outputs": [
        {
          "output_type": "stream",
          "name": "stdout",
          "text": [
            "Writing Final2020-2_2.c\n"
          ]
        }
      ]
    },
    {
      "cell_type": "code",
      "source": [
        "# 파일 실행(불러오기)\n",
        "%%shell\n",
        "gcc Final2020-2_2.c -o bout\n",
        "./bout"
      ],
      "metadata": {
        "colab": {
          "base_uri": "https://localhost:8080/"
        },
        "id": "OPOj87UQv4cM",
        "outputId": "b87e72a1-f915-4bac-b3d7-5d46e80fbc3d"
      },
      "execution_count": null,
      "outputs": [
        {
          "output_type": "stream",
          "name": "stdout",
          "text": [
            "17\n",
            "10001"
          ]
        },
        {
          "output_type": "execute_result",
          "data": {
            "text/plain": []
          },
          "metadata": {},
          "execution_count": 141
        }
      ]
    },
    {
      "cell_type": "markdown",
      "source": [
        "\n",
        "\n",
        "---\n",
        "\n"
      ],
      "metadata": {
        "id": "uy3I14TFwXuN"
      }
    },
    {
      "cell_type": "markdown",
      "source": [
        "**2020 - 2학기 기말고사 기출문제 - 3**\n",
        "\n",
        "홀수 n을 입력받고, 다음 예시와 같이 *을 출력하시오.\n",
        "\n",
        "```\n",
        "[입력]\n",
        "5\n",
        "[출력]\n",
        "  *\n",
        " ***\n",
        "*****\n",
        " ***\n",
        "  *\n",
        "```"
      ],
      "metadata": {
        "id": "PTkimWcdwYUC"
      }
    },
    {
      "cell_type": "code",
      "source": [
        "# 파일 작성\n",
        "%%writefile Final2020-2_3.c\n",
        "\n",
        "#include<stdio.h>\n",
        "\n",
        "int main(){\n",
        "\n",
        "\n",
        "\n",
        "  return 0;\n",
        "}"
      ],
      "metadata": {
        "id": "vVNOpOGcwyiU"
      },
      "execution_count": null,
      "outputs": []
    },
    {
      "cell_type": "code",
      "source": [
        "# 파일 실행(불러오기)\n",
        "%%shell\n",
        "gcc Final2020-2_3.c -o bout\n",
        "./bout"
      ],
      "metadata": {
        "id": "P1qst237wzuJ"
      },
      "execution_count": null,
      "outputs": []
    },
    {
      "cell_type": "markdown",
      "source": [
        "\n",
        "\n",
        "---\n",
        "\n"
      ],
      "metadata": {
        "id": "aHQSzY2vwzYh"
      }
    },
    {
      "cell_type": "markdown",
      "source": [
        "**2020 - 2학기 기말고사 기출문제 - 5**\n",
        "\n",
        "문자열 S와 T를 입력받는다.   \n",
        "문자열 S는 대문자로 이루어진 영어단어이고 문자열 T는 6개의 숫자를 나타내는 문자열이다.   \n",
        "T에 있는 숫자들은 특별한 규칙을 가지고 있다.   \n",
        "1부터 9까지는 숫자 그대로 적혀있지만 10부터 19까지는 #과 일의 자리로 이루어져 있다. 예를 들어 15의 경우 #5으로 표기된다.   \n",
        "T에 있는 6개의 숫자에 따라 S에 있는 문자들을 출력한다.  \n",
        "만약 T의 숫자가 [6, 12, 18, 2, 9, 1]이라면 S 문자열의 6번째, 12번째, 18번째, 2번째, 9번째, 1번째 문자들을 출력한다. (예시 참조)  \n",
        "\n",
        "main함수는 다음과 같다.\n",
        "```\n",
        "int main(void) {\n",
        "\tchar arr[20], num[12];\n",
        "\tint index[SIX], i, in;\n",
        "\n",
        "\tinputString(arr, num);\n",
        "\tchar_to_Index(num, index);\n",
        "\n",
        "\tfor (i = 0; i < SIX; i++) {\n",
        "\t\tin = index[i];\n",
        "\t\tprintf(\"%c\", arr[in-1]);\n",
        "\t}\n",
        "}\n",
        "```\n",
        "먼저 문자열 S와 T를 입력 받는 inputString 함수를 작성한다.  \n",
        "문자열 T를 각 숫자로 변환해서 index 배열에 넣어주는 함수 char_to_Index 함수를 작성한다.  \n",
        "만약 T가 “#542#2#3#4”라면 [15, 4, 2, 12, 13, 14]이고 index[0]=15, index[1]=4, index[2]=2, … 순으로 index 배열에 숫자를 넣어주면 된다.  \n",
        "(main 함수를 수정하거나 함수를 작성하지 않을 시 0점 처리, scanf_s로 바꾸는 것은 상관 없음. 매크로 상수 사용할 것)  \n"
      ],
      "metadata": {
        "id": "wYXAkIXgw8Q_"
      }
    },
    {
      "cell_type": "code",
      "source": [
        "# 파일 작성\n",
        "%%writefile Final2020-2_5.c\n",
        "\n",
        "#include<stdio.h>\n",
        "\n",
        "int main(){\n",
        "\n",
        "\n",
        "\n",
        "  return 0;\n",
        "}"
      ],
      "metadata": {
        "id": "5UZkr8Pixa_2"
      },
      "execution_count": null,
      "outputs": []
    },
    {
      "cell_type": "code",
      "source": [
        "# 파일 실행(불러오기)\n",
        "%%shell\n",
        "gcc Final2020-2_5.c -o bout\n",
        "./bout"
      ],
      "metadata": {
        "id": "7qm9PpaUxbNZ"
      },
      "execution_count": null,
      "outputs": []
    }
  ],
  "metadata": {
    "colab": {
      "collapsed_sections": [
        "7O1-ixyvIXqm",
        "kheOMVRQLQQe",
        "FqHib1PnLT5x",
        "TblxklmJkzg3",
        "9Hx5gLXuLXZB",
        "FdRB8ehaLcfA",
        "hlQ19Yu_SSwq",
        "RMahm_92AKFz",
        "q1apKkraLev5",
        "lPGLYPPnZk5N",
        "xCf3vnFiLhH8",
        "0v96bLHHLl5_",
        "j7i3yzh6sUR_",
        "NcKAhtHiLoBV",
        "bgl18z5qLrCg",
        "wXegelyzQb5I",
        "BJfvhq17LtgA",
        "6fkHZNp6tVX2",
        "b_OtTzvsLvqv"
      ],
      "provenance": []
    },
    "kernelspec": {
      "display_name": "Python 3",
      "name": "python3"
    },
    "language_info": {
      "name": "python"
    }
  },
  "nbformat": 4,
  "nbformat_minor": 0
}