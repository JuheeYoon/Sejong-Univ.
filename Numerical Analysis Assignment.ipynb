{
  "nbformat": 4,
  "nbformat_minor": 0,
  "metadata": {
    "colab": {
      "provenance": []
    },
    "kernelspec": {
      "name": "python3",
      "display_name": "Python 3"
    },
    "language_info": {
      "name": "python"
    }
  },
  "cells": [
    {
      "cell_type": "markdown",
      "source": [
        "# 과제 1 _ **# 6 - (b)**\n",
        "\n",
        "함수 $f(x) = e^{-x}-2x$에 대하여 이분법을 사용하여 $f$의 해를 구하라. 단, 오차 허용치 ϵ은 $10^{-10}$으로 두고 계산하며 근사해와 반복 횟수를 모두 출력하라."
      ],
      "metadata": {
        "id": "8FoRsgnsx3c2"
      }
    },
    {
      "cell_type": "code",
      "execution_count": null,
      "metadata": {
        "colab": {
          "base_uri": "https://localhost:8080/"
        },
        "id": "7UbO0t46x2XL",
        "outputId": "3957bd44-f999-4a34-96a6-2e8669cbb5d3"
      },
      "outputs": [
        {
          "output_type": "stream",
          "name": "stdout",
          "text": [
            "근사해 = 0.3517337 , 반복 횟수 = 34\n"
          ]
        }
      ],
      "source": [
        "import numpy as np\n",
        "\n",
        "# 초기값 지정\n",
        "a = 0\n",
        "b = 1\n",
        "eps = 1e-10\n",
        "def f(x):\n",
        "  return(np.exp(-x) - 2*x)\n",
        "\n",
        "n = 0\n",
        "# 이분법 알고리즘\n",
        "while True:\n",
        "  n += 1\n",
        "  c = (a+b)/2\n",
        "\n",
        "  if b-c <= eps:\n",
        "    root = c\n",
        "    break\n",
        "\n",
        "  if np.sign(f(b)) * np.sign(f(c)) < 0:\n",
        "    a = c\n",
        "  else:\n",
        "    b = c\n",
        "\n",
        "print('근사해 = {0:.7f} , 반복 횟수 = {1}'.format(root,n))"
      ]
    },
    {
      "cell_type": "markdown",
      "source": [
        "# 과제 2 _ **# 1**\n",
        "\n",
        "함수 $f(x) = e^{-x}-2x$에 대하여 뉴턴의 방법을 사용하여 근을 구하라. 단, 오차 허용치 ϵ은 $10^{-10}$으로 두고 계산하며 근사해와 반복 횟수를 모두 출력하라."
      ],
      "metadata": {
        "id": "v7NLQqeF4CP9"
      }
    },
    {
      "cell_type": "code",
      "source": [
        "import numpy as np\n",
        "\n",
        "# 초기값 지정\n",
        "xn = 1\n",
        "eps = 1e-10\n",
        "\n",
        "def f(x):\n",
        "  return(np.exp(-x) - 2*x)\n",
        "\n",
        "def fp(x):\n",
        "  return(-np.exp(-x) - 2)\n",
        "\n",
        "n = 0\n",
        "# 뉴턴의 방법 알고리즘\n",
        "while True:\n",
        "  if n == 0:\n",
        "    print(\"n = {0} | xn = {1:.7f} | f(xn) = {2:.7f}\".format(n,xn,f(xn)))\n",
        "\n",
        "  else:\n",
        "    xnm = xn\n",
        "    xn = xnm - f(xnm)/fp(xnm)\n",
        "    print(\"n = {0} | xn = {1:.7f} | f(xn) = {2:.7f} | xn - xn-1 = {3:.7f}\".format(n,xn,f(xn),xn-xnm))\n",
        "\n",
        "    if np.abs(xn - xnm) <= eps:\n",
        "      break\n",
        "\n",
        "  n += 1\n",
        "\n",
        "print('근사해 = {0:.7f} , 반복 횟수 = {1}'.format(xn,n))"
      ],
      "metadata": {
        "id": "s7vsMi-45Zg3",
        "colab": {
          "base_uri": "https://localhost:8080/"
        },
        "outputId": "45ebe30a-f0a6-4700-c823-fd0a99e0fe75"
      },
      "execution_count": null,
      "outputs": [
        {
          "output_type": "stream",
          "name": "stdout",
          "text": [
            "n = 0 | xn = 1.0000000 | f(xn) = -1.6321206\n",
            "n = 1 | xn = 0.3107248 | f(xn) = 0.1114659 | xn - xn-1 = -0.6892752\n",
            "n = 2 | xn = 0.3515113 | f(xn) = 0.0006014 | xn - xn-1 = 0.0407865\n",
            "n = 3 | xn = 0.3517337 | f(xn) = 0.0000000 | xn - xn-1 = 0.0002224\n",
            "n = 4 | xn = 0.3517337 | f(xn) = 0.0000000 | xn - xn-1 = 0.0000000\n",
            "n = 5 | xn = 0.3517337 | f(xn) = 0.0000000 | xn - xn-1 = 0.0000000\n",
            "근사해 = 0.3517337 , 반복 횟수 = 5\n"
          ]
        }
      ]
    },
    {
      "cell_type": "markdown",
      "source": [
        "# 과제 2 _ **#4**\n",
        "\n",
        "함수 $f(x) = 2|e^{-x} -1|-1$에 대하여 다음 물음에 답하라."
      ],
      "metadata": {
        "id": "I08KxBYlK2eO"
      }
    },
    {
      "cell_type": "markdown",
      "source": [
        "(a) 함수 $f$의 그래프의 개형을 그리고, 실근이 모두 몇 개인지 말하라."
      ],
      "metadata": {
        "id": "xsn3X351eucb"
      }
    },
    {
      "cell_type": "code",
      "source": [
        "import matplotlib.pyplot as plt\n",
        "import numpy as np\n",
        "\n",
        "x = np.arange(-1,1,0.01)\n",
        "y = 2 * np.abs(np.exp(-x)-1) - 1\n",
        "yaxis = np.arange(-1,1,0.01)*0\n",
        "\n",
        "plt.plot(x,y,c='red')\n",
        "plt.plot(x,yaxis,c='black')\n",
        "plt.plot()\n",
        "\n",
        "plt.show()"
      ],
      "metadata": {
        "colab": {
          "base_uri": "https://localhost:8080/",
          "height": 265
        },
        "id": "OPY0X0Q7K9yC",
        "outputId": "278fd504-5ce7-41dd-9147-6789ec628160"
      },
      "execution_count": null,
      "outputs": [
        {
          "output_type": "display_data",
          "data": {
            "text/plain": [
              "<Figure size 432x288 with 1 Axes>"
            ],
            "image/png": "[encoded data removed]"
          },
          "metadata": {
            "needs_background": "light"
          }
        }
      ]
    },
    {
      "cell_type": "markdown",
      "source": [
        "(b) 할선방법을 사용하여 $f$의 근을 모두 구하라."
      ],
      "metadata": {
        "id": "r3yOTRxzevPs"
      }
    },
    {
      "cell_type": "code",
      "source": [
        "import numpy as np\n",
        "\n",
        "def f(x):\n",
        "  return(2 * np.abs(np.exp(-x)-1) - 1)\n",
        "\n",
        "### 양수 해\n",
        "# 초기값 지정\n",
        "x0 = 0\n",
        "x1 = 1\n",
        "eps = 1e-10\n",
        "\n",
        "n = 0\n",
        "\n",
        "# 할선방법 알고리즘\n",
        "while True:\n",
        "  if n == 0:\n",
        "    xn = x0\n",
        "    print(\"n = {0} | xn = {1:.7f} | f(xn) = {2:.7f}\".format(n,xn,f(xn)))\n",
        "\n",
        "  elif n == 1:\n",
        "    xn = x1\n",
        "    xnm = x0\n",
        "    xnp = xn - f(xn)*(xn-xnm)/(f(xn) - f(xnm))\n",
        "    print(\"n = {0} | xn = {1:.7f} | f(xn) = {2:.7f} | xn - xn-1 = {3:.7f}\".format(n,xn,f(xn),xn-xnm))\n",
        "\n",
        "  else:\n",
        "    xnm = xn\n",
        "    xn = xnp\n",
        "    xnp = xn - f(xn)*(xn-xnm)/(f(xn) - f(xnm))\n",
        "    print(\"n = {0} | xn = {1:.7f} | f(xn) = {2:.7f} | xn - xn-1 = {3:.7f}\".format(n,xn,f(xn),xn-xnm))\n",
        "\n",
        "    if np.abs(xn - xnm) <= eps:\n",
        "      break\n",
        "\n",
        "  n += 1\n",
        "\n",
        "print('\\n양의 근사해 = {0:.7f} , 반복 횟수 = {1}'.format(xn,n))"
      ],
      "metadata": {
        "id": "gMEnBL-6M6sI",
        "colab": {
          "base_uri": "https://localhost:8080/"
        },
        "outputId": "c94b2606-9755-4754-91e4-46e32668b784"
      },
      "execution_count": null,
      "outputs": [
        {
          "output_type": "stream",
          "name": "stdout",
          "text": [
            "n = 0 | xn = 0.0000000 | f(xn) = -1.0000000\n",
            "n = 1 | xn = 1.0000000 | f(xn) = 0.2642411 | xn - xn-1 = 1.0000000\n",
            "n = 2 | xn = 0.7909884 | f(xn) = 0.0932071 | xn - xn-1 = -0.2090116\n",
            "n = 3 | xn = 0.6770849 | f(xn) = -0.0161920 | xn - xn-1 = -0.1139034\n",
            "n = 4 | xn = 0.6939436 | f(xn) = 0.0007961 | xn - xn-1 = 0.0168587\n",
            "n = 5 | xn = 0.6931536 | f(xn) = 0.0000064 | xn - xn-1 = -0.0007900\n",
            "n = 6 | xn = 0.6931472 | f(xn) = -0.0000000 | xn - xn-1 = -0.0000064\n",
            "n = 7 | xn = 0.6931472 | f(xn) = 0.0000000 | xn - xn-1 = 0.0000000\n",
            "n = 8 | xn = 0.6931472 | f(xn) = 0.0000000 | xn - xn-1 = -0.0000000\n",
            "\n",
            "양의 근사해 = 0.6931472 , 반복 횟수 = 8\n"
          ]
        }
      ]
    },
    {
      "cell_type": "code",
      "source": [
        "import numpy as np\n",
        "\n",
        "def f(x):\n",
        "  return(2 * np.abs(np.exp(-x)-1) - 1)\n",
        "\n",
        "### 음수 해\n",
        "# 초기값 지정\n",
        "x0 = -1\n",
        "x1 = 0\n",
        "eps = 1e-10\n",
        "\n",
        "n = 0\n",
        "\n",
        "# 할선방법 알고리즘\n",
        "while True:\n",
        "  if n == 0:\n",
        "    xn = x0\n",
        "    print(\"n = {0} | xn = {1:.7f} | f(xn) = {2:.7f}\".format(n,xn,f(xn)))\n",
        "\n",
        "  elif n == 1:\n",
        "    xn = x1\n",
        "    xnm = x0\n",
        "    xnp = xn - f(xn)*(xn-xnm)/(f(xn) - f(xnm))\n",
        "    print(\"n = {0} | xn = {1:.7f} | f(xn) = {2:.7f} | xn - xn-1 = {3:.7f}\".format(n,xn,f(xn),xn-xnm))\n",
        "\n",
        "  else:\n",
        "    xnm = xn\n",
        "    xn = xnp\n",
        "    xnp = xn - f(xn)*(xn-xnm)/(f(xn) - f(xnm))\n",
        "    print(\"n = {0} | xn = {1:.7f} | f(xn) = {2:.7f} | xn - xn-1 = {3:.7f}\".format(n,xn,f(xn),xn-xnm))\n",
        "\n",
        "    if np.abs(xn - xnm) <= eps:\n",
        "      break\n",
        "\n",
        "  n += 1\n",
        "\n",
        "print('\\n음의 근사해 = {0:.7f} , 반복 횟수 = {1}'.format(xn,n))"
      ],
      "metadata": {
        "colab": {
          "base_uri": "https://localhost:8080/"
        },
        "id": "l41pySsO5Os8",
        "outputId": "fc138e0f-1f47-4eb0-ab3f-1c2d894fe0af"
      },
      "execution_count": null,
      "outputs": [
        {
          "output_type": "stream",
          "name": "stdout",
          "text": [
            "n = 0 | xn = -1.0000000 | f(xn) = 2.4365637\n",
            "n = 1 | xn = 0.0000000 | f(xn) = -1.0000000 | xn - xn-1 = 1.0000000\n",
            "n = 2 | xn = -0.2909884 | f(xn) = -0.3245020 | xn - xn-1 = -0.2909884\n",
            "n = 3 | xn = -0.4307760 | f(xn) = 0.0769019 | xn - xn-1 = -0.1397877\n",
            "n = 4 | xn = -0.4039952 | f(xn) = -0.0044065 | xn - xn-1 = 0.0267809\n",
            "n = 5 | xn = -0.4054466 | f(xn) = -0.0000556 | xn - xn-1 = -0.0014514\n",
            "n = 6 | xn = -0.4054651 | f(xn) = 0.0000000 | xn - xn-1 = -0.0000185\n",
            "n = 7 | xn = -0.4054651 | f(xn) = -0.0000000 | xn - xn-1 = 0.0000000\n",
            "n = 8 | xn = -0.4054651 | f(xn) = 0.0000000 | xn - xn-1 = -0.0000000\n",
            "\n",
            "음의 근사해 = -0.4054651 , 반복 횟수 = 8\n"
          ]
        }
      ]
    },
    {
      "cell_type": "markdown",
      "source": [
        "(c) 거짓위치법을 사용하여 $f$의 근을 모두 구하라."
      ],
      "metadata": {
        "id": "o7yKfohGewBk"
      }
    },
    {
      "cell_type": "code",
      "source": [
        "import numpy as np\n",
        "\n",
        "def f(x):\n",
        "  return(2 * np.abs(np.exp(-x)-1) - 1)\n",
        "\n",
        "### 양수 해\n",
        "# 초기값 지정\n",
        "x0 = 0\n",
        "x1 = 1\n",
        "eps = 1e-10\n",
        "\n",
        "n = 0\n",
        "\n",
        "# 거짓 위치법 알고리즘 ~~~~~~~~~~~~~~~~~~~~~~~~~~~~~~~~~~~~\n",
        "while True:\n",
        "  if n == 0:\n",
        "    xn = x0\n",
        "    print(\"n = {0} | xn = {1:.7f} | f(xn) = {2:.7f}\".format(n,xn,f(xn)))\n",
        "\n",
        "  elif n == 1:\n",
        "    xn = x1\n",
        "    xnm = x0\n",
        "    xnp = xn - f(xn)*(xn-xnm)/(f(xn) - f(xnm))\n",
        "    print(\"n = {0} | xn = {1:.7f} | f(xn) = {2:.7f} | xn - xn-1 = {3:.7f}\".format(n,xn,f(xn),xn-xnm))\n",
        "\n",
        "  else:\n",
        "    xnmm = xnm\n",
        "    xnm = xn\n",
        "    xn = xnp\n",
        "    if f(xnm)*f(xn) < 0:\n",
        "      xnp = xn - f(xn)*(xn-xnm)/(f(xn) - f(xnm))\n",
        "      if np.abs(xnp - xn) <= eps:\n",
        "        break\n",
        "    else:\n",
        "      xnp = xn - f(xn)*(xn-xnmm)/(f(xn)-f(xnmm))\n",
        "      xnm = xnmm\n",
        "      if np.abs(xnp - xn) <= eps:\n",
        "        break\n",
        "    print(\"n = {0} | xn = {1:.7f} | f(xn) = {2:.7f} | xn - xn-1 = {3:.7f}\".format(n,xn,f(xn),xn-xnm))\n",
        "  n += 1\n",
        "\n",
        "print('\\n양의 근사해 = {0:.7f} , 반복 횟수 = {1}'.format(xn,n))\n"
      ],
      "metadata": {
        "id": "oPsyat17etZM",
        "colab": {
          "base_uri": "https://localhost:8080/"
        },
        "outputId": "577ac88c-0df4-4377-fa84-e363bb13203e"
      },
      "execution_count": null,
      "outputs": [
        {
          "output_type": "stream",
          "name": "stdout",
          "text": [
            "n = 0 | xn = 0.0000000 | f(xn) = -1.0000000\n",
            "n = 1 | xn = 1.0000000 | f(xn) = 0.2642411 | xn - xn-1 = 1.0000000\n",
            "n = 2 | xn = 0.7909884 | f(xn) = 0.0932071 | xn - xn-1 = 0.7909884\n",
            "n = 3 | xn = 0.7235485 | f(xn) = 0.0299439 | xn - xn-1 = 0.7235485\n",
            "n = 4 | xn = 0.7025126 | f(xn) = 0.0093217 | xn - xn-1 = 0.7025126\n",
            "n = 5 | xn = 0.6960245 | f(xn) = 0.0028731 | xn - xn-1 = 0.6960245\n",
            "n = 6 | xn = 0.6940304 | f(xn) = 0.0008828 | xn - xn-1 = 0.6940304\n",
            "n = 7 | xn = 0.6934182 | f(xn) = 0.0002710 | xn - xn-1 = 0.6934182\n",
            "n = 8 | xn = 0.6932304 | f(xn) = 0.0000832 | xn - xn-1 = 0.6932304\n",
            "n = 9 | xn = 0.6931727 | f(xn) = 0.0000255 | xn - xn-1 = 0.6931727\n",
            "n = 10 | xn = 0.6931550 | f(xn) = 0.0000078 | xn - xn-1 = 0.6931550\n",
            "n = 11 | xn = 0.6931496 | f(xn) = 0.0000024 | xn - xn-1 = 0.6931496\n",
            "n = 12 | xn = 0.6931479 | f(xn) = 0.0000007 | xn - xn-1 = 0.6931479\n",
            "n = 13 | xn = 0.6931474 | f(xn) = 0.0000002 | xn - xn-1 = 0.6931474\n",
            "n = 14 | xn = 0.6931472 | f(xn) = 0.0000001 | xn - xn-1 = 0.6931472\n",
            "n = 15 | xn = 0.6931472 | f(xn) = 0.0000000 | xn - xn-1 = 0.6931472\n",
            "n = 16 | xn = 0.6931472 | f(xn) = 0.0000000 | xn - xn-1 = 0.6931472\n",
            "n = 17 | xn = 0.6931472 | f(xn) = 0.0000000 | xn - xn-1 = 0.6931472\n",
            "n = 18 | xn = 0.6931472 | f(xn) = 0.0000000 | xn - xn-1 = 0.6931472\n",
            "n = 19 | xn = 0.6931472 | f(xn) = 0.0000000 | xn - xn-1 = 0.6931472\n",
            "\n",
            "양의 근사해 = 0.6931472 , 반복 횟수 = 20\n"
          ]
        }
      ]
    },
    {
      "cell_type": "code",
      "source": [
        "import numpy as np\n",
        "\n",
        "def f(x):\n",
        "  return(2 * np.abs(np.exp(-x)-1) - 1)\n",
        "\n",
        "### 음수 해\n",
        "# 초기값 지정\n",
        "x0 = -1\n",
        "x1 = 0\n",
        "eps = 1e-10\n",
        "\n",
        "n = 0\n",
        "\n",
        "# 거짓 위치법 알고리즘\n",
        "while True:\n",
        "  if n == 0:\n",
        "    xn = x0\n",
        "    print(\"n = {0} | xn = {1:.7f} | f(xn) = {2:.7f}\".format(n,xn,f(xn)))\n",
        "\n",
        "  elif n == 1:\n",
        "    xn = x1\n",
        "    xnm = x0\n",
        "    xnp = xn - f(xn)*(xn-xnm)/(f(xn) - f(xnm))\n",
        "    print(\"n = {0} | xn = {1:.7f} | f(xn) = {2:.7f} | xn - xn-1 = {3:.7f}\".format(n,xn,f(xn),xn-xnm))\n",
        "\n",
        "  else:\n",
        "    xnmm = xnm\n",
        "    xnm = xn\n",
        "    xn = xnp\n",
        "    if f(xnm)*f(xn) < 0:\n",
        "      xnp = xn - f(xn)*(xn-xnm)/(f(xn) - f(xnm))\n",
        "      if np.abs(xnp - xn) <= eps:\n",
        "        break\n",
        "    else:\n",
        "      xnp = xn - f(xn)*(xn-xnmm)/(f(xn)-f(xnmm))\n",
        "      xnm = xnmm\n",
        "      if np.abs(xnp - xn) <= eps:\n",
        "        break\n",
        "    print(\"n = {0} | xn = {1:.7f} | f(xn) = {2:.7f} | xn - xn-1 = {3:.7f}\".format(n,xn,f(xn),xn-xnm))\n",
        "  n += 1\n",
        "\n",
        "print('\\n음의 근사해 = {0:.7f} , 반복 횟수 = {1}'.format(xn,n))"
      ],
      "metadata": {
        "colab": {
          "base_uri": "https://localhost:8080/"
        },
        "id": "nkTw806i5jwq",
        "outputId": "794b0f04-b1f7-473f-afa2-812daa3a6460"
      },
      "execution_count": null,
      "outputs": [
        {
          "output_type": "stream",
          "name": "stdout",
          "text": [
            "n = 0 | xn = -1.0000000 | f(xn) = 2.4365637\n",
            "n = 1 | xn = 0.0000000 | f(xn) = -1.0000000 | xn - xn-1 = 1.0000000\n",
            "n = 2 | xn = -0.2909884 | f(xn) = -0.3245020 | xn - xn-1 = 0.7090116\n",
            "n = 3 | xn = -0.3743169 | f(xn) = -0.0920042 | xn - xn-1 = 0.6256831\n",
            "n = 4 | xn = -0.3970830 | f(xn) = -0.0250413 | xn - xn-1 = 0.6029170\n",
            "n = 5 | xn = -0.4032163 | f(xn) = -0.0067388 | xn - xn-1 = 0.5967837\n",
            "n = 6 | xn = -0.4048623 | f(xn) = -0.0018079 | xn - xn-1 = 0.5951377\n",
            "n = 7 | xn = -0.4053035 | f(xn) = -0.0004846 | xn - xn-1 = 0.5946965\n",
            "n = 8 | xn = -0.4054218 | f(xn) = -0.0001299 | xn - xn-1 = 0.5945782\n",
            "n = 9 | xn = -0.4054535 | f(xn) = -0.0000348 | xn - xn-1 = 0.5945465\n",
            "n = 10 | xn = -0.4054620 | f(xn) = -0.0000093 | xn - xn-1 = 0.5945380\n",
            "n = 11 | xn = -0.4054643 | f(xn) = -0.0000025 | xn - xn-1 = 0.5945357\n",
            "n = 12 | xn = -0.4054649 | f(xn) = -0.0000007 | xn - xn-1 = 0.5945351\n",
            "n = 13 | xn = -0.4054650 | f(xn) = -0.0000002 | xn - xn-1 = 0.5945350\n",
            "n = 14 | xn = -0.4054651 | f(xn) = -0.0000000 | xn - xn-1 = 0.5945349\n",
            "n = 15 | xn = -0.4054651 | f(xn) = -0.0000000 | xn - xn-1 = 0.5945349\n",
            "n = 16 | xn = -0.4054651 | f(xn) = -0.0000000 | xn - xn-1 = 0.5945349\n",
            "n = 17 | xn = -0.4054651 | f(xn) = -0.0000000 | xn - xn-1 = 0.5945349\n",
            "\n",
            "음의 근사해 = -0.4054651 , 반복 횟수 = 18\n"
          ]
        }
      ]
    },
    {
      "cell_type": "markdown",
      "source": [
        "# 과제 2 _ **#5**\n",
        "\n",
        "3번 문제의 반복식을 이용하여 $\\alpha = \\sqrt{3}$을 찾는 고정점 반복법 프로그램을 각각 작성하고 오차의 허용치 $10^{-10}$에 대하여 반복횟수 및 근을 출력하라."
      ],
      "metadata": {
        "id": "pwjEOzvfwgPk"
      }
    },
    {
      "cell_type": "markdown",
      "source": [
        "(a) $x_{n+1} = \\frac{3x_n}{4}+\\frac{3}{4x_n}$"
      ],
      "metadata": {
        "id": "kYpIJGmbB3qd"
      }
    },
    {
      "cell_type": "code",
      "source": [
        "import numpy as np\n",
        "\n",
        "def g(x):\n",
        "  return(((3*x)/4) + (3/(4*x)))\n",
        "\n",
        "\n",
        "# 초기값 지정\n",
        "x0 = 1\n",
        "alpha = np.sqrt(3)\n",
        "eps = 1e-10\n",
        "\n",
        "n = 0\n",
        "\n",
        "# 고정점 반복법 알고리즘\n",
        "while True:\n",
        "  if n == 0:\n",
        "    xn = x0\n",
        "  else:\n",
        "    xn = xnp\n",
        "  xnp = g(xn)\n",
        "\n",
        "  if np.abs(alpha - xnp) <= eps:\n",
        "        break\n",
        "  n += 1\n",
        "\n",
        "print('근사해 = {0:.7f} , 반복 횟수 = {1}'.format(xnp,n))"
      ],
      "metadata": {
        "id": "3ewyq1yNxyBb",
        "colab": {
          "base_uri": "https://localhost:8080/"
        },
        "outputId": "bd486484-7f6d-4080-d3a2-d536f8a0a127"
      },
      "execution_count": null,
      "outputs": [
        {
          "output_type": "stream",
          "name": "stdout",
          "text": [
            "근사해 = 1.7320508 , 반복 횟수 = 31\n"
          ]
        }
      ]
    },
    {
      "cell_type": "markdown",
      "source": [
        "(b) $x_{n+1} = \\frac{x_n}{2}+\\frac{3}{2x_n}$"
      ],
      "metadata": {
        "id": "urbp7GVoCD0f"
      }
    },
    {
      "cell_type": "code",
      "source": [
        "import numpy as np\n",
        "\n",
        "def g(x):\n",
        "  return((x/2) + (3/(2*x)))\n",
        "\n",
        "\n",
        "# 초기값 지정\n",
        "x0 = 1\n",
        "alpha = np.sqrt(3)\n",
        "eps = 1e-10\n",
        "\n",
        "n = 0\n",
        "\n",
        "# 고정점 반복법 알고리즘\n",
        "while True:\n",
        "  if n == 0:\n",
        "    xn = x0\n",
        "  else:\n",
        "    xn = xnp\n",
        "  xnp = g(xn)\n",
        "\n",
        "  if np.abs(alpha - xnp) <= eps:\n",
        "        break\n",
        "  n += 1\n",
        "\n",
        "print('근사해 = {0:.7f} , 반복 횟수 = {1}'.format(xnp,n))"
      ],
      "metadata": {
        "colab": {
          "base_uri": "https://localhost:8080/"
        },
        "id": "tSsZZHscCJTW",
        "outputId": "f1874f9e-57dd-49f0-9625-6b910c9c61d5"
      },
      "execution_count": null,
      "outputs": [
        {
          "output_type": "stream",
          "name": "stdout",
          "text": [
            "근사해 = 1.7320508 , 반복 횟수 = 4\n"
          ]
        }
      ]
    },
    {
      "cell_type": "markdown",
      "source": [
        "# 과제 3 _ **#6**\n",
        "\n",
        "다음 표에 주어진 자료에 대하여\n",
        "\n",
        "|$x$|0|1.1|2.3|3.8|4.5|5.4|5.9|6.7|8.4|\n",
        "|:-:|:-:|:-:|:-:|:-:|:-:|:-:|:-:|:-:|:-:|\n",
        "|$f(x)$|1|2|0.5|1.2|1.6|2.8|4.7|5.2|4.5|\n",
        "\n",
        "※ 9개의 데이터 점이 주어져 있지만 일반적으로 $n+1$개의 점이 주어질 때 $P_n(x)$를 구하는 프로그램을 완성한 뒤, $n=8$의 값과 데이터 점들의 좌표 및 $x=4.9$의 값을 입력 받아 계산할 것."
      ],
      "metadata": {
        "id": "z2AKHUXpq6BE"
      }
    },
    {
      "cell_type": "markdown",
      "source": [
        "(a) $f$에 대한 8차 라그랑주 보간다항식 $P_8(x)$를 구하고 이를 이용하여 $f(4.9)$의 근삿값을 구하라."
      ],
      "metadata": {
        "id": "e8YBVo7vrAc3"
      }
    },
    {
      "cell_type": "code",
      "source": [
        "# Pn(x)를 구하는 프로그램\n",
        "def Lagrange(n,xlist,ylist,x):\n",
        "  Pnx = 0\n",
        "\n",
        "  for i in range(n+1):\n",
        "    Lup = 1\n",
        "    Ldown = 1\n",
        "    for j in range(n+1):\n",
        "      if i == j:\n",
        "        continue\n",
        "      else:\n",
        "        Lup *= (x - xlist[j])\n",
        "        Ldown *= (xlist[i] - xlist[j])\n",
        "    Pnx += ylist[i]*Lup/Ldown\n",
        "\n",
        "  return(Pnx)\n",
        "\n",
        "# 근삿값 구하기\n",
        "n = 8\n",
        "xlist = [0, 1.1, 2.3, 3.8, 4.5, 5.4, 5.9, 6.7, 8.4]\n",
        "ylist = [1, 2, 0.5, 1.2, 1.6, 2.8, 4.7, 5.2, 4.5]\n",
        "x = 4.9\n",
        "\n",
        "print(Lagrange(n,xlist,ylist,x))"
      ],
      "metadata": {
        "colab": {
          "base_uri": "https://localhost:8080/"
        },
        "id": "tU3rtZyRryJW",
        "outputId": "121f7576-a6c0-4d24-eef0-b50dca77ba32"
      },
      "execution_count": null,
      "outputs": [
        {
          "output_type": "stream",
          "name": "stdout",
          "text": [
            "1.8135044801781521\n"
          ]
        }
      ]
    },
    {
      "cell_type": "markdown",
      "source": [
        "(b) 뉴턴보간공식을 이용하여 $f$에 대한 8차 보간다항식 $P_8(x)$를 구하고 이를 이용하여 $f(4.9)$의 근삿값을 구하라."
      ],
      "metadata": {
        "id": "yzz9Gw6Yr2VK"
      }
    },
    {
      "cell_type": "code",
      "source": [
        "# Pn(x)를 구하는 프로그램\n",
        "def Newton(n,xlist,ylist,x):\n",
        "  # 뉴턴차분표 만들기\n",
        "  divided_difference = []\n",
        "\n",
        "  for i in range(n+1):\n",
        "    divided_difference.append([])\n",
        "    for j in range(n+1-i):\n",
        "      if i == 0:\n",
        "        divided_difference[i].append(ylist[j])\n",
        "      else:\n",
        "        divided_difference[i].append((divided_difference[i-1][j+1]-divided_difference[i-1][j])/(xlist[j+i]-xlist[j]))\n",
        "\n",
        "  # 각 항별로 곱해서 더하기\n",
        "  Pnx = 0\n",
        "  for i in range(n+1):\n",
        "    multi = divided_difference[i][0]\n",
        "    for j in range(i):\n",
        "      if i == 0:\n",
        "        continue\n",
        "      else:\n",
        "        multi *= (x - xlist[j])\n",
        "    Pnx += multi\n",
        "  return(Pnx)\n",
        "\n",
        "# 근삿값 구하기\n",
        "n = 8\n",
        "xlist = [0, 1.1, 2.3, 3.8, 4.5, 5.4, 5.9, 6.7, 8.4]\n",
        "ylist = [1, 2, 0.5, 1.2, 1.6, 2.8, 4.7, 5.2, 4.5]\n",
        "x = 4.9\n",
        "\n",
        "print(Newton(n,xlist,ylist,x))"
      ],
      "metadata": {
        "colab": {
          "base_uri": "https://localhost:8080/"
        },
        "id": "LCdjY-gxsebP",
        "outputId": "c0742598-ed38-4267-edcd-3ec33da150f0"
      },
      "execution_count": null,
      "outputs": [
        {
          "output_type": "stream",
          "name": "stdout",
          "text": [
            "1.8135044801781526\n"
          ]
        }
      ]
    },
    {
      "cell_type": "markdown",
      "source": [
        "# 과제 4 _ **#4**\n",
        "\n",
        "$f(x) = \\sqrt{1+x^3}$에 대하여 다음 물음에 답하라."
      ],
      "metadata": {
        "id": "vUDJ_jV5m307"
      }
    },
    {
      "cell_type": "markdown",
      "source": [
        "(a) $n = 100$일 때의 사다리꼴 공식을 이용하여 정적분 $\\int_{0}^{2} f(x) dx$의 근삿값을 구하라."
      ],
      "metadata": {
        "id": "KEUGJugQnNqy"
      }
    },
    {
      "cell_type": "code",
      "source": [
        "import numpy as np\n",
        "\n",
        "def trapezoidal(fx, n, a, b):\n",
        "  h = (b-a)/n\n",
        "  T = 0 ; x = a\n",
        "  for i in range(0,n+1):\n",
        "    if (i == 0) or (i == n):\n",
        "      T += (fx(x)*(1/2))\n",
        "    else:\n",
        "      T += (fx(x))\n",
        "    x += h\n",
        "  T *= h\n",
        "  return(T)\n",
        "\n",
        "# 근삿값 구하기\n",
        "def fx(x):\n",
        "  return(np.sqrt(1 + x**3))\n",
        "n = 100\n",
        "a = 0\n",
        "b = 2\n",
        "\n",
        "print(trapezoidal(fx, n, a, b))"
      ],
      "metadata": {
        "colab": {
          "base_uri": "https://localhost:8080/"
        },
        "id": "ryosmJLdnbcR",
        "outputId": "ce52aa6d-8735-4e54-90f5-b29f3a858ff1"
      },
      "execution_count": null,
      "outputs": [
        {
          "output_type": "stream",
          "name": "stdout",
          "text": [
            "3.2413759306026813\n"
          ]
        }
      ]
    },
    {
      "cell_type": "markdown",
      "source": [
        "(b) $n = 100$일 때의 심프슨 공식을 이용하여 정적분 $\\int_{0}^{2} f(x) dx$의 근삿값을 구하라."
      ],
      "metadata": {
        "id": "cJlMhR76nb4p"
      }
    },
    {
      "cell_type": "code",
      "source": [
        "import numpy as np\n",
        "\n",
        "def Simpson(fx, n, a, b):\n",
        "  h = (b-a)/n\n",
        "  T = 0 ; x = a\n",
        "  for i in range(0,n+1):\n",
        "    if (i == 0) or (i == n):\n",
        "      T += (fx(x))\n",
        "    elif ((i % 2) == 1):\n",
        "      T += (fx(x)*4)\n",
        "    else:\n",
        "      T += (fx(x)*2)\n",
        "    x += h\n",
        "  T *= (h/3)\n",
        "  return(T)\n",
        "\n",
        "# 근삿값 구하기\n",
        "def fx(x):\n",
        "  return(np.sqrt(1 + x**3))\n",
        "n = 100\n",
        "a = 0\n",
        "b = 2\n",
        "\n",
        "print(Simpson(fx, n, a, b))"
      ],
      "metadata": {
        "colab": {
          "base_uri": "https://localhost:8080/"
        },
        "id": "0DnGDXfknlv3",
        "outputId": "fcaaf70e-922a-41f8-c8cf-2be65c98d6a6"
      },
      "execution_count": null,
      "outputs": [
        {
          "output_type": "stream",
          "name": "stdout",
          "text": [
            "3.241309260232342\n"
          ]
        }
      ]
    },
    {
      "cell_type": "markdown",
      "source": [
        "(c) $n = 1, 2, 3, 4, 5$일 때의 가우스 수치적분을 이용하여 정적분 $\\int_{0}^{2} f(x) dx$의 근삿값을 각각 구하라."
      ],
      "metadata": {
        "id": "bNDoywcSnmO2"
      }
    },
    {
      "cell_type": "code",
      "source": [
        "import numpy as np\n",
        "\n",
        "# f(x) 식\n",
        "def fx(x):\n",
        "  return(np.sqrt(1 + x**3))\n",
        "\n",
        "# 변수 변환\n",
        "def change(t,a,b):\n",
        "  x = (((b-a)/2)*(t+1))+a\n",
        "  return(x)\n",
        "\n",
        "# g(x) 식\n",
        "def g(t):\n",
        "  return(fx(change(t,a,b)))\n",
        "\n",
        "# 가우스 수치적분\n",
        "def Gaussian(n,g):\n",
        "  if n == 1:\n",
        "    I = 2*g(0)\n",
        "  elif n == 2:\n",
        "    I = g(-np.sqrt(1/3)) + g(np.sqrt(1/3))\n",
        "  elif n == 3:\n",
        "    I = (8/9)*g(0) + (5/9)*(g(-np.sqrt(3/5))+g(np.sqrt(3/5)))\n",
        "  elif n == 4:\n",
        "    I = ((18+np.sqrt(30))/36)*(g(-np.sqrt((3-2*np.sqrt(6/5))/7))+g(np.sqrt((3-2*np.sqrt(6/5))/7)))\n",
        "    I += ((18-np.sqrt(30))/36)*(g(-np.sqrt((3+2*np.sqrt(6/5))/7))+g(np.sqrt((3+2*np.sqrt(6/5))/7)))\n",
        "  elif n == 5:\n",
        "    I = (128/225)*g(0)\n",
        "    I += ((322+13*np.sqrt(70))/900)*(g(-(1/3)*np.sqrt(5-2*np.sqrt(10/7))) + g((1/3)*np.sqrt(5-2*np.sqrt(10/7))))\n",
        "    I += ((322-13*np.sqrt(70))/900)*(g(-(1/3)*np.sqrt(5+2*np.sqrt(10/7))) + g((1/3)*np.sqrt(5+2*np.sqrt(10/7))))\n",
        "\n",
        "  I *= ((b-a)/2) ### dx, dt\n",
        "  return(I)\n",
        "\n",
        "# 근삿값 구하기\n",
        "a = 0 ; b = 2\n",
        "\n",
        "print(\"n = 1일 때 :\", Gaussian(1,g))\n",
        "print(\"n = 2일 때 :\", Gaussian(2,g))\n",
        "print(\"n = 3일 때 :\", Gaussian(3,g))\n",
        "print(\"n = 4일 때 :\", Gaussian(4,g))\n",
        "print(\"n = 5일 때 :\", Gaussian(5,g))"
      ],
      "metadata": {
        "colab": {
          "base_uri": "https://localhost:8080/"
        },
        "id": "n_sAC2Luntje",
        "outputId": "ef500619-98ee-4b5d-af47-3de087a66969"
      },
      "execution_count": null,
      "outputs": [
        {
          "output_type": "stream",
          "name": "stdout",
          "text": [
            "n = 1일 때 : 2.8284271247461903\n",
            "n = 2일 때 : 3.256184378386184\n",
            "n = 3일 때 : 3.241815612350218\n",
            "n = 4일 때 : 3.241105700699591\n",
            "n = 5일 때 : 3.2413409951331538\n"
          ]
        }
      ]
    },
    {
      "cell_type": "markdown",
      "source": [
        "# 과제 5 _ **#1**\n",
        "\n",
        "다음과 같이 주어지는 행렬에 대하여 피버팅을 사용한 가우스 소거법을 이용하여 연립방정식의 $Ax = b$ 해 $x$를 구하라.   \n",
        "(힌트: 이 과목 홈페이지에서 피버팅을 사용한 가우스 소거법에 대한 C 코드 또는 Python 코드를 내려받아 그대로 사용해도 된다.)\n",
        "\n",
        "$A = \\begin{bmatrix}\n",
        "0 & 1 & -2 & -2 \\\\\n",
        "2 & -1 & 0 & 1 \\\\\n",
        "-1 & 3 & 2 & -1 \\\\\n",
        "-3 & 1 & 2 & 0\n",
        "\\end{bmatrix} , x = \\begin{bmatrix} x_1 \\\\ x_2 \\\\ x_3 \\\\ x_4 \\end{bmatrix} , b = \\begin{bmatrix} -3 \\\\ 6 \\\\ 8 \\\\ -5 \\end{bmatrix}$"
      ],
      "metadata": {
        "id": "Cux24DJqiSVw"
      }
    },
    {
      "cell_type": "code",
      "source": [
        "import numpy as np\n",
        "\n",
        "A = np.array([[0,1,-2,-2], [2,-1,0,1], [-1,3,2,-1], [-3,1,2,0]], float)\n",
        "b = np.array([[-3],[6],[8],[-5]], float)\n",
        "x = np.array([[0],[0],[0],[0]], float)\n",
        "\n",
        "# 행 교환(k <-> i)\n",
        "def partial_pivoting(k):\n",
        "  c = 0\n",
        "  for r in range(k-1,len(A)):\n",
        "    if c < np.abs(A[r][k-1]):\n",
        "      c = np.abs(A[r][k-1])\n",
        "      i = r\n",
        "\n",
        "  krowA = np.array(A[k-1]) ; krowb = np.array(b[k-1])\n",
        "  irowA = np.array(A[i]) ; irowb = np.array(b[i])\n",
        "  A[k-1] = irowA ; A[i] = krowA\n",
        "  b[k-1] = irowb ; b[i] = krowb\n",
        "\n",
        "  return(i+1,A,b)\n",
        "\n",
        "# 가우스 소거법 : k행 아래를 0으로 (0 대신에 곱수 채워넣기)\n",
        "def Gaussian_elimination(k):\n",
        "  for r in range(k,len(A)):\n",
        "    m = A[r][k-1]/A[k-1][k-1]\n",
        "    b[r] = b[r] - m*b[k-1]\n",
        "    for c in range(k-1,len(A)):\n",
        "      if c == k-1:\n",
        "        A[r][k-1] = m ### 0 대신에 곱수 채워넣기\n",
        "      else:\n",
        "        A[r][c] = A[r][c] - m*A[k-1][c]\n",
        "\n",
        "  return(A,b)\n",
        "\n",
        "# 전체 계산\n",
        "for R in range(1,len(A)):\n",
        "  partial_pivoting(R)\n",
        "  Gaussian_elimination(R)\n",
        "\n",
        "# 후진대입법\n",
        "for r in range(len(A)-1,-1,-1):\n",
        "  sum = b[r]\n",
        "  for c in range(len(A)-1,r,-1):\n",
        "    sum -= A[r][c]*x[c]\n",
        "  x[r] = sum/A[r][r]\n",
        "\n",
        "print('x = \\n\\n', x)"
      ],
      "metadata": {
        "id": "-ul4mEG0ikm8",
        "colab": {
          "base_uri": "https://localhost:8080/"
        },
        "outputId": "3a9e0cb8-5631-42ba-c7cd-4784c519863c"
      },
      "execution_count": null,
      "outputs": [
        {
          "output_type": "stream",
          "name": "stdout",
          "text": [
            "x = \n",
            "\n",
            " [[4.]\n",
            " [3.]\n",
            " [2.]\n",
            " [1.]]\n"
          ]
        }
      ]
    },
    {
      "cell_type": "markdown",
      "source": [
        "# 과제 5 _ **#2**\n",
        "\n",
        "다음과 같이 주어지는 행렬에 대하여 피버팅을 사용한 행렬의 $LU$ 분해를 이용하여 연립방정식의 $Ax = b$ 해 $x$를 구하라.\n",
        "\n",
        "$A = \\begin{bmatrix}\n",
        "4 & 2 & -7 & 0 & 1 \\\\\n",
        "-2 & -1 & 0 & 5 & -1 \\\\\n",
        "-1 & 2 & 9 & -1 & 8 \\\\\n",
        "0 & 6 & -3 & 4 & -3 \\\\\n",
        "-1 & -4 & 2 & -9 & 6\n",
        "\\end{bmatrix} , x = \\begin{bmatrix} x_1 \\\\ x_2 \\\\ x_3 \\\\ x_4 \\\\ x_5 \\end{bmatrix} , b = \\begin{bmatrix} -20 \\\\ -11 \\\\ 42 \\\\ -8 \\\\ 23 \\end{bmatrix}$"
      ],
      "metadata": {
        "id": "ZEGNC7yiibvX"
      }
    },
    {
      "cell_type": "code",
      "source": [
        "import numpy as np\n",
        "\n",
        "A = np.array([[4,2,-7,-0,1], [-2,-1,0,5,-1], [-1,2,9,-1,8], [0,6,-3,4,-3], [-1,-4,2,-9,6]], float)\n",
        "b = np.array([[-20],[-11],[42],[-8], [23]], float)\n",
        "x = np.array([[0],[0],[0],[0],[0]], float)\n",
        "P = np.array([[1,0,0,0,0], [0,1,0,0,0], [0,0,1,0,0], [0,0,0,1,0], [0,0,0,0,1]])\n",
        "\n",
        "# 피버팅(k <-> i)\n",
        "def partial_pivoting(k):\n",
        "  c = 0\n",
        "  for r in range(k-1,len(A)):\n",
        "    if c < np.abs(A[r][k-1]):\n",
        "      c = np.abs(A[r][k-1])\n",
        "      i = r\n",
        "\n",
        "  krowA = np.array(A[k-1]) ; krowP = np.array(P[k-1])\n",
        "  irowA = np.array(A[i]) ; irowP = np.array(P[i])\n",
        "  A[k-1] = irowA ; A[i] = krowA\n",
        "  P[k-1] = irowP ; P[i] = krowP\n",
        "\n",
        "  return(i+1,A,b,P)\n",
        "\n",
        "# 가우스 소거법 : k행 아래를 0으로 (0 대신에 곱수 채워넣기)\n",
        "def Gaussian_elimination(k):\n",
        "  for r in range(k,len(A)):\n",
        "    m = A[r][k-1]/A[k-1][k-1]\n",
        "    for c in range(k-1,len(A)):\n",
        "      if c == k-1:\n",
        "        A[r][k-1] = m ### 0 대신에 곱수 채워넣기\n",
        "      else:\n",
        "        A[r][c] = A[r][c] - m*A[k-1][c]\n",
        "\n",
        "  return(A,b)\n",
        "\n",
        "# 전체 계산\n",
        "for R in range(1,len(A)):\n",
        "  partial_pivoting(R)\n",
        "  Gaussian_elimination(R)\n",
        "\n",
        "# LU 분해\n",
        "L = np.array([[0 for c in range(len(A))] for r in range(len(A))], float)\n",
        "U = np.array([[0 for c in range(len(A))] for r in range(len(A))], float)\n",
        "for r in range(len(A)):\n",
        "  for c in range(len(A)):\n",
        "    if r == c :\n",
        "      L[r][c] = 1\n",
        "    if c < r :\n",
        "      L[r][c] = A[r][c]\n",
        "    if c >= r :\n",
        "      U[r][c] = A[r][c]\n",
        "\n",
        "# 전진대입법\n",
        "y = np.array([[0] for r in range(len(A))], float)\n",
        "for r in range(len(L)):\n",
        "  sum = (np.dot(P,b))[r]\n",
        "  for c in range(r):\n",
        "    sum -= L[r][c]*y[c]\n",
        "  y[r] = sum/L[r][r]\n",
        "\n",
        "# 후진대입법\n",
        "for r in range(len(U)-1,-1,-1):\n",
        "  sum = y[r]\n",
        "  for c in range(len(U)-1,r,-1):\n",
        "    sum -= U[r][c]*x[c]\n",
        "  x[r] = sum/U[r][r]\n",
        "\n",
        "print('x = \\n\\n', x)"
      ],
      "metadata": {
        "colab": {
          "base_uri": "https://localhost:8080/"
        },
        "id": "9BEglnLThtID",
        "outputId": "76e3f538-c5fa-4062-a026-94572fa8c302"
      },
      "execution_count": null,
      "outputs": [
        {
          "output_type": "stream",
          "name": "stdout",
          "text": [
            "x = \n",
            "\n",
            " [[-1.]\n",
            " [ 2.]\n",
            " [ 3.]\n",
            " [-2.]\n",
            " [ 1.]]\n"
          ]
        }
      ]
    },
    {
      "cell_type": "markdown",
      "source": [
        "# 과제 5 _ **#3**\n",
        "\n",
        "다음과 같이 주어지는 행렬과 열벡터에 대한 아래 물음에 각각 답하라.\n",
        "\n",
        "$A = \\begin{bmatrix}\n",
        "12 & -1 & 2 & 3 & 0 \\\\\n",
        "2 & 9 & 0 & 4 & -2 \\\\\n",
        "-1 & 5 & 15 & -6 & -2 \\\\\n",
        "3 & 1 & 2 & 10 & 0 \\\\\n",
        "4 & -1 & 0 & -3 & 10\n",
        "\\end{bmatrix} , x = \\begin{bmatrix} x_1 \\\\ x_2 \\\\ x_3 \\\\ x_4 \\\\ x_5 \\end{bmatrix} , b = \\begin{bmatrix} 40 \\\\ 39 \\\\ 29 \\\\ 86 \\\\ 70 \\end{bmatrix}$\n",
        "\n",
        "\n",
        "단, (b)와 (c)의 경우 $k$번째 반복에서 나타나는 해를 $x^{(k)}$라 할 때 다음 조건이 만족될 때까지 계산한다.\n",
        "\n",
        "> $\\frac{\\lVert x^{(k+1)} - x^{(k)} \\rVert}{\\lVert x^{(k+1)} \\rVert} \\le 10^{-8}$"
      ],
      "metadata": {
        "id": "egMuAYALhuBW"
      }
    },
    {
      "cell_type": "markdown",
      "source": [
        "**(b)** 야코비 방법을 사용하여 $Ax = b$의 해를 구하라.  \n",
        "(힌트: 이 과목 홈페이지에서 야코비 방법에 대한 C 코드 또는 Python 코드 및 입력 파일을 내려받아 그대로 사용해도 된다.)\n"
      ],
      "metadata": {
        "id": "ar2ewClliSim"
      }
    },
    {
      "cell_type": "code",
      "source": [
        "import numpy as np\n",
        "\n",
        "A = np.array([[12,-1,2,3,0],[2,9,0,4,-2],[-1,5,15,-6,-2],[3,1,2,10,0],[4,-1,0,-3,10]], float)\n",
        "b = np.array([[40], [39], [29], [86], [70]], float)\n",
        "\n",
        "# Jacobi 방법\n",
        "def Jacobi(xk):\n",
        "  new_xk = np.array([[0] for i in range(len(A))], float)\n",
        "  for i in range(len(A)):\n",
        "    sumji = 0 ; sumij = 0\n",
        "    for j in range(len(A)):\n",
        "      if j < i:\n",
        "        sumji += float(A[i][j] * xk[j])\n",
        "      if j > i:\n",
        "        sumij += float(A[i][j] * xk[j])\n",
        "    new_xk[i] = (b[i] - sumji - sumij) / A[i][i]\n",
        "  return(new_xk)\n",
        "\n",
        "# norm 계산\n",
        "def norm(vector):\n",
        "  return max([abs(x) for x in vector])\n",
        "\n",
        "# stopping criterion\n",
        "tolerance = 10e-8\n",
        "xk = np.array([[0] for i in range(len(A))], float)\n",
        "xkk = np.array([[1] for i in range(len(A))], float)\n",
        "xkk_k = np.array([[1] for i in range(len(A))], float)\n",
        "n = 0\n",
        "print('n |   x1   |   x2   |   x3   |   x4   |   x5   ')\n",
        "print('%d | %.4f | %.4f | %.4f | %.4f | %.4f'%(n,xk[0],xk[1],xk[2],xk[3],xk[4]))\n",
        "print\n",
        "while (norm(xkk_k) / norm(xkk)) > tolerance:\n",
        "  xkk = Jacobi(xk)\n",
        "  xkk_k = xkk - xk\n",
        "  n += 1\n",
        "  print('%d | %.4f | %.4f | %.4f | %.4f | %.4f'%(n,xkk[0],xkk[1],xkk[2],xkk[3],xkk[4]))\n",
        "  xk = xkk\n",
        "\n",
        "print('--------------------------------------------------------')\n",
        "print('x = \\n\\n', xk)"
      ],
      "metadata": {
        "colab": {
          "base_uri": "https://localhost:8080/"
        },
        "id": "yCXgBdjMiZjK",
        "outputId": "0243c7a6-42b9-4115-b205-7d12f95fb509"
      },
      "execution_count": null,
      "outputs": [
        {
          "output_type": "stream",
          "name": "stdout",
          "text": [
            "n |   x1   |   x2   |   x3   |   x4   |   x5   \n",
            "0 | 0.0000 | 0.0000 | 0.0000 | 0.0000 | 0.0000\n",
            "1 | 3.3333 | 4.3333 | 1.9333 | 8.6000 | 7.0000\n",
            "2 | 1.2222 | 1.3259 | 5.0844 | 6.7800 | 8.6800\n",
            "3 | 0.9014 | 2.9773 | 5.4422 | 7.0839 | 8.6777\n",
            "4 | 0.9034 | 2.9130 | 4.9916 | 6.9434 | 9.0623\n",
            "5 | 1.0083 | 3.0605 | 5.0082 | 7.0394 | 9.0129\n",
            "6 | 0.9938 | 2.9835 | 4.9979 | 6.9898 | 9.0145\n",
            "7 | 1.0015 | 3.0091 | 5.0029 | 7.0039 | 8.9978\n",
            "8 | 0.9993 | 2.9974 | 4.9983 | 6.9980 | 9.0015\n",
            "9 | 1.0006 | 3.0014 | 5.0002 | 7.0008 | 8.9994\n",
            "10 | 0.9999 | 2.9994 | 4.9998 | 6.9997 | 9.0002\n",
            "11 | 1.0001 | 3.0002 | 5.0001 | 7.0001 | 8.9999\n",
            "12 | 1.0000 | 2.9999 | 5.0000 | 6.9999 | 9.0000\n",
            "13 | 1.0000 | 3.0000 | 5.0000 | 7.0000 | 9.0000\n",
            "14 | 1.0000 | 3.0000 | 5.0000 | 7.0000 | 9.0000\n",
            "15 | 1.0000 | 3.0000 | 5.0000 | 7.0000 | 9.0000\n",
            "16 | 1.0000 | 3.0000 | 5.0000 | 7.0000 | 9.0000\n",
            "17 | 1.0000 | 3.0000 | 5.0000 | 7.0000 | 9.0000\n",
            "18 | 1.0000 | 3.0000 | 5.0000 | 7.0000 | 9.0000\n",
            "19 | 1.0000 | 3.0000 | 5.0000 | 7.0000 | 9.0000\n",
            "--------------------------------------------------------\n",
            "x = \n",
            "\n",
            " [[1.00000006]\n",
            " [3.0000002 ]\n",
            " [5.00000006]\n",
            " [7.00000012]\n",
            " [8.99999992]]\n"
          ]
        }
      ]
    },
    {
      "cell_type": "markdown",
      "source": [
        "**(c)** 가우스 사이델 방법을 사용하여 $Ax = b$의 해를 구하라.  \n",
        "(힌트: 야코비 방법에 대한 C 코드 또는 Python 코드를 약간만 변형하면 된다.)"
      ],
      "metadata": {
        "id": "wEbMhughiZ6k"
      }
    },
    {
      "cell_type": "code",
      "source": [
        "import numpy as np\n",
        "\n",
        "A = np.array([[12,-1,2,3,0],[2,9,0,4,-2],[-1,5,15,-6,-2],[3,1,2,10,0],[4,-1,0,-3,10]], float)\n",
        "b = np.array([[40], [39], [29], [86], [70]], float)\n",
        "\n",
        "# Gauss-Seidel 방법\n",
        "def Gauss_Seidel(xk):\n",
        "  new_xk = np.array([[0] for i in range(len(A))], float)\n",
        "  for i in range(len(A)):\n",
        "    sumji = 0 ; sumij = 0\n",
        "    for j in range(len(A)):\n",
        "      if j < i:\n",
        "        sumji += float(A[i][j] * new_xk[j])\n",
        "      if j > i:\n",
        "        sumij += float(A[i][j] * xk[j])\n",
        "    new_xk[i] = (b[i] - sumji - sumij) / A[i][i]\n",
        "  return(new_xk)\n",
        "\n",
        "# norm 계산\n",
        "def norm(vector):\n",
        "  return max([abs(x) for x in vector])\n",
        "\n",
        "# stopping criterion\n",
        "tolerance = 10e-8\n",
        "xk = np.array([[0] for i in range(len(A))], float)\n",
        "xkk = np.array([[1] for i in range(len(A))], float)\n",
        "xkk_k = np.array([[1] for i in range(len(A))], float)\n",
        "n = 0\n",
        "print('n |   x1   |   x2   |   x3   |   x4   |   x5   ')\n",
        "print('%d | %.4f | %.4f | %.4f | %.4f | %.4f'%(n,xk[0],xk[1],xk[2],xk[3],xk[4]))\n",
        "\n",
        "while (norm(xkk_k) / norm(xkk)) > tolerance:\n",
        "  xkk = Gauss_Seidel(xk)\n",
        "  xkk_k = xkk - xk\n",
        "  n += 1\n",
        "  print('%d | %.4f | %.4f | %.4f | %.4f | %.4f'%(n,xkk[0],xkk[1],xkk[2],xkk[3],xkk[4]))\n",
        "  xk = xkk\n",
        "\n",
        "print('--------------------------------------------------------')\n",
        "print('x = \\n\\n', xk)"
      ],
      "metadata": {
        "colab": {
          "base_uri": "https://localhost:8080/"
        },
        "id": "4EJB0nq8ikUw",
        "outputId": "e29f1384-7b61-4ce4-b0ca-529b6626eb8b"
      },
      "execution_count": null,
      "outputs": [
        {
          "output_type": "stream",
          "name": "stdout",
          "text": [
            "n |   x1   |   x2   |   x3   |   x4   |   x5   \n",
            "0 | 0.0000 | 0.0000 | 0.0000 | 0.0000 | 0.0000\n",
            "1 | 3.3333 | 3.5926 | 0.9580 | 7.0491 | 8.1407\n",
            "2 | 1.7108 | 2.6293 | 5.0760 | 6.8086 | 8.6212\n",
            "3 | 1.0043 | 2.9999 | 4.8733 | 7.0241 | 9.0055\n",
            "4 | 1.0151 | 2.9872 | 5.0156 | 6.9936 | 8.9908\n",
            "5 | 0.9979 | 3.0012 | 4.9957 | 7.0014 | 9.0014\n",
            "6 | 1.0005 | 2.9996 | 5.0009 | 6.9997 | 8.9997\n",
            "7 | 0.9999 | 3.0001 | 4.9998 | 7.0001 | 9.0001\n",
            "8 | 1.0000 | 3.0000 | 5.0000 | 7.0000 | 9.0000\n",
            "9 | 1.0000 | 3.0000 | 5.0000 | 7.0000 | 9.0000\n",
            "10 | 1.0000 | 3.0000 | 5.0000 | 7.0000 | 9.0000\n",
            "11 | 1.0000 | 3.0000 | 5.0000 | 7.0000 | 9.0000\n",
            "12 | 1.0000 | 3.0000 | 5.0000 | 7.0000 | 9.0000\n",
            "--------------------------------------------------------\n",
            "x = \n",
            "\n",
            " [[1.00000005]\n",
            " [2.99999996]\n",
            " [5.00000009]\n",
            " [6.99999997]\n",
            " [8.99999997]]\n"
          ]
        }
      ]
    },
    {
      "cell_type": "markdown",
      "source": [
        "# 과제 5 _ **#4**\n",
        "\n",
        "인터넷이나 잡지, 신문, 책 등에서 적당한 형태의 윤곽선이 있는 사진이나 그림을 찾아 스플라인을 이용하여 이를 구현하라.  \n",
        "즉, 찾은 윤곽선에서 10개 ∼ 20개 정도의 점의 좌표를 입력 데이터로 추출하고, 이를\n",
        "바탕으로 자연삼차스플라인 s(x)을 만들어야 한다. (4장 3절 참조)  \n",
        "이 함수로부터 1000개 이상의 점으로 구성된 출력 데이터를 얻는다.  \n",
        "이 출력 데이터를 사용하여 s(x)의 그래프를 그리면 된다."
      ],
      "metadata": {
        "id": "MrOkV3jVjTZA"
      }
    },
    {
      "cell_type": "code",
      "source": [
        "# 구글 코랩 <-> 구글 드라이브 연동\n",
        "from google.colab import drive\n",
        "drive.mount('/content/drive')"
      ],
      "metadata": {
        "colab": {
          "base_uri": "https://localhost:8080/"
        },
        "id": "NOZFiL5N8OiP",
        "outputId": "81d18180-b912-4d7a-d827-94f8e15ddfcd"
      },
      "execution_count": null,
      "outputs": [
        {
          "output_type": "stream",
          "name": "stdout",
          "text": [
            "Mounted at /content/drive\n"
          ]
        }
      ]
    },
    {
      "cell_type": "code",
      "source": [
        "import matplotlib.pyplot as plt\n",
        "import cv2\n",
        "\n",
        "# 구글 드라이브에 있는 사진 가져오기\n",
        "img_pig = cv2.imread('/content/drive/MyDrive/Colab Notebooks/pig.PNG', cv2.IMREAD_COLOR)\n",
        "img_pig = cv2.cvtColor(img_pig, cv2.COLOR_BGR2RGB)\n",
        "plt.imshow(img_pig)\n",
        "plt.grid()\n",
        "plt.show()"
      ],
      "metadata": {
        "colab": {
          "base_uri": "https://localhost:8080/",
          "height": 242
        },
        "id": "0s64WsUZjjsH",
        "outputId": "956b929e-69a3-4751-b2e0-b7b6440b751f"
      },
      "execution_count": null,
      "outputs": [
        {
          "output_type": "display_data",
          "data": {
            "text/plain": [
              "<Figure size 432x288 with 1 Axes>"
            ],
            "image/png": "[encoded data removed]"
          },
          "metadata": {
            "needs_background": "light"
          }
        }
      ]
    },
    {
      "cell_type": "code",
      "source": [
        "import numpy as np\n",
        "\n",
        "# 윤곽선 따기\n",
        "outline = np.array([ [ [255,255,255] for j in range(len(img_pig[0])) ] for i in range(len(img_pig)) ], float)\n",
        "\n",
        "for i in range(len(img_pig)):\n",
        "  for j in range(len(img_pig[i])):\n",
        "    if (img_pig[i][j] <= 150).any():\n",
        "      outline[i][j] = np.array([0,0,0])\n",
        "\n",
        "plt.imshow(outline)\n",
        "plt.grid()\n",
        "plt.show()"
      ],
      "metadata": {
        "colab": {
          "base_uri": "https://localhost:8080/",
          "height": 261
        },
        "id": "0_Np1TYCMpVV",
        "outputId": "bf893e87-6302-4ef1-ba59-91582662fd19"
      },
      "execution_count": null,
      "outputs": [
        {
          "output_type": "stream",
          "name": "stderr",
          "text": [
            "WARNING:matplotlib.image:Clipping input data to the valid range for imshow with RGB data ([0..1] for floats or [0..255] for integers).\n"
          ]
        },
        {
          "output_type": "display_data",
          "data": {
            "text/plain": [
              "<Figure size 432x288 with 1 Axes>"
            ],
            "image/png": "[encoded data removed]"
          },
          "metadata": {
            "needs_background": "light"
          }
        }
      ]
    },
    {
      "cell_type": "code",
      "source": [
        "# 윤곽선 위에 있는 좌표 추출 & x축을 중간에 두기\n",
        "x = [] ;  y = []\n",
        "for i in range(len(outline)):\n",
        "  for j in range(len(outline[i])):\n",
        "    if (outline[i][j] == np.array([0,0,0])).all():\n",
        "      x.append(j)\n",
        "      y.append(len(outline)-i-195)\n",
        "\n",
        "# x축 위에 있고, 주요 점 19개 추출\n",
        "xx = np.arange(51,502,25)\n",
        "yy = [[] for i in range(len(xx))]\n",
        "\n",
        "for i in range(len(x)):\n",
        "  if (y[i] >= 0) and (x[i] in np.arange(51,502,25)):\n",
        "    for j in range(len(xx)):\n",
        "      if xx[j] == x[i]:\n",
        "        yy[j].append(y[i])\n",
        "\n",
        "for i in range(len(xx)):\n",
        "  yy[i] = yy[i][0]\n",
        "\n",
        "# 그림 그려서 확인\n",
        "plt.scatter(x,y,c='blue',s=0.0005)\n",
        "plt.scatter(xx,yy,c='red',s=2)\n",
        "plt.grid()\n",
        "plt.show()"
      ],
      "metadata": {
        "colab": {
          "base_uri": "https://localhost:8080/",
          "height": 265
        },
        "id": "kIVTYcePaJp9",
        "outputId": "f16b7511-217c-4155-947e-44987702efac"
      },
      "execution_count": null,
      "outputs": [
        {
          "output_type": "display_data",
          "data": {
            "text/plain": [
              "<Figure size 432x288 with 1 Axes>"
            ],
            "image/png": "[encoded data removed]"
          },
          "metadata": {
            "needs_background": "light"
          }
        }
      ]
    },
    {
      "cell_type": "code",
      "source": [
        "# 자연 3차 스플라인 보간식 구성\n",
        "\n",
        "# 삼중대각행렬 풀이\n",
        "def tridiagonal_matrix(x,y):\n",
        "  a = [0 for i in range(len(x)-1)]\n",
        "  b = [0 for i in range(len(x)-1)]\n",
        "  c = [0 for i in range(len(x)-1)]\n",
        "  d = [0 for i in range(len(x)-1)]\n",
        "\n",
        "  for j in range(1,len(x)):\n",
        "    a[j] = (x[j] - x[j-1]) / 6\n",
        "    b[j] = (x[j+1] - x[j-1]) / 3\n",
        "    c[j] = (x[j+1] - x[j]) / 6\n",
        "    d[j] = ((y[j+1] - y[j]) / (x[j+1] - x[j])) - ((y[j] - y[j-1]) / (x[j] - x[j-1]))\n",
        "\n",
        "  trid = np.zeros((3, len(x)-2))\n",
        "  for j in range(1, len(x)-1):\n",
        "    trid[0][j-1] = c[j]\n",
        "    trid[1][j-1] = b[j]\n",
        "    trid[2][j-1] = a[j]\n",
        "\n",
        "  D = [d[i] for i in range(1,len(x)-1)]\n",
        "\n",
        "  # LU 분해 원소 구하기\n",
        "  beta = [0 for i in range(len(x)-1)]\n",
        "  alpha = [0 for i in range(len(x)-1)]\n",
        "  beta[1] = b[1]\n",
        "  for j in range(2,len(x)-1):\n",
        "    alpha[j-1] = a[j-1]/beta[j-1]\n",
        "    beta[j-1] = b[j-1] - alpha[j-1]*c[j-2]\n",
        "\n",
        "  # g 구하기\n",
        "  g = [0 for i in range(len(x)-1)]\n",
        "  g[1] = d[1]\n",
        "  for j in range(2, len(x)-1):\n",
        "    g[j] = d[j] - alpha[j]*g[j-1]\n",
        "\n",
        "  # 최종적인 해\n",
        "  sol = [0 for i in range(len(x)-1)]\n",
        "  sol[len(x)-2] = g[len(x)-2] / beta[len(x)-2]\n",
        "  for j in range(n-1, 1, -1):\n",
        "    sol[j-1] = (g[j-1] - c[j-1]*sol[j]) / beta[j-1]\n",
        "\n",
        "  return(sol)\n",
        "\n",
        "print(tridiagonal)"
      ],
      "metadata": {
        "id": "z4Zd21iWfvD4"
      },
      "execution_count": null,
      "outputs": []
    },
    {
      "cell_type": "markdown",
      "source": [
        "# 과제 6 _ **#1**\n",
        "\n",
        "뉴턴의 방법을 사용하여 다음 비선형연립방정식의 해를 구하라.\n",
        "\n",
        "$\\frac{x^2}{3} + \\frac{y^2}{3} + \\frac{z^2}{3} = 1$  \n",
        "$xyz = y^2 + z$  \n",
        "$sin(2x-y) + xz = 4$\n",
        "\n",
        "단, k번째 반복에서 나타나는 해를 $x^{k)}$라 할 때 다음 조건이 만족될 때까지 계산한다.\n",
        "\n",
        "$||x^{(k+1)} - x^{(k)}|| ≤ 10^{-8}$\n",
        "\n",
        "또한 초깃값 추측으로 다음을 각각 사용하여 서로 다른 해의 순서쌍 세 개를 구해야 한다."
      ],
      "metadata": {
        "id": "E-Zv7V-zSYrD"
      }
    },
    {
      "cell_type": "code",
      "source": [
        "### 교과서에 나와 있는 예제 !!\n",
        "\n",
        "import numpy as np\n",
        "\n",
        "# 접평면 식\n",
        "def f(x,y):\n",
        "  return(x*x + 4*y*y - 9)\n",
        "def fx(x,y):\n",
        "  return(2*x)\n",
        "def fy(x,y):\n",
        "  return(8*y)\n",
        "\n",
        "def g(x,y):\n",
        "  return(18*y - 14*x*x + 45)\n",
        "def gx(x,y):\n",
        "  return((-1)*28*x)\n",
        "def gy(x,y):\n",
        "  return(18)\n",
        "\n",
        "# 초깃값\n",
        "x0 = 1 ; y0 = -1\n",
        "eps = 10e-8 ; xe = 10 ; ye = 10\n",
        "\n",
        "# 뉴턴의 방법 (Newton's method)\n",
        "while np.max(np.array([xe,ye])) > eps:\n",
        "  left = np.array([[fx(x0,y0) , fy(x0,y0)],\n",
        "                    [gx(x0,y0), gy(x0,y0)]])\n",
        "  right = np.array([[(-1)*f(x0,y0) + x0*fx(x0,y0) + y0*fy(x0,y0)],\n",
        "                    [(-1)*g(x0,y0) + x0*gx(x0,y0) + y0*gy(x0,y0)]])\n",
        "\n",
        "  # 계수 행렬과 방정식의 우변에 해당하는 행렬을 이용하여 다음 k+1번째 해 구하기 !\n",
        "  xold = x0 ; yold = y0\n",
        "  x0 += (np.linalg.solve(left, right)[0][0] - x0)\n",
        "  y0 += (np.linalg.solve(left, right)[1][0] - y0)\n",
        "\n",
        "  # xk+1 - xk = xe, yk+1 - yk = ye, zk+1 - zk = ze\n",
        "  xe = np.abs(x0 - xold)\n",
        "  ye = np.abs(y0 - yold)\n",
        "\n",
        "  if np.max(np.array([xe,ye])) <= eps:\n",
        "    print(\"(%f, %f)\" %(x0, y0))"
      ],
      "metadata": {
        "colab": {
          "base_uri": "https://localhost:8080/"
        },
        "id": "d-9iVOuNgrrL",
        "outputId": "b7fcca25-a381-4c03-88c8-28f615c50bd7"
      },
      "execution_count": null,
      "outputs": [
        {
          "output_type": "stream",
          "name": "stdout",
          "text": [
            "(1.203167, -1.374081)\n"
          ]
        }
      ]
    },
    {
      "cell_type": "markdown",
      "source": [
        "**(a)** $x = 1, y = 1, z = 1$"
      ],
      "metadata": {
        "id": "tGJHjw6FTeYb"
      }
    },
    {
      "cell_type": "code",
      "source": [
        "import numpy as np\n",
        "\n",
        "# 접평면 식\n",
        "def f(x,y,z):\n",
        "  return(x*x/3 + y*y/12 + z*z/48 - 1)\n",
        "def fx(x,y,z):\n",
        "  return(2*x/3)\n",
        "def fy(x,y,z):\n",
        "  return(y/6)\n",
        "def fz(x,y,z):\n",
        "  return(z/24)\n",
        "\n",
        "def g(x,y,z):\n",
        "  return(x*y*z - y*y - z)\n",
        "def gx(x,y,z):\n",
        "  return(y*z)\n",
        "def gy(x,y,z):\n",
        "  return(x*z - 2*y)\n",
        "def gz(x,y,z):\n",
        "  return(x*y - 1)\n",
        "\n",
        "def h(x,y,z):\n",
        "  return(np.sin(2*x-y) + x*z - 4)\n",
        "def hx(x,y,z):\n",
        "  return(z + 2*np.cos(2*x - y))\n",
        "def hy(x,y,z):\n",
        "  return((-1)*np.cos(2*x - y))\n",
        "def hz(x,y,z):\n",
        "  return(x)\n",
        "\n",
        "# 초깃값\n",
        "x0 = 1 ; y0 = 1 ; z0 = 1\n",
        "eps = 10e-8 ; xe = 10 ; ye = 10 ; ze = 10\n",
        "\n",
        "# 뉴턴의 방법 (Newton's method)\n",
        "while np.max(np.array([xe,ye,ze])) > eps:\n",
        "  left = np.array([[fx(x0,y0,z0) , fy(x0,y0,z0), fz(x0,y0,z0)],\n",
        "                    [gx(x0,y0,z0), gy(x0,y0,z0), gz(x0,y0,z0)],\n",
        "                    [hx(x0,y0,z0), hy(x0,y0,z0), hz(x0,y0,z0)]])\n",
        "  right = np.array([[(-1)*f(x0,y0,z0) + x0*fx(x0,y0,z0) + y0*fy(x0,y0,z0) + z0*fz(x0,y0,z0)],\n",
        "                    [(-1)*g(x0,y0,z0) + x0*gx(x0,y0,z0) + y0*gy(x0,y0,z0) + z0*gz(x0,y0,z0)],\n",
        "                    [(-1)*h(x0,y0,z0) + x0*hx(x0,y0,z0) + y0*hy(x0,y0,z0) + z0*hz(x0,y0,z0)]])\n",
        "\n",
        "  # 계수 행렬과 방정식의 우변에 해당하는 행렬을 이용하여 다음 k+1번째 해 구하기 !\n",
        "  xold = x0 ; yold = y0 ; zold = z0\n",
        "  x0 += (np.linalg.solve(left, right)[0][0] - x0)\n",
        "  y0 += (np.linalg.solve(left, right)[1][0] - y0)\n",
        "  z0 += (np.linalg.solve(left, right)[2][0] - z0)\n",
        "\n",
        "  # xk+1 - xk = xe, yk+1 - yk = ye, zk+1 - zk = ze\n",
        "  xe = np.abs(x0 - xold)\n",
        "  ye = np.abs(y0 - yold)\n",
        "  ze = np.abs(z0 - zold)\n",
        "\n",
        "  if np.max(np.array([xe,ye,ze])) <= eps:\n",
        "    print(\"(%f, %f, %f)\" %(x0, y0, z0))"
      ],
      "metadata": {
        "colab": {
          "base_uri": "https://localhost:8080/"
        },
        "id": "4EEdlsKZTiGV",
        "outputId": "39db66aa-8987-45c1-d17f-e5cd563eca44"
      },
      "execution_count": null,
      "outputs": [
        {
          "output_type": "stream",
          "name": "stdout",
          "text": [
            "(1.599659, 0.838357, 2.060609)\n"
          ]
        }
      ]
    },
    {
      "cell_type": "markdown",
      "source": [
        "**(b)** $x = 2, y = 3, z = 4$"
      ],
      "metadata": {
        "id": "RBsSHxJDTlNy"
      }
    },
    {
      "cell_type": "code",
      "source": [
        "import numpy as np\n",
        "\n",
        "# 접평면 식\n",
        "def f(x,y,z):\n",
        "  return(x*x/3 + y*y/12 + z*z/48 - 1)\n",
        "def fx(x,y,z):\n",
        "  return(2*x/3)\n",
        "def fy(x,y,z):\n",
        "  return(y/6)\n",
        "def fz(x,y,z):\n",
        "  return(z/24)\n",
        "\n",
        "def g(x,y,z):\n",
        "  return(x*y*z - y*y - z)\n",
        "def gx(x,y,z):\n",
        "  return(y*z)\n",
        "def gy(x,y,z):\n",
        "  return(x*z - 2*y)\n",
        "def gz(x,y,z):\n",
        "  return(x*y - 1)\n",
        "\n",
        "def h(x,y,z):\n",
        "  return(np.sin(2*x-y) + x*z - 4)\n",
        "def hx(x,y,z):\n",
        "  return(z + 2*np.cos(2*x - y))\n",
        "def hy(x,y,z):\n",
        "  return((-1)*np.cos(2*x - y))\n",
        "def hz(x,y,z):\n",
        "  return(x)\n",
        "\n",
        "# 초깃값\n",
        "x0 = 2 ; y0 = 3 ; z0 = 4\n",
        "\n",
        "# 뉴턴의 방법 (Newton's method)\n",
        "eps = 10e-8 ; xe = 10 ; ye = 10 ; ze = 10\n",
        "while np.max(np.array([xe,ye,ze])) > eps:\n",
        "  left = np.array([[fx(x0,y0,z0) , fy(x0,y0,z0), fz(x0,y0,z0)],\n",
        "                    [gx(x0,y0,z0), gy(x0,y0,z0), gz(x0,y0,z0)],\n",
        "                    [hx(x0,y0,z0), hy(x0,y0,z0), hz(x0,y0,z0)]])\n",
        "  right = np.array([[(-1)*f(x0,y0,z0) + x0*fx(x0,y0,z0) + y0*fy(x0,y0,z0) + z0*fz(x0,y0,z0)],\n",
        "                    [(-1)*g(x0,y0,z0) + x0*gx(x0,y0,z0) + y0*gy(x0,y0,z0) + z0*gz(x0,y0,z0)],\n",
        "                    [(-1)*h(x0,y0,z0) + x0*hx(x0,y0,z0) + y0*hy(x0,y0,z0) + z0*hz(x0,y0,z0)]])\n",
        "\n",
        "  # 계수 행렬과 방정식의 우변에 해당하는 행렬을 이용하여 다음 k+1번째 해 구하기 !\n",
        "  xold = x0 ; yold = y0 ; zold = z0\n",
        "  x0 += (np.linalg.solve(left, right)[0][0] - x0)\n",
        "  y0 += (np.linalg.solve(left, right)[1][0] - y0)\n",
        "  z0 += (np.linalg.solve(left, right)[2][0] - z0)\n",
        "\n",
        "  # xk+1 - xk = xe, yk+1 - yk = ye, zk+1 - zk = ze\n",
        "  xe = np.abs(x0 - xold)\n",
        "  ye = np.abs(y0 - yold)\n",
        "  ze = np.abs(z0 - zold)\n",
        "\n",
        "  if np.max(np.array([xe,ye,ze])) <= eps:\n",
        "    print(\"(%f, %f, %f)\" %(x0, y0, z0))"
      ],
      "metadata": {
        "colab": {
          "base_uri": "https://localhost:8080/"
        },
        "id": "qjCsImZsTqGJ",
        "outputId": "c72b38b6-fa1e-4339-ba5f-264ada8713ef"
      },
      "execution_count": null,
      "outputs": [
        {
          "output_type": "stream",
          "name": "stdout",
          "text": [
            "(1.000000, 2.000000, 4.000000)\n"
          ]
        }
      ]
    },
    {
      "cell_type": "markdown",
      "source": [
        "**(c)** 위의 두 가지와는 다른 초깃값 추측 (위의 두 가지와는 다른 해를 구해야 함)"
      ],
      "metadata": {
        "id": "pKbNo0jCTqxN"
      }
    },
    {
      "cell_type": "code",
      "source": [
        "import numpy as np\n",
        "\n",
        "# 접평면 식\n",
        "def f(x,y,z):\n",
        "  return(x*x/3 + y*y/12 + z*z/48 - 1)\n",
        "def fx(x,y,z):\n",
        "  return(2*x/3)\n",
        "def fy(x,y,z):\n",
        "  return(y/6)\n",
        "def fz(x,y,z):\n",
        "  return(z/24)\n",
        "\n",
        "def g(x,y,z):\n",
        "  return(x*y*z - y*y - z)\n",
        "def gx(x,y,z):\n",
        "  return(y*z)\n",
        "def gy(x,y,z):\n",
        "  return(x*z - 2*y)\n",
        "def gz(x,y,z):\n",
        "  return(x*y - 1)\n",
        "\n",
        "def h(x,y,z):\n",
        "  return(np.sin(2*x-y) + x*z - 4)\n",
        "def hx(x,y,z):\n",
        "  return(z + 2*np.cos(2*x - y))\n",
        "def hy(x,y,z):\n",
        "  return((-1)*np.cos(2*x - y))\n",
        "def hz(x,y,z):\n",
        "  return(x)\n",
        "\n",
        "# 초깃값\n",
        "x0 = 0 ; y0 = -1 ; z0 = -2\n",
        "eps = 10e-8 ; xe = 10 ; ye = 10 ; ze = 10\n",
        "\n",
        "# 뉴턴의 방법 (Newton's method)\n",
        "while np.max(np.array([xe,ye,ze])) > eps:\n",
        "  left = np.array([[fx(x0,y0,z0) , fy(x0,y0,z0), fz(x0,y0,z0)],\n",
        "                    [gx(x0,y0,z0), gy(x0,y0,z0), gz(x0,y0,z0)],\n",
        "                    [hx(x0,y0,z0), hy(x0,y0,z0), hz(x0,y0,z0)]])\n",
        "  right = np.array([[(-1)*f(x0,y0,z0) + x0*fx(x0,y0,z0) + y0*fy(x0,y0,z0) + z0*fz(x0,y0,z0)],\n",
        "                    [(-1)*g(x0,y0,z0) + x0*gx(x0,y0,z0) + y0*gy(x0,y0,z0) + z0*gz(x0,y0,z0)],\n",
        "                    [(-1)*h(x0,y0,z0) + x0*hx(x0,y0,z0) + y0*hy(x0,y0,z0) + z0*hz(x0,y0,z0)]])\n",
        "\n",
        "  # 계수 행렬과 방정식의 우변에 해당하는 행렬을 이용하여 다음 k+1번째 해 구하기 !\n",
        "  xold = x0 ; yold = y0 ; zold = z0\n",
        "  x0 += (np.linalg.solve(left, right)[0][0] - x0)\n",
        "  y0 += (np.linalg.solve(left, right)[1][0] - y0)\n",
        "  z0 += (np.linalg.solve(left, right)[2][0] - z0)\n",
        "\n",
        "  # xk+1 - xk = xe, yk+1 - yk = ye, zk+1 - zk = ze\n",
        "  xe = np.abs(x0 - xold)\n",
        "  ye = np.abs(y0 - yold)\n",
        "  ze = np.abs(z0 - zold)\n",
        "\n",
        "  if np.max(np.array([xe,ye,ze])) <= eps:\n",
        "    print(\"(%f, %f, %f)\" %(x0, y0, z0))"
      ],
      "metadata": {
        "colab": {
          "base_uri": "https://localhost:8080/"
        },
        "id": "lZa-7yNeTz5s",
        "outputId": "4203e371-0bf6-41dc-8637-8eff41e7b493"
      },
      "execution_count": null,
      "outputs": [
        {
          "output_type": "stream",
          "name": "stdout",
          "text": [
            "(-0.757437, -1.064667, -5.855473)\n"
          ]
        }
      ]
    },
    {
      "cell_type": "markdown",
      "source": [
        "# 과제 6 _ **#2**\n",
        "\n",
        "다음 미분방정식의 근사해를 아래의 방법을 사용하여 각각 구하라.\n",
        "\n",
        "\\begin{cases}\n",
        "Y'(x) = -\\{Y(x)\\}^2 & \\mbox{(} 1 ≤ x ≤ 2 \\mbox{)} \\\\\n",
        "Y(1) = 1\n",
        "\\end{cases}\n",
        "\n",
        "단, (a)와 (b) 모두 $h = 0.05$를 사용하여 $x = 1.00, 1.05, 1.10, . . . , 2.00$에서 $Y$ 에 대한 근삿값을 구하여 출력해야 한다."
      ],
      "metadata": {
        "id": "oFdRlmnujxz1"
      }
    },
    {
      "cell_type": "markdown",
      "source": [
        "**(a)** 2차 테일러 방법"
      ],
      "metadata": {
        "id": "0rGykhyokVTg"
      }
    },
    {
      "cell_type": "code",
      "source": [
        "import numpy as np\n",
        "\n",
        "# 초깃값\n",
        "y1 = 1\n",
        "h = 0.05\n",
        "\n",
        "# 2차 테일러 방법\n",
        "yn = y1\n",
        "xn = 1\n",
        "print(\"x = %.2f | Y = %f\" %(xn,yn))\n",
        "while xn <= 2:\n",
        "  ynn = yn + h*((-1)*yn*yn) + h*h*yn*yn*yn\n",
        "  xn += 0.05\n",
        "  yn = ynn\n",
        "  print(\"x = %.2f | Y = %f\" %(xn,yn))"
      ],
      "metadata": {
        "colab": {
          "base_uri": "https://localhost:8080/"
        },
        "id": "6Q9upqMVjxPo",
        "outputId": "43554ab6-b72f-4fe2-f0be-2f494c291233"
      },
      "execution_count": null,
      "outputs": [
        {
          "output_type": "stream",
          "name": "stdout",
          "text": [
            "x = 1.00 | Y = 1.000000\n",
            "x = 1.05 | Y = 0.952500\n",
            "x = 1.10 | Y = 0.909298\n",
            "x = 1.15 | Y = 0.869836\n",
            "x = 1.20 | Y = 0.833651\n",
            "x = 1.25 | Y = 0.800350\n",
            "x = 1.30 | Y = 0.769604\n",
            "x = 1.35 | Y = 0.741129\n",
            "x = 1.40 | Y = 0.714683\n",
            "x = 1.45 | Y = 0.690057\n",
            "x = 1.50 | Y = 0.667070\n",
            "x = 1.55 | Y = 0.645563\n",
            "x = 1.60 | Y = 0.625398\n",
            "x = 1.65 | Y = 0.606453\n",
            "x = 1.70 | Y = 0.588621\n",
            "x = 1.75 | Y = 0.571808\n",
            "x = 1.80 | Y = 0.555927\n",
            "x = 1.85 | Y = 0.540904\n",
            "x = 1.90 | Y = 0.526670\n",
            "x = 1.95 | Y = 0.513167\n",
            "x = 2.00 | Y = 0.500337\n"
          ]
        }
      ]
    },
    {
      "cell_type": "markdown",
      "source": [
        "**(b)** 4차 룽게 쿠타 방법"
      ],
      "metadata": {
        "id": "e02mnMpnkYM9"
      }
    },
    {
      "cell_type": "code",
      "source": [
        "### 교과서에 나와 있는 예제 !!!\n",
        "\n",
        "import numpy as np\n",
        "\n",
        "# 초깃값\n",
        "y0 = 1\n",
        "h = 0.05\n",
        "\n",
        "# 4차 룽게 쿠타 방법\n",
        "yn = y0\n",
        "xn = 0\n",
        "print(\"x = %.2f | Y = %f\" %(xn,yn))\n",
        "while xn <= 10:\n",
        "  v1 = (-1) * yn + 2 * np.cos(xn)\n",
        "  v2 = (-1) * (yn + h*v1/2) + 2 * np.cos(xn + h/2)\n",
        "  v3 = (-1) * (yn + h*v2/2) + 2 * np.cos(xn + h/2)\n",
        "  v4 = (-1) * (yn + h*v3) + 2 * np.cos(xn + h)\n",
        "  ynn = yn + h*(v1 + 2*v2 + 2*v3 + v4)/6\n",
        "  xn += 0.05\n",
        "  yn = ynn\n",
        "  print(\"x = %.2f | Y = %f\" %(xn,yn))"
      ],
      "metadata": {
        "colab": {
          "base_uri": "https://localhost:8080/"
        },
        "id": "fH-oKDoFWAz2",
        "outputId": "4eb4d115-c747-4300-fad2-e64506401c03"
      },
      "execution_count": null,
      "outputs": [
        {
          "output_type": "stream",
          "name": "stdout",
          "text": [
            "x = 0.00 | Y = 1.000000\n",
            "x = 0.05 | Y = 1.048729\n",
            "x = 0.10 | Y = 1.094838\n",
            "x = 0.15 | Y = 1.138209\n",
            "x = 0.20 | Y = 1.178736\n",
            "x = 0.25 | Y = 1.216316\n",
            "x = 0.30 | Y = 1.250857\n",
            "x = 0.35 | Y = 1.282270\n",
            "x = 0.40 | Y = 1.310479\n",
            "x = 0.45 | Y = 1.335413\n",
            "x = 0.50 | Y = 1.357008\n",
            "x = 0.55 | Y = 1.375212\n",
            "x = 0.60 | Y = 1.389978\n",
            "x = 0.65 | Y = 1.401270\n",
            "x = 0.70 | Y = 1.409060\n",
            "x = 0.75 | Y = 1.413328\n",
            "x = 0.80 | Y = 1.414063\n",
            "x = 0.85 | Y = 1.411264\n",
            "x = 0.90 | Y = 1.404937\n",
            "x = 0.95 | Y = 1.395099\n",
            "x = 1.00 | Y = 1.381773\n",
            "x = 1.05 | Y = 1.364994\n",
            "x = 1.10 | Y = 1.344803\n",
            "x = 1.15 | Y = 1.321251\n",
            "x = 1.20 | Y = 1.294397\n",
            "x = 1.25 | Y = 1.264307\n",
            "x = 1.30 | Y = 1.231057\n",
            "x = 1.35 | Y = 1.194730\n",
            "x = 1.40 | Y = 1.155417\n",
            "x = 1.45 | Y = 1.113216\n",
            "x = 1.50 | Y = 1.068232\n",
            "x = 1.55 | Y = 1.020579\n",
            "x = 1.60 | Y = 0.970374\n",
            "x = 1.65 | Y = 0.917744\n",
            "x = 1.70 | Y = 0.862820\n",
            "x = 1.75 | Y = 0.805740\n",
            "x = 1.80 | Y = 0.746645\n",
            "x = 1.85 | Y = 0.685685\n",
            "x = 1.90 | Y = 0.623010\n",
            "x = 1.95 | Y = 0.558779\n",
            "x = 2.00 | Y = 0.493151\n",
            "x = 2.05 | Y = 0.426290\n",
            "x = 2.10 | Y = 0.358363\n",
            "x = 2.15 | Y = 0.289541\n",
            "x = 2.20 | Y = 0.219995\n",
            "x = 2.25 | Y = 0.149900\n",
            "x = 2.30 | Y = 0.079429\n",
            "x = 2.35 | Y = 0.008760\n",
            "x = 2.40 | Y = -0.061931\n",
            "x = 2.45 | Y = -0.132467\n",
            "x = 2.50 | Y = -0.202671\n",
            "x = 2.55 | Y = -0.272370\n",
            "x = 2.60 | Y = -0.341387\n",
            "x = 2.65 | Y = -0.409552\n",
            "x = 2.70 | Y = -0.476692\n",
            "x = 2.75 | Y = -0.542641\n",
            "x = 2.80 | Y = -0.607234\n",
            "x = 2.85 | Y = -0.670309\n",
            "x = 2.90 | Y = -0.731709\n",
            "x = 2.95 | Y = -0.791280\n",
            "x = 3.00 | Y = -0.848872\n",
            "x = 3.05 | Y = -0.904344\n",
            "x = 3.10 | Y = -0.957554\n",
            "x = 3.15 | Y = -1.008372\n",
            "x = 3.20 | Y = -1.056669\n",
            "x = 3.25 | Y = -1.102325\n",
            "x = 3.30 | Y = -1.145225\n",
            "x = 3.35 | Y = -1.185264\n",
            "x = 3.40 | Y = -1.222339\n",
            "x = 3.45 | Y = -1.256360\n",
            "x = 3.50 | Y = -1.287240\n",
            "x = 3.55 | Y = -1.314903\n",
            "x = 3.60 | Y = -1.339279\n",
            "x = 3.65 | Y = -1.360308\n",
            "x = 3.70 | Y = -1.377936\n",
            "x = 3.75 | Y = -1.392121\n",
            "x = 3.80 | Y = -1.402826\n",
            "x = 3.85 | Y = -1.410024\n",
            "x = 3.90 | Y = -1.413698\n",
            "x = 3.95 | Y = -1.413839\n",
            "x = 4.00 | Y = -1.410446\n",
            "x = 4.05 | Y = -1.403528\n",
            "x = 4.10 | Y = -1.393101\n",
            "x = 4.15 | Y = -1.379192\n",
            "x = 4.20 | Y = -1.361837\n",
            "x = 4.25 | Y = -1.341077\n",
            "x = 4.30 | Y = -1.316965\n",
            "x = 4.35 | Y = -1.289562\n",
            "x = 4.40 | Y = -1.258935\n",
            "x = 4.45 | Y = -1.225162\n",
            "x = 4.50 | Y = -1.188326\n",
            "x = 4.55 | Y = -1.148520\n",
            "x = 4.60 | Y = -1.105843\n",
            "x = 4.65 | Y = -1.060403\n",
            "x = 4.70 | Y = -1.012312\n",
            "x = 4.75 | Y = -0.961691\n",
            "x = 4.80 | Y = -0.908666\n",
            "x = 4.85 | Y = -0.853369\n",
            "x = 4.90 | Y = -0.795940\n",
            "x = 4.95 | Y = -0.736522\n",
            "x = 5.00 | Y = -0.675262\n",
            "x = 5.05 | Y = -0.612315\n",
            "x = 5.10 | Y = -0.547837\n",
            "x = 5.15 | Y = -0.481990\n",
            "x = 5.20 | Y = -0.414938\n",
            "x = 5.25 | Y = -0.346849\n",
            "x = 5.30 | Y = -0.277893\n",
            "x = 5.35 | Y = -0.208243\n",
            "x = 5.40 | Y = -0.138072\n",
            "x = 5.45 | Y = -0.067555\n",
            "x = 5.50 | Y = 0.003129\n",
            "x = 5.55 | Y = 0.073807\n",
            "x = 5.60 | Y = 0.144299\n",
            "x = 5.65 | Y = 0.214431\n",
            "x = 5.70 | Y = 0.284027\n",
            "x = 5.75 | Y = 0.352913\n",
            "x = 5.80 | Y = 0.420917\n",
            "x = 5.85 | Y = 0.487869\n",
            "x = 5.90 | Y = 0.553602\n",
            "x = 5.95 | Y = 0.617951\n",
            "x = 6.00 | Y = 0.680755\n",
            "x = 6.05 | Y = 0.741857\n",
            "x = 6.10 | Y = 0.801106\n",
            "x = 6.15 | Y = 0.858352\n",
            "x = 6.20 | Y = 0.913453\n",
            "x = 6.25 | Y = 0.966270\n",
            "x = 6.30 | Y = 1.016673\n",
            "x = 6.35 | Y = 1.064534\n",
            "x = 6.40 | Y = 1.109734\n",
            "x = 6.45 | Y = 1.152161\n",
            "x = 6.50 | Y = 1.191708\n",
            "x = 6.55 | Y = 1.228276\n",
            "x = 6.60 | Y = 1.261774\n",
            "x = 6.65 | Y = 1.292118\n",
            "x = 6.70 | Y = 1.319233\n",
            "x = 6.75 | Y = 1.343050\n",
            "x = 6.80 | Y = 1.363511\n",
            "x = 6.85 | Y = 1.380563\n",
            "x = 6.90 | Y = 1.394165\n",
            "x = 6.95 | Y = 1.404282\n",
            "x = 7.00 | Y = 1.410889\n",
            "x = 7.05 | Y = 1.413969\n",
            "x = 7.10 | Y = 1.413516\n",
            "x = 7.15 | Y = 1.409529\n",
            "x = 7.20 | Y = 1.402019\n",
            "x = 7.25 | Y = 1.391005\n",
            "x = 7.30 | Y = 1.376514\n",
            "x = 7.35 | Y = 1.358583\n",
            "x = 7.40 | Y = 1.337255\n",
            "x = 7.45 | Y = 1.312586\n",
            "x = 7.50 | Y = 1.284635\n",
            "x = 7.55 | Y = 1.253474\n",
            "x = 7.60 | Y = 1.219179\n",
            "x = 7.65 | Y = 1.181838\n",
            "x = 7.70 | Y = 1.141542\n",
            "x = 7.75 | Y = 1.098393\n",
            "x = 7.80 | Y = 1.052499\n",
            "x = 7.85 | Y = 1.003974\n",
            "x = 7.90 | Y = 0.952939\n",
            "x = 7.95 | Y = 0.899523\n",
            "x = 8.00 | Y = 0.843858\n",
            "x = 8.05 | Y = 0.786084\n",
            "x = 8.10 | Y = 0.726346\n",
            "x = 8.15 | Y = 0.664791\n",
            "x = 8.20 | Y = 0.601576\n",
            "x = 8.25 | Y = 0.536856\n",
            "x = 8.30 | Y = 0.470795\n",
            "x = 8.35 | Y = 0.403557\n",
            "x = 8.40 | Y = 0.335310\n",
            "x = 8.45 | Y = 0.266225\n",
            "x = 8.50 | Y = 0.196475\n",
            "x = 8.55 | Y = 0.126234\n",
            "x = 8.60 | Y = 0.055677\n",
            "x = 8.65 | Y = -0.015019\n",
            "x = 8.70 | Y = -0.085677\n",
            "x = 8.75 | Y = -0.156122\n",
            "x = 8.80 | Y = -0.226176\n",
            "x = 8.85 | Y = -0.295665\n",
            "x = 8.90 | Y = -0.364414\n",
            "x = 8.95 | Y = -0.432253\n",
            "x = 9.00 | Y = -0.499012\n",
            "x = 9.05 | Y = -0.564523\n",
            "x = 9.10 | Y = -0.628623\n",
            "x = 9.15 | Y = -0.691152\n",
            "x = 9.20 | Y = -0.751954\n",
            "x = 9.25 | Y = -0.810876\n",
            "x = 9.30 | Y = -0.867771\n",
            "x = 9.35 | Y = -0.922497\n",
            "x = 9.40 | Y = -0.974918\n",
            "x = 9.45 | Y = -1.024901\n",
            "x = 9.50 | Y = -1.072323\n",
            "x = 9.55 | Y = -1.117065\n",
            "x = 9.60 | Y = -1.159015\n",
            "x = 9.65 | Y = -1.198067\n",
            "x = 9.70 | Y = -1.234125\n",
            "x = 9.75 | Y = -1.267099\n",
            "x = 9.80 | Y = -1.296905\n",
            "x = 9.85 | Y = -1.323470\n",
            "x = 9.90 | Y = -1.346727\n",
            "x = 9.95 | Y = -1.366618\n",
            "x = 10.00 | Y = -1.383093\n"
          ]
        }
      ]
    },
    {
      "cell_type": "code",
      "source": [
        "import numpy as np\n",
        "\n",
        "# 초깃값\n",
        "y1 = 1\n",
        "h = 0.05\n",
        "\n",
        "# 4차 룽게 쿠타 방법\n",
        "yn = y1\n",
        "xn = 1\n",
        "print(\"x = %.2f | Y = %f\" %(xn,yn))\n",
        "while xn <= 2:\n",
        "  v1 = (-1) * yn * yn\n",
        "  v2 = (-1) * (yn + h*v1/2) * (yn + h*v1/2)\n",
        "  v3 = (-1) * (yn + h*v2/2) * (yn + h*v2/2)\n",
        "  v4 = (-1) * (yn + h*v3) * (yn + h*v3)\n",
        "  ynn = yn + h*(v1 + 2*v2 + 2*v3 + v4)/6\n",
        "  xn += 0.05\n",
        "  yn = ynn\n",
        "  print(\"x = %.2f | Y = %f\" %(xn,yn))"
      ],
      "metadata": {
        "colab": {
          "base_uri": "https://localhost:8080/"
        },
        "id": "hdtwBG8vkbLR",
        "outputId": "543fbbea-7f82-405c-af39-8eef1c506c83"
      },
      "execution_count": null,
      "outputs": [
        {
          "output_type": "stream",
          "name": "stdout",
          "text": [
            "x = 1.00 | Y = 1.000000\n",
            "x = 1.05 | Y = 0.952381\n",
            "x = 1.10 | Y = 0.909091\n",
            "x = 1.15 | Y = 0.869565\n",
            "x = 1.20 | Y = 0.833333\n",
            "x = 1.25 | Y = 0.800000\n",
            "x = 1.30 | Y = 0.769231\n",
            "x = 1.35 | Y = 0.740741\n",
            "x = 1.40 | Y = 0.714286\n",
            "x = 1.45 | Y = 0.689655\n",
            "x = 1.50 | Y = 0.666667\n",
            "x = 1.55 | Y = 0.645161\n",
            "x = 1.60 | Y = 0.625000\n",
            "x = 1.65 | Y = 0.606061\n",
            "x = 1.70 | Y = 0.588235\n",
            "x = 1.75 | Y = 0.571429\n",
            "x = 1.80 | Y = 0.555556\n",
            "x = 1.85 | Y = 0.540541\n",
            "x = 1.90 | Y = 0.526316\n",
            "x = 1.95 | Y = 0.512821\n",
            "x = 2.00 | Y = 0.500000\n"
          ]
        }
      ]
    },
    {
      "cell_type": "markdown",
      "source": [
        "# 과제 6 _ **#3**\n",
        "\n",
        "2차 유한차분 방법(finite difference method)을 사용하여 다음 미분방정식의 근사해를 구하라.\n",
        "\n",
        "\\begin{cases}\n",
        "Y''(x) = 2xY'(x) + xY(x) + x(3x^2 - 5)e^x & \\mbox{(} 0 ≤ x ≤ 1 \\mbox{)} \\\\\n",
        "Y(0) = Y(1) = 0\n",
        "\\end{cases}\n",
        "\n",
        "단, $N = 100$, 즉 $h = 0.01$를 사용하여 $x = 0.00, 0.01, 0.02, . . . , 1.00$에서 $Y$ 에 대한 근삿값을 구하여 출력해야 한다."
      ],
      "metadata": {
        "id": "GtuZTIzIkbli"
      }
    },
    {
      "cell_type": "code",
      "source": [
        "import numpy as np\n",
        "\n",
        "def p(x):\n",
        "  return(2*x)\n",
        "def q(x):\n",
        "  return(x)\n",
        "def r(x):\n",
        "  return(x*(3*x*x - 5)*np.exp(x))\n",
        "\n",
        "# 삼중대각 연립방정식을 푸는 함수\n",
        "  ## m: 자연수\n",
        "  ## l: m-1 차원 열벡터 (A의 주대각선 바로 아래의 원소들, 첨자: 2 ~ m)\n",
        "  ## d: m차원 열벡터 (A의 주대각선 원소들, 첨자: 1 ~ m)\n",
        "  ## u: m-1 차원 열벡터 (A의 주대각선 바로 위의 원소들, 첨자: 1 ~ (m-1))\n",
        "  ## f: m차원 열벡터 (방정식의 우변)\n",
        "  ## y: 해\n",
        "def tridiag(m,l,d,u,f,y):\n",
        "  mm = m-1\n",
        "  mp = m+1\n",
        "  for j in range(2,mp):\n",
        "    jm = j-1\n",
        "    l[j] = l[j]/d[jm]\n",
        "    d[j] = d[j]-l[j]*u[jm]\n",
        "    f[j] = f[j]-l[j]*f[jm]\n",
        "  y[m] = f[m]/d[m]\n",
        "  for j in range(mm,0,-1):\n",
        "    y[j] = (f[j] - u[j]*y[j+1]) / d[j]\n",
        "  return(y)\n",
        "\n",
        "# 초기화\n",
        "n = 100\n",
        "a = 0 ; b = 1\n",
        "g1 = 0 ; g2 = 0\n",
        "h = 0.01\n",
        "h2 = h/2\n",
        "hh = h*h\n",
        "nm1 = n-1\n",
        "nm2 = n-2\n",
        "y = [None]*n\n",
        "l = [None]*n\n",
        "d = [None]*n\n",
        "u = [None]*n\n",
        "f = [None]*n\n",
        "\n",
        "# 3중대각행렬 및 우변벡터의 구성\n",
        "x = a + h\n",
        "d[1] = 2 + hh*q(x)\n",
        "temp = h2*p(x)\n",
        "u[1] = temp-1\n",
        "f[1] = -hh*r(x) + (1+temp)*g1\n",
        "for i in range(2,nm1):\n",
        "  x = a + i*h\n",
        "  temp = h2*p(x)\n",
        "  l[i] = -1 - temp\n",
        "  d[i] = 2 + hh*q(x)\n",
        "  u[i] = temp-1\n",
        "  f[i] = -hh*r(x)\n",
        "x = a + nm1*h\n",
        "temp = h2*p(x)\n",
        "l[nm1] = -1 - temp\n",
        "d[nm1] = 2 + hh*q(x)\n",
        "f[nm1] = -hh*r(x) + (1 - temp)*g2\n",
        "\n",
        "# 삼중대각 연립방정식의 해를 구함\n",
        "tridiag(nm1,l,d,u,f,y)\n",
        "for i in range(1,len(y)):\n",
        "  print(y[i])\n"
      ],
      "metadata": {
        "id": "pSKMlsD1k_qp",
        "colab": {
          "base_uri": "https://localhost:8080/"
        },
        "outputId": "f89f6d1d-5201-41ed-ecab-9ff197ec68ed"
      },
      "execution_count": null,
      "outputs": [
        {
          "output_type": "stream",
          "name": "stdout",
          "text": [
            "0.009999388073505616\n",
            "0.019995735772156152\n",
            "0.029985921203987277\n",
            "0.03996673942334978\n",
            "0.04993490086961925\n",
            "0.05988702978082852\n",
            "0.06981966258185568\n",
            "0.07972924624679506\n",
            "0.08961213663513364\n",
            "0.09946459680135013\n",
            "0.10928279527754871\n",
            "0.11906280432873374\n",
            "0.12880059818032713\n",
            "0.13849205121752364\n",
            "0.14813293615607445\n",
            "0.15771892218408357\n",
            "0.1672455730743959\n",
            "0.17670834526714982\n",
            "0.18610258592206194\n",
            "0.19542353094000467\n",
            "0.20466630295343252\n",
            "0.2138259092852058\n",
            "0.22289723987535515\n",
            "0.23187506517532327\n",
            "0.24075403400921447\n",
            "0.2495286714015762\n",
            "0.2581933763712301\n",
            "0.26674241969066276\n",
            "0.2751699416104816\n",
            "0.2834699495484327\n",
            "0.29163631574247123\n",
            "0.2996627748673685\n",
            "0.30754292161433217\n",
            "0.31527020823310936\n",
            "0.32283794203603433\n",
            "0.33023928286347676\n",
            "0.337467240510138\n",
            "0.3445146721116345\n",
            "0.3513742794908027\n",
            "0.3580386064631486\n",
            "0.3645000361008596\n",
            "0.37075078795478866\n",
            "0.3767829152338102\n",
            "0.3825883019409416\n",
            "0.38815865996561644\n",
            "0.39348552613148274\n",
            "0.39856025919909754\n",
            "0.4033740368228749\n",
            "0.4079178524616401\n",
            "0.41218251224212965\n",
            "0.41615863177477325\n",
            "0.419836632921079\n",
            "0.42320674051193885\n",
            "0.4262589790161587\n",
            "0.42898316915851115\n",
            "0.43136892448659553\n",
            "0.4334056478857845\n",
            "0.4350825280415243\n",
            "0.43638853584824555\n",
            "0.4373124207641326\n",
            "0.43784270711099016\n",
            "0.4379676903184324\n",
            "0.43767543311161294\n",
            "0.43695376164170174\n",
            "0.43579026155830425\n",
            "0.43417227402300745\n",
            "0.4320868916632274\n",
            "0.4295209544655205\n",
            "0.4264610456075104\n",
            "0.42289348722756964\n",
            "0.418804336131386\n",
            "0.41417937943452965\n",
            "0.40900413014012554\n",
            "0.40326382265072547\n",
            "0.396943408213459\n",
            "0.39002755029753233\n",
            "0.38250061990313167\n",
            "0.3743466908007731\n",
            "0.36554953470013013\n",
            "0.3560926163473567\n",
            "0.3459590885499089\n",
            "0.33513178712785596\n",
            "0.3235932257906596\n",
            "0.31132559093838336\n",
            "0.2983107363862829\n",
            "0.28453017801171177\n",
            "0.26996508832226435\n",
            "0.25459629094406294\n",
            "0.23840425502908044\n",
            "0.22136908958037682\n",
            "0.20347053769411017\n",
            "0.18468797071716997\n",
            "0.16500038231926403\n",
            "0.14438638247827412\n",
            "0.12282419137767996\n",
            "0.10029163321483575\n",
            "0.07676612991886561\n",
            "0.05222469477692875\n",
            "0.026643925967588314\n"
          ]
        }
      ]
    },
    {
      "cell_type": "code",
      "source": [],
      "metadata": {
        "id": "8jyaSB9SFgaj"
      },
      "execution_count": null,
      "outputs": []
    }
  ]
}